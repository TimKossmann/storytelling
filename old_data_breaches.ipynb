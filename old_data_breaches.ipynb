{
 "cells": [
  {
   "cell_type": "code",
   "execution_count": 92,
   "metadata": {},
   "outputs": [
    {
     "name": "stdout",
     "output_type": "stream",
     "text": [
      "                    organisation\n",
      "0                            NaN\n",
      "1                         Twitch\n",
      "2                      Syniverse\n",
      "3                 Pandora Papers\n",
      "4                  Neiman Marcus\n",
      "..                           ...\n",
      "388              Hewlett Packard\n",
      "389              Ameritrade Inc.\n",
      "390                    Citigroup\n",
      "391  Cardsystems Solutions Inc. \n",
      "392                          AOL\n",
      "\n",
      "[393 rows x 1 columns]\n"
     ]
    }
   ],
   "source": [
    "import plotly.express as px\n",
    "import dash\n",
    "import pandas as pd \n",
    "import numpy as np\n",
    "import random\n",
    "\n",
    "df = pd.read_excel(\"./datasets/DataBreaches.xlsx\")\n",
    "\n",
    "def front(self, n):\n",
    "    return self.iloc[:, :n]\n",
    "\n",
    "pd.DataFrame.front=front\n",
    "print(df.front(1))\n"
   ]
  },
  {
   "cell_type": "code",
   "execution_count": 93,
   "metadata": {},
   "outputs": [
    {
     "name": "stdout",
     "output_type": "stream",
     "text": [
      "                    organisation\n",
      "1                         Twitch\n",
      "2                      Syniverse\n",
      "3                 Pandora Papers\n",
      "4                  Neiman Marcus\n",
      "5                           Epik\n",
      "..                           ...\n",
      "388              Hewlett Packard\n",
      "389              Ameritrade Inc.\n",
      "390                    Citigroup\n",
      "391  Cardsystems Solutions Inc. \n",
      "392                          AOL\n",
      "\n",
      "[392 rows x 1 columns]\n"
     ]
    }
   ],
   "source": [
    "# Löschen der ersten Zeile\n",
    "df = df.drop(df.index[[0]])\n",
    "print(df.front(1))\n"
   ]
  },
  {
   "cell_type": "code",
   "execution_count": 94,
   "metadata": {},
   "outputs": [
    {
     "data": {
      "text/plain": [
       "organisation                 object\n",
       "alternative name             object\n",
       "records lost                 object\n",
       "year                         object\n",
       "date                 datetime64[ns]\n",
       "story                        object\n",
       "sector                       object\n",
       "method                       object\n",
       "interesting story            object\n",
       "data sensitivity             object\n",
       "displayed records            object\n",
       "Unnamed: 11                 float64\n",
       "source name                  object\n",
       "1st source link              object\n",
       "2nd source link              object\n",
       "ID                          float64\n",
       "dtype: object"
      ]
     },
     "execution_count": 94,
     "metadata": {},
     "output_type": "execute_result"
    }
   ],
   "source": [
    "df.dtypes\n"
   ]
  },
  {
   "cell_type": "code",
   "execution_count": 95,
   "metadata": {},
   "outputs": [],
   "source": [
    "# Spalte year umbennene (aufgrund von Leerzeichen nach \"year\")\n",
    "df = df.rename(columns= {'year   ':'year'})"
   ]
  },
  {
   "cell_type": "code",
   "execution_count": 96,
   "metadata": {},
   "outputs": [
    {
     "ename": "ValueError",
     "evalue": "Length of values (10) does not match length of index (392)",
     "output_type": "error",
     "traceback": [
      "\u001b[1;31m---------------------------------------------------------------------------\u001b[0m",
      "\u001b[1;31mValueError\u001b[0m                                Traceback (most recent call last)",
      "\u001b[1;32m~\\AppData\\Local\\Temp/ipykernel_11196/1623340285.py\u001b[0m in \u001b[0;36m<module>\u001b[1;34m\u001b[0m\n\u001b[0;32m      1\u001b[0m \u001b[1;31m# neue Spalte für Anordnung der Bubbles (Werte random sortiert)\u001b[0m\u001b[1;33m\u001b[0m\u001b[1;33m\u001b[0m\u001b[1;33m\u001b[0m\u001b[0m\n\u001b[1;32m----> 2\u001b[1;33m \u001b[0mdf\u001b[0m\u001b[1;33m[\u001b[0m\u001b[1;34m'randNumCol'\u001b[0m\u001b[1;33m]\u001b[0m \u001b[1;33m=\u001b[0m \u001b[0mrandom\u001b[0m\u001b[1;33m.\u001b[0m\u001b[0msample\u001b[0m\u001b[1;33m(\u001b[0m\u001b[0mrange\u001b[0m\u001b[1;33m(\u001b[0m\u001b[1;36m100\u001b[0m\u001b[1;33m)\u001b[0m\u001b[1;33m,\u001b[0m \u001b[1;36m10\u001b[0m\u001b[1;33m)\u001b[0m\u001b[1;33m\u001b[0m\u001b[1;33m\u001b[0m\u001b[0m\n\u001b[0m",
      "\u001b[1;32m~\\anaconda3\\envs\\dash_py3.8\\lib\\site-packages\\pandas\\core\\frame.py\u001b[0m in \u001b[0;36m__setitem__\u001b[1;34m(self, key, value)\u001b[0m\n\u001b[0;32m   3605\u001b[0m         \u001b[1;32melse\u001b[0m\u001b[1;33m:\u001b[0m\u001b[1;33m\u001b[0m\u001b[1;33m\u001b[0m\u001b[0m\n\u001b[0;32m   3606\u001b[0m             \u001b[1;31m# set column\u001b[0m\u001b[1;33m\u001b[0m\u001b[1;33m\u001b[0m\u001b[1;33m\u001b[0m\u001b[0m\n\u001b[1;32m-> 3607\u001b[1;33m             \u001b[0mself\u001b[0m\u001b[1;33m.\u001b[0m\u001b[0m_set_item\u001b[0m\u001b[1;33m(\u001b[0m\u001b[0mkey\u001b[0m\u001b[1;33m,\u001b[0m \u001b[0mvalue\u001b[0m\u001b[1;33m)\u001b[0m\u001b[1;33m\u001b[0m\u001b[1;33m\u001b[0m\u001b[0m\n\u001b[0m\u001b[0;32m   3608\u001b[0m \u001b[1;33m\u001b[0m\u001b[0m\n\u001b[0;32m   3609\u001b[0m     \u001b[1;32mdef\u001b[0m \u001b[0m_setitem_slice\u001b[0m\u001b[1;33m(\u001b[0m\u001b[0mself\u001b[0m\u001b[1;33m,\u001b[0m \u001b[0mkey\u001b[0m\u001b[1;33m:\u001b[0m \u001b[0mslice\u001b[0m\u001b[1;33m,\u001b[0m \u001b[0mvalue\u001b[0m\u001b[1;33m)\u001b[0m\u001b[1;33m:\u001b[0m\u001b[1;33m\u001b[0m\u001b[1;33m\u001b[0m\u001b[0m\n",
      "\u001b[1;32m~\\anaconda3\\envs\\dash_py3.8\\lib\\site-packages\\pandas\\core\\frame.py\u001b[0m in \u001b[0;36m_set_item\u001b[1;34m(self, key, value)\u001b[0m\n\u001b[0;32m   3777\u001b[0m         \u001b[0mensure\u001b[0m \u001b[0mhomogeneity\u001b[0m\u001b[1;33m.\u001b[0m\u001b[1;33m\u001b[0m\u001b[1;33m\u001b[0m\u001b[0m\n\u001b[0;32m   3778\u001b[0m         \"\"\"\n\u001b[1;32m-> 3779\u001b[1;33m         \u001b[0mvalue\u001b[0m \u001b[1;33m=\u001b[0m \u001b[0mself\u001b[0m\u001b[1;33m.\u001b[0m\u001b[0m_sanitize_column\u001b[0m\u001b[1;33m(\u001b[0m\u001b[0mvalue\u001b[0m\u001b[1;33m)\u001b[0m\u001b[1;33m\u001b[0m\u001b[1;33m\u001b[0m\u001b[0m\n\u001b[0m\u001b[0;32m   3780\u001b[0m \u001b[1;33m\u001b[0m\u001b[0m\n\u001b[0;32m   3781\u001b[0m         if (\n",
      "\u001b[1;32m~\\anaconda3\\envs\\dash_py3.8\\lib\\site-packages\\pandas\\core\\frame.py\u001b[0m in \u001b[0;36m_sanitize_column\u001b[1;34m(self, value)\u001b[0m\n\u001b[0;32m   4502\u001b[0m \u001b[1;33m\u001b[0m\u001b[0m\n\u001b[0;32m   4503\u001b[0m         \u001b[1;32mif\u001b[0m \u001b[0mis_list_like\u001b[0m\u001b[1;33m(\u001b[0m\u001b[0mvalue\u001b[0m\u001b[1;33m)\u001b[0m\u001b[1;33m:\u001b[0m\u001b[1;33m\u001b[0m\u001b[1;33m\u001b[0m\u001b[0m\n\u001b[1;32m-> 4504\u001b[1;33m             \u001b[0mcom\u001b[0m\u001b[1;33m.\u001b[0m\u001b[0mrequire_length_match\u001b[0m\u001b[1;33m(\u001b[0m\u001b[0mvalue\u001b[0m\u001b[1;33m,\u001b[0m \u001b[0mself\u001b[0m\u001b[1;33m.\u001b[0m\u001b[0mindex\u001b[0m\u001b[1;33m)\u001b[0m\u001b[1;33m\u001b[0m\u001b[1;33m\u001b[0m\u001b[0m\n\u001b[0m\u001b[0;32m   4505\u001b[0m         \u001b[1;32mreturn\u001b[0m \u001b[0msanitize_array\u001b[0m\u001b[1;33m(\u001b[0m\u001b[0mvalue\u001b[0m\u001b[1;33m,\u001b[0m \u001b[0mself\u001b[0m\u001b[1;33m.\u001b[0m\u001b[0mindex\u001b[0m\u001b[1;33m,\u001b[0m \u001b[0mcopy\u001b[0m\u001b[1;33m=\u001b[0m\u001b[1;32mTrue\u001b[0m\u001b[1;33m,\u001b[0m \u001b[0mallow_2d\u001b[0m\u001b[1;33m=\u001b[0m\u001b[1;32mTrue\u001b[0m\u001b[1;33m)\u001b[0m\u001b[1;33m\u001b[0m\u001b[1;33m\u001b[0m\u001b[0m\n\u001b[0;32m   4506\u001b[0m \u001b[1;33m\u001b[0m\u001b[0m\n",
      "\u001b[1;32m~\\anaconda3\\envs\\dash_py3.8\\lib\\site-packages\\pandas\\core\\common.py\u001b[0m in \u001b[0;36mrequire_length_match\u001b[1;34m(data, index)\u001b[0m\n\u001b[0;32m    529\u001b[0m     \"\"\"\n\u001b[0;32m    530\u001b[0m     \u001b[1;32mif\u001b[0m \u001b[0mlen\u001b[0m\u001b[1;33m(\u001b[0m\u001b[0mdata\u001b[0m\u001b[1;33m)\u001b[0m \u001b[1;33m!=\u001b[0m \u001b[0mlen\u001b[0m\u001b[1;33m(\u001b[0m\u001b[0mindex\u001b[0m\u001b[1;33m)\u001b[0m\u001b[1;33m:\u001b[0m\u001b[1;33m\u001b[0m\u001b[1;33m\u001b[0m\u001b[0m\n\u001b[1;32m--> 531\u001b[1;33m         raise ValueError(\n\u001b[0m\u001b[0;32m    532\u001b[0m             \u001b[1;34m\"Length of values \"\u001b[0m\u001b[1;33m\u001b[0m\u001b[1;33m\u001b[0m\u001b[0m\n\u001b[0;32m    533\u001b[0m             \u001b[1;34mf\"({len(data)}) \"\u001b[0m\u001b[1;33m\u001b[0m\u001b[1;33m\u001b[0m\u001b[0m\n",
      "\u001b[1;31mValueError\u001b[0m: Length of values (10) does not match length of index (392)"
     ]
    }
   ],
   "source": [
    "# neue Spalte für Anordnung der Bubbles (Werte random sortiert)\n",
    "df['randNumCol'] = random.sample(range(100), 10)"
   ]
  },
  {
   "cell_type": "code",
   "execution_count": null,
   "metadata": {},
   "outputs": [
    {
     "data": {
      "text/plain": [
       "organisation                 object\n",
       "alternative name             object\n",
       "records lost                float64\n",
       "year                         object\n",
       "date                 datetime64[ns]\n",
       "story                        object\n",
       "sector                       object\n",
       "method                       object\n",
       "interesting story            object\n",
       "data sensitivity             object\n",
       "displayed records            object\n",
       "Unnamed: 11                 float64\n",
       "source name                  object\n",
       "1st source link              object\n",
       "2nd source link              object\n",
       "ID                          float64\n",
       "randNumCol                    int32\n",
       "dtype: object"
      ]
     },
     "execution_count": 80,
     "metadata": {},
     "output_type": "execute_result"
    }
   ],
   "source": [
    "\n",
    "# Umwandlung des Datentyps von records lost von Object in numeric\n",
    "df[\"records lost\"] = pd.to_numeric(df[\"records lost\"])\n",
    "df.dtypes"
   ]
  },
  {
   "cell_type": "code",
   "execution_count": null,
   "metadata": {},
   "outputs": [
    {
     "data": {
      "text/plain": [
       "organisation                 string\n",
       "alternative name             object\n",
       "records lost                float64\n",
       "year                         object\n",
       "date                 datetime64[ns]\n",
       "story                        object\n",
       "sector                       object\n",
       "method                       object\n",
       "interesting story            object\n",
       "data sensitivity             object\n",
       "displayed records            object\n",
       "Unnamed: 11                 float64\n",
       "source name                  object\n",
       "1st source link              object\n",
       "2nd source link              object\n",
       "ID                          float64\n",
       "randNumCol                    int32\n",
       "dtype: object"
      ]
     },
     "execution_count": 81,
     "metadata": {},
     "output_type": "execute_result"
    }
   ],
   "source": [
    "# Umwandlung des Datentyps von Organisation von Object in string\n",
    "df[\"organisation\"] = df[\"organisation\"].astype(\"string\")\n",
    "df.dtypes"
   ]
  },
  {
   "cell_type": "code",
   "execution_count": null,
   "metadata": {},
   "outputs": [
    {
     "data": {
      "text/plain": [
       "organisation                 string\n",
       "alternative name             object\n",
       "records lost                float64\n",
       "year                        float64\n",
       "date                 datetime64[ns]\n",
       "story                        object\n",
       "sector                       object\n",
       "method                       object\n",
       "interesting story            object\n",
       "data sensitivity             object\n",
       "displayed records            object\n",
       "Unnamed: 11                 float64\n",
       "source name                  object\n",
       "1st source link              object\n",
       "2nd source link              object\n",
       "ID                          float64\n",
       "randNumCol                    int32\n",
       "dtype: object"
      ]
     },
     "execution_count": 82,
     "metadata": {},
     "output_type": "execute_result"
    }
   ],
   "source": [
    "# Umwandlung des Datentyps von Year von Object in Numeric\n",
    "df[\"year\"] = pd.to_numeric(df[\"year\"])\n",
    "df.dtypes"
   ]
  },
  {
   "cell_type": "code",
   "execution_count": null,
   "metadata": {},
   "outputs": [
    {
     "data": {
      "application/vnd.plotly.v1+json": {
       "config": {
        "plotlyServerURL": "https://plot.ly"
       },
       "data": [
        {
         "hovertemplate": "<b>%{hovertext}</b><br><br>organisation=Twitch<br>randNumCol=%{x}<br>year=%{y}<br>records lost=%{marker.size}<extra></extra>",
         "hovertext": [
          "Twitch",
          "Twitch"
         ],
         "legendgroup": "Twitch",
         "marker": {
          "color": "#636efa",
          "size": [
           10000000,
           10000000
          ],
          "sizemode": "area",
          "sizeref": 194444.44444444444,
          "symbol": "circle"
         },
         "mode": "markers",
         "name": "Twitch",
         "orientation": "v",
         "showlegend": true,
         "type": "scatter",
         "x": [
          58,
          90
         ],
         "xaxis": "x",
         "y": [
          2021,
          2015
         ],
         "yaxis": "y"
        },
        {
         "hovertemplate": "<b>%{hovertext}</b><br><br>organisation=Syniverse<br>randNumCol=%{x}<br>year=%{y}<br>records lost=%{marker.size}<extra></extra>",
         "hovertext": [
          "Syniverse"
         ],
         "legendgroup": "Syniverse",
         "marker": {
          "color": "#EF553B",
          "size": [
           500000000
          ],
          "sizemode": "area",
          "sizeref": 194444.44444444444,
          "symbol": "circle"
         },
         "mode": "markers",
         "name": "Syniverse",
         "orientation": "v",
         "showlegend": true,
         "type": "scatter",
         "x": [
          94
         ],
         "xaxis": "x",
         "y": [
          2021
         ],
         "yaxis": "y"
        },
        {
         "hovertemplate": "<b>%{hovertext}</b><br><br>organisation=Pandora Papers<br>randNumCol=%{x}<br>year=%{y}<br>records lost=%{marker.size}<extra></extra>",
         "hovertext": [
          "Pandora Papers"
         ],
         "legendgroup": "Pandora Papers",
         "marker": {
          "color": "#00cc96",
          "size": [
           11900000
          ],
          "sizemode": "area",
          "sizeref": 194444.44444444444,
          "symbol": "circle"
         },
         "mode": "markers",
         "name": "Pandora Papers",
         "orientation": "v",
         "showlegend": true,
         "type": "scatter",
         "x": [
          78
         ],
         "xaxis": "x",
         "y": [
          2021
         ],
         "yaxis": "y"
        },
        {
         "hovertemplate": "<b>%{hovertext}</b><br><br>organisation=Neiman Marcus<br>randNumCol=%{x}<br>year=%{y}<br>records lost=%{marker.size}<extra></extra>",
         "hovertext": [
          "Neiman Marcus",
          "Neiman Marcus"
         ],
         "legendgroup": "Neiman Marcus",
         "marker": {
          "color": "#ab63fa",
          "size": [
           4600000,
           1100000
          ],
          "sizemode": "area",
          "sizeref": 194444.44444444444,
          "symbol": "circle"
         },
         "mode": "markers",
         "name": "Neiman Marcus",
         "orientation": "v",
         "showlegend": true,
         "type": "scatter",
         "x": [
          71,
          96
         ],
         "xaxis": "x",
         "y": [
          2021,
          2014
         ],
         "yaxis": "y"
        },
        {
         "hovertemplate": "<b>%{hovertext}</b><br><br>organisation=Epik<br>randNumCol=%{x}<br>year=%{y}<br>records lost=%{marker.size}<extra></extra>",
         "hovertext": [
          "Epik"
         ],
         "legendgroup": "Epik",
         "marker": {
          "color": "#FFA15A",
          "size": [
           15000000
          ],
          "sizemode": "area",
          "sizeref": 194444.44444444444,
          "symbol": "circle"
         },
         "mode": "markers",
         "name": "Epik",
         "orientation": "v",
         "showlegend": true,
         "type": "scatter",
         "x": [
          50
         ],
         "xaxis": "x",
         "y": [
          2021
         ],
         "yaxis": "y"
        },
        {
         "hovertemplate": "<b>%{hovertext}</b><br><br>organisation=Thailand visitors<br>randNumCol=%{x}<br>year=%{y}<br>records lost=%{marker.size}<extra></extra>",
         "hovertext": [
          "Thailand visitors"
         ],
         "legendgroup": "Thailand visitors",
         "marker": {
          "color": "#19d3f3",
          "size": [
           100000000
          ],
          "sizemode": "area",
          "sizeref": 194444.44444444444,
          "symbol": "circle"
         },
         "mode": "markers",
         "name": "Thailand visitors",
         "orientation": "v",
         "showlegend": true,
         "type": "scatter",
         "x": [
          47
         ],
         "xaxis": "x",
         "y": [
          2021
         ],
         "yaxis": "y"
        },
        {
         "hovertemplate": "<b>%{hovertext}</b><br><br>organisation=T-Mobile <br>randNumCol=%{x}<br>year=%{y}<br>records lost=%{marker.size}<extra></extra>",
         "hovertext": [
          "T-Mobile "
         ],
         "legendgroup": "T-Mobile ",
         "marker": {
          "color": "#FF6692",
          "size": [
           40000000
          ],
          "sizemode": "area",
          "sizeref": 194444.44444444444,
          "symbol": "circle"
         },
         "mode": "markers",
         "name": "T-Mobile ",
         "orientation": "v",
         "showlegend": true,
         "type": "scatter",
         "x": [
          50
         ],
         "xaxis": "x",
         "y": [
          2021
         ],
         "yaxis": "y"
        },
        {
         "hovertemplate": "<b>%{hovertext}</b><br><br>organisation=Contact tracing data<br>randNumCol=%{x}<br>year=%{y}<br>records lost=%{marker.size}<extra></extra>",
         "hovertext": [
          "Contact tracing data"
         ],
         "legendgroup": "Contact tracing data",
         "marker": {
          "color": "#B6E880",
          "size": [
           38000000
          ],
          "sizemode": "area",
          "sizeref": 194444.44444444444,
          "symbol": "circle"
         },
         "mode": "markers",
         "name": "Contact tracing data",
         "orientation": "v",
         "showlegend": true,
         "type": "scatter",
         "x": [
          30
         ],
         "xaxis": "x",
         "y": [
          2021
         ],
         "yaxis": "y"
        },
        {
         "hovertemplate": "<b>%{hovertext}</b><br><br>organisation=Estonian gov<br>randNumCol=%{x}<br>year=%{y}<br>records lost=%{marker.size}<extra></extra>",
         "hovertext": [
          "Estonian gov"
         ],
         "legendgroup": "Estonian gov",
         "marker": {
          "color": "#FF97FF",
          "size": [
           280000
          ],
          "sizemode": "area",
          "sizeref": 194444.44444444444,
          "symbol": "circle"
         },
         "mode": "markers",
         "name": "Estonian gov",
         "orientation": "v",
         "showlegend": true,
         "type": "scatter",
         "x": [
          78
         ],
         "xaxis": "x",
         "y": [
          2021
         ],
         "yaxis": "y"
        },
        {
         "hovertemplate": "<b>%{hovertext}</b><br><br>organisation=Guntrader<br>randNumCol=%{x}<br>year=%{y}<br>records lost=%{marker.size}<extra></extra>",
         "hovertext": [
          "Guntrader"
         ],
         "legendgroup": "Guntrader",
         "marker": {
          "color": "#FECB52",
          "size": [
           111000
          ],
          "sizemode": "area",
          "sizeref": 194444.44444444444,
          "symbol": "circle"
         },
         "mode": "markers",
         "name": "Guntrader",
         "orientation": "v",
         "showlegend": true,
         "type": "scatter",
         "x": [
          87
         ],
         "xaxis": "x",
         "y": [
          2021
         ],
         "yaxis": "y"
        },
        {
         "hovertemplate": "<b>%{hovertext}</b><br><br>organisation=Linkedin<br>randNumCol=%{x}<br>year=%{y}<br>records lost=%{marker.size}<extra></extra>",
         "hovertext": [
          "Linkedin"
         ],
         "legendgroup": "Linkedin",
         "marker": {
          "color": "#636efa",
          "size": [
           700000000
          ],
          "sizemode": "area",
          "sizeref": 194444.44444444444,
          "symbol": "circle"
         },
         "mode": "markers",
         "name": "Linkedin",
         "orientation": "v",
         "showlegend": true,
         "type": "scatter",
         "x": [
          64
         ],
         "xaxis": "x",
         "y": [
          2021
         ],
         "yaxis": "y"
        },
        {
         "hovertemplate": "<b>%{hovertext}</b><br><br>organisation=VW<br>randNumCol=%{x}<br>year=%{y}<br>records lost=%{marker.size}<extra></extra>",
         "hovertext": [
          "VW"
         ],
         "legendgroup": "VW",
         "marker": {
          "color": "#EF553B",
          "size": [
           3300000
          ],
          "sizemode": "area",
          "sizeref": 194444.44444444444,
          "symbol": "circle"
         },
         "mode": "markers",
         "name": "VW",
         "orientation": "v",
         "showlegend": true,
         "type": "scatter",
         "x": [
          26
         ],
         "xaxis": "x",
         "y": [
          2021
         ],
         "yaxis": "y"
        },
        {
         "hovertemplate": "<b>%{hovertext}</b><br><br>organisation=MacDonalds<br>randNumCol=%{x}<br>year=%{y}<br>records lost=%{marker.size}<extra></extra>",
         "hovertext": [
          "MacDonalds"
         ],
         "legendgroup": "MacDonalds",
         "marker": {
          "color": "#00cc96",
          "size": [
           10000000
          ],
          "sizemode": "area",
          "sizeref": 194444.44444444444,
          "symbol": "circle"
         },
         "mode": "markers",
         "name": "MacDonalds",
         "orientation": "v",
         "showlegend": true,
         "type": "scatter",
         "x": [
          85
         ],
         "xaxis": "x",
         "y": [
          2021
         ],
         "yaxis": "y"
        },
        {
         "hovertemplate": "<b>%{hovertext}</b><br><br>organisation=Air India<br>randNumCol=%{x}<br>year=%{y}<br>records lost=%{marker.size}<extra></extra>",
         "hovertext": [
          "Air India"
         ],
         "legendgroup": "Air India",
         "marker": {
          "color": "#ab63fa",
          "size": [
           4500000
          ],
          "sizemode": "area",
          "sizeref": 194444.44444444444,
          "symbol": "circle"
         },
         "mode": "markers",
         "name": "Air India",
         "orientation": "v",
         "showlegend": true,
         "type": "scatter",
         "x": [
          92
         ],
         "xaxis": "x",
         "y": [
          2021
         ],
         "yaxis": "y"
        },
        {
         "hovertemplate": "<b>%{hovertext}</b><br><br>organisation=Omiai dating app<br>randNumCol=%{x}<br>year=%{y}<br>records lost=%{marker.size}<extra></extra>",
         "hovertext": [
          "Omiai dating app"
         ],
         "legendgroup": "Omiai dating app",
         "marker": {
          "color": "#FFA15A",
          "size": [
           1710000
          ],
          "sizemode": "area",
          "sizeref": 194444.44444444444,
          "symbol": "circle"
         },
         "mode": "markers",
         "name": "Omiai dating app",
         "orientation": "v",
         "showlegend": true,
         "type": "scatter",
         "x": [
          9
         ],
         "xaxis": "x",
         "y": [
          2021
         ],
         "yaxis": "y"
        },
        {
         "hovertemplate": "<b>%{hovertext}</b><br><br>organisation=Amazon Reviews<br>randNumCol=%{x}<br>year=%{y}<br>records lost=%{marker.size}<extra></extra>",
         "hovertext": [
          "Amazon Reviews"
         ],
         "legendgroup": "Amazon Reviews",
         "marker": {
          "color": "#19d3f3",
          "size": [
           13124962
          ],
          "sizemode": "area",
          "sizeref": 194444.44444444444,
          "symbol": "circle"
         },
         "mode": "markers",
         "name": "Amazon Reviews",
         "orientation": "v",
         "showlegend": true,
         "type": "scatter",
         "x": [
          40
         ],
         "xaxis": "x",
         "y": [
          2021
         ],
         "yaxis": "y"
        },
        {
         "hovertemplate": "<b>%{hovertext}</b><br><br>organisation=Peloton<br>randNumCol=%{x}<br>year=%{y}<br>records lost=%{marker.size}<extra></extra>",
         "hovertext": [
          "Peloton"
         ],
         "legendgroup": "Peloton",
         "marker": {
          "color": "#FF6692",
          "size": [
           3000000
          ],
          "sizemode": "area",
          "sizeref": 194444.44444444444,
          "symbol": "circle"
         },
         "mode": "markers",
         "name": "Peloton",
         "orientation": "v",
         "showlegend": true,
         "type": "scatter",
         "x": [
          4
         ],
         "xaxis": "x",
         "y": [
          2021
         ],
         "yaxis": "y"
        },
        {
         "hovertemplate": "<b>%{hovertext}</b><br><br>organisation=Digital Ocean<br>randNumCol=%{x}<br>year=%{y}<br>records lost=%{marker.size}<extra></extra>",
         "hovertext": [
          "Digital Ocean"
         ],
         "legendgroup": "Digital Ocean",
         "marker": {
          "color": "#B6E880",
          "size": [
           10000000
          ],
          "sizemode": "area",
          "sizeref": 194444.44444444444,
          "symbol": "circle"
         },
         "mode": "markers",
         "name": "Digital Ocean",
         "orientation": "v",
         "showlegend": true,
         "type": "scatter",
         "x": [
          55
         ],
         "xaxis": "x",
         "y": [
          2021
         ],
         "yaxis": "y"
        },
        {
         "hovertemplate": "<b>%{hovertext}</b><br><br>organisation=Park Mobile<br>randNumCol=%{x}<br>year=%{y}<br>records lost=%{marker.size}<extra></extra>",
         "hovertext": [
          "Park Mobile"
         ],
         "legendgroup": "Park Mobile",
         "marker": {
          "color": "#FF97FF",
          "size": [
           21000000
          ],
          "sizemode": "area",
          "sizeref": 194444.44444444444,
          "symbol": "circle"
         },
         "mode": "markers",
         "name": "Park Mobile",
         "orientation": "v",
         "showlegend": true,
         "type": "scatter",
         "x": [
          10
         ],
         "xaxis": "x",
         "y": [
          2021
         ],
         "yaxis": "y"
        },
        {
         "hovertemplate": "<b>%{hovertext}</b><br><br>organisation=Ubiquiti<br>randNumCol=%{x}<br>year=%{y}<br>records lost=%{marker.size}<extra></extra>",
         "hovertext": [
          "Ubiquiti"
         ],
         "legendgroup": "Ubiquiti",
         "marker": {
          "color": "#FECB52",
          "size": [
           16000000
          ],
          "sizemode": "area",
          "sizeref": 194444.44444444444,
          "symbol": "circle"
         },
         "mode": "markers",
         "name": "Ubiquiti",
         "orientation": "v",
         "showlegend": true,
         "type": "scatter",
         "x": [
          16
         ],
         "xaxis": "x",
         "y": [
          2021
         ],
         "yaxis": "y"
        },
        {
         "hovertemplate": "<b>%{hovertext}</b><br><br>organisation=Meet Mindful<br>randNumCol=%{x}<br>year=%{y}<br>records lost=%{marker.size}<extra></extra>",
         "hovertext": [
          "Meet Mindful"
         ],
         "legendgroup": "Meet Mindful",
         "marker": {
          "color": "#636efa",
          "size": [
           2240000
          ],
          "sizemode": "area",
          "sizeref": 194444.44444444444,
          "symbol": "circle"
         },
         "mode": "markers",
         "name": "Meet Mindful",
         "orientation": "v",
         "showlegend": true,
         "type": "scatter",
         "x": [
          1
         ],
         "xaxis": "x",
         "y": [
          2021
         ],
         "yaxis": "y"
        },
        {
         "hovertemplate": "<b>%{hovertext}</b><br><br>organisation=Experian Brazil<br>randNumCol=%{x}<br>year=%{y}<br>records lost=%{marker.size}<extra></extra>",
         "hovertext": [
          "Experian Brazil"
         ],
         "legendgroup": "Experian Brazil",
         "marker": {
          "color": "#EF553B",
          "size": [
           220000000
          ],
          "sizemode": "area",
          "sizeref": 194444.44444444444,
          "symbol": "circle"
         },
         "mode": "markers",
         "name": "Experian Brazil",
         "orientation": "v",
         "showlegend": true,
         "type": "scatter",
         "x": [
          42
         ],
         "xaxis": "x",
         "y": [
          2021
         ],
         "yaxis": "y"
        },
        {
         "hovertemplate": "<b>%{hovertext}</b><br><br>organisation=Gab<br>randNumCol=%{x}<br>year=%{y}<br>records lost=%{marker.size}<extra></extra>",
         "hovertext": [
          "Gab"
         ],
         "legendgroup": "Gab",
         "marker": {
          "color": "#00cc96",
          "size": [
           4000000
          ],
          "sizemode": "area",
          "sizeref": 194444.44444444444,
          "symbol": "circle"
         },
         "mode": "markers",
         "name": "Gab",
         "orientation": "v",
         "showlegend": true,
         "type": "scatter",
         "x": [
          30
         ],
         "xaxis": "x",
         "y": [
          2021
         ],
         "yaxis": "y"
        },
        {
         "hovertemplate": "<b>%{hovertext}</b><br><br>organisation=Star Alliance<br>randNumCol=%{x}<br>year=%{y}<br>records lost=%{marker.size}<extra></extra>",
         "hovertext": [
          "Star Alliance"
         ],
         "legendgroup": "Star Alliance",
         "marker": {
          "color": "#ab63fa",
          "size": [
           16000000
          ],
          "sizemode": "area",
          "sizeref": 194444.44444444444,
          "symbol": "circle"
         },
         "mode": "markers",
         "name": "Star Alliance",
         "orientation": "v",
         "showlegend": true,
         "type": "scatter",
         "x": [
          35
         ],
         "xaxis": "x",
         "y": [
          2021
         ],
         "yaxis": "y"
        },
        {
         "hovertemplate": "<b>%{hovertext}</b><br><br>organisation=Facebook<br>randNumCol=%{x}<br>year=%{y}<br>records lost=%{marker.size}<extra></extra>",
         "hovertext": [
          "Facebook",
          "Facebook",
          "Facebook",
          "Facebook",
          "Facebook"
         ],
         "legendgroup": "Facebook",
         "marker": {
          "color": "#FFA15A",
          "size": [
           533000000,
           419000000,
           50000000,
           29000000,
           6000000
          ],
          "sizemode": "area",
          "sizeref": 194444.44444444444,
          "symbol": "circle"
         },
         "mode": "markers",
         "name": "Facebook",
         "orientation": "v",
         "showlegend": true,
         "type": "scatter",
         "x": [
          62,
          30,
          42,
          46,
          38
         ],
         "xaxis": "x",
         "y": [
          2021,
          2019,
          2018,
          2018,
          2013
         ],
         "yaxis": "y"
        },
        {
         "hovertemplate": "<b>%{hovertext}</b><br><br>organisation=Ledger<br>randNumCol=%{x}<br>year=%{y}<br>records lost=%{marker.size}<extra></extra>",
         "hovertext": [
          "Ledger"
         ],
         "legendgroup": "Ledger",
         "marker": {
          "color": "#19d3f3",
          "size": [
           270000
          ],
          "sizemode": "area",
          "sizeref": 194444.44444444444,
          "symbol": "circle"
         },
         "mode": "markers",
         "name": "Ledger",
         "orientation": "v",
         "showlegend": true,
         "type": "scatter",
         "x": [
          48
         ],
         "xaxis": "x",
         "y": [
          2020
         ],
         "yaxis": "y"
        },
        {
         "hovertemplate": "<b>%{hovertext}</b><br><br>organisation=T-mobile<br>randNumCol=%{x}<br>year=%{y}<br>records lost=%{marker.size}<extra></extra>",
         "hovertext": [
          "T-mobile"
         ],
         "legendgroup": "T-mobile",
         "marker": {
          "color": "#FF6692",
          "size": [
           200000
          ],
          "sizemode": "area",
          "sizeref": 194444.44444444444,
          "symbol": "circle"
         },
         "mode": "markers",
         "name": "T-mobile",
         "orientation": "v",
         "showlegend": true,
         "type": "scatter",
         "x": [
          5
         ],
         "xaxis": "x",
         "y": [
          2020
         ],
         "yaxis": "y"
        },
        {
         "hovertemplate": "<b>%{hovertext}</b><br><br>organisation=The Hospital Group<br>randNumCol=%{x}<br>year=%{y}<br>records lost=%{marker.size}<extra></extra>",
         "hovertext": [
          "The Hospital Group"
         ],
         "legendgroup": "The Hospital Group",
         "marker": {
          "color": "#B6E880",
          "size": [
           1000000
          ],
          "sizemode": "area",
          "sizeref": 194444.44444444444,
          "symbol": "circle"
         },
         "mode": "markers",
         "name": "The Hospital Group",
         "orientation": "v",
         "showlegend": true,
         "type": "scatter",
         "x": [
          43
         ],
         "xaxis": "x",
         "y": [
          2020
         ],
         "yaxis": "y"
        },
        {
         "hovertemplate": "<b>%{hovertext}</b><br><br>organisation=SolarWinds<br>randNumCol=%{x}<br>year=%{y}<br>records lost=%{marker.size}<extra></extra>",
         "hovertext": [
          "SolarWinds"
         ],
         "legendgroup": "SolarWinds",
         "marker": {
          "color": "#FF97FF",
          "size": [
           50000000
          ],
          "sizemode": "area",
          "sizeref": 194444.44444444444,
          "symbol": "circle"
         },
         "mode": "markers",
         "name": "SolarWinds",
         "orientation": "v",
         "showlegend": true,
         "type": "scatter",
         "x": [
          86
         ],
         "xaxis": "x",
         "y": [
          2020
         ],
         "yaxis": "y"
        },
        {
         "hovertemplate": "<b>%{hovertext}</b><br><br>organisation=Ho Mobile<br>randNumCol=%{x}<br>year=%{y}<br>records lost=%{marker.size}<extra></extra>",
         "hovertext": [
          "Ho Mobile"
         ],
         "legendgroup": "Ho Mobile",
         "marker": {
          "color": "#FECB52",
          "size": [
           2500000
          ],
          "sizemode": "area",
          "sizeref": 194444.44444444444,
          "symbol": "circle"
         },
         "mode": "markers",
         "name": "Ho Mobile",
         "orientation": "v",
         "showlegend": true,
         "type": "scatter",
         "x": [
          36
         ],
         "xaxis": "x",
         "y": [
          2020
         ],
         "yaxis": "y"
        },
        {
         "hovertemplate": "<b>%{hovertext}</b><br><br>organisation=Spotify<br>randNumCol=%{x}<br>year=%{y}<br>records lost=%{marker.size}<extra></extra>",
         "hovertext": [
          "Spotify"
         ],
         "legendgroup": "Spotify",
         "marker": {
          "color": "#636efa",
          "size": [
           500000
          ],
          "sizemode": "area",
          "sizeref": 194444.44444444444,
          "symbol": "circle"
         },
         "mode": "markers",
         "name": "Spotify",
         "orientation": "v",
         "showlegend": true,
         "type": "scatter",
         "x": [
          7
         ],
         "xaxis": "x",
         "y": [
          2020
         ],
         "yaxis": "y"
        },
        {
         "hovertemplate": "<b>%{hovertext}</b><br><br>organisation=Drizly<br>randNumCol=%{x}<br>year=%{y}<br>records lost=%{marker.size}<extra></extra>",
         "hovertext": [
          "Drizly"
         ],
         "legendgroup": "Drizly",
         "marker": {
          "color": "#EF553B",
          "size": [
           2400000
          ],
          "sizemode": "area",
          "sizeref": 194444.44444444444,
          "symbol": "circle"
         },
         "mode": "markers",
         "name": "Drizly",
         "orientation": "v",
         "showlegend": true,
         "type": "scatter",
         "x": [
          83
         ],
         "xaxis": "x",
         "y": [
          2020
         ],
         "yaxis": "y"
        },
        {
         "hovertemplate": "<b>%{hovertext}</b><br><br>organisation=GEDmatch<br>randNumCol=%{x}<br>year=%{y}<br>records lost=%{marker.size}<extra></extra>",
         "hovertext": [
          "GEDmatch"
         ],
         "legendgroup": "GEDmatch",
         "marker": {
          "color": "#00cc96",
          "size": [
           1400000
          ],
          "sizemode": "area",
          "sizeref": 194444.44444444444,
          "symbol": "circle"
         },
         "mode": "markers",
         "name": "GEDmatch",
         "orientation": "v",
         "showlegend": true,
         "type": "scatter",
         "x": [
          44
         ],
         "xaxis": "x",
         "y": [
          2020
         ],
         "yaxis": "y"
        },
        {
         "hovertemplate": "<b>%{hovertext}</b><br><br>organisation=Call of Duty / Activision<br>randNumCol=%{x}<br>year=%{y}<br>records lost=%{marker.size}<extra></extra>",
         "hovertext": [
          "Call of Duty / Activision"
         ],
         "legendgroup": "Call of Duty / Activision",
         "marker": {
          "color": "#ab63fa",
          "size": [
           500000
          ],
          "sizemode": "area",
          "sizeref": 194444.44444444444,
          "symbol": "circle"
         },
         "mode": "markers",
         "name": "Call of Duty / Activision",
         "orientation": "v",
         "showlegend": true,
         "type": "scatter",
         "x": [
          89
         ],
         "xaxis": "x",
         "y": [
          2020
         ],
         "yaxis": "y"
        },
        {
         "hovertemplate": "<b>%{hovertext}</b><br><br>organisation=Zhenhua<br>randNumCol=%{x}<br>year=%{y}<br>records lost=%{marker.size}<extra></extra>",
         "hovertext": [
          "Zhenhua"
         ],
         "legendgroup": "Zhenhua",
         "marker": {
          "color": "#FFA15A",
          "size": [
           2400000
          ],
          "sizemode": "area",
          "sizeref": 194444.44444444444,
          "symbol": "circle"
         },
         "mode": "markers",
         "name": "Zhenhua",
         "orientation": "v",
         "showlegend": true,
         "type": "scatter",
         "x": [
          20
         ],
         "xaxis": "x",
         "y": [
          2020
         ],
         "yaxis": "y"
        },
        {
         "hovertemplate": "<b>%{hovertext}</b><br><br>organisation=Cense AI<br>randNumCol=%{x}<br>year=%{y}<br>records lost=%{marker.size}<extra></extra>",
         "hovertext": [
          "Cense AI"
         ],
         "legendgroup": "Cense AI",
         "marker": {
          "color": "#19d3f3",
          "size": [
           2500000
          ],
          "sizemode": "area",
          "sizeref": 194444.44444444444,
          "symbol": "circle"
         },
         "mode": "markers",
         "name": "Cense AI",
         "orientation": "v",
         "showlegend": true,
         "type": "scatter",
         "x": [
          68
         ],
         "xaxis": "x",
         "y": [
          2020
         ],
         "yaxis": "y"
        },
        {
         "hovertemplate": "<b>%{hovertext}</b><br><br>organisation=Nintendo<br>randNumCol=%{x}<br>year=%{y}<br>records lost=%{marker.size}<extra></extra>",
         "hovertext": [
          "Nintendo",
          "Nintendo"
         ],
         "legendgroup": "Nintendo",
         "marker": {
          "color": "#FF6692",
          "size": [
           300000,
           4000000
          ],
          "sizemode": "area",
          "sizeref": 194444.44444444444,
          "symbol": "circle"
         },
         "mode": "markers",
         "name": "Nintendo",
         "orientation": "v",
         "showlegend": true,
         "type": "scatter",
         "x": [
          18,
          92
         ],
         "xaxis": "x",
         "y": [
          2020,
          2013
         ],
         "yaxis": "y"
        },
        {
         "hovertemplate": "<b>%{hovertext}</b><br><br>organisation=Pakistani mobile operators<br>randNumCol=%{x}<br>year=%{y}<br>records lost=%{marker.size}<extra></extra>",
         "hovertext": [
          "Pakistani mobile operators"
         ],
         "legendgroup": "Pakistani mobile operators",
         "marker": {
          "color": "#B6E880",
          "size": [
           115000000
          ],
          "sizemode": "area",
          "sizeref": 194444.44444444444,
          "symbol": "circle"
         },
         "mode": "markers",
         "name": "Pakistani mobile operators",
         "orientation": "v",
         "showlegend": true,
         "type": "scatter",
         "x": [
          22
         ],
         "xaxis": "x",
         "y": [
          2020
         ],
         "yaxis": "y"
        },
        {
         "hovertemplate": "<b>%{hovertext}</b><br><br>organisation=US Marshals Service<br>randNumCol=%{x}<br>year=%{y}<br>records lost=%{marker.size}<extra></extra>",
         "hovertext": [
          "US Marshals Service"
         ],
         "legendgroup": "US Marshals Service",
         "marker": {
          "color": "#FF97FF",
          "size": [
           387000
          ],
          "sizemode": "area",
          "sizeref": 194444.44444444444,
          "symbol": "circle"
         },
         "mode": "markers",
         "name": "US Marshals Service",
         "orientation": "v",
         "showlegend": true,
         "type": "scatter",
         "x": [
          31
         ],
         "xaxis": "x",
         "y": [
          2020
         ],
         "yaxis": "y"
        },
        {
         "hovertemplate": "<b>%{hovertext}</b><br><br>organisation=db8151dd<br>randNumCol=%{x}<br>year=%{y}<br>records lost=%{marker.size}<extra></extra>",
         "hovertext": [
          "db8151dd"
         ],
         "legendgroup": "db8151dd",
         "marker": {
          "color": "#FECB52",
          "size": [
           22000000
          ],
          "sizemode": "area",
          "sizeref": 194444.44444444444,
          "symbol": "circle"
         },
         "mode": "markers",
         "name": "db8151dd",
         "orientation": "v",
         "showlegend": true,
         "type": "scatter",
         "x": [
          28
         ],
         "xaxis": "x",
         "y": [
          2020
         ],
         "yaxis": "y"
        },
        {
         "hovertemplate": "<b>%{hovertext}</b><br><br>organisation=EasyJet<br>randNumCol=%{x}<br>year=%{y}<br>records lost=%{marker.size}<extra></extra>",
         "hovertext": [
          "EasyJet"
         ],
         "legendgroup": "EasyJet",
         "marker": {
          "color": "#636efa",
          "size": [
           9000000
          ],
          "sizemode": "area",
          "sizeref": 194444.44444444444,
          "symbol": "circle"
         },
         "mode": "markers",
         "name": "EasyJet",
         "orientation": "v",
         "showlegend": true,
         "type": "scatter",
         "x": [
          13
         ],
         "xaxis": "x",
         "y": [
          2020
         ],
         "yaxis": "y"
        },
        {
         "hovertemplate": "<b>%{hovertext}</b><br><br>organisation=Microsoft<br>randNumCol=%{x}<br>year=%{y}<br>records lost=%{marker.size}<extra></extra>",
         "hovertext": [
          "Microsoft"
         ],
         "legendgroup": "Microsoft",
         "marker": {
          "color": "#EF553B",
          "size": [
           250000000
          ],
          "sizemode": "area",
          "sizeref": 194444.44444444444,
          "symbol": "circle"
         },
         "mode": "markers",
         "name": "Microsoft",
         "orientation": "v",
         "showlegend": true,
         "type": "scatter",
         "x": [
          19
         ],
         "xaxis": "x",
         "y": [
          2020
         ],
         "yaxis": "y"
        },
        {
         "hovertemplate": "<b>%{hovertext}</b><br><br>organisation=Dutch Government<br>randNumCol=%{x}<br>year=%{y}<br>records lost=%{marker.size}<extra></extra>",
         "hovertext": [
          "Dutch Government"
         ],
         "legendgroup": "Dutch Government",
         "marker": {
          "color": "#00cc96",
          "size": [
           6900000
          ],
          "sizemode": "area",
          "sizeref": 194444.44444444444,
          "symbol": "circle"
         },
         "mode": "markers",
         "name": "Dutch Government",
         "orientation": "v",
         "showlegend": true,
         "type": "scatter",
         "x": [
          40
         ],
         "xaxis": "x",
         "y": [
          2020
         ],
         "yaxis": "y"
        },
        {
         "hovertemplate": "<b>%{hovertext}</b><br><br>organisation=Virgin Media<br>randNumCol=%{x}<br>year=%{y}<br>records lost=%{marker.size}<extra></extra>",
         "hovertext": [
          "Virgin Media"
         ],
         "legendgroup": "Virgin Media",
         "marker": {
          "color": "#ab63fa",
          "size": [
           900000
          ],
          "sizemode": "area",
          "sizeref": 194444.44444444444,
          "symbol": "circle"
         },
         "mode": "markers",
         "name": "Virgin Media",
         "orientation": "v",
         "showlegend": true,
         "type": "scatter",
         "x": [
          17
         ],
         "xaxis": "x",
         "y": [
          2020
         ],
         "yaxis": "y"
        },
        {
         "hovertemplate": "<b>%{hovertext}</b><br><br>organisation=Boots Advantage Card<br>randNumCol=%{x}<br>year=%{y}<br>records lost=%{marker.size}<extra></extra>",
         "hovertext": [
          "Boots Advantage Card"
         ],
         "legendgroup": "Boots Advantage Card",
         "marker": {
          "color": "#FFA15A",
          "size": [
           150000
          ],
          "sizemode": "area",
          "sizeref": 194444.44444444444,
          "symbol": "circle"
         },
         "mode": "markers",
         "name": "Boots Advantage Card",
         "orientation": "v",
         "showlegend": true,
         "type": "scatter",
         "x": [
          78
         ],
         "xaxis": "x",
         "y": [
          2020
         ],
         "yaxis": "y"
        },
        {
         "hovertemplate": "<b>%{hovertext}</b><br><br>organisation=Tesco Clubcard<br>randNumCol=%{x}<br>year=%{y}<br>records lost=%{marker.size}<extra></extra>",
         "hovertext": [
          "Tesco Clubcard"
         ],
         "legendgroup": "Tesco Clubcard",
         "marker": {
          "color": "#19d3f3",
          "size": [
           600000
          ],
          "sizemode": "area",
          "sizeref": 194444.44444444444,
          "symbol": "circle"
         },
         "mode": "markers",
         "name": "Tesco Clubcard",
         "orientation": "v",
         "showlegend": true,
         "type": "scatter",
         "x": [
          58
         ],
         "xaxis": "x",
         "y": [
          2020
         ],
         "yaxis": "y"
        },
        {
         "hovertemplate": "<b>%{hovertext}</b><br><br>organisation=Marriott Hotels<br>randNumCol=%{x}<br>year=%{y}<br>records lost=%{marker.size}<extra></extra>",
         "hovertext": [
          "Marriott Hotels"
         ],
         "legendgroup": "Marriott Hotels",
         "marker": {
          "color": "#FF6692",
          "size": [
           5200000
          ],
          "sizemode": "area",
          "sizeref": 194444.44444444444,
          "symbol": "circle"
         },
         "mode": "markers",
         "name": "Marriott Hotels",
         "orientation": "v",
         "showlegend": true,
         "type": "scatter",
         "x": [
          20
         ],
         "xaxis": "x",
         "y": [
          2020
         ],
         "yaxis": "y"
        },
        {
         "hovertemplate": "<b>%{hovertext}</b><br><br>organisation=Zoom<br>randNumCol=%{x}<br>year=%{y}<br>records lost=%{marker.size}<extra></extra>",
         "hovertext": [
          "Zoom"
         ],
         "legendgroup": "Zoom",
         "marker": {
          "color": "#B6E880",
          "size": [
           500000
          ],
          "sizemode": "area",
          "sizeref": 194444.44444444444,
          "symbol": "circle"
         },
         "mode": "markers",
         "name": "Zoom",
         "orientation": "v",
         "showlegend": true,
         "type": "scatter",
         "x": [
          46
         ],
         "xaxis": "x",
         "y": [
          2020
         ],
         "yaxis": "y"
        },
        {
         "hovertemplate": "<b>%{hovertext}</b><br><br>organisation=Israeli government<br>randNumCol=%{x}<br>year=%{y}<br>records lost=%{marker.size}<extra></extra>",
         "hovertext": [
          "Israeli government"
         ],
         "legendgroup": "Israeli government",
         "marker": {
          "color": "#FF97FF",
          "size": [
           6500000
          ],
          "sizemode": "area",
          "sizeref": 194444.44444444444,
          "symbol": "circle"
         },
         "mode": "markers",
         "name": "Israeli government",
         "orientation": "v",
         "showlegend": true,
         "type": "scatter",
         "x": [
          70
         ],
         "xaxis": "x",
         "y": [
          2020
         ],
         "yaxis": "y"
        },
        {
         "hovertemplate": "<b>%{hovertext}</b><br><br>organisation=MGM Hotels<br>randNumCol=%{x}<br>year=%{y}<br>records lost=%{marker.size}<extra></extra>",
         "hovertext": [
          "MGM Hotels"
         ],
         "legendgroup": "MGM Hotels",
         "marker": {
          "color": "#FECB52",
          "size": [
           10600000
          ],
          "sizemode": "area",
          "sizeref": 194444.44444444444,
          "symbol": "circle"
         },
         "mode": "markers",
         "name": "MGM Hotels",
         "orientation": "v",
         "showlegend": true,
         "type": "scatter",
         "x": [
          85
         ],
         "xaxis": "x",
         "y": [
          2020
         ],
         "yaxis": "y"
        },
        {
         "hovertemplate": "<b>%{hovertext}</b><br><br>organisation=Buchbinder Car Rentals<br>randNumCol=%{x}<br>year=%{y}<br>records lost=%{marker.size}<extra></extra>",
         "hovertext": [
          "Buchbinder Car Rentals"
         ],
         "legendgroup": "Buchbinder Car Rentals",
         "marker": {
          "color": "#636efa",
          "size": [
           5000000
          ],
          "sizemode": "area",
          "sizeref": 194444.44444444444,
          "symbol": "circle"
         },
         "mode": "markers",
         "name": "Buchbinder Car Rentals",
         "orientation": "v",
         "showlegend": true,
         "type": "scatter",
         "x": [
          35
         ],
         "xaxis": "x",
         "y": [
          2020
         ],
         "yaxis": "y"
        },
        {
         "hovertemplate": "<b>%{hovertext}</b><br><br>organisation=Wawa<br>randNumCol=%{x}<br>year=%{y}<br>records lost=%{marker.size}<extra></extra>",
         "hovertext": [
          "Wawa"
         ],
         "legendgroup": "Wawa",
         "marker": {
          "color": "#EF553B",
          "size": [
           30000000
          ],
          "sizemode": "area",
          "sizeref": 194444.44444444444,
          "symbol": "circle"
         },
         "mode": "markers",
         "name": "Wawa",
         "orientation": "v",
         "showlegend": true,
         "type": "scatter",
         "x": [
          23
         ],
         "xaxis": "x",
         "y": [
          2019
         ],
         "yaxis": "y"
        },
        {
         "hovertemplate": "<b>%{hovertext}</b><br><br>organisation=Desjardins Group<br>randNumCol=%{x}<br>year=%{y}<br>records lost=%{marker.size}<extra></extra>",
         "hovertext": [
          "Desjardins Group"
         ],
         "legendgroup": "Desjardins Group",
         "marker": {
          "color": "#00cc96",
          "size": [
           4200000
          ],
          "sizemode": "area",
          "sizeref": 194444.44444444444,
          "symbol": "circle"
         },
         "mode": "markers",
         "name": "Desjardins Group",
         "orientation": "v",
         "showlegend": true,
         "type": "scatter",
         "x": [
          77
         ],
         "xaxis": "x",
         "y": [
          2019
         ],
         "yaxis": "y"
        },
        {
         "hovertemplate": "<b>%{hovertext}</b><br><br>organisation=US Customs and Border Protection<br>randNumCol=%{x}<br>year=%{y}<br>records lost=%{marker.size}<extra></extra>",
         "hovertext": [
          "US Customs and Border Protection"
         ],
         "legendgroup": "US Customs and Border Protection",
         "marker": {
          "color": "#ab63fa",
          "size": [
           100000
          ],
          "sizemode": "area",
          "sizeref": 194444.44444444444,
          "symbol": "circle"
         },
         "mode": "markers",
         "name": "US Customs and Border Protection",
         "orientation": "v",
         "showlegend": true,
         "type": "scatter",
         "x": [
          13
         ],
         "xaxis": "x",
         "y": [
          2019
         ],
         "yaxis": "y"
        },
        {
         "hovertemplate": "<b>%{hovertext}</b><br><br>organisation=Quest Diagnostics<br>randNumCol=%{x}<br>year=%{y}<br>records lost=%{marker.size}<extra></extra>",
         "hovertext": [
          "Quest Diagnostics",
          "Quest Diagnostics"
         ],
         "legendgroup": "Quest Diagnostics",
         "marker": {
          "color": "#FFA15A",
          "size": [
           20000000,
           34000
          ],
          "sizemode": "area",
          "sizeref": 194444.44444444444,
          "symbol": "circle"
         },
         "mode": "markers",
         "name": "Quest Diagnostics",
         "orientation": "v",
         "showlegend": true,
         "type": "scatter",
         "x": [
          91,
          46
         ],
         "xaxis": "x",
         "y": [
          2019,
          2016
         ],
         "yaxis": "y"
        },
        {
         "hovertemplate": "<b>%{hovertext}</b><br><br>organisation=Australian National University<br>randNumCol=%{x}<br>year=%{y}<br>records lost=%{marker.size}<extra></extra>",
         "hovertext": [
          "Australian National University"
         ],
         "legendgroup": "Australian National University",
         "marker": {
          "color": "#19d3f3",
          "size": [
           200000
          ],
          "sizemode": "area",
          "sizeref": 194444.44444444444,
          "symbol": "circle"
         },
         "mode": "markers",
         "name": "Australian National University",
         "orientation": "v",
         "showlegend": true,
         "type": "scatter",
         "x": [
          52
         ],
         "xaxis": "x",
         "y": [
          2019
         ],
         "yaxis": "y"
        },
        {
         "hovertemplate": "<b>%{hovertext}</b><br><br>organisation=Canva<br>randNumCol=%{x}<br>year=%{y}<br>records lost=%{marker.size}<extra></extra>",
         "hovertext": [
          "Canva"
         ],
         "legendgroup": "Canva",
         "marker": {
          "color": "#FF6692",
          "size": [
           139000000
          ],
          "sizemode": "area",
          "sizeref": 194444.44444444444,
          "symbol": "circle"
         },
         "mode": "markers",
         "name": "Canva",
         "orientation": "v",
         "showlegend": true,
         "type": "scatter",
         "x": [
          44
         ],
         "xaxis": "x",
         "y": [
          2019
         ],
         "yaxis": "y"
        },
        {
         "hovertemplate": "<b>%{hovertext}</b><br><br>organisation=Chtrbox<br>randNumCol=%{x}<br>year=%{y}<br>records lost=%{marker.size}<extra></extra>",
         "hovertext": [
          "Chtrbox"
         ],
         "legendgroup": "Chtrbox",
         "marker": {
          "color": "#B6E880",
          "size": [
           49000000
          ],
          "sizemode": "area",
          "sizeref": 194444.44444444444,
          "symbol": "circle"
         },
         "mode": "markers",
         "name": "Chtrbox",
         "orientation": "v",
         "showlegend": true,
         "type": "scatter",
         "x": [
          43
         ],
         "xaxis": "x",
         "y": [
          2019
         ],
         "yaxis": "y"
        },
        {
         "hovertemplate": "<b>%{hovertext}</b><br><br>organisation=WiFi Finder<br>randNumCol=%{x}<br>year=%{y}<br>records lost=%{marker.size}<extra></extra>",
         "hovertext": [
          "WiFi Finder"
         ],
         "legendgroup": "WiFi Finder",
         "marker": {
          "color": "#FF97FF",
          "size": [
           2000000
          ],
          "sizemode": "area",
          "sizeref": 194444.44444444444,
          "symbol": "circle"
         },
         "mode": "markers",
         "name": "WiFi Finder",
         "orientation": "v",
         "showlegend": true,
         "type": "scatter",
         "x": [
          81
         ],
         "xaxis": "x",
         "y": [
          2019
         ],
         "yaxis": "y"
        },
        {
         "hovertemplate": "<b>%{hovertext}</b><br><br>organisation=Toyota<br>randNumCol=%{x}<br>year=%{y}<br>records lost=%{marker.size}<extra></extra>",
         "hovertext": [
          "Toyota"
         ],
         "legendgroup": "Toyota",
         "marker": {
          "color": "#FECB52",
          "size": [
           3100000
          ],
          "sizemode": "area",
          "sizeref": 194444.44444444444,
          "symbol": "circle"
         },
         "mode": "markers",
         "name": "Toyota",
         "orientation": "v",
         "showlegend": true,
         "type": "scatter",
         "x": [
          24
         ],
         "xaxis": "x",
         "y": [
          2019
         ],
         "yaxis": "y"
        },
        {
         "hovertemplate": "<b>%{hovertext}</b><br><br>organisation=Unknown<br>randNumCol=%{x}<br>year=%{y}<br>records lost=%{marker.size}<extra></extra>",
         "hovertext": [
          "Unknown"
         ],
         "legendgroup": "Unknown",
         "marker": {
          "color": "#636efa",
          "size": [
           1800000
          ],
          "sizemode": "area",
          "sizeref": 194444.44444444444,
          "symbol": "circle"
         },
         "mode": "markers",
         "name": "Unknown",
         "orientation": "v",
         "showlegend": true,
         "type": "scatter",
         "x": [
          46
         ],
         "xaxis": "x",
         "y": [
          2019
         ],
         "yaxis": "y"
        },
        {
         "hovertemplate": "<b>%{hovertext}</b><br><br>organisation=Vårdguiden<br>randNumCol=%{x}<br>year=%{y}<br>records lost=%{marker.size}<extra></extra>",
         "hovertext": [
          "Vårdguiden"
         ],
         "legendgroup": "Vårdguiden",
         "marker": {
          "color": "#EF553B",
          "size": [
           2700000
          ],
          "sizemode": "area",
          "sizeref": 194444.44444444444,
          "symbol": "circle"
         },
         "mode": "markers",
         "name": "Vårdguiden",
         "orientation": "v",
         "showlegend": true,
         "type": "scatter",
         "x": [
          94
         ],
         "xaxis": "x",
         "y": [
          2019
         ],
         "yaxis": "y"
        },
        {
         "hovertemplate": "<b>%{hovertext}</b><br><br>organisation=Dubsmash<br>randNumCol=%{x}<br>year=%{y}<br>records lost=%{marker.size}<extra></extra>",
         "hovertext": [
          "Dubsmash"
         ],
         "legendgroup": "Dubsmash",
         "marker": {
          "color": "#00cc96",
          "size": [
           162000000
          ],
          "sizemode": "area",
          "sizeref": 194444.44444444444,
          "symbol": "circle"
         },
         "mode": "markers",
         "name": "Dubsmash",
         "orientation": "v",
         "showlegend": true,
         "type": "scatter",
         "x": [
          90
         ],
         "xaxis": "x",
         "y": [
          2019
         ],
         "yaxis": "y"
        },
        {
         "hovertemplate": "<b>%{hovertext}</b><br><br>organisation=ShareThis<br>randNumCol=%{x}<br>year=%{y}<br>records lost=%{marker.size}<extra></extra>",
         "hovertext": [
          "ShareThis"
         ],
         "legendgroup": "ShareThis",
         "marker": {
          "color": "#ab63fa",
          "size": [
           41000000
          ],
          "sizemode": "area",
          "sizeref": 194444.44444444444,
          "symbol": "circle"
         },
         "mode": "markers",
         "name": "ShareThis",
         "orientation": "v",
         "showlegend": true,
         "type": "scatter",
         "x": [
          28
         ],
         "xaxis": "x",
         "y": [
          2019
         ],
         "yaxis": "y"
        },
        {
         "hovertemplate": "<b>%{hovertext}</b><br><br>organisation=HauteLook<br>randNumCol=%{x}<br>year=%{y}<br>records lost=%{marker.size}<extra></extra>",
         "hovertext": [
          "HauteLook"
         ],
         "legendgroup": "HauteLook",
         "marker": {
          "color": "#FFA15A",
          "size": [
           28000000
          ],
          "sizemode": "area",
          "sizeref": 194444.44444444444,
          "symbol": "circle"
         },
         "mode": "markers",
         "name": "HauteLook",
         "orientation": "v",
         "showlegend": true,
         "type": "scatter",
         "x": [
          85
         ],
         "xaxis": "x",
         "y": [
          2019
         ],
         "yaxis": "y"
        },
        {
         "hovertemplate": "<b>%{hovertext}</b><br><br>organisation=Animoto<br>randNumCol=%{x}<br>year=%{y}<br>records lost=%{marker.size}<extra></extra>",
         "hovertext": [
          "Animoto"
         ],
         "legendgroup": "Animoto",
         "marker": {
          "color": "#19d3f3",
          "size": [
           25000000
          ],
          "sizemode": "area",
          "sizeref": 194444.44444444444,
          "symbol": "circle"
         },
         "mode": "markers",
         "name": "Animoto",
         "orientation": "v",
         "showlegend": true,
         "type": "scatter",
         "x": [
          35
         ],
         "xaxis": "x",
         "y": [
          2019
         ],
         "yaxis": "y"
        },
        {
         "hovertemplate": "<b>%{hovertext}</b><br><br>organisation=EyeEm<br>randNumCol=%{x}<br>year=%{y}<br>records lost=%{marker.size}<extra></extra>",
         "hovertext": [
          "EyeEm"
         ],
         "legendgroup": "EyeEm",
         "marker": {
          "color": "#FF6692",
          "size": [
           22000000
          ],
          "sizemode": "area",
          "sizeref": 194444.44444444444,
          "symbol": "circle"
         },
         "mode": "markers",
         "name": "EyeEm",
         "orientation": "v",
         "showlegend": true,
         "type": "scatter",
         "x": [
          64
         ],
         "xaxis": "x",
         "y": [
          2019
         ],
         "yaxis": "y"
        },
        {
         "hovertemplate": "<b>%{hovertext}</b><br><br>organisation=8fit<br>randNumCol=%{x}<br>year=%{y}<br>records lost=%{marker.size}<extra></extra>",
         "hovertext": [
          "8fit"
         ],
         "legendgroup": "8fit",
         "marker": {
          "color": "#B6E880",
          "size": [
           20000000
          ],
          "sizemode": "area",
          "sizeref": 194444.44444444444,
          "symbol": "circle"
         },
         "mode": "markers",
         "name": "8fit",
         "orientation": "v",
         "showlegend": true,
         "type": "scatter",
         "x": [
          36
         ],
         "xaxis": "x",
         "y": [
          2019
         ],
         "yaxis": "y"
        },
        {
         "hovertemplate": "<b>%{hovertext}</b><br><br>organisation=Whitepages<br>randNumCol=%{x}<br>year=%{y}<br>records lost=%{marker.size}<extra></extra>",
         "hovertext": [
          "Whitepages"
         ],
         "legendgroup": "Whitepages",
         "marker": {
          "color": "#FF97FF",
          "size": [
           18000000
          ],
          "sizemode": "area",
          "sizeref": 194444.44444444444,
          "symbol": "circle"
         },
         "mode": "markers",
         "name": "Whitepages",
         "orientation": "v",
         "showlegend": true,
         "type": "scatter",
         "x": [
          20
         ],
         "xaxis": "x",
         "y": [
          2019
         ],
         "yaxis": "y"
        },
        {
         "hovertemplate": "<b>%{hovertext}</b><br><br>organisation=Fotolog<br>randNumCol=%{x}<br>year=%{y}<br>records lost=%{marker.size}<extra></extra>",
         "hovertext": [
          "Fotolog"
         ],
         "legendgroup": "Fotolog",
         "marker": {
          "color": "#FECB52",
          "size": [
           16000000
          ],
          "sizemode": "area",
          "sizeref": 194444.44444444444,
          "symbol": "circle"
         },
         "mode": "markers",
         "name": "Fotolog",
         "orientation": "v",
         "showlegend": true,
         "type": "scatter",
         "x": [
          72
         ],
         "xaxis": "x",
         "y": [
          2019
         ],
         "yaxis": "y"
        },
        {
         "hovertemplate": "<b>%{hovertext}</b><br><br>organisation=Armor Games<br>randNumCol=%{x}<br>year=%{y}<br>records lost=%{marker.size}<extra></extra>",
         "hovertext": [
          "Armor Games"
         ],
         "legendgroup": "Armor Games",
         "marker": {
          "color": "#636efa",
          "size": [
           11000000
          ],
          "sizemode": "area",
          "sizeref": 194444.44444444444,
          "symbol": "circle"
         },
         "mode": "markers",
         "name": "Armor Games",
         "orientation": "v",
         "showlegend": true,
         "type": "scatter",
         "x": [
          51
         ],
         "xaxis": "x",
         "y": [
          2019
         ],
         "yaxis": "y"
        },
        {
         "hovertemplate": "<b>%{hovertext}</b><br><br>organisation=BookMate<br>randNumCol=%{x}<br>year=%{y}<br>records lost=%{marker.size}<extra></extra>",
         "hovertext": [
          "BookMate"
         ],
         "legendgroup": "BookMate",
         "marker": {
          "color": "#EF553B",
          "size": [
           8000000
          ],
          "sizemode": "area",
          "sizeref": 194444.44444444444,
          "symbol": "circle"
         },
         "mode": "markers",
         "name": "BookMate",
         "orientation": "v",
         "showlegend": true,
         "type": "scatter",
         "x": [
          96
         ],
         "xaxis": "x",
         "y": [
          2019
         ],
         "yaxis": "y"
        },
        {
         "hovertemplate": "<b>%{hovertext}</b><br><br>organisation=CoffeeMeetsBagel<br>randNumCol=%{x}<br>year=%{y}<br>records lost=%{marker.size}<extra></extra>",
         "hovertext": [
          "CoffeeMeetsBagel"
         ],
         "legendgroup": "CoffeeMeetsBagel",
         "marker": {
          "color": "#00cc96",
          "size": [
           6000000
          ],
          "sizemode": "area",
          "sizeref": 194444.44444444444,
          "symbol": "circle"
         },
         "mode": "markers",
         "name": "CoffeeMeetsBagel",
         "orientation": "v",
         "showlegend": true,
         "type": "scatter",
         "x": [
          92
         ],
         "xaxis": "x",
         "y": [
          2019
         ],
         "yaxis": "y"
        },
        {
         "hovertemplate": "<b>%{hovertext}</b><br><br>organisation=Artsy<br>randNumCol=%{x}<br>year=%{y}<br>records lost=%{marker.size}<extra></extra>",
         "hovertext": [
          "Artsy"
         ],
         "legendgroup": "Artsy",
         "marker": {
          "color": "#ab63fa",
          "size": [
           1000000
          ],
          "sizemode": "area",
          "sizeref": 194444.44444444444,
          "symbol": "circle"
         },
         "mode": "markers",
         "name": "Artsy",
         "orientation": "v",
         "showlegend": true,
         "type": "scatter",
         "x": [
          46
         ],
         "xaxis": "x",
         "y": [
          2019
         ],
         "yaxis": "y"
        },
        {
         "hovertemplate": "<b>%{hovertext}</b><br><br>organisation=DataCamp<br>randNumCol=%{x}<br>year=%{y}<br>records lost=%{marker.size}<extra></extra>",
         "hovertext": [
          "DataCamp"
         ],
         "legendgroup": "DataCamp",
         "marker": {
          "color": "#FFA15A",
          "size": [
           700000
          ],
          "sizemode": "area",
          "sizeref": 194444.44444444444,
          "symbol": "circle"
         },
         "mode": "markers",
         "name": "DataCamp",
         "orientation": "v",
         "showlegend": true,
         "type": "scatter",
         "x": [
          71
         ],
         "xaxis": "x",
         "y": [
          2019
         ],
         "yaxis": "y"
        },
        {
         "hovertemplate": "<b>%{hovertext}</b><br><br>organisation=Ixigo<br>randNumCol=%{x}<br>year=%{y}<br>records lost=%{marker.size}<extra></extra>",
         "hovertext": [
          "Ixigo"
         ],
         "legendgroup": "Ixigo",
         "marker": {
          "color": "#19d3f3",
          "size": [
           18000000
          ],
          "sizemode": "area",
          "sizeref": 194444.44444444444,
          "symbol": "circle"
         },
         "mode": "markers",
         "name": "Ixigo",
         "orientation": "v",
         "showlegend": true,
         "type": "scatter",
         "x": [
          31
         ],
         "xaxis": "x",
         "y": [
          2019
         ],
         "yaxis": "y"
        },
        {
         "hovertemplate": "<b>%{hovertext}</b><br><br>organisation=YouNow<br>randNumCol=%{x}<br>year=%{y}<br>records lost=%{marker.size}<extra></extra>",
         "hovertext": [
          "YouNow"
         ],
         "legendgroup": "YouNow",
         "marker": {
          "color": "#FF6692",
          "size": [
           40000000
          ],
          "sizemode": "area",
          "sizeref": 194444.44444444444,
          "symbol": "circle"
         },
         "mode": "markers",
         "name": "YouNow",
         "orientation": "v",
         "showlegend": true,
         "type": "scatter",
         "x": [
          38
         ],
         "xaxis": "x",
         "y": [
          2019
         ],
         "yaxis": "y"
        },
        {
         "hovertemplate": "<b>%{hovertext}</b><br><br>organisation=Houzz<br>randNumCol=%{x}<br>year=%{y}<br>records lost=%{marker.size}<extra></extra>",
         "hovertext": [
          "Houzz"
         ],
         "legendgroup": "Houzz",
         "marker": {
          "color": "#B6E880",
          "size": [
           57000000
          ],
          "sizemode": "area",
          "sizeref": 194444.44444444444,
          "symbol": "circle"
         },
         "mode": "markers",
         "name": "Houzz",
         "orientation": "v",
         "showlegend": true,
         "type": "scatter",
         "x": [
          83
         ],
         "xaxis": "x",
         "y": [
          2019
         ],
         "yaxis": "y"
        },
        {
         "hovertemplate": "<b>%{hovertext}</b><br><br>organisation=Ge.tt<br>randNumCol=%{x}<br>year=%{y}<br>records lost=%{marker.size}<extra></extra>",
         "hovertext": [
          "Ge.tt"
         ],
         "legendgroup": "Ge.tt",
         "marker": {
          "color": "#FF97FF",
          "size": [
           1800000
          ],
          "sizemode": "area",
          "sizeref": 194444.44444444444,
          "symbol": "circle"
         },
         "mode": "markers",
         "name": "Ge.tt",
         "orientation": "v",
         "showlegend": true,
         "type": "scatter",
         "x": [
          78
         ],
         "xaxis": "x",
         "y": [
          2019
         ],
         "yaxis": "y"
        },
        {
         "hovertemplate": "<b>%{hovertext}</b><br><br>organisation=Coinmama<br>randNumCol=%{x}<br>year=%{y}<br>records lost=%{marker.size}<extra></extra>",
         "hovertext": [
          "Coinmama"
         ],
         "legendgroup": "Coinmama",
         "marker": {
          "color": "#FECB52",
          "size": [
           450000
          ],
          "sizemode": "area",
          "sizeref": 194444.44444444444,
          "symbol": "circle"
         },
         "mode": "markers",
         "name": "Coinmama",
         "orientation": "v",
         "showlegend": true,
         "type": "scatter",
         "x": [
          68
         ],
         "xaxis": "x",
         "y": [
          2019
         ],
         "yaxis": "y"
        },
        {
         "hovertemplate": "<b>%{hovertext}</b><br><br>organisation=Roll20<br>randNumCol=%{x}<br>year=%{y}<br>records lost=%{marker.size}<extra></extra>",
         "hovertext": [
          "Roll20"
         ],
         "legendgroup": "Roll20",
         "marker": {
          "color": "#636efa",
          "size": [
           4000000
          ],
          "sizemode": "area",
          "sizeref": 194444.44444444444,
          "symbol": "circle"
         },
         "mode": "markers",
         "name": "Roll20",
         "orientation": "v",
         "showlegend": true,
         "type": "scatter",
         "x": [
          60
         ],
         "xaxis": "x",
         "y": [
          2019
         ],
         "yaxis": "y"
        },
        {
         "hovertemplate": "<b>%{hovertext}</b><br><br>organisation=Stronghold Kingdoms<br>randNumCol=%{x}<br>year=%{y}<br>records lost=%{marker.size}<extra></extra>",
         "hovertext": [
          "Stronghold Kingdoms"
         ],
         "legendgroup": "Stronghold Kingdoms",
         "marker": {
          "color": "#EF553B",
          "size": [
           5000000
          ],
          "sizemode": "area",
          "sizeref": 194444.44444444444,
          "symbol": "circle"
         },
         "mode": "markers",
         "name": "Stronghold Kingdoms",
         "orientation": "v",
         "showlegend": true,
         "type": "scatter",
         "x": [
          46
         ],
         "xaxis": "x",
         "y": [
          2019
         ],
         "yaxis": "y"
        },
        {
         "hovertemplate": "<b>%{hovertext}</b><br><br>organisation=Petflow<br>randNumCol=%{x}<br>year=%{y}<br>records lost=%{marker.size}<extra></extra>",
         "hovertext": [
          "Petflow"
         ],
         "legendgroup": "Petflow",
         "marker": {
          "color": "#00cc96",
          "size": [
           1000000
          ],
          "sizemode": "area",
          "sizeref": 194444.44444444444,
          "symbol": "circle"
         },
         "mode": "markers",
         "name": "Petflow",
         "orientation": "v",
         "showlegend": true,
         "type": "scatter",
         "x": [
          78
         ],
         "xaxis": "x",
         "y": [
          2019
         ],
         "yaxis": "y"
        },
        {
         "hovertemplate": "<b>%{hovertext}</b><br><br>organisation=500px<br>randNumCol=%{x}<br>year=%{y}<br>records lost=%{marker.size}<extra></extra>",
         "hovertext": [
          "500px"
         ],
         "legendgroup": "500px",
         "marker": {
          "color": "#ab63fa",
          "size": [
           14800000
          ],
          "sizemode": "area",
          "sizeref": 194444.44444444444,
          "symbol": "circle"
         },
         "mode": "markers",
         "name": "500px",
         "orientation": "v",
         "showlegend": true,
         "type": "scatter",
         "x": [
          23
         ],
         "xaxis": "x",
         "y": [
          2019
         ],
         "yaxis": "y"
        },
        {
         "hovertemplate": "<b>%{hovertext}</b><br><br>organisation=Blur<br>randNumCol=%{x}<br>year=%{y}<br>records lost=%{marker.size}<extra></extra>",
         "hovertext": [
          "Blur"
         ],
         "legendgroup": "Blur",
         "marker": {
          "color": "#FFA15A",
          "size": [
           2400000
          ],
          "sizemode": "area",
          "sizeref": 194444.44444444444,
          "symbol": "circle"
         },
         "mode": "markers",
         "name": "Blur",
         "orientation": "v",
         "showlegend": true,
         "type": "scatter",
         "x": [
          69
         ],
         "xaxis": "x",
         "y": [
          2019
         ],
         "yaxis": "y"
        },
        {
         "hovertemplate": "<b>%{hovertext}</b><br><br>organisation=Blank Media Games<br>randNumCol=%{x}<br>year=%{y}<br>records lost=%{marker.size}<extra></extra>",
         "hovertext": [
          "Blank Media Games"
         ],
         "legendgroup": "Blank Media Games",
         "marker": {
          "color": "#19d3f3",
          "size": [
           7600000
          ],
          "sizemode": "area",
          "sizeref": 194444.44444444444,
          "symbol": "circle"
         },
         "mode": "markers",
         "name": "Blank Media Games",
         "orientation": "v",
         "showlegend": true,
         "type": "scatter",
         "x": [
          97
         ],
         "xaxis": "x",
         "y": [
          2019
         ],
         "yaxis": "y"
        },
        {
         "hovertemplate": "<b>%{hovertext}</b><br><br>organisation=Indian citizens<br>randNumCol=%{x}<br>year=%{y}<br>records lost=%{marker.size}<extra></extra>",
         "hovertext": [
          "Indian citizens"
         ],
         "legendgroup": "Indian citizens",
         "marker": {
          "color": "#FF6692",
          "size": [
           275265298
          ],
          "sizemode": "area",
          "sizeref": 194444.44444444444,
          "symbol": "circle"
         },
         "mode": "markers",
         "name": "Indian citizens",
         "orientation": "v",
         "showlegend": true,
         "type": "scatter",
         "x": [
          5
         ],
         "xaxis": "x",
         "y": [
          2019
         ],
         "yaxis": "y"
        },
        {
         "hovertemplate": "<b>%{hovertext}</b><br><br>organisation=Bulgarian National Revenue Agency<br>randNumCol=%{x}<br>year=%{y}<br>records lost=%{marker.size}<extra></extra>",
         "hovertext": [
          "Bulgarian National Revenue Agency"
         ],
         "legendgroup": "Bulgarian National Revenue Agency",
         "marker": {
          "color": "#B6E880",
          "size": [
           5000000
          ],
          "sizemode": "area",
          "sizeref": 194444.44444444444,
          "symbol": "circle"
         },
         "mode": "markers",
         "name": "Bulgarian National Revenue Agency",
         "orientation": "v",
         "showlegend": true,
         "type": "scatter",
         "x": [
          34
         ],
         "xaxis": "x",
         "y": [
          2019
         ],
         "yaxis": "y"
        },
        {
         "hovertemplate": "<b>%{hovertext}</b><br><br>organisation=Capital One<br>randNumCol=%{x}<br>year=%{y}<br>records lost=%{marker.size}<extra></extra>",
         "hovertext": [
          "Capital One"
         ],
         "legendgroup": "Capital One",
         "marker": {
          "color": "#FF97FF",
          "size": [
           100000000
          ],
          "sizemode": "area",
          "sizeref": 194444.44444444444,
          "symbol": "circle"
         },
         "mode": "markers",
         "name": "Capital One",
         "orientation": "v",
         "showlegend": true,
         "type": "scatter",
         "x": [
          84
         ],
         "xaxis": "x",
         "y": [
          2019
         ],
         "yaxis": "y"
        },
        {
         "hovertemplate": "<b>%{hovertext}</b><br><br>organisation=Suprema<br>randNumCol=%{x}<br>year=%{y}<br>records lost=%{marker.size}<extra></extra>",
         "hovertext": [
          "Suprema"
         ],
         "legendgroup": "Suprema",
         "marker": {
          "color": "#FECB52",
          "size": [
           27800000
          ],
          "sizemode": "area",
          "sizeref": 194444.44444444444,
          "symbol": "circle"
         },
         "mode": "markers",
         "name": "Suprema",
         "orientation": "v",
         "showlegend": true,
         "type": "scatter",
         "x": [
          98
         ],
         "xaxis": "x",
         "y": [
          2019
         ],
         "yaxis": "y"
        },
        {
         "hovertemplate": "<b>%{hovertext}</b><br><br>organisation=DoorDash<br>randNumCol=%{x}<br>year=%{y}<br>records lost=%{marker.size}<extra></extra>",
         "hovertext": [
          "DoorDash"
         ],
         "legendgroup": "DoorDash",
         "marker": {
          "color": "#636efa",
          "size": [
           4900000
          ],
          "sizemode": "area",
          "sizeref": 194444.44444444444,
          "symbol": "circle"
         },
         "mode": "markers",
         "name": "DoorDash",
         "orientation": "v",
         "showlegend": true,
         "type": "scatter",
         "x": [
          60
         ],
         "xaxis": "x",
         "y": [
          2019
         ],
         "yaxis": "y"
        },
        {
         "hovertemplate": "<b>%{hovertext}</b><br><br>organisation=BriansClub<br>randNumCol=%{x}<br>year=%{y}<br>records lost=%{marker.size}<extra></extra>",
         "hovertext": [
          "BriansClub"
         ],
         "legendgroup": "BriansClub",
         "marker": {
          "color": "#EF553B",
          "size": [
           26000000
          ],
          "sizemode": "area",
          "sizeref": 194444.44444444444,
          "symbol": "circle"
         },
         "mode": "markers",
         "name": "BriansClub",
         "orientation": "v",
         "showlegend": true,
         "type": "scatter",
         "x": [
          62
         ],
         "xaxis": "x",
         "y": [
          2019
         ],
         "yaxis": "y"
        },
        {
         "hovertemplate": "<b>%{hovertext}</b><br><br>organisation=OxyData<br>randNumCol=%{x}<br>year=%{y}<br>records lost=%{marker.size}<extra></extra>",
         "hovertext": [
          "OxyData"
         ],
         "legendgroup": "OxyData",
         "marker": {
          "color": "#00cc96",
          "size": [
           380000000
          ],
          "sizemode": "area",
          "sizeref": 194444.44444444444,
          "symbol": "circle"
         },
         "mode": "markers",
         "name": "OxyData",
         "orientation": "v",
         "showlegend": true,
         "type": "scatter",
         "x": [
          75
         ],
         "xaxis": "x",
         "y": [
          2019
         ],
         "yaxis": "y"
        },
        {
         "hovertemplate": "<b>%{hovertext}</b><br><br>organisation=Click2Gov<br>randNumCol=%{x}<br>year=%{y}<br>records lost=%{marker.size}<extra></extra>",
         "hovertext": [
          "Click2Gov"
         ],
         "legendgroup": "Click2Gov",
         "marker": {
          "color": "#ab63fa",
          "size": [
           300000
          ],
          "sizemode": "area",
          "sizeref": 194444.44444444444,
          "symbol": "circle"
         },
         "mode": "markers",
         "name": "Click2Gov",
         "orientation": "v",
         "showlegend": true,
         "type": "scatter",
         "x": [
          26
         ],
         "xaxis": "x",
         "y": [
          2018
         ],
         "yaxis": "y"
        },
        {
         "hovertemplate": "<b>%{hovertext}</b><br><br>organisation=SingHealth<br>randNumCol=%{x}<br>year=%{y}<br>records lost=%{marker.size}<extra></extra>",
         "hovertext": [
          "SingHealth"
         ],
         "legendgroup": "SingHealth",
         "marker": {
          "color": "#FFA15A",
          "size": [
           1500000
          ],
          "sizemode": "area",
          "sizeref": 194444.44444444444,
          "symbol": "circle"
         },
         "mode": "markers",
         "name": "SingHealth",
         "orientation": "v",
         "showlegend": true,
         "type": "scatter",
         "x": [
          48
         ],
         "xaxis": "x",
         "y": [
          2018
         ],
         "yaxis": "y"
        },
        {
         "hovertemplate": "<b>%{hovertext}</b><br><br>organisation=GovPayNow.com<br>randNumCol=%{x}<br>year=%{y}<br>records lost=%{marker.size}<extra></extra>",
         "hovertext": [
          "GovPayNow.com"
         ],
         "legendgroup": "GovPayNow.com",
         "marker": {
          "color": "#19d3f3",
          "size": [
           14000000
          ],
          "sizemode": "area",
          "sizeref": 194444.44444444444,
          "symbol": "circle"
         },
         "mode": "markers",
         "name": "GovPayNow.com",
         "orientation": "v",
         "showlegend": true,
         "type": "scatter",
         "x": [
          89
         ],
         "xaxis": "x",
         "y": [
          2018
         ],
         "yaxis": "y"
        },
        {
         "hovertemplate": "<b>%{hovertext}</b><br><br>organisation=Cathay Pacific Airways<br>randNumCol=%{x}<br>year=%{y}<br>records lost=%{marker.size}<extra></extra>",
         "hovertext": [
          "Cathay Pacific Airways"
         ],
         "legendgroup": "Cathay Pacific Airways",
         "marker": {
          "color": "#FF6692",
          "size": [
           94000000
          ],
          "sizemode": "area",
          "sizeref": 194444.44444444444,
          "symbol": "circle"
         },
         "mode": "markers",
         "name": "Cathay Pacific Airways",
         "orientation": "v",
         "showlegend": true,
         "type": "scatter",
         "x": [
          88
         ],
         "xaxis": "x",
         "y": [
          2018
         ],
         "yaxis": "y"
        },
        {
         "hovertemplate": "<b>%{hovertext}</b><br><br>organisation=Chinese resume leak<br>randNumCol=%{x}<br>year=%{y}<br>records lost=%{marker.size}<extra></extra>",
         "hovertext": [
          "Chinese resume leak"
         ],
         "legendgroup": "Chinese resume leak",
         "marker": {
          "color": "#B6E880",
          "size": [
           202000000
          ],
          "sizemode": "area",
          "sizeref": 194444.44444444444,
          "symbol": "circle"
         },
         "mode": "markers",
         "name": "Chinese resume leak",
         "orientation": "v",
         "showlegend": true,
         "type": "scatter",
         "x": [
          22
         ],
         "xaxis": "x",
         "y": [
          2018
         ],
         "yaxis": "y"
        },
        {
         "hovertemplate": "<b>%{hovertext}</b><br><br>organisation=Google+<br>randNumCol=%{x}<br>year=%{y}<br>records lost=%{marker.size}<extra></extra>",
         "hovertext": [
          "Google+"
         ],
         "legendgroup": "Google+",
         "marker": {
          "color": "#FF97FF",
          "size": [
           52500000
          ],
          "sizemode": "area",
          "sizeref": 194444.44444444444,
          "symbol": "circle"
         },
         "mode": "markers",
         "name": "Google+",
         "orientation": "v",
         "showlegend": true,
         "type": "scatter",
         "x": [
          15
         ],
         "xaxis": "x",
         "y": [
          2018
         ],
         "yaxis": "y"
        },
        {
         "hovertemplate": "<b>%{hovertext}</b><br><br>organisation=Quora<br>randNumCol=%{x}<br>year=%{y}<br>records lost=%{marker.size}<extra></extra>",
         "hovertext": [
          "Quora"
         ],
         "legendgroup": "Quora",
         "marker": {
          "color": "#FECB52",
          "size": [
           100000000
          ],
          "sizemode": "area",
          "sizeref": 194444.44444444444,
          "symbol": "circle"
         },
         "mode": "markers",
         "name": "Quora",
         "orientation": "v",
         "showlegend": true,
         "type": "scatter",
         "x": [
          4
         ],
         "xaxis": "x",
         "y": [
          2018
         ],
         "yaxis": "y"
        },
        {
         "hovertemplate": "<b>%{hovertext}</b><br><br>organisation=Marriott International<br>randNumCol=%{x}<br>year=%{y}<br>records lost=%{marker.size}<extra></extra>",
         "hovertext": [
          "Marriott International"
         ],
         "legendgroup": "Marriott International",
         "marker": {
          "color": "#636efa",
          "size": [
           383000000
          ],
          "sizemode": "area",
          "sizeref": 194444.44444444444,
          "symbol": "circle"
         },
         "mode": "markers",
         "name": "Marriott International",
         "orientation": "v",
         "showlegend": true,
         "type": "scatter",
         "x": [
          88
         ],
         "xaxis": "x",
         "y": [
          2018
         ],
         "yaxis": "y"
        },
        {
         "hovertemplate": "<b>%{hovertext}</b><br><br>organisation=NMBS<br>randNumCol=%{x}<br>year=%{y}<br>records lost=%{marker.size}<extra></extra>",
         "hovertext": [
          "NMBS"
         ],
         "legendgroup": "NMBS",
         "marker": {
          "color": "#EF553B",
          "size": [
           700000
          ],
          "sizemode": "area",
          "sizeref": 194444.44444444444,
          "symbol": "circle"
         },
         "mode": "markers",
         "name": "NMBS",
         "orientation": "v",
         "showlegend": true,
         "type": "scatter",
         "x": [
          50
         ],
         "xaxis": "x",
         "y": [
          2018
         ],
         "yaxis": "y"
        },
        {
         "hovertemplate": "<b>%{hovertext}</b><br><br>organisation=Panerabread<br>randNumCol=%{x}<br>year=%{y}<br>records lost=%{marker.size}<extra></extra>",
         "hovertext": [
          "Panerabread"
         ],
         "legendgroup": "Panerabread",
         "marker": {
          "color": "#00cc96",
          "size": [
           37000000
          ],
          "sizemode": "area",
          "sizeref": 194444.44444444444,
          "symbol": "circle"
         },
         "mode": "markers",
         "name": "Panerabread",
         "orientation": "v",
         "showlegend": true,
         "type": "scatter",
         "x": [
          33
         ],
         "xaxis": "x",
         "y": [
          2018
         ],
         "yaxis": "y"
        },
        {
         "hovertemplate": "<b>%{hovertext}</b><br><br>organisation=Dixons Carphone<br>randNumCol=%{x}<br>year=%{y}<br>records lost=%{marker.size}<extra></extra>",
         "hovertext": [
          "Dixons Carphone"
         ],
         "legendgroup": "Dixons Carphone",
         "marker": {
          "color": "#ab63fa",
          "size": [
           10000000
          ],
          "sizemode": "area",
          "sizeref": 194444.44444444444,
          "symbol": "circle"
         },
         "mode": "markers",
         "name": "Dixons Carphone",
         "orientation": "v",
         "showlegend": true,
         "type": "scatter",
         "x": [
          25
         ],
         "xaxis": "x",
         "y": [
          2018
         ],
         "yaxis": "y"
        },
        {
         "hovertemplate": "<b>%{hovertext}</b><br><br>organisation=MyHeritage<br>randNumCol=%{x}<br>year=%{y}<br>records lost=%{marker.size}<extra></extra>",
         "hovertext": [
          "MyHeritage"
         ],
         "legendgroup": "MyHeritage",
         "marker": {
          "color": "#FFA15A",
          "size": [
           92283889
          ],
          "sizemode": "area",
          "sizeref": 194444.44444444444,
          "symbol": "circle"
         },
         "mode": "markers",
         "name": "MyHeritage",
         "orientation": "v",
         "showlegend": true,
         "type": "scatter",
         "x": [
          47
         ],
         "xaxis": "x",
         "y": [
          2018
         ],
         "yaxis": "y"
        },
        {
         "hovertemplate": "<b>%{hovertext}</b><br><br>organisation=Saks and Lord & Taylor<br>randNumCol=%{x}<br>year=%{y}<br>records lost=%{marker.size}<extra></extra>",
         "hovertext": [
          "Saks and Lord & Taylor"
         ],
         "legendgroup": "Saks and Lord & Taylor",
         "marker": {
          "color": "#19d3f3",
          "size": [
           5000000
          ],
          "sizemode": "area",
          "sizeref": 194444.44444444444,
          "symbol": "circle"
         },
         "mode": "markers",
         "name": "Saks and Lord & Taylor",
         "orientation": "v",
         "showlegend": true,
         "type": "scatter",
         "x": [
          41
         ],
         "xaxis": "x",
         "y": [
          2018
         ],
         "yaxis": "y"
        },
        {
         "hovertemplate": "<b>%{hovertext}</b><br><br>organisation=Careem<br>randNumCol=%{x}<br>year=%{y}<br>records lost=%{marker.size}<extra></extra>",
         "hovertext": [
          "Careem"
         ],
         "legendgroup": "Careem",
         "marker": {
          "color": "#FF6692",
          "size": [
           14000000
          ],
          "sizemode": "area",
          "sizeref": 194444.44444444444,
          "symbol": "circle"
         },
         "mode": "markers",
         "name": "Careem",
         "orientation": "v",
         "showlegend": true,
         "type": "scatter",
         "x": [
          68
         ],
         "xaxis": "x",
         "y": [
          2018
         ],
         "yaxis": "y"
        },
        {
         "hovertemplate": "<b>%{hovertext}</b><br><br>organisation=Texas voter records<br>randNumCol=%{x}<br>year=%{y}<br>records lost=%{marker.size}<extra></extra>",
         "hovertext": [
          "Texas voter records"
         ],
         "legendgroup": "Texas voter records",
         "marker": {
          "color": "#B6E880",
          "size": [
           14800000
          ],
          "sizemode": "area",
          "sizeref": 194444.44444444444,
          "symbol": "circle"
         },
         "mode": "markers",
         "name": "Texas voter records",
         "orientation": "v",
         "showlegend": true,
         "type": "scatter",
         "x": [
          13
         ],
         "xaxis": "x",
         "y": [
          2018
         ],
         "yaxis": "y"
        },
        {
         "hovertemplate": "<b>%{hovertext}</b><br><br>organisation=British Airways<br>randNumCol=%{x}<br>year=%{y}<br>records lost=%{marker.size}<extra></extra>",
         "hovertext": [
          "British Airways",
          "British Airways"
         ],
         "legendgroup": "British Airways",
         "marker": {
          "color": "#FF97FF",
          "size": [
           380000,
           10000
          ],
          "sizemode": "area",
          "sizeref": 194444.44444444444,
          "symbol": "circle"
         },
         "mode": "markers",
         "name": "British Airways",
         "orientation": "v",
         "showlegend": true,
         "type": "scatter",
         "x": [
          85,
          95
         ],
         "xaxis": "x",
         "y": [
          2018,
          2015
         ],
         "yaxis": "y"
        },
        {
         "hovertemplate": "<b>%{hovertext}</b><br><br>organisation=T-Mobile<br>randNumCol=%{x}<br>year=%{y}<br>records lost=%{marker.size}<extra></extra>",
         "hovertext": [
          "T-Mobile"
         ],
         "legendgroup": "T-Mobile",
         "marker": {
          "color": "#FECB52",
          "size": [
           2000000
          ],
          "sizemode": "area",
          "sizeref": 194444.44444444444,
          "symbol": "circle"
         },
         "mode": "markers",
         "name": "T-Mobile",
         "orientation": "v",
         "showlegend": true,
         "type": "scatter",
         "x": [
          15
         ],
         "xaxis": "x",
         "y": [
          2018
         ],
         "yaxis": "y"
        },
        {
         "hovertemplate": "<b>%{hovertext}</b><br><br>organisation=MyFitnessPal<br>randNumCol=%{x}<br>year=%{y}<br>records lost=%{marker.size}<extra></extra>",
         "hovertext": [
          "MyFitnessPal"
         ],
         "legendgroup": "MyFitnessPal",
         "marker": {
          "color": "#636efa",
          "size": [
           150000000
          ],
          "sizemode": "area",
          "sizeref": 194444.44444444444,
          "symbol": "circle"
         },
         "mode": "markers",
         "name": "MyFitnessPal",
         "orientation": "v",
         "showlegend": true,
         "type": "scatter",
         "x": [
          63
         ],
         "xaxis": "x",
         "y": [
          2018
         ],
         "yaxis": "y"
        },
        {
         "hovertemplate": "<b>%{hovertext}</b><br><br>organisation=Helse Sør-Øst RHF<br>randNumCol=%{x}<br>year=%{y}<br>records lost=%{marker.size}<extra></extra>",
         "hovertext": [
          "Helse Sør-Øst RHF"
         ],
         "legendgroup": "Helse Sør-Øst RHF",
         "marker": {
          "color": "#EF553B",
          "size": [
           3000000
          ],
          "sizemode": "area",
          "sizeref": 194444.44444444444,
          "symbol": "circle"
         },
         "mode": "markers",
         "name": "Helse Sør-Øst RHF",
         "orientation": "v",
         "showlegend": true,
         "type": "scatter",
         "x": [
          74
         ],
         "xaxis": "x",
         "y": [
          2018
         ],
         "yaxis": "y"
        },
        {
         "hovertemplate": "<b>%{hovertext}</b><br><br>organisation=Nametests<br>randNumCol=%{x}<br>year=%{y}<br>records lost=%{marker.size}<extra></extra>",
         "hovertext": [
          "Nametests"
         ],
         "legendgroup": "Nametests",
         "marker": {
          "color": "#00cc96",
          "size": [
           120000000
          ],
          "sizemode": "area",
          "sizeref": 194444.44444444444,
          "symbol": "circle"
         },
         "mode": "markers",
         "name": "Nametests",
         "orientation": "v",
         "showlegend": true,
         "type": "scatter",
         "x": [
          24
         ],
         "xaxis": "x",
         "y": [
          2018
         ],
         "yaxis": "y"
        },
        {
         "hovertemplate": "<b>%{hovertext}</b><br><br>organisation=Ticketmaster<br>randNumCol=%{x}<br>year=%{y}<br>records lost=%{marker.size}<extra></extra>",
         "hovertext": [
          "Ticketmaster"
         ],
         "legendgroup": "Ticketmaster",
         "marker": {
          "color": "#ab63fa",
          "size": [
           40000
          ],
          "sizemode": "area",
          "sizeref": 194444.44444444444,
          "symbol": "circle"
         },
         "mode": "markers",
         "name": "Ticketmaster",
         "orientation": "v",
         "showlegend": true,
         "type": "scatter",
         "x": [
          27
         ],
         "xaxis": "x",
         "y": [
          2018
         ],
         "yaxis": "y"
        },
        {
         "hovertemplate": "<b>%{hovertext}</b><br><br>organisation=Firebase<br>randNumCol=%{x}<br>year=%{y}<br>records lost=%{marker.size}<extra></extra>",
         "hovertext": [
          "Firebase"
         ],
         "legendgroup": "Firebase",
         "marker": {
          "color": "#FFA15A",
          "size": [
           100000000
          ],
          "sizemode": "area",
          "sizeref": 194444.44444444444,
          "symbol": "circle"
         },
         "mode": "markers",
         "name": "Firebase",
         "orientation": "v",
         "showlegend": true,
         "type": "scatter",
         "x": [
          33
         ],
         "xaxis": "x",
         "y": [
          2018
         ],
         "yaxis": "y"
        },
        {
         "hovertemplate": "<b>%{hovertext}</b><br><br>organisation=Aadhaar<br>randNumCol=%{x}<br>year=%{y}<br>records lost=%{marker.size}<extra></extra>",
         "hovertext": [
          "Aadhaar"
         ],
         "legendgroup": "Aadhaar",
         "marker": {
          "color": "#19d3f3",
          "size": [
           550000000
          ],
          "sizemode": "area",
          "sizeref": 194444.44444444444,
          "symbol": "circle"
         },
         "mode": "markers",
         "name": "Aadhaar",
         "orientation": "v",
         "showlegend": true,
         "type": "scatter",
         "x": [
          8
         ],
         "xaxis": "x",
         "y": [
          2018
         ],
         "yaxis": "y"
        },
        {
         "hovertemplate": "<b>%{hovertext}</b><br><br>organisation=Grindr<br>randNumCol=%{x}<br>year=%{y}<br>records lost=%{marker.size}<extra></extra>",
         "hovertext": [
          "Grindr"
         ],
         "legendgroup": "Grindr",
         "marker": {
          "color": "#FF6692",
          "size": [
           3000000
          ],
          "sizemode": "area",
          "sizeref": 194444.44444444444,
          "symbol": "circle"
         },
         "mode": "markers",
         "name": "Grindr",
         "orientation": "v",
         "showlegend": true,
         "type": "scatter",
         "x": [
          16
         ],
         "xaxis": "x",
         "y": [
          2018
         ],
         "yaxis": "y"
        },
        {
         "hovertemplate": "<b>%{hovertext}</b><br><br>organisation=Orbitz<br>randNumCol=%{x}<br>year=%{y}<br>records lost=%{marker.size}<extra></extra>",
         "hovertext": [
          "Orbitz"
         ],
         "legendgroup": "Orbitz",
         "marker": {
          "color": "#B6E880",
          "size": [
           880000
          ],
          "sizemode": "area",
          "sizeref": 194444.44444444444,
          "symbol": "circle"
         },
         "mode": "markers",
         "name": "Orbitz",
         "orientation": "v",
         "showlegend": true,
         "type": "scatter",
         "x": [
          30
         ],
         "xaxis": "x",
         "y": [
          2018
         ],
         "yaxis": "y"
        },
        {
         "hovertemplate": "<b>%{hovertext}</b><br><br>organisation=MBM Company<br>randNumCol=%{x}<br>year=%{y}<br>records lost=%{marker.size}<extra></extra>",
         "hovertext": [
          "MBM Company"
         ],
         "legendgroup": "MBM Company",
         "marker": {
          "color": "#FF97FF",
          "size": [
           1300000
          ],
          "sizemode": "area",
          "sizeref": 194444.44444444444,
          "symbol": "circle"
         },
         "mode": "markers",
         "name": "MBM Company",
         "orientation": "v",
         "showlegend": true,
         "type": "scatter",
         "x": [
          59
         ],
         "xaxis": "x",
         "y": [
          2018
         ],
         "yaxis": "y"
        },
        {
         "hovertemplate": "<b>%{hovertext}</b><br><br>organisation=LocalBlox<br>randNumCol=%{x}<br>year=%{y}<br>records lost=%{marker.size}<extra></extra>",
         "hovertext": [
          "LocalBlox"
         ],
         "legendgroup": "LocalBlox",
         "marker": {
          "color": "#FECB52",
          "size": [
           48000000
          ],
          "sizemode": "area",
          "sizeref": 194444.44444444444,
          "symbol": "circle"
         },
         "mode": "markers",
         "name": "LocalBlox",
         "orientation": "v",
         "showlegend": true,
         "type": "scatter",
         "x": [
          65
         ],
         "xaxis": "x",
         "y": [
          2018
         ],
         "yaxis": "y"
        },
        {
         "hovertemplate": "<b>%{hovertext}</b><br><br>organisation=Twitter<br>randNumCol=%{x}<br>year=%{y}<br>records lost=%{marker.size}<extra></extra>",
         "hovertext": [
          "Twitter",
          "Twitter"
         ],
         "legendgroup": "Twitter",
         "marker": {
          "color": "#636efa",
          "size": [
           330000000,
           250000
          ],
          "sizemode": "area",
          "sizeref": 194444.44444444444,
          "symbol": "circle"
         },
         "mode": "markers",
         "name": "Twitter",
         "orientation": "v",
         "showlegend": true,
         "type": "scatter",
         "x": [
          38,
          41
         ],
         "xaxis": "x",
         "y": [
          2018,
          2013
         ],
         "yaxis": "y"
        },
        {
         "hovertemplate": "<b>%{hovertext}</b><br><br>organisation=ViewFines<br>randNumCol=%{x}<br>year=%{y}<br>records lost=%{marker.size}<extra></extra>",
         "hovertext": [
          "ViewFines"
         ],
         "legendgroup": "ViewFines",
         "marker": {
          "color": "#EF553B",
          "size": [
           934000
          ],
          "sizemode": "area",
          "sizeref": 194444.44444444444,
          "symbol": "circle"
         },
         "mode": "markers",
         "name": "ViewFines",
         "orientation": "v",
         "showlegend": true,
         "type": "scatter",
         "x": [
          25
         ],
         "xaxis": "x",
         "y": [
          2018
         ],
         "yaxis": "y"
        },
        {
         "hovertemplate": "<b>%{hovertext}</b><br><br>organisation=TicketFly<br>randNumCol=%{x}<br>year=%{y}<br>records lost=%{marker.size}<extra></extra>",
         "hovertext": [
          "TicketFly"
         ],
         "legendgroup": "TicketFly",
         "marker": {
          "color": "#00cc96",
          "size": [
           27000000
          ],
          "sizemode": "area",
          "sizeref": 194444.44444444444,
          "symbol": "circle"
         },
         "mode": "markers",
         "name": "TicketFly",
         "orientation": "v",
         "showlegend": true,
         "type": "scatter",
         "x": [
          87
         ],
         "xaxis": "x",
         "y": [
          2018
         ],
         "yaxis": "y"
        },
        {
         "hovertemplate": "<b>%{hovertext}</b><br><br>organisation=Amazon<br>randNumCol=%{x}<br>year=%{y}<br>records lost=%{marker.size}<extra></extra>",
         "hovertext": [
          "Amazon"
         ],
         "legendgroup": "Amazon",
         "marker": {
          "color": "#ab63fa",
          "size": [
           5000000
          ],
          "sizemode": "area",
          "sizeref": 194444.44444444444,
          "symbol": "circle"
         },
         "mode": "markers",
         "name": "Amazon",
         "orientation": "v",
         "showlegend": true,
         "type": "scatter",
         "x": [
          62
         ],
         "xaxis": "x",
         "y": [
          2018
         ],
         "yaxis": "y"
        },
        {
         "hovertemplate": "<b>%{hovertext}</b><br><br>organisation=Urban Massage<br>randNumCol=%{x}<br>year=%{y}<br>records lost=%{marker.size}<extra></extra>",
         "hovertext": [
          "Urban Massage"
         ],
         "legendgroup": "Urban Massage",
         "marker": {
          "color": "#FFA15A",
          "size": [
           309000
          ],
          "sizemode": "area",
          "sizeref": 194444.44444444444,
          "symbol": "circle"
         },
         "mode": "markers",
         "name": "Urban Massage",
         "orientation": "v",
         "showlegend": true,
         "type": "scatter",
         "x": [
          61
         ],
         "xaxis": "x",
         "y": [
          2018
         ],
         "yaxis": "y"
        },
        {
         "hovertemplate": "<b>%{hovertext}</b><br><br>organisation=Dell <br>randNumCol=%{x}<br>year=%{y}<br>records lost=%{marker.size}<extra></extra>",
         "hovertext": [
          "Dell "
         ],
         "legendgroup": "Dell ",
         "marker": {
          "color": "#19d3f3",
          "size": [
           100000
          ],
          "sizemode": "area",
          "sizeref": 194444.44444444444,
          "symbol": "circle"
         },
         "mode": "markers",
         "name": "Dell ",
         "orientation": "v",
         "showlegend": true,
         "type": "scatter",
         "x": [
          36
         ],
         "xaxis": "x",
         "y": [
          2018
         ],
         "yaxis": "y"
        },
        {
         "hovertemplate": "<b>%{hovertext}</b><br><br>organisation=High Tail Hall<br>randNumCol=%{x}<br>year=%{y}<br>records lost=%{marker.size}<extra></extra>",
         "hovertext": [
          "High Tail Hall"
         ],
         "legendgroup": "High Tail Hall",
         "marker": {
          "color": "#FF6692",
          "size": [
           411000
          ],
          "sizemode": "area",
          "sizeref": 194444.44444444444,
          "symbol": "circle"
         },
         "mode": "markers",
         "name": "High Tail Hall",
         "orientation": "v",
         "showlegend": true,
         "type": "scatter",
         "x": [
          70
         ],
         "xaxis": "x",
         "y": [
          2018
         ],
         "yaxis": "y"
        },
        {
         "hovertemplate": "<b>%{hovertext}</b><br><br>organisation=SKY Brasil<br>randNumCol=%{x}<br>year=%{y}<br>records lost=%{marker.size}<extra></extra>",
         "hovertext": [
          "SKY Brasil"
         ],
         "legendgroup": "SKY Brasil",
         "marker": {
          "color": "#B6E880",
          "size": [
           32000000
          ],
          "sizemode": "area",
          "sizeref": 194444.44444444444,
          "symbol": "circle"
         },
         "mode": "markers",
         "name": "SKY Brasil",
         "orientation": "v",
         "showlegend": true,
         "type": "scatter",
         "x": [
          37
         ],
         "xaxis": "x",
         "y": [
          2018
         ],
         "yaxis": "y"
        },
        {
         "hovertemplate": "<b>%{hovertext}</b><br><br>organisation=Vision Direct<br>randNumCol=%{x}<br>year=%{y}<br>records lost=%{marker.size}<extra></extra>",
         "hovertext": [
          "Vision Direct"
         ],
         "legendgroup": "Vision Direct",
         "marker": {
          "color": "#FF97FF",
          "size": [
           16300
          ],
          "sizemode": "area",
          "sizeref": 194444.44444444444,
          "symbol": "circle"
         },
         "mode": "markers",
         "name": "Vision Direct",
         "orientation": "v",
         "showlegend": true,
         "type": "scatter",
         "x": [
          91
         ],
         "xaxis": "x",
         "y": [
          2018
         ],
         "yaxis": "y"
        },
        {
         "hovertemplate": "<b>%{hovertext}</b><br><br>organisation=Medicare & Medicaid<br>randNumCol=%{x}<br>year=%{y}<br>records lost=%{marker.size}<extra></extra>",
         "hovertext": [
          "Medicare & Medicaid"
         ],
         "legendgroup": "Medicare & Medicaid",
         "marker": {
          "color": "#FECB52",
          "size": [
           93689
          ],
          "sizemode": "area",
          "sizeref": 194444.44444444444,
          "symbol": "circle"
         },
         "mode": "markers",
         "name": "Medicare & Medicaid",
         "orientation": "v",
         "showlegend": true,
         "type": "scatter",
         "x": [
          49
         ],
         "xaxis": "x",
         "y": [
          2018
         ],
         "yaxis": "y"
        },
        {
         "hovertemplate": "<b>%{hovertext}</b><br><br>organisation=Newegg<br>randNumCol=%{x}<br>year=%{y}<br>records lost=%{marker.size}<extra></extra>",
         "hovertext": [
          "Newegg"
         ],
         "legendgroup": "Newegg",
         "marker": {
          "color": "#636efa",
          "size": [
           45000000
          ],
          "sizemode": "area",
          "sizeref": 194444.44444444444,
          "symbol": "circle"
         },
         "mode": "markers",
         "name": "Newegg",
         "orientation": "v",
         "showlegend": true,
         "type": "scatter",
         "x": [
          99
         ],
         "xaxis": "x",
         "y": [
          2018
         ],
         "yaxis": "y"
        },
        {
         "hovertemplate": "<b>%{hovertext}</b><br><br>organisation=Mount Olympus<br>randNumCol=%{x}<br>year=%{y}<br>records lost=%{marker.size}<extra></extra>",
         "hovertext": [
          "Mount Olympus"
         ],
         "legendgroup": "Mount Olympus",
         "marker": {
          "color": "#EF553B",
          "size": [
           1100
          ],
          "sizemode": "area",
          "sizeref": 194444.44444444444,
          "symbol": "circle"
         },
         "mode": "markers",
         "name": "Mount Olympus",
         "orientation": "v",
         "showlegend": true,
         "type": "scatter",
         "x": [
          28
         ],
         "xaxis": "x",
         "y": [
          2016
         ],
         "yaxis": "y"
        },
        {
         "hovertemplate": "<b>%{hovertext}</b><br><br>organisation=Apollo<br>randNumCol=%{x}<br>year=%{y}<br>records lost=%{marker.size}<extra></extra>",
         "hovertext": [
          "Apollo"
         ],
         "legendgroup": "Apollo",
         "marker": {
          "color": "#00cc96",
          "size": [
           200000000
          ],
          "sizemode": "area",
          "sizeref": 194444.44444444444,
          "symbol": "circle"
         },
         "mode": "markers",
         "name": "Apollo",
         "orientation": "v",
         "showlegend": true,
         "type": "scatter",
         "x": [
          13
         ],
         "xaxis": "x",
         "y": [
          2018
         ],
         "yaxis": "y"
        },
        {
         "hovertemplate": "<b>%{hovertext}</b><br><br>organisation=Disqus<br>randNumCol=%{x}<br>year=%{y}<br>records lost=%{marker.size}<extra></extra>",
         "hovertext": [
          "Disqus"
         ],
         "legendgroup": "Disqus",
         "marker": {
          "color": "#ab63fa",
          "size": [
           17500000
          ],
          "sizemode": "area",
          "sizeref": 194444.44444444444,
          "symbol": "circle"
         },
         "mode": "markers",
         "name": "Disqus",
         "orientation": "v",
         "showlegend": true,
         "type": "scatter",
         "x": [
          4
         ],
         "xaxis": "x",
         "y": [
          2017
         ],
         "yaxis": "y"
        },
        {
         "hovertemplate": "<b>%{hovertext}</b><br><br>organisation=RootsWeb<br>randNumCol=%{x}<br>year=%{y}<br>records lost=%{marker.size}<extra></extra>",
         "hovertext": [
          "RootsWeb"
         ],
         "legendgroup": "RootsWeb",
         "marker": {
          "color": "#FFA15A",
          "size": [
           300000
          ],
          "sizemode": "area",
          "sizeref": 194444.44444444444,
          "symbol": "circle"
         },
         "mode": "markers",
         "name": "RootsWeb",
         "orientation": "v",
         "showlegend": true,
         "type": "scatter",
         "x": [
          84
         ],
         "xaxis": "x",
         "y": [
          2017
         ],
         "yaxis": "y"
        },
        {
         "hovertemplate": "<b>%{hovertext}</b><br><br>organisation=Yahoo<br>randNumCol=%{x}<br>year=%{y}<br>records lost=%{marker.size}<extra></extra>",
         "hovertext": [
          "Yahoo",
          "Yahoo",
          "Yahoo"
         ],
         "legendgroup": "Yahoo",
         "marker": {
          "color": "#19d3f3",
          "size": [
           32000000,
           500000000,
           550000000
          ],
          "sizemode": "area",
          "sizeref": 194444.44444444444,
          "symbol": "circle"
         },
         "mode": "markers",
         "name": "Yahoo",
         "orientation": "v",
         "showlegend": true,
         "type": "scatter",
         "x": [
          40,
          18,
          60
         ],
         "xaxis": "x",
         "y": [
          2017,
          2016,
          2013
         ],
         "yaxis": "y"
        },
        {
         "hovertemplate": "<b>%{hovertext}</b><br><br>organisation=Uber<br>randNumCol=%{x}<br>year=%{y}<br>records lost=%{marker.size}<extra></extra>",
         "hovertext": [
          "Uber",
          "Uber"
         ],
         "legendgroup": "Uber",
         "marker": {
          "color": "#FF6692",
          "size": [
           57000000,
           50000
          ],
          "sizemode": "area",
          "sizeref": 194444.44444444444,
          "symbol": "circle"
         },
         "mode": "markers",
         "name": "Uber",
         "orientation": "v",
         "showlegend": true,
         "type": "scatter",
         "x": [
          25,
          37
         ],
         "xaxis": "x",
         "y": [
          2017,
          2015
         ],
         "yaxis": "y"
        },
        {
         "hovertemplate": "<b>%{hovertext}</b><br><br>organisation=Wonga<br>randNumCol=%{x}<br>year=%{y}<br>records lost=%{marker.size}<extra></extra>",
         "hovertext": [
          "Wonga"
         ],
         "legendgroup": "Wonga",
         "marker": {
          "color": "#B6E880",
          "size": [
           270000
          ],
          "sizemode": "area",
          "sizeref": 194444.44444444444,
          "symbol": "circle"
         },
         "mode": "markers",
         "name": "Wonga",
         "orientation": "v",
         "showlegend": true,
         "type": "scatter",
         "x": [
          60
         ],
         "xaxis": "x",
         "y": [
          2017
         ],
         "yaxis": "y"
        },
        {
         "hovertemplate": "<b>%{hovertext}</b><br><br>organisation=Snapchat<br>randNumCol=%{x}<br>year=%{y}<br>records lost=%{marker.size}<extra></extra>",
         "hovertext": [
          "Snapchat"
         ],
         "legendgroup": "Snapchat",
         "marker": {
          "color": "#FF97FF",
          "size": [
           1700000
          ],
          "sizemode": "area",
          "sizeref": 194444.44444444444,
          "symbol": "circle"
         },
         "mode": "markers",
         "name": "Snapchat",
         "orientation": "v",
         "showlegend": true,
         "type": "scatter",
         "x": [
          57
         ],
         "xaxis": "x",
         "y": [
          2017
         ],
         "yaxis": "y"
        },
        {
         "hovertemplate": "<b>%{hovertext}</b><br><br>organisation=Spambot<br>randNumCol=%{x}<br>year=%{y}<br>records lost=%{marker.size}<extra></extra>",
         "hovertext": [
          "Spambot"
         ],
         "legendgroup": "Spambot",
         "marker": {
          "color": "#FECB52",
          "size": [
           520000000
          ],
          "sizemode": "area",
          "sizeref": 194444.44444444444,
          "symbol": "circle"
         },
         "mode": "markers",
         "name": "Spambot",
         "orientation": "v",
         "showlegend": true,
         "type": "scatter",
         "x": [
          68
         ],
         "xaxis": "x",
         "y": [
          2017
         ],
         "yaxis": "y"
        },
        {
         "hovertemplate": "<b>%{hovertext}</b><br><br>organisation=CEX<br>randNumCol=%{x}<br>year=%{y}<br>records lost=%{marker.size}<extra></extra>",
         "hovertext": [
          "CEX"
         ],
         "legendgroup": "CEX",
         "marker": {
          "color": "#636efa",
          "size": [
           2000000
          ],
          "sizemode": "area",
          "sizeref": 194444.44444444444,
          "symbol": "circle"
         },
         "mode": "markers",
         "name": "CEX",
         "orientation": "v",
         "showlegend": true,
         "type": "scatter",
         "x": [
          80
         ],
         "xaxis": "x",
         "y": [
          2017
         ],
         "yaxis": "y"
        },
        {
         "hovertemplate": "<b>%{hovertext}</b><br><br>organisation=Al.type<br>randNumCol=%{x}<br>year=%{y}<br>records lost=%{marker.size}<extra></extra>",
         "hovertext": [
          "Al.type"
         ],
         "legendgroup": "Al.type",
         "marker": {
          "color": "#EF553B",
          "size": [
           31000000
          ],
          "sizemode": "area",
          "sizeref": 194444.44444444444,
          "symbol": "circle"
         },
         "mode": "markers",
         "name": "Al.type",
         "orientation": "v",
         "showlegend": true,
         "type": "scatter",
         "x": [
          93
         ],
         "xaxis": "x",
         "y": [
          2017
         ],
         "yaxis": "y"
        },
        {
         "hovertemplate": "<b>%{hovertext}</b><br><br>organisation=Cellebrite<br>randNumCol=%{x}<br>year=%{y}<br>records lost=%{marker.size}<extra></extra>",
         "hovertext": [
          "Cellebrite"
         ],
         "legendgroup": "Cellebrite",
         "marker": {
          "color": "#00cc96",
          "size": [
           3000000
          ],
          "sizemode": "area",
          "sizeref": 194444.44444444444,
          "symbol": "circle"
         },
         "mode": "markers",
         "name": "Cellebrite",
         "orientation": "v",
         "showlegend": true,
         "type": "scatter",
         "x": [
          98
         ],
         "xaxis": "x",
         "y": [
          2017
         ],
         "yaxis": "y"
        },
        {
         "hovertemplate": "<b>%{hovertext}</b><br><br>organisation=Waterly<br>randNumCol=%{x}<br>year=%{y}<br>records lost=%{marker.size}<extra></extra>",
         "hovertext": [
          "Waterly"
         ],
         "legendgroup": "Waterly",
         "marker": {
          "color": "#ab63fa",
          "size": [
           1000000
          ],
          "sizemode": "area",
          "sizeref": 194444.44444444444,
          "symbol": "circle"
         },
         "mode": "markers",
         "name": "Waterly",
         "orientation": "v",
         "showlegend": true,
         "type": "scatter",
         "x": [
          64
         ],
         "xaxis": "x",
         "y": [
          2017
         ],
         "yaxis": "y"
        },
        {
         "hovertemplate": "<b>%{hovertext}</b><br><br>organisation=Swedish Transport Agency<br>randNumCol=%{x}<br>year=%{y}<br>records lost=%{marker.size}<extra></extra>",
         "hovertext": [
          "Swedish Transport Agency"
         ],
         "legendgroup": "Swedish Transport Agency",
         "marker": {
          "color": "#FFA15A",
          "size": [
           3000000
          ],
          "sizemode": "area",
          "sizeref": 194444.44444444444,
          "symbol": "circle"
         },
         "mode": "markers",
         "name": "Swedish Transport Agency",
         "orientation": "v",
         "showlegend": true,
         "type": "scatter",
         "x": [
          60
         ],
         "xaxis": "x",
         "y": [
          2017
         ],
         "yaxis": "y"
        },
        {
         "hovertemplate": "<b>%{hovertext}</b><br><br>organisation=Hong Kong Registration & Electoral Office<br>randNumCol=%{x}<br>year=%{y}<br>records lost=%{marker.size}<extra></extra>",
         "hovertext": [
          "Hong Kong Registration & Electoral Office"
         ],
         "legendgroup": "Hong Kong Registration & Electoral Office",
         "marker": {
          "color": "#19d3f3",
          "size": [
           3700000
          ],
          "sizemode": "area",
          "sizeref": 194444.44444444444,
          "symbol": "circle"
         },
         "mode": "markers",
         "name": "Hong Kong Registration & Electoral Office",
         "orientation": "v",
         "showlegend": true,
         "type": "scatter",
         "x": [
          89
         ],
         "xaxis": "x",
         "y": [
          2017
         ],
         "yaxis": "y"
        },
        {
         "hovertemplate": "<b>%{hovertext}</b><br><br>organisation=River City Media<br>randNumCol=%{x}<br>year=%{y}<br>records lost=%{marker.size}<extra></extra>",
         "hovertext": [
          "River City Media"
         ],
         "legendgroup": "River City Media",
         "marker": {
          "color": "#FF6692",
          "size": [
           340000000
          ],
          "sizemode": "area",
          "sizeref": 194444.44444444444,
          "symbol": "circle"
         },
         "mode": "markers",
         "name": "River City Media",
         "orientation": "v",
         "showlegend": true,
         "type": "scatter",
         "x": [
          64
         ],
         "xaxis": "x",
         "y": [
          2017
         ],
         "yaxis": "y"
        },
        {
         "hovertemplate": "<b>%{hovertext}</b><br><br>organisation=DaFont<br>randNumCol=%{x}<br>year=%{y}<br>records lost=%{marker.size}<extra></extra>",
         "hovertext": [
          "DaFont"
         ],
         "legendgroup": "DaFont",
         "marker": {
          "color": "#B6E880",
          "size": [
           700000
          ],
          "sizemode": "area",
          "sizeref": 194444.44444444444,
          "symbol": "circle"
         },
         "mode": "markers",
         "name": "DaFont",
         "orientation": "v",
         "showlegend": true,
         "type": "scatter",
         "x": [
          76
         ],
         "xaxis": "x",
         "y": [
          2017
         ],
         "yaxis": "y"
        },
        {
         "hovertemplate": "<b>%{hovertext}</b><br><br>organisation=Bell<br>randNumCol=%{x}<br>year=%{y}<br>records lost=%{marker.size}<extra></extra>",
         "hovertext": [
          "Bell"
         ],
         "legendgroup": "Bell",
         "marker": {
          "color": "#FF97FF",
          "size": [
           1900000
          ],
          "sizemode": "area",
          "sizeref": 194444.44444444444,
          "symbol": "circle"
         },
         "mode": "markers",
         "name": "Bell",
         "orientation": "v",
         "showlegend": true,
         "type": "scatter",
         "x": [
          31
         ],
         "xaxis": "x",
         "y": [
          2017
         ],
         "yaxis": "y"
        },
        {
         "hovertemplate": "<b>%{hovertext}</b><br><br>organisation=Zomato<br>randNumCol=%{x}<br>year=%{y}<br>records lost=%{marker.size}<extra></extra>",
         "hovertext": [
          "Zomato"
         ],
         "legendgroup": "Zomato",
         "marker": {
          "color": "#FECB52",
          "size": [
           17000000
          ],
          "sizemode": "area",
          "sizeref": 194444.44444444444,
          "symbol": "circle"
         },
         "mode": "markers",
         "name": "Zomato",
         "orientation": "v",
         "showlegend": true,
         "type": "scatter",
         "x": [
          61
         ],
         "xaxis": "x",
         "y": [
          2017
         ],
         "yaxis": "y"
        },
        {
         "hovertemplate": "<b>%{hovertext}</b><br><br>organisation=Imgur<br>randNumCol=%{x}<br>year=%{y}<br>records lost=%{marker.size}<extra></extra>",
         "hovertext": [
          "Imgur"
         ],
         "legendgroup": "Imgur",
         "marker": {
          "color": "#636efa",
          "size": [
           1700000
          ],
          "sizemode": "area",
          "sizeref": 194444.44444444444,
          "symbol": "circle"
         },
         "mode": "markers",
         "name": "Imgur",
         "orientation": "v",
         "showlegend": true,
         "type": "scatter",
         "x": [
          80
         ],
         "xaxis": "x",
         "y": [
          2017
         ],
         "yaxis": "y"
        },
        {
         "hovertemplate": "<b>%{hovertext}</b><br><br>organisation=TIO Networks<br>randNumCol=%{x}<br>year=%{y}<br>records lost=%{marker.size}<extra></extra>",
         "hovertext": [
          "TIO Networks"
         ],
         "legendgroup": "TIO Networks",
         "marker": {
          "color": "#EF553B",
          "size": [
           1600000
          ],
          "sizemode": "area",
          "sizeref": 194444.44444444444,
          "symbol": "circle"
         },
         "mode": "markers",
         "name": "TIO Networks",
         "orientation": "v",
         "showlegend": true,
         "type": "scatter",
         "x": [
          22
         ],
         "xaxis": "x",
         "y": [
          2017
         ],
         "yaxis": "y"
        },
        {
         "hovertemplate": "<b>%{hovertext}</b><br><br>organisation=Malaysian telcos & MVNOs<br>randNumCol=%{x}<br>year=%{y}<br>records lost=%{marker.size}<extra></extra>",
         "hovertext": [
          "Malaysian telcos & MVNOs"
         ],
         "legendgroup": "Malaysian telcos & MVNOs",
         "marker": {
          "color": "#00cc96",
          "size": [
           46200000
          ],
          "sizemode": "area",
          "sizeref": 194444.44444444444,
          "symbol": "circle"
         },
         "mode": "markers",
         "name": "Malaysian telcos & MVNOs",
         "orientation": "v",
         "showlegend": true,
         "type": "scatter",
         "x": [
          11
         ],
         "xaxis": "x",
         "y": [
          2017
         ],
         "yaxis": "y"
        },
        {
         "hovertemplate": "<b>%{hovertext}</b><br><br>organisation=Malaysian medical practitioners<br>randNumCol=%{x}<br>year=%{y}<br>records lost=%{marker.size}<extra></extra>",
         "hovertext": [
          "Malaysian medical practitioners"
         ],
         "legendgroup": "Malaysian medical practitioners",
         "marker": {
          "color": "#ab63fa",
          "size": [
           81309
          ],
          "sizemode": "area",
          "sizeref": 194444.44444444444,
          "symbol": "circle"
         },
         "mode": "markers",
         "name": "Malaysian medical practitioners",
         "orientation": "v",
         "showlegend": true,
         "type": "scatter",
         "x": [
          18
         ],
         "xaxis": "x",
         "y": [
          2017
         ],
         "yaxis": "y"
        },
        {
         "hovertemplate": "<b>%{hovertext}</b><br><br>organisation=Instagram<br>randNumCol=%{x}<br>year=%{y}<br>records lost=%{marker.size}<extra></extra>",
         "hovertext": [
          "Instagram"
         ],
         "legendgroup": "Instagram",
         "marker": {
          "color": "#FFA15A",
          "size": [
           6000000
          ],
          "sizemode": "area",
          "sizeref": 194444.44444444444,
          "symbol": "circle"
         },
         "mode": "markers",
         "name": "Instagram",
         "orientation": "v",
         "showlegend": true,
         "type": "scatter",
         "x": [
          55
         ],
         "xaxis": "x",
         "y": [
          2017
         ],
         "yaxis": "y"
        },
        {
         "hovertemplate": "<b>%{hovertext}</b><br><br>organisation=Viacom<br>randNumCol=%{x}<br>year=%{y}<br>records lost=%{marker.size}<extra></extra>",
         "hovertext": [
          "Viacom"
         ],
         "legendgroup": "Viacom",
         "marker": {
          "color": "#19d3f3",
          "size": [
           3000000
          ],
          "sizemode": "area",
          "sizeref": 194444.44444444444,
          "symbol": "circle"
         },
         "mode": "markers",
         "name": "Viacom",
         "orientation": "v",
         "showlegend": true,
         "type": "scatter",
         "x": [
          42
         ],
         "xaxis": "x",
         "y": [
          2017
         ],
         "yaxis": "y"
        },
        {
         "hovertemplate": "<b>%{hovertext}</b><br><br>organisation=Equifax<br>randNumCol=%{x}<br>year=%{y}<br>records lost=%{marker.size}<extra></extra>",
         "hovertext": [
          "Equifax"
         ],
         "legendgroup": "Equifax",
         "marker": {
          "color": "#FF6692",
          "size": [
           143000000
          ],
          "sizemode": "area",
          "sizeref": 194444.44444444444,
          "symbol": "circle"
         },
         "mode": "markers",
         "name": "Equifax",
         "orientation": "v",
         "showlegend": true,
         "type": "scatter",
         "x": [
          34
         ],
         "xaxis": "x",
         "y": [
          2017
         ],
         "yaxis": "y"
        },
        {
         "hovertemplate": "<b>%{hovertext}</b><br><br>organisation=SVR Tracking<br>randNumCol=%{x}<br>year=%{y}<br>records lost=%{marker.size}<extra></extra>",
         "hovertext": [
          "SVR Tracking"
         ],
         "legendgroup": "SVR Tracking",
         "marker": {
          "color": "#B6E880",
          "size": [
           540000
          ],
          "sizemode": "area",
          "sizeref": 194444.44444444444,
          "symbol": "circle"
         },
         "mode": "markers",
         "name": "SVR Tracking",
         "orientation": "v",
         "showlegend": true,
         "type": "scatter",
         "x": [
          52
         ],
         "xaxis": "x",
         "y": [
          2017
         ],
         "yaxis": "y"
        },
        {
         "hovertemplate": "<b>%{hovertext}</b><br><br>organisation=LinkedIn<br>randNumCol=%{x}<br>year=%{y}<br>records lost=%{marker.size}<extra></extra>",
         "hovertext": [
          "LinkedIn"
         ],
         "legendgroup": "LinkedIn",
         "marker": {
          "color": "#FF97FF",
          "size": [
           117000000
          ],
          "sizemode": "area",
          "sizeref": 194444.44444444444,
          "symbol": "circle"
         },
         "mode": "markers",
         "name": "LinkedIn",
         "orientation": "v",
         "showlegend": true,
         "type": "scatter",
         "x": [
          97
         ],
         "xaxis": "x",
         "y": [
          2016
         ],
         "yaxis": "y"
        },
        {
         "hovertemplate": "<b>%{hovertext}</b><br><br>organisation=Tumblr<br>randNumCol=%{x}<br>year=%{y}<br>records lost=%{marker.size}<extra></extra>",
         "hovertext": [
          "Tumblr"
         ],
         "legendgroup": "Tumblr",
         "marker": {
          "color": "#FECB52",
          "size": [
           65000000
          ],
          "sizemode": "area",
          "sizeref": 194444.44444444444,
          "symbol": "circle"
         },
         "mode": "markers",
         "name": "Tumblr",
         "orientation": "v",
         "showlegend": true,
         "type": "scatter",
         "x": [
          35
         ],
         "xaxis": "x",
         "y": [
          2016
         ],
         "yaxis": "y"
        },
        {
         "hovertemplate": "<b>%{hovertext}</b><br><br>organisation=Mossack Fonseca<br>randNumCol=%{x}<br>year=%{y}<br>records lost=%{marker.size}<extra></extra>",
         "hovertext": [
          "Mossack Fonseca"
         ],
         "legendgroup": "Mossack Fonseca",
         "marker": {
          "color": "#636efa",
          "size": [
           11500000
          ],
          "sizemode": "area",
          "sizeref": 194444.44444444444,
          "symbol": "circle"
         },
         "mode": "markers",
         "name": "Mossack Fonseca",
         "orientation": "v",
         "showlegend": true,
         "type": "scatter",
         "x": [
          55
         ],
         "xaxis": "x",
         "y": [
          2016
         ],
         "yaxis": "y"
        },
        {
         "hovertemplate": "<b>%{hovertext}</b><br><br>organisation=Philippines’ Commission on Elections<br>randNumCol=%{x}<br>year=%{y}<br>records lost=%{marker.size}<extra></extra>",
         "hovertext": [
          "Philippines’ Commission on Elections"
         ],
         "legendgroup": "Philippines’ Commission on Elections",
         "marker": {
          "color": "#EF553B",
          "size": [
           55000000
          ],
          "sizemode": "area",
          "sizeref": 194444.44444444444,
          "symbol": "circle"
         },
         "mode": "markers",
         "name": "Philippines’ Commission on Elections",
         "orientation": "v",
         "showlegend": true,
         "type": "scatter",
         "x": [
          76
         ],
         "xaxis": "x",
         "y": [
          2016
         ],
         "yaxis": "y"
        },
        {
         "hovertemplate": "<b>%{hovertext}</b><br><br>organisation=Syrian government<br>randNumCol=%{x}<br>year=%{y}<br>records lost=%{marker.size}<extra></extra>",
         "hovertext": [
          "Syrian government"
         ],
         "legendgroup": "Syrian government",
         "marker": {
          "color": "#00cc96",
          "size": [
           274477
          ],
          "sizemode": "area",
          "sizeref": 194444.44444444444,
          "symbol": "circle"
         },
         "mode": "markers",
         "name": "Syrian government",
         "orientation": "v",
         "showlegend": true,
         "type": "scatter",
         "x": [
          90
         ],
         "xaxis": "x",
         "y": [
          2016
         ],
         "yaxis": "y"
        },
        {
         "hovertemplate": "<b>%{hovertext}</b><br><br>organisation=Minecraft<br>randNumCol=%{x}<br>year=%{y}<br>records lost=%{marker.size}<extra></extra>",
         "hovertext": [
          "Minecraft"
         ],
         "legendgroup": "Minecraft",
         "marker": {
          "color": "#ab63fa",
          "size": [
           7000000
          ],
          "sizemode": "area",
          "sizeref": 194444.44444444444,
          "symbol": "circle"
         },
         "mode": "markers",
         "name": "Minecraft",
         "orientation": "v",
         "showlegend": true,
         "type": "scatter",
         "x": [
          33
         ],
         "xaxis": "x",
         "y": [
          2016
         ],
         "yaxis": "y"
        },
        {
         "hovertemplate": "<b>%{hovertext}</b><br><br>organisation=Turkish citizenship database<br>randNumCol=%{x}<br>year=%{y}<br>records lost=%{marker.size}<extra></extra>",
         "hovertext": [
          "Turkish citizenship database"
         ],
         "legendgroup": "Turkish citizenship database",
         "marker": {
          "color": "#FFA15A",
          "size": [
           49611709
          ],
          "sizemode": "area",
          "sizeref": 194444.44444444444,
          "symbol": "circle"
         },
         "mode": "markers",
         "name": "Turkish citizenship database",
         "orientation": "v",
         "showlegend": true,
         "type": "scatter",
         "x": [
          75
         ],
         "xaxis": "x",
         "y": [
          2016
         ],
         "yaxis": "y"
        },
        {
         "hovertemplate": "<b>%{hovertext}</b><br><br>organisation=Banner Health<br>randNumCol=%{x}<br>year=%{y}<br>records lost=%{marker.size}<extra></extra>",
         "hovertext": [
          "Banner Health"
         ],
         "legendgroup": "Banner Health",
         "marker": {
          "color": "#19d3f3",
          "size": [
           3700000
          ],
          "sizemode": "area",
          "sizeref": 194444.44444444444,
          "symbol": "circle"
         },
         "mode": "markers",
         "name": "Banner Health",
         "orientation": "v",
         "showlegend": true,
         "type": "scatter",
         "x": [
          62
         ],
         "xaxis": "x",
         "y": [
          2016
         ],
         "yaxis": "y"
        },
        {
         "hovertemplate": "<b>%{hovertext}</b><br><br>organisation=Mail. ru<br>randNumCol=%{x}<br>year=%{y}<br>records lost=%{marker.size}<extra></extra>",
         "hovertext": [
          "Mail. ru"
         ],
         "legendgroup": "Mail. ru",
         "marker": {
          "color": "#FF6692",
          "size": [
           25000000
          ],
          "sizemode": "area",
          "sizeref": 194444.44444444444,
          "symbol": "circle"
         },
         "mode": "markers",
         "name": "Mail. ru",
         "orientation": "v",
         "showlegend": true,
         "type": "scatter",
         "x": [
          18
         ],
         "xaxis": "x",
         "y": [
          2016
         ],
         "yaxis": "y"
        },
        {
         "hovertemplate": "<b>%{hovertext}</b><br><br>organisation=PayAsUGym<br>randNumCol=%{x}<br>year=%{y}<br>records lost=%{marker.size}<extra></extra>",
         "hovertext": [
          "PayAsUGym"
         ],
         "legendgroup": "PayAsUGym",
         "marker": {
          "color": "#B6E880",
          "size": [
           300000
          ],
          "sizemode": "area",
          "sizeref": 194444.44444444444,
          "symbol": "circle"
         },
         "mode": "markers",
         "name": "PayAsUGym",
         "orientation": "v",
         "showlegend": true,
         "type": "scatter",
         "x": [
          51
         ],
         "xaxis": "x",
         "y": [
          2016
         ],
         "yaxis": "y"
        },
        {
         "hovertemplate": "<b>%{hovertext}</b><br><br>organisation=Lynda.com<br>randNumCol=%{x}<br>year=%{y}<br>records lost=%{marker.size}<extra></extra>",
         "hovertext": [
          "Lynda.com"
         ],
         "legendgroup": "Lynda.com",
         "marker": {
          "color": "#FF97FF",
          "size": [
           9500000
          ],
          "sizemode": "area",
          "sizeref": 194444.44444444444,
          "symbol": "circle"
         },
         "mode": "markers",
         "name": "Lynda.com",
         "orientation": "v",
         "showlegend": true,
         "type": "scatter",
         "x": [
          87
         ],
         "xaxis": "x",
         "y": [
          2016
         ],
         "yaxis": "y"
        },
        {
         "hovertemplate": "<b>%{hovertext}</b><br><br>organisation=Linux Ubuntu forums<br>randNumCol=%{x}<br>year=%{y}<br>records lost=%{marker.size}<extra></extra>",
         "hovertext": [
          "Linux Ubuntu forums"
         ],
         "legendgroup": "Linux Ubuntu forums",
         "marker": {
          "color": "#FECB52",
          "size": [
           2000000
          ],
          "sizemode": "area",
          "sizeref": 194444.44444444444,
          "symbol": "circle"
         },
         "mode": "markers",
         "name": "Linux Ubuntu forums",
         "orientation": "v",
         "showlegend": true,
         "type": "scatter",
         "x": [
          1
         ],
         "xaxis": "x",
         "y": [
          2016
         ],
         "yaxis": "y"
        },
        {
         "hovertemplate": "<b>%{hovertext}</b><br><br>organisation=Wendy's<br>randNumCol=%{x}<br>year=%{y}<br>records lost=%{marker.size}<extra></extra>",
         "hovertext": [
          "Wendy's"
         ],
         "legendgroup": "Wendy's",
         "marker": {
          "color": "#636efa",
          "size": [
           1025
          ],
          "sizemode": "area",
          "sizeref": 194444.44444444444,
          "symbol": "circle"
         },
         "mode": "markers",
         "name": "Wendy's",
         "orientation": "v",
         "showlegend": true,
         "type": "scatter",
         "x": [
          56
         ],
         "xaxis": "x",
         "y": [
          2016
         ],
         "yaxis": "y"
        },
        {
         "hovertemplate": "<b>%{hovertext}</b><br><br>organisation=Clinton campaign<br>randNumCol=%{x}<br>year=%{y}<br>records lost=%{marker.size}<extra></extra>",
         "hovertext": [
          "Clinton campaign"
         ],
         "legendgroup": "Clinton campaign",
         "marker": {
          "color": "#EF553B",
          "size": [
           5000000
          ],
          "sizemode": "area",
          "sizeref": 194444.44444444444,
          "symbol": "circle"
         },
         "mode": "markers",
         "name": "Clinton campaign",
         "orientation": "v",
         "showlegend": true,
         "type": "scatter",
         "x": [
          37
         ],
         "xaxis": "x",
         "y": [
          2016
         ],
         "yaxis": "y"
        },
        {
         "hovertemplate": "<b>%{hovertext}</b><br><br>organisation=uTorrent <br>randNumCol=%{x}<br>year=%{y}<br>records lost=%{marker.size}<extra></extra>",
         "hovertext": [
          "uTorrent "
         ],
         "legendgroup": "uTorrent ",
         "marker": {
          "color": "#00cc96",
          "size": [
           35000
          ],
          "sizemode": "area",
          "sizeref": 194444.44444444444,
          "symbol": "circle"
         },
         "mode": "markers",
         "name": "uTorrent ",
         "orientation": "v",
         "showlegend": true,
         "type": "scatter",
         "x": [
          84
         ],
         "xaxis": "x",
         "y": [
          2016
         ],
         "yaxis": "y"
        },
        {
         "hovertemplate": "<b>%{hovertext}</b><br><br>organisation=World Check<br>randNumCol=%{x}<br>year=%{y}<br>records lost=%{marker.size}<extra></extra>",
         "hovertext": [
          "World Check"
         ],
         "legendgroup": "World Check",
         "marker": {
          "color": "#ab63fa",
          "size": [
           2200000
          ],
          "sizemode": "area",
          "sizeref": 194444.44444444444,
          "symbol": "circle"
         },
         "mode": "markers",
         "name": "World Check",
         "orientation": "v",
         "showlegend": true,
         "type": "scatter",
         "x": [
          7
         ],
         "xaxis": "x",
         "y": [
          2016
         ],
         "yaxis": "y"
        },
        {
         "hovertemplate": "<b>%{hovertext}</b><br><br>organisation=Mutuelle Generale de la Police<br>randNumCol=%{x}<br>year=%{y}<br>records lost=%{marker.size}<extra></extra>",
         "hovertext": [
          "Mutuelle Generale de la Police"
         ],
         "legendgroup": "Mutuelle Generale de la Police",
         "marker": {
          "color": "#FFA15A",
          "size": [
           112000
          ],
          "sizemode": "area",
          "sizeref": 194444.44444444444,
          "symbol": "circle"
         },
         "mode": "markers",
         "name": "Mutuelle Generale de la Police",
         "orientation": "v",
         "showlegend": true,
         "type": "scatter",
         "x": [
          23
         ],
         "xaxis": "x",
         "y": [
          2016
         ],
         "yaxis": "y"
        },
        {
         "hovertemplate": "<b>%{hovertext}</b><br><br>organisation=VK<br>randNumCol=%{x}<br>year=%{y}<br>records lost=%{marker.size}<extra></extra>",
         "hovertext": [
          "VK"
         ],
         "legendgroup": "VK",
         "marker": {
          "color": "#19d3f3",
          "size": [
           171000000
          ],
          "sizemode": "area",
          "sizeref": 194444.44444444444,
          "symbol": "circle"
         },
         "mode": "markers",
         "name": "VK",
         "orientation": "v",
         "showlegend": true,
         "type": "scatter",
         "x": [
          21
         ],
         "xaxis": "x",
         "y": [
          2016
         ],
         "yaxis": "y"
        },
        {
         "hovertemplate": "<b>%{hovertext}</b><br><br>organisation=KM.ru & Nival<br>randNumCol=%{x}<br>year=%{y}<br>records lost=%{marker.size}<extra></extra>",
         "hovertext": [
          "KM.ru & Nival"
         ],
         "legendgroup": "KM.ru & Nival",
         "marker": {
          "color": "#FF6692",
          "size": [
           1500000
          ],
          "sizemode": "area",
          "sizeref": 194444.44444444444,
          "symbol": "circle"
         },
         "mode": "markers",
         "name": "KM.ru & Nival",
         "orientation": "v",
         "showlegend": true,
         "type": "scatter",
         "x": [
          24
         ],
         "xaxis": "x",
         "y": [
          2016
         ],
         "yaxis": "y"
        },
        {
         "hovertemplate": "<b>%{hovertext}</b><br><br>organisation=Fling<br>randNumCol=%{x}<br>year=%{y}<br>records lost=%{marker.size}<extra></extra>",
         "hovertext": [
          "Fling"
         ],
         "legendgroup": "Fling",
         "marker": {
          "color": "#B6E880",
          "size": [
           40000000
          ],
          "sizemode": "area",
          "sizeref": 194444.44444444444,
          "symbol": "circle"
         },
         "mode": "markers",
         "name": "Fling",
         "orientation": "v",
         "showlegend": true,
         "type": "scatter",
         "x": [
          26
         ],
         "xaxis": "x",
         "y": [
          2016
         ],
         "yaxis": "y"
        },
        {
         "hovertemplate": "<b>%{hovertext}</b><br><br>organisation=MySpace<br>randNumCol=%{x}<br>year=%{y}<br>records lost=%{marker.size}<extra></extra>",
         "hovertext": [
          "MySpace"
         ],
         "legendgroup": "MySpace",
         "marker": {
          "color": "#FF97FF",
          "size": [
           164000000
          ],
          "sizemode": "area",
          "sizeref": 194444.44444444444,
          "symbol": "circle"
         },
         "mode": "markers",
         "name": "MySpace",
         "orientation": "v",
         "showlegend": true,
         "type": "scatter",
         "x": [
          38
         ],
         "xaxis": "x",
         "y": [
          2016
         ],
         "yaxis": "y"
        },
        {
         "hovertemplate": "<b>%{hovertext}</b><br><br>organisation=Three<br>randNumCol=%{x}<br>year=%{y}<br>records lost=%{marker.size}<extra></extra>",
         "hovertext": [
          "Three"
         ],
         "legendgroup": "Three",
         "marker": {
          "color": "#FECB52",
          "size": [
           130000
          ],
          "sizemode": "area",
          "sizeref": 194444.44444444444,
          "symbol": "circle"
         },
         "mode": "markers",
         "name": "Three",
         "orientation": "v",
         "showlegend": true,
         "type": "scatter",
         "x": [
          73
         ],
         "xaxis": "x",
         "y": [
          2016
         ],
         "yaxis": "y"
        },
        {
         "hovertemplate": "<b>%{hovertext}</b><br><br>organisation=Red Cross Blood Service<br>randNumCol=%{x}<br>year=%{y}<br>records lost=%{marker.size}<extra></extra>",
         "hovertext": [
          "Red Cross Blood Service"
         ],
         "legendgroup": "Red Cross Blood Service",
         "marker": {
          "color": "#636efa",
          "size": [
           550000
          ],
          "sizemode": "area",
          "sizeref": 194444.44444444444,
          "symbol": "circle"
         },
         "mode": "markers",
         "name": "Red Cross Blood Service",
         "orientation": "v",
         "showlegend": true,
         "type": "scatter",
         "x": [
          26
         ],
         "xaxis": "x",
         "y": [
          2016
         ],
         "yaxis": "y"
        },
        {
         "hovertemplate": "<b>%{hovertext}</b><br><br>organisation=Telegram <br>randNumCol=%{x}<br>year=%{y}<br>records lost=%{marker.size}<extra></extra>",
         "hovertext": [
          "Telegram "
         ],
         "legendgroup": "Telegram ",
         "marker": {
          "color": "#EF553B",
          "size": [
           15000000
          ],
          "sizemode": "area",
          "sizeref": 194444.44444444444,
          "symbol": "circle"
         },
         "mode": "markers",
         "name": "Telegram ",
         "orientation": "v",
         "showlegend": true,
         "type": "scatter",
         "x": [
          52
         ],
         "xaxis": "x",
         "y": [
          2016
         ],
         "yaxis": "y"
        },
        {
         "hovertemplate": "<b>%{hovertext}</b><br><br>organisation=Dailymotion<br>randNumCol=%{x}<br>year=%{y}<br>records lost=%{marker.size}<extra></extra>",
         "hovertext": [
          "Dailymotion"
         ],
         "legendgroup": "Dailymotion",
         "marker": {
          "color": "#00cc96",
          "size": [
           85200000
          ],
          "sizemode": "area",
          "sizeref": 194444.44444444444,
          "symbol": "circle"
         },
         "mode": "markers",
         "name": "Dailymotion",
         "orientation": "v",
         "showlegend": true,
         "type": "scatter",
         "x": [
          20
         ],
         "xaxis": "x",
         "y": [
          2016
         ],
         "yaxis": "y"
        },
        {
         "hovertemplate": "<b>%{hovertext}</b><br><br>organisation=Weebly<br>randNumCol=%{x}<br>year=%{y}<br>records lost=%{marker.size}<extra></extra>",
         "hovertext": [
          "Weebly"
         ],
         "legendgroup": "Weebly",
         "marker": {
          "color": "#ab63fa",
          "size": [
           43000000
          ],
          "sizemode": "area",
          "sizeref": 194444.44444444444,
          "symbol": "circle"
         },
         "mode": "markers",
         "name": "Weebly",
         "orientation": "v",
         "showlegend": true,
         "type": "scatter",
         "x": [
          9
         ],
         "xaxis": "x",
         "y": [
          2016
         ],
         "yaxis": "y"
        },
        {
         "hovertemplate": "<b>%{hovertext}</b><br><br>organisation=Interpark<br>randNumCol=%{x}<br>year=%{y}<br>records lost=%{marker.size}<extra></extra>",
         "hovertext": [
          "Interpark"
         ],
         "legendgroup": "Interpark",
         "marker": {
          "color": "#FFA15A",
          "size": [
           10000000
          ],
          "sizemode": "area",
          "sizeref": 194444.44444444444,
          "symbol": "circle"
         },
         "mode": "markers",
         "name": "Interpark",
         "orientation": "v",
         "showlegend": true,
         "type": "scatter",
         "x": [
          55
         ],
         "xaxis": "x",
         "y": [
          2016
         ],
         "yaxis": "y"
        },
        {
         "hovertemplate": "<b>%{hovertext}</b><br><br>organisation=Friend Finder Network<br>randNumCol=%{x}<br>year=%{y}<br>records lost=%{marker.size}<extra></extra>",
         "hovertext": [
          "Friend Finder Network"
         ],
         "legendgroup": "Friend Finder Network",
         "marker": {
          "color": "#19d3f3",
          "size": [
           412000000
          ],
          "sizemode": "area",
          "sizeref": 194444.44444444444,
          "symbol": "circle"
         },
         "mode": "markers",
         "name": "Friend Finder Network",
         "orientation": "v",
         "showlegend": true,
         "type": "scatter",
         "x": [
          99
         ],
         "xaxis": "x",
         "y": [
          2016
         ],
         "yaxis": "y"
        },
        {
         "hovertemplate": "<b>%{hovertext}</b><br><br>organisation=Brazzers<br>randNumCol=%{x}<br>year=%{y}<br>records lost=%{marker.size}<extra></extra>",
         "hovertext": [
          "Brazzers"
         ],
         "legendgroup": "Brazzers",
         "marker": {
          "color": "#FF6692",
          "size": [
           790724
          ],
          "sizemode": "area",
          "sizeref": 194444.44444444444,
          "symbol": "circle"
         },
         "mode": "markers",
         "name": "Brazzers",
         "orientation": "v",
         "showlegend": true,
         "type": "scatter",
         "x": [
          24
         ],
         "xaxis": "x",
         "y": [
          2016
         ],
         "yaxis": "y"
        },
        {
         "hovertemplate": "<b>%{hovertext}</b><br><br>organisation=ClixSense<br>randNumCol=%{x}<br>year=%{y}<br>records lost=%{marker.size}<extra></extra>",
         "hovertext": [
          "ClixSense"
         ],
         "legendgroup": "ClixSense",
         "marker": {
          "color": "#B6E880",
          "size": [
           6600000
          ],
          "sizemode": "area",
          "sizeref": 194444.44444444444,
          "symbol": "circle"
         },
         "mode": "markers",
         "name": "ClixSense",
         "orientation": "v",
         "showlegend": true,
         "type": "scatter",
         "x": [
          29
         ],
         "xaxis": "x",
         "y": [
          2016
         ],
         "yaxis": "y"
        },
        {
         "hovertemplate": "<b>%{hovertext}</b><br><br>organisation=Carefirst<br>randNumCol=%{x}<br>year=%{y}<br>records lost=%{marker.size}<extra></extra>",
         "hovertext": [
          "Carefirst"
         ],
         "legendgroup": "Carefirst",
         "marker": {
          "color": "#FF97FF",
          "size": [
           1100000
          ],
          "sizemode": "area",
          "sizeref": 194444.44444444444,
          "symbol": "circle"
         },
         "mode": "markers",
         "name": "Carefirst",
         "orientation": "v",
         "showlegend": true,
         "type": "scatter",
         "x": [
          90
         ],
         "xaxis": "x",
         "y": [
          2015
         ],
         "yaxis": "y"
        },
        {
         "hovertemplate": "<b>%{hovertext}</b><br><br>organisation=Premera<br>randNumCol=%{x}<br>year=%{y}<br>records lost=%{marker.size}<extra></extra>",
         "hovertext": [
          "Premera"
         ],
         "legendgroup": "Premera",
         "marker": {
          "color": "#FECB52",
          "size": [
           11000000
          ],
          "sizemode": "area",
          "sizeref": 194444.44444444444,
          "symbol": "circle"
         },
         "mode": "markers",
         "name": "Premera",
         "orientation": "v",
         "showlegend": true,
         "type": "scatter",
         "x": [
          50
         ],
         "xaxis": "x",
         "y": [
          2015
         ],
         "yaxis": "y"
        },
        {
         "hovertemplate": "<b>%{hovertext}</b><br><br>organisation=Deep Root Analytics<br>randNumCol=%{x}<br>year=%{y}<br>records lost=%{marker.size}<extra></extra>",
         "hovertext": [
          "Deep Root Analytics"
         ],
         "legendgroup": "Deep Root Analytics",
         "marker": {
          "color": "#636efa",
          "size": [
           198000000
          ],
          "sizemode": "area",
          "sizeref": 194444.44444444444,
          "symbol": "circle"
         },
         "mode": "markers",
         "name": "Deep Root Analytics",
         "orientation": "v",
         "showlegend": true,
         "type": "scatter",
         "x": [
          75
         ],
         "xaxis": "x",
         "y": [
          2015
         ],
         "yaxis": "y"
        },
        {
         "hovertemplate": "<b>%{hovertext}</b><br><br>organisation=Kromtech<br>randNumCol=%{x}<br>year=%{y}<br>records lost=%{marker.size}<extra></extra>",
         "hovertext": [
          "Kromtech"
         ],
         "legendgroup": "Kromtech",
         "marker": {
          "color": "#EF553B",
          "size": [
           13000000
          ],
          "sizemode": "area",
          "sizeref": 194444.44444444444,
          "symbol": "circle"
         },
         "mode": "markers",
         "name": "Kromtech",
         "orientation": "v",
         "showlegend": true,
         "type": "scatter",
         "x": [
          16
         ],
         "xaxis": "x",
         "y": [
          2015
         ],
         "yaxis": "y"
        },
        {
         "hovertemplate": "<b>%{hovertext}</b><br><br>organisation=Invest Bank<br>randNumCol=%{x}<br>year=%{y}<br>records lost=%{marker.size}<extra></extra>",
         "hovertext": [
          "Invest Bank"
         ],
         "legendgroup": "Invest Bank",
         "marker": {
          "color": "#00cc96",
          "size": [
           40000
          ],
          "sizemode": "area",
          "sizeref": 194444.44444444444,
          "symbol": "circle"
         },
         "mode": "markers",
         "name": "Invest Bank",
         "orientation": "v",
         "showlegend": true,
         "type": "scatter",
         "x": [
          97
         ],
         "xaxis": "x",
         "y": [
          2015
         ],
         "yaxis": "y"
        },
        {
         "hovertemplate": "<b>%{hovertext}</b><br><br>organisation=Sanrio<br>randNumCol=%{x}<br>year=%{y}<br>records lost=%{marker.size}<extra></extra>",
         "hovertext": [
          "Sanrio"
         ],
         "legendgroup": "Sanrio",
         "marker": {
          "color": "#ab63fa",
          "size": [
           3300000
          ],
          "sizemode": "area",
          "sizeref": 194444.44444444444,
          "symbol": "circle"
         },
         "mode": "markers",
         "name": "Sanrio",
         "orientation": "v",
         "showlegend": true,
         "type": "scatter",
         "x": [
          34
         ],
         "xaxis": "x",
         "y": [
          2015
         ],
         "yaxis": "y"
        },
        {
         "hovertemplate": "<b>%{hovertext}</b><br><br>organisation=VTech<br>randNumCol=%{x}<br>year=%{y}<br>records lost=%{marker.size}<extra></extra>",
         "hovertext": [
          "VTech"
         ],
         "legendgroup": "VTech",
         "marker": {
          "color": "#FFA15A",
          "size": [
           6400000
          ],
          "sizemode": "area",
          "sizeref": 194444.44444444444,
          "symbol": "circle"
         },
         "mode": "markers",
         "name": "VTech",
         "orientation": "v",
         "showlegend": true,
         "type": "scatter",
         "x": [
          5
         ],
         "xaxis": "x",
         "y": [
          2015
         ],
         "yaxis": "y"
        },
        {
         "hovertemplate": "<b>%{hovertext}</b><br><br>organisation=Hacking Team<br>randNumCol=%{x}<br>year=%{y}<br>records lost=%{marker.size}<extra></extra>",
         "hovertext": [
          "Hacking Team"
         ],
         "legendgroup": "Hacking Team",
         "marker": {
          "color": "#19d3f3",
          "size": [
           500000
          ],
          "sizemode": "area",
          "sizeref": 194444.44444444444,
          "symbol": "circle"
         },
         "mode": "markers",
         "name": "Hacking Team",
         "orientation": "v",
         "showlegend": true,
         "type": "scatter",
         "x": [
          55
         ],
         "xaxis": "x",
         "y": [
          2015
         ],
         "yaxis": "y"
        },
        {
         "hovertemplate": "<b>%{hovertext}</b><br><br>organisation=AshleyMadison.com<br>randNumCol=%{x}<br>year=%{y}<br>records lost=%{marker.size}<extra></extra>",
         "hovertext": [
          "AshleyMadison.com"
         ],
         "legendgroup": "AshleyMadison.com",
         "marker": {
          "color": "#FF6692",
          "size": [
           37000000
          ],
          "sizemode": "area",
          "sizeref": 194444.44444444444,
          "symbol": "circle"
         },
         "mode": "markers",
         "name": "AshleyMadison.com",
         "orientation": "v",
         "showlegend": true,
         "type": "scatter",
         "x": [
          81
         ],
         "xaxis": "x",
         "y": [
          2015
         ],
         "yaxis": "y"
        },
        {
         "hovertemplate": "<b>%{hovertext}</b><br><br>organisation=US Office of Personnel Management (2nd Breach)<br>randNumCol=%{x}<br>year=%{y}<br>records lost=%{marker.size}<extra></extra>",
         "hovertext": [
          "US Office of Personnel Management (2nd Breach)"
         ],
         "legendgroup": "US Office of Personnel Management (2nd Breach)",
         "marker": {
          "color": "#B6E880",
          "size": [
           21500000
          ],
          "sizemode": "area",
          "sizeref": 194444.44444444444,
          "symbol": "circle"
         },
         "mode": "markers",
         "name": "US Office of Personnel Management (2nd Breach)",
         "orientation": "v",
         "showlegend": true,
         "type": "scatter",
         "x": [
          12
         ],
         "xaxis": "x",
         "y": [
          2015
         ],
         "yaxis": "y"
        },
        {
         "hovertemplate": "<b>%{hovertext}</b><br><br>organisation=US Office of Personnel Management<br>randNumCol=%{x}<br>year=%{y}<br>records lost=%{marker.size}<extra></extra>",
         "hovertext": [
          "US Office of Personnel Management"
         ],
         "legendgroup": "US Office of Personnel Management",
         "marker": {
          "color": "#FF97FF",
          "size": [
           4000000
          ],
          "sizemode": "area",
          "sizeref": 194444.44444444444,
          "symbol": "circle"
         },
         "mode": "markers",
         "name": "US Office of Personnel Management",
         "orientation": "v",
         "showlegend": true,
         "type": "scatter",
         "x": [
          38
         ],
         "xaxis": "x",
         "y": [
          2015
         ],
         "yaxis": "y"
        },
        {
         "hovertemplate": "<b>%{hovertext}</b><br><br>organisation=Australian Immigration Department<br>randNumCol=%{x}<br>year=%{y}<br>records lost=%{marker.size}<extra></extra>",
         "hovertext": [
          "Australian Immigration Department"
         ],
         "legendgroup": "Australian Immigration Department",
         "marker": {
          "color": "#FECB52",
          "size": [
           30
          ],
          "sizemode": "area",
          "sizeref": 194444.44444444444,
          "symbol": "circle"
         },
         "mode": "markers",
         "name": "Australian Immigration Department",
         "orientation": "v",
         "showlegend": true,
         "type": "scatter",
         "x": [
          59
         ],
         "xaxis": "x",
         "y": [
          2015
         ],
         "yaxis": "y"
        },
        {
         "hovertemplate": "<b>%{hovertext}</b><br><br>organisation=IRS<br>randNumCol=%{x}<br>year=%{y}<br>records lost=%{marker.size}<extra></extra>",
         "hovertext": [
          "IRS"
         ],
         "legendgroup": "IRS",
         "marker": {
          "color": "#636efa",
          "size": [
           100000
          ],
          "sizemode": "area",
          "sizeref": 194444.44444444444,
          "symbol": "circle"
         },
         "mode": "markers",
         "name": "IRS",
         "orientation": "v",
         "showlegend": true,
         "type": "scatter",
         "x": [
          57
         ],
         "xaxis": "x",
         "y": [
          2015
         ],
         "yaxis": "y"
        },
        {
         "hovertemplate": "<b>%{hovertext}</b><br><br>organisation=MSpy<br>randNumCol=%{x}<br>year=%{y}<br>records lost=%{marker.size}<extra></extra>",
         "hovertext": [
          "MSpy"
         ],
         "legendgroup": "MSpy",
         "marker": {
          "color": "#EF553B",
          "size": [
           400000
          ],
          "sizemode": "area",
          "sizeref": 194444.44444444444,
          "symbol": "circle"
         },
         "mode": "markers",
         "name": "MSpy",
         "orientation": "v",
         "showlegend": true,
         "type": "scatter",
         "x": [
          36
         ],
         "xaxis": "x",
         "y": [
          2015
         ],
         "yaxis": "y"
        },
        {
         "hovertemplate": "<b>%{hovertext}</b><br><br>organisation=Adult Friend Finder<br>randNumCol=%{x}<br>year=%{y}<br>records lost=%{marker.size}<extra></extra>",
         "hovertext": [
          "Adult Friend Finder"
         ],
         "legendgroup": "Adult Friend Finder",
         "marker": {
          "color": "#00cc96",
          "size": [
           3900000
          ],
          "sizemode": "area",
          "sizeref": 194444.44444444444,
          "symbol": "circle"
         },
         "mode": "markers",
         "name": "Adult Friend Finder",
         "orientation": "v",
         "showlegend": true,
         "type": "scatter",
         "x": [
          69
         ],
         "xaxis": "x",
         "y": [
          2015
         ],
         "yaxis": "y"
        },
        {
         "hovertemplate": "<b>%{hovertext}</b><br><br>organisation=Securus Technologies<br>randNumCol=%{x}<br>year=%{y}<br>records lost=%{marker.size}<extra></extra>",
         "hovertext": [
          "Securus Technologies"
         ],
         "legendgroup": "Securus Technologies",
         "marker": {
          "color": "#ab63fa",
          "size": [
           70000000
          ],
          "sizemode": "area",
          "sizeref": 194444.44444444444,
          "symbol": "circle"
         },
         "mode": "markers",
         "name": "Securus Technologies",
         "orientation": "v",
         "showlegend": true,
         "type": "scatter",
         "x": [
          8
         ],
         "xaxis": "x",
         "y": [
          2015
         ],
         "yaxis": "y"
        },
        {
         "hovertemplate": "<b>%{hovertext}</b><br><br>organisation=TalkTalk<br>randNumCol=%{x}<br>year=%{y}<br>records lost=%{marker.size}<extra></extra>",
         "hovertext": [
          "TalkTalk"
         ],
         "legendgroup": "TalkTalk",
         "marker": {
          "color": "#FFA15A",
          "size": [
           157000
          ],
          "sizemode": "area",
          "sizeref": 194444.44444444444,
          "symbol": "circle"
         },
         "mode": "markers",
         "name": "TalkTalk",
         "orientation": "v",
         "showlegend": true,
         "type": "scatter",
         "x": [
          45
         ],
         "xaxis": "x",
         "y": [
          2015
         ],
         "yaxis": "y"
        },
        {
         "hovertemplate": "<b>%{hovertext}</b><br><br>organisation=Experian / T-mobile<br>randNumCol=%{x}<br>year=%{y}<br>records lost=%{marker.size}<extra></extra>",
         "hovertext": [
          "Experian / T-mobile"
         ],
         "legendgroup": "Experian / T-mobile",
         "marker": {
          "color": "#19d3f3",
          "size": [
           15000000
          ],
          "sizemode": "area",
          "sizeref": 194444.44444444444,
          "symbol": "circle"
         },
         "mode": "markers",
         "name": "Experian / T-mobile",
         "orientation": "v",
         "showlegend": true,
         "type": "scatter",
         "x": [
          98
         ],
         "xaxis": "x",
         "y": [
          2015
         ],
         "yaxis": "y"
        },
        {
         "hovertemplate": "<b>%{hovertext}</b><br><br>organisation=Slack<br>randNumCol=%{x}<br>year=%{y}<br>records lost=%{marker.size}<extra></extra>",
         "hovertext": [
          "Slack"
         ],
         "legendgroup": "Slack",
         "marker": {
          "color": "#FF6692",
          "size": [
           500000
          ],
          "sizemode": "area",
          "sizeref": 194444.44444444444,
          "symbol": "circle"
         },
         "mode": "markers",
         "name": "Slack",
         "orientation": "v",
         "showlegend": true,
         "type": "scatter",
         "x": [
          73
         ],
         "xaxis": "x",
         "y": [
          2015
         ],
         "yaxis": "y"
        },
        {
         "hovertemplate": "<b>%{hovertext}</b><br><br>organisation=CarPhone Warehouse<br>randNumCol=%{x}<br>year=%{y}<br>records lost=%{marker.size}<extra></extra>",
         "hovertext": [
          "CarPhone Warehouse"
         ],
         "legendgroup": "CarPhone Warehouse",
         "marker": {
          "color": "#B6E880",
          "size": [
           2400000
          ],
          "sizemode": "area",
          "sizeref": 194444.44444444444,
          "symbol": "circle"
         },
         "mode": "markers",
         "name": "CarPhone Warehouse",
         "orientation": "v",
         "showlegend": true,
         "type": "scatter",
         "x": [
          74
         ],
         "xaxis": "x",
         "y": [
          2015
         ],
         "yaxis": "y"
        },
        {
         "hovertemplate": "<b>%{hovertext}</b><br><br>organisation=Anthem <br>randNumCol=%{x}<br>year=%{y}<br>records lost=%{marker.size}<extra></extra>",
         "hovertext": [
          "Anthem "
         ],
         "legendgroup": "Anthem ",
         "marker": {
          "color": "#FF97FF",
          "size": [
           80000000
          ],
          "sizemode": "area",
          "sizeref": 194444.44444444444,
          "symbol": "circle"
         },
         "mode": "markers",
         "name": "Anthem ",
         "orientation": "v",
         "showlegend": true,
         "type": "scatter",
         "x": [
          36
         ],
         "xaxis": "x",
         "y": [
          2015
         ],
         "yaxis": "y"
        },
        {
         "hovertemplate": "<b>%{hovertext}</b><br><br>organisation=UCLA Health<br>randNumCol=%{x}<br>year=%{y}<br>records lost=%{marker.size}<extra></extra>",
         "hovertext": [
          "UCLA Health"
         ],
         "legendgroup": "UCLA Health",
         "marker": {
          "color": "#FECB52",
          "size": [
           4500000
          ],
          "sizemode": "area",
          "sizeref": 194444.44444444444,
          "symbol": "circle"
         },
         "mode": "markers",
         "name": "UCLA Health",
         "orientation": "v",
         "showlegend": true,
         "type": "scatter",
         "x": [
          60
         ],
         "xaxis": "x",
         "y": [
          2015
         ],
         "yaxis": "y"
        },
        {
         "hovertemplate": "<b>%{hovertext}</b><br><br>organisation=AOL<br>randNumCol=%{x}<br>year=%{y}<br>records lost=%{marker.size}<extra></extra>",
         "hovertext": [
          "AOL",
          "AOL",
          "AOL"
         ],
         "legendgroup": "AOL",
         "marker": {
          "color": "#636efa",
          "size": [
           2400000,
           20000000,
           92000000
          ],
          "sizemode": "area",
          "sizeref": 194444.44444444444,
          "symbol": "circle"
         },
         "mode": "markers",
         "name": "AOL",
         "orientation": "v",
         "showlegend": true,
         "type": "scatter",
         "x": [
          62,
          20,
          82
         ],
         "xaxis": "x",
         "y": [
          2014,
          2006,
          2004
         ],
         "yaxis": "y"
        },
        {
         "hovertemplate": "<b>%{hovertext}</b><br><br>organisation=Community Health Systems<br>randNumCol=%{x}<br>year=%{y}<br>records lost=%{marker.size}<extra></extra>",
         "hovertext": [
          "Community Health Systems"
         ],
         "legendgroup": "Community Health Systems",
         "marker": {
          "color": "#EF553B",
          "size": [
           4500000
          ],
          "sizemode": "area",
          "sizeref": 194444.44444444444,
          "symbol": "circle"
         },
         "mode": "markers",
         "name": "Community Health Systems",
         "orientation": "v",
         "showlegend": true,
         "type": "scatter",
         "x": [
          74
         ],
         "xaxis": "x",
         "y": [
          2014
         ],
         "yaxis": "y"
        },
        {
         "hovertemplate": "<b>%{hovertext}</b><br><br>organisation=Privatization Agency of the Republic of Serbia<br>randNumCol=%{x}<br>year=%{y}<br>records lost=%{marker.size}<extra></extra>",
         "hovertext": [
          "Privatization Agency of the Republic of Serbia"
         ],
         "legendgroup": "Privatization Agency of the Republic of Serbia",
         "marker": {
          "color": "#00cc96",
          "size": [
           5190396
          ],
          "sizemode": "area",
          "sizeref": 194444.44444444444,
          "symbol": "circle"
         },
         "mode": "markers",
         "name": "Privatization Agency of the Republic of Serbia",
         "orientation": "v",
         "showlegend": true,
         "type": "scatter",
         "x": [
          77
         ],
         "xaxis": "x",
         "y": [
          2014
         ],
         "yaxis": "y"
        },
        {
         "hovertemplate": "<b>%{hovertext}</b><br><br>organisation=Sony Pictures<br>randNumCol=%{x}<br>year=%{y}<br>records lost=%{marker.size}<extra></extra>",
         "hovertext": [
          "Sony Pictures",
          "Sony Pictures"
         ],
         "legendgroup": "Sony Pictures",
         "marker": {
          "color": "#ab63fa",
          "size": [
           10000000,
           1000000
          ],
          "sizemode": "area",
          "sizeref": 194444.44444444444,
          "symbol": "circle"
         },
         "mode": "markers",
         "name": "Sony Pictures",
         "orientation": "v",
         "showlegend": true,
         "type": "scatter",
         "x": [
          81,
          6
         ],
         "xaxis": "x",
         "y": [
          2014,
          2011
         ],
         "yaxis": "y"
        },
        {
         "hovertemplate": "<b>%{hovertext}</b><br><br>organisation=Indiana University<br>randNumCol=%{x}<br>year=%{y}<br>records lost=%{marker.size}<extra></extra>",
         "hovertext": [
          "Indiana University"
         ],
         "legendgroup": "Indiana University",
         "marker": {
          "color": "#FFA15A",
          "size": [
           146000
          ],
          "sizemode": "area",
          "sizeref": 194444.44444444444,
          "symbol": "circle"
         },
         "mode": "markers",
         "name": "Indiana University",
         "orientation": "v",
         "showlegend": true,
         "type": "scatter",
         "x": [
          72
         ],
         "xaxis": "x",
         "y": [
          2014
         ],
         "yaxis": "y"
        },
        {
         "hovertemplate": "<b>%{hovertext}</b><br><br>organisation=Ebay<br>randNumCol=%{x}<br>year=%{y}<br>records lost=%{marker.size}<extra></extra>",
         "hovertext": [
          "Ebay"
         ],
         "legendgroup": "Ebay",
         "marker": {
          "color": "#19d3f3",
          "size": [
           145000000
          ],
          "sizemode": "area",
          "sizeref": 194444.44444444444,
          "symbol": "circle"
         },
         "mode": "markers",
         "name": "Ebay",
         "orientation": "v",
         "showlegend": true,
         "type": "scatter",
         "x": [
          14
         ],
         "xaxis": "x",
         "y": [
          2014
         ],
         "yaxis": "y"
        },
        {
         "hovertemplate": "<b>%{hovertext}</b><br><br>organisation=UPS<br>randNumCol=%{x}<br>year=%{y}<br>records lost=%{marker.size}<extra></extra>",
         "hovertext": [
          "UPS"
         ],
         "legendgroup": "UPS",
         "marker": {
          "color": "#FF6692",
          "size": [
           4000000
          ],
          "sizemode": "area",
          "sizeref": 194444.44444444444,
          "symbol": "circle"
         },
         "mode": "markers",
         "name": "UPS",
         "orientation": "v",
         "showlegend": true,
         "type": "scatter",
         "x": [
          99
         ],
         "xaxis": "x",
         "y": [
          2014
         ],
         "yaxis": "y"
        },
        {
         "hovertemplate": "<b>%{hovertext}</b><br><br>organisation=European Central Bank<br>randNumCol=%{x}<br>year=%{y}<br>records lost=%{marker.size}<extra></extra>",
         "hovertext": [
          "European Central Bank"
         ],
         "legendgroup": "European Central Bank",
         "marker": {
          "color": "#B6E880",
          "size": [
           4000000
          ],
          "sizemode": "area",
          "sizeref": 194444.44444444444,
          "symbol": "circle"
         },
         "mode": "markers",
         "name": "European Central Bank",
         "orientation": "v",
         "showlegend": true,
         "type": "scatter",
         "x": [
          27
         ],
         "xaxis": "x",
         "y": [
          2014
         ],
         "yaxis": "y"
        },
        {
         "hovertemplate": "<b>%{hovertext}</b><br><br>organisation=JP Morgan Chase<br>randNumCol=%{x}<br>year=%{y}<br>records lost=%{marker.size}<extra></extra>",
         "hovertext": [
          "JP Morgan Chase",
          "JP Morgan Chase"
         ],
         "legendgroup": "JP Morgan Chase",
         "marker": {
          "color": "#FF97FF",
          "size": [
           76000000,
           2600000
          ],
          "sizemode": "area",
          "sizeref": 194444.44444444444,
          "symbol": "circle"
         },
         "mode": "markers",
         "name": "JP Morgan Chase",
         "orientation": "v",
         "showlegend": true,
         "type": "scatter",
         "x": [
          48,
          40
         ],
         "xaxis": "x",
         "y": [
          2014,
          2007
         ],
         "yaxis": "y"
        },
        {
         "hovertemplate": "<b>%{hovertext}</b><br><br>organisation=New York Taxis<br>randNumCol=%{x}<br>year=%{y}<br>records lost=%{marker.size}<extra></extra>",
         "hovertext": [
          "New York Taxis"
         ],
         "legendgroup": "New York Taxis",
         "marker": {
          "color": "#FECB52",
          "size": [
           52000
          ],
          "sizemode": "area",
          "sizeref": 194444.44444444444,
          "symbol": "circle"
         },
         "mode": "markers",
         "name": "New York Taxis",
         "orientation": "v",
         "showlegend": true,
         "type": "scatter",
         "x": [
          73
         ],
         "xaxis": "x",
         "y": [
          2014
         ],
         "yaxis": "y"
        },
        {
         "hovertemplate": "<b>%{hovertext}</b><br><br>organisation=HSBC Turkey<br>randNumCol=%{x}<br>year=%{y}<br>records lost=%{marker.size}<extra></extra>",
         "hovertext": [
          "HSBC Turkey"
         ],
         "legendgroup": "HSBC Turkey",
         "marker": {
          "color": "#636efa",
          "size": [
           2700000
          ],
          "sizemode": "area",
          "sizeref": 194444.44444444444,
          "symbol": "circle"
         },
         "mode": "markers",
         "name": "HSBC Turkey",
         "orientation": "v",
         "showlegend": true,
         "type": "scatter",
         "x": [
          19
         ],
         "xaxis": "x",
         "y": [
          2014
         ],
         "yaxis": "y"
        },
        {
         "hovertemplate": "<b>%{hovertext}</b><br><br>organisation=Japan Airlines<br>randNumCol=%{x}<br>year=%{y}<br>records lost=%{marker.size}<extra></extra>",
         "hovertext": [
          "Japan Airlines"
         ],
         "legendgroup": "Japan Airlines",
         "marker": {
          "color": "#EF553B",
          "size": [
           750000
          ],
          "sizemode": "area",
          "sizeref": 194444.44444444444,
          "symbol": "circle"
         },
         "mode": "markers",
         "name": "Japan Airlines",
         "orientation": "v",
         "showlegend": true,
         "type": "scatter",
         "x": [
          97
         ],
         "xaxis": "x",
         "y": [
          2014
         ],
         "yaxis": "y"
        },
        {
         "hovertemplate": "<b>%{hovertext}</b><br><br>organisation=Staples<br>randNumCol=%{x}<br>year=%{y}<br>records lost=%{marker.size}<extra></extra>",
         "hovertext": [
          "Staples"
         ],
         "legendgroup": "Staples",
         "marker": {
          "color": "#00cc96",
          "size": [
           1160000
          ],
          "sizemode": "area",
          "sizeref": 194444.44444444444,
          "symbol": "circle"
         },
         "mode": "markers",
         "name": "Staples",
         "orientation": "v",
         "showlegend": true,
         "type": "scatter",
         "x": [
          20
         ],
         "xaxis": "x",
         "y": [
          2014
         ],
         "yaxis": "y"
        },
        {
         "hovertemplate": "<b>%{hovertext}</b><br><br>organisation=GMail<br>randNumCol=%{x}<br>year=%{y}<br>records lost=%{marker.size}<extra></extra>",
         "hovertext": [
          "GMail"
         ],
         "legendgroup": "GMail",
         "marker": {
          "color": "#ab63fa",
          "size": [
           5000000
          ],
          "sizemode": "area",
          "sizeref": 194444.44444444444,
          "symbol": "circle"
         },
         "mode": "markers",
         "name": "GMail",
         "orientation": "v",
         "showlegend": true,
         "type": "scatter",
         "x": [
          32
         ],
         "xaxis": "x",
         "y": [
          2014
         ],
         "yaxis": "y"
        },
        {
         "hovertemplate": "<b>%{hovertext}</b><br><br>organisation=Home Depot<br>randNumCol=%{x}<br>year=%{y}<br>records lost=%{marker.size}<extra></extra>",
         "hovertext": [
          "Home Depot"
         ],
         "legendgroup": "Home Depot",
         "marker": {
          "color": "#FFA15A",
          "size": [
           56000000
          ],
          "sizemode": "area",
          "sizeref": 194444.44444444444,
          "symbol": "circle"
         },
         "mode": "markers",
         "name": "Home Depot",
         "orientation": "v",
         "showlegend": true,
         "type": "scatter",
         "x": [
          46
         ],
         "xaxis": "x",
         "y": [
          2014
         ],
         "yaxis": "y"
        },
        {
         "hovertemplate": "<b>%{hovertext}</b><br><br>organisation=Korea Credit Bureau<br>randNumCol=%{x}<br>year=%{y}<br>records lost=%{marker.size}<extra></extra>",
         "hovertext": [
          "Korea Credit Bureau"
         ],
         "legendgroup": "Korea Credit Bureau",
         "marker": {
          "color": "#19d3f3",
          "size": [
           20000000
          ],
          "sizemode": "area",
          "sizeref": 194444.44444444444,
          "symbol": "circle"
         },
         "mode": "markers",
         "name": "Korea Credit Bureau",
         "orientation": "v",
         "showlegend": true,
         "type": "scatter",
         "x": [
          78
         ],
         "xaxis": "x",
         "y": [
          2014
         ],
         "yaxis": "y"
        },
        {
         "hovertemplate": "<b>%{hovertext}</b><br><br>organisation=Dominios Pizzas (France)<br>randNumCol=%{x}<br>year=%{y}<br>records lost=%{marker.size}<extra></extra>",
         "hovertext": [
          "Dominios Pizzas (France)"
         ],
         "legendgroup": "Dominios Pizzas (France)",
         "marker": {
          "color": "#FF6692",
          "size": [
           600000
          ],
          "sizemode": "area",
          "sizeref": 194444.44444444444,
          "symbol": "circle"
         },
         "mode": "markers",
         "name": "Dominios Pizzas (France)",
         "orientation": "v",
         "showlegend": true,
         "type": "scatter",
         "x": [
          32
         ],
         "xaxis": "x",
         "y": [
          2014
         ],
         "yaxis": "y"
        },
        {
         "hovertemplate": "<b>%{hovertext}</b><br><br>organisation=Mozilla<br>randNumCol=%{x}<br>year=%{y}<br>records lost=%{marker.size}<extra></extra>",
         "hovertext": [
          "Mozilla"
         ],
         "legendgroup": "Mozilla",
         "marker": {
          "color": "#B6E880",
          "size": [
           76000
          ],
          "sizemode": "area",
          "sizeref": 194444.44444444444,
          "symbol": "circle"
         },
         "mode": "markers",
         "name": "Mozilla",
         "orientation": "v",
         "showlegend": true,
         "type": "scatter",
         "x": [
          62
         ],
         "xaxis": "x",
         "y": [
          2014
         ],
         "yaxis": "y"
        },
        {
         "hovertemplate": "<b>%{hovertext}</b><br><br>organisation=Massive American business hack<br>randNumCol=%{x}<br>year=%{y}<br>records lost=%{marker.size}<extra></extra>",
         "hovertext": [
          "Massive American business hack"
         ],
         "legendgroup": "Massive American business hack",
         "marker": {
          "color": "#FF97FF",
          "size": [
           160000000
          ],
          "sizemode": "area",
          "sizeref": 194444.44444444444,
          "symbol": "circle"
         },
         "mode": "markers",
         "name": "Massive American business hack",
         "orientation": "v",
         "showlegend": true,
         "type": "scatter",
         "x": [
          11
         ],
         "xaxis": "x",
         "y": [
          2013
         ],
         "yaxis": "y"
        },
        {
         "hovertemplate": "<b>%{hovertext}</b><br><br>organisation=Affinity Health Plan, Inc.<br>randNumCol=%{x}<br>year=%{y}<br>records lost=%{marker.size}<extra></extra>",
         "hovertext": [
          "Affinity Health Plan, Inc."
         ],
         "legendgroup": "Affinity Health Plan, Inc.",
         "marker": {
          "color": "#FECB52",
          "size": [
           344579
          ],
          "sizemode": "area",
          "sizeref": 194444.44444444444,
          "symbol": "circle"
         },
         "mode": "markers",
         "name": "Affinity Health Plan, Inc.",
         "orientation": "v",
         "showlegend": true,
         "type": "scatter",
         "x": [
          24
         ],
         "xaxis": "x",
         "y": [
          2013
         ],
         "yaxis": "y"
        },
        {
         "hovertemplate": "<b>%{hovertext}</b><br><br>organisation=Citigroup<br>randNumCol=%{x}<br>year=%{y}<br>records lost=%{marker.size}<extra></extra>",
         "hovertext": [
          "Citigroup",
          "Citigroup",
          "Citigroup"
         ],
         "legendgroup": "Citigroup",
         "marker": {
          "color": "#636efa",
          "size": [
           150000,
           210000,
           3900000
          ],
          "sizemode": "area",
          "sizeref": 194444.44444444444,
          "symbol": "circle"
         },
         "mode": "markers",
         "name": "Citigroup",
         "orientation": "v",
         "showlegend": true,
         "type": "scatter",
         "x": [
          22,
          89,
          6
         ],
         "xaxis": "x",
         "y": [
          2013,
          2011,
          2005
         ],
         "yaxis": "y"
        },
        {
         "hovertemplate": "<b>%{hovertext}</b><br><br>organisation=Tianya<br>randNumCol=%{x}<br>year=%{y}<br>records lost=%{marker.size}<extra></extra>",
         "hovertext": [
          "Tianya"
         ],
         "legendgroup": "Tianya",
         "marker": {
          "color": "#EF553B",
          "size": [
           40000000
          ],
          "sizemode": "area",
          "sizeref": 194444.44444444444,
          "symbol": "circle"
         },
         "mode": "markers",
         "name": "Tianya",
         "orientation": "v",
         "showlegend": true,
         "type": "scatter",
         "x": [
          64
         ],
         "xaxis": "x",
         "y": [
          2013
         ],
         "yaxis": "y"
        },
        {
         "hovertemplate": "<b>%{hovertext}</b><br><br>organisation=Scribd<br>randNumCol=%{x}<br>year=%{y}<br>records lost=%{marker.size}<extra></extra>",
         "hovertext": [
          "Scribd"
         ],
         "legendgroup": "Scribd",
         "marker": {
          "color": "#00cc96",
          "size": [
           500000
          ],
          "sizemode": "area",
          "sizeref": 194444.44444444444,
          "symbol": "circle"
         },
         "mode": "markers",
         "name": "Scribd",
         "orientation": "v",
         "showlegend": true,
         "type": "scatter",
         "x": [
          76
         ],
         "xaxis": "x",
         "y": [
          2013
         ],
         "yaxis": "y"
        },
        {
         "hovertemplate": "<b>%{hovertext}</b><br><br>organisation=Living Social<br>randNumCol=%{x}<br>year=%{y}<br>records lost=%{marker.size}<extra></extra>",
         "hovertext": [
          "Living Social"
         ],
         "legendgroup": "Living Social",
         "marker": {
          "color": "#ab63fa",
          "size": [
           50000000
          ],
          "sizemode": "area",
          "sizeref": 194444.44444444444,
          "symbol": "circle"
         },
         "mode": "markers",
         "name": "Living Social",
         "orientation": "v",
         "showlegend": true,
         "type": "scatter",
         "x": [
          13
         ],
         "xaxis": "x",
         "y": [
          2013
         ],
         "yaxis": "y"
        },
        {
         "hovertemplate": "<b>%{hovertext}</b><br><br>organisation=SnapChat<br>randNumCol=%{x}<br>year=%{y}<br>records lost=%{marker.size}<extra></extra>",
         "hovertext": [
          "SnapChat"
         ],
         "legendgroup": "SnapChat",
         "marker": {
          "color": "#FFA15A",
          "size": [
           4600000
          ],
          "sizemode": "area",
          "sizeref": 194444.44444444444,
          "symbol": "circle"
         },
         "mode": "markers",
         "name": "SnapChat",
         "orientation": "v",
         "showlegend": true,
         "type": "scatter",
         "x": [
          34
         ],
         "xaxis": "x",
         "y": [
          2013
         ],
         "yaxis": "y"
        },
        {
         "hovertemplate": "<b>%{hovertext}</b><br><br>organisation=University of Delaware<br>randNumCol=%{x}<br>year=%{y}<br>records lost=%{marker.size}<extra></extra>",
         "hovertext": [
          "University of Delaware"
         ],
         "legendgroup": "University of Delaware",
         "marker": {
          "color": "#19d3f3",
          "size": [
           74000
          ],
          "sizemode": "area",
          "sizeref": 194444.44444444444,
          "symbol": "circle"
         },
         "mode": "markers",
         "name": "University of Delaware",
         "orientation": "v",
         "showlegend": true,
         "type": "scatter",
         "x": [
          48
         ],
         "xaxis": "x",
         "y": [
          2013
         ],
         "yaxis": "y"
        },
        {
         "hovertemplate": "<b>%{hovertext}</b><br><br>organisation=Central Hudson Gas & Electric<br>randNumCol=%{x}<br>year=%{y}<br>records lost=%{marker.size}<extra></extra>",
         "hovertext": [
          "Central Hudson Gas & Electric"
         ],
         "legendgroup": "Central Hudson Gas & Electric",
         "marker": {
          "color": "#FF6692",
          "size": [
           110000
          ],
          "sizemode": "area",
          "sizeref": 194444.44444444444,
          "symbol": "circle"
         },
         "mode": "markers",
         "name": "Central Hudson Gas & Electric",
         "orientation": "v",
         "showlegend": true,
         "type": "scatter",
         "x": [
          86
         ],
         "xaxis": "x",
         "y": [
          2013
         ],
         "yaxis": "y"
        },
        {
         "hovertemplate": "<b>%{hovertext}</b><br><br>organisation=Crescent Health Inc., Walgreens<br>randNumCol=%{x}<br>year=%{y}<br>records lost=%{marker.size}<extra></extra>",
         "hovertext": [
          "Crescent Health Inc., Walgreens"
         ],
         "legendgroup": "Crescent Health Inc., Walgreens",
         "marker": {
          "color": "#B6E880",
          "size": [
           100000
          ],
          "sizemode": "area",
          "sizeref": 194444.44444444444,
          "symbol": "circle"
         },
         "mode": "markers",
         "name": "Crescent Health Inc., Walgreens",
         "orientation": "v",
         "showlegend": true,
         "type": "scatter",
         "x": [
          83
         ],
         "xaxis": "x",
         "y": [
          2013
         ],
         "yaxis": "y"
        },
        {
         "hovertemplate": "<b>%{hovertext}</b><br><br>organisation=Florida Department of Juvenile Justice<br>randNumCol=%{x}<br>year=%{y}<br>records lost=%{marker.size}<extra></extra>",
         "hovertext": [
          "Florida Department of Juvenile Justice"
         ],
         "legendgroup": "Florida Department of Juvenile Justice",
         "marker": {
          "color": "#FF97FF",
          "size": [
           100000
          ],
          "sizemode": "area",
          "sizeref": 194444.44444444444,
          "symbol": "circle"
         },
         "mode": "markers",
         "name": "Florida Department of Juvenile Justice",
         "orientation": "v",
         "showlegend": true,
         "type": "scatter",
         "x": [
          87
         ],
         "xaxis": "x",
         "y": [
          2013
         ],
         "yaxis": "y"
        },
        {
         "hovertemplate": "<b>%{hovertext}</b><br><br>organisation=Advocate Medical Group<br>randNumCol=%{x}<br>year=%{y}<br>records lost=%{marker.size}<extra></extra>",
         "hovertext": [
          "Advocate Medical Group"
         ],
         "legendgroup": "Advocate Medical Group",
         "marker": {
          "color": "#FECB52",
          "size": [
           4000000
          ],
          "sizemode": "area",
          "sizeref": 194444.44444444444,
          "symbol": "circle"
         },
         "mode": "markers",
         "name": "Advocate Medical Group",
         "orientation": "v",
         "showlegend": true,
         "type": "scatter",
         "x": [
          17
         ],
         "xaxis": "x",
         "y": [
          2013
         ],
         "yaxis": "y"
        },
        {
         "hovertemplate": "<b>%{hovertext}</b><br><br>organisation=OVH<br>randNumCol=%{x}<br>year=%{y}<br>records lost=%{marker.size}<extra></extra>",
         "hovertext": [
          "OVH"
         ],
         "legendgroup": "OVH",
         "marker": {
          "color": "#636efa",
          "size": [
           200000
          ],
          "sizemode": "area",
          "sizeref": 194444.44444444444,
          "symbol": "circle"
         },
         "mode": "markers",
         "name": "OVH",
         "orientation": "v",
         "showlegend": true,
         "type": "scatter",
         "x": [
          40
         ],
         "xaxis": "x",
         "y": [
          2013
         ],
         "yaxis": "y"
        },
        {
         "hovertemplate": "<b>%{hovertext}</b><br><br>organisation=Apple<br>randNumCol=%{x}<br>year=%{y}<br>records lost=%{marker.size}<extra></extra>",
         "hovertext": [
          "Apple"
         ],
         "legendgroup": "Apple",
         "marker": {
          "color": "#EF553B",
          "size": [
           275000
          ],
          "sizemode": "area",
          "sizeref": 194444.44444444444,
          "symbol": "circle"
         },
         "mode": "markers",
         "name": "Apple",
         "orientation": "v",
         "showlegend": true,
         "type": "scatter",
         "x": [
          23
         ],
         "xaxis": "x",
         "y": [
          2013
         ],
         "yaxis": "y"
        },
        {
         "hovertemplate": "<b>%{hovertext}</b><br><br>organisation=NASDAQ<br>randNumCol=%{x}<br>year=%{y}<br>records lost=%{marker.size}<extra></extra>",
         "hovertext": [
          "NASDAQ"
         ],
         "legendgroup": "NASDAQ",
         "marker": {
          "color": "#00cc96",
          "size": [
           500000
          ],
          "sizemode": "area",
          "sizeref": 194444.44444444444,
          "symbol": "circle"
         },
         "mode": "markers",
         "name": "NASDAQ",
         "orientation": "v",
         "showlegend": true,
         "type": "scatter",
         "x": [
          6
         ],
         "xaxis": "x",
         "y": [
          2013
         ],
         "yaxis": "y"
        },
        {
         "hovertemplate": "<b>%{hovertext}</b><br><br>organisation=UbiSoft<br>randNumCol=%{x}<br>year=%{y}<br>records lost=%{marker.size}<extra></extra>",
         "hovertext": [
          "UbiSoft"
         ],
         "legendgroup": "UbiSoft",
         "marker": {
          "color": "#ab63fa",
          "size": [
           58000000
          ],
          "sizemode": "area",
          "sizeref": 194444.44444444444,
          "symbol": "circle"
         },
         "mode": "markers",
         "name": "UbiSoft",
         "orientation": "v",
         "showlegend": true,
         "type": "scatter",
         "x": [
          11
         ],
         "xaxis": "x",
         "y": [
          2013
         ],
         "yaxis": "y"
        },
        {
         "hovertemplate": "<b>%{hovertext}</b><br><br>organisation=Ubuntu<br>randNumCol=%{x}<br>year=%{y}<br>records lost=%{marker.size}<extra></extra>",
         "hovertext": [
          "Ubuntu"
         ],
         "legendgroup": "Ubuntu",
         "marker": {
          "color": "#FFA15A",
          "size": [
           2000000
          ],
          "sizemode": "area",
          "sizeref": 194444.44444444444,
          "symbol": "circle"
         },
         "mode": "markers",
         "name": "Ubuntu",
         "orientation": "v",
         "showlegend": true,
         "type": "scatter",
         "x": [
          56
         ],
         "xaxis": "x",
         "y": [
          2013
         ],
         "yaxis": "y"
        },
        {
         "hovertemplate": "<b>%{hovertext}</b><br><br>organisation=National Security Agency<br>randNumCol=%{x}<br>year=%{y}<br>records lost=%{marker.size}<extra></extra>",
         "hovertext": [
          "National Security Agency"
         ],
         "legendgroup": "National Security Agency",
         "marker": {
          "color": "#19d3f3",
          "size": [
           1500000
          ],
          "sizemode": "area",
          "sizeref": 194444.44444444444,
          "symbol": "circle"
         },
         "mode": "markers",
         "name": "National Security Agency",
         "orientation": "v",
         "showlegend": true,
         "type": "scatter",
         "x": [
          13
         ],
         "xaxis": "x",
         "y": [
          2013
         ],
         "yaxis": "y"
        },
        {
         "hovertemplate": "<b>%{hovertext}</b><br><br>organisation=Evernote<br>randNumCol=%{x}<br>year=%{y}<br>records lost=%{marker.size}<extra></extra>",
         "hovertext": [
          "Evernote"
         ],
         "legendgroup": "Evernote",
         "marker": {
          "color": "#FF6692",
          "size": [
           50000000
          ],
          "sizemode": "area",
          "sizeref": 194444.44444444444,
          "symbol": "circle"
         },
         "mode": "markers",
         "name": "Evernote",
         "orientation": "v",
         "showlegend": true,
         "type": "scatter",
         "x": [
          86
         ],
         "xaxis": "x",
         "y": [
          2013
         ],
         "yaxis": "y"
        },
        {
         "hovertemplate": "<b>%{hovertext}</b><br><br>organisation=Kirkwood Community College<br>randNumCol=%{x}<br>year=%{y}<br>records lost=%{marker.size}<extra></extra>",
         "hovertext": [
          "Kirkwood Community College"
         ],
         "legendgroup": "Kirkwood Community College",
         "marker": {
          "color": "#B6E880",
          "size": [
           125000
          ],
          "sizemode": "area",
          "sizeref": 194444.44444444444,
          "symbol": "circle"
         },
         "mode": "markers",
         "name": "Kirkwood Community College",
         "orientation": "v",
         "showlegend": true,
         "type": "scatter",
         "x": [
          45
         ],
         "xaxis": "x",
         "y": [
          2013
         ],
         "yaxis": "y"
        },
        {
         "hovertemplate": "<b>%{hovertext}</b><br><br>organisation=Yahoo Japan<br>randNumCol=%{x}<br>year=%{y}<br>records lost=%{marker.size}<extra></extra>",
         "hovertext": [
          "Yahoo Japan"
         ],
         "legendgroup": "Yahoo Japan",
         "marker": {
          "color": "#FF97FF",
          "size": [
           22000000
          ],
          "sizemode": "area",
          "sizeref": 194444.44444444444,
          "symbol": "circle"
         },
         "mode": "markers",
         "name": "Yahoo Japan",
         "orientation": "v",
         "showlegend": true,
         "type": "scatter",
         "x": [
          29
         ],
         "xaxis": "x",
         "y": [
          2013
         ],
         "yaxis": "y"
        },
        {
         "hovertemplate": "<b>%{hovertext}</b><br><br>organisation=Drupal<br>randNumCol=%{x}<br>year=%{y}<br>records lost=%{marker.size}<extra></extra>",
         "hovertext": [
          "Drupal"
         ],
         "legendgroup": "Drupal",
         "marker": {
          "color": "#FECB52",
          "size": [
           1000000
          ],
          "sizemode": "area",
          "sizeref": 194444.44444444444,
          "symbol": "circle"
         },
         "mode": "markers",
         "name": "Drupal",
         "orientation": "v",
         "showlegend": true,
         "type": "scatter",
         "x": [
          69
         ],
         "xaxis": "x",
         "y": [
          2013
         ],
         "yaxis": "y"
        },
        {
         "hovertemplate": "<b>%{hovertext}</b><br><br>organisation=TerraCom & YourTel<br>randNumCol=%{x}<br>year=%{y}<br>records lost=%{marker.size}<extra></extra>",
         "hovertext": [
          "TerraCom & YourTel"
         ],
         "legendgroup": "TerraCom & YourTel",
         "marker": {
          "color": "#636efa",
          "size": [
           170000
          ],
          "sizemode": "area",
          "sizeref": 194444.44444444444,
          "symbol": "circle"
         },
         "mode": "markers",
         "name": "TerraCom & YourTel",
         "orientation": "v",
         "showlegend": true,
         "type": "scatter",
         "x": [
          60
         ],
         "xaxis": "x",
         "y": [
          2013
         ],
         "yaxis": "y"
        },
        {
         "hovertemplate": "<b>%{hovertext}</b><br><br>organisation=Washington State court system<br>randNumCol=%{x}<br>year=%{y}<br>records lost=%{marker.size}<extra></extra>",
         "hovertext": [
          "Washington State court system"
         ],
         "legendgroup": "Washington State court system",
         "marker": {
          "color": "#EF553B",
          "size": [
           160000
          ],
          "sizemode": "area",
          "sizeref": 194444.44444444444,
          "symbol": "circle"
         },
         "mode": "markers",
         "name": "Washington State court system",
         "orientation": "v",
         "showlegend": true,
         "type": "scatter",
         "x": [
          41
         ],
         "xaxis": "x",
         "y": [
          2013
         ],
         "yaxis": "y"
        },
        {
         "hovertemplate": "<b>%{hovertext}</b><br><br>organisation=MacRumours.com<br>randNumCol=%{x}<br>year=%{y}<br>records lost=%{marker.size}<extra></extra>",
         "hovertext": [
          "MacRumours.com"
         ],
         "legendgroup": "MacRumours.com",
         "marker": {
          "color": "#00cc96",
          "size": [
           860000
          ],
          "sizemode": "area",
          "sizeref": 194444.44444444444,
          "symbol": "circle"
         },
         "mode": "markers",
         "name": "MacRumours.com",
         "orientation": "v",
         "showlegend": true,
         "type": "scatter",
         "x": [
          80
         ],
         "xaxis": "x",
         "y": [
          2013
         ],
         "yaxis": "y"
        },
        {
         "hovertemplate": "<b>%{hovertext}</b><br><br>organisation=Court Ventures<br>randNumCol=%{x}<br>year=%{y}<br>records lost=%{marker.size}<extra></extra>",
         "hovertext": [
          "Court Ventures"
         ],
         "legendgroup": "Court Ventures",
         "marker": {
          "color": "#ab63fa",
          "size": [
           200000000
          ],
          "sizemode": "area",
          "sizeref": 194444.44444444444,
          "symbol": "circle"
         },
         "mode": "markers",
         "name": "Court Ventures",
         "orientation": "v",
         "showlegend": true,
         "type": "scatter",
         "x": [
          21
         ],
         "xaxis": "x",
         "y": [
          2013
         ],
         "yaxis": "y"
        },
        {
         "hovertemplate": "<b>%{hovertext}</b><br><br>organisation=Vodafone<br>randNumCol=%{x}<br>year=%{y}<br>records lost=%{marker.size}<extra></extra>",
         "hovertext": [
          "Vodafone"
         ],
         "legendgroup": "Vodafone",
         "marker": {
          "color": "#FFA15A",
          "size": [
           2000000
          ],
          "sizemode": "area",
          "sizeref": 194444.44444444444,
          "symbol": "circle"
         },
         "mode": "markers",
         "name": "Vodafone",
         "orientation": "v",
         "showlegend": true,
         "type": "scatter",
         "x": [
          58
         ],
         "xaxis": "x",
         "y": [
          2013
         ],
         "yaxis": "y"
        },
        {
         "hovertemplate": "<b>%{hovertext}</b><br><br>organisation=Adobe<br>randNumCol=%{x}<br>year=%{y}<br>records lost=%{marker.size}<extra></extra>",
         "hovertext": [
          "Adobe"
         ],
         "legendgroup": "Adobe",
         "marker": {
          "color": "#19d3f3",
          "size": [
           38000000
          ],
          "sizemode": "area",
          "sizeref": 194444.44444444444,
          "symbol": "circle"
         },
         "mode": "markers",
         "name": "Adobe",
         "orientation": "v",
         "showlegend": true,
         "type": "scatter",
         "x": [
          89
         ],
         "xaxis": "x",
         "y": [
          2013
         ],
         "yaxis": "y"
        },
        {
         "hovertemplate": "<b>%{hovertext}</b><br><br>organisation=D&B, Altegrity<br>randNumCol=%{x}<br>year=%{y}<br>records lost=%{marker.size}<extra></extra>",
         "hovertext": [
          "D&B, Altegrity"
         ],
         "legendgroup": "D&B, Altegrity",
         "marker": {
          "color": "#FF6692",
          "size": [
           1000000
          ],
          "sizemode": "area",
          "sizeref": 194444.44444444444,
          "symbol": "circle"
         },
         "mode": "markers",
         "name": "D&B, Altegrity",
         "orientation": "v",
         "showlegend": true,
         "type": "scatter",
         "x": [
          42
         ],
         "xaxis": "x",
         "y": [
          2013
         ],
         "yaxis": "y"
        },
        {
         "hovertemplate": "<b>%{hovertext}</b><br><br>organisation=ssndob.ms<br>randNumCol=%{x}<br>year=%{y}<br>records lost=%{marker.size}<extra></extra>",
         "hovertext": [
          "ssndob.ms"
         ],
         "legendgroup": "ssndob.ms",
         "marker": {
          "color": "#B6E880",
          "size": [
           4000000
          ],
          "sizemode": "area",
          "sizeref": 194444.44444444444,
          "symbol": "circle"
         },
         "mode": "markers",
         "name": "ssndob.ms",
         "orientation": "v",
         "showlegend": true,
         "type": "scatter",
         "x": [
          87
         ],
         "xaxis": "x",
         "y": [
          2013
         ],
         "yaxis": "y"
        },
        {
         "hovertemplate": "<b>%{hovertext}</b><br><br>organisation=Target<br>randNumCol=%{x}<br>year=%{y}<br>records lost=%{marker.size}<extra></extra>",
         "hovertext": [
          "Target"
         ],
         "legendgroup": "Target",
         "marker": {
          "color": "#FF97FF",
          "size": [
           70000000
          ],
          "sizemode": "area",
          "sizeref": 194444.44444444444,
          "symbol": "circle"
         },
         "mode": "markers",
         "name": "Target",
         "orientation": "v",
         "showlegend": true,
         "type": "scatter",
         "x": [
          30
         ],
         "xaxis": "x",
         "y": [
          2013
         ],
         "yaxis": "y"
        },
        {
         "hovertemplate": "<b>%{hovertext}</b><br><br>organisation=China Software Developer Network<br>randNumCol=%{x}<br>year=%{y}<br>records lost=%{marker.size}<extra></extra>",
         "hovertext": [
          "China Software Developer Network"
         ],
         "legendgroup": "China Software Developer Network",
         "marker": {
          "color": "#FECB52",
          "size": [
           6000000
          ],
          "sizemode": "area",
          "sizeref": 194444.44444444444,
          "symbol": "circle"
         },
         "mode": "markers",
         "name": "China Software Developer Network",
         "orientation": "v",
         "showlegend": true,
         "type": "scatter",
         "x": [
          69
         ],
         "xaxis": "x",
         "y": [
          2012
         ],
         "yaxis": "y"
        },
        {
         "hovertemplate": "<b>%{hovertext}</b><br><br>organisation=Global Payments<br>randNumCol=%{x}<br>year=%{y}<br>records lost=%{marker.size}<extra></extra>",
         "hovertext": [
          "Global Payments"
         ],
         "legendgroup": "Global Payments",
         "marker": {
          "color": "#636efa",
          "size": [
           1500000
          ],
          "sizemode": "area",
          "sizeref": 194444.44444444444,
          "symbol": "circle"
         },
         "mode": "markers",
         "name": "Global Payments",
         "orientation": "v",
         "showlegend": true,
         "type": "scatter",
         "x": [
          53
         ],
         "xaxis": "x",
         "y": [
          2012
         ],
         "yaxis": "y"
        },
        {
         "hovertemplate": "<b>%{hovertext}</b><br><br>organisation=South Carolina Government<br>randNumCol=%{x}<br>year=%{y}<br>records lost=%{marker.size}<extra></extra>",
         "hovertext": [
          "South Carolina Government"
         ],
         "legendgroup": "South Carolina Government",
         "marker": {
          "color": "#EF553B",
          "size": [
           228000
          ],
          "sizemode": "area",
          "sizeref": 194444.44444444444,
          "symbol": "circle"
         },
         "mode": "markers",
         "name": "South Carolina Government",
         "orientation": "v",
         "showlegend": true,
         "type": "scatter",
         "x": [
          16
         ],
         "xaxis": "x",
         "y": [
          2012
         ],
         "yaxis": "y"
        },
        {
         "hovertemplate": "<b>%{hovertext}</b><br><br>organisation=Three Iranian banks<br>randNumCol=%{x}<br>year=%{y}<br>records lost=%{marker.size}<extra></extra>",
         "hovertext": [
          "Three Iranian banks"
         ],
         "legendgroup": "Three Iranian banks",
         "marker": {
          "color": "#00cc96",
          "size": [
           3000000
          ],
          "sizemode": "area",
          "sizeref": 194444.44444444444,
          "symbol": "circle"
         },
         "mode": "markers",
         "name": "Three Iranian banks",
         "orientation": "v",
         "showlegend": true,
         "type": "scatter",
         "x": [
          95
         ],
         "xaxis": "x",
         "y": [
          2012
         ],
         "yaxis": "y"
        },
        {
         "hovertemplate": "<b>%{hovertext}</b><br><br>organisation=California Department of Child Support Services<br>randNumCol=%{x}<br>year=%{y}<br>records lost=%{marker.size}<extra></extra>",
         "hovertext": [
          "California Department of Child Support Services"
         ],
         "legendgroup": "California Department of Child Support Services",
         "marker": {
          "color": "#ab63fa",
          "size": [
           800000
          ],
          "sizemode": "area",
          "sizeref": 194444.44444444444,
          "symbol": "circle"
         },
         "mode": "markers",
         "name": "California Department of Child Support Services",
         "orientation": "v",
         "showlegend": true,
         "type": "scatter",
         "x": [
          40
         ],
         "xaxis": "x",
         "y": [
          2012
         ],
         "yaxis": "y"
        },
        {
         "hovertemplate": "<b>%{hovertext}</b><br><br>organisation=Emory Healthcare<br>randNumCol=%{x}<br>year=%{y}<br>records lost=%{marker.size}<extra></extra>",
         "hovertext": [
          "Emory Healthcare"
         ],
         "legendgroup": "Emory Healthcare",
         "marker": {
          "color": "#FFA15A",
          "size": [
           315000
          ],
          "sizemode": "area",
          "sizeref": 194444.44444444444,
          "symbol": "circle"
         },
         "mode": "markers",
         "name": "Emory Healthcare",
         "orientation": "v",
         "showlegend": true,
         "type": "scatter",
         "x": [
          7
         ],
         "xaxis": "x",
         "y": [
          2012
         ],
         "yaxis": "y"
        },
        {
         "hovertemplate": "<b>%{hovertext}</b><br><br>organisation=Office of the Texas Attorney General<br>randNumCol=%{x}<br>year=%{y}<br>records lost=%{marker.size}<extra></extra>",
         "hovertext": [
          "Office of the Texas Attorney General"
         ],
         "legendgroup": "Office of the Texas Attorney General",
         "marker": {
          "color": "#19d3f3",
          "size": [
           6500000
          ],
          "sizemode": "area",
          "sizeref": 194444.44444444444,
          "symbol": "circle"
         },
         "mode": "markers",
         "name": "Office of the Texas Attorney General",
         "orientation": "v",
         "showlegend": true,
         "type": "scatter",
         "x": [
          2
         ],
         "xaxis": "x",
         "y": [
          2012
         ],
         "yaxis": "y"
        },
        {
         "hovertemplate": "<b>%{hovertext}</b><br><br>organisation=Medicaid<br>randNumCol=%{x}<br>year=%{y}<br>records lost=%{marker.size}<extra></extra>",
         "hovertext": [
          "Medicaid"
         ],
         "legendgroup": "Medicaid",
         "marker": {
          "color": "#FF6692",
          "size": [
           780000
          ],
          "sizemode": "area",
          "sizeref": 194444.44444444444,
          "symbol": "circle"
         },
         "mode": "markers",
         "name": "Medicaid",
         "orientation": "v",
         "showlegend": true,
         "type": "scatter",
         "x": [
          11
         ],
         "xaxis": "x",
         "y": [
          2012
         ],
         "yaxis": "y"
        },
        {
         "hovertemplate": "<b>%{hovertext}</b><br><br>organisation=Blizzard<br>randNumCol=%{x}<br>year=%{y}<br>records lost=%{marker.size}<extra></extra>",
         "hovertext": [
          "Blizzard"
         ],
         "legendgroup": "Blizzard",
         "marker": {
          "color": "#B6E880",
          "size": [
           14000000
          ],
          "sizemode": "area",
          "sizeref": 194444.44444444444,
          "symbol": "circle"
         },
         "mode": "markers",
         "name": "Blizzard",
         "orientation": "v",
         "showlegend": true,
         "type": "scatter",
         "x": [
          26
         ],
         "xaxis": "x",
         "y": [
          2012
         ],
         "yaxis": "y"
        },
        {
         "hovertemplate": "<b>%{hovertext}</b><br><br>organisation=New York State Electric & Gas<br>randNumCol=%{x}<br>year=%{y}<br>records lost=%{marker.size}<extra></extra>",
         "hovertext": [
          "New York State Electric & Gas"
         ],
         "legendgroup": "New York State Electric & Gas",
         "marker": {
          "color": "#FF97FF",
          "size": [
           1800000
          ],
          "sizemode": "area",
          "sizeref": 194444.44444444444,
          "symbol": "circle"
         },
         "mode": "markers",
         "name": "New York State Electric & Gas",
         "orientation": "v",
         "showlegend": true,
         "type": "scatter",
         "x": [
          62
         ],
         "xaxis": "x",
         "y": [
          2012
         ],
         "yaxis": "y"
        },
        {
         "hovertemplate": "<b>%{hovertext}</b><br><br>organisation=Memorial Healthcare System<br>randNumCol=%{x}<br>year=%{y}<br>records lost=%{marker.size}<extra></extra>",
         "hovertext": [
          "Memorial Healthcare System"
         ],
         "legendgroup": "Memorial Healthcare System",
         "marker": {
          "color": "#FECB52",
          "size": [
           102153
          ],
          "sizemode": "area",
          "sizeref": 194444.44444444444,
          "symbol": "circle"
         },
         "mode": "markers",
         "name": "Memorial Healthcare System",
         "orientation": "v",
         "showlegend": true,
         "type": "scatter",
         "x": [
          95
         ],
         "xaxis": "x",
         "y": [
          2012
         ],
         "yaxis": "y"
        },
        {
         "hovertemplate": "<b>%{hovertext}</b><br><br>organisation=Zappos<br>randNumCol=%{x}<br>year=%{y}<br>records lost=%{marker.size}<extra></extra>",
         "hovertext": [
          "Zappos"
         ],
         "legendgroup": "Zappos",
         "marker": {
          "color": "#636efa",
          "size": [
           24000000
          ],
          "sizemode": "area",
          "sizeref": 194444.44444444444,
          "symbol": "circle"
         },
         "mode": "markers",
         "name": "Zappos",
         "orientation": "v",
         "showlegend": true,
         "type": "scatter",
         "x": [
          80
         ],
         "xaxis": "x",
         "y": [
          2012
         ],
         "yaxis": "y"
        },
        {
         "hovertemplate": "<b>%{hovertext}</b><br><br>organisation=Formspring<br>randNumCol=%{x}<br>year=%{y}<br>records lost=%{marker.size}<extra></extra>",
         "hovertext": [
          "Formspring"
         ],
         "legendgroup": "Formspring",
         "marker": {
          "color": "#EF553B",
          "size": [
           420000
          ],
          "sizemode": "area",
          "sizeref": 194444.44444444444,
          "symbol": "circle"
         },
         "mode": "markers",
         "name": "Formspring",
         "orientation": "v",
         "showlegend": true,
         "type": "scatter",
         "x": [
          17
         ],
         "xaxis": "x",
         "y": [
          2012
         ],
         "yaxis": "y"
        },
        {
         "hovertemplate": "<b>%{hovertext}</b><br><br>organisation=KT Corp.<br>randNumCol=%{x}<br>year=%{y}<br>records lost=%{marker.size}<extra></extra>",
         "hovertext": [
          "KT Corp."
         ],
         "legendgroup": "KT Corp.",
         "marker": {
          "color": "#00cc96",
          "size": [
           8700000
          ],
          "sizemode": "area",
          "sizeref": 194444.44444444444,
          "symbol": "circle"
         },
         "mode": "markers",
         "name": "KT Corp.",
         "orientation": "v",
         "showlegend": true,
         "type": "scatter",
         "x": [
          45
         ],
         "xaxis": "x",
         "y": [
          2012
         ],
         "yaxis": "y"
        },
        {
         "hovertemplate": "<b>%{hovertext}</b><br><br>organisation=Yahoo Voices<br>randNumCol=%{x}<br>year=%{y}<br>records lost=%{marker.size}<extra></extra>",
         "hovertext": [
          "Yahoo Voices"
         ],
         "legendgroup": "Yahoo Voices",
         "marker": {
          "color": "#ab63fa",
          "size": [
           450000
          ],
          "sizemode": "area",
          "sizeref": 194444.44444444444,
          "symbol": "circle"
         },
         "mode": "markers",
         "name": "Yahoo Voices",
         "orientation": "v",
         "showlegend": true,
         "type": "scatter",
         "x": [
          52
         ],
         "xaxis": "x",
         "y": [
          2012
         ],
         "yaxis": "y"
        },
        {
         "hovertemplate": "<b>%{hovertext}</b><br><br>organisation=Last.fm<br>randNumCol=%{x}<br>year=%{y}<br>records lost=%{marker.size}<extra></extra>",
         "hovertext": [
          "Last.fm"
         ],
         "legendgroup": "Last.fm",
         "marker": {
          "color": "#FFA15A",
          "size": [
           43500000
          ],
          "sizemode": "area",
          "sizeref": 194444.44444444444,
          "symbol": "circle"
         },
         "mode": "markers",
         "name": "Last.fm",
         "orientation": "v",
         "showlegend": true,
         "type": "scatter",
         "x": [
          12
         ],
         "xaxis": "x",
         "y": [
          2012
         ],
         "yaxis": "y"
        },
        {
         "hovertemplate": "<b>%{hovertext}</b><br><br>organisation=LinkedIn, eHarmony, Last.fm<br>randNumCol=%{x}<br>year=%{y}<br>records lost=%{marker.size}<extra></extra>",
         "hovertext": [
          "LinkedIn, eHarmony, Last.fm"
         ],
         "legendgroup": "LinkedIn, eHarmony, Last.fm",
         "marker": {
          "color": "#19d3f3",
          "size": [
           8000000
          ],
          "sizemode": "area",
          "sizeref": 194444.44444444444,
          "symbol": "circle"
         },
         "mode": "markers",
         "name": "LinkedIn, eHarmony, Last.fm",
         "orientation": "v",
         "showlegend": true,
         "type": "scatter",
         "x": [
          46
         ],
         "xaxis": "x",
         "y": [
          2012
         ],
         "yaxis": "y"
        },
        {
         "hovertemplate": "<b>%{hovertext}</b><br><br>organisation=Gamigo<br>randNumCol=%{x}<br>year=%{y}<br>records lost=%{marker.size}<extra></extra>",
         "hovertext": [
          "Gamigo"
         ],
         "legendgroup": "Gamigo",
         "marker": {
          "color": "#FF6692",
          "size": [
           8000000
          ],
          "sizemode": "area",
          "sizeref": 194444.44444444444,
          "symbol": "circle"
         },
         "mode": "markers",
         "name": "Gamigo",
         "orientation": "v",
         "showlegend": true,
         "type": "scatter",
         "x": [
          89
         ],
         "xaxis": "x",
         "y": [
          2012
         ],
         "yaxis": "y"
        },
        {
         "hovertemplate": "<b>%{hovertext}</b><br><br>organisation=Militarysingles.com<br>randNumCol=%{x}<br>year=%{y}<br>records lost=%{marker.size}<extra></extra>",
         "hovertext": [
          "Militarysingles.com"
         ],
         "legendgroup": "Militarysingles.com",
         "marker": {
          "color": "#B6E880",
          "size": [
           163792
          ],
          "sizemode": "area",
          "sizeref": 194444.44444444444,
          "symbol": "circle"
         },
         "mode": "markers",
         "name": "Militarysingles.com",
         "orientation": "v",
         "showlegend": true,
         "type": "scatter",
         "x": [
          91
         ],
         "xaxis": "x",
         "y": [
          2012
         ],
         "yaxis": "y"
        },
        {
         "hovertemplate": "<b>%{hovertext}</b><br><br>organisation=\"Apple\"<br>randNumCol=%{x}<br>year=%{y}<br>records lost=%{marker.size}<extra></extra>",
         "hovertext": [
          "\"Apple\""
         ],
         "legendgroup": "\"Apple\"",
         "marker": {
          "color": "#FF97FF",
          "size": [
           12367232
          ],
          "sizemode": "area",
          "sizeref": 194444.44444444444,
          "symbol": "circle"
         },
         "mode": "markers",
         "name": "\"Apple\"",
         "orientation": "v",
         "showlegend": true,
         "type": "scatter",
         "x": [
          37
         ],
         "xaxis": "x",
         "y": [
          2012
         ],
         "yaxis": "y"
        },
        {
         "hovertemplate": "<b>%{hovertext}</b><br><br>organisation=Greek government<br>randNumCol=%{x}<br>year=%{y}<br>records lost=%{marker.size}<extra></extra>",
         "hovertext": [
          "Greek government"
         ],
         "legendgroup": "Greek government",
         "marker": {
          "color": "#FECB52",
          "size": [
           9000000
          ],
          "sizemode": "area",
          "sizeref": 194444.44444444444,
          "symbol": "circle"
         },
         "mode": "markers",
         "name": "Greek government",
         "orientation": "v",
         "showlegend": true,
         "type": "scatter",
         "x": [
          32
         ],
         "xaxis": "x",
         "y": [
          2012
         ],
         "yaxis": "y"
        },
        {
         "hovertemplate": "<b>%{hovertext}</b><br><br>organisation=South Carolina State Dept. of Revenue<br>randNumCol=%{x}<br>year=%{y}<br>records lost=%{marker.size}<extra></extra>",
         "hovertext": [
          "South Carolina State Dept. of Revenue"
         ],
         "legendgroup": "South Carolina State Dept. of Revenue",
         "marker": {
          "color": "#636efa",
          "size": [
           3600000
          ],
          "sizemode": "area",
          "sizeref": 194444.44444444444,
          "symbol": "circle"
         },
         "mode": "markers",
         "name": "South Carolina State Dept. of Revenue",
         "orientation": "v",
         "showlegend": true,
         "type": "scatter",
         "x": [
          55
         ],
         "xaxis": "x",
         "y": [
          2012
         ],
         "yaxis": "y"
        },
        {
         "hovertemplate": "<b>%{hovertext}</b><br><br>organisation=Dropbox<br>randNumCol=%{x}<br>year=%{y}<br>records lost=%{marker.size}<extra></extra>",
         "hovertext": [
          "Dropbox"
         ],
         "legendgroup": "Dropbox",
         "marker": {
          "color": "#EF553B",
          "size": [
           68700000
          ],
          "sizemode": "area",
          "sizeref": 194444.44444444444,
          "symbol": "circle"
         },
         "mode": "markers",
         "name": "Dropbox",
         "orientation": "v",
         "showlegend": true,
         "type": "scatter",
         "x": [
          95
         ],
         "xaxis": "x",
         "y": [
          2012
         ],
         "yaxis": "y"
        },
        {
         "hovertemplate": "<b>%{hovertext}</b><br><br>organisation=New York City Health & Hospitals Corp.<br>randNumCol=%{x}<br>year=%{y}<br>records lost=%{marker.size}<extra></extra>",
         "hovertext": [
          "New York City Health & Hospitals Corp."
         ],
         "legendgroup": "New York City Health & Hospitals Corp.",
         "marker": {
          "color": "#00cc96",
          "size": [
           1700000
          ],
          "sizemode": "area",
          "sizeref": 194444.44444444444,
          "symbol": "circle"
         },
         "mode": "markers",
         "name": "New York City Health & Hospitals Corp.",
         "orientation": "v",
         "showlegend": true,
         "type": "scatter",
         "x": [
          54
         ],
         "xaxis": "x",
         "y": [
          2011
         ],
         "yaxis": "y"
        },
        {
         "hovertemplate": "<b>%{hovertext}</b><br><br>organisation=Seacoast Radiology, PA<br>randNumCol=%{x}<br>year=%{y}<br>records lost=%{marker.size}<extra></extra>",
         "hovertext": [
          "Seacoast Radiology, PA"
         ],
         "legendgroup": "Seacoast Radiology, PA",
         "marker": {
          "color": "#ab63fa",
          "size": [
           231400
          ],
          "sizemode": "area",
          "sizeref": 194444.44444444444,
          "symbol": "circle"
         },
         "mode": "markers",
         "name": "Seacoast Radiology, PA",
         "orientation": "v",
         "showlegend": true,
         "type": "scatter",
         "x": [
          64
         ],
         "xaxis": "x",
         "y": [
          2011
         ],
         "yaxis": "y"
        },
        {
         "hovertemplate": "<b>%{hovertext}</b><br><br>organisation=South Shore Hospital, Massachusetts<br>randNumCol=%{x}<br>year=%{y}<br>records lost=%{marker.size}<extra></extra>",
         "hovertext": [
          "South Shore Hospital, Massachusetts"
         ],
         "legendgroup": "South Shore Hospital, Massachusetts",
         "marker": {
          "color": "#FFA15A",
          "size": [
           800000
          ],
          "sizemode": "area",
          "sizeref": 194444.44444444444,
          "symbol": "circle"
         },
         "mode": "markers",
         "name": "South Shore Hospital, Massachusetts",
         "orientation": "v",
         "showlegend": true,
         "type": "scatter",
         "x": [
          57
         ],
         "xaxis": "x",
         "y": [
          2011
         ],
         "yaxis": "y"
        },
        {
         "hovertemplate": "<b>%{hovertext}</b><br><br>organisation=Betfair<br>randNumCol=%{x}<br>year=%{y}<br>records lost=%{marker.size}<extra></extra>",
         "hovertext": [
          "Betfair"
         ],
         "legendgroup": "Betfair",
         "marker": {
          "color": "#19d3f3",
          "size": [
           2300000
          ],
          "sizemode": "area",
          "sizeref": 194444.44444444444,
          "symbol": "circle"
         },
         "mode": "markers",
         "name": "Betfair",
         "orientation": "v",
         "showlegend": true,
         "type": "scatter",
         "x": [
          92
         ],
         "xaxis": "x",
         "y": [
          2011
         ],
         "yaxis": "y"
        },
        {
         "hovertemplate": "<b>%{hovertext}</b><br><br>organisation=Ankle & foot Center of Tampa Bay, Inc.<br>randNumCol=%{x}<br>year=%{y}<br>records lost=%{marker.size}<extra></extra>",
         "hovertext": [
          "Ankle & foot Center of Tampa Bay, Inc."
         ],
         "legendgroup": "Ankle & foot Center of Tampa Bay, Inc.",
         "marker": {
          "color": "#FF6692",
          "size": [
           156000
          ],
          "sizemode": "area",
          "sizeref": 194444.44444444444,
          "symbol": "circle"
         },
         "mode": "markers",
         "name": "Ankle & foot Center of Tampa Bay, Inc.",
         "orientation": "v",
         "showlegend": true,
         "type": "scatter",
         "x": [
          60
         ],
         "xaxis": "x",
         "y": [
          2011
         ],
         "yaxis": "y"
        },
        {
         "hovertemplate": "<b>%{hovertext}</b><br><br>organisation=Yale University<br>randNumCol=%{x}<br>year=%{y}<br>records lost=%{marker.size}<extra></extra>",
         "hovertext": [
          "Yale University"
         ],
         "legendgroup": "Yale University",
         "marker": {
          "color": "#B6E880",
          "size": [
           43000
          ],
          "sizemode": "area",
          "sizeref": 194444.44444444444,
          "symbol": "circle"
         },
         "mode": "markers",
         "name": "Yale University",
         "orientation": "v",
         "showlegend": true,
         "type": "scatter",
         "x": [
          20
         ],
         "xaxis": "x",
         "y": [
          2011
         ],
         "yaxis": "y"
        },
        {
         "hovertemplate": "<b>%{hovertext}</b><br><br>organisation=Morgan Stanley Smith Barney<br>randNumCol=%{x}<br>year=%{y}<br>records lost=%{marker.size}<extra></extra>",
         "hovertext": [
          "Morgan Stanley Smith Barney"
         ],
         "legendgroup": "Morgan Stanley Smith Barney",
         "marker": {
          "color": "#FF97FF",
          "size": [
           34000
          ],
          "sizemode": "area",
          "sizeref": 194444.44444444444,
          "symbol": "circle"
         },
         "mode": "markers",
         "name": "Morgan Stanley Smith Barney",
         "orientation": "v",
         "showlegend": true,
         "type": "scatter",
         "x": [
          27
         ],
         "xaxis": "x",
         "y": [
          2011
         ],
         "yaxis": "y"
        },
        {
         "hovertemplate": "<b>%{hovertext}</b><br><br>organisation=State of Texas<br>randNumCol=%{x}<br>year=%{y}<br>records lost=%{marker.size}<extra></extra>",
         "hovertext": [
          "State of Texas"
         ],
         "legendgroup": "State of Texas",
         "marker": {
          "color": "#FECB52",
          "size": [
           3500000
          ],
          "sizemode": "area",
          "sizeref": 194444.44444444444,
          "symbol": "circle"
         },
         "mode": "markers",
         "name": "State of Texas",
         "orientation": "v",
         "showlegend": true,
         "type": "scatter",
         "x": [
          40
         ],
         "xaxis": "x",
         "y": [
          2011
         ],
         "yaxis": "y"
        },
        {
         "hovertemplate": "<b>%{hovertext}</b><br><br>organisation=Epsilon<br>randNumCol=%{x}<br>year=%{y}<br>records lost=%{marker.size}<extra></extra>",
         "hovertext": [
          "Epsilon"
         ],
         "legendgroup": "Epsilon",
         "marker": {
          "color": "#636efa",
          "size": [
           3000000
          ],
          "sizemode": "area",
          "sizeref": 194444.44444444444,
          "symbol": "circle"
         },
         "mode": "markers",
         "name": "Epsilon",
         "orientation": "v",
         "showlegend": true,
         "type": "scatter",
         "x": [
          43
         ],
         "xaxis": "x",
         "y": [
          2011
         ],
         "yaxis": "y"
        },
        {
         "hovertemplate": "<b>%{hovertext}</b><br><br>organisation=Sony PSN<br>randNumCol=%{x}<br>year=%{y}<br>records lost=%{marker.size}<extra></extra>",
         "hovertext": [
          "Sony PSN"
         ],
         "legendgroup": "Sony PSN",
         "marker": {
          "color": "#EF553B",
          "size": [
           77000000
          ],
          "sizemode": "area",
          "sizeref": 194444.44444444444,
          "symbol": "circle"
         },
         "mode": "markers",
         "name": "Sony PSN",
         "orientation": "v",
         "showlegend": true,
         "type": "scatter",
         "x": [
          32
         ],
         "xaxis": "x",
         "y": [
          2011
         ],
         "yaxis": "y"
        },
        {
         "hovertemplate": "<b>%{hovertext}</b><br><br>organisation=US Law Enforcement<br>randNumCol=%{x}<br>year=%{y}<br>records lost=%{marker.size}<extra></extra>",
         "hovertext": [
          "US Law Enforcement"
         ],
         "legendgroup": "US Law Enforcement",
         "marker": {
          "color": "#00cc96",
          "size": [
           123461
          ],
          "sizemode": "area",
          "sizeref": 194444.44444444444,
          "symbol": "circle"
         },
         "mode": "markers",
         "name": "US Law Enforcement",
         "orientation": "v",
         "showlegend": true,
         "type": "scatter",
         "x": [
          55
         ],
         "xaxis": "x",
         "y": [
          2011
         ],
         "yaxis": "y"
        },
        {
         "hovertemplate": "<b>%{hovertext}</b><br><br>organisation=University of Wisconsin - Milwaukee<br>randNumCol=%{x}<br>year=%{y}<br>records lost=%{marker.size}<extra></extra>",
         "hovertext": [
          "University of Wisconsin - Milwaukee"
         ],
         "legendgroup": "University of Wisconsin - Milwaukee",
         "marker": {
          "color": "#ab63fa",
          "size": [
           73000
          ],
          "sizemode": "area",
          "sizeref": 194444.44444444444,
          "symbol": "circle"
         },
         "mode": "markers",
         "name": "University of Wisconsin - Milwaukee",
         "orientation": "v",
         "showlegend": true,
         "type": "scatter",
         "x": [
          2
         ],
         "xaxis": "x",
         "y": [
          2011
         ],
         "yaxis": "y"
        },
        {
         "hovertemplate": "<b>%{hovertext}</b><br><br>organisation=Stratfor<br>randNumCol=%{x}<br>year=%{y}<br>records lost=%{marker.size}<extra></extra>",
         "hovertext": [
          "Stratfor"
         ],
         "legendgroup": "Stratfor",
         "marker": {
          "color": "#FFA15A",
          "size": [
           935000
          ],
          "sizemode": "area",
          "sizeref": 194444.44444444444,
          "symbol": "circle"
         },
         "mode": "markers",
         "name": "Stratfor",
         "orientation": "v",
         "showlegend": true,
         "type": "scatter",
         "x": [
          13
         ],
         "xaxis": "x",
         "y": [
          2011
         ],
         "yaxis": "y"
        },
        {
         "hovertemplate": "<b>%{hovertext}</b><br><br>organisation=Chinese gaming sites<br>randNumCol=%{x}<br>year=%{y}<br>records lost=%{marker.size}<extra></extra>",
         "hovertext": [
          "Chinese gaming sites"
         ],
         "legendgroup": "Chinese gaming sites",
         "marker": {
          "color": "#19d3f3",
          "size": [
           10000000
          ],
          "sizemode": "area",
          "sizeref": 194444.44444444444,
          "symbol": "circle"
         },
         "mode": "markers",
         "name": "Chinese gaming sites",
         "orientation": "v",
         "showlegend": true,
         "type": "scatter",
         "x": [
          11
         ],
         "xaxis": "x",
         "y": [
          2011
         ],
         "yaxis": "y"
        },
        {
         "hovertemplate": "<b>%{hovertext}</b><br><br>organisation=Southern California Medical-Legal Consultants<br>randNumCol=%{x}<br>year=%{y}<br>records lost=%{marker.size}<extra></extra>",
         "hovertext": [
          "Southern California Medical-Legal Consultants"
         ],
         "legendgroup": "Southern California Medical-Legal Consultants",
         "marker": {
          "color": "#FF6692",
          "size": [
           300000
          ],
          "sizemode": "area",
          "sizeref": 194444.44444444444,
          "symbol": "circle"
         },
         "mode": "markers",
         "name": "Southern California Medical-Legal Consultants",
         "orientation": "v",
         "showlegend": true,
         "type": "scatter",
         "x": [
          27
         ],
         "xaxis": "x",
         "y": [
          2011
         ],
         "yaxis": "y"
        },
        {
         "hovertemplate": "<b>%{hovertext}</b><br><br>organisation=Writerspace.com<br>randNumCol=%{x}<br>year=%{y}<br>records lost=%{marker.size}<extra></extra>",
         "hovertext": [
          "Writerspace.com"
         ],
         "legendgroup": "Writerspace.com",
         "marker": {
          "color": "#B6E880",
          "size": [
           62000
          ],
          "sizemode": "area",
          "sizeref": 194444.44444444444,
          "symbol": "circle"
         },
         "mode": "markers",
         "name": "Writerspace.com",
         "orientation": "v",
         "showlegend": true,
         "type": "scatter",
         "x": [
          16
         ],
         "xaxis": "x",
         "y": [
          2011
         ],
         "yaxis": "y"
        },
        {
         "hovertemplate": "<b>%{hovertext}</b><br><br>organisation=Bethesda Game Studios<br>randNumCol=%{x}<br>year=%{y}<br>records lost=%{marker.size}<extra></extra>",
         "hovertext": [
          "Bethesda Game Studios"
         ],
         "legendgroup": "Bethesda Game Studios",
         "marker": {
          "color": "#FF97FF",
          "size": [
           200000
          ],
          "sizemode": "area",
          "sizeref": 194444.44444444444,
          "symbol": "circle"
         },
         "mode": "markers",
         "name": "Bethesda Game Studios",
         "orientation": "v",
         "showlegend": true,
         "type": "scatter",
         "x": [
          58
         ],
         "xaxis": "x",
         "y": [
          2011
         ],
         "yaxis": "y"
        },
        {
         "hovertemplate": "<b>%{hovertext}</b><br><br>organisation=Sega<br>randNumCol=%{x}<br>year=%{y}<br>records lost=%{marker.size}<extra></extra>",
         "hovertext": [
          "Sega"
         ],
         "legendgroup": "Sega",
         "marker": {
          "color": "#FECB52",
          "size": [
           1290755
          ],
          "sizemode": "area",
          "sizeref": 194444.44444444444,
          "symbol": "circle"
         },
         "mode": "markers",
         "name": "Sega",
         "orientation": "v",
         "showlegend": true,
         "type": "scatter",
         "x": [
          52
         ],
         "xaxis": "x",
         "y": [
          2011
         ],
         "yaxis": "y"
        },
        {
         "hovertemplate": "<b>%{hovertext}</b><br><br>organisation=Accendo Insurance Co. <br>randNumCol=%{x}<br>year=%{y}<br>records lost=%{marker.size}<extra></extra>",
         "hovertext": [
          "Accendo Insurance Co. "
         ],
         "legendgroup": "Accendo Insurance Co. ",
         "marker": {
          "color": "#636efa",
          "size": [
           175350
          ],
          "sizemode": "area",
          "sizeref": 194444.44444444444,
          "symbol": "circle"
         },
         "mode": "markers",
         "name": "Accendo Insurance Co. ",
         "orientation": "v",
         "showlegend": true,
         "type": "scatter",
         "x": [
          90
         ],
         "xaxis": "x",
         "y": [
          2011
         ],
         "yaxis": "y"
        },
        {
         "hovertemplate": "<b>%{hovertext}</b><br><br>organisation=Washington Post<br>randNumCol=%{x}<br>year=%{y}<br>records lost=%{marker.size}<extra></extra>",
         "hovertext": [
          "Washington Post"
         ],
         "legendgroup": "Washington Post",
         "marker": {
          "color": "#EF553B",
          "size": [
           1270000
          ],
          "sizemode": "area",
          "sizeref": 194444.44444444444,
          "symbol": "circle"
         },
         "mode": "markers",
         "name": "Washington Post",
         "orientation": "v",
         "showlegend": true,
         "type": "scatter",
         "x": [
          49
         ],
         "xaxis": "x",
         "y": [
          2011
         ],
         "yaxis": "y"
        },
        {
         "hovertemplate": "<b>%{hovertext}</b><br><br>organisation=Health Net - IBM<br>randNumCol=%{x}<br>year=%{y}<br>records lost=%{marker.size}<extra></extra>",
         "hovertext": [
          "Health Net - IBM"
         ],
         "legendgroup": "Health Net - IBM",
         "marker": {
          "color": "#00cc96",
          "size": [
           1900000
          ],
          "sizemode": "area",
          "sizeref": 194444.44444444444,
          "symbol": "circle"
         },
         "mode": "markers",
         "name": "Health Net - IBM",
         "orientation": "v",
         "showlegend": true,
         "type": "scatter",
         "x": [
          16
         ],
         "xaxis": "x",
         "y": [
          2011
         ],
         "yaxis": "y"
        },
        {
         "hovertemplate": "<b>%{hovertext}</b><br><br>organisation=Eisenhower Medical Center<br>randNumCol=%{x}<br>year=%{y}<br>records lost=%{marker.size}<extra></extra>",
         "hovertext": [
          "Eisenhower Medical Center"
         ],
         "legendgroup": "Eisenhower Medical Center",
         "marker": {
          "color": "#ab63fa",
          "size": [
           514330
          ],
          "sizemode": "area",
          "sizeref": 194444.44444444444,
          "symbol": "circle"
         },
         "mode": "markers",
         "name": "Eisenhower Medical Center",
         "orientation": "v",
         "showlegend": true,
         "type": "scatter",
         "x": [
          50
         ],
         "xaxis": "x",
         "y": [
          2011
         ],
         "yaxis": "y"
        },
        {
         "hovertemplate": "<b>%{hovertext}</b><br><br>organisation=Spartanburg Regional Healthcare System<br>randNumCol=%{x}<br>year=%{y}<br>records lost=%{marker.size}<extra></extra>",
         "hovertext": [
          "Spartanburg Regional Healthcare System"
         ],
         "legendgroup": "Spartanburg Regional Healthcare System",
         "marker": {
          "color": "#FFA15A",
          "size": [
           400000
          ],
          "sizemode": "area",
          "sizeref": 194444.44444444444,
          "symbol": "circle"
         },
         "mode": "markers",
         "name": "Spartanburg Regional Healthcare System",
         "orientation": "v",
         "showlegend": true,
         "type": "scatter",
         "x": [
          7
         ],
         "xaxis": "x",
         "y": [
          2011
         ],
         "yaxis": "y"
        },
        {
         "hovertemplate": "<b>%{hovertext}</b><br><br>organisation=NHS<br>randNumCol=%{x}<br>year=%{y}<br>records lost=%{marker.size}<extra></extra>",
         "hovertext": [
          "NHS"
         ],
         "legendgroup": "NHS",
         "marker": {
          "color": "#19d3f3",
          "size": [
           8600000
          ],
          "sizemode": "area",
          "sizeref": 194444.44444444444,
          "symbol": "circle"
         },
         "mode": "markers",
         "name": "NHS",
         "orientation": "v",
         "showlegend": true,
         "type": "scatter",
         "x": [
          98
         ],
         "xaxis": "x",
         "y": [
          2011
         ],
         "yaxis": "y"
        },
        {
         "hovertemplate": "<b>%{hovertext}</b><br><br>organisation=San Francisco Public Utilities Commission <br>randNumCol=%{x}<br>year=%{y}<br>records lost=%{marker.size}<extra></extra>",
         "hovertext": [
          "San Francisco Public Utilities Commission "
         ],
         "legendgroup": "San Francisco Public Utilities Commission ",
         "marker": {
          "color": "#FF6692",
          "size": [
           180000
          ],
          "sizemode": "area",
          "sizeref": 194444.44444444444,
          "symbol": "circle"
         },
         "mode": "markers",
         "name": "San Francisco Public Utilities Commission ",
         "orientation": "v",
         "showlegend": true,
         "type": "scatter",
         "x": [
          6
         ],
         "xaxis": "x",
         "y": [
          2011
         ],
         "yaxis": "y"
        },
        {
         "hovertemplate": "<b>%{hovertext}</b><br><br>organisation=Sony Online Entertainment<br>randNumCol=%{x}<br>year=%{y}<br>records lost=%{marker.size}<extra></extra>",
         "hovertext": [
          "Sony Online Entertainment"
         ],
         "legendgroup": "Sony Online Entertainment",
         "marker": {
          "color": "#B6E880",
          "size": [
           24600000
          ],
          "sizemode": "area",
          "sizeref": 194444.44444444444,
          "symbol": "circle"
         },
         "mode": "markers",
         "name": "Sony Online Entertainment",
         "orientation": "v",
         "showlegend": true,
         "type": "scatter",
         "x": [
          1
         ],
         "xaxis": "x",
         "y": [
          2011
         ],
         "yaxis": "y"
        },
        {
         "hovertemplate": "<b>%{hovertext}</b><br><br>organisation=Honda Canada<br>randNumCol=%{x}<br>year=%{y}<br>records lost=%{marker.size}<extra></extra>",
         "hovertext": [
          "Honda Canada"
         ],
         "legendgroup": "Honda Canada",
         "marker": {
          "color": "#FF97FF",
          "size": [
           283000
          ],
          "sizemode": "area",
          "sizeref": 194444.44444444444,
          "symbol": "circle"
         },
         "mode": "markers",
         "name": "Honda Canada",
         "orientation": "v",
         "showlegend": true,
         "type": "scatter",
         "x": [
          66
         ],
         "xaxis": "x",
         "y": [
          2011
         ],
         "yaxis": "y"
        },
        {
         "hovertemplate": "<b>%{hovertext}</b><br><br>organisation=Massachusetts Government<br>randNumCol=%{x}<br>year=%{y}<br>records lost=%{marker.size}<extra></extra>",
         "hovertext": [
          "Massachusetts Government"
         ],
         "legendgroup": "Massachusetts Government",
         "marker": {
          "color": "#FECB52",
          "size": [
           210000
          ],
          "sizemode": "area",
          "sizeref": 194444.44444444444,
          "symbol": "circle"
         },
         "mode": "markers",
         "name": "Massachusetts Government",
         "orientation": "v",
         "showlegend": true,
         "type": "scatter",
         "x": [
          99
         ],
         "xaxis": "x",
         "y": [
          2011
         ],
         "yaxis": "y"
        },
        {
         "hovertemplate": "<b>%{hovertext}</b><br><br>organisation=Oregon Department of Motor Vehicles<br>randNumCol=%{x}<br>year=%{y}<br>records lost=%{marker.size}<extra></extra>",
         "hovertext": [
          "Oregon Department of Motor Vehicles"
         ],
         "legendgroup": "Oregon Department of Motor Vehicles",
         "marker": {
          "color": "#636efa",
          "size": [
           1000000
          ],
          "sizemode": "area",
          "sizeref": 194444.44444444444,
          "symbol": "circle"
         },
         "mode": "markers",
         "name": "Oregon Department of Motor Vehicles",
         "orientation": "v",
         "showlegend": true,
         "type": "scatter",
         "x": [
          40
         ],
         "xaxis": "x",
         "y": [
          2011
         ],
         "yaxis": "y"
        },
        {
         "hovertemplate": "<b>%{hovertext}</b><br><br>organisation=Steam<br>randNumCol=%{x}<br>year=%{y}<br>records lost=%{marker.size}<extra></extra>",
         "hovertext": [
          "Steam"
         ],
         "legendgroup": "Steam",
         "marker": {
          "color": "#EF553B",
          "size": [
           35000000
          ],
          "sizemode": "area",
          "sizeref": 194444.44444444444,
          "symbol": "circle"
         },
         "mode": "markers",
         "name": "Steam",
         "orientation": "v",
         "showlegend": true,
         "type": "scatter",
         "x": [
          89
         ],
         "xaxis": "x",
         "y": [
          2011
         ],
         "yaxis": "y"
        },
        {
         "hovertemplate": "<b>%{hovertext}</b><br><br>organisation=Restaurant Depot<br>randNumCol=%{x}<br>year=%{y}<br>records lost=%{marker.size}<extra></extra>",
         "hovertext": [
          "Restaurant Depot"
         ],
         "legendgroup": "Restaurant Depot",
         "marker": {
          "color": "#00cc96",
          "size": [
           200000
          ],
          "sizemode": "area",
          "sizeref": 194444.44444444444,
          "symbol": "circle"
         },
         "mode": "markers",
         "name": "Restaurant Depot",
         "orientation": "v",
         "showlegend": true,
         "type": "scatter",
         "x": [
          61
         ],
         "xaxis": "x",
         "y": [
          2011
         ],
         "yaxis": "y"
        },
        {
         "hovertemplate": "<b>%{hovertext}</b><br><br>organisation=Nexon Korea Corp<br>randNumCol=%{x}<br>year=%{y}<br>records lost=%{marker.size}<extra></extra>",
         "hovertext": [
          "Nexon Korea Corp"
         ],
         "legendgroup": "Nexon Korea Corp",
         "marker": {
          "color": "#ab63fa",
          "size": [
           13200000
          ],
          "sizemode": "area",
          "sizeref": 194444.44444444444,
          "symbol": "circle"
         },
         "mode": "markers",
         "name": "Nexon Korea Corp",
         "orientation": "v",
         "showlegend": true,
         "type": "scatter",
         "x": [
          18
         ],
         "xaxis": "x",
         "y": [
          2011
         ],
         "yaxis": "y"
        },
        {
         "hovertemplate": "<b>%{hovertext}</b><br><br>organisation=Nemours Foundation<br>randNumCol=%{x}<br>year=%{y}<br>records lost=%{marker.size}<extra></extra>",
         "hovertext": [
          "Nemours Foundation"
         ],
         "legendgroup": "Nemours Foundation",
         "marker": {
          "color": "#FFA15A",
          "size": [
           1600000
          ],
          "sizemode": "area",
          "sizeref": 194444.44444444444,
          "symbol": "circle"
         },
         "mode": "markers",
         "name": "Nemours Foundation",
         "orientation": "v",
         "showlegend": true,
         "type": "scatter",
         "x": [
          96
         ],
         "xaxis": "x",
         "y": [
          2011
         ],
         "yaxis": "y"
        },
        {
         "hovertemplate": "<b>%{hovertext}</b><br><br>organisation=Sutter Medical Foundation<br>randNumCol=%{x}<br>year=%{y}<br>records lost=%{marker.size}<extra></extra>",
         "hovertext": [
          "Sutter Medical Foundation"
         ],
         "legendgroup": "Sutter Medical Foundation",
         "marker": {
          "color": "#19d3f3",
          "size": [
           4243434
          ],
          "sizemode": "area",
          "sizeref": 194444.44444444444,
          "symbol": "circle"
         },
         "mode": "markers",
         "name": "Sutter Medical Foundation",
         "orientation": "v",
         "showlegend": true,
         "type": "scatter",
         "x": [
          87
         ],
         "xaxis": "x",
         "y": [
          2011
         ],
         "yaxis": "y"
        },
        {
         "hovertemplate": "<b>%{hovertext}</b><br><br>organisation=Tricare<br>randNumCol=%{x}<br>year=%{y}<br>records lost=%{marker.size}<extra></extra>",
         "hovertext": [
          "Tricare"
         ],
         "legendgroup": "Tricare",
         "marker": {
          "color": "#FF6692",
          "size": [
           4901432
          ],
          "sizemode": "area",
          "sizeref": 194444.44444444444,
          "symbol": "circle"
         },
         "mode": "markers",
         "name": "Tricare",
         "orientation": "v",
         "showlegend": true,
         "type": "scatter",
         "x": [
          30
         ],
         "xaxis": "x",
         "y": [
          2011
         ],
         "yaxis": "y"
        },
        {
         "hovertemplate": "<b>%{hovertext}</b><br><br>organisation=AvMed, Inc.<br>randNumCol=%{x}<br>year=%{y}<br>records lost=%{marker.size}<extra></extra>",
         "hovertext": [
          "AvMed, Inc."
         ],
         "legendgroup": "AvMed, Inc.",
         "marker": {
          "color": "#B6E880",
          "size": [
           1220000
          ],
          "sizemode": "area",
          "sizeref": 194444.44444444444,
          "symbol": "circle"
         },
         "mode": "markers",
         "name": "AvMed, Inc.",
         "orientation": "v",
         "showlegend": true,
         "type": "scatter",
         "x": [
          70
         ],
         "xaxis": "x",
         "y": [
          2010
         ],
         "yaxis": "y"
        },
        {
         "hovertemplate": "<b>%{hovertext}</b><br><br>organisation=Blue Cross Blue Shield of Tennessee<br>randNumCol=%{x}<br>year=%{y}<br>records lost=%{marker.size}<extra></extra>",
         "hovertext": [
          "Blue Cross Blue Shield of Tennessee"
         ],
         "legendgroup": "Blue Cross Blue Shield of Tennessee",
         "marker": {
          "color": "#FF97FF",
          "size": [
           1023209
          ],
          "sizemode": "area",
          "sizeref": 194444.44444444444,
          "symbol": "circle"
         },
         "mode": "markers",
         "name": "Blue Cross Blue Shield of Tennessee",
         "orientation": "v",
         "showlegend": true,
         "type": "scatter",
         "x": [
          72
         ],
         "xaxis": "x",
         "y": [
          2010
         ],
         "yaxis": "y"
        },
        {
         "hovertemplate": "<b>%{hovertext}</b><br><br>organisation=US Military<br>randNumCol=%{x}<br>year=%{y}<br>records lost=%{marker.size}<extra></extra>",
         "hovertext": [
          "US Military",
          "US Military"
         ],
         "legendgroup": "US Military",
         "marker": {
          "color": "#FECB52",
          "size": [
           260000,
           76000000
          ],
          "sizemode": "area",
          "sizeref": 194444.44444444444,
          "symbol": "circle"
         },
         "mode": "markers",
         "name": "US Military",
         "orientation": "v",
         "showlegend": true,
         "type": "scatter",
         "x": [
          40,
          43
         ],
         "xaxis": "x",
         "y": [
          2010,
          2009
         ],
         "yaxis": "y"
        },
        {
         "hovertemplate": "<b>%{hovertext}</b><br><br>organisation=Gawker.com<br>randNumCol=%{x}<br>year=%{y}<br>records lost=%{marker.size}<extra></extra>",
         "hovertext": [
          "Gawker.com"
         ],
         "legendgroup": "Gawker.com",
         "marker": {
          "color": "#636efa",
          "size": [
           1500000
          ],
          "sizemode": "area",
          "sizeref": 194444.44444444444,
          "symbol": "circle"
         },
         "mode": "markers",
         "name": "Gawker.com",
         "orientation": "v",
         "showlegend": true,
         "type": "scatter",
         "x": [
          15
         ],
         "xaxis": "x",
         "y": [
          2010
         ],
         "yaxis": "y"
        },
        {
         "hovertemplate": "<b>%{hovertext}</b><br><br>organisation=Triple-S Salud, Inc.<br>randNumCol=%{x}<br>year=%{y}<br>records lost=%{marker.size}<extra></extra>",
         "hovertext": [
          "Triple-S Salud, Inc."
         ],
         "legendgroup": "Triple-S Salud, Inc.",
         "marker": {
          "color": "#EF553B",
          "size": [
           398000
          ],
          "sizemode": "area",
          "sizeref": 194444.44444444444,
          "symbol": "circle"
         },
         "mode": "markers",
         "name": "Triple-S Salud, Inc.",
         "orientation": "v",
         "showlegend": true,
         "type": "scatter",
         "x": [
          93
         ],
         "xaxis": "x",
         "y": [
          2010
         ],
         "yaxis": "y"
        },
        {
         "hovertemplate": "<b>%{hovertext}</b><br><br>organisation=Ohio State University<br>randNumCol=%{x}<br>year=%{y}<br>records lost=%{marker.size}<extra></extra>",
         "hovertext": [
          "Ohio State University"
         ],
         "legendgroup": "Ohio State University",
         "marker": {
          "color": "#00cc96",
          "size": [
           760000
          ],
          "sizemode": "area",
          "sizeref": 194444.44444444444,
          "symbol": "circle"
         },
         "mode": "markers",
         "name": "Ohio State University",
         "orientation": "v",
         "showlegend": true,
         "type": "scatter",
         "x": [
          2
         ],
         "xaxis": "x",
         "y": [
          2010
         ],
         "yaxis": "y"
        },
        {
         "hovertemplate": "<b>%{hovertext}</b><br><br>organisation=Emergency Healthcare Physicians, Ltd.<br>randNumCol=%{x}<br>year=%{y}<br>records lost=%{marker.size}<extra></extra>",
         "hovertext": [
          "Emergency Healthcare Physicians, Ltd."
         ],
         "legendgroup": "Emergency Healthcare Physicians, Ltd.",
         "marker": {
          "color": "#ab63fa",
          "size": [
           180111
          ],
          "sizemode": "area",
          "sizeref": 194444.44444444444,
          "symbol": "circle"
         },
         "mode": "markers",
         "name": "Emergency Healthcare Physicians, Ltd.",
         "orientation": "v",
         "showlegend": true,
         "type": "scatter",
         "x": [
          56
         ],
         "xaxis": "x",
         "y": [
          2010
         ],
         "yaxis": "y"
        },
        {
         "hovertemplate": "<b>%{hovertext}</b><br><br>organisation=Colorado government<br>randNumCol=%{x}<br>year=%{y}<br>records lost=%{marker.size}<extra></extra>",
         "hovertext": [
          "Colorado government"
         ],
         "legendgroup": "Colorado government",
         "marker": {
          "color": "#FFA15A",
          "size": [
           105470
          ],
          "sizemode": "area",
          "sizeref": 194444.44444444444,
          "symbol": "circle"
         },
         "mode": "markers",
         "name": "Colorado government",
         "orientation": "v",
         "showlegend": true,
         "type": "scatter",
         "x": [
          85
         ],
         "xaxis": "x",
         "y": [
          2010
         ],
         "yaxis": "y"
        },
        {
         "hovertemplate": "<b>%{hovertext}</b><br><br>organisation=AT&T<br>randNumCol=%{x}<br>year=%{y}<br>records lost=%{marker.size}<extra></extra>",
         "hovertext": [
          "AT&T",
          "AT&T"
         ],
         "legendgroup": "AT&T",
         "marker": {
          "color": "#19d3f3",
          "size": [
           114000,
           113000
          ],
          "sizemode": "area",
          "sizeref": 194444.44444444444,
          "symbol": "circle"
         },
         "mode": "markers",
         "name": "AT&T",
         "orientation": "v",
         "showlegend": true,
         "type": "scatter",
         "x": [
          28,
          31
         ],
         "xaxis": "x",
         "y": [
          2010,
          2008
         ],
         "yaxis": "y"
        },
        {
         "hovertemplate": "<b>%{hovertext}</b><br><br>organisation=Lincoln Medical & Mental Health Center<br>randNumCol=%{x}<br>year=%{y}<br>records lost=%{marker.size}<extra></extra>",
         "hovertext": [
          "Lincoln Medical & Mental Health Center"
         ],
         "legendgroup": "Lincoln Medical & Mental Health Center",
         "marker": {
          "color": "#FF6692",
          "size": [
           130495
          ],
          "sizemode": "area",
          "sizeref": 194444.44444444444,
          "symbol": "circle"
         },
         "mode": "markers",
         "name": "Lincoln Medical & Mental Health Center",
         "orientation": "v",
         "showlegend": true,
         "type": "scatter",
         "x": [
          58
         ],
         "xaxis": "x",
         "y": [
          2010
         ],
         "yaxis": "y"
        },
        {
         "hovertemplate": "<b>%{hovertext}</b><br><br>organisation=Educational Credit Management Corp<br>randNumCol=%{x}<br>year=%{y}<br>records lost=%{marker.size}<extra></extra>",
         "hovertext": [
          "Educational Credit Management Corp"
         ],
         "legendgroup": "Educational Credit Management Corp",
         "marker": {
          "color": "#B6E880",
          "size": [
           3300000
          ],
          "sizemode": "area",
          "sizeref": 194444.44444444444,
          "symbol": "circle"
         },
         "mode": "markers",
         "name": "Educational Credit Management Corp",
         "orientation": "v",
         "showlegend": true,
         "type": "scatter",
         "x": [
          82
         ],
         "xaxis": "x",
         "y": [
          2010
         ],
         "yaxis": "y"
        },
        {
         "hovertemplate": "<b>%{hovertext}</b><br><br>organisation=US Federal Reserve Bank of Cleveland<br>randNumCol=%{x}<br>year=%{y}<br>records lost=%{marker.size}<extra></extra>",
         "hovertext": [
          "US Federal Reserve Bank of Cleveland"
         ],
         "legendgroup": "US Federal Reserve Bank of Cleveland",
         "marker": {
          "color": "#FF97FF",
          "size": [
           400000
          ],
          "sizemode": "area",
          "sizeref": 194444.44444444444,
          "symbol": "circle"
         },
         "mode": "markers",
         "name": "US Federal Reserve Bank of Cleveland",
         "orientation": "v",
         "showlegend": true,
         "type": "scatter",
         "x": [
          32
         ],
         "xaxis": "x",
         "y": [
          2010
         ],
         "yaxis": "y"
        },
        {
         "hovertemplate": "<b>%{hovertext}</b><br><br>organisation=Classified Iraq War documents<br>randNumCol=%{x}<br>year=%{y}<br>records lost=%{marker.size}<extra></extra>",
         "hovertext": [
          "Classified Iraq War documents"
         ],
         "legendgroup": "Classified Iraq War documents",
         "marker": {
          "color": "#FECB52",
          "size": [
           392000
          ],
          "sizemode": "area",
          "sizeref": 194444.44444444444,
          "symbol": "circle"
         },
         "mode": "markers",
         "name": "Classified Iraq War documents",
         "orientation": "v",
         "showlegend": true,
         "type": "scatter",
         "x": [
          5
         ],
         "xaxis": "x",
         "y": [
          2010
         ],
         "yaxis": "y"
        },
        {
         "hovertemplate": "<b>%{hovertext}</b><br><br>organisation=Heartland<br>randNumCol=%{x}<br>year=%{y}<br>records lost=%{marker.size}<extra></extra>",
         "hovertext": [
          "Heartland"
         ],
         "legendgroup": "Heartland",
         "marker": {
          "color": "#636efa",
          "size": [
           130000000
          ],
          "sizemode": "area",
          "sizeref": 194444.44444444444,
          "symbol": "circle"
         },
         "mode": "markers",
         "name": "Heartland",
         "orientation": "v",
         "showlegend": true,
         "type": "scatter",
         "x": [
          75
         ],
         "xaxis": "x",
         "y": [
          2009
         ],
         "yaxis": "y"
        },
        {
         "hovertemplate": "<b>%{hovertext}</b><br><br>organisation=US National Guard<br>randNumCol=%{x}<br>year=%{y}<br>records lost=%{marker.size}<extra></extra>",
         "hovertext": [
          "US National Guard"
         ],
         "legendgroup": "US National Guard",
         "marker": {
          "color": "#EF553B",
          "size": [
           131000
          ],
          "sizemode": "area",
          "sizeref": 194444.44444444444,
          "symbol": "circle"
         },
         "mode": "markers",
         "name": "US National Guard",
         "orientation": "v",
         "showlegend": true,
         "type": "scatter",
         "x": [
          14
         ],
         "xaxis": "x",
         "y": [
          2009
         ],
         "yaxis": "y"
        },
        {
         "hovertemplate": "<b>%{hovertext}</b><br><br>organisation=RockYou!<br>randNumCol=%{x}<br>year=%{y}<br>records lost=%{marker.size}<extra></extra>",
         "hovertext": [
          "RockYou!"
         ],
         "legendgroup": "RockYou!",
         "marker": {
          "color": "#00cc96",
          "size": [
           32000000
          ],
          "sizemode": "area",
          "sizeref": 194444.44444444444,
          "symbol": "circle"
         },
         "mode": "markers",
         "name": "RockYou!",
         "orientation": "v",
         "showlegend": true,
         "type": "scatter",
         "x": [
          27
         ],
         "xaxis": "x",
         "y": [
          2009
         ],
         "yaxis": "y"
        },
        {
         "hovertemplate": "<b>%{hovertext}</b><br><br>organisation=CheckFree Corporation<br>randNumCol=%{x}<br>year=%{y}<br>records lost=%{marker.size}<extra></extra>",
         "hovertext": [
          "CheckFree Corporation"
         ],
         "legendgroup": "CheckFree Corporation",
         "marker": {
          "color": "#ab63fa",
          "size": [
           5000000
          ],
          "sizemode": "area",
          "sizeref": 194444.44444444444,
          "symbol": "circle"
         },
         "mode": "markers",
         "name": "CheckFree Corporation",
         "orientation": "v",
         "showlegend": true,
         "type": "scatter",
         "x": [
          96
         ],
         "xaxis": "x",
         "y": [
          2009
         ],
         "yaxis": "y"
        },
        {
         "hovertemplate": "<b>%{hovertext}</b><br><br>organisation=Network Solutions<br>randNumCol=%{x}<br>year=%{y}<br>records lost=%{marker.size}<extra></extra>",
         "hovertext": [
          "Network Solutions"
         ],
         "legendgroup": "Network Solutions",
         "marker": {
          "color": "#FFA15A",
          "size": [
           573000
          ],
          "sizemode": "area",
          "sizeref": 194444.44444444444,
          "symbol": "circle"
         },
         "mode": "markers",
         "name": "Network Solutions",
         "orientation": "v",
         "showlegend": true,
         "type": "scatter",
         "x": [
          66
         ],
         "xaxis": "x",
         "y": [
          2009
         ],
         "yaxis": "y"
        },
        {
         "hovertemplate": "<b>%{hovertext}</b><br><br>organisation=Virginia Prescription Monitoring Program<br>randNumCol=%{x}<br>year=%{y}<br>records lost=%{marker.size}<extra></extra>",
         "hovertext": [
          "Virginia Prescription Monitoring Program"
         ],
         "legendgroup": "Virginia Prescription Monitoring Program",
         "marker": {
          "color": "#19d3f3",
          "size": [
           531400
          ],
          "sizemode": "area",
          "sizeref": 194444.44444444444,
          "symbol": "circle"
         },
         "mode": "markers",
         "name": "Virginia Prescription Monitoring Program",
         "orientation": "v",
         "showlegend": true,
         "type": "scatter",
         "x": [
          61
         ],
         "xaxis": "x",
         "y": [
          2009
         ],
         "yaxis": "y"
        },
        {
         "hovertemplate": "<b>%{hovertext}</b><br><br>organisation=University of California Berkeley<br>randNumCol=%{x}<br>year=%{y}<br>records lost=%{marker.size}<extra></extra>",
         "hovertext": [
          "University of California Berkeley"
         ],
         "legendgroup": "University of California Berkeley",
         "marker": {
          "color": "#FF6692",
          "size": [
           160000
          ],
          "sizemode": "area",
          "sizeref": 194444.44444444444,
          "symbol": "circle"
         },
         "mode": "markers",
         "name": "University of California Berkeley",
         "orientation": "v",
         "showlegend": true,
         "type": "scatter",
         "x": [
          87
         ],
         "xaxis": "x",
         "y": [
          2009
         ],
         "yaxis": "y"
        },
        {
         "hovertemplate": "<b>%{hovertext}</b><br><br>organisation=Health Net <br>randNumCol=%{x}<br>year=%{y}<br>records lost=%{marker.size}<extra></extra>",
         "hovertext": [
          "Health Net "
         ],
         "legendgroup": "Health Net ",
         "marker": {
          "color": "#B6E880",
          "size": [
           1500000
          ],
          "sizemode": "area",
          "sizeref": 194444.44444444444,
          "symbol": "circle"
         },
         "mode": "markers",
         "name": "Health Net ",
         "orientation": "v",
         "showlegend": true,
         "type": "scatter",
         "x": [
          31
         ],
         "xaxis": "x",
         "y": [
          2009
         ],
         "yaxis": "y"
        },
        {
         "hovertemplate": "<b>%{hovertext}</b><br><br>organisation=Compass Bank<br>randNumCol=%{x}<br>year=%{y}<br>records lost=%{marker.size}<extra></extra>",
         "hovertext": [
          "Compass Bank"
         ],
         "legendgroup": "Compass Bank",
         "marker": {
          "color": "#FF97FF",
          "size": [
           1000000
          ],
          "sizemode": "area",
          "sizeref": 194444.44444444444,
          "symbol": "circle"
         },
         "mode": "markers",
         "name": "Compass Bank",
         "orientation": "v",
         "showlegend": true,
         "type": "scatter",
         "x": [
          50
         ],
         "xaxis": "x",
         "y": [
          2008
         ],
         "yaxis": "y"
        },
        {
         "hovertemplate": "<b>%{hovertext}</b><br><br>organisation=Hannaford Brothers Supermarket Chain<br>randNumCol=%{x}<br>year=%{y}<br>records lost=%{marker.size}<extra></extra>",
         "hovertext": [
          "Hannaford Brothers Supermarket Chain"
         ],
         "legendgroup": "Hannaford Brothers Supermarket Chain",
         "marker": {
          "color": "#FECB52",
          "size": [
           4200000
          ],
          "sizemode": "area",
          "sizeref": 194444.44444444444,
          "symbol": "circle"
         },
         "mode": "markers",
         "name": "Hannaford Brothers Supermarket Chain",
         "orientation": "v",
         "showlegend": true,
         "type": "scatter",
         "x": [
          9
         ],
         "xaxis": "x",
         "y": [
          2008
         ],
         "yaxis": "y"
        },
        {
         "hovertemplate": "<b>%{hovertext}</b><br><br>organisation=University of Miami<br>randNumCol=%{x}<br>year=%{y}<br>records lost=%{marker.size}<extra></extra>",
         "hovertext": [
          "University of Miami"
         ],
         "legendgroup": "University of Miami",
         "marker": {
          "color": "#636efa",
          "size": [
           2100000
          ],
          "sizemode": "area",
          "sizeref": 194444.44444444444,
          "symbol": "circle"
         },
         "mode": "markers",
         "name": "University of Miami",
         "orientation": "v",
         "showlegend": true,
         "type": "scatter",
         "x": [
          55
         ],
         "xaxis": "x",
         "y": [
          2008
         ],
         "yaxis": "y"
        },
        {
         "hovertemplate": "<b>%{hovertext}</b><br><br>organisation=BNY Mellon Shareowner Services<br>randNumCol=%{x}<br>year=%{y}<br>records lost=%{marker.size}<extra></extra>",
         "hovertext": [
          "BNY Mellon Shareowner Services"
         ],
         "legendgroup": "BNY Mellon Shareowner Services",
         "marker": {
          "color": "#EF553B",
          "size": [
           4500000
          ],
          "sizemode": "area",
          "sizeref": 194444.44444444444,
          "symbol": "circle"
         },
         "mode": "markers",
         "name": "BNY Mellon Shareowner Services",
         "orientation": "v",
         "showlegend": true,
         "type": "scatter",
         "x": [
          6
         ],
         "xaxis": "x",
         "y": [
          2008
         ],
         "yaxis": "y"
        },
        {
         "hovertemplate": "<b>%{hovertext}</b><br><br>organisation=Countrywide Financial Corp<br>randNumCol=%{x}<br>year=%{y}<br>records lost=%{marker.size}<extra></extra>",
         "hovertext": [
          "Countrywide Financial Corp"
         ],
         "legendgroup": "Countrywide Financial Corp",
         "marker": {
          "color": "#00cc96",
          "size": [
           2500000
          ],
          "sizemode": "area",
          "sizeref": 194444.44444444444,
          "symbol": "circle"
         },
         "mode": "markers",
         "name": "Countrywide Financial Corp",
         "orientation": "v",
         "showlegend": true,
         "type": "scatter",
         "x": [
          30
         ],
         "xaxis": "x",
         "y": [
          2008
         ],
         "yaxis": "y"
        },
        {
         "hovertemplate": "<b>%{hovertext}</b><br><br>organisation=UK Home Office<br>randNumCol=%{x}<br>year=%{y}<br>records lost=%{marker.size}<extra></extra>",
         "hovertext": [
          "UK Home Office"
         ],
         "legendgroup": "UK Home Office",
         "marker": {
          "color": "#ab63fa",
          "size": [
           84000
          ],
          "sizemode": "area",
          "sizeref": 194444.44444444444,
          "symbol": "circle"
         },
         "mode": "markers",
         "name": "UK Home Office",
         "orientation": "v",
         "showlegend": true,
         "type": "scatter",
         "x": [
          91
         ],
         "xaxis": "x",
         "y": [
          2008
         ],
         "yaxis": "y"
        },
        {
         "hovertemplate": "<b>%{hovertext}</b><br><br>organisation=RBS Worldpay<br>randNumCol=%{x}<br>year=%{y}<br>records lost=%{marker.size}<extra></extra>",
         "hovertext": [
          "RBS Worldpay"
         ],
         "legendgroup": "RBS Worldpay",
         "marker": {
          "color": "#FFA15A",
          "size": [
           1500000
          ],
          "sizemode": "area",
          "sizeref": 194444.44444444444,
          "symbol": "circle"
         },
         "mode": "markers",
         "name": "RBS Worldpay",
         "orientation": "v",
         "showlegend": true,
         "type": "scatter",
         "x": [
          53
         ],
         "xaxis": "x",
         "y": [
          2008
         ],
         "yaxis": "y"
        },
        {
         "hovertemplate": "<b>%{hovertext}</b><br><br>organisation=Auction.co.kr<br>randNumCol=%{x}<br>year=%{y}<br>records lost=%{marker.size}<extra></extra>",
         "hovertext": [
          "Auction.co.kr"
         ],
         "legendgroup": "Auction.co.kr",
         "marker": {
          "color": "#19d3f3",
          "size": [
           18000000
          ],
          "sizemode": "area",
          "sizeref": 194444.44444444444,
          "symbol": "circle"
         },
         "mode": "markers",
         "name": "Auction.co.kr",
         "orientation": "v",
         "showlegend": true,
         "type": "scatter",
         "x": [
          21
         ],
         "xaxis": "x",
         "y": [
          2008
         ],
         "yaxis": "y"
        },
        {
         "hovertemplate": "<b>%{hovertext}</b><br><br>organisation=GS Caltex<br>randNumCol=%{x}<br>year=%{y}<br>records lost=%{marker.size}<extra></extra>",
         "hovertext": [
          "GS Caltex"
         ],
         "legendgroup": "GS Caltex",
         "marker": {
          "color": "#FF6692",
          "size": [
           11100000
          ],
          "sizemode": "area",
          "sizeref": 194444.44444444444,
          "symbol": "circle"
         },
         "mode": "markers",
         "name": "GS Caltex",
         "orientation": "v",
         "showlegend": true,
         "type": "scatter",
         "x": [
          30
         ],
         "xaxis": "x",
         "y": [
          2008
         ],
         "yaxis": "y"
        },
        {
         "hovertemplate": "<b>%{hovertext}</b><br><br>organisation=Stanford University<br>randNumCol=%{x}<br>year=%{y}<br>records lost=%{marker.size}<extra></extra>",
         "hovertext": [
          "Stanford University"
         ],
         "legendgroup": "Stanford University",
         "marker": {
          "color": "#B6E880",
          "size": [
           72000
          ],
          "sizemode": "area",
          "sizeref": 194444.44444444444,
          "symbol": "circle"
         },
         "mode": "markers",
         "name": "Stanford University",
         "orientation": "v",
         "showlegend": true,
         "type": "scatter",
         "x": [
          80
         ],
         "xaxis": "x",
         "y": [
          2008
         ],
         "yaxis": "y"
        },
        {
         "hovertemplate": "<b>%{hovertext}</b><br><br>organisation=University of Utah Hospitals & Clinics<br>randNumCol=%{x}<br>year=%{y}<br>records lost=%{marker.size}<extra></extra>",
         "hovertext": [
          "University of Utah Hospitals & Clinics"
         ],
         "legendgroup": "University of Utah Hospitals & Clinics",
         "marker": {
          "color": "#FF97FF",
          "size": [
           2200000
          ],
          "sizemode": "area",
          "sizeref": 194444.44444444444,
          "symbol": "circle"
         },
         "mode": "markers",
         "name": "University of Utah Hospitals & Clinics",
         "orientation": "v",
         "showlegend": true,
         "type": "scatter",
         "x": [
          37
         ],
         "xaxis": "x",
         "y": [
          2008
         ],
         "yaxis": "y"
        },
        {
         "hovertemplate": "<b>%{hovertext}</b><br><br>organisation=Chile Ministry Of Education<br>randNumCol=%{x}<br>year=%{y}<br>records lost=%{marker.size}<extra></extra>",
         "hovertext": [
          "Chile Ministry Of Education"
         ],
         "legendgroup": "Chile Ministry Of Education",
         "marker": {
          "color": "#FECB52",
          "size": [
           6000000
          ],
          "sizemode": "area",
          "sizeref": 194444.44444444444,
          "symbol": "circle"
         },
         "mode": "markers",
         "name": "Chile Ministry Of Education",
         "orientation": "v",
         "showlegend": true,
         "type": "scatter",
         "x": [
          90
         ],
         "xaxis": "x",
         "y": [
          2008
         ],
         "yaxis": "y"
        },
        {
         "hovertemplate": "<b>%{hovertext}</b><br><br>organisation=Texas Lottery<br>randNumCol=%{x}<br>year=%{y}<br>records lost=%{marker.size}<extra></extra>",
         "hovertext": [
          "Texas Lottery"
         ],
         "legendgroup": "Texas Lottery",
         "marker": {
          "color": "#636efa",
          "size": [
           89000
          ],
          "sizemode": "area",
          "sizeref": 194444.44444444444,
          "symbol": "circle"
         },
         "mode": "markers",
         "name": "Texas Lottery",
         "orientation": "v",
         "showlegend": true,
         "type": "scatter",
         "x": [
          53
         ],
         "xaxis": "x",
         "y": [
          2008
         ],
         "yaxis": "y"
        },
        {
         "hovertemplate": "<b>%{hovertext}</b><br><br>organisation=Starbucks<br>randNumCol=%{x}<br>year=%{y}<br>records lost=%{marker.size}<extra></extra>",
         "hovertext": [
          "Starbucks"
         ],
         "legendgroup": "Starbucks",
         "marker": {
          "color": "#EF553B",
          "size": [
           97000
          ],
          "sizemode": "area",
          "sizeref": 194444.44444444444,
          "symbol": "circle"
         },
         "mode": "markers",
         "name": "Starbucks",
         "orientation": "v",
         "showlegend": true,
         "type": "scatter",
         "x": [
          9
         ],
         "xaxis": "x",
         "y": [
          2008
         ],
         "yaxis": "y"
        },
        {
         "hovertemplate": "<b>%{hovertext}</b><br><br>organisation=UK Ministry of Defence<br>randNumCol=%{x}<br>year=%{y}<br>records lost=%{marker.size}<extra></extra>",
         "hovertext": [
          "UK Ministry of Defence"
         ],
         "legendgroup": "UK Ministry of Defence",
         "marker": {
          "color": "#00cc96",
          "size": [
           1700000
          ],
          "sizemode": "area",
          "sizeref": 194444.44444444444,
          "symbol": "circle"
         },
         "mode": "markers",
         "name": "UK Ministry of Defence",
         "orientation": "v",
         "showlegend": true,
         "type": "scatter",
         "x": [
          77
         ],
         "xaxis": "x",
         "y": [
          2008
         ],
         "yaxis": "y"
        },
        {
         "hovertemplate": "<b>%{hovertext}</b><br><br>organisation=T-Mobile, Deutsche Telecom<br>randNumCol=%{x}<br>year=%{y}<br>records lost=%{marker.size}<extra></extra>",
         "hovertext": [
          "T-Mobile, Deutsche Telecom"
         ],
         "legendgroup": "T-Mobile, Deutsche Telecom",
         "marker": {
          "color": "#ab63fa",
          "size": [
           17000000
          ],
          "sizemode": "area",
          "sizeref": 194444.44444444444,
          "symbol": "circle"
         },
         "mode": "markers",
         "name": "T-Mobile, Deutsche Telecom",
         "orientation": "v",
         "showlegend": true,
         "type": "scatter",
         "x": [
          58
         ],
         "xaxis": "x",
         "y": [
          2008
         ],
         "yaxis": "y"
        },
        {
         "hovertemplate": "<b>%{hovertext}</b><br><br>organisation=Norwegian Tax Authorities<br>randNumCol=%{x}<br>year=%{y}<br>records lost=%{marker.size}<extra></extra>",
         "hovertext": [
          "Norwegian Tax Authorities"
         ],
         "legendgroup": "Norwegian Tax Authorities",
         "marker": {
          "color": "#FFA15A",
          "size": [
           3950000
          ],
          "sizemode": "area",
          "sizeref": 194444.44444444444,
          "symbol": "circle"
         },
         "mode": "markers",
         "name": "Norwegian Tax Authorities",
         "orientation": "v",
         "showlegend": true,
         "type": "scatter",
         "x": [
          41
         ],
         "xaxis": "x",
         "y": [
          2008
         ],
         "yaxis": "y"
        },
        {
         "hovertemplate": "<b>%{hovertext}</b><br><br>organisation=Service Personnel and Veterans Agency (UK)<br>randNumCol=%{x}<br>year=%{y}<br>records lost=%{marker.size}<extra></extra>",
         "hovertext": [
          "Service Personnel and Veterans Agency (UK)"
         ],
         "legendgroup": "Service Personnel and Veterans Agency (UK)",
         "marker": {
          "color": "#19d3f3",
          "size": [
           50500
          ],
          "sizemode": "area",
          "sizeref": 194444.44444444444,
          "symbol": "circle"
         },
         "mode": "markers",
         "name": "Service Personnel and Veterans Agency (UK)",
         "orientation": "v",
         "showlegend": true,
         "type": "scatter",
         "x": [
          38
         ],
         "xaxis": "x",
         "y": [
          2008
         ],
         "yaxis": "y"
        },
        {
         "hovertemplate": "<b>%{hovertext}</b><br><br>organisation=Monster.com<br>randNumCol=%{x}<br>year=%{y}<br>records lost=%{marker.size}<extra></extra>",
         "hovertext": [
          "Monster.com"
         ],
         "legendgroup": "Monster.com",
         "marker": {
          "color": "#FF6692",
          "size": [
           1600000
          ],
          "sizemode": "area",
          "sizeref": 194444.44444444444,
          "symbol": "circle"
         },
         "mode": "markers",
         "name": "Monster.com",
         "orientation": "v",
         "showlegend": true,
         "type": "scatter",
         "x": [
          11
         ],
         "xaxis": "x",
         "y": [
          2007
         ],
         "yaxis": "y"
        },
        {
         "hovertemplate": "<b>%{hovertext}</b><br><br>organisation=Driving Standards Agency<br>randNumCol=%{x}<br>year=%{y}<br>records lost=%{marker.size}<extra></extra>",
         "hovertext": [
          "Driving Standards Agency"
         ],
         "legendgroup": "Driving Standards Agency",
         "marker": {
          "color": "#B6E880",
          "size": [
           3000000
          ],
          "sizemode": "area",
          "sizeref": 194444.44444444444,
          "symbol": "circle"
         },
         "mode": "markers",
         "name": "Driving Standards Agency",
         "orientation": "v",
         "showlegend": true,
         "type": "scatter",
         "x": [
          96
         ],
         "xaxis": "x",
         "y": [
          2007
         ],
         "yaxis": "y"
        },
        {
         "hovertemplate": "<b>%{hovertext}</b><br><br>organisation=Fidelity National Information Services<br>randNumCol=%{x}<br>year=%{y}<br>records lost=%{marker.size}<extra></extra>",
         "hovertext": [
          "Fidelity National Information Services"
         ],
         "legendgroup": "Fidelity National Information Services",
         "marker": {
          "color": "#FF97FF",
          "size": [
           8500000
          ],
          "sizemode": "area",
          "sizeref": 194444.44444444444,
          "symbol": "circle"
         },
         "mode": "markers",
         "name": "Fidelity National Information Services",
         "orientation": "v",
         "showlegend": true,
         "type": "scatter",
         "x": [
          35
         ],
         "xaxis": "x",
         "y": [
          2007
         ],
         "yaxis": "y"
        },
        {
         "hovertemplate": "<b>%{hovertext}</b><br><br>organisation=City and Hackney Teaching Primary Care Trust<br>randNumCol=%{x}<br>year=%{y}<br>records lost=%{marker.size}<extra></extra>",
         "hovertext": [
          "City and Hackney Teaching Primary Care Trust"
         ],
         "legendgroup": "City and Hackney Teaching Primary Care Trust",
         "marker": {
          "color": "#FECB52",
          "size": [
           160000
          ],
          "sizemode": "area",
          "sizeref": 194444.44444444444,
          "symbol": "circle"
         },
         "mode": "markers",
         "name": "City and Hackney Teaching Primary Care Trust",
         "orientation": "v",
         "showlegend": true,
         "type": "scatter",
         "x": [
          5
         ],
         "xaxis": "x",
         "y": [
          2007
         ],
         "yaxis": "y"
        },
        {
         "hovertemplate": "<b>%{hovertext}</b><br><br>organisation=Gap Inc<br>randNumCol=%{x}<br>year=%{y}<br>records lost=%{marker.size}<extra></extra>",
         "hovertext": [
          "Gap Inc"
         ],
         "legendgroup": "Gap Inc",
         "marker": {
          "color": "#636efa",
          "size": [
           800000
          ],
          "sizemode": "area",
          "sizeref": 194444.44444444444,
          "symbol": "circle"
         },
         "mode": "markers",
         "name": "Gap Inc",
         "orientation": "v",
         "showlegend": true,
         "type": "scatter",
         "x": [
          90
         ],
         "xaxis": "x",
         "y": [
          2007
         ],
         "yaxis": "y"
        },
        {
         "hovertemplate": "<b>%{hovertext}</b><br><br>organisation=Dai Nippon Printing<br>randNumCol=%{x}<br>year=%{y}<br>records lost=%{marker.size}<extra></extra>",
         "hovertext": [
          "Dai Nippon Printing"
         ],
         "legendgroup": "Dai Nippon Printing",
         "marker": {
          "color": "#EF553B",
          "size": [
           8637405
          ],
          "sizemode": "area",
          "sizeref": 194444.44444444444,
          "symbol": "circle"
         },
         "mode": "markers",
         "name": "Dai Nippon Printing",
         "orientation": "v",
         "showlegend": true,
         "type": "scatter",
         "x": [
          37
         ],
         "xaxis": "x",
         "y": [
          2007
         ],
         "yaxis": "y"
        },
        {
         "hovertemplate": "<b>%{hovertext}</b><br><br>organisation=TK / TJ Maxx<br>randNumCol=%{x}<br>year=%{y}<br>records lost=%{marker.size}<extra></extra>",
         "hovertext": [
          "TK / TJ Maxx"
         ],
         "legendgroup": "TK / TJ Maxx",
         "marker": {
          "color": "#00cc96",
          "size": [
           94000000
          ],
          "sizemode": "area",
          "sizeref": 194444.44444444444,
          "symbol": "circle"
         },
         "mode": "markers",
         "name": "TK / TJ Maxx",
         "orientation": "v",
         "showlegend": true,
         "type": "scatter",
         "x": [
          77
         ],
         "xaxis": "x",
         "y": [
          2007
         ],
         "yaxis": "y"
        },
        {
         "hovertemplate": "<b>%{hovertext}</b><br><br>organisation=UK Revenue & Customs<br>randNumCol=%{x}<br>year=%{y}<br>records lost=%{marker.size}<extra></extra>",
         "hovertext": [
          "UK Revenue & Customs"
         ],
         "legendgroup": "UK Revenue & Customs",
         "marker": {
          "color": "#ab63fa",
          "size": [
           25000000
          ],
          "sizemode": "area",
          "sizeref": 194444.44444444444,
          "symbol": "circle"
         },
         "mode": "markers",
         "name": "UK Revenue & Customs",
         "orientation": "v",
         "showlegend": true,
         "type": "scatter",
         "x": [
          95
         ],
         "xaxis": "x",
         "y": [
          2007
         ],
         "yaxis": "y"
        },
        {
         "hovertemplate": "<b>%{hovertext}</b><br><br>organisation=TD Ameritrade<br>randNumCol=%{x}<br>year=%{y}<br>records lost=%{marker.size}<extra></extra>",
         "hovertext": [
          "TD Ameritrade"
         ],
         "legendgroup": "TD Ameritrade",
         "marker": {
          "color": "#FFA15A",
          "size": [
           6300000
          ],
          "sizemode": "area",
          "sizeref": 194444.44444444444,
          "symbol": "circle"
         },
         "mode": "markers",
         "name": "TD Ameritrade",
         "orientation": "v",
         "showlegend": true,
         "type": "scatter",
         "x": [
          68
         ],
         "xaxis": "x",
         "y": [
          2007
         ],
         "yaxis": "y"
        },
        {
         "hovertemplate": "<b>%{hovertext}</b><br><br>organisation=US Dept of Vet Affairs<br>randNumCol=%{x}<br>year=%{y}<br>records lost=%{marker.size}<extra></extra>",
         "hovertext": [
          "US Dept of Vet Affairs"
         ],
         "legendgroup": "US Dept of Vet Affairs",
         "marker": {
          "color": "#19d3f3",
          "size": [
           26500000
          ],
          "sizemode": "area",
          "sizeref": 194444.44444444444,
          "symbol": "circle"
         },
         "mode": "markers",
         "name": "US Dept of Vet Affairs",
         "orientation": "v",
         "showlegend": true,
         "type": "scatter",
         "x": [
          36
         ],
         "xaxis": "x",
         "y": [
          2006
         ],
         "yaxis": "y"
        },
        {
         "hovertemplate": "<b>%{hovertext}</b><br><br>organisation=Automatic Data Processing<br>randNumCol=%{x}<br>year=%{y}<br>records lost=%{marker.size}<extra></extra>",
         "hovertext": [
          "Automatic Data Processing"
         ],
         "legendgroup": "Automatic Data Processing",
         "marker": {
          "color": "#FF6692",
          "size": [
           125000
          ],
          "sizemode": "area",
          "sizeref": 194444.44444444444,
          "symbol": "circle"
         },
         "mode": "markers",
         "name": "Automatic Data Processing",
         "orientation": "v",
         "showlegend": true,
         "type": "scatter",
         "x": [
          10
         ],
         "xaxis": "x",
         "y": [
          2006
         ],
         "yaxis": "y"
        },
        {
         "hovertemplate": "<b>%{hovertext}</b><br><br>organisation=KDDI<br>randNumCol=%{x}<br>year=%{y}<br>records lost=%{marker.size}<extra></extra>",
         "hovertext": [
          "KDDI"
         ],
         "legendgroup": "KDDI",
         "marker": {
          "color": "#B6E880",
          "size": [
           4000000
          ],
          "sizemode": "area",
          "sizeref": 194444.44444444444,
          "symbol": "circle"
         },
         "mode": "markers",
         "name": "KDDI",
         "orientation": "v",
         "showlegend": true,
         "type": "scatter",
         "x": [
          97
         ],
         "xaxis": "x",
         "y": [
          2006
         ],
         "yaxis": "y"
        },
        {
         "hovertemplate": "<b>%{hovertext}</b><br><br>organisation=Hewlett Packard<br>randNumCol=%{x}<br>year=%{y}<br>records lost=%{marker.size}<extra></extra>",
         "hovertext": [
          "Hewlett Packard"
         ],
         "legendgroup": "Hewlett Packard",
         "marker": {
          "color": "#FF97FF",
          "size": [
           200000
          ],
          "sizemode": "area",
          "sizeref": 194444.44444444444,
          "symbol": "circle"
         },
         "mode": "markers",
         "name": "Hewlett Packard",
         "orientation": "v",
         "showlegend": true,
         "type": "scatter",
         "x": [
          54
         ],
         "xaxis": "x",
         "y": [
          2006
         ],
         "yaxis": "y"
        },
        {
         "hovertemplate": "<b>%{hovertext}</b><br><br>organisation=Ameritrade Inc.<br>randNumCol=%{x}<br>year=%{y}<br>records lost=%{marker.size}<extra></extra>",
         "hovertext": [
          "Ameritrade Inc."
         ],
         "legendgroup": "Ameritrade Inc.",
         "marker": {
          "color": "#FECB52",
          "size": [
           200000
          ],
          "sizemode": "area",
          "sizeref": 194444.44444444444,
          "symbol": "circle"
         },
         "mode": "markers",
         "name": "Ameritrade Inc.",
         "orientation": "v",
         "showlegend": true,
         "type": "scatter",
         "x": [
          43
         ],
         "xaxis": "x",
         "y": [
          2005
         ],
         "yaxis": "y"
        },
        {
         "hovertemplate": "<b>%{hovertext}</b><br><br>organisation=Cardsystems Solutions Inc. <br>randNumCol=%{x}<br>year=%{y}<br>records lost=%{marker.size}<extra></extra>",
         "hovertext": [
          "Cardsystems Solutions Inc. "
         ],
         "legendgroup": "Cardsystems Solutions Inc. ",
         "marker": {
          "color": "#636efa",
          "size": [
           40000000
          ],
          "sizemode": "area",
          "sizeref": 194444.44444444444,
          "symbol": "circle"
         },
         "mode": "markers",
         "name": "Cardsystems Solutions Inc. ",
         "orientation": "v",
         "showlegend": true,
         "type": "scatter",
         "x": [
          50
         ],
         "xaxis": "x",
         "y": [
          2005
         ],
         "yaxis": "y"
        }
       ],
       "layout": {
        "legend": {
         "itemsizing": "constant",
         "title": {
          "text": "organisation"
         },
         "tracegroupgap": 0
        },
        "margin": {
         "t": 60
        },
        "template": {
         "data": {
          "bar": [
           {
            "error_x": {
             "color": "#2a3f5f"
            },
            "error_y": {
             "color": "#2a3f5f"
            },
            "marker": {
             "line": {
              "color": "#E5ECF6",
              "width": 0.5
             },
             "pattern": {
              "fillmode": "overlay",
              "size": 10,
              "solidity": 0.2
             }
            },
            "type": "bar"
           }
          ],
          "barpolar": [
           {
            "marker": {
             "line": {
              "color": "#E5ECF6",
              "width": 0.5
             },
             "pattern": {
              "fillmode": "overlay",
              "size": 10,
              "solidity": 0.2
             }
            },
            "type": "barpolar"
           }
          ],
          "carpet": [
           {
            "aaxis": {
             "endlinecolor": "#2a3f5f",
             "gridcolor": "white",
             "linecolor": "white",
             "minorgridcolor": "white",
             "startlinecolor": "#2a3f5f"
            },
            "baxis": {
             "endlinecolor": "#2a3f5f",
             "gridcolor": "white",
             "linecolor": "white",
             "minorgridcolor": "white",
             "startlinecolor": "#2a3f5f"
            },
            "type": "carpet"
           }
          ],
          "choropleth": [
           {
            "colorbar": {
             "outlinewidth": 0,
             "ticks": ""
            },
            "type": "choropleth"
           }
          ],
          "contour": [
           {
            "colorbar": {
             "outlinewidth": 0,
             "ticks": ""
            },
            "colorscale": [
             [
              0,
              "#0d0887"
             ],
             [
              0.1111111111111111,
              "#46039f"
             ],
             [
              0.2222222222222222,
              "#7201a8"
             ],
             [
              0.3333333333333333,
              "#9c179e"
             ],
             [
              0.4444444444444444,
              "#bd3786"
             ],
             [
              0.5555555555555556,
              "#d8576b"
             ],
             [
              0.6666666666666666,
              "#ed7953"
             ],
             [
              0.7777777777777778,
              "#fb9f3a"
             ],
             [
              0.8888888888888888,
              "#fdca26"
             ],
             [
              1,
              "#f0f921"
             ]
            ],
            "type": "contour"
           }
          ],
          "contourcarpet": [
           {
            "colorbar": {
             "outlinewidth": 0,
             "ticks": ""
            },
            "type": "contourcarpet"
           }
          ],
          "heatmap": [
           {
            "colorbar": {
             "outlinewidth": 0,
             "ticks": ""
            },
            "colorscale": [
             [
              0,
              "#0d0887"
             ],
             [
              0.1111111111111111,
              "#46039f"
             ],
             [
              0.2222222222222222,
              "#7201a8"
             ],
             [
              0.3333333333333333,
              "#9c179e"
             ],
             [
              0.4444444444444444,
              "#bd3786"
             ],
             [
              0.5555555555555556,
              "#d8576b"
             ],
             [
              0.6666666666666666,
              "#ed7953"
             ],
             [
              0.7777777777777778,
              "#fb9f3a"
             ],
             [
              0.8888888888888888,
              "#fdca26"
             ],
             [
              1,
              "#f0f921"
             ]
            ],
            "type": "heatmap"
           }
          ],
          "heatmapgl": [
           {
            "colorbar": {
             "outlinewidth": 0,
             "ticks": ""
            },
            "colorscale": [
             [
              0,
              "#0d0887"
             ],
             [
              0.1111111111111111,
              "#46039f"
             ],
             [
              0.2222222222222222,
              "#7201a8"
             ],
             [
              0.3333333333333333,
              "#9c179e"
             ],
             [
              0.4444444444444444,
              "#bd3786"
             ],
             [
              0.5555555555555556,
              "#d8576b"
             ],
             [
              0.6666666666666666,
              "#ed7953"
             ],
             [
              0.7777777777777778,
              "#fb9f3a"
             ],
             [
              0.8888888888888888,
              "#fdca26"
             ],
             [
              1,
              "#f0f921"
             ]
            ],
            "type": "heatmapgl"
           }
          ],
          "histogram": [
           {
            "marker": {
             "pattern": {
              "fillmode": "overlay",
              "size": 10,
              "solidity": 0.2
             }
            },
            "type": "histogram"
           }
          ],
          "histogram2d": [
           {
            "colorbar": {
             "outlinewidth": 0,
             "ticks": ""
            },
            "colorscale": [
             [
              0,
              "#0d0887"
             ],
             [
              0.1111111111111111,
              "#46039f"
             ],
             [
              0.2222222222222222,
              "#7201a8"
             ],
             [
              0.3333333333333333,
              "#9c179e"
             ],
             [
              0.4444444444444444,
              "#bd3786"
             ],
             [
              0.5555555555555556,
              "#d8576b"
             ],
             [
              0.6666666666666666,
              "#ed7953"
             ],
             [
              0.7777777777777778,
              "#fb9f3a"
             ],
             [
              0.8888888888888888,
              "#fdca26"
             ],
             [
              1,
              "#f0f921"
             ]
            ],
            "type": "histogram2d"
           }
          ],
          "histogram2dcontour": [
           {
            "colorbar": {
             "outlinewidth": 0,
             "ticks": ""
            },
            "colorscale": [
             [
              0,
              "#0d0887"
             ],
             [
              0.1111111111111111,
              "#46039f"
             ],
             [
              0.2222222222222222,
              "#7201a8"
             ],
             [
              0.3333333333333333,
              "#9c179e"
             ],
             [
              0.4444444444444444,
              "#bd3786"
             ],
             [
              0.5555555555555556,
              "#d8576b"
             ],
             [
              0.6666666666666666,
              "#ed7953"
             ],
             [
              0.7777777777777778,
              "#fb9f3a"
             ],
             [
              0.8888888888888888,
              "#fdca26"
             ],
             [
              1,
              "#f0f921"
             ]
            ],
            "type": "histogram2dcontour"
           }
          ],
          "mesh3d": [
           {
            "colorbar": {
             "outlinewidth": 0,
             "ticks": ""
            },
            "type": "mesh3d"
           }
          ],
          "parcoords": [
           {
            "line": {
             "colorbar": {
              "outlinewidth": 0,
              "ticks": ""
             }
            },
            "type": "parcoords"
           }
          ],
          "pie": [
           {
            "automargin": true,
            "type": "pie"
           }
          ],
          "scatter": [
           {
            "marker": {
             "colorbar": {
              "outlinewidth": 0,
              "ticks": ""
             }
            },
            "type": "scatter"
           }
          ],
          "scatter3d": [
           {
            "line": {
             "colorbar": {
              "outlinewidth": 0,
              "ticks": ""
             }
            },
            "marker": {
             "colorbar": {
              "outlinewidth": 0,
              "ticks": ""
             }
            },
            "type": "scatter3d"
           }
          ],
          "scattercarpet": [
           {
            "marker": {
             "colorbar": {
              "outlinewidth": 0,
              "ticks": ""
             }
            },
            "type": "scattercarpet"
           }
          ],
          "scattergeo": [
           {
            "marker": {
             "colorbar": {
              "outlinewidth": 0,
              "ticks": ""
             }
            },
            "type": "scattergeo"
           }
          ],
          "scattergl": [
           {
            "marker": {
             "colorbar": {
              "outlinewidth": 0,
              "ticks": ""
             }
            },
            "type": "scattergl"
           }
          ],
          "scattermapbox": [
           {
            "marker": {
             "colorbar": {
              "outlinewidth": 0,
              "ticks": ""
             }
            },
            "type": "scattermapbox"
           }
          ],
          "scatterpolar": [
           {
            "marker": {
             "colorbar": {
              "outlinewidth": 0,
              "ticks": ""
             }
            },
            "type": "scatterpolar"
           }
          ],
          "scatterpolargl": [
           {
            "marker": {
             "colorbar": {
              "outlinewidth": 0,
              "ticks": ""
             }
            },
            "type": "scatterpolargl"
           }
          ],
          "scatterternary": [
           {
            "marker": {
             "colorbar": {
              "outlinewidth": 0,
              "ticks": ""
             }
            },
            "type": "scatterternary"
           }
          ],
          "surface": [
           {
            "colorbar": {
             "outlinewidth": 0,
             "ticks": ""
            },
            "colorscale": [
             [
              0,
              "#0d0887"
             ],
             [
              0.1111111111111111,
              "#46039f"
             ],
             [
              0.2222222222222222,
              "#7201a8"
             ],
             [
              0.3333333333333333,
              "#9c179e"
             ],
             [
              0.4444444444444444,
              "#bd3786"
             ],
             [
              0.5555555555555556,
              "#d8576b"
             ],
             [
              0.6666666666666666,
              "#ed7953"
             ],
             [
              0.7777777777777778,
              "#fb9f3a"
             ],
             [
              0.8888888888888888,
              "#fdca26"
             ],
             [
              1,
              "#f0f921"
             ]
            ],
            "type": "surface"
           }
          ],
          "table": [
           {
            "cells": {
             "fill": {
              "color": "#EBF0F8"
             },
             "line": {
              "color": "white"
             }
            },
            "header": {
             "fill": {
              "color": "#C8D4E3"
             },
             "line": {
              "color": "white"
             }
            },
            "type": "table"
           }
          ]
         },
         "layout": {
          "annotationdefaults": {
           "arrowcolor": "#2a3f5f",
           "arrowhead": 0,
           "arrowwidth": 1
          },
          "autotypenumbers": "strict",
          "coloraxis": {
           "colorbar": {
            "outlinewidth": 0,
            "ticks": ""
           }
          },
          "colorscale": {
           "diverging": [
            [
             0,
             "#8e0152"
            ],
            [
             0.1,
             "#c51b7d"
            ],
            [
             0.2,
             "#de77ae"
            ],
            [
             0.3,
             "#f1b6da"
            ],
            [
             0.4,
             "#fde0ef"
            ],
            [
             0.5,
             "#f7f7f7"
            ],
            [
             0.6,
             "#e6f5d0"
            ],
            [
             0.7,
             "#b8e186"
            ],
            [
             0.8,
             "#7fbc41"
            ],
            [
             0.9,
             "#4d9221"
            ],
            [
             1,
             "#276419"
            ]
           ],
           "sequential": [
            [
             0,
             "#0d0887"
            ],
            [
             0.1111111111111111,
             "#46039f"
            ],
            [
             0.2222222222222222,
             "#7201a8"
            ],
            [
             0.3333333333333333,
             "#9c179e"
            ],
            [
             0.4444444444444444,
             "#bd3786"
            ],
            [
             0.5555555555555556,
             "#d8576b"
            ],
            [
             0.6666666666666666,
             "#ed7953"
            ],
            [
             0.7777777777777778,
             "#fb9f3a"
            ],
            [
             0.8888888888888888,
             "#fdca26"
            ],
            [
             1,
             "#f0f921"
            ]
           ],
           "sequentialminus": [
            [
             0,
             "#0d0887"
            ],
            [
             0.1111111111111111,
             "#46039f"
            ],
            [
             0.2222222222222222,
             "#7201a8"
            ],
            [
             0.3333333333333333,
             "#9c179e"
            ],
            [
             0.4444444444444444,
             "#bd3786"
            ],
            [
             0.5555555555555556,
             "#d8576b"
            ],
            [
             0.6666666666666666,
             "#ed7953"
            ],
            [
             0.7777777777777778,
             "#fb9f3a"
            ],
            [
             0.8888888888888888,
             "#fdca26"
            ],
            [
             1,
             "#f0f921"
            ]
           ]
          },
          "colorway": [
           "#636efa",
           "#EF553B",
           "#00cc96",
           "#ab63fa",
           "#FFA15A",
           "#19d3f3",
           "#FF6692",
           "#B6E880",
           "#FF97FF",
           "#FECB52"
          ],
          "font": {
           "color": "#2a3f5f"
          },
          "geo": {
           "bgcolor": "white",
           "lakecolor": "white",
           "landcolor": "#E5ECF6",
           "showlakes": true,
           "showland": true,
           "subunitcolor": "white"
          },
          "hoverlabel": {
           "align": "left"
          },
          "hovermode": "closest",
          "mapbox": {
           "style": "light"
          },
          "paper_bgcolor": "white",
          "plot_bgcolor": "#E5ECF6",
          "polar": {
           "angularaxis": {
            "gridcolor": "white",
            "linecolor": "white",
            "ticks": ""
           },
           "bgcolor": "#E5ECF6",
           "radialaxis": {
            "gridcolor": "white",
            "linecolor": "white",
            "ticks": ""
           }
          },
          "scene": {
           "xaxis": {
            "backgroundcolor": "#E5ECF6",
            "gridcolor": "white",
            "gridwidth": 2,
            "linecolor": "white",
            "showbackground": true,
            "ticks": "",
            "zerolinecolor": "white"
           },
           "yaxis": {
            "backgroundcolor": "#E5ECF6",
            "gridcolor": "white",
            "gridwidth": 2,
            "linecolor": "white",
            "showbackground": true,
            "ticks": "",
            "zerolinecolor": "white"
           },
           "zaxis": {
            "backgroundcolor": "#E5ECF6",
            "gridcolor": "white",
            "gridwidth": 2,
            "linecolor": "white",
            "showbackground": true,
            "ticks": "",
            "zerolinecolor": "white"
           }
          },
          "shapedefaults": {
           "line": {
            "color": "#2a3f5f"
           }
          },
          "ternary": {
           "aaxis": {
            "gridcolor": "white",
            "linecolor": "white",
            "ticks": ""
           },
           "baxis": {
            "gridcolor": "white",
            "linecolor": "white",
            "ticks": ""
           },
           "bgcolor": "#E5ECF6",
           "caxis": {
            "gridcolor": "white",
            "linecolor": "white",
            "ticks": ""
           }
          },
          "title": {
           "x": 0.05
          },
          "xaxis": {
           "automargin": true,
           "gridcolor": "white",
           "linecolor": "white",
           "ticks": "",
           "title": {
            "standoff": 15
           },
           "zerolinecolor": "white",
           "zerolinewidth": 2
          },
          "yaxis": {
           "automargin": true,
           "gridcolor": "white",
           "linecolor": "white",
           "ticks": "",
           "title": {
            "standoff": 15
           },
           "zerolinecolor": "white",
           "zerolinewidth": 2
          }
         }
        },
        "xaxis": {
         "anchor": "y",
         "domain": [
          0,
          1
         ],
         "title": {
          "text": "randNumCol"
         },
         "type": "log"
        },
        "yaxis": {
         "anchor": "x",
         "domain": [
          0,
          1
         ],
         "title": {
          "text": "year"
         }
        }
       }
      }
     },
     "metadata": {},
     "output_type": "display_data"
    }
   ],
   "source": [
    "\n",
    "fig = px.scatter(df, x=\"randNumCol\", y=\"year\",\n",
    "\t         size=\"records lost\", color=\"organisation\",\n",
    "                 hover_name=\"organisation\", log_x=True, size_max=60)\n",
    "\n",
    "fig.show()"
   ]
  }
 ],
 "metadata": {
  "interpreter": {
   "hash": "781744b4409b9da5085f09423be4e3ce07b6e38dfe730dc00e0a5fe5b6bf53c2"
  },
  "kernelspec": {
   "display_name": "Python 3.8.11 64-bit ('dash_py3.8': conda)",
   "language": "python",
   "name": "python3"
  },
  "language_info": {
   "codemirror_mode": {
    "name": "ipython",
    "version": 3
   },
   "file_extension": ".py",
   "mimetype": "text/x-python",
   "name": "python",
   "nbconvert_exporter": "python",
   "pygments_lexer": "ipython3",
   "version": "3.8.11"
  },
  "orig_nbformat": 4
 },
 "nbformat": 4,
 "nbformat_minor": 2
}

{
 "cells": [
  {
   "cell_type": "code",
   "execution_count": 2,
   "metadata": {},
   "outputs": [
    {
     "name": "stdout",
     "output_type": "stream",
     "text": [
      "                    organisation\n",
      "0                            NaN\n",
      "1                         Twitch\n",
      "2                      Syniverse\n",
      "3                 Pandora Papers\n",
      "4                  Neiman Marcus\n",
      "..                           ...\n",
      "388              Hewlett Packard\n",
      "389              Ameritrade Inc.\n",
      "390                    Citigroup\n",
      "391  Cardsystems Solutions Inc. \n",
      "392                          AOL\n",
      "\n",
      "[393 rows x 1 columns]\n",
      "     organisation alternative name  \\\n",
      "0             NaN              NaN   \n",
      "1          Twitch              NaN   \n",
      "2       Syniverse              NaN   \n",
      "3  Pandora Papers              NaN   \n",
      "4   Neiman Marcus              NaN   \n",
      "\n",
      "                                        records lost           year     \\\n",
      "0  (use 3m, 4m, 5m or 10m to approximate unknown ...  year story broke   \n",
      "1                                         10000000.0            2021.0   \n",
      "2                                        500000000.0            2021.0   \n",
      "3                                         11900000.0            2021.0   \n",
      "4                                          4600000.0            2021.0   \n",
      "\n",
      "        date                                              story  \\\n",
      "0        NaT                                                NaN   \n",
      "1 2021-10-01  Full source code breach of the streaming gamin...   \n",
      "2 2021-09-01  \"A company that is a critical part of the glob...   \n",
      "3 2021-10-01  Millions of documents reveal offshore deals an...   \n",
      "4 2021-09-01  Occurred sometime in May 2020 after \"an unauth...   \n",
      "\n",
      "                                              sector  \\\n",
      "0  web\\nhealthcare\\napp\\nretail\\ngaming\\ntranspor...   \n",
      "1                                             gaming   \n",
      "2                                           telecoms   \n",
      "3                                         government   \n",
      "4                                             retail   \n",
      "\n",
      "                                              method interesting story  \\\n",
      "0  poor security\\nhacked\\noops!\\nlost device \\nin...               NaN   \n",
      "1                                             hacked                 y   \n",
      "2                                             hacked               NaN   \n",
      "3                                             hacked                 y   \n",
      "4                                             hacked               NaN   \n",
      "\n",
      "                                    data sensitivity       displayed records  \\\n",
      "0  1. Just email address/Online information \\n2 S...  =IF(C3>100000000,C3,\")   \n",
      "1                                                4.0                 unknown   \n",
      "2                                                4.0                 unknown   \n",
      "3                                                4.0                     NaN   \n",
      "4                                                3.0                     NaN   \n",
      "\n",
      "   Unnamed: 11   source name  \\\n",
      "0          NaN           NaN   \n",
      "1          NaN           BBC   \n",
      "2          NaN          Vice   \n",
      "3          NaN      Guardian   \n",
      "4          NaN  Ars Technica   \n",
      "\n",
      "                                     1st source link 2nd source link     ID  \n",
      "0                                                NaN             NaN    NaN  \n",
      "1     https://www.bbc.co.uk/news/technology-58817658             NaN  395.0  \n",
      "2  https://www.vice.com/en/article/z3xpm8/company...             NaN  394.0  \n",
      "3  https://www.theguardian.com/news/2021/oct/03/p...             NaN  393.0  \n",
      "4  https://arstechnica.com/information-technology...             NaN  392.0  \n"
     ]
    }
   ],
   "source": [
    "import plotly.express as px\n",
    "import plotly.graph_objects as go\n",
    "import dash\n",
    "import pandas as pd \n",
    "import numpy as np\n",
    "import random\n",
    "import datetime\n",
    "\n",
    "df = pd.read_excel(\"./datasets/DataBreaches.xlsx\")\n",
    "\n",
    "def front(self, n):\n",
    "    return self.iloc[:, :n]\n",
    "\n",
    "pd.DataFrame.front=front\n",
    "print(df.front(1))\n",
    "print(df.head())"
   ]
  },
  {
   "cell_type": "code",
   "execution_count": 3,
   "metadata": {},
   "outputs": [
    {
     "name": "stdout",
     "output_type": "stream",
     "text": [
      "                    organisation\n",
      "1                         Twitch\n",
      "2                      Syniverse\n",
      "3                 Pandora Papers\n",
      "4                  Neiman Marcus\n",
      "5                           Epik\n",
      "..                           ...\n",
      "388              Hewlett Packard\n",
      "389              Ameritrade Inc.\n",
      "390                    Citigroup\n",
      "391  Cardsystems Solutions Inc. \n",
      "392                          AOL\n",
      "\n",
      "[392 rows x 1 columns]\n"
     ]
    }
   ],
   "source": [
    "# Löschen der ersten Zeile\n",
    "df = df.drop(df.index[[0]])\n",
    "print(df.front(1))"
   ]
  },
  {
   "cell_type": "code",
   "execution_count": 4,
   "metadata": {},
   "outputs": [],
   "source": [
    "df.dtypes\n",
    "# Spalte year umbennene (aufgrund von Leerzeichen nach \"year\")\n",
    "df = df.rename(columns= {'year   ':'year'})\n"
   ]
  },
  {
   "cell_type": "code",
   "execution_count": 5,
   "metadata": {},
   "outputs": [
    {
     "data": {
      "text/plain": [
       "organisation                 object\n",
       "alternative name             object\n",
       "records lost                float64\n",
       "year                         object\n",
       "date                 datetime64[ns]\n",
       "story                        object\n",
       "sector                       object\n",
       "method                       object\n",
       "interesting story            object\n",
       "data sensitivity             object\n",
       "displayed records            object\n",
       "Unnamed: 11                 float64\n",
       "source name                  object\n",
       "1st source link              object\n",
       "2nd source link              object\n",
       "ID                          float64\n",
       "dtype: object"
      ]
     },
     "execution_count": 5,
     "metadata": {},
     "output_type": "execute_result"
    }
   ],
   "source": [
    "# Umwandlung des Datentyps von records lost von Object in numeric\n",
    "df[\"records lost\"] = pd.to_numeric(df[\"records lost\"])\n",
    "df.dtypes"
   ]
  },
  {
   "cell_type": "code",
   "execution_count": 6,
   "metadata": {},
   "outputs": [
    {
     "data": {
      "text/plain": [
       "organisation                 string\n",
       "alternative name             object\n",
       "records lost                float64\n",
       "year                         object\n",
       "date                 datetime64[ns]\n",
       "story                        object\n",
       "sector                       object\n",
       "method                       object\n",
       "interesting story            object\n",
       "data sensitivity             object\n",
       "displayed records            object\n",
       "Unnamed: 11                 float64\n",
       "source name                  object\n",
       "1st source link              object\n",
       "2nd source link              object\n",
       "ID                          float64\n",
       "dtype: object"
      ]
     },
     "execution_count": 6,
     "metadata": {},
     "output_type": "execute_result"
    }
   ],
   "source": [
    "# Umwandlung des Datentyps von Organisation von Object in string\n",
    "df[\"organisation\"] = df[\"organisation\"].astype(\"string\")\n",
    "df.dtypes"
   ]
  },
  {
   "cell_type": "code",
   "execution_count": 7,
   "metadata": {},
   "outputs": [
    {
     "data": {
      "text/plain": [
       "organisation                 string\n",
       "alternative name             object\n",
       "records lost                float64\n",
       "year                          int32\n",
       "date                 datetime64[ns]\n",
       "story                        object\n",
       "sector                       object\n",
       "method                       object\n",
       "interesting story            object\n",
       "data sensitivity             object\n",
       "displayed records            object\n",
       "Unnamed: 11                 float64\n",
       "source name                  object\n",
       "1st source link              object\n",
       "2nd source link              object\n",
       "ID                          float64\n",
       "dtype: object"
      ]
     },
     "execution_count": 7,
     "metadata": {},
     "output_type": "execute_result"
    }
   ],
   "source": [
    "# Umwandlung des Datentyps von Year von Object in Integer\n",
    "df[\"year\"] = df[\"year\"].astype(\"int\")\n",
    "df.dtypes\n"
   ]
  },
  {
   "cell_type": "code",
   "execution_count": 8,
   "metadata": {},
   "outputs": [
    {
     "data": {
      "application/vnd.plotly.v1+json": {
       "config": {
        "plotlyServerURL": "https://plot.ly"
       },
       "data": [
        {
         "alignmentgroup": "True",
         "hovertemplate": "sector=gaming<br>year=%{x}<br>records lost=%{y}<extra></extra>",
         "legendgroup": "gaming",
         "marker": {
          "color": "#636efa",
          "pattern": {
           "shape": ""
          }
         },
         "name": "gaming",
         "offsetgroup": "gaming",
         "orientation": "v",
         "showlegend": true,
         "textposition": "auto",
         "type": "bar",
         "x": [
          2021,
          2020,
          2020,
          2019,
          2019,
          2019,
          2019,
          2016,
          2013,
          2013,
          2012,
          2011,
          2011,
          2011,
          2011
         ],
         "xaxis": "x",
         "y": [
          10000000,
          500000,
          300000,
          11000000,
          4000000,
          5000000,
          7600000,
          7000000,
          58000000,
          4000000,
          14000000,
          77000000,
          200000,
          1290755,
          24600000
         ],
         "yaxis": "y"
        },
        {
         "alignmentgroup": "True",
         "hovertemplate": "sector=telecoms<br>year=%{x}<br>records lost=%{y}<extra></extra>",
         "legendgroup": "telecoms",
         "marker": {
          "color": "#EF553B",
          "pattern": {
           "shape": ""
          }
         },
         "name": "telecoms",
         "offsetgroup": "telecoms",
         "orientation": "v",
         "showlegend": true,
         "textposition": "auto",
         "type": "bar",
         "x": [
          2021,
          2021,
          2021,
          2020,
          2020,
          2020,
          2018,
          2018,
          2018,
          2017,
          2017,
          2016,
          2015,
          2015,
          2015,
          2013,
          2013,
          2012,
          2010,
          2008,
          2008,
          2006
         ],
         "xaxis": "x",
         "y": [
          500000000,
          40000000,
          38000000,
          200000,
          2500000,
          115000000,
          10000000,
          2000000,
          32000000,
          1900000,
          46200000,
          130000,
          157000,
          15000000,
          2400000,
          170000,
          2000000,
          8700000,
          114000,
          113000,
          17000000,
          4000000
         ],
         "yaxis": "y"
        },
        {
         "alignmentgroup": "True",
         "hovertemplate": "sector=government<br>year=%{x}<br>records lost=%{y}<extra></extra>",
         "legendgroup": "government",
         "marker": {
          "color": "#00cc96",
          "pattern": {
           "shape": ""
          }
         },
         "name": "government",
         "offsetgroup": "government",
         "orientation": "v",
         "showlegend": true,
         "textposition": "auto",
         "type": "bar",
         "x": [
          2021,
          2021,
          2021,
          2020,
          2020,
          2020,
          2019,
          2019,
          2018,
          2017,
          2017,
          2016,
          2016,
          2016,
          2016,
          2015,
          2015,
          2015,
          2015,
          2014,
          2013,
          2013,
          2013,
          2012,
          2012,
          2012,
          2012,
          2011,
          2011,
          2011,
          2011,
          2011,
          2010,
          2008,
          2008,
          2008,
          2008,
          2008,
          2008,
          2007,
          2007,
          2007
         ],
         "xaxis": "x",
         "y": [
          11900000,
          100000000,
          280000,
          387000,
          6900000,
          6500000,
          100000,
          5000000,
          550000000,
          3000000,
          3700000,
          55000000,
          274477,
          49611709,
          5000000,
          21500000,
          4000000,
          30,
          100000,
          5190396,
          100000,
          1500000,
          160000,
          800000,
          6500000,
          9000000,
          3600000,
          3500000,
          123461,
          180000,
          210000,
          1000000,
          392000,
          84000,
          6000000,
          89000,
          1700000,
          3950000,
          50500,
          3000000,
          160000,
          25000000
         ],
         "yaxis": "y"
        },
        {
         "alignmentgroup": "True",
         "hovertemplate": "sector=retail<br>year=%{x}<br>records lost=%{y}<extra></extra>",
         "legendgroup": "retail",
         "marker": {
          "color": "#ab63fa",
          "pattern": {
           "shape": ""
          }
         },
         "name": "retail",
         "offsetgroup": "retail",
         "orientation": "v",
         "showlegend": true,
         "textposition": "auto",
         "type": "bar",
         "x": [
          2021,
          2021,
          2021,
          2021,
          2020,
          2020,
          2020,
          2020,
          2020,
          2019,
          2019,
          2019,
          2019,
          2018,
          2018,
          2018,
          2018,
          2018,
          2018,
          2018,
          2017,
          2016,
          2014,
          2014,
          2014,
          2014,
          2014,
          2013,
          2011,
          2011,
          2008,
          2008,
          2007,
          2007,
          2007
         ],
         "xaxis": "x",
         "y": [
          4600000,
          15000000,
          111000,
          10000000,
          900000,
          150000,
          600000,
          5200000,
          10600000,
          30000000,
          28000000,
          57000000,
          1000000,
          383000000,
          37000000,
          5000000,
          1300000,
          5000000,
          16300,
          45000000,
          2000000,
          1025,
          1100000,
          4000000,
          1160000,
          56000000,
          600000,
          70000000,
          283000,
          200000,
          4200000,
          97000,
          800000,
          8637405,
          94000000
         ],
         "yaxis": "y"
        },
        {
         "alignmentgroup": "True",
         "hovertemplate": "sector=web <br>year=%{x}<br>records lost=%{y}<extra></extra>",
         "legendgroup": "web ",
         "marker": {
          "color": "#FFA15A",
          "pattern": {
           "shape": ""
          }
         },
         "name": "web ",
         "offsetgroup": "web ",
         "orientation": "v",
         "showlegend": true,
         "textposition": "auto",
         "type": "bar",
         "x": [
          2021,
          2019
         ],
         "xaxis": "x",
         "y": [
          700000000,
          162000000
         ],
         "yaxis": "y"
        },
        {
         "alignmentgroup": "True",
         "hovertemplate": "sector=transport<br>year=%{x}<br>records lost=%{y}<extra></extra>",
         "legendgroup": "transport",
         "marker": {
          "color": "#19d3f3",
          "pattern": {
           "shape": ""
          }
         },
         "name": "transport",
         "offsetgroup": "transport",
         "orientation": "v",
         "showlegend": true,
         "textposition": "auto",
         "type": "bar",
         "x": [
          2021,
          2021,
          2021,
          2021,
          2020,
          2020,
          2019,
          2019,
          2019,
          2018,
          2018,
          2018,
          2018,
          2015,
          2014,
          2014
         ],
         "xaxis": "x",
         "y": [
          3300000,
          4500000,
          21000000,
          16000000,
          9000000,
          5000000,
          3100000,
          18000000,
          4900000,
          94000000,
          700000,
          380000,
          934000,
          10000,
          52000,
          750000
         ],
         "yaxis": "y"
        },
        {
         "alignmentgroup": "True",
         "hovertemplate": "sector=app<br>year=%{x}<br>records lost=%{y}<extra></extra>",
         "legendgroup": "app",
         "marker": {
          "color": "#FF6692",
          "pattern": {
           "shape": ""
          }
         },
         "name": "app",
         "offsetgroup": "app",
         "orientation": "v",
         "showlegend": true,
         "textposition": "auto",
         "type": "bar",
         "x": [
          2021,
          2020,
          2020,
          2020,
          2020,
          2019,
          2018,
          2018,
          2018,
          2018,
          2018,
          2018,
          2017,
          2017,
          2017,
          2017,
          2017,
          2017,
          2016,
          2015,
          2015
         ],
         "xaxis": "x",
         "y": [
          1710000,
          50000000,
          500000,
          2400000,
          500000,
          2000000,
          14000000,
          150000000,
          120000000,
          100000000,
          3000000,
          309000,
          57000000,
          1700000,
          31000000,
          1000000,
          1700000,
          540000,
          15000000,
          400000,
          500000
         ],
         "yaxis": "y"
        },
        {
         "alignmentgroup": "True",
         "hovertemplate": "sector=web<br>year=%{x}<br>records lost=%{y}<extra></extra>",
         "legendgroup": "web",
         "marker": {
          "color": "#B6E880",
          "pattern": {
           "shape": ""
          }
         },
         "name": "web",
         "offsetgroup": "web",
         "orientation": "v",
         "showlegend": true,
         "textposition": "auto",
         "type": "bar",
         "x": [
          2021,
          2020,
          2020,
          2019,
          2019,
          2019,
          2019,
          2019,
          2019,
          2019,
          2019,
          2019,
          2019,
          2019,
          2019,
          2019,
          2019,
          2019,
          2019,
          2019,
          2019,
          2018,
          2018,
          2018,
          2018,
          2018,
          2018,
          2018,
          2018,
          2018,
          2018,
          2018,
          2018,
          2017,
          2017,
          2017,
          2017,
          2017,
          2017,
          2017,
          2017,
          2017,
          2016,
          2016,
          2016,
          2016,
          2016,
          2016,
          2016,
          2016,
          2016,
          2016,
          2016,
          2016,
          2016,
          2016,
          2016,
          2016,
          2016,
          2016,
          2015,
          2015,
          2015,
          2015,
          2015,
          2015,
          2015,
          2015,
          2014,
          2014,
          2014,
          2014,
          2013,
          2013,
          2013,
          2013,
          2013,
          2013,
          2013,
          2013,
          2013,
          2013,
          2013,
          2012,
          2012,
          2012,
          2012,
          2012,
          2012,
          2012,
          2011,
          2011,
          2011,
          2011,
          2011,
          2011,
          2011,
          2010,
          2009,
          2008,
          2007,
          2006,
          2004
         ],
         "xaxis": "x",
         "y": [
          13124962,
          22000000,
          250000000,
          139000000,
          1800000,
          41000000,
          25000000,
          22000000,
          20000000,
          18000000,
          16000000,
          8000000,
          6000000,
          1000000,
          700000,
          40000000,
          1800000,
          14800000,
          275265298,
          419000000,
          26000000,
          202000000,
          52500000,
          100000000,
          50000000,
          92283889,
          14800000,
          40000,
          880000,
          48000000,
          27000000,
          411000,
          29000000,
          17500000,
          300000,
          32000000,
          520000000,
          340000000,
          700000,
          17000000,
          6000000,
          3000000,
          117000000,
          65000000,
          500000000,
          25000000,
          300000,
          9500000,
          2000000,
          35000,
          171000000,
          1500000,
          40000000,
          164000000,
          85200000,
          43000000,
          10000000,
          412000000,
          790724,
          6600000,
          198000000,
          13000000,
          3300000,
          6400000,
          500000,
          37000000,
          3900000,
          70000000,
          2400000,
          145000000,
          5000000,
          76000,
          40000000,
          500000,
          50000000,
          550000000,
          250000,
          200000,
          6000000,
          50000000,
          1000000,
          860000,
          4000000,
          6000000,
          24000000,
          420000,
          43500000,
          8000000,
          8000000,
          68700000,
          2300000,
          3000000,
          10000000,
          62000,
          1000000,
          35000000,
          13200000,
          1500000,
          573000,
          18000000,
          1600000,
          20000000,
          92000000
         ],
         "yaxis": "y"
        },
        {
         "alignmentgroup": "True",
         "hovertemplate": "sector=tech<br>year=%{x}<br>records lost=%{y}<extra></extra>",
         "legendgroup": "tech",
         "marker": {
          "color": "#FF97FF",
          "pattern": {
           "shape": ""
          }
         },
         "name": "tech",
         "offsetgroup": "tech",
         "orientation": "v",
         "showlegend": true,
         "textposition": "auto",
         "type": "bar",
         "x": [
          2021,
          2021,
          2021,
          2021,
          2021,
          2021,
          2019,
          2019,
          2019,
          2018,
          2018,
          2018,
          2017,
          2013,
          2013
         ],
         "xaxis": "x",
         "y": [
          3000000,
          10000000,
          16000000,
          2240000,
          4000000,
          533000000,
          2400000,
          27800000,
          380000000,
          330000000,
          100000,
          200000000,
          3000000,
          38000000,
          1000000
         ],
         "yaxis": "y"
        },
        {
         "alignmentgroup": "True",
         "hovertemplate": "sector=finance<br>year=%{x}<br>records lost=%{y}<extra></extra>",
         "legendgroup": "finance",
         "marker": {
          "color": "#FECB52",
          "pattern": {
           "shape": ""
          }
         },
         "name": "finance",
         "offsetgroup": "finance",
         "orientation": "v",
         "showlegend": true,
         "textposition": "auto",
         "type": "bar",
         "x": [
          2021,
          2020,
          2019,
          2019,
          2019,
          2018,
          2018,
          2016,
          2017,
          2017,
          2017,
          2015,
          2014,
          2014,
          2014,
          2014,
          2013,
          2013,
          2013,
          2013,
          2012,
          2012,
          2011,
          2011,
          2010,
          2010,
          2009,
          2009,
          2008,
          2008,
          2008,
          2008,
          2007,
          2007,
          2007,
          2006,
          2005,
          2005,
          2005
         ],
         "xaxis": "x",
         "y": [
          220000000,
          270000,
          4200000,
          450000,
          100000000,
          300000,
          14000000,
          1100,
          270000,
          1600000,
          143000000,
          40000,
          4000000,
          76000000,
          2700000,
          20000000,
          160000000,
          150000,
          500000,
          200000000,
          1500000,
          3000000,
          34000,
          210000,
          3300000,
          400000,
          130000000,
          5000000,
          1000000,
          4500000,
          2500000,
          1500000,
          8500000,
          2600000,
          6300000,
          125000,
          200000,
          3900000,
          40000000
         ],
         "yaxis": "y"
        },
        {
         "alignmentgroup": "True",
         "hovertemplate": "sector=health <br>year=%{x}<br>records lost=%{y}<extra></extra>",
         "legendgroup": "health ",
         "marker": {
          "color": "#636efa",
          "pattern": {
           "shape": ""
          }
         },
         "name": "health ",
         "offsetgroup": "health ",
         "orientation": "v",
         "showlegend": true,
         "textposition": "auto",
         "type": "bar",
         "x": [
          2020,
          2019,
          2019,
          2018,
          2018,
          2018,
          2017,
          2016,
          2016,
          2016,
          2016,
          2015,
          2015,
          2015,
          2015,
          2015,
          2014,
          2013,
          2013,
          2013,
          2012,
          2012,
          2012,
          2011,
          2011,
          2011,
          2011,
          2011,
          2011,
          2011,
          2011,
          2011,
          2011,
          2011,
          2011,
          2010,
          2010,
          2010,
          2010,
          2010,
          2010,
          2009,
          2009
         ],
         "xaxis": "x",
         "y": [
          1000000,
          20000000,
          2700000,
          1500000,
          3000000,
          93689,
          81309,
          3700000,
          112000,
          550000,
          34000,
          1100000,
          10000000,
          11000000,
          80000000,
          4500000,
          4500000,
          344579,
          100000,
          4000000,
          228000,
          315000,
          102153,
          1700000,
          231400,
          800000,
          156000,
          300000,
          175350,
          1900000,
          514330,
          400000,
          8600000,
          1600000,
          4243434,
          1220000,
          1023209,
          398000,
          180111,
          105470,
          130495,
          531400,
          1500000
         ],
         "yaxis": "y"
        },
        {
         "alignmentgroup": "True",
         "hovertemplate": "sector=misc, health<br>year=%{x}<br>records lost=%{y}<extra></extra>",
         "legendgroup": "misc, health",
         "marker": {
          "color": "#EF553B",
          "pattern": {
           "shape": ""
          }
         },
         "name": "misc, health",
         "offsetgroup": "misc, health",
         "orientation": "v",
         "showlegend": true,
         "textposition": "auto",
         "type": "bar",
         "x": [
          2020
         ],
         "xaxis": "x",
         "y": [
          1400000
         ],
         "yaxis": "y"
        },
        {
         "alignmentgroup": "True",
         "hovertemplate": "sector=misc<br>year=%{x}<br>records lost=%{y}<extra></extra>",
         "legendgroup": "misc",
         "marker": {
          "color": "#00cc96",
          "pattern": {
           "shape": ""
          }
         },
         "name": "misc",
         "offsetgroup": "misc",
         "orientation": "v",
         "showlegend": true,
         "textposition": "auto",
         "type": "bar",
         "x": [
          2020,
          2019,
          2016,
          2016,
          2014,
          2013,
          2012,
          2011,
          2008
         ],
         "xaxis": "x",
         "y": [
          2400000,
          49000000,
          11500000,
          2200000,
          10000000,
          110000,
          1800000,
          1270000,
          11100000
         ],
         "yaxis": "y"
        },
        {
         "alignmentgroup": "True",
         "hovertemplate": "sector=tech, health<br>year=%{x}<br>records lost=%{y}<extra></extra>",
         "legendgroup": "tech, health",
         "marker": {
          "color": "#ab63fa",
          "pattern": {
           "shape": ""
          }
         },
         "name": "tech, health",
         "offsetgroup": "tech, health",
         "orientation": "v",
         "showlegend": true,
         "textposition": "auto",
         "type": "bar",
         "x": [
          2020
         ],
         "xaxis": "x",
         "y": [
          2500000
         ],
         "yaxis": "y"
        },
        {
         "alignmentgroup": "True",
         "hovertemplate": "sector=academic<br>year=%{x}<br>records lost=%{y}<extra></extra>",
         "legendgroup": "academic",
         "marker": {
          "color": "#FFA15A",
          "pattern": {
           "shape": ""
          }
         },
         "name": "academic",
         "offsetgroup": "academic",
         "orientation": "v",
         "showlegend": true,
         "textposition": "auto",
         "type": "bar",
         "x": [
          2019,
          2014,
          2013,
          2013,
          2011,
          2011,
          2010,
          2009,
          2008,
          2008,
          2008
         ],
         "xaxis": "x",
         "y": [
          200000,
          146000,
          74000,
          125000,
          43000,
          73000,
          760000,
          160000,
          2100000,
          72000,
          2200000
         ],
         "yaxis": "y"
        },
        {
         "alignmentgroup": "True",
         "hovertemplate": "sector=tech, app<br>year=%{x}<br>records lost=%{y}<extra></extra>",
         "legendgroup": "tech, app",
         "marker": {
          "color": "#19d3f3",
          "pattern": {
           "shape": ""
          }
         },
         "name": "tech, app",
         "offsetgroup": "tech, app",
         "orientation": "v",
         "showlegend": true,
         "textposition": "auto",
         "type": "bar",
         "x": [
          2015
         ],
         "xaxis": "x",
         "y": [
          50000
         ],
         "yaxis": "y"
        },
        {
         "alignmentgroup": "True",
         "hovertemplate": "sector=web, tech<br>year=%{x}<br>records lost=%{y}<extra></extra>",
         "legendgroup": "web, tech",
         "marker": {
          "color": "#FF6692",
          "pattern": {
           "shape": ""
          }
         },
         "name": "web, tech",
         "offsetgroup": "web, tech",
         "orientation": "v",
         "showlegend": true,
         "textposition": "auto",
         "type": "bar",
         "x": [
          2013
         ],
         "xaxis": "x",
         "y": [
          4600000
         ],
         "yaxis": "y"
        },
        {
         "alignmentgroup": "True",
         "hovertemplate": "sector=tech, web<br>year=%{x}<br>records lost=%{y}<extra></extra>",
         "legendgroup": "tech, web",
         "marker": {
          "color": "#B6E880",
          "pattern": {
           "shape": ""
          }
         },
         "name": "tech, web",
         "offsetgroup": "tech, web",
         "orientation": "v",
         "showlegend": true,
         "textposition": "auto",
         "type": "bar",
         "x": [
          2013,
          2013,
          2013,
          2012
         ],
         "xaxis": "x",
         "y": [
          275000,
          2000000,
          22000000,
          450000
         ],
         "yaxis": "y"
        },
        {
         "alignmentgroup": "True",
         "hovertemplate": "sector=government, health<br>year=%{x}<br>records lost=%{y}<extra></extra>",
         "legendgroup": "government, health",
         "marker": {
          "color": "#FF97FF",
          "pattern": {
           "shape": ""
          }
         },
         "name": "government, health",
         "offsetgroup": "government, health",
         "orientation": "v",
         "showlegend": true,
         "textposition": "auto",
         "type": "bar",
         "x": [
          2012
         ],
         "xaxis": "x",
         "y": [
          780000
         ],
         "yaxis": "y"
        },
        {
         "alignmentgroup": "True",
         "hovertemplate": "sector=web, military<br>year=%{x}<br>records lost=%{y}<extra></extra>",
         "legendgroup": "web, military",
         "marker": {
          "color": "#FECB52",
          "pattern": {
           "shape": ""
          }
         },
         "name": "web, military",
         "offsetgroup": "web, military",
         "orientation": "v",
         "showlegend": true,
         "textposition": "auto",
         "type": "bar",
         "x": [
          2012
         ],
         "xaxis": "x",
         "y": [
          163792
         ],
         "yaxis": "y"
        },
        {
         "alignmentgroup": "True",
         "hovertemplate": "sector=tech, retail<br>year=%{x}<br>records lost=%{y}<extra></extra>",
         "legendgroup": "tech, retail",
         "marker": {
          "color": "#636efa",
          "pattern": {
           "shape": ""
          }
         },
         "name": "tech, retail",
         "offsetgroup": "tech, retail",
         "orientation": "v",
         "showlegend": true,
         "textposition": "auto",
         "type": "bar",
         "x": [
          2012,
          2006
         ],
         "xaxis": "x",
         "y": [
          12367232,
          200000
         ],
         "yaxis": "y"
        },
        {
         "alignmentgroup": "True",
         "hovertemplate": "sector=military<br>year=%{x}<br>records lost=%{y}<extra></extra>",
         "legendgroup": "military",
         "marker": {
          "color": "#EF553B",
          "pattern": {
           "shape": ""
          }
         },
         "name": "military",
         "offsetgroup": "military",
         "orientation": "v",
         "showlegend": true,
         "textposition": "auto",
         "type": "bar",
         "x": [
          2011,
          2010,
          2009,
          2009
         ],
         "xaxis": "x",
         "y": [
          935000,
          260000,
          131000,
          76000000
         ],
         "yaxis": "y"
        },
        {
         "alignmentgroup": "True",
         "hovertemplate": "sector=military, health<br>year=%{x}<br>records lost=%{y}<extra></extra>",
         "legendgroup": "military, health",
         "marker": {
          "color": "#00cc96",
          "pattern": {
           "shape": ""
          }
         },
         "name": "military, health",
         "offsetgroup": "military, health",
         "orientation": "v",
         "showlegend": true,
         "textposition": "auto",
         "type": "bar",
         "x": [
          2011
         ],
         "xaxis": "x",
         "y": [
          4901432
         ],
         "yaxis": "y"
        },
        {
         "alignmentgroup": "True",
         "hovertemplate": "sector=web, gaming<br>year=%{x}<br>records lost=%{y}<extra></extra>",
         "legendgroup": "web, gaming",
         "marker": {
          "color": "#ab63fa",
          "pattern": {
           "shape": ""
          }
         },
         "name": "web, gaming",
         "offsetgroup": "web, gaming",
         "orientation": "v",
         "showlegend": true,
         "textposition": "auto",
         "type": "bar",
         "x": [
          2009
         ],
         "xaxis": "x",
         "y": [
          32000000
         ],
         "yaxis": "y"
        },
        {
         "alignmentgroup": "True",
         "hovertemplate": "sector=government, military<br>year=%{x}<br>records lost=%{y}<extra></extra>",
         "legendgroup": "government, military",
         "marker": {
          "color": "#FFA15A",
          "pattern": {
           "shape": ""
          }
         },
         "name": "government, military",
         "offsetgroup": "government, military",
         "orientation": "v",
         "showlegend": true,
         "textposition": "auto",
         "type": "bar",
         "x": [
          2006
         ],
         "xaxis": "x",
         "y": [
          26500000
         ],
         "yaxis": "y"
        }
       ],
       "layout": {
        "barmode": "relative",
        "legend": {
         "title": {
          "text": "sector"
         },
         "tracegroupgap": 0
        },
        "margin": {
         "t": 60
        },
        "template": {
         "data": {
          "bar": [
           {
            "error_x": {
             "color": "#2a3f5f"
            },
            "error_y": {
             "color": "#2a3f5f"
            },
            "marker": {
             "line": {
              "color": "#E5ECF6",
              "width": 0.5
             },
             "pattern": {
              "fillmode": "overlay",
              "size": 10,
              "solidity": 0.2
             }
            },
            "type": "bar"
           }
          ],
          "barpolar": [
           {
            "marker": {
             "line": {
              "color": "#E5ECF6",
              "width": 0.5
             },
             "pattern": {
              "fillmode": "overlay",
              "size": 10,
              "solidity": 0.2
             }
            },
            "type": "barpolar"
           }
          ],
          "carpet": [
           {
            "aaxis": {
             "endlinecolor": "#2a3f5f",
             "gridcolor": "white",
             "linecolor": "white",
             "minorgridcolor": "white",
             "startlinecolor": "#2a3f5f"
            },
            "baxis": {
             "endlinecolor": "#2a3f5f",
             "gridcolor": "white",
             "linecolor": "white",
             "minorgridcolor": "white",
             "startlinecolor": "#2a3f5f"
            },
            "type": "carpet"
           }
          ],
          "choropleth": [
           {
            "colorbar": {
             "outlinewidth": 0,
             "ticks": ""
            },
            "type": "choropleth"
           }
          ],
          "contour": [
           {
            "colorbar": {
             "outlinewidth": 0,
             "ticks": ""
            },
            "colorscale": [
             [
              0,
              "#0d0887"
             ],
             [
              0.1111111111111111,
              "#46039f"
             ],
             [
              0.2222222222222222,
              "#7201a8"
             ],
             [
              0.3333333333333333,
              "#9c179e"
             ],
             [
              0.4444444444444444,
              "#bd3786"
             ],
             [
              0.5555555555555556,
              "#d8576b"
             ],
             [
              0.6666666666666666,
              "#ed7953"
             ],
             [
              0.7777777777777778,
              "#fb9f3a"
             ],
             [
              0.8888888888888888,
              "#fdca26"
             ],
             [
              1,
              "#f0f921"
             ]
            ],
            "type": "contour"
           }
          ],
          "contourcarpet": [
           {
            "colorbar": {
             "outlinewidth": 0,
             "ticks": ""
            },
            "type": "contourcarpet"
           }
          ],
          "heatmap": [
           {
            "colorbar": {
             "outlinewidth": 0,
             "ticks": ""
            },
            "colorscale": [
             [
              0,
              "#0d0887"
             ],
             [
              0.1111111111111111,
              "#46039f"
             ],
             [
              0.2222222222222222,
              "#7201a8"
             ],
             [
              0.3333333333333333,
              "#9c179e"
             ],
             [
              0.4444444444444444,
              "#bd3786"
             ],
             [
              0.5555555555555556,
              "#d8576b"
             ],
             [
              0.6666666666666666,
              "#ed7953"
             ],
             [
              0.7777777777777778,
              "#fb9f3a"
             ],
             [
              0.8888888888888888,
              "#fdca26"
             ],
             [
              1,
              "#f0f921"
             ]
            ],
            "type": "heatmap"
           }
          ],
          "heatmapgl": [
           {
            "colorbar": {
             "outlinewidth": 0,
             "ticks": ""
            },
            "colorscale": [
             [
              0,
              "#0d0887"
             ],
             [
              0.1111111111111111,
              "#46039f"
             ],
             [
              0.2222222222222222,
              "#7201a8"
             ],
             [
              0.3333333333333333,
              "#9c179e"
             ],
             [
              0.4444444444444444,
              "#bd3786"
             ],
             [
              0.5555555555555556,
              "#d8576b"
             ],
             [
              0.6666666666666666,
              "#ed7953"
             ],
             [
              0.7777777777777778,
              "#fb9f3a"
             ],
             [
              0.8888888888888888,
              "#fdca26"
             ],
             [
              1,
              "#f0f921"
             ]
            ],
            "type": "heatmapgl"
           }
          ],
          "histogram": [
           {
            "marker": {
             "pattern": {
              "fillmode": "overlay",
              "size": 10,
              "solidity": 0.2
             }
            },
            "type": "histogram"
           }
          ],
          "histogram2d": [
           {
            "colorbar": {
             "outlinewidth": 0,
             "ticks": ""
            },
            "colorscale": [
             [
              0,
              "#0d0887"
             ],
             [
              0.1111111111111111,
              "#46039f"
             ],
             [
              0.2222222222222222,
              "#7201a8"
             ],
             [
              0.3333333333333333,
              "#9c179e"
             ],
             [
              0.4444444444444444,
              "#bd3786"
             ],
             [
              0.5555555555555556,
              "#d8576b"
             ],
             [
              0.6666666666666666,
              "#ed7953"
             ],
             [
              0.7777777777777778,
              "#fb9f3a"
             ],
             [
              0.8888888888888888,
              "#fdca26"
             ],
             [
              1,
              "#f0f921"
             ]
            ],
            "type": "histogram2d"
           }
          ],
          "histogram2dcontour": [
           {
            "colorbar": {
             "outlinewidth": 0,
             "ticks": ""
            },
            "colorscale": [
             [
              0,
              "#0d0887"
             ],
             [
              0.1111111111111111,
              "#46039f"
             ],
             [
              0.2222222222222222,
              "#7201a8"
             ],
             [
              0.3333333333333333,
              "#9c179e"
             ],
             [
              0.4444444444444444,
              "#bd3786"
             ],
             [
              0.5555555555555556,
              "#d8576b"
             ],
             [
              0.6666666666666666,
              "#ed7953"
             ],
             [
              0.7777777777777778,
              "#fb9f3a"
             ],
             [
              0.8888888888888888,
              "#fdca26"
             ],
             [
              1,
              "#f0f921"
             ]
            ],
            "type": "histogram2dcontour"
           }
          ],
          "mesh3d": [
           {
            "colorbar": {
             "outlinewidth": 0,
             "ticks": ""
            },
            "type": "mesh3d"
           }
          ],
          "parcoords": [
           {
            "line": {
             "colorbar": {
              "outlinewidth": 0,
              "ticks": ""
             }
            },
            "type": "parcoords"
           }
          ],
          "pie": [
           {
            "automargin": true,
            "type": "pie"
           }
          ],
          "scatter": [
           {
            "marker": {
             "colorbar": {
              "outlinewidth": 0,
              "ticks": ""
             }
            },
            "type": "scatter"
           }
          ],
          "scatter3d": [
           {
            "line": {
             "colorbar": {
              "outlinewidth": 0,
              "ticks": ""
             }
            },
            "marker": {
             "colorbar": {
              "outlinewidth": 0,
              "ticks": ""
             }
            },
            "type": "scatter3d"
           }
          ],
          "scattercarpet": [
           {
            "marker": {
             "colorbar": {
              "outlinewidth": 0,
              "ticks": ""
             }
            },
            "type": "scattercarpet"
           }
          ],
          "scattergeo": [
           {
            "marker": {
             "colorbar": {
              "outlinewidth": 0,
              "ticks": ""
             }
            },
            "type": "scattergeo"
           }
          ],
          "scattergl": [
           {
            "marker": {
             "colorbar": {
              "outlinewidth": 0,
              "ticks": ""
             }
            },
            "type": "scattergl"
           }
          ],
          "scattermapbox": [
           {
            "marker": {
             "colorbar": {
              "outlinewidth": 0,
              "ticks": ""
             }
            },
            "type": "scattermapbox"
           }
          ],
          "scatterpolar": [
           {
            "marker": {
             "colorbar": {
              "outlinewidth": 0,
              "ticks": ""
             }
            },
            "type": "scatterpolar"
           }
          ],
          "scatterpolargl": [
           {
            "marker": {
             "colorbar": {
              "outlinewidth": 0,
              "ticks": ""
             }
            },
            "type": "scatterpolargl"
           }
          ],
          "scatterternary": [
           {
            "marker": {
             "colorbar": {
              "outlinewidth": 0,
              "ticks": ""
             }
            },
            "type": "scatterternary"
           }
          ],
          "surface": [
           {
            "colorbar": {
             "outlinewidth": 0,
             "ticks": ""
            },
            "colorscale": [
             [
              0,
              "#0d0887"
             ],
             [
              0.1111111111111111,
              "#46039f"
             ],
             [
              0.2222222222222222,
              "#7201a8"
             ],
             [
              0.3333333333333333,
              "#9c179e"
             ],
             [
              0.4444444444444444,
              "#bd3786"
             ],
             [
              0.5555555555555556,
              "#d8576b"
             ],
             [
              0.6666666666666666,
              "#ed7953"
             ],
             [
              0.7777777777777778,
              "#fb9f3a"
             ],
             [
              0.8888888888888888,
              "#fdca26"
             ],
             [
              1,
              "#f0f921"
             ]
            ],
            "type": "surface"
           }
          ],
          "table": [
           {
            "cells": {
             "fill": {
              "color": "#EBF0F8"
             },
             "line": {
              "color": "white"
             }
            },
            "header": {
             "fill": {
              "color": "#C8D4E3"
             },
             "line": {
              "color": "white"
             }
            },
            "type": "table"
           }
          ]
         },
         "layout": {
          "annotationdefaults": {
           "arrowcolor": "#2a3f5f",
           "arrowhead": 0,
           "arrowwidth": 1
          },
          "autotypenumbers": "strict",
          "coloraxis": {
           "colorbar": {
            "outlinewidth": 0,
            "ticks": ""
           }
          },
          "colorscale": {
           "diverging": [
            [
             0,
             "#8e0152"
            ],
            [
             0.1,
             "#c51b7d"
            ],
            [
             0.2,
             "#de77ae"
            ],
            [
             0.3,
             "#f1b6da"
            ],
            [
             0.4,
             "#fde0ef"
            ],
            [
             0.5,
             "#f7f7f7"
            ],
            [
             0.6,
             "#e6f5d0"
            ],
            [
             0.7,
             "#b8e186"
            ],
            [
             0.8,
             "#7fbc41"
            ],
            [
             0.9,
             "#4d9221"
            ],
            [
             1,
             "#276419"
            ]
           ],
           "sequential": [
            [
             0,
             "#0d0887"
            ],
            [
             0.1111111111111111,
             "#46039f"
            ],
            [
             0.2222222222222222,
             "#7201a8"
            ],
            [
             0.3333333333333333,
             "#9c179e"
            ],
            [
             0.4444444444444444,
             "#bd3786"
            ],
            [
             0.5555555555555556,
             "#d8576b"
            ],
            [
             0.6666666666666666,
             "#ed7953"
            ],
            [
             0.7777777777777778,
             "#fb9f3a"
            ],
            [
             0.8888888888888888,
             "#fdca26"
            ],
            [
             1,
             "#f0f921"
            ]
           ],
           "sequentialminus": [
            [
             0,
             "#0d0887"
            ],
            [
             0.1111111111111111,
             "#46039f"
            ],
            [
             0.2222222222222222,
             "#7201a8"
            ],
            [
             0.3333333333333333,
             "#9c179e"
            ],
            [
             0.4444444444444444,
             "#bd3786"
            ],
            [
             0.5555555555555556,
             "#d8576b"
            ],
            [
             0.6666666666666666,
             "#ed7953"
            ],
            [
             0.7777777777777778,
             "#fb9f3a"
            ],
            [
             0.8888888888888888,
             "#fdca26"
            ],
            [
             1,
             "#f0f921"
            ]
           ]
          },
          "colorway": [
           "#636efa",
           "#EF553B",
           "#00cc96",
           "#ab63fa",
           "#FFA15A",
           "#19d3f3",
           "#FF6692",
           "#B6E880",
           "#FF97FF",
           "#FECB52"
          ],
          "font": {
           "color": "#2a3f5f"
          },
          "geo": {
           "bgcolor": "white",
           "lakecolor": "white",
           "landcolor": "#E5ECF6",
           "showlakes": true,
           "showland": true,
           "subunitcolor": "white"
          },
          "hoverlabel": {
           "align": "left"
          },
          "hovermode": "closest",
          "mapbox": {
           "style": "light"
          },
          "paper_bgcolor": "white",
          "plot_bgcolor": "#E5ECF6",
          "polar": {
           "angularaxis": {
            "gridcolor": "white",
            "linecolor": "white",
            "ticks": ""
           },
           "bgcolor": "#E5ECF6",
           "radialaxis": {
            "gridcolor": "white",
            "linecolor": "white",
            "ticks": ""
           }
          },
          "scene": {
           "xaxis": {
            "backgroundcolor": "#E5ECF6",
            "gridcolor": "white",
            "gridwidth": 2,
            "linecolor": "white",
            "showbackground": true,
            "ticks": "",
            "zerolinecolor": "white"
           },
           "yaxis": {
            "backgroundcolor": "#E5ECF6",
            "gridcolor": "white",
            "gridwidth": 2,
            "linecolor": "white",
            "showbackground": true,
            "ticks": "",
            "zerolinecolor": "white"
           },
           "zaxis": {
            "backgroundcolor": "#E5ECF6",
            "gridcolor": "white",
            "gridwidth": 2,
            "linecolor": "white",
            "showbackground": true,
            "ticks": "",
            "zerolinecolor": "white"
           }
          },
          "shapedefaults": {
           "line": {
            "color": "#2a3f5f"
           }
          },
          "ternary": {
           "aaxis": {
            "gridcolor": "white",
            "linecolor": "white",
            "ticks": ""
           },
           "baxis": {
            "gridcolor": "white",
            "linecolor": "white",
            "ticks": ""
           },
           "bgcolor": "#E5ECF6",
           "caxis": {
            "gridcolor": "white",
            "linecolor": "white",
            "ticks": ""
           }
          },
          "title": {
           "x": 0.05
          },
          "xaxis": {
           "automargin": true,
           "gridcolor": "white",
           "linecolor": "white",
           "ticks": "",
           "title": {
            "standoff": 15
           },
           "zerolinecolor": "white",
           "zerolinewidth": 2
          },
          "yaxis": {
           "automargin": true,
           "gridcolor": "white",
           "linecolor": "white",
           "ticks": "",
           "title": {
            "standoff": 15
           },
           "zerolinecolor": "white",
           "zerolinewidth": 2
          }
         }
        },
        "xaxis": {
         "anchor": "y",
         "domain": [
          0,
          1
         ],
         "title": {
          "text": "year"
         }
        },
        "yaxis": {
         "anchor": "x",
         "domain": [
          0,
          1
         ],
         "title": {
          "text": "records lost"
         }
        }
       }
      }
     },
     "metadata": {},
     "output_type": "display_data"
    }
   ],
   "source": [
    "fig = px.bar(df, x=\"year\", y='records lost', color='sector')\n",
    "fig.show()"
   ]
  },
  {
   "cell_type": "code",
   "execution_count": 9,
   "metadata": {},
   "outputs": [
    {
     "name": "stdout",
     "output_type": "stream",
     "text": [
      "   year  records lost\n",
      "8  2012   221926177.0\n"
     ]
    },
    {
     "data": {
      "application/vnd.plotly.v1+json": {
       "config": {
        "plotlyServerURL": "https://plot.ly"
       },
       "data": [
        {
         "hovertemplate": "Jahre=%{x}<br>=%{y}<extra></extra>",
         "legendgroup": "",
         "line": {
          "color": "LightSkyBlue",
          "dash": "solid",
          "width": 2
         },
         "marker": {
          "color": "LightSkyBlue",
          "opacity": 0.8,
          "size": 10,
          "symbol": "circle"
         },
         "mode": "lines+markers",
         "name": "",
         "orientation": "v",
         "showlegend": false,
         "type": "scatter",
         "x": [
          2004,
          2005,
          2006,
          2007,
          2008,
          2009,
          2010,
          2011,
          2012,
          2013,
          2014,
          2015,
          2016,
          2017,
          2018,
          2019,
          2020,
          2021
         ],
         "xaxis": "x",
         "y": [
          92000000,
          44100000,
          50825000,
          150597405,
          76255500,
          245895400,
          9783285,
          201236162,
          221926177,
          1272018579,
          338674396,
          482857030,
          1803040035,
          1234191309,
          2719547878,
          2000815298,
          496707000,
          2277765962
         ],
         "yaxis": "y"
        },
        {
         "hovertemplate": "year=%{x}<br>records lost=%{y}<extra></extra>",
         "legendgroup": "",
         "marker": {
          "color": "pink",
          "opacity": 0.5,
          "size": 15,
          "symbol": "circle"
         },
         "mode": "markers",
         "name": "",
         "orientation": "v",
         "showlegend": false,
         "type": "scatter",
         "x": [
          2012
         ],
         "xaxis": "x",
         "y": [
          221926177
         ],
         "yaxis": "y"
        }
       ],
       "layout": {
        "annotations": [
         {
          "showarrow": false,
          "text": "entstandener Schaden (in US$)",
          "valign": "top",
          "x": 0,
          "xref": "paper",
          "y": 1.1,
          "yref": "y domain"
         }
        ],
        "legend": {
         "tracegroupgap": 0
        },
        "paper_bgcolor": "rgba(255,255,255,1)",
        "plot_bgcolor": "rgba(0,0,0,0)",
        "template": {
         "data": {
          "bar": [
           {
            "error_x": {
             "color": "#2a3f5f"
            },
            "error_y": {
             "color": "#2a3f5f"
            },
            "marker": {
             "line": {
              "color": "#E5ECF6",
              "width": 0.5
             },
             "pattern": {
              "fillmode": "overlay",
              "size": 10,
              "solidity": 0.2
             }
            },
            "type": "bar"
           }
          ],
          "barpolar": [
           {
            "marker": {
             "line": {
              "color": "#E5ECF6",
              "width": 0.5
             },
             "pattern": {
              "fillmode": "overlay",
              "size": 10,
              "solidity": 0.2
             }
            },
            "type": "barpolar"
           }
          ],
          "carpet": [
           {
            "aaxis": {
             "endlinecolor": "#2a3f5f",
             "gridcolor": "white",
             "linecolor": "white",
             "minorgridcolor": "white",
             "startlinecolor": "#2a3f5f"
            },
            "baxis": {
             "endlinecolor": "#2a3f5f",
             "gridcolor": "white",
             "linecolor": "white",
             "minorgridcolor": "white",
             "startlinecolor": "#2a3f5f"
            },
            "type": "carpet"
           }
          ],
          "choropleth": [
           {
            "colorbar": {
             "outlinewidth": 0,
             "ticks": ""
            },
            "type": "choropleth"
           }
          ],
          "contour": [
           {
            "colorbar": {
             "outlinewidth": 0,
             "ticks": ""
            },
            "colorscale": [
             [
              0,
              "#0d0887"
             ],
             [
              0.1111111111111111,
              "#46039f"
             ],
             [
              0.2222222222222222,
              "#7201a8"
             ],
             [
              0.3333333333333333,
              "#9c179e"
             ],
             [
              0.4444444444444444,
              "#bd3786"
             ],
             [
              0.5555555555555556,
              "#d8576b"
             ],
             [
              0.6666666666666666,
              "#ed7953"
             ],
             [
              0.7777777777777778,
              "#fb9f3a"
             ],
             [
              0.8888888888888888,
              "#fdca26"
             ],
             [
              1,
              "#f0f921"
             ]
            ],
            "type": "contour"
           }
          ],
          "contourcarpet": [
           {
            "colorbar": {
             "outlinewidth": 0,
             "ticks": ""
            },
            "type": "contourcarpet"
           }
          ],
          "heatmap": [
           {
            "colorbar": {
             "outlinewidth": 0,
             "ticks": ""
            },
            "colorscale": [
             [
              0,
              "#0d0887"
             ],
             [
              0.1111111111111111,
              "#46039f"
             ],
             [
              0.2222222222222222,
              "#7201a8"
             ],
             [
              0.3333333333333333,
              "#9c179e"
             ],
             [
              0.4444444444444444,
              "#bd3786"
             ],
             [
              0.5555555555555556,
              "#d8576b"
             ],
             [
              0.6666666666666666,
              "#ed7953"
             ],
             [
              0.7777777777777778,
              "#fb9f3a"
             ],
             [
              0.8888888888888888,
              "#fdca26"
             ],
             [
              1,
              "#f0f921"
             ]
            ],
            "type": "heatmap"
           }
          ],
          "heatmapgl": [
           {
            "colorbar": {
             "outlinewidth": 0,
             "ticks": ""
            },
            "colorscale": [
             [
              0,
              "#0d0887"
             ],
             [
              0.1111111111111111,
              "#46039f"
             ],
             [
              0.2222222222222222,
              "#7201a8"
             ],
             [
              0.3333333333333333,
              "#9c179e"
             ],
             [
              0.4444444444444444,
              "#bd3786"
             ],
             [
              0.5555555555555556,
              "#d8576b"
             ],
             [
              0.6666666666666666,
              "#ed7953"
             ],
             [
              0.7777777777777778,
              "#fb9f3a"
             ],
             [
              0.8888888888888888,
              "#fdca26"
             ],
             [
              1,
              "#f0f921"
             ]
            ],
            "type": "heatmapgl"
           }
          ],
          "histogram": [
           {
            "marker": {
             "pattern": {
              "fillmode": "overlay",
              "size": 10,
              "solidity": 0.2
             }
            },
            "type": "histogram"
           }
          ],
          "histogram2d": [
           {
            "colorbar": {
             "outlinewidth": 0,
             "ticks": ""
            },
            "colorscale": [
             [
              0,
              "#0d0887"
             ],
             [
              0.1111111111111111,
              "#46039f"
             ],
             [
              0.2222222222222222,
              "#7201a8"
             ],
             [
              0.3333333333333333,
              "#9c179e"
             ],
             [
              0.4444444444444444,
              "#bd3786"
             ],
             [
              0.5555555555555556,
              "#d8576b"
             ],
             [
              0.6666666666666666,
              "#ed7953"
             ],
             [
              0.7777777777777778,
              "#fb9f3a"
             ],
             [
              0.8888888888888888,
              "#fdca26"
             ],
             [
              1,
              "#f0f921"
             ]
            ],
            "type": "histogram2d"
           }
          ],
          "histogram2dcontour": [
           {
            "colorbar": {
             "outlinewidth": 0,
             "ticks": ""
            },
            "colorscale": [
             [
              0,
              "#0d0887"
             ],
             [
              0.1111111111111111,
              "#46039f"
             ],
             [
              0.2222222222222222,
              "#7201a8"
             ],
             [
              0.3333333333333333,
              "#9c179e"
             ],
             [
              0.4444444444444444,
              "#bd3786"
             ],
             [
              0.5555555555555556,
              "#d8576b"
             ],
             [
              0.6666666666666666,
              "#ed7953"
             ],
             [
              0.7777777777777778,
              "#fb9f3a"
             ],
             [
              0.8888888888888888,
              "#fdca26"
             ],
             [
              1,
              "#f0f921"
             ]
            ],
            "type": "histogram2dcontour"
           }
          ],
          "mesh3d": [
           {
            "colorbar": {
             "outlinewidth": 0,
             "ticks": ""
            },
            "type": "mesh3d"
           }
          ],
          "parcoords": [
           {
            "line": {
             "colorbar": {
              "outlinewidth": 0,
              "ticks": ""
             }
            },
            "type": "parcoords"
           }
          ],
          "pie": [
           {
            "automargin": true,
            "type": "pie"
           }
          ],
          "scatter": [
           {
            "marker": {
             "colorbar": {
              "outlinewidth": 0,
              "ticks": ""
             }
            },
            "type": "scatter"
           }
          ],
          "scatter3d": [
           {
            "line": {
             "colorbar": {
              "outlinewidth": 0,
              "ticks": ""
             }
            },
            "marker": {
             "colorbar": {
              "outlinewidth": 0,
              "ticks": ""
             }
            },
            "type": "scatter3d"
           }
          ],
          "scattercarpet": [
           {
            "marker": {
             "colorbar": {
              "outlinewidth": 0,
              "ticks": ""
             }
            },
            "type": "scattercarpet"
           }
          ],
          "scattergeo": [
           {
            "marker": {
             "colorbar": {
              "outlinewidth": 0,
              "ticks": ""
             }
            },
            "type": "scattergeo"
           }
          ],
          "scattergl": [
           {
            "marker": {
             "colorbar": {
              "outlinewidth": 0,
              "ticks": ""
             }
            },
            "type": "scattergl"
           }
          ],
          "scattermapbox": [
           {
            "marker": {
             "colorbar": {
              "outlinewidth": 0,
              "ticks": ""
             }
            },
            "type": "scattermapbox"
           }
          ],
          "scatterpolar": [
           {
            "marker": {
             "colorbar": {
              "outlinewidth": 0,
              "ticks": ""
             }
            },
            "type": "scatterpolar"
           }
          ],
          "scatterpolargl": [
           {
            "marker": {
             "colorbar": {
              "outlinewidth": 0,
              "ticks": ""
             }
            },
            "type": "scatterpolargl"
           }
          ],
          "scatterternary": [
           {
            "marker": {
             "colorbar": {
              "outlinewidth": 0,
              "ticks": ""
             }
            },
            "type": "scatterternary"
           }
          ],
          "surface": [
           {
            "colorbar": {
             "outlinewidth": 0,
             "ticks": ""
            },
            "colorscale": [
             [
              0,
              "#0d0887"
             ],
             [
              0.1111111111111111,
              "#46039f"
             ],
             [
              0.2222222222222222,
              "#7201a8"
             ],
             [
              0.3333333333333333,
              "#9c179e"
             ],
             [
              0.4444444444444444,
              "#bd3786"
             ],
             [
              0.5555555555555556,
              "#d8576b"
             ],
             [
              0.6666666666666666,
              "#ed7953"
             ],
             [
              0.7777777777777778,
              "#fb9f3a"
             ],
             [
              0.8888888888888888,
              "#fdca26"
             ],
             [
              1,
              "#f0f921"
             ]
            ],
            "type": "surface"
           }
          ],
          "table": [
           {
            "cells": {
             "fill": {
              "color": "#EBF0F8"
             },
             "line": {
              "color": "white"
             }
            },
            "header": {
             "fill": {
              "color": "#C8D4E3"
             },
             "line": {
              "color": "white"
             }
            },
            "type": "table"
           }
          ]
         },
         "layout": {
          "annotationdefaults": {
           "arrowcolor": "#2a3f5f",
           "arrowhead": 0,
           "arrowwidth": 1
          },
          "autotypenumbers": "strict",
          "coloraxis": {
           "colorbar": {
            "outlinewidth": 0,
            "ticks": ""
           }
          },
          "colorscale": {
           "diverging": [
            [
             0,
             "#8e0152"
            ],
            [
             0.1,
             "#c51b7d"
            ],
            [
             0.2,
             "#de77ae"
            ],
            [
             0.3,
             "#f1b6da"
            ],
            [
             0.4,
             "#fde0ef"
            ],
            [
             0.5,
             "#f7f7f7"
            ],
            [
             0.6,
             "#e6f5d0"
            ],
            [
             0.7,
             "#b8e186"
            ],
            [
             0.8,
             "#7fbc41"
            ],
            [
             0.9,
             "#4d9221"
            ],
            [
             1,
             "#276419"
            ]
           ],
           "sequential": [
            [
             0,
             "#0d0887"
            ],
            [
             0.1111111111111111,
             "#46039f"
            ],
            [
             0.2222222222222222,
             "#7201a8"
            ],
            [
             0.3333333333333333,
             "#9c179e"
            ],
            [
             0.4444444444444444,
             "#bd3786"
            ],
            [
             0.5555555555555556,
             "#d8576b"
            ],
            [
             0.6666666666666666,
             "#ed7953"
            ],
            [
             0.7777777777777778,
             "#fb9f3a"
            ],
            [
             0.8888888888888888,
             "#fdca26"
            ],
            [
             1,
             "#f0f921"
            ]
           ],
           "sequentialminus": [
            [
             0,
             "#0d0887"
            ],
            [
             0.1111111111111111,
             "#46039f"
            ],
            [
             0.2222222222222222,
             "#7201a8"
            ],
            [
             0.3333333333333333,
             "#9c179e"
            ],
            [
             0.4444444444444444,
             "#bd3786"
            ],
            [
             0.5555555555555556,
             "#d8576b"
            ],
            [
             0.6666666666666666,
             "#ed7953"
            ],
            [
             0.7777777777777778,
             "#fb9f3a"
            ],
            [
             0.8888888888888888,
             "#fdca26"
            ],
            [
             1,
             "#f0f921"
            ]
           ]
          },
          "colorway": [
           "#636efa",
           "#EF553B",
           "#00cc96",
           "#ab63fa",
           "#FFA15A",
           "#19d3f3",
           "#FF6692",
           "#B6E880",
           "#FF97FF",
           "#FECB52"
          ],
          "font": {
           "color": "#2a3f5f"
          },
          "geo": {
           "bgcolor": "white",
           "lakecolor": "white",
           "landcolor": "#E5ECF6",
           "showlakes": true,
           "showland": true,
           "subunitcolor": "white"
          },
          "hoverlabel": {
           "align": "left"
          },
          "hovermode": "closest",
          "mapbox": {
           "style": "light"
          },
          "paper_bgcolor": "white",
          "plot_bgcolor": "#E5ECF6",
          "polar": {
           "angularaxis": {
            "gridcolor": "white",
            "linecolor": "white",
            "ticks": ""
           },
           "bgcolor": "#E5ECF6",
           "radialaxis": {
            "gridcolor": "white",
            "linecolor": "white",
            "ticks": ""
           }
          },
          "scene": {
           "xaxis": {
            "backgroundcolor": "#E5ECF6",
            "gridcolor": "white",
            "gridwidth": 2,
            "linecolor": "white",
            "showbackground": true,
            "ticks": "",
            "zerolinecolor": "white"
           },
           "yaxis": {
            "backgroundcolor": "#E5ECF6",
            "gridcolor": "white",
            "gridwidth": 2,
            "linecolor": "white",
            "showbackground": true,
            "ticks": "",
            "zerolinecolor": "white"
           },
           "zaxis": {
            "backgroundcolor": "#E5ECF6",
            "gridcolor": "white",
            "gridwidth": 2,
            "linecolor": "white",
            "showbackground": true,
            "ticks": "",
            "zerolinecolor": "white"
           }
          },
          "shapedefaults": {
           "line": {
            "color": "#2a3f5f"
           }
          },
          "ternary": {
           "aaxis": {
            "gridcolor": "white",
            "linecolor": "white",
            "ticks": ""
           },
           "baxis": {
            "gridcolor": "white",
            "linecolor": "white",
            "ticks": ""
           },
           "bgcolor": "#E5ECF6",
           "caxis": {
            "gridcolor": "white",
            "linecolor": "white",
            "ticks": ""
           }
          },
          "title": {
           "x": 0.05
          },
          "xaxis": {
           "automargin": true,
           "gridcolor": "white",
           "linecolor": "white",
           "ticks": "",
           "title": {
            "standoff": 15
           },
           "zerolinecolor": "white",
           "zerolinewidth": 2
          },
          "yaxis": {
           "automargin": true,
           "gridcolor": "white",
           "linecolor": "white",
           "ticks": "",
           "title": {
            "standoff": 15
           },
           "zerolinecolor": "white",
           "zerolinewidth": 2
          }
         }
        },
        "title": {
         "text": "Plot Title",
         "x": 0,
         "xanchor": "left",
         "xref": "paper",
         "y": 0.87,
         "yanchor": "top"
        },
        "xaxis": {
         "anchor": "y",
         "domain": [
          0,
          1
         ],
         "dtick": 1,
         "linecolor": "black",
         "linewidth": 1,
         "range": [
          2005.5,
          2021.5
         ],
         "showline": true,
         "tickcolor": "black",
         "tickfont": {
          "family": "Arial",
          "size": 14
         },
         "ticklen": 8,
         "ticks": "outside",
         "tickwidth": 1,
         "title": {
          "text": "Jahre"
         }
        },
        "yaxis": {
         "anchor": "x",
         "domain": [
          0,
          1
         ],
         "linecolor": "black",
         "linewidth": 1,
         "range": [
          0,
          3263457453.6
         ],
         "showgrid": false,
         "showline": true,
         "tickcolor": "black",
         "ticklabelposition": "outside",
         "ticklen": 8,
         "ticks": "outside",
         "tickwidth": 1,
         "title": {
          "font": {
           "color": "black",
           "family": "Arial"
          },
          "text": ""
         }
        }
       }
      }
     },
     "metadata": {},
     "output_type": "display_data"
    }
   ],
   "source": [
    "\n",
    "df_fig1 = pd.DataFrame(df.groupby(by=['year'])['records lost'].sum().reset_index())\n",
    "# print(df_fig1.head())\n",
    "fig = px.line(df_fig1, x=\"year\", y=\"records lost\", \n",
    "                        labels={\n",
    "                        \"year\": \"Jahre\",\n",
    "                        \"records lost\": \"\",\n",
    "\n",
    "                        },\n",
    "                        \n",
    "\n",
    "                        title='Testtitle', markers=True)\n",
    "\n",
    "fig.update_xaxes(showgrid=False, title_font_family=\"Arial\", title_font_color=\"black\", col =10)\n",
    "fig.update_yaxes(showgrid=False, title_font_family=\"Arial\", title_font_color=\"black\")\n",
    "fig.update_layout(\n",
    "    title={\n",
    "        'text': \"Plot Title\",\n",
    "        'y':0.87,\n",
    "        'x':0.0,\n",
    "        'xref': \"paper\",\n",
    "        'xanchor': 'left',\n",
    "        'yanchor': 'top'},\n",
    "    plot_bgcolor = \"rgba(0,0,0,0)\",\n",
    "    paper_bgcolor = \"rgba(255,255,255,1)\",\n",
    " \n",
    "    xaxis= dict(\n",
    "        range=[df['year'].max() - 15 - 0.5, df['year'].max() + 0.5],\n",
    "        dtick= 1,\n",
    "        ticks = \"outside\",\n",
    "        tickwidth = 1,\n",
    "        tickcolor = \"black\",\n",
    "        ticklen = 8,\n",
    "        tickfont = dict(family = 'Arial', size = 14),\n",
    "        showline = True,\n",
    "        linewidth = 1,\n",
    "        linecolor = 'black',\n",
    "        \n",
    "        \n",
    "\n",
    "        \n",
    "        ),\n",
    "    yaxis = dict(\n",
    "        range=[0, df_fig1['records lost'].max()*1.2],\n",
    "        ticks = \"outside\",\n",
    "        tickwidth = 1,\n",
    "        tickcolor = \"black\",\n",
    "        ticklen = 8,\n",
    "        ticklabelposition=\"outside\",\n",
    "        showline = True,\n",
    "        linewidth = 1,\n",
    "        linecolor = 'black',\n",
    "        \n",
    "        ),\n",
    "    )\n",
    "\n",
    "fig.update_traces(\n",
    "    marker = dict(\n",
    "        color = 'LightSkyBlue',\n",
    "        size = 10,\n",
    "        opacity = 0.8,\n",
    "    ),\n",
    "    line = dict(\n",
    "        color = 'LightSkyBlue',\n",
    "        width = 2\n",
    "    ),\n",
    ")\n",
    "\n",
    "fig.add_annotation(x=0,y=1.1,\n",
    "\n",
    "                   text=\"entstandener Schaden (in US$)\", #textangle=-90,\n",
    "                    xref=\"paper\",\n",
    "                    valign=\"top\",\n",
    "    yref=\"y domain\", showarrow=False)\n",
    "\n",
    "\n",
    "\n",
    "fig2 = px.scatter(df_fig1.iloc[[8]], x=\"year\", y=\"records lost\")\n",
    "\n",
    "\n",
    "fig2.update_traces(\n",
    "    marker = dict(\n",
    "        color = 'pink',\n",
    "        size = 15,\n",
    "        opacity = 0.5,\n",
    "        \n",
    "\n",
    "    ),\n",
    ")\n",
    "\n",
    "fig.add_trace(fig2.data[0])\n",
    "\n",
    "\n",
    "print(df_fig1.iloc[[8]])    \n",
    "\n",
    "\n",
    "\n",
    "        \n",
    "fig.show()\n",
    "\n",
    "\n"
   ]
  },
  {
   "cell_type": "code",
   "execution_count": 10,
   "metadata": {},
   "outputs": [
    {
     "data": {
      "application/vnd.plotly.v1+json": {
       "config": {
        "plotlyServerURL": "https://plot.ly"
       },
       "data": [
        {
         "hovertemplate": "<b>%{hovertext}</b><br><br>organisation=%{text}<br>Monat Jahr=%{x}<br>entstandener Schaden (in US$)=%{marker.size}<extra></extra>",
         "hovertext": [
          "Twitch"
         ],
         "legendgroup": "Twitch",
         "marker": {
          "color": "#636efa",
          "size": [
           10000000
          ],
          "sizemode": "area",
          "sizeref": 70000,
          "symbol": "circle"
         },
         "mode": "markers",
         "name": "Twitch",
         "orientation": "v",
         "showlegend": true,
         "text": [
          "Twitch"
         ],
         "textposition": "top center",
         "type": "scatter",
         "x": [
          "2021-10-01T00:00:00"
         ],
         "xaxis": "x",
         "y": [
          10000000
         ],
         "yaxis": "y"
        },
        {
         "hovertemplate": "<b>%{hovertext}</b><br><br>organisation=%{text}<br>Monat Jahr=%{x}<br>entstandener Schaden (in US$)=%{marker.size}<extra></extra>",
         "hovertext": [
          "Syniverse"
         ],
         "legendgroup": "Syniverse",
         "marker": {
          "color": "#EF553B",
          "size": [
           500000000
          ],
          "sizemode": "area",
          "sizeref": 70000,
          "symbol": "circle"
         },
         "mode": "markers",
         "name": "Syniverse",
         "orientation": "v",
         "showlegend": true,
         "text": [
          "Syniverse"
         ],
         "textposition": "top center",
         "type": "scatter",
         "x": [
          "2021-09-01T00:00:00"
         ],
         "xaxis": "x",
         "y": [
          500000000
         ],
         "yaxis": "y"
        },
        {
         "hovertemplate": "<b>%{hovertext}</b><br><br>organisation=%{text}<br>Monat Jahr=%{x}<br>entstandener Schaden (in US$)=%{marker.size}<extra></extra>",
         "hovertext": [
          "Pandora Papers"
         ],
         "legendgroup": "Pandora Papers",
         "marker": {
          "color": "#00cc96",
          "size": [
           11900000
          ],
          "sizemode": "area",
          "sizeref": 70000,
          "symbol": "circle"
         },
         "mode": "markers",
         "name": "Pandora Papers",
         "orientation": "v",
         "showlegend": true,
         "text": [
          "Pandora Papers"
         ],
         "textposition": "top center",
         "type": "scatter",
         "x": [
          "2021-10-01T00:00:00"
         ],
         "xaxis": "x",
         "y": [
          11900000
         ],
         "yaxis": "y"
        },
        {
         "hovertemplate": "<b>%{hovertext}</b><br><br>organisation=%{text}<br>Monat Jahr=%{x}<br>entstandener Schaden (in US$)=%{marker.size}<extra></extra>",
         "hovertext": [
          "Neiman Marcus"
         ],
         "legendgroup": "Neiman Marcus",
         "marker": {
          "color": "#ab63fa",
          "size": [
           4600000
          ],
          "sizemode": "area",
          "sizeref": 70000,
          "symbol": "circle"
         },
         "mode": "markers",
         "name": "Neiman Marcus",
         "orientation": "v",
         "showlegend": true,
         "text": [
          "Neiman Marcus"
         ],
         "textposition": "top center",
         "type": "scatter",
         "x": [
          "2021-09-01T00:00:00"
         ],
         "xaxis": "x",
         "y": [
          4600000
         ],
         "yaxis": "y"
        },
        {
         "hovertemplate": "<b>%{hovertext}</b><br><br>organisation=%{text}<br>Monat Jahr=%{x}<br>entstandener Schaden (in US$)=%{marker.size}<extra></extra>",
         "hovertext": [
          "Epik"
         ],
         "legendgroup": "Epik",
         "marker": {
          "color": "#FFA15A",
          "size": [
           15000000
          ],
          "sizemode": "area",
          "sizeref": 70000,
          "symbol": "circle"
         },
         "mode": "markers",
         "name": "Epik",
         "orientation": "v",
         "showlegend": true,
         "text": [
          "Epik"
         ],
         "textposition": "top center",
         "type": "scatter",
         "x": [
          "2021-09-01T00:00:00"
         ],
         "xaxis": "x",
         "y": [
          15000000
         ],
         "yaxis": "y"
        },
        {
         "hovertemplate": "<b>%{hovertext}</b><br><br>organisation=%{text}<br>Monat Jahr=%{x}<br>entstandener Schaden (in US$)=%{marker.size}<extra></extra>",
         "hovertext": [
          "Thailand visitors"
         ],
         "legendgroup": "Thailand visitors",
         "marker": {
          "color": "#19d3f3",
          "size": [
           100000000
          ],
          "sizemode": "area",
          "sizeref": 70000,
          "symbol": "circle"
         },
         "mode": "markers",
         "name": "Thailand visitors",
         "orientation": "v",
         "showlegend": true,
         "text": [
          "Thailand visitors"
         ],
         "textposition": "top center",
         "type": "scatter",
         "x": [
          "2021-09-01T00:00:00"
         ],
         "xaxis": "x",
         "y": [
          100000000
         ],
         "yaxis": "y"
        },
        {
         "hovertemplate": "<b>%{hovertext}</b><br><br>organisation=%{text}<br>Monat Jahr=%{x}<br>entstandener Schaden (in US$)=%{marker.size}<extra></extra>",
         "hovertext": [
          "T-Mobile "
         ],
         "legendgroup": "T-Mobile ",
         "marker": {
          "color": "#FF6692",
          "size": [
           40000000
          ],
          "sizemode": "area",
          "sizeref": 70000,
          "symbol": "circle"
         },
         "mode": "markers",
         "name": "T-Mobile ",
         "orientation": "v",
         "showlegend": true,
         "text": [
          "T-Mobile "
         ],
         "textposition": "top center",
         "type": "scatter",
         "x": [
          "2021-08-01T00:00:00"
         ],
         "xaxis": "x",
         "y": [
          40000000
         ],
         "yaxis": "y"
        },
        {
         "hovertemplate": "<b>%{hovertext}</b><br><br>organisation=%{text}<br>Monat Jahr=%{x}<br>entstandener Schaden (in US$)=%{marker.size}<extra></extra>",
         "hovertext": [
          "Contact tracing data"
         ],
         "legendgroup": "Contact tracing data",
         "marker": {
          "color": "#B6E880",
          "size": [
           38000000
          ],
          "sizemode": "area",
          "sizeref": 70000,
          "symbol": "circle"
         },
         "mode": "markers",
         "name": "Contact tracing data",
         "orientation": "v",
         "showlegend": true,
         "text": [
          "Contact tracing data"
         ],
         "textposition": "top center",
         "type": "scatter",
         "x": [
          "2021-08-01T00:00:00"
         ],
         "xaxis": "x",
         "y": [
          38000000
         ],
         "yaxis": "y"
        },
        {
         "hovertemplate": "<b>%{hovertext}</b><br><br>organisation=%{text}<br>Monat Jahr=%{x}<br>entstandener Schaden (in US$)=%{marker.size}<extra></extra>",
         "hovertext": [
          "Estonian gov"
         ],
         "legendgroup": "Estonian gov",
         "marker": {
          "color": "#FF97FF",
          "size": [
           280000
          ],
          "sizemode": "area",
          "sizeref": 70000,
          "symbol": "circle"
         },
         "mode": "markers",
         "name": "Estonian gov",
         "orientation": "v",
         "showlegend": true,
         "text": [
          "Estonian gov"
         ],
         "textposition": "top center",
         "type": "scatter",
         "x": [
          "2021-07-01T00:00:00"
         ],
         "xaxis": "x",
         "y": [
          280000
         ],
         "yaxis": "y"
        },
        {
         "hovertemplate": "<b>%{hovertext}</b><br><br>organisation=%{text}<br>Monat Jahr=%{x}<br>entstandener Schaden (in US$)=%{marker.size}<extra></extra>",
         "hovertext": [
          "Guntrader"
         ],
         "legendgroup": "Guntrader",
         "marker": {
          "color": "#FECB52",
          "size": [
           111000
          ],
          "sizemode": "area",
          "sizeref": 70000,
          "symbol": "circle"
         },
         "mode": "markers",
         "name": "Guntrader",
         "orientation": "v",
         "showlegend": true,
         "text": [
          "Guntrader"
         ],
         "textposition": "top center",
         "type": "scatter",
         "x": [
          "2021-07-01T00:00:00"
         ],
         "xaxis": "x",
         "y": [
          111000
         ],
         "yaxis": "y"
        },
        {
         "hovertemplate": "<b>%{hovertext}</b><br><br>organisation=%{text}<br>Monat Jahr=%{x}<br>entstandener Schaden (in US$)=%{marker.size}<extra></extra>",
         "hovertext": [
          "Linkedin"
         ],
         "legendgroup": "Linkedin",
         "marker": {
          "color": "#636efa",
          "size": [
           700000000
          ],
          "sizemode": "area",
          "sizeref": 70000,
          "symbol": "circle"
         },
         "mode": "markers",
         "name": "Linkedin",
         "orientation": "v",
         "showlegend": true,
         "text": [
          "Linkedin"
         ],
         "textposition": "top center",
         "type": "scatter",
         "x": [
          "2021-07-01T00:00:00"
         ],
         "xaxis": "x",
         "y": [
          700000000
         ],
         "yaxis": "y"
        },
        {
         "hovertemplate": "<b>%{hovertext}</b><br><br>organisation=%{text}<br>Monat Jahr=%{x}<br>entstandener Schaden (in US$)=%{marker.size}<extra></extra>",
         "hovertext": [
          "VW"
         ],
         "legendgroup": "VW",
         "marker": {
          "color": "#EF553B",
          "size": [
           3300000
          ],
          "sizemode": "area",
          "sizeref": 70000,
          "symbol": "circle"
         },
         "mode": "markers",
         "name": "VW",
         "orientation": "v",
         "showlegend": true,
         "text": [
          "VW"
         ],
         "textposition": "top center",
         "type": "scatter",
         "x": [
          "2021-06-01T00:00:00"
         ],
         "xaxis": "x",
         "y": [
          3300000
         ],
         "yaxis": "y"
        },
        {
         "hovertemplate": "<b>%{hovertext}</b><br><br>organisation=%{text}<br>Monat Jahr=%{x}<br>entstandener Schaden (in US$)=%{marker.size}<extra></extra>",
         "hovertext": [
          "MacDonalds"
         ],
         "legendgroup": "MacDonalds",
         "marker": {
          "color": "#00cc96",
          "size": [
           10000000
          ],
          "sizemode": "area",
          "sizeref": 70000,
          "symbol": "circle"
         },
         "mode": "markers",
         "name": "MacDonalds",
         "orientation": "v",
         "showlegend": true,
         "text": [
          "MacDonalds"
         ],
         "textposition": "top center",
         "type": "scatter",
         "x": [
          "2021-06-01T00:00:00"
         ],
         "xaxis": "x",
         "y": [
          10000000
         ],
         "yaxis": "y"
        },
        {
         "hovertemplate": "<b>%{hovertext}</b><br><br>organisation=%{text}<br>Monat Jahr=%{x}<br>entstandener Schaden (in US$)=%{marker.size}<extra></extra>",
         "hovertext": [
          "Air India"
         ],
         "legendgroup": "Air India",
         "marker": {
          "color": "#ab63fa",
          "size": [
           4500000
          ],
          "sizemode": "area",
          "sizeref": 70000,
          "symbol": "circle"
         },
         "mode": "markers",
         "name": "Air India",
         "orientation": "v",
         "showlegend": true,
         "text": [
          "Air India"
         ],
         "textposition": "top center",
         "type": "scatter",
         "x": [
          "2021-05-01T00:00:00"
         ],
         "xaxis": "x",
         "y": [
          4500000
         ],
         "yaxis": "y"
        },
        {
         "hovertemplate": "<b>%{hovertext}</b><br><br>organisation=%{text}<br>Monat Jahr=%{x}<br>entstandener Schaden (in US$)=%{marker.size}<extra></extra>",
         "hovertext": [
          "Omiai dating app"
         ],
         "legendgroup": "Omiai dating app",
         "marker": {
          "color": "#FFA15A",
          "size": [
           1710000
          ],
          "sizemode": "area",
          "sizeref": 70000,
          "symbol": "circle"
         },
         "mode": "markers",
         "name": "Omiai dating app",
         "orientation": "v",
         "showlegend": true,
         "text": [
          "Omiai dating app"
         ],
         "textposition": "top center",
         "type": "scatter",
         "x": [
          "2021-05-01T00:00:00"
         ],
         "xaxis": "x",
         "y": [
          1710000
         ],
         "yaxis": "y"
        },
        {
         "hovertemplate": "<b>%{hovertext}</b><br><br>organisation=%{text}<br>Monat Jahr=%{x}<br>entstandener Schaden (in US$)=%{marker.size}<extra></extra>",
         "hovertext": [
          "Amazon Reviews"
         ],
         "legendgroup": "Amazon Reviews",
         "marker": {
          "color": "#19d3f3",
          "size": [
           13124962
          ],
          "sizemode": "area",
          "sizeref": 70000,
          "symbol": "circle"
         },
         "mode": "markers",
         "name": "Amazon Reviews",
         "orientation": "v",
         "showlegend": true,
         "text": [
          "Amazon Reviews"
         ],
         "textposition": "top center",
         "type": "scatter",
         "x": [
          "2021-05-01T00:00:00"
         ],
         "xaxis": "x",
         "y": [
          13124962
         ],
         "yaxis": "y"
        },
        {
         "hovertemplate": "<b>%{hovertext}</b><br><br>organisation=%{text}<br>Monat Jahr=%{x}<br>entstandener Schaden (in US$)=%{marker.size}<extra></extra>",
         "hovertext": [
          "Peloton"
         ],
         "legendgroup": "Peloton",
         "marker": {
          "color": "#FF6692",
          "size": [
           3000000
          ],
          "sizemode": "area",
          "sizeref": 70000,
          "symbol": "circle"
         },
         "mode": "markers",
         "name": "Peloton",
         "orientation": "v",
         "showlegend": true,
         "text": [
          "Peloton"
         ],
         "textposition": "top center",
         "type": "scatter",
         "x": [
          "2021-05-01T00:00:00"
         ],
         "xaxis": "x",
         "y": [
          3000000
         ],
         "yaxis": "y"
        },
        {
         "hovertemplate": "<b>%{hovertext}</b><br><br>organisation=%{text}<br>Monat Jahr=%{x}<br>entstandener Schaden (in US$)=%{marker.size}<extra></extra>",
         "hovertext": [
          "Digital Ocean"
         ],
         "legendgroup": "Digital Ocean",
         "marker": {
          "color": "#B6E880",
          "size": [
           10000000
          ],
          "sizemode": "area",
          "sizeref": 70000,
          "symbol": "circle"
         },
         "mode": "markers",
         "name": "Digital Ocean",
         "orientation": "v",
         "showlegend": true,
         "text": [
          "Digital Ocean"
         ],
         "textposition": "top center",
         "type": "scatter",
         "x": [
          "2021-04-01T00:00:00"
         ],
         "xaxis": "x",
         "y": [
          10000000
         ],
         "yaxis": "y"
        },
        {
         "hovertemplate": "<b>%{hovertext}</b><br><br>organisation=%{text}<br>Monat Jahr=%{x}<br>entstandener Schaden (in US$)=%{marker.size}<extra></extra>",
         "hovertext": [
          "Park Mobile"
         ],
         "legendgroup": "Park Mobile",
         "marker": {
          "color": "#FF97FF",
          "size": [
           21000000
          ],
          "sizemode": "area",
          "sizeref": 70000,
          "symbol": "circle"
         },
         "mode": "markers",
         "name": "Park Mobile",
         "orientation": "v",
         "showlegend": true,
         "text": [
          "Park Mobile"
         ],
         "textposition": "top center",
         "type": "scatter",
         "x": [
          "2021-04-01T00:00:00"
         ],
         "xaxis": "x",
         "y": [
          21000000
         ],
         "yaxis": "y"
        },
        {
         "hovertemplate": "<b>%{hovertext}</b><br><br>organisation=%{text}<br>Monat Jahr=%{x}<br>entstandener Schaden (in US$)=%{marker.size}<extra></extra>",
         "hovertext": [
          "Ubiquiti"
         ],
         "legendgroup": "Ubiquiti",
         "marker": {
          "color": "#FECB52",
          "size": [
           16000000
          ],
          "sizemode": "area",
          "sizeref": 70000,
          "symbol": "circle"
         },
         "mode": "markers",
         "name": "Ubiquiti",
         "orientation": "v",
         "showlegend": true,
         "text": [
          "Ubiquiti"
         ],
         "textposition": "top center",
         "type": "scatter",
         "x": [
          "2021-02-01T00:00:00"
         ],
         "xaxis": "x",
         "y": [
          16000000
         ],
         "yaxis": "y"
        },
        {
         "hovertemplate": "<b>%{hovertext}</b><br><br>organisation=%{text}<br>Monat Jahr=%{x}<br>entstandener Schaden (in US$)=%{marker.size}<extra></extra>",
         "hovertext": [
          "Meet Mindful"
         ],
         "legendgroup": "Meet Mindful",
         "marker": {
          "color": "#636efa",
          "size": [
           2240000
          ],
          "sizemode": "area",
          "sizeref": 70000,
          "symbol": "circle"
         },
         "mode": "markers",
         "name": "Meet Mindful",
         "orientation": "v",
         "showlegend": true,
         "text": [
          "Meet Mindful"
         ],
         "textposition": "top center",
         "type": "scatter",
         "x": [
          "2021-02-01T00:00:00"
         ],
         "xaxis": "x",
         "y": [
          2240000
         ],
         "yaxis": "y"
        },
        {
         "hovertemplate": "<b>%{hovertext}</b><br><br>organisation=%{text}<br>Monat Jahr=%{x}<br>entstandener Schaden (in US$)=%{marker.size}<extra></extra>",
         "hovertext": [
          "Experian Brazil"
         ],
         "legendgroup": "Experian Brazil",
         "marker": {
          "color": "#EF553B",
          "size": [
           220000000
          ],
          "sizemode": "area",
          "sizeref": 70000,
          "symbol": "circle"
         },
         "mode": "markers",
         "name": "Experian Brazil",
         "orientation": "v",
         "showlegend": true,
         "text": [
          "Experian Brazil"
         ],
         "textposition": "top center",
         "type": "scatter",
         "x": [
          "2021-02-01T00:00:00"
         ],
         "xaxis": "x",
         "y": [
          220000000
         ],
         "yaxis": "y"
        },
        {
         "hovertemplate": "<b>%{hovertext}</b><br><br>organisation=%{text}<br>Monat Jahr=%{x}<br>entstandener Schaden (in US$)=%{marker.size}<extra></extra>",
         "hovertext": [
          "Gab"
         ],
         "legendgroup": "Gab",
         "marker": {
          "color": "#00cc96",
          "size": [
           4000000
          ],
          "sizemode": "area",
          "sizeref": 70000,
          "symbol": "circle"
         },
         "mode": "markers",
         "name": "Gab",
         "orientation": "v",
         "showlegend": true,
         "text": [
          "Gab"
         ],
         "textposition": "top center",
         "type": "scatter",
         "x": [
          "2021-03-01T00:00:00"
         ],
         "xaxis": "x",
         "y": [
          4000000
         ],
         "yaxis": "y"
        },
        {
         "hovertemplate": "<b>%{hovertext}</b><br><br>organisation=%{text}<br>Monat Jahr=%{x}<br>entstandener Schaden (in US$)=%{marker.size}<extra></extra>",
         "hovertext": [
          "Star Alliance"
         ],
         "legendgroup": "Star Alliance",
         "marker": {
          "color": "#ab63fa",
          "size": [
           16000000
          ],
          "sizemode": "area",
          "sizeref": 70000,
          "symbol": "circle"
         },
         "mode": "markers",
         "name": "Star Alliance",
         "orientation": "v",
         "showlegend": true,
         "text": [
          "Star Alliance"
         ],
         "textposition": "top center",
         "type": "scatter",
         "x": [
          "2021-03-01T00:00:00"
         ],
         "xaxis": "x",
         "y": [
          16000000
         ],
         "yaxis": "y"
        },
        {
         "hovertemplate": "<b>%{hovertext}</b><br><br>organisation=%{text}<br>Monat Jahr=%{x}<br>entstandener Schaden (in US$)=%{marker.size}<extra></extra>",
         "hovertext": [
          "Facebook"
         ],
         "legendgroup": "Facebook",
         "marker": {
          "color": "#FFA15A",
          "size": [
           533000000
          ],
          "sizemode": "area",
          "sizeref": 70000,
          "symbol": "circle"
         },
         "mode": "markers",
         "name": "Facebook",
         "orientation": "v",
         "showlegend": true,
         "text": [
          "Facebook"
         ],
         "textposition": "top center",
         "type": "scatter",
         "x": [
          "2021-03-01T00:00:00"
         ],
         "xaxis": "x",
         "y": [
          533000000
         ],
         "yaxis": "y"
        }
       ],
       "layout": {
        "legend": {
         "itemsizing": "constant",
         "title": {
          "text": "organisation"
         },
         "tracegroupgap": 0
        },
        "paper_bgcolor": "rgba(255,255,255,1)",
        "plot_bgcolor": "rgba(0,0,0,0)",
        "template": {
         "data": {
          "bar": [
           {
            "error_x": {
             "color": "#2a3f5f"
            },
            "error_y": {
             "color": "#2a3f5f"
            },
            "marker": {
             "line": {
              "color": "#E5ECF6",
              "width": 0.5
             },
             "pattern": {
              "fillmode": "overlay",
              "size": 10,
              "solidity": 0.2
             }
            },
            "type": "bar"
           }
          ],
          "barpolar": [
           {
            "marker": {
             "line": {
              "color": "#E5ECF6",
              "width": 0.5
             },
             "pattern": {
              "fillmode": "overlay",
              "size": 10,
              "solidity": 0.2
             }
            },
            "type": "barpolar"
           }
          ],
          "carpet": [
           {
            "aaxis": {
             "endlinecolor": "#2a3f5f",
             "gridcolor": "white",
             "linecolor": "white",
             "minorgridcolor": "white",
             "startlinecolor": "#2a3f5f"
            },
            "baxis": {
             "endlinecolor": "#2a3f5f",
             "gridcolor": "white",
             "linecolor": "white",
             "minorgridcolor": "white",
             "startlinecolor": "#2a3f5f"
            },
            "type": "carpet"
           }
          ],
          "choropleth": [
           {
            "colorbar": {
             "outlinewidth": 0,
             "ticks": ""
            },
            "type": "choropleth"
           }
          ],
          "contour": [
           {
            "colorbar": {
             "outlinewidth": 0,
             "ticks": ""
            },
            "colorscale": [
             [
              0,
              "#0d0887"
             ],
             [
              0.1111111111111111,
              "#46039f"
             ],
             [
              0.2222222222222222,
              "#7201a8"
             ],
             [
              0.3333333333333333,
              "#9c179e"
             ],
             [
              0.4444444444444444,
              "#bd3786"
             ],
             [
              0.5555555555555556,
              "#d8576b"
             ],
             [
              0.6666666666666666,
              "#ed7953"
             ],
             [
              0.7777777777777778,
              "#fb9f3a"
             ],
             [
              0.8888888888888888,
              "#fdca26"
             ],
             [
              1,
              "#f0f921"
             ]
            ],
            "type": "contour"
           }
          ],
          "contourcarpet": [
           {
            "colorbar": {
             "outlinewidth": 0,
             "ticks": ""
            },
            "type": "contourcarpet"
           }
          ],
          "heatmap": [
           {
            "colorbar": {
             "outlinewidth": 0,
             "ticks": ""
            },
            "colorscale": [
             [
              0,
              "#0d0887"
             ],
             [
              0.1111111111111111,
              "#46039f"
             ],
             [
              0.2222222222222222,
              "#7201a8"
             ],
             [
              0.3333333333333333,
              "#9c179e"
             ],
             [
              0.4444444444444444,
              "#bd3786"
             ],
             [
              0.5555555555555556,
              "#d8576b"
             ],
             [
              0.6666666666666666,
              "#ed7953"
             ],
             [
              0.7777777777777778,
              "#fb9f3a"
             ],
             [
              0.8888888888888888,
              "#fdca26"
             ],
             [
              1,
              "#f0f921"
             ]
            ],
            "type": "heatmap"
           }
          ],
          "heatmapgl": [
           {
            "colorbar": {
             "outlinewidth": 0,
             "ticks": ""
            },
            "colorscale": [
             [
              0,
              "#0d0887"
             ],
             [
              0.1111111111111111,
              "#46039f"
             ],
             [
              0.2222222222222222,
              "#7201a8"
             ],
             [
              0.3333333333333333,
              "#9c179e"
             ],
             [
              0.4444444444444444,
              "#bd3786"
             ],
             [
              0.5555555555555556,
              "#d8576b"
             ],
             [
              0.6666666666666666,
              "#ed7953"
             ],
             [
              0.7777777777777778,
              "#fb9f3a"
             ],
             [
              0.8888888888888888,
              "#fdca26"
             ],
             [
              1,
              "#f0f921"
             ]
            ],
            "type": "heatmapgl"
           }
          ],
          "histogram": [
           {
            "marker": {
             "pattern": {
              "fillmode": "overlay",
              "size": 10,
              "solidity": 0.2
             }
            },
            "type": "histogram"
           }
          ],
          "histogram2d": [
           {
            "colorbar": {
             "outlinewidth": 0,
             "ticks": ""
            },
            "colorscale": [
             [
              0,
              "#0d0887"
             ],
             [
              0.1111111111111111,
              "#46039f"
             ],
             [
              0.2222222222222222,
              "#7201a8"
             ],
             [
              0.3333333333333333,
              "#9c179e"
             ],
             [
              0.4444444444444444,
              "#bd3786"
             ],
             [
              0.5555555555555556,
              "#d8576b"
             ],
             [
              0.6666666666666666,
              "#ed7953"
             ],
             [
              0.7777777777777778,
              "#fb9f3a"
             ],
             [
              0.8888888888888888,
              "#fdca26"
             ],
             [
              1,
              "#f0f921"
             ]
            ],
            "type": "histogram2d"
           }
          ],
          "histogram2dcontour": [
           {
            "colorbar": {
             "outlinewidth": 0,
             "ticks": ""
            },
            "colorscale": [
             [
              0,
              "#0d0887"
             ],
             [
              0.1111111111111111,
              "#46039f"
             ],
             [
              0.2222222222222222,
              "#7201a8"
             ],
             [
              0.3333333333333333,
              "#9c179e"
             ],
             [
              0.4444444444444444,
              "#bd3786"
             ],
             [
              0.5555555555555556,
              "#d8576b"
             ],
             [
              0.6666666666666666,
              "#ed7953"
             ],
             [
              0.7777777777777778,
              "#fb9f3a"
             ],
             [
              0.8888888888888888,
              "#fdca26"
             ],
             [
              1,
              "#f0f921"
             ]
            ],
            "type": "histogram2dcontour"
           }
          ],
          "mesh3d": [
           {
            "colorbar": {
             "outlinewidth": 0,
             "ticks": ""
            },
            "type": "mesh3d"
           }
          ],
          "parcoords": [
           {
            "line": {
             "colorbar": {
              "outlinewidth": 0,
              "ticks": ""
             }
            },
            "type": "parcoords"
           }
          ],
          "pie": [
           {
            "automargin": true,
            "type": "pie"
           }
          ],
          "scatter": [
           {
            "marker": {
             "colorbar": {
              "outlinewidth": 0,
              "ticks": ""
             }
            },
            "type": "scatter"
           }
          ],
          "scatter3d": [
           {
            "line": {
             "colorbar": {
              "outlinewidth": 0,
              "ticks": ""
             }
            },
            "marker": {
             "colorbar": {
              "outlinewidth": 0,
              "ticks": ""
             }
            },
            "type": "scatter3d"
           }
          ],
          "scattercarpet": [
           {
            "marker": {
             "colorbar": {
              "outlinewidth": 0,
              "ticks": ""
             }
            },
            "type": "scattercarpet"
           }
          ],
          "scattergeo": [
           {
            "marker": {
             "colorbar": {
              "outlinewidth": 0,
              "ticks": ""
             }
            },
            "type": "scattergeo"
           }
          ],
          "scattergl": [
           {
            "marker": {
             "colorbar": {
              "outlinewidth": 0,
              "ticks": ""
             }
            },
            "type": "scattergl"
           }
          ],
          "scattermapbox": [
           {
            "marker": {
             "colorbar": {
              "outlinewidth": 0,
              "ticks": ""
             }
            },
            "type": "scattermapbox"
           }
          ],
          "scatterpolar": [
           {
            "marker": {
             "colorbar": {
              "outlinewidth": 0,
              "ticks": ""
             }
            },
            "type": "scatterpolar"
           }
          ],
          "scatterpolargl": [
           {
            "marker": {
             "colorbar": {
              "outlinewidth": 0,
              "ticks": ""
             }
            },
            "type": "scatterpolargl"
           }
          ],
          "scatterternary": [
           {
            "marker": {
             "colorbar": {
              "outlinewidth": 0,
              "ticks": ""
             }
            },
            "type": "scatterternary"
           }
          ],
          "surface": [
           {
            "colorbar": {
             "outlinewidth": 0,
             "ticks": ""
            },
            "colorscale": [
             [
              0,
              "#0d0887"
             ],
             [
              0.1111111111111111,
              "#46039f"
             ],
             [
              0.2222222222222222,
              "#7201a8"
             ],
             [
              0.3333333333333333,
              "#9c179e"
             ],
             [
              0.4444444444444444,
              "#bd3786"
             ],
             [
              0.5555555555555556,
              "#d8576b"
             ],
             [
              0.6666666666666666,
              "#ed7953"
             ],
             [
              0.7777777777777778,
              "#fb9f3a"
             ],
             [
              0.8888888888888888,
              "#fdca26"
             ],
             [
              1,
              "#f0f921"
             ]
            ],
            "type": "surface"
           }
          ],
          "table": [
           {
            "cells": {
             "fill": {
              "color": "#EBF0F8"
             },
             "line": {
              "color": "white"
             }
            },
            "header": {
             "fill": {
              "color": "#C8D4E3"
             },
             "line": {
              "color": "white"
             }
            },
            "type": "table"
           }
          ]
         },
         "layout": {
          "annotationdefaults": {
           "arrowcolor": "#2a3f5f",
           "arrowhead": 0,
           "arrowwidth": 1
          },
          "autotypenumbers": "strict",
          "coloraxis": {
           "colorbar": {
            "outlinewidth": 0,
            "ticks": ""
           }
          },
          "colorscale": {
           "diverging": [
            [
             0,
             "#8e0152"
            ],
            [
             0.1,
             "#c51b7d"
            ],
            [
             0.2,
             "#de77ae"
            ],
            [
             0.3,
             "#f1b6da"
            ],
            [
             0.4,
             "#fde0ef"
            ],
            [
             0.5,
             "#f7f7f7"
            ],
            [
             0.6,
             "#e6f5d0"
            ],
            [
             0.7,
             "#b8e186"
            ],
            [
             0.8,
             "#7fbc41"
            ],
            [
             0.9,
             "#4d9221"
            ],
            [
             1,
             "#276419"
            ]
           ],
           "sequential": [
            [
             0,
             "#0d0887"
            ],
            [
             0.1111111111111111,
             "#46039f"
            ],
            [
             0.2222222222222222,
             "#7201a8"
            ],
            [
             0.3333333333333333,
             "#9c179e"
            ],
            [
             0.4444444444444444,
             "#bd3786"
            ],
            [
             0.5555555555555556,
             "#d8576b"
            ],
            [
             0.6666666666666666,
             "#ed7953"
            ],
            [
             0.7777777777777778,
             "#fb9f3a"
            ],
            [
             0.8888888888888888,
             "#fdca26"
            ],
            [
             1,
             "#f0f921"
            ]
           ],
           "sequentialminus": [
            [
             0,
             "#0d0887"
            ],
            [
             0.1111111111111111,
             "#46039f"
            ],
            [
             0.2222222222222222,
             "#7201a8"
            ],
            [
             0.3333333333333333,
             "#9c179e"
            ],
            [
             0.4444444444444444,
             "#bd3786"
            ],
            [
             0.5555555555555556,
             "#d8576b"
            ],
            [
             0.6666666666666666,
             "#ed7953"
            ],
            [
             0.7777777777777778,
             "#fb9f3a"
            ],
            [
             0.8888888888888888,
             "#fdca26"
            ],
            [
             1,
             "#f0f921"
            ]
           ]
          },
          "colorway": [
           "#636efa",
           "#EF553B",
           "#00cc96",
           "#ab63fa",
           "#FFA15A",
           "#19d3f3",
           "#FF6692",
           "#B6E880",
           "#FF97FF",
           "#FECB52"
          ],
          "font": {
           "color": "#2a3f5f"
          },
          "geo": {
           "bgcolor": "white",
           "lakecolor": "white",
           "landcolor": "#E5ECF6",
           "showlakes": true,
           "showland": true,
           "subunitcolor": "white"
          },
          "hoverlabel": {
           "align": "left"
          },
          "hovermode": "closest",
          "mapbox": {
           "style": "light"
          },
          "paper_bgcolor": "white",
          "plot_bgcolor": "#E5ECF6",
          "polar": {
           "angularaxis": {
            "gridcolor": "white",
            "linecolor": "white",
            "ticks": ""
           },
           "bgcolor": "#E5ECF6",
           "radialaxis": {
            "gridcolor": "white",
            "linecolor": "white",
            "ticks": ""
           }
          },
          "scene": {
           "xaxis": {
            "backgroundcolor": "#E5ECF6",
            "gridcolor": "white",
            "gridwidth": 2,
            "linecolor": "white",
            "showbackground": true,
            "ticks": "",
            "zerolinecolor": "white"
           },
           "yaxis": {
            "backgroundcolor": "#E5ECF6",
            "gridcolor": "white",
            "gridwidth": 2,
            "linecolor": "white",
            "showbackground": true,
            "ticks": "",
            "zerolinecolor": "white"
           },
           "zaxis": {
            "backgroundcolor": "#E5ECF6",
            "gridcolor": "white",
            "gridwidth": 2,
            "linecolor": "white",
            "showbackground": true,
            "ticks": "",
            "zerolinecolor": "white"
           }
          },
          "shapedefaults": {
           "line": {
            "color": "#2a3f5f"
           }
          },
          "ternary": {
           "aaxis": {
            "gridcolor": "white",
            "linecolor": "white",
            "ticks": ""
           },
           "baxis": {
            "gridcolor": "white",
            "linecolor": "white",
            "ticks": ""
           },
           "bgcolor": "#E5ECF6",
           "caxis": {
            "gridcolor": "white",
            "linecolor": "white",
            "ticks": ""
           }
          },
          "title": {
           "x": 0.05
          },
          "xaxis": {
           "automargin": true,
           "gridcolor": "white",
           "linecolor": "white",
           "ticks": "",
           "title": {
            "standoff": 15
           },
           "zerolinecolor": "white",
           "zerolinewidth": 2
          },
          "yaxis": {
           "automargin": true,
           "gridcolor": "white",
           "linecolor": "white",
           "ticks": "",
           "title": {
            "standoff": 15
           },
           "zerolinecolor": "white",
           "zerolinewidth": 2
          }
         }
        },
        "title": {
         "text": "Plot Title",
         "x": 0,
         "xanchor": "left",
         "xref": "paper",
         "y": 0.87,
         "yanchor": "top"
        },
        "xaxis": {
         "anchor": "y",
         "domain": [
          0,
          1
         ],
         "linecolor": "black",
         "linewidth": 1,
         "showgrid": false,
         "showline": true,
         "tickcolor": "black",
         "tickfont": {
          "family": "Arial",
          "size": 14
         },
         "ticklen": 8,
         "ticks": "outside",
         "tickwidth": 1,
         "title": {
          "text": "Monat Jahr"
         }
        },
        "yaxis": {
         "anchor": "x",
         "domain": [
          0,
          1
         ],
         "linecolor": "black",
         "linewidth": 1,
         "range": [
          111000,
          1050000000
         ],
         "showgrid": false,
         "showline": true,
         "tick0": 699900000,
         "tickcolor": "black",
         "tickfont": {
          "family": "Arial",
          "size": 14
         },
         "tickformat": "%b\n%Y",
         "ticklabelmode": "period",
         "ticklen": 8,
         "ticks": "outside",
         "tickwidth": 1,
         "title": {
          "text": "entstandener Schaden (in US$)"
         }
        }
       }
      }
     },
     "metadata": {},
     "output_type": "display_data"
    },
    {
     "ename": "NameError",
     "evalue": "name 'date' is not defined",
     "output_type": "error",
     "traceback": [
      "\u001b[1;31m---------------------------------------------------------------------------\u001b[0m",
      "\u001b[1;31mNameError\u001b[0m                                 Traceback (most recent call last)",
      "\u001b[1;32m~\\AppData\\Local\\Temp/ipykernel_28324/1008645325.py\u001b[0m in \u001b[0;36m<module>\u001b[1;34m\u001b[0m\n\u001b[0;32m     78\u001b[0m \u001b[1;33m\u001b[0m\u001b[0m\n\u001b[0;32m     79\u001b[0m \u001b[0mfig2\u001b[0m\u001b[1;33m.\u001b[0m\u001b[0mshow\u001b[0m\u001b[1;33m(\u001b[0m\u001b[1;33m)\u001b[0m\u001b[1;33m\u001b[0m\u001b[1;33m\u001b[0m\u001b[0m\n\u001b[1;32m---> 80\u001b[1;33m \u001b[0mprint\u001b[0m\u001b[1;33m(\u001b[0m\u001b[0mdate\u001b[0m\u001b[1;33m)\u001b[0m\u001b[1;33m\u001b[0m\u001b[1;33m\u001b[0m\u001b[0m\n\u001b[0m\u001b[0;32m     81\u001b[0m \u001b[0mprint\u001b[0m\u001b[1;33m(\u001b[0m\u001b[0mactual_year\u001b[0m\u001b[1;33m)\u001b[0m\u001b[1;33m\u001b[0m\u001b[1;33m\u001b[0m\u001b[0m\n\u001b[0;32m     82\u001b[0m \u001b[0mprint\u001b[0m\u001b[1;33m(\u001b[0m\u001b[0mdf_fig2\u001b[0m\u001b[1;33m[\u001b[0m\u001b[1;34m'records lost'\u001b[0m\u001b[1;33m]\u001b[0m\u001b[1;33m.\u001b[0m\u001b[0mmin\u001b[0m\u001b[1;33m(\u001b[0m\u001b[1;33m)\u001b[0m\u001b[1;33m)\u001b[0m\u001b[1;33m\u001b[0m\u001b[1;33m\u001b[0m\u001b[0m\n",
      "\u001b[1;31mNameError\u001b[0m: name 'date' is not defined"
     ]
    }
   ],
   "source": [
    "#date = datetime.date.today()\n",
    "#actual_year = int(date.strftime(\"%Y\"))\n",
    "\n",
    "df_fig2 = pd.DataFrame(df[(df['year'] == 2021)])\n",
    "#print(df_fig2.head())\n",
    "\n",
    "\n",
    "\n",
    "\n",
    "fig2 = px.scatter(df_fig2, x=\"date\", y=\"records lost\", \n",
    "\t        size=\"records lost\", color=\"organisation\",\n",
    "                hover_name=\"organisation\", size_max=100, text=\"organisation\", \n",
    "                labels={\n",
    "                        \"date\": \"Monat Jahr\",\n",
    "                        \"records lost\": \"entstandener Schaden (in US$)\",\n",
    "                        },\n",
    "                        title='Testtitle')\n",
    "\n",
    "# fig.update_yaxes(showgrid=False, title_font_family=\"Arial\", title_font_color=\"black\", range=['100 K', '5 B'])\n",
    "\n",
    "\n",
    "fig2.update_layout(\n",
    "        title={\n",
    "        'text': \"Plot Title\",\n",
    "        'y':0.87,\n",
    "        'x':0.0,\n",
    "        'xref': \"paper\",\n",
    "        'xanchor': 'left',\n",
    "        'yanchor': 'top'},\n",
    "        plot_bgcolor = \"rgba(0,0,0,0)\",\n",
    "        paper_bgcolor = \"rgba(255,255,255,1)\",\n",
    "        #uniformtext_minsize = 12 ,\n",
    "        #uniformtext_mode = 'hide',\n",
    "        \n",
    "xaxis= dict(\n",
    "        #tickformat=\"%b\\n%Y\",\n",
    "        #ticklabelmode=\"period\"\n",
    "        # dtick= 500000,\n",
    "        ticks = \"outside\",\n",
    "        tickwidth = 1,\n",
    "        tickcolor = \"black\",\n",
    "        ticklen = 8,\n",
    "        tickfont = dict(family = 'Arial', size = 14),\n",
    "        showline = True,\n",
    "        linewidth = 1,\n",
    "        linecolor = 'black',\n",
    "        showgrid = False,\n",
    "        \n",
    "        \n",
    "\n",
    "        \n",
    "        ),\n",
    "yaxis = dict(\n",
    "        range=[df_fig2['records lost'].min(), df_fig2['records lost'].max()+(df_fig2['records lost'].max()/2)],\n",
    "        tickformat=\"%b\\n%Y\",\n",
    "        ticklabelmode=\"period\",\n",
    "        tick0 = df_fig2['records lost'].max()-100000,\n",
    "        #dtick= 1000000,\n",
    "        ticks = \"outside\",\n",
    "        tickwidth = 1,\n",
    "        tickcolor = \"black\",\n",
    "        ticklen = 8,\n",
    "        tickfont = dict(family = 'Arial', size = 14),\n",
    "        showline = True,\n",
    "        linewidth = 1,\n",
    "        linecolor = 'black',\n",
    "        #zeroline = True,\n",
    "        showgrid = False,\n",
    "        \n",
    ")\n",
    ")\n",
    "\n",
    "#fig.update_layout ( uniformtext_minsize = 4 ,  uniformtext_mode = 'hide' )\n",
    "fig2.update_traces ( mode = \"markers\" )\n",
    "fig2.update_traces(textposition='top center')\n",
    "\n",
    "\n",
    "\n",
    "fig2.show()\n",
    "print(date)\n",
    "print(actual_year)\n",
    "print(df_fig2['records lost'].min())\n",
    "print(df_fig2['records lost'].max())\n"
   ]
  },
  {
   "cell_type": "code",
   "execution_count": 20,
   "metadata": {},
   "outputs": [
    {
     "data": {
      "text/html": [
       "<div>\n",
       "<style scoped>\n",
       "    .dataframe tbody tr th:only-of-type {\n",
       "        vertical-align: middle;\n",
       "    }\n",
       "\n",
       "    .dataframe tbody tr th {\n",
       "        vertical-align: top;\n",
       "    }\n",
       "\n",
       "    .dataframe thead th {\n",
       "        text-align: right;\n",
       "    }\n",
       "</style>\n",
       "<table border=\"1\" class=\"dataframe\">\n",
       "  <thead>\n",
       "    <tr style=\"text-align: right;\">\n",
       "      <th></th>\n",
       "      <th>organisation</th>\n",
       "      <th>alternative name</th>\n",
       "      <th>records lost</th>\n",
       "      <th>year</th>\n",
       "      <th>date</th>\n",
       "      <th>story</th>\n",
       "      <th>sector</th>\n",
       "      <th>method</th>\n",
       "      <th>interesting story</th>\n",
       "      <th>data sensitivity</th>\n",
       "      <th>displayed records</th>\n",
       "      <th>Unnamed: 11</th>\n",
       "      <th>source name</th>\n",
       "      <th>1st source link</th>\n",
       "      <th>2nd source link</th>\n",
       "      <th>ID</th>\n",
       "      <th>organisation_name</th>\n",
       "    </tr>\n",
       "  </thead>\n",
       "  <tbody>\n",
       "    <tr>\n",
       "      <th>1</th>\n",
       "      <td>Twitch</td>\n",
       "      <td>NaN</td>\n",
       "      <td>10000000.0</td>\n",
       "      <td>2021</td>\n",
       "      <td>2021-10-01</td>\n",
       "      <td>Full source code breach of the streaming gamin...</td>\n",
       "      <td>gaming</td>\n",
       "      <td>hacked</td>\n",
       "      <td>y</td>\n",
       "      <td>4.0</td>\n",
       "      <td>unknown</td>\n",
       "      <td>NaN</td>\n",
       "      <td>BBC</td>\n",
       "      <td>https://www.bbc.co.uk/news/technology-58817658</td>\n",
       "      <td>NaN</td>\n",
       "      <td>395.0</td>\n",
       "      <td></td>\n",
       "    </tr>\n",
       "    <tr>\n",
       "      <th>11</th>\n",
       "      <td>Linkedin</td>\n",
       "      <td>NaN</td>\n",
       "      <td>700000000.0</td>\n",
       "      <td>2021</td>\n",
       "      <td>2021-07-01</td>\n",
       "      <td>The hacker appears to have misused the officia...</td>\n",
       "      <td>web</td>\n",
       "      <td>hacked</td>\n",
       "      <td>NaN</td>\n",
       "      <td>1.0</td>\n",
       "      <td>700000000.0</td>\n",
       "      <td>NaN</td>\n",
       "      <td>9 to 5 mac</td>\n",
       "      <td>https://9to5mac.com/2021/06/29/linkedin-breach/</td>\n",
       "      <td>NaN</td>\n",
       "      <td>385.0</td>\n",
       "      <td></td>\n",
       "    </tr>\n",
       "    <tr>\n",
       "      <th>21</th>\n",
       "      <td>Meet Mindful</td>\n",
       "      <td>NaN</td>\n",
       "      <td>2240000.0</td>\n",
       "      <td>2021</td>\n",
       "      <td>2021-02-01</td>\n",
       "      <td>Dating site user data includes real names, pho...</td>\n",
       "      <td>tech</td>\n",
       "      <td>hacked</td>\n",
       "      <td>NaN</td>\n",
       "      <td>4.0</td>\n",
       "      <td>NaN</td>\n",
       "      <td>NaN</td>\n",
       "      <td>ZDnet</td>\n",
       "      <td>https://www.zdnet.com/article/hacker-leaks-dat...</td>\n",
       "      <td>NaN</td>\n",
       "      <td>375.0</td>\n",
       "      <td></td>\n",
       "    </tr>\n",
       "  </tbody>\n",
       "</table>\n",
       "</div>"
      ],
      "text/plain": [
       "    organisation alternative name  records lost  year       date  \\\n",
       "1         Twitch              NaN    10000000.0  2021 2021-10-01   \n",
       "11      Linkedin              NaN   700000000.0  2021 2021-07-01   \n",
       "21  Meet Mindful              NaN     2240000.0  2021 2021-02-01   \n",
       "\n",
       "                                                story  sector  method  \\\n",
       "1   Full source code breach of the streaming gamin...  gaming  hacked   \n",
       "11  The hacker appears to have misused the officia...    web   hacked   \n",
       "21  Dating site user data includes real names, pho...    tech  hacked   \n",
       "\n",
       "   interesting story data sensitivity displayed records  Unnamed: 11  \\\n",
       "1                  y              4.0           unknown          NaN   \n",
       "11               NaN              1.0       700000000.0          NaN   \n",
       "21               NaN              4.0               NaN          NaN   \n",
       "\n",
       "   source name                                    1st source link  \\\n",
       "1          BBC     https://www.bbc.co.uk/news/technology-58817658   \n",
       "11  9 to 5 mac    https://9to5mac.com/2021/06/29/linkedin-breach/   \n",
       "21       ZDnet  https://www.zdnet.com/article/hacker-leaks-dat...   \n",
       "\n",
       "   2nd source link     ID organisation_name  \n",
       "1              NaN  395.0                    \n",
       "11             NaN  385.0                    \n",
       "21             NaN  375.0                    "
      ]
     },
     "execution_count": 20,
     "metadata": {},
     "output_type": "execute_result"
    }
   ],
   "source": [
    "df['organisation_name'] = np.where((df['year'] == 2015) & (df['records lost'] >= df['records lost'].max()*0.005), df['organisation'], '')\n",
    "df[:30:10]"
   ]
  },
  {
   "cell_type": "code",
   "execution_count": 15,
   "metadata": {},
   "outputs": [
    {
     "data": {
      "text/html": [
       "<div>\n",
       "<style scoped>\n",
       "    .dataframe tbody tr th:only-of-type {\n",
       "        vertical-align: middle;\n",
       "    }\n",
       "\n",
       "    .dataframe tbody tr th {\n",
       "        vertical-align: top;\n",
       "    }\n",
       "\n",
       "    .dataframe thead th {\n",
       "        text-align: right;\n",
       "    }\n",
       "</style>\n",
       "<table border=\"1\" class=\"dataframe\">\n",
       "  <thead>\n",
       "    <tr style=\"text-align: right;\">\n",
       "      <th></th>\n",
       "      <th>organisation</th>\n",
       "      <th>alternative name</th>\n",
       "      <th>records lost</th>\n",
       "      <th>year</th>\n",
       "      <th>date</th>\n",
       "      <th>story</th>\n",
       "      <th>sector</th>\n",
       "      <th>method</th>\n",
       "      <th>interesting story</th>\n",
       "      <th>data sensitivity</th>\n",
       "      <th>displayed records</th>\n",
       "      <th>Unnamed: 11</th>\n",
       "      <th>source name</th>\n",
       "      <th>1st source link</th>\n",
       "      <th>2nd source link</th>\n",
       "      <th>ID</th>\n",
       "      <th>organisation_name</th>\n",
       "    </tr>\n",
       "  </thead>\n",
       "  <tbody>\n",
       "    <tr>\n",
       "      <th>1</th>\n",
       "      <td>Twitch</td>\n",
       "      <td>NaN</td>\n",
       "      <td>10000000.0</td>\n",
       "      <td>2021</td>\n",
       "      <td>2021-10-01</td>\n",
       "      <td>Full source code breach of the streaming gamin...</td>\n",
       "      <td>gaming</td>\n",
       "      <td>hacked</td>\n",
       "      <td>y</td>\n",
       "      <td>4.0</td>\n",
       "      <td>unknown</td>\n",
       "      <td>NaN</td>\n",
       "      <td>BBC</td>\n",
       "      <td>https://www.bbc.co.uk/news/technology-58817658</td>\n",
       "      <td>NaN</td>\n",
       "      <td>395.0</td>\n",
       "      <td>Twitch</td>\n",
       "    </tr>\n",
       "    <tr>\n",
       "      <th>51</th>\n",
       "      <td>Buchbinder Car Rentals</td>\n",
       "      <td>NaN</td>\n",
       "      <td>5000000.0</td>\n",
       "      <td>2020</td>\n",
       "      <td>2020-01-01</td>\n",
       "      <td>Correspondence, invoices and contracts contain...</td>\n",
       "      <td>transport</td>\n",
       "      <td>poor security</td>\n",
       "      <td>NaN</td>\n",
       "      <td>2.0</td>\n",
       "      <td>5000000.0</td>\n",
       "      <td>NaN</td>\n",
       "      <td>Teller Report</td>\n",
       "      <td>https://www.tellerreport.com/news/2020-01-22--...</td>\n",
       "      <td>NaN</td>\n",
       "      <td>345.0</td>\n",
       "      <td></td>\n",
       "    </tr>\n",
       "    <tr>\n",
       "      <th>101</th>\n",
       "      <td>Quora</td>\n",
       "      <td>NaN</td>\n",
       "      <td>100000000.0</td>\n",
       "      <td>2018</td>\n",
       "      <td>2018-12-01</td>\n",
       "      <td>Login details and private messages were compro...</td>\n",
       "      <td>web</td>\n",
       "      <td>hacked</td>\n",
       "      <td>NaN</td>\n",
       "      <td>1.0</td>\n",
       "      <td>100000000.0</td>\n",
       "      <td>NaN</td>\n",
       "      <td>NY Times</td>\n",
       "      <td>https://www.nytimes.com/2018/12/04/technology/...</td>\n",
       "      <td>NaN</td>\n",
       "      <td>293.0</td>\n",
       "      <td></td>\n",
       "    </tr>\n",
       "    <tr>\n",
       "      <th>151</th>\n",
       "      <td>DaFont</td>\n",
       "      <td>Font sharing site</td>\n",
       "      <td>700000.0</td>\n",
       "      <td>2017</td>\n",
       "      <td>2017-05-01</td>\n",
       "      <td>The font site's database was targeted by a hac...</td>\n",
       "      <td>web</td>\n",
       "      <td>hacked</td>\n",
       "      <td>NaN</td>\n",
       "      <td>4.0</td>\n",
       "      <td>NaN</td>\n",
       "      <td>NaN</td>\n",
       "      <td>ZD Net</td>\n",
       "      <td>http://www.zdnet.com/article/font-sharing-site...</td>\n",
       "      <td>NaN</td>\n",
       "      <td>243.0</td>\n",
       "      <td></td>\n",
       "    </tr>\n",
       "    <tr>\n",
       "      <th>201</th>\n",
       "      <td>Sanrio</td>\n",
       "      <td>Hello Kitty and other franchises</td>\n",
       "      <td>3300000.0</td>\n",
       "      <td>2015</td>\n",
       "      <td>2015-12-01</td>\n",
       "      <td>A researcher accessed a database containing lo...</td>\n",
       "      <td>web</td>\n",
       "      <td>poor security</td>\n",
       "      <td>NaN</td>\n",
       "      <td>2.0</td>\n",
       "      <td>NaN</td>\n",
       "      <td>NaN</td>\n",
       "      <td>CSO Online</td>\n",
       "      <td>https://www.csoonline.com/article/3017171/data...</td>\n",
       "      <td>NaN</td>\n",
       "      <td>193.0</td>\n",
       "      <td></td>\n",
       "    </tr>\n",
       "    <tr>\n",
       "      <th>251</th>\n",
       "      <td>Advocate Medical Group</td>\n",
       "      <td>NaN</td>\n",
       "      <td>4000000.0</td>\n",
       "      <td>2013</td>\n",
       "      <td>2013-08-01</td>\n",
       "      <td>Four unencrypted computers were stolen from an...</td>\n",
       "      <td>health</td>\n",
       "      <td>lost device</td>\n",
       "      <td>y</td>\n",
       "      <td>2.0</td>\n",
       "      <td>NaN</td>\n",
       "      <td>NaN</td>\n",
       "      <td>Health IT Security</td>\n",
       "      <td>http://healthitsecurity.com/2013/08/27/advocat...</td>\n",
       "      <td>NaN</td>\n",
       "      <td>143.0</td>\n",
       "      <td></td>\n",
       "    </tr>\n",
       "    <tr>\n",
       "      <th>301</th>\n",
       "      <td>Yale University</td>\n",
       "      <td>NaN</td>\n",
       "      <td>43000.0</td>\n",
       "      <td>2011</td>\n",
       "      <td>2011-08-01</td>\n",
       "      <td>The names and Social Security numbers of 43,00...</td>\n",
       "      <td>academic</td>\n",
       "      <td>oops!</td>\n",
       "      <td>NaN</td>\n",
       "      <td>2.0</td>\n",
       "      <td>NaN</td>\n",
       "      <td>NaN</td>\n",
       "      <td>NBC News</td>\n",
       "      <td>http://www.nbcnews.com/id/44235153/ns/technolo...</td>\n",
       "      <td>NaN</td>\n",
       "      <td>93.0</td>\n",
       "      <td></td>\n",
       "    </tr>\n",
       "    <tr>\n",
       "      <th>351</th>\n",
       "      <td>Virginia Prescription Monitoring Program</td>\n",
       "      <td>NaN</td>\n",
       "      <td>531400.0</td>\n",
       "      <td>2009</td>\n",
       "      <td>2009-05-01</td>\n",
       "      <td>A prescriptions website with a database contai...</td>\n",
       "      <td>health</td>\n",
       "      <td>hacked</td>\n",
       "      <td>y</td>\n",
       "      <td>2.0</td>\n",
       "      <td>NaN</td>\n",
       "      <td>NaN</td>\n",
       "      <td>Digital Health</td>\n",
       "      <td>https://www.digitalhealth.net/2009/05/virginia...</td>\n",
       "      <td>NaN</td>\n",
       "      <td>43.0</td>\n",
       "      <td></td>\n",
       "    </tr>\n",
       "  </tbody>\n",
       "</table>\n",
       "</div>"
      ],
      "text/plain": [
       "                                 organisation  \\\n",
       "1                                      Twitch   \n",
       "51                     Buchbinder Car Rentals   \n",
       "101                                     Quora   \n",
       "151                                    DaFont   \n",
       "201                                    Sanrio   \n",
       "251                    Advocate Medical Group   \n",
       "301                           Yale University   \n",
       "351  Virginia Prescription Monitoring Program   \n",
       "\n",
       "                     alternative name  records lost  year       date  \\\n",
       "1                                 NaN    10000000.0  2021 2021-10-01   \n",
       "51                                NaN     5000000.0  2020 2020-01-01   \n",
       "101                               NaN   100000000.0  2018 2018-12-01   \n",
       "151                 Font sharing site      700000.0  2017 2017-05-01   \n",
       "201  Hello Kitty and other franchises     3300000.0  2015 2015-12-01   \n",
       "251                               NaN     4000000.0  2013 2013-08-01   \n",
       "301                               NaN       43000.0  2011 2011-08-01   \n",
       "351                               NaN      531400.0  2009 2009-05-01   \n",
       "\n",
       "                                                 story     sector  \\\n",
       "1    Full source code breach of the streaming gamin...     gaming   \n",
       "51   Correspondence, invoices and contracts contain...  transport   \n",
       "101  Login details and private messages were compro...        web   \n",
       "151  The font site's database was targeted by a hac...        web   \n",
       "201  A researcher accessed a database containing lo...        web   \n",
       "251  Four unencrypted computers were stolen from an...    health    \n",
       "301  The names and Social Security numbers of 43,00...   academic   \n",
       "351  A prescriptions website with a database contai...    health    \n",
       "\n",
       "            method interesting story data sensitivity displayed records  \\\n",
       "1           hacked                 y              4.0           unknown   \n",
       "51   poor security               NaN              2.0         5000000.0   \n",
       "101         hacked               NaN              1.0       100000000.0   \n",
       "151         hacked               NaN              4.0               NaN   \n",
       "201  poor security               NaN              2.0               NaN   \n",
       "251   lost device                  y              2.0               NaN   \n",
       "301          oops!               NaN              2.0               NaN   \n",
       "351         hacked                 y              2.0               NaN   \n",
       "\n",
       "     Unnamed: 11         source name  \\\n",
       "1            NaN                 BBC   \n",
       "51           NaN       Teller Report   \n",
       "101          NaN            NY Times   \n",
       "151          NaN              ZD Net   \n",
       "201          NaN          CSO Online   \n",
       "251          NaN  Health IT Security   \n",
       "301          NaN            NBC News   \n",
       "351          NaN      Digital Health   \n",
       "\n",
       "                                       1st source link 2nd source link     ID  \\\n",
       "1       https://www.bbc.co.uk/news/technology-58817658             NaN  395.0   \n",
       "51   https://www.tellerreport.com/news/2020-01-22--...             NaN  345.0   \n",
       "101  https://www.nytimes.com/2018/12/04/technology/...             NaN  293.0   \n",
       "151  http://www.zdnet.com/article/font-sharing-site...             NaN  243.0   \n",
       "201  https://www.csoonline.com/article/3017171/data...             NaN  193.0   \n",
       "251  http://healthitsecurity.com/2013/08/27/advocat...             NaN  143.0   \n",
       "301  http://www.nbcnews.com/id/44235153/ns/technolo...             NaN   93.0   \n",
       "351  https://www.digitalhealth.net/2009/05/virginia...             NaN   43.0   \n",
       "\n",
       "    organisation_name  \n",
       "1              Twitch  \n",
       "51                     \n",
       "101                    \n",
       "151                    \n",
       "201                    \n",
       "251                    \n",
       "301                    \n",
       "351                    "
      ]
     },
     "execution_count": 15,
     "metadata": {},
     "output_type": "execute_result"
    }
   ],
   "source": [
    "\n",
    "\n",
    "\n",
    "for x in range( 2005, 2022):\n",
    "    df['organisation_name'] = np.where((df['year'] == x) & (df['records lost'] >= df['records lost'].max()*0.005), df['organisation'], '')\n",
    "\n",
    "df\n",
    "df[255:261]\n",
    "df[::50]\n",
    "\n"
   ]
  },
  {
   "cell_type": "code",
   "execution_count": null,
   "metadata": {},
   "outputs": [
    {
     "data": {
      "text/html": [
       "<div>\n",
       "<style scoped>\n",
       "    .dataframe tbody tr th:only-of-type {\n",
       "        vertical-align: middle;\n",
       "    }\n",
       "\n",
       "    .dataframe tbody tr th {\n",
       "        vertical-align: top;\n",
       "    }\n",
       "\n",
       "    .dataframe thead th {\n",
       "        text-align: right;\n",
       "    }\n",
       "</style>\n",
       "<table border=\"1\" class=\"dataframe\">\n",
       "  <thead>\n",
       "    <tr style=\"text-align: right;\">\n",
       "      <th></th>\n",
       "      <th>Name</th>\n",
       "      <th>Geschlecht</th>\n",
       "      <th>Alter</th>\n",
       "      <th>Nationalität</th>\n",
       "      <th>Gehalt</th>\n",
       "    </tr>\n",
       "  </thead>\n",
       "  <tbody>\n",
       "    <tr>\n",
       "      <th>ID-123</th>\n",
       "      <td>Peter</td>\n",
       "      <td>M</td>\n",
       "      <td>34</td>\n",
       "      <td>deutsch</td>\n",
       "      <td>3400.0</td>\n",
       "    </tr>\n",
       "    <tr>\n",
       "      <th>ID-462</th>\n",
       "      <td>Karla</td>\n",
       "      <td>W</td>\n",
       "      <td>53</td>\n",
       "      <td>schweizerisch</td>\n",
       "      <td>4000.0</td>\n",
       "    </tr>\n",
       "    <tr>\n",
       "      <th>ID-111</th>\n",
       "      <td>Anne</td>\n",
       "      <td>W</td>\n",
       "      <td>16</td>\n",
       "      <td>deutsch</td>\n",
       "      <td>0.0</td>\n",
       "    </tr>\n",
       "    <tr>\n",
       "      <th>ID-997</th>\n",
       "      <td>Nino</td>\n",
       "      <td>M</td>\n",
       "      <td>22</td>\n",
       "      <td>italienisch</td>\n",
       "      <td>NaN</td>\n",
       "    </tr>\n",
       "    <tr>\n",
       "      <th>ID-707</th>\n",
       "      <td>Andrzej</td>\n",
       "      <td>M</td>\n",
       "      <td>61</td>\n",
       "      <td>polnisch</td>\n",
       "      <td>2300.0</td>\n",
       "    </tr>\n",
       "  </tbody>\n",
       "</table>\n",
       "</div>"
      ],
      "text/plain": [
       "           Name Geschlecht  Alter   Nationalität  Gehalt\n",
       "ID-123    Peter          M     34        deutsch  3400.0\n",
       "ID-462    Karla          W     53  schweizerisch  4000.0\n",
       "ID-111     Anne          W     16        deutsch     0.0\n",
       "ID-997     Nino          M     22    italienisch     NaN\n",
       "ID-707  Andrzej          M     61       polnisch  2300.0"
      ]
     },
     "execution_count": 47,
     "metadata": {},
     "output_type": "execute_result"
    }
   ],
   "source": [
    "df = pd.DataFrame({'Name' : [\"Peter\", \"Karla\", \"Anne\", \"Nino\", \"Andrzej\"],\n",
    "                   'Geschlecht': ['M','W','W','M','M'],\n",
    "                   'Alter': [34, 53, 16, 22, 61],\n",
    "                   'Nationalität': [\"deutsch\", \"schweizerisch\", \"deutsch\", \"italienisch\", \"polnisch\"],\n",
    "                   'Gehalt': [3400, 4000, 0, np.NaN, 2300]}, \n",
    "                  index = ['ID-123', 'ID-462', 'ID-111', 'ID-997', 'ID-707'])\n",
    "\n",
    "df"
   ]
  },
  {
   "cell_type": "code",
   "execution_count": null,
   "metadata": {},
   "outputs": [
    {
     "data": {
      "text/html": [
       "<div>\n",
       "<style scoped>\n",
       "    .dataframe tbody tr th:only-of-type {\n",
       "        vertical-align: middle;\n",
       "    }\n",
       "\n",
       "    .dataframe tbody tr th {\n",
       "        vertical-align: top;\n",
       "    }\n",
       "\n",
       "    .dataframe thead th {\n",
       "        text-align: right;\n",
       "    }\n",
       "</style>\n",
       "<table border=\"1\" class=\"dataframe\">\n",
       "  <thead>\n",
       "    <tr style=\"text-align: right;\">\n",
       "      <th></th>\n",
       "      <th>Name</th>\n",
       "      <th>Geschlecht</th>\n",
       "      <th>Alter</th>\n",
       "      <th>Nationalität</th>\n",
       "      <th>Gehalt</th>\n",
       "      <th>Nettogehalt</th>\n",
       "    </tr>\n",
       "  </thead>\n",
       "  <tbody>\n",
       "    <tr>\n",
       "      <th>ID-123</th>\n",
       "      <td>Peter</td>\n",
       "      <td>M</td>\n",
       "      <td>34</td>\n",
       "      <td>deutsch</td>\n",
       "      <td>3400.0</td>\n",
       "      <td>2108.0</td>\n",
       "    </tr>\n",
       "    <tr>\n",
       "      <th>ID-462</th>\n",
       "      <td>Karla</td>\n",
       "      <td>W</td>\n",
       "      <td>53</td>\n",
       "      <td>schweizerisch</td>\n",
       "      <td>4000.0</td>\n",
       "      <td>2800.0</td>\n",
       "    </tr>\n",
       "    <tr>\n",
       "      <th>ID-111</th>\n",
       "      <td>Anne</td>\n",
       "      <td>W</td>\n",
       "      <td>16</td>\n",
       "      <td>deutsch</td>\n",
       "      <td>0.0</td>\n",
       "      <td>0.0</td>\n",
       "    </tr>\n",
       "    <tr>\n",
       "      <th>ID-997</th>\n",
       "      <td>Nino</td>\n",
       "      <td>M</td>\n",
       "      <td>22</td>\n",
       "      <td>italienisch</td>\n",
       "      <td>NaN</td>\n",
       "      <td>NaN</td>\n",
       "    </tr>\n",
       "    <tr>\n",
       "      <th>ID-707</th>\n",
       "      <td>Andrzej</td>\n",
       "      <td>M</td>\n",
       "      <td>61</td>\n",
       "      <td>polnisch</td>\n",
       "      <td>2300.0</td>\n",
       "      <td>1380.0</td>\n",
       "    </tr>\n",
       "  </tbody>\n",
       "</table>\n",
       "</div>"
      ],
      "text/plain": [
       "           Name Geschlecht  Alter   Nationalität  Gehalt  Nettogehalt\n",
       "ID-123    Peter          M     34        deutsch  3400.0       2108.0\n",
       "ID-462    Karla          W     53  schweizerisch  4000.0       2800.0\n",
       "ID-111     Anne          W     16        deutsch     0.0          0.0\n",
       "ID-997     Nino          M     22    italienisch     NaN          NaN\n",
       "ID-707  Andrzej          M     61       polnisch  2300.0       1380.0"
      ]
     },
     "execution_count": 49,
     "metadata": {},
     "output_type": "execute_result"
    }
   ],
   "source": [
    "df['Nettogehalt'] = np.where(df['Nationalität'] == 'deutsch', \n",
    "                             df['Gehalt'] * 0.62,\n",
    "                             np.nan)\n",
    "df['Nettogehalt'] = np.where(df['Nationalität'] == 'schweizerisch', \n",
    "                             df['Gehalt'] * 0.7,\n",
    "                             df['Nettogehalt'])\n",
    "df['Nettogehalt'] = np.where(df['Nationalität'] == 'italienisch', \n",
    "                             df['Gehalt'] * 0.58,\n",
    "                             df['Nettogehalt'])\n",
    "df['Nettogehalt'] = np.where(df['Nationalität'] == 'polnisch', \n",
    "                             df['Gehalt'] * 0.6,\n",
    "                             df['Nettogehalt'])\n",
    "\n",
    "df"
   ]
  }
 ],
 "metadata": {
  "interpreter": {
   "hash": "781744b4409b9da5085f09423be4e3ce07b6e38dfe730dc00e0a5fe5b6bf53c2"
  },
  "kernelspec": {
   "display_name": "Python 3.8.11 64-bit ('dash_py3.8': conda)",
   "language": "python",
   "name": "python3"
  },
  "language_info": {
   "codemirror_mode": {
    "name": "ipython",
    "version": 3
   },
   "file_extension": ".py",
   "mimetype": "text/x-python",
   "name": "python",
   "nbconvert_exporter": "python",
   "pygments_lexer": "ipython3",
   "version": "3.8.11"
  },
  "orig_nbformat": 4
 },
 "nbformat": 4,
 "nbformat_minor": 2
}

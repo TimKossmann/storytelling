{
 "cells": [
  {
   "cell_type": "code",
   "execution_count": 77,
   "metadata": {},
   "outputs": [
    {
     "name": "stdout",
     "output_type": "stream",
     "text": [
      "                    organisation\n",
      "0                            NaN\n",
      "1                         Twitch\n",
      "2                      Syniverse\n",
      "3                 Pandora Papers\n",
      "4                  Neiman Marcus\n",
      "..                           ...\n",
      "388              Hewlett Packard\n",
      "389              Ameritrade Inc.\n",
      "390                    Citigroup\n",
      "391  Cardsystems Solutions Inc. \n",
      "392                          AOL\n",
      "\n",
      "[393 rows x 1 columns]\n",
      "     organisation alternative name  \\\n",
      "0             NaN              NaN   \n",
      "1          Twitch              NaN   \n",
      "2       Syniverse              NaN   \n",
      "3  Pandora Papers              NaN   \n",
      "4   Neiman Marcus              NaN   \n",
      "\n",
      "                                        records lost           year     \\\n",
      "0  (use 3m, 4m, 5m or 10m to approximate unknown ...  year story broke   \n",
      "1                                         10000000.0            2021.0   \n",
      "2                                        500000000.0            2021.0   \n",
      "3                                         11900000.0            2021.0   \n",
      "4                                          4600000.0            2021.0   \n",
      "\n",
      "        date                                              story  \\\n",
      "0        NaT                                                NaN   \n",
      "1 2021-10-01  Full source code breach of the streaming gamin...   \n",
      "2 2021-09-01  \"A company that is a critical part of the glob...   \n",
      "3 2021-10-01  Millions of documents reveal offshore deals an...   \n",
      "4 2021-09-01  Occurred sometime in May 2020 after \"an unauth...   \n",
      "\n",
      "                                              sector  \\\n",
      "0  web\\nhealthcare\\napp\\nretail\\ngaming\\ntranspor...   \n",
      "1                                             gaming   \n",
      "2                                           telecoms   \n",
      "3                                         government   \n",
      "4                                             retail   \n",
      "\n",
      "                                              method interesting story  \\\n",
      "0  poor security\\nhacked\\noops!\\nlost device \\nin...               NaN   \n",
      "1                                             hacked                 y   \n",
      "2                                             hacked               NaN   \n",
      "3                                             hacked                 y   \n",
      "4                                             hacked               NaN   \n",
      "\n",
      "                                    data sensitivity       displayed records  \\\n",
      "0  1. Just email address/Online information \\n2 S...  =IF(C3>100000000,C3,\")   \n",
      "1                                                4.0                 unknown   \n",
      "2                                                4.0                 unknown   \n",
      "3                                                4.0                     NaN   \n",
      "4                                                3.0                     NaN   \n",
      "\n",
      "   Unnamed: 11   source name  \\\n",
      "0          NaN           NaN   \n",
      "1          NaN           BBC   \n",
      "2          NaN          Vice   \n",
      "3          NaN      Guardian   \n",
      "4          NaN  Ars Technica   \n",
      "\n",
      "                                     1st source link 2nd source link     ID  \n",
      "0                                                NaN             NaN    NaN  \n",
      "1     https://www.bbc.co.uk/news/technology-58817658             NaN  395.0  \n",
      "2  https://www.vice.com/en/article/z3xpm8/company...             NaN  394.0  \n",
      "3  https://www.theguardian.com/news/2021/oct/03/p...             NaN  393.0  \n",
      "4  https://arstechnica.com/information-technology...             NaN  392.0  \n"
     ]
    }
   ],
   "source": [
    "import plotly.express as px\n",
    "import plotly.graph_objects as go\n",
    "import dash\n",
    "import pandas as pd \n",
    "import numpy as np\n",
    "import random\n",
    "import datetime\n",
    "\n",
    "df = pd.read_excel(\"./datasets/DataBreaches.xlsx\")\n",
    "\n",
    "def front(self, n):\n",
    "    return self.iloc[:, :n]\n",
    "\n",
    "pd.DataFrame.front=front\n",
    "print(df.front(1))\n",
    "print(df.head())"
   ]
  },
  {
   "cell_type": "code",
   "execution_count": 78,
   "metadata": {},
   "outputs": [
    {
     "name": "stdout",
     "output_type": "stream",
     "text": [
      "                    organisation\n",
      "1                         Twitch\n",
      "2                      Syniverse\n",
      "3                 Pandora Papers\n",
      "4                  Neiman Marcus\n",
      "5                           Epik\n",
      "..                           ...\n",
      "388              Hewlett Packard\n",
      "389              Ameritrade Inc.\n",
      "390                    Citigroup\n",
      "391  Cardsystems Solutions Inc. \n",
      "392                          AOL\n",
      "\n",
      "[392 rows x 1 columns]\n"
     ]
    }
   ],
   "source": [
    "# Löschen der ersten Zeile\n",
    "df = df.drop(df.index[[0]])\n",
    "print(df.front(1))"
   ]
  },
  {
   "cell_type": "code",
   "execution_count": 79,
   "metadata": {},
   "outputs": [],
   "source": [
    "df.dtypes\n",
    "# Spalte year umbennene (aufgrund von Leerzeichen nach \"year\")\n",
    "df = df.rename(columns= {'year   ':'year'})\n"
   ]
  },
  {
   "cell_type": "code",
   "execution_count": 80,
   "metadata": {},
   "outputs": [
    {
     "data": {
      "text/plain": [
       "organisation                 object\n",
       "alternative name             object\n",
       "records lost                float64\n",
       "year                         object\n",
       "date                 datetime64[ns]\n",
       "story                        object\n",
       "sector                       object\n",
       "method                       object\n",
       "interesting story            object\n",
       "data sensitivity             object\n",
       "displayed records            object\n",
       "Unnamed: 11                 float64\n",
       "source name                  object\n",
       "1st source link              object\n",
       "2nd source link              object\n",
       "ID                          float64\n",
       "dtype: object"
      ]
     },
     "execution_count": 80,
     "metadata": {},
     "output_type": "execute_result"
    }
   ],
   "source": [
    "# Umwandlung des Datentyps von records lost von Object in numeric\n",
    "df[\"records lost\"] = pd.to_numeric(df[\"records lost\"])\n",
    "df.dtypes"
   ]
  },
  {
   "cell_type": "code",
   "execution_count": 81,
   "metadata": {},
   "outputs": [
    {
     "data": {
      "text/plain": [
       "organisation                 string\n",
       "alternative name             object\n",
       "records lost                float64\n",
       "year                         object\n",
       "date                 datetime64[ns]\n",
       "story                        object\n",
       "sector                       object\n",
       "method                       object\n",
       "interesting story            object\n",
       "data sensitivity             object\n",
       "displayed records            object\n",
       "Unnamed: 11                 float64\n",
       "source name                  object\n",
       "1st source link              object\n",
       "2nd source link              object\n",
       "ID                          float64\n",
       "dtype: object"
      ]
     },
     "execution_count": 81,
     "metadata": {},
     "output_type": "execute_result"
    }
   ],
   "source": [
    "# Umwandlung des Datentyps von Organisation von Object in string\n",
    "df[\"organisation\"] = df[\"organisation\"].astype(\"string\")\n",
    "df.dtypes"
   ]
  },
  {
   "cell_type": "code",
   "execution_count": 82,
   "metadata": {},
   "outputs": [
    {
     "data": {
      "text/plain": [
       "organisation                 string\n",
       "alternative name             object\n",
       "records lost                float64\n",
       "year                          int32\n",
       "date                 datetime64[ns]\n",
       "story                        object\n",
       "sector                       object\n",
       "method                       object\n",
       "interesting story            object\n",
       "data sensitivity             object\n",
       "displayed records            object\n",
       "Unnamed: 11                 float64\n",
       "source name                  object\n",
       "1st source link              object\n",
       "2nd source link              object\n",
       "ID                          float64\n",
       "dtype: object"
      ]
     },
     "execution_count": 82,
     "metadata": {},
     "output_type": "execute_result"
    }
   ],
   "source": [
    "# Umwandlung des Datentyps von Year von Object in Integer\n",
    "df[\"year\"] = df[\"year\"].astype(\"int\")\n",
    "df.dtypes\n"
   ]
  },
  {
   "cell_type": "code",
   "execution_count": 83,
   "metadata": {},
   "outputs": [
    {
     "data": {
      "application/vnd.plotly.v1+json": {
       "config": {
        "plotlyServerURL": "https://plot.ly"
       },
       "data": [
        {
         "alignmentgroup": "True",
         "hovertemplate": "sector=gaming<br>year=%{x}<br>records lost=%{y}<extra></extra>",
         "legendgroup": "gaming",
         "marker": {
          "color": "#636efa",
          "pattern": {
           "shape": ""
          }
         },
         "name": "gaming",
         "offsetgroup": "gaming",
         "orientation": "v",
         "showlegend": true,
         "textposition": "auto",
         "type": "bar",
         "x": [
          2021,
          2020,
          2020,
          2019,
          2019,
          2019,
          2019,
          2016,
          2013,
          2013,
          2012,
          2011,
          2011,
          2011,
          2011
         ],
         "xaxis": "x",
         "y": [
          10000000,
          500000,
          300000,
          11000000,
          4000000,
          5000000,
          7600000,
          7000000,
          58000000,
          4000000,
          14000000,
          77000000,
          200000,
          1290755,
          24600000
         ],
         "yaxis": "y"
        },
        {
         "alignmentgroup": "True",
         "hovertemplate": "sector=telecoms<br>year=%{x}<br>records lost=%{y}<extra></extra>",
         "legendgroup": "telecoms",
         "marker": {
          "color": "#EF553B",
          "pattern": {
           "shape": ""
          }
         },
         "name": "telecoms",
         "offsetgroup": "telecoms",
         "orientation": "v",
         "showlegend": true,
         "textposition": "auto",
         "type": "bar",
         "x": [
          2021,
          2021,
          2021,
          2020,
          2020,
          2020,
          2018,
          2018,
          2018,
          2017,
          2017,
          2016,
          2015,
          2015,
          2015,
          2013,
          2013,
          2012,
          2010,
          2008,
          2008,
          2006
         ],
         "xaxis": "x",
         "y": [
          500000000,
          40000000,
          38000000,
          200000,
          2500000,
          115000000,
          10000000,
          2000000,
          32000000,
          1900000,
          46200000,
          130000,
          157000,
          15000000,
          2400000,
          170000,
          2000000,
          8700000,
          114000,
          113000,
          17000000,
          4000000
         ],
         "yaxis": "y"
        },
        {
         "alignmentgroup": "True",
         "hovertemplate": "sector=government<br>year=%{x}<br>records lost=%{y}<extra></extra>",
         "legendgroup": "government",
         "marker": {
          "color": "#00cc96",
          "pattern": {
           "shape": ""
          }
         },
         "name": "government",
         "offsetgroup": "government",
         "orientation": "v",
         "showlegend": true,
         "textposition": "auto",
         "type": "bar",
         "x": [
          2021,
          2021,
          2021,
          2020,
          2020,
          2020,
          2019,
          2019,
          2018,
          2017,
          2017,
          2016,
          2016,
          2016,
          2016,
          2015,
          2015,
          2015,
          2015,
          2014,
          2013,
          2013,
          2013,
          2012,
          2012,
          2012,
          2012,
          2011,
          2011,
          2011,
          2011,
          2011,
          2010,
          2008,
          2008,
          2008,
          2008,
          2008,
          2008,
          2007,
          2007,
          2007
         ],
         "xaxis": "x",
         "y": [
          11900000,
          100000000,
          280000,
          387000,
          6900000,
          6500000,
          100000,
          5000000,
          550000000,
          3000000,
          3700000,
          55000000,
          274477,
          49611709,
          5000000,
          21500000,
          4000000,
          30,
          100000,
          5190396,
          100000,
          1500000,
          160000,
          800000,
          6500000,
          9000000,
          3600000,
          3500000,
          123461,
          180000,
          210000,
          1000000,
          392000,
          84000,
          6000000,
          89000,
          1700000,
          3950000,
          50500,
          3000000,
          160000,
          25000000
         ],
         "yaxis": "y"
        },
        {
         "alignmentgroup": "True",
         "hovertemplate": "sector=retail<br>year=%{x}<br>records lost=%{y}<extra></extra>",
         "legendgroup": "retail",
         "marker": {
          "color": "#ab63fa",
          "pattern": {
           "shape": ""
          }
         },
         "name": "retail",
         "offsetgroup": "retail",
         "orientation": "v",
         "showlegend": true,
         "textposition": "auto",
         "type": "bar",
         "x": [
          2021,
          2021,
          2021,
          2021,
          2020,
          2020,
          2020,
          2020,
          2020,
          2019,
          2019,
          2019,
          2019,
          2018,
          2018,
          2018,
          2018,
          2018,
          2018,
          2018,
          2017,
          2016,
          2014,
          2014,
          2014,
          2014,
          2014,
          2013,
          2011,
          2011,
          2008,
          2008,
          2007,
          2007,
          2007
         ],
         "xaxis": "x",
         "y": [
          4600000,
          15000000,
          111000,
          10000000,
          900000,
          150000,
          600000,
          5200000,
          10600000,
          30000000,
          28000000,
          57000000,
          1000000,
          383000000,
          37000000,
          5000000,
          1300000,
          5000000,
          16300,
          45000000,
          2000000,
          1025,
          1100000,
          4000000,
          1160000,
          56000000,
          600000,
          70000000,
          283000,
          200000,
          4200000,
          97000,
          800000,
          8637405,
          94000000
         ],
         "yaxis": "y"
        },
        {
         "alignmentgroup": "True",
         "hovertemplate": "sector=web <br>year=%{x}<br>records lost=%{y}<extra></extra>",
         "legendgroup": "web ",
         "marker": {
          "color": "#FFA15A",
          "pattern": {
           "shape": ""
          }
         },
         "name": "web ",
         "offsetgroup": "web ",
         "orientation": "v",
         "showlegend": true,
         "textposition": "auto",
         "type": "bar",
         "x": [
          2021,
          2019
         ],
         "xaxis": "x",
         "y": [
          700000000,
          162000000
         ],
         "yaxis": "y"
        },
        {
         "alignmentgroup": "True",
         "hovertemplate": "sector=transport<br>year=%{x}<br>records lost=%{y}<extra></extra>",
         "legendgroup": "transport",
         "marker": {
          "color": "#19d3f3",
          "pattern": {
           "shape": ""
          }
         },
         "name": "transport",
         "offsetgroup": "transport",
         "orientation": "v",
         "showlegend": true,
         "textposition": "auto",
         "type": "bar",
         "x": [
          2021,
          2021,
          2021,
          2021,
          2020,
          2020,
          2019,
          2019,
          2019,
          2018,
          2018,
          2018,
          2018,
          2015,
          2014,
          2014
         ],
         "xaxis": "x",
         "y": [
          3300000,
          4500000,
          21000000,
          16000000,
          9000000,
          5000000,
          3100000,
          18000000,
          4900000,
          94000000,
          700000,
          380000,
          934000,
          10000,
          52000,
          750000
         ],
         "yaxis": "y"
        },
        {
         "alignmentgroup": "True",
         "hovertemplate": "sector=app<br>year=%{x}<br>records lost=%{y}<extra></extra>",
         "legendgroup": "app",
         "marker": {
          "color": "#FF6692",
          "pattern": {
           "shape": ""
          }
         },
         "name": "app",
         "offsetgroup": "app",
         "orientation": "v",
         "showlegend": true,
         "textposition": "auto",
         "type": "bar",
         "x": [
          2021,
          2020,
          2020,
          2020,
          2020,
          2019,
          2018,
          2018,
          2018,
          2018,
          2018,
          2018,
          2017,
          2017,
          2017,
          2017,
          2017,
          2017,
          2016,
          2015,
          2015
         ],
         "xaxis": "x",
         "y": [
          1710000,
          50000000,
          500000,
          2400000,
          500000,
          2000000,
          14000000,
          150000000,
          120000000,
          100000000,
          3000000,
          309000,
          57000000,
          1700000,
          31000000,
          1000000,
          1700000,
          540000,
          15000000,
          400000,
          500000
         ],
         "yaxis": "y"
        },
        {
         "alignmentgroup": "True",
         "hovertemplate": "sector=web<br>year=%{x}<br>records lost=%{y}<extra></extra>",
         "legendgroup": "web",
         "marker": {
          "color": "#B6E880",
          "pattern": {
           "shape": ""
          }
         },
         "name": "web",
         "offsetgroup": "web",
         "orientation": "v",
         "showlegend": true,
         "textposition": "auto",
         "type": "bar",
         "x": [
          2021,
          2020,
          2020,
          2019,
          2019,
          2019,
          2019,
          2019,
          2019,
          2019,
          2019,
          2019,
          2019,
          2019,
          2019,
          2019,
          2019,
          2019,
          2019,
          2019,
          2019,
          2018,
          2018,
          2018,
          2018,
          2018,
          2018,
          2018,
          2018,
          2018,
          2018,
          2018,
          2018,
          2017,
          2017,
          2017,
          2017,
          2017,
          2017,
          2017,
          2017,
          2017,
          2016,
          2016,
          2016,
          2016,
          2016,
          2016,
          2016,
          2016,
          2016,
          2016,
          2016,
          2016,
          2016,
          2016,
          2016,
          2016,
          2016,
          2016,
          2015,
          2015,
          2015,
          2015,
          2015,
          2015,
          2015,
          2015,
          2014,
          2014,
          2014,
          2014,
          2013,
          2013,
          2013,
          2013,
          2013,
          2013,
          2013,
          2013,
          2013,
          2013,
          2013,
          2012,
          2012,
          2012,
          2012,
          2012,
          2012,
          2012,
          2011,
          2011,
          2011,
          2011,
          2011,
          2011,
          2011,
          2010,
          2009,
          2008,
          2007,
          2006,
          2004
         ],
         "xaxis": "x",
         "y": [
          13124962,
          22000000,
          250000000,
          139000000,
          1800000,
          41000000,
          25000000,
          22000000,
          20000000,
          18000000,
          16000000,
          8000000,
          6000000,
          1000000,
          700000,
          40000000,
          1800000,
          14800000,
          275265298,
          419000000,
          26000000,
          202000000,
          52500000,
          100000000,
          50000000,
          92283889,
          14800000,
          40000,
          880000,
          48000000,
          27000000,
          411000,
          29000000,
          17500000,
          300000,
          32000000,
          520000000,
          340000000,
          700000,
          17000000,
          6000000,
          3000000,
          117000000,
          65000000,
          500000000,
          25000000,
          300000,
          9500000,
          2000000,
          35000,
          171000000,
          1500000,
          40000000,
          164000000,
          85200000,
          43000000,
          10000000,
          412000000,
          790724,
          6600000,
          198000000,
          13000000,
          3300000,
          6400000,
          500000,
          37000000,
          3900000,
          70000000,
          2400000,
          145000000,
          5000000,
          76000,
          40000000,
          500000,
          50000000,
          550000000,
          250000,
          200000,
          6000000,
          50000000,
          1000000,
          860000,
          4000000,
          6000000,
          24000000,
          420000,
          43500000,
          8000000,
          8000000,
          68700000,
          2300000,
          3000000,
          10000000,
          62000,
          1000000,
          35000000,
          13200000,
          1500000,
          573000,
          18000000,
          1600000,
          20000000,
          92000000
         ],
         "yaxis": "y"
        },
        {
         "alignmentgroup": "True",
         "hovertemplate": "sector=tech<br>year=%{x}<br>records lost=%{y}<extra></extra>",
         "legendgroup": "tech",
         "marker": {
          "color": "#FF97FF",
          "pattern": {
           "shape": ""
          }
         },
         "name": "tech",
         "offsetgroup": "tech",
         "orientation": "v",
         "showlegend": true,
         "textposition": "auto",
         "type": "bar",
         "x": [
          2021,
          2021,
          2021,
          2021,
          2021,
          2021,
          2019,
          2019,
          2019,
          2018,
          2018,
          2018,
          2017,
          2013,
          2013
         ],
         "xaxis": "x",
         "y": [
          3000000,
          10000000,
          16000000,
          2240000,
          4000000,
          533000000,
          2400000,
          27800000,
          380000000,
          330000000,
          100000,
          200000000,
          3000000,
          38000000,
          1000000
         ],
         "yaxis": "y"
        },
        {
         "alignmentgroup": "True",
         "hovertemplate": "sector=finance<br>year=%{x}<br>records lost=%{y}<extra></extra>",
         "legendgroup": "finance",
         "marker": {
          "color": "#FECB52",
          "pattern": {
           "shape": ""
          }
         },
         "name": "finance",
         "offsetgroup": "finance",
         "orientation": "v",
         "showlegend": true,
         "textposition": "auto",
         "type": "bar",
         "x": [
          2021,
          2020,
          2019,
          2019,
          2019,
          2018,
          2018,
          2016,
          2017,
          2017,
          2017,
          2015,
          2014,
          2014,
          2014,
          2014,
          2013,
          2013,
          2013,
          2013,
          2012,
          2012,
          2011,
          2011,
          2010,
          2010,
          2009,
          2009,
          2008,
          2008,
          2008,
          2008,
          2007,
          2007,
          2007,
          2006,
          2005,
          2005,
          2005
         ],
         "xaxis": "x",
         "y": [
          220000000,
          270000,
          4200000,
          450000,
          100000000,
          300000,
          14000000,
          1100,
          270000,
          1600000,
          143000000,
          40000,
          4000000,
          76000000,
          2700000,
          20000000,
          160000000,
          150000,
          500000,
          200000000,
          1500000,
          3000000,
          34000,
          210000,
          3300000,
          400000,
          130000000,
          5000000,
          1000000,
          4500000,
          2500000,
          1500000,
          8500000,
          2600000,
          6300000,
          125000,
          200000,
          3900000,
          40000000
         ],
         "yaxis": "y"
        },
        {
         "alignmentgroup": "True",
         "hovertemplate": "sector=health <br>year=%{x}<br>records lost=%{y}<extra></extra>",
         "legendgroup": "health ",
         "marker": {
          "color": "#636efa",
          "pattern": {
           "shape": ""
          }
         },
         "name": "health ",
         "offsetgroup": "health ",
         "orientation": "v",
         "showlegend": true,
         "textposition": "auto",
         "type": "bar",
         "x": [
          2020,
          2019,
          2019,
          2018,
          2018,
          2018,
          2017,
          2016,
          2016,
          2016,
          2016,
          2015,
          2015,
          2015,
          2015,
          2015,
          2014,
          2013,
          2013,
          2013,
          2012,
          2012,
          2012,
          2011,
          2011,
          2011,
          2011,
          2011,
          2011,
          2011,
          2011,
          2011,
          2011,
          2011,
          2011,
          2010,
          2010,
          2010,
          2010,
          2010,
          2010,
          2009,
          2009
         ],
         "xaxis": "x",
         "y": [
          1000000,
          20000000,
          2700000,
          1500000,
          3000000,
          93689,
          81309,
          3700000,
          112000,
          550000,
          34000,
          1100000,
          10000000,
          11000000,
          80000000,
          4500000,
          4500000,
          344579,
          100000,
          4000000,
          228000,
          315000,
          102153,
          1700000,
          231400,
          800000,
          156000,
          300000,
          175350,
          1900000,
          514330,
          400000,
          8600000,
          1600000,
          4243434,
          1220000,
          1023209,
          398000,
          180111,
          105470,
          130495,
          531400,
          1500000
         ],
         "yaxis": "y"
        },
        {
         "alignmentgroup": "True",
         "hovertemplate": "sector=misc, health<br>year=%{x}<br>records lost=%{y}<extra></extra>",
         "legendgroup": "misc, health",
         "marker": {
          "color": "#EF553B",
          "pattern": {
           "shape": ""
          }
         },
         "name": "misc, health",
         "offsetgroup": "misc, health",
         "orientation": "v",
         "showlegend": true,
         "textposition": "auto",
         "type": "bar",
         "x": [
          2020
         ],
         "xaxis": "x",
         "y": [
          1400000
         ],
         "yaxis": "y"
        },
        {
         "alignmentgroup": "True",
         "hovertemplate": "sector=misc<br>year=%{x}<br>records lost=%{y}<extra></extra>",
         "legendgroup": "misc",
         "marker": {
          "color": "#00cc96",
          "pattern": {
           "shape": ""
          }
         },
         "name": "misc",
         "offsetgroup": "misc",
         "orientation": "v",
         "showlegend": true,
         "textposition": "auto",
         "type": "bar",
         "x": [
          2020,
          2019,
          2016,
          2016,
          2014,
          2013,
          2012,
          2011,
          2008
         ],
         "xaxis": "x",
         "y": [
          2400000,
          49000000,
          11500000,
          2200000,
          10000000,
          110000,
          1800000,
          1270000,
          11100000
         ],
         "yaxis": "y"
        },
        {
         "alignmentgroup": "True",
         "hovertemplate": "sector=tech, health<br>year=%{x}<br>records lost=%{y}<extra></extra>",
         "legendgroup": "tech, health",
         "marker": {
          "color": "#ab63fa",
          "pattern": {
           "shape": ""
          }
         },
         "name": "tech, health",
         "offsetgroup": "tech, health",
         "orientation": "v",
         "showlegend": true,
         "textposition": "auto",
         "type": "bar",
         "x": [
          2020
         ],
         "xaxis": "x",
         "y": [
          2500000
         ],
         "yaxis": "y"
        },
        {
         "alignmentgroup": "True",
         "hovertemplate": "sector=academic<br>year=%{x}<br>records lost=%{y}<extra></extra>",
         "legendgroup": "academic",
         "marker": {
          "color": "#FFA15A",
          "pattern": {
           "shape": ""
          }
         },
         "name": "academic",
         "offsetgroup": "academic",
         "orientation": "v",
         "showlegend": true,
         "textposition": "auto",
         "type": "bar",
         "x": [
          2019,
          2014,
          2013,
          2013,
          2011,
          2011,
          2010,
          2009,
          2008,
          2008,
          2008
         ],
         "xaxis": "x",
         "y": [
          200000,
          146000,
          74000,
          125000,
          43000,
          73000,
          760000,
          160000,
          2100000,
          72000,
          2200000
         ],
         "yaxis": "y"
        },
        {
         "alignmentgroup": "True",
         "hovertemplate": "sector=tech, app<br>year=%{x}<br>records lost=%{y}<extra></extra>",
         "legendgroup": "tech, app",
         "marker": {
          "color": "#19d3f3",
          "pattern": {
           "shape": ""
          }
         },
         "name": "tech, app",
         "offsetgroup": "tech, app",
         "orientation": "v",
         "showlegend": true,
         "textposition": "auto",
         "type": "bar",
         "x": [
          2015
         ],
         "xaxis": "x",
         "y": [
          50000
         ],
         "yaxis": "y"
        },
        {
         "alignmentgroup": "True",
         "hovertemplate": "sector=web, tech<br>year=%{x}<br>records lost=%{y}<extra></extra>",
         "legendgroup": "web, tech",
         "marker": {
          "color": "#FF6692",
          "pattern": {
           "shape": ""
          }
         },
         "name": "web, tech",
         "offsetgroup": "web, tech",
         "orientation": "v",
         "showlegend": true,
         "textposition": "auto",
         "type": "bar",
         "x": [
          2013
         ],
         "xaxis": "x",
         "y": [
          4600000
         ],
         "yaxis": "y"
        },
        {
         "alignmentgroup": "True",
         "hovertemplate": "sector=tech, web<br>year=%{x}<br>records lost=%{y}<extra></extra>",
         "legendgroup": "tech, web",
         "marker": {
          "color": "#B6E880",
          "pattern": {
           "shape": ""
          }
         },
         "name": "tech, web",
         "offsetgroup": "tech, web",
         "orientation": "v",
         "showlegend": true,
         "textposition": "auto",
         "type": "bar",
         "x": [
          2013,
          2013,
          2013,
          2012
         ],
         "xaxis": "x",
         "y": [
          275000,
          2000000,
          22000000,
          450000
         ],
         "yaxis": "y"
        },
        {
         "alignmentgroup": "True",
         "hovertemplate": "sector=government, health<br>year=%{x}<br>records lost=%{y}<extra></extra>",
         "legendgroup": "government, health",
         "marker": {
          "color": "#FF97FF",
          "pattern": {
           "shape": ""
          }
         },
         "name": "government, health",
         "offsetgroup": "government, health",
         "orientation": "v",
         "showlegend": true,
         "textposition": "auto",
         "type": "bar",
         "x": [
          2012
         ],
         "xaxis": "x",
         "y": [
          780000
         ],
         "yaxis": "y"
        },
        {
         "alignmentgroup": "True",
         "hovertemplate": "sector=web, military<br>year=%{x}<br>records lost=%{y}<extra></extra>",
         "legendgroup": "web, military",
         "marker": {
          "color": "#FECB52",
          "pattern": {
           "shape": ""
          }
         },
         "name": "web, military",
         "offsetgroup": "web, military",
         "orientation": "v",
         "showlegend": true,
         "textposition": "auto",
         "type": "bar",
         "x": [
          2012
         ],
         "xaxis": "x",
         "y": [
          163792
         ],
         "yaxis": "y"
        },
        {
         "alignmentgroup": "True",
         "hovertemplate": "sector=tech, retail<br>year=%{x}<br>records lost=%{y}<extra></extra>",
         "legendgroup": "tech, retail",
         "marker": {
          "color": "#636efa",
          "pattern": {
           "shape": ""
          }
         },
         "name": "tech, retail",
         "offsetgroup": "tech, retail",
         "orientation": "v",
         "showlegend": true,
         "textposition": "auto",
         "type": "bar",
         "x": [
          2012,
          2006
         ],
         "xaxis": "x",
         "y": [
          12367232,
          200000
         ],
         "yaxis": "y"
        },
        {
         "alignmentgroup": "True",
         "hovertemplate": "sector=military<br>year=%{x}<br>records lost=%{y}<extra></extra>",
         "legendgroup": "military",
         "marker": {
          "color": "#EF553B",
          "pattern": {
           "shape": ""
          }
         },
         "name": "military",
         "offsetgroup": "military",
         "orientation": "v",
         "showlegend": true,
         "textposition": "auto",
         "type": "bar",
         "x": [
          2011,
          2010,
          2009,
          2009
         ],
         "xaxis": "x",
         "y": [
          935000,
          260000,
          131000,
          76000000
         ],
         "yaxis": "y"
        },
        {
         "alignmentgroup": "True",
         "hovertemplate": "sector=military, health<br>year=%{x}<br>records lost=%{y}<extra></extra>",
         "legendgroup": "military, health",
         "marker": {
          "color": "#00cc96",
          "pattern": {
           "shape": ""
          }
         },
         "name": "military, health",
         "offsetgroup": "military, health",
         "orientation": "v",
         "showlegend": true,
         "textposition": "auto",
         "type": "bar",
         "x": [
          2011
         ],
         "xaxis": "x",
         "y": [
          4901432
         ],
         "yaxis": "y"
        },
        {
         "alignmentgroup": "True",
         "hovertemplate": "sector=web, gaming<br>year=%{x}<br>records lost=%{y}<extra></extra>",
         "legendgroup": "web, gaming",
         "marker": {
          "color": "#ab63fa",
          "pattern": {
           "shape": ""
          }
         },
         "name": "web, gaming",
         "offsetgroup": "web, gaming",
         "orientation": "v",
         "showlegend": true,
         "textposition": "auto",
         "type": "bar",
         "x": [
          2009
         ],
         "xaxis": "x",
         "y": [
          32000000
         ],
         "yaxis": "y"
        },
        {
         "alignmentgroup": "True",
         "hovertemplate": "sector=government, military<br>year=%{x}<br>records lost=%{y}<extra></extra>",
         "legendgroup": "government, military",
         "marker": {
          "color": "#FFA15A",
          "pattern": {
           "shape": ""
          }
         },
         "name": "government, military",
         "offsetgroup": "government, military",
         "orientation": "v",
         "showlegend": true,
         "textposition": "auto",
         "type": "bar",
         "x": [
          2006
         ],
         "xaxis": "x",
         "y": [
          26500000
         ],
         "yaxis": "y"
        }
       ],
       "layout": {
        "barmode": "relative",
        "legend": {
         "title": {
          "text": "sector"
         },
         "tracegroupgap": 0
        },
        "margin": {
         "t": 60
        },
        "template": {
         "data": {
          "bar": [
           {
            "error_x": {
             "color": "#2a3f5f"
            },
            "error_y": {
             "color": "#2a3f5f"
            },
            "marker": {
             "line": {
              "color": "#E5ECF6",
              "width": 0.5
             },
             "pattern": {
              "fillmode": "overlay",
              "size": 10,
              "solidity": 0.2
             }
            },
            "type": "bar"
           }
          ],
          "barpolar": [
           {
            "marker": {
             "line": {
              "color": "#E5ECF6",
              "width": 0.5
             },
             "pattern": {
              "fillmode": "overlay",
              "size": 10,
              "solidity": 0.2
             }
            },
            "type": "barpolar"
           }
          ],
          "carpet": [
           {
            "aaxis": {
             "endlinecolor": "#2a3f5f",
             "gridcolor": "white",
             "linecolor": "white",
             "minorgridcolor": "white",
             "startlinecolor": "#2a3f5f"
            },
            "baxis": {
             "endlinecolor": "#2a3f5f",
             "gridcolor": "white",
             "linecolor": "white",
             "minorgridcolor": "white",
             "startlinecolor": "#2a3f5f"
            },
            "type": "carpet"
           }
          ],
          "choropleth": [
           {
            "colorbar": {
             "outlinewidth": 0,
             "ticks": ""
            },
            "type": "choropleth"
           }
          ],
          "contour": [
           {
            "colorbar": {
             "outlinewidth": 0,
             "ticks": ""
            },
            "colorscale": [
             [
              0,
              "#0d0887"
             ],
             [
              0.1111111111111111,
              "#46039f"
             ],
             [
              0.2222222222222222,
              "#7201a8"
             ],
             [
              0.3333333333333333,
              "#9c179e"
             ],
             [
              0.4444444444444444,
              "#bd3786"
             ],
             [
              0.5555555555555556,
              "#d8576b"
             ],
             [
              0.6666666666666666,
              "#ed7953"
             ],
             [
              0.7777777777777778,
              "#fb9f3a"
             ],
             [
              0.8888888888888888,
              "#fdca26"
             ],
             [
              1,
              "#f0f921"
             ]
            ],
            "type": "contour"
           }
          ],
          "contourcarpet": [
           {
            "colorbar": {
             "outlinewidth": 0,
             "ticks": ""
            },
            "type": "contourcarpet"
           }
          ],
          "heatmap": [
           {
            "colorbar": {
             "outlinewidth": 0,
             "ticks": ""
            },
            "colorscale": [
             [
              0,
              "#0d0887"
             ],
             [
              0.1111111111111111,
              "#46039f"
             ],
             [
              0.2222222222222222,
              "#7201a8"
             ],
             [
              0.3333333333333333,
              "#9c179e"
             ],
             [
              0.4444444444444444,
              "#bd3786"
             ],
             [
              0.5555555555555556,
              "#d8576b"
             ],
             [
              0.6666666666666666,
              "#ed7953"
             ],
             [
              0.7777777777777778,
              "#fb9f3a"
             ],
             [
              0.8888888888888888,
              "#fdca26"
             ],
             [
              1,
              "#f0f921"
             ]
            ],
            "type": "heatmap"
           }
          ],
          "heatmapgl": [
           {
            "colorbar": {
             "outlinewidth": 0,
             "ticks": ""
            },
            "colorscale": [
             [
              0,
              "#0d0887"
             ],
             [
              0.1111111111111111,
              "#46039f"
             ],
             [
              0.2222222222222222,
              "#7201a8"
             ],
             [
              0.3333333333333333,
              "#9c179e"
             ],
             [
              0.4444444444444444,
              "#bd3786"
             ],
             [
              0.5555555555555556,
              "#d8576b"
             ],
             [
              0.6666666666666666,
              "#ed7953"
             ],
             [
              0.7777777777777778,
              "#fb9f3a"
             ],
             [
              0.8888888888888888,
              "#fdca26"
             ],
             [
              1,
              "#f0f921"
             ]
            ],
            "type": "heatmapgl"
           }
          ],
          "histogram": [
           {
            "marker": {
             "pattern": {
              "fillmode": "overlay",
              "size": 10,
              "solidity": 0.2
             }
            },
            "type": "histogram"
           }
          ],
          "histogram2d": [
           {
            "colorbar": {
             "outlinewidth": 0,
             "ticks": ""
            },
            "colorscale": [
             [
              0,
              "#0d0887"
             ],
             [
              0.1111111111111111,
              "#46039f"
             ],
             [
              0.2222222222222222,
              "#7201a8"
             ],
             [
              0.3333333333333333,
              "#9c179e"
             ],
             [
              0.4444444444444444,
              "#bd3786"
             ],
             [
              0.5555555555555556,
              "#d8576b"
             ],
             [
              0.6666666666666666,
              "#ed7953"
             ],
             [
              0.7777777777777778,
              "#fb9f3a"
             ],
             [
              0.8888888888888888,
              "#fdca26"
             ],
             [
              1,
              "#f0f921"
             ]
            ],
            "type": "histogram2d"
           }
          ],
          "histogram2dcontour": [
           {
            "colorbar": {
             "outlinewidth": 0,
             "ticks": ""
            },
            "colorscale": [
             [
              0,
              "#0d0887"
             ],
             [
              0.1111111111111111,
              "#46039f"
             ],
             [
              0.2222222222222222,
              "#7201a8"
             ],
             [
              0.3333333333333333,
              "#9c179e"
             ],
             [
              0.4444444444444444,
              "#bd3786"
             ],
             [
              0.5555555555555556,
              "#d8576b"
             ],
             [
              0.6666666666666666,
              "#ed7953"
             ],
             [
              0.7777777777777778,
              "#fb9f3a"
             ],
             [
              0.8888888888888888,
              "#fdca26"
             ],
             [
              1,
              "#f0f921"
             ]
            ],
            "type": "histogram2dcontour"
           }
          ],
          "mesh3d": [
           {
            "colorbar": {
             "outlinewidth": 0,
             "ticks": ""
            },
            "type": "mesh3d"
           }
          ],
          "parcoords": [
           {
            "line": {
             "colorbar": {
              "outlinewidth": 0,
              "ticks": ""
             }
            },
            "type": "parcoords"
           }
          ],
          "pie": [
           {
            "automargin": true,
            "type": "pie"
           }
          ],
          "scatter": [
           {
            "marker": {
             "colorbar": {
              "outlinewidth": 0,
              "ticks": ""
             }
            },
            "type": "scatter"
           }
          ],
          "scatter3d": [
           {
            "line": {
             "colorbar": {
              "outlinewidth": 0,
              "ticks": ""
             }
            },
            "marker": {
             "colorbar": {
              "outlinewidth": 0,
              "ticks": ""
             }
            },
            "type": "scatter3d"
           }
          ],
          "scattercarpet": [
           {
            "marker": {
             "colorbar": {
              "outlinewidth": 0,
              "ticks": ""
             }
            },
            "type": "scattercarpet"
           }
          ],
          "scattergeo": [
           {
            "marker": {
             "colorbar": {
              "outlinewidth": 0,
              "ticks": ""
             }
            },
            "type": "scattergeo"
           }
          ],
          "scattergl": [
           {
            "marker": {
             "colorbar": {
              "outlinewidth": 0,
              "ticks": ""
             }
            },
            "type": "scattergl"
           }
          ],
          "scattermapbox": [
           {
            "marker": {
             "colorbar": {
              "outlinewidth": 0,
              "ticks": ""
             }
            },
            "type": "scattermapbox"
           }
          ],
          "scatterpolar": [
           {
            "marker": {
             "colorbar": {
              "outlinewidth": 0,
              "ticks": ""
             }
            },
            "type": "scatterpolar"
           }
          ],
          "scatterpolargl": [
           {
            "marker": {
             "colorbar": {
              "outlinewidth": 0,
              "ticks": ""
             }
            },
            "type": "scatterpolargl"
           }
          ],
          "scatterternary": [
           {
            "marker": {
             "colorbar": {
              "outlinewidth": 0,
              "ticks": ""
             }
            },
            "type": "scatterternary"
           }
          ],
          "surface": [
           {
            "colorbar": {
             "outlinewidth": 0,
             "ticks": ""
            },
            "colorscale": [
             [
              0,
              "#0d0887"
             ],
             [
              0.1111111111111111,
              "#46039f"
             ],
             [
              0.2222222222222222,
              "#7201a8"
             ],
             [
              0.3333333333333333,
              "#9c179e"
             ],
             [
              0.4444444444444444,
              "#bd3786"
             ],
             [
              0.5555555555555556,
              "#d8576b"
             ],
             [
              0.6666666666666666,
              "#ed7953"
             ],
             [
              0.7777777777777778,
              "#fb9f3a"
             ],
             [
              0.8888888888888888,
              "#fdca26"
             ],
             [
              1,
              "#f0f921"
             ]
            ],
            "type": "surface"
           }
          ],
          "table": [
           {
            "cells": {
             "fill": {
              "color": "#EBF0F8"
             },
             "line": {
              "color": "white"
             }
            },
            "header": {
             "fill": {
              "color": "#C8D4E3"
             },
             "line": {
              "color": "white"
             }
            },
            "type": "table"
           }
          ]
         },
         "layout": {
          "annotationdefaults": {
           "arrowcolor": "#2a3f5f",
           "arrowhead": 0,
           "arrowwidth": 1
          },
          "autotypenumbers": "strict",
          "coloraxis": {
           "colorbar": {
            "outlinewidth": 0,
            "ticks": ""
           }
          },
          "colorscale": {
           "diverging": [
            [
             0,
             "#8e0152"
            ],
            [
             0.1,
             "#c51b7d"
            ],
            [
             0.2,
             "#de77ae"
            ],
            [
             0.3,
             "#f1b6da"
            ],
            [
             0.4,
             "#fde0ef"
            ],
            [
             0.5,
             "#f7f7f7"
            ],
            [
             0.6,
             "#e6f5d0"
            ],
            [
             0.7,
             "#b8e186"
            ],
            [
             0.8,
             "#7fbc41"
            ],
            [
             0.9,
             "#4d9221"
            ],
            [
             1,
             "#276419"
            ]
           ],
           "sequential": [
            [
             0,
             "#0d0887"
            ],
            [
             0.1111111111111111,
             "#46039f"
            ],
            [
             0.2222222222222222,
             "#7201a8"
            ],
            [
             0.3333333333333333,
             "#9c179e"
            ],
            [
             0.4444444444444444,
             "#bd3786"
            ],
            [
             0.5555555555555556,
             "#d8576b"
            ],
            [
             0.6666666666666666,
             "#ed7953"
            ],
            [
             0.7777777777777778,
             "#fb9f3a"
            ],
            [
             0.8888888888888888,
             "#fdca26"
            ],
            [
             1,
             "#f0f921"
            ]
           ],
           "sequentialminus": [
            [
             0,
             "#0d0887"
            ],
            [
             0.1111111111111111,
             "#46039f"
            ],
            [
             0.2222222222222222,
             "#7201a8"
            ],
            [
             0.3333333333333333,
             "#9c179e"
            ],
            [
             0.4444444444444444,
             "#bd3786"
            ],
            [
             0.5555555555555556,
             "#d8576b"
            ],
            [
             0.6666666666666666,
             "#ed7953"
            ],
            [
             0.7777777777777778,
             "#fb9f3a"
            ],
            [
             0.8888888888888888,
             "#fdca26"
            ],
            [
             1,
             "#f0f921"
            ]
           ]
          },
          "colorway": [
           "#636efa",
           "#EF553B",
           "#00cc96",
           "#ab63fa",
           "#FFA15A",
           "#19d3f3",
           "#FF6692",
           "#B6E880",
           "#FF97FF",
           "#FECB52"
          ],
          "font": {
           "color": "#2a3f5f"
          },
          "geo": {
           "bgcolor": "white",
           "lakecolor": "white",
           "landcolor": "#E5ECF6",
           "showlakes": true,
           "showland": true,
           "subunitcolor": "white"
          },
          "hoverlabel": {
           "align": "left"
          },
          "hovermode": "closest",
          "mapbox": {
           "style": "light"
          },
          "paper_bgcolor": "white",
          "plot_bgcolor": "#E5ECF6",
          "polar": {
           "angularaxis": {
            "gridcolor": "white",
            "linecolor": "white",
            "ticks": ""
           },
           "bgcolor": "#E5ECF6",
           "radialaxis": {
            "gridcolor": "white",
            "linecolor": "white",
            "ticks": ""
           }
          },
          "scene": {
           "xaxis": {
            "backgroundcolor": "#E5ECF6",
            "gridcolor": "white",
            "gridwidth": 2,
            "linecolor": "white",
            "showbackground": true,
            "ticks": "",
            "zerolinecolor": "white"
           },
           "yaxis": {
            "backgroundcolor": "#E5ECF6",
            "gridcolor": "white",
            "gridwidth": 2,
            "linecolor": "white",
            "showbackground": true,
            "ticks": "",
            "zerolinecolor": "white"
           },
           "zaxis": {
            "backgroundcolor": "#E5ECF6",
            "gridcolor": "white",
            "gridwidth": 2,
            "linecolor": "white",
            "showbackground": true,
            "ticks": "",
            "zerolinecolor": "white"
           }
          },
          "shapedefaults": {
           "line": {
            "color": "#2a3f5f"
           }
          },
          "ternary": {
           "aaxis": {
            "gridcolor": "white",
            "linecolor": "white",
            "ticks": ""
           },
           "baxis": {
            "gridcolor": "white",
            "linecolor": "white",
            "ticks": ""
           },
           "bgcolor": "#E5ECF6",
           "caxis": {
            "gridcolor": "white",
            "linecolor": "white",
            "ticks": ""
           }
          },
          "title": {
           "x": 0.05
          },
          "xaxis": {
           "automargin": true,
           "gridcolor": "white",
           "linecolor": "white",
           "ticks": "",
           "title": {
            "standoff": 15
           },
           "zerolinecolor": "white",
           "zerolinewidth": 2
          },
          "yaxis": {
           "automargin": true,
           "gridcolor": "white",
           "linecolor": "white",
           "ticks": "",
           "title": {
            "standoff": 15
           },
           "zerolinecolor": "white",
           "zerolinewidth": 2
          }
         }
        },
        "xaxis": {
         "anchor": "y",
         "domain": [
          0,
          1
         ],
         "title": {
          "text": "year"
         }
        },
        "yaxis": {
         "anchor": "x",
         "domain": [
          0,
          1
         ],
         "title": {
          "text": "records lost"
         }
        }
       }
      }
     },
     "metadata": {},
     "output_type": "display_data"
    }
   ],
   "source": [
    "fig = px.bar(df, x=\"year\", y='records lost', color='sector')\n",
    "fig.show()"
   ]
  },
  {
   "cell_type": "code",
   "execution_count": 84,
   "metadata": {},
   "outputs": [
    {
     "name": "stdout",
     "output_type": "stream",
     "text": [
      "    year  records lost\n",
      "10  2014   338674396.0\n"
     ]
    },
    {
     "data": {
      "application/vnd.plotly.v1+json": {
       "config": {
        "plotlyServerURL": "https://plot.ly"
       },
       "data": [
        {
         "hovertemplate": "Jahre=%{x}<br>=%{y}<extra></extra>",
         "legendgroup": "",
         "line": {
          "color": "LightSkyBlue",
          "dash": "solid",
          "width": 2
         },
         "marker": {
          "color": "LightSkyBlue",
          "opacity": 0.8,
          "size": 10,
          "symbol": "circle"
         },
         "mode": "lines+markers",
         "name": "",
         "orientation": "v",
         "showlegend": false,
         "type": "scatter",
         "x": [
          2004,
          2005,
          2006,
          2007,
          2008,
          2009,
          2010,
          2011,
          2012,
          2013,
          2014,
          2015,
          2016,
          2017,
          2018,
          2019,
          2020,
          2021
         ],
         "xaxis": "x",
         "y": [
          92000000,
          44100000,
          50825000,
          150597405,
          76255500,
          245895400,
          9783285,
          201236162,
          221926177,
          1272018579,
          338674396,
          482857030,
          1803040035,
          1234191309,
          2719547878,
          2000815298,
          496707000,
          2277765962
         ],
         "yaxis": "y"
        },
        {
         "hovertemplate": "year=%{x}<br>records lost=%{y}<extra></extra>",
         "legendgroup": "",
         "marker": {
          "color": "pink",
          "opacity": 0.5,
          "size": 15,
          "symbol": "circle"
         },
         "mode": "markers",
         "name": "",
         "orientation": "v",
         "showlegend": false,
         "type": "scatter",
         "x": [
          2012
         ],
         "xaxis": "x",
         "y": [
          221926177
         ],
         "yaxis": "y"
        }
       ],
       "layout": {
        "annotations": [
         {
          "showarrow": false,
          "text": "entstandener Schaden (in US$)",
          "valign": "top",
          "x": 0,
          "xref": "paper",
          "y": 1.1,
          "yref": "y domain"
         }
        ],
        "legend": {
         "tracegroupgap": 0
        },
        "paper_bgcolor": "rgba(255,255,255,1)",
        "plot_bgcolor": "rgba(0,0,0,0)",
        "template": {
         "data": {
          "bar": [
           {
            "error_x": {
             "color": "#2a3f5f"
            },
            "error_y": {
             "color": "#2a3f5f"
            },
            "marker": {
             "line": {
              "color": "#E5ECF6",
              "width": 0.5
             },
             "pattern": {
              "fillmode": "overlay",
              "size": 10,
              "solidity": 0.2
             }
            },
            "type": "bar"
           }
          ],
          "barpolar": [
           {
            "marker": {
             "line": {
              "color": "#E5ECF6",
              "width": 0.5
             },
             "pattern": {
              "fillmode": "overlay",
              "size": 10,
              "solidity": 0.2
             }
            },
            "type": "barpolar"
           }
          ],
          "carpet": [
           {
            "aaxis": {
             "endlinecolor": "#2a3f5f",
             "gridcolor": "white",
             "linecolor": "white",
             "minorgridcolor": "white",
             "startlinecolor": "#2a3f5f"
            },
            "baxis": {
             "endlinecolor": "#2a3f5f",
             "gridcolor": "white",
             "linecolor": "white",
             "minorgridcolor": "white",
             "startlinecolor": "#2a3f5f"
            },
            "type": "carpet"
           }
          ],
          "choropleth": [
           {
            "colorbar": {
             "outlinewidth": 0,
             "ticks": ""
            },
            "type": "choropleth"
           }
          ],
          "contour": [
           {
            "colorbar": {
             "outlinewidth": 0,
             "ticks": ""
            },
            "colorscale": [
             [
              0,
              "#0d0887"
             ],
             [
              0.1111111111111111,
              "#46039f"
             ],
             [
              0.2222222222222222,
              "#7201a8"
             ],
             [
              0.3333333333333333,
              "#9c179e"
             ],
             [
              0.4444444444444444,
              "#bd3786"
             ],
             [
              0.5555555555555556,
              "#d8576b"
             ],
             [
              0.6666666666666666,
              "#ed7953"
             ],
             [
              0.7777777777777778,
              "#fb9f3a"
             ],
             [
              0.8888888888888888,
              "#fdca26"
             ],
             [
              1,
              "#f0f921"
             ]
            ],
            "type": "contour"
           }
          ],
          "contourcarpet": [
           {
            "colorbar": {
             "outlinewidth": 0,
             "ticks": ""
            },
            "type": "contourcarpet"
           }
          ],
          "heatmap": [
           {
            "colorbar": {
             "outlinewidth": 0,
             "ticks": ""
            },
            "colorscale": [
             [
              0,
              "#0d0887"
             ],
             [
              0.1111111111111111,
              "#46039f"
             ],
             [
              0.2222222222222222,
              "#7201a8"
             ],
             [
              0.3333333333333333,
              "#9c179e"
             ],
             [
              0.4444444444444444,
              "#bd3786"
             ],
             [
              0.5555555555555556,
              "#d8576b"
             ],
             [
              0.6666666666666666,
              "#ed7953"
             ],
             [
              0.7777777777777778,
              "#fb9f3a"
             ],
             [
              0.8888888888888888,
              "#fdca26"
             ],
             [
              1,
              "#f0f921"
             ]
            ],
            "type": "heatmap"
           }
          ],
          "heatmapgl": [
           {
            "colorbar": {
             "outlinewidth": 0,
             "ticks": ""
            },
            "colorscale": [
             [
              0,
              "#0d0887"
             ],
             [
              0.1111111111111111,
              "#46039f"
             ],
             [
              0.2222222222222222,
              "#7201a8"
             ],
             [
              0.3333333333333333,
              "#9c179e"
             ],
             [
              0.4444444444444444,
              "#bd3786"
             ],
             [
              0.5555555555555556,
              "#d8576b"
             ],
             [
              0.6666666666666666,
              "#ed7953"
             ],
             [
              0.7777777777777778,
              "#fb9f3a"
             ],
             [
              0.8888888888888888,
              "#fdca26"
             ],
             [
              1,
              "#f0f921"
             ]
            ],
            "type": "heatmapgl"
           }
          ],
          "histogram": [
           {
            "marker": {
             "pattern": {
              "fillmode": "overlay",
              "size": 10,
              "solidity": 0.2
             }
            },
            "type": "histogram"
           }
          ],
          "histogram2d": [
           {
            "colorbar": {
             "outlinewidth": 0,
             "ticks": ""
            },
            "colorscale": [
             [
              0,
              "#0d0887"
             ],
             [
              0.1111111111111111,
              "#46039f"
             ],
             [
              0.2222222222222222,
              "#7201a8"
             ],
             [
              0.3333333333333333,
              "#9c179e"
             ],
             [
              0.4444444444444444,
              "#bd3786"
             ],
             [
              0.5555555555555556,
              "#d8576b"
             ],
             [
              0.6666666666666666,
              "#ed7953"
             ],
             [
              0.7777777777777778,
              "#fb9f3a"
             ],
             [
              0.8888888888888888,
              "#fdca26"
             ],
             [
              1,
              "#f0f921"
             ]
            ],
            "type": "histogram2d"
           }
          ],
          "histogram2dcontour": [
           {
            "colorbar": {
             "outlinewidth": 0,
             "ticks": ""
            },
            "colorscale": [
             [
              0,
              "#0d0887"
             ],
             [
              0.1111111111111111,
              "#46039f"
             ],
             [
              0.2222222222222222,
              "#7201a8"
             ],
             [
              0.3333333333333333,
              "#9c179e"
             ],
             [
              0.4444444444444444,
              "#bd3786"
             ],
             [
              0.5555555555555556,
              "#d8576b"
             ],
             [
              0.6666666666666666,
              "#ed7953"
             ],
             [
              0.7777777777777778,
              "#fb9f3a"
             ],
             [
              0.8888888888888888,
              "#fdca26"
             ],
             [
              1,
              "#f0f921"
             ]
            ],
            "type": "histogram2dcontour"
           }
          ],
          "mesh3d": [
           {
            "colorbar": {
             "outlinewidth": 0,
             "ticks": ""
            },
            "type": "mesh3d"
           }
          ],
          "parcoords": [
           {
            "line": {
             "colorbar": {
              "outlinewidth": 0,
              "ticks": ""
             }
            },
            "type": "parcoords"
           }
          ],
          "pie": [
           {
            "automargin": true,
            "type": "pie"
           }
          ],
          "scatter": [
           {
            "marker": {
             "colorbar": {
              "outlinewidth": 0,
              "ticks": ""
             }
            },
            "type": "scatter"
           }
          ],
          "scatter3d": [
           {
            "line": {
             "colorbar": {
              "outlinewidth": 0,
              "ticks": ""
             }
            },
            "marker": {
             "colorbar": {
              "outlinewidth": 0,
              "ticks": ""
             }
            },
            "type": "scatter3d"
           }
          ],
          "scattercarpet": [
           {
            "marker": {
             "colorbar": {
              "outlinewidth": 0,
              "ticks": ""
             }
            },
            "type": "scattercarpet"
           }
          ],
          "scattergeo": [
           {
            "marker": {
             "colorbar": {
              "outlinewidth": 0,
              "ticks": ""
             }
            },
            "type": "scattergeo"
           }
          ],
          "scattergl": [
           {
            "marker": {
             "colorbar": {
              "outlinewidth": 0,
              "ticks": ""
             }
            },
            "type": "scattergl"
           }
          ],
          "scattermapbox": [
           {
            "marker": {
             "colorbar": {
              "outlinewidth": 0,
              "ticks": ""
             }
            },
            "type": "scattermapbox"
           }
          ],
          "scatterpolar": [
           {
            "marker": {
             "colorbar": {
              "outlinewidth": 0,
              "ticks": ""
             }
            },
            "type": "scatterpolar"
           }
          ],
          "scatterpolargl": [
           {
            "marker": {
             "colorbar": {
              "outlinewidth": 0,
              "ticks": ""
             }
            },
            "type": "scatterpolargl"
           }
          ],
          "scatterternary": [
           {
            "marker": {
             "colorbar": {
              "outlinewidth": 0,
              "ticks": ""
             }
            },
            "type": "scatterternary"
           }
          ],
          "surface": [
           {
            "colorbar": {
             "outlinewidth": 0,
             "ticks": ""
            },
            "colorscale": [
             [
              0,
              "#0d0887"
             ],
             [
              0.1111111111111111,
              "#46039f"
             ],
             [
              0.2222222222222222,
              "#7201a8"
             ],
             [
              0.3333333333333333,
              "#9c179e"
             ],
             [
              0.4444444444444444,
              "#bd3786"
             ],
             [
              0.5555555555555556,
              "#d8576b"
             ],
             [
              0.6666666666666666,
              "#ed7953"
             ],
             [
              0.7777777777777778,
              "#fb9f3a"
             ],
             [
              0.8888888888888888,
              "#fdca26"
             ],
             [
              1,
              "#f0f921"
             ]
            ],
            "type": "surface"
           }
          ],
          "table": [
           {
            "cells": {
             "fill": {
              "color": "#EBF0F8"
             },
             "line": {
              "color": "white"
             }
            },
            "header": {
             "fill": {
              "color": "#C8D4E3"
             },
             "line": {
              "color": "white"
             }
            },
            "type": "table"
           }
          ]
         },
         "layout": {
          "annotationdefaults": {
           "arrowcolor": "#2a3f5f",
           "arrowhead": 0,
           "arrowwidth": 1
          },
          "autotypenumbers": "strict",
          "coloraxis": {
           "colorbar": {
            "outlinewidth": 0,
            "ticks": ""
           }
          },
          "colorscale": {
           "diverging": [
            [
             0,
             "#8e0152"
            ],
            [
             0.1,
             "#c51b7d"
            ],
            [
             0.2,
             "#de77ae"
            ],
            [
             0.3,
             "#f1b6da"
            ],
            [
             0.4,
             "#fde0ef"
            ],
            [
             0.5,
             "#f7f7f7"
            ],
            [
             0.6,
             "#e6f5d0"
            ],
            [
             0.7,
             "#b8e186"
            ],
            [
             0.8,
             "#7fbc41"
            ],
            [
             0.9,
             "#4d9221"
            ],
            [
             1,
             "#276419"
            ]
           ],
           "sequential": [
            [
             0,
             "#0d0887"
            ],
            [
             0.1111111111111111,
             "#46039f"
            ],
            [
             0.2222222222222222,
             "#7201a8"
            ],
            [
             0.3333333333333333,
             "#9c179e"
            ],
            [
             0.4444444444444444,
             "#bd3786"
            ],
            [
             0.5555555555555556,
             "#d8576b"
            ],
            [
             0.6666666666666666,
             "#ed7953"
            ],
            [
             0.7777777777777778,
             "#fb9f3a"
            ],
            [
             0.8888888888888888,
             "#fdca26"
            ],
            [
             1,
             "#f0f921"
            ]
           ],
           "sequentialminus": [
            [
             0,
             "#0d0887"
            ],
            [
             0.1111111111111111,
             "#46039f"
            ],
            [
             0.2222222222222222,
             "#7201a8"
            ],
            [
             0.3333333333333333,
             "#9c179e"
            ],
            [
             0.4444444444444444,
             "#bd3786"
            ],
            [
             0.5555555555555556,
             "#d8576b"
            ],
            [
             0.6666666666666666,
             "#ed7953"
            ],
            [
             0.7777777777777778,
             "#fb9f3a"
            ],
            [
             0.8888888888888888,
             "#fdca26"
            ],
            [
             1,
             "#f0f921"
            ]
           ]
          },
          "colorway": [
           "#636efa",
           "#EF553B",
           "#00cc96",
           "#ab63fa",
           "#FFA15A",
           "#19d3f3",
           "#FF6692",
           "#B6E880",
           "#FF97FF",
           "#FECB52"
          ],
          "font": {
           "color": "#2a3f5f"
          },
          "geo": {
           "bgcolor": "white",
           "lakecolor": "white",
           "landcolor": "#E5ECF6",
           "showlakes": true,
           "showland": true,
           "subunitcolor": "white"
          },
          "hoverlabel": {
           "align": "left"
          },
          "hovermode": "closest",
          "mapbox": {
           "style": "light"
          },
          "paper_bgcolor": "white",
          "plot_bgcolor": "#E5ECF6",
          "polar": {
           "angularaxis": {
            "gridcolor": "white",
            "linecolor": "white",
            "ticks": ""
           },
           "bgcolor": "#E5ECF6",
           "radialaxis": {
            "gridcolor": "white",
            "linecolor": "white",
            "ticks": ""
           }
          },
          "scene": {
           "xaxis": {
            "backgroundcolor": "#E5ECF6",
            "gridcolor": "white",
            "gridwidth": 2,
            "linecolor": "white",
            "showbackground": true,
            "ticks": "",
            "zerolinecolor": "white"
           },
           "yaxis": {
            "backgroundcolor": "#E5ECF6",
            "gridcolor": "white",
            "gridwidth": 2,
            "linecolor": "white",
            "showbackground": true,
            "ticks": "",
            "zerolinecolor": "white"
           },
           "zaxis": {
            "backgroundcolor": "#E5ECF6",
            "gridcolor": "white",
            "gridwidth": 2,
            "linecolor": "white",
            "showbackground": true,
            "ticks": "",
            "zerolinecolor": "white"
           }
          },
          "shapedefaults": {
           "line": {
            "color": "#2a3f5f"
           }
          },
          "ternary": {
           "aaxis": {
            "gridcolor": "white",
            "linecolor": "white",
            "ticks": ""
           },
           "baxis": {
            "gridcolor": "white",
            "linecolor": "white",
            "ticks": ""
           },
           "bgcolor": "#E5ECF6",
           "caxis": {
            "gridcolor": "white",
            "linecolor": "white",
            "ticks": ""
           }
          },
          "title": {
           "x": 0.05
          },
          "xaxis": {
           "automargin": true,
           "gridcolor": "white",
           "linecolor": "white",
           "ticks": "",
           "title": {
            "standoff": 15
           },
           "zerolinecolor": "white",
           "zerolinewidth": 2
          },
          "yaxis": {
           "automargin": true,
           "gridcolor": "white",
           "linecolor": "white",
           "ticks": "",
           "title": {
            "standoff": 15
           },
           "zerolinecolor": "white",
           "zerolinewidth": 2
          }
         }
        },
        "title": {
         "text": "Plot Title",
         "x": 0,
         "xanchor": "left",
         "xref": "paper",
         "y": 0.87,
         "yanchor": "top"
        },
        "xaxis": {
         "anchor": "y",
         "domain": [
          0,
          1
         ],
         "dtick": 1,
         "linecolor": "black",
         "linewidth": 1,
         "range": [
          2005.5,
          2021.5
         ],
         "showline": true,
         "tickcolor": "black",
         "tickfont": {
          "family": "Arial",
          "size": 14
         },
         "ticklen": 8,
         "ticks": "outside",
         "tickwidth": 1,
         "title": {
          "text": "Jahre"
         }
        },
        "yaxis": {
         "anchor": "x",
         "domain": [
          0,
          1
         ],
         "linecolor": "black",
         "linewidth": 1,
         "range": [
          0,
          3263457453.6
         ],
         "showgrid": false,
         "showline": true,
         "tickcolor": "black",
         "ticklabelposition": "outside",
         "ticklen": 8,
         "ticks": "outside",
         "tickwidth": 1,
         "title": {
          "font": {
           "color": "black",
           "family": "Arial"
          },
          "text": ""
         }
        }
       }
      }
     },
     "metadata": {},
     "output_type": "display_data"
    }
   ],
   "source": [
    "\n",
    "df_fig1 = pd.DataFrame(df.groupby(by=['year'])['records lost'].sum().reset_index())\n",
    "# print(df_fig1.head())\n",
    "fig = px.line(df_fig1, x=\"year\", y=\"records lost\", \n",
    "                        labels={\n",
    "                        \"year\": \"Jahre\",\n",
    "                        \"records lost\": \"\",\n",
    "\n",
    "                        },\n",
    "                        \n",
    "\n",
    "                        title='Testtitle', markers=True)\n",
    "\n",
    "fig.update_xaxes(showgrid=False, title_font_family=\"Arial\", title_font_color=\"black\", col =10)\n",
    "fig.update_yaxes(showgrid=False, title_font_family=\"Arial\", title_font_color=\"black\")\n",
    "fig.update_layout(\n",
    "    title={\n",
    "        'text': \"Plot Title\",\n",
    "        'y':0.87,\n",
    "        'x':0.0,\n",
    "        'xref': \"paper\",\n",
    "        'xanchor': 'left',\n",
    "        'yanchor': 'top'},\n",
    "    plot_bgcolor = \"rgba(0,0,0,0)\",\n",
    "    paper_bgcolor = \"rgba(255,255,255,1)\",\n",
    " \n",
    "    xaxis= dict(\n",
    "        range=[df['year'].max() - 15 - 0.5, df['year'].max() + 0.5],\n",
    "        dtick= 1,\n",
    "        ticks = \"outside\",\n",
    "        tickwidth = 1,\n",
    "        tickcolor = \"black\",\n",
    "        ticklen = 8,\n",
    "        tickfont = dict(family = 'Arial', size = 14),\n",
    "        showline = True,\n",
    "        linewidth = 1,\n",
    "        linecolor = 'black',\n",
    "        \n",
    "        \n",
    "\n",
    "        \n",
    "        ),\n",
    "    yaxis = dict(\n",
    "        range=[0, df_fig1['records lost'].max()*1.2],\n",
    "        ticks = \"outside\",\n",
    "        tickwidth = 1,\n",
    "        tickcolor = \"black\",\n",
    "        ticklen = 8,\n",
    "        ticklabelposition=\"outside\",\n",
    "        showline = True,\n",
    "        linewidth = 1,\n",
    "        linecolor = 'black',\n",
    "        \n",
    "        ),\n",
    "    )\n",
    "\n",
    "fig.update_traces(\n",
    "    marker = dict(\n",
    "        color = 'LightSkyBlue',\n",
    "        size = 10,\n",
    "        opacity = 0.8,\n",
    "    ),\n",
    "    line = dict(\n",
    "        color = 'LightSkyBlue',\n",
    "        width = 2\n",
    "    ),\n",
    ")\n",
    "\n",
    "fig.add_annotation(x=0,y=1.1,\n",
    "\n",
    "                   text=\"entstandener Schaden (in US$)\", #textangle=-90,\n",
    "                    xref=\"paper\",\n",
    "                    valign=\"top\",\n",
    "    yref=\"y domain\", showarrow=False)\n",
    "\n",
    "\n",
    "\n",
    "fig2 = px.scatter(df_fig1.iloc[[8]], x=\"year\", y=\"records lost\")\n",
    "\n",
    "\n",
    "fig2.update_traces(\n",
    "    marker = dict(\n",
    "        color = 'pink',\n",
    "        size = 15,\n",
    "        opacity = 0.5,\n",
    "        \n",
    "\n",
    "    ),\n",
    ")\n",
    "\n",
    "fig.add_trace(fig2.data[0])\n",
    "\n",
    "\n",
    "print(df_fig1.iloc[[10]])    \n",
    "\n",
    "\n",
    "\n",
    "        \n",
    "fig.show()\n",
    "\n",
    "\n"
   ]
  },
  {
   "cell_type": "code",
   "execution_count": 85,
   "metadata": {},
   "outputs": [
    {
     "data": {
      "application/vnd.plotly.v1+json": {
       "config": {
        "plotlyServerURL": "https://plot.ly"
       },
       "data": [
        {
         "hovertemplate": "<b>%{hovertext}</b><br><br>organisation=%{text}<br>Monat Jahr=%{x}<br>entstandener Schaden (in US$)=%{marker.size}<extra></extra>",
         "hovertext": [
          "Twitch"
         ],
         "legendgroup": "Twitch",
         "marker": {
          "color": "#636efa",
          "size": [
           10000000
          ],
          "sizemode": "area",
          "sizeref": 70000,
          "symbol": "circle"
         },
         "mode": "markers",
         "name": "Twitch",
         "orientation": "v",
         "showlegend": true,
         "text": [
          "Twitch"
         ],
         "textposition": "top center",
         "type": "scatter",
         "x": [
          "2021-10-01T00:00:00"
         ],
         "xaxis": "x",
         "y": [
          10000000
         ],
         "yaxis": "y"
        },
        {
         "hovertemplate": "<b>%{hovertext}</b><br><br>organisation=%{text}<br>Monat Jahr=%{x}<br>entstandener Schaden (in US$)=%{marker.size}<extra></extra>",
         "hovertext": [
          "Syniverse"
         ],
         "legendgroup": "Syniverse",
         "marker": {
          "color": "#EF553B",
          "size": [
           500000000
          ],
          "sizemode": "area",
          "sizeref": 70000,
          "symbol": "circle"
         },
         "mode": "markers",
         "name": "Syniverse",
         "orientation": "v",
         "showlegend": true,
         "text": [
          "Syniverse"
         ],
         "textposition": "top center",
         "type": "scatter",
         "x": [
          "2021-09-01T00:00:00"
         ],
         "xaxis": "x",
         "y": [
          500000000
         ],
         "yaxis": "y"
        },
        {
         "hovertemplate": "<b>%{hovertext}</b><br><br>organisation=%{text}<br>Monat Jahr=%{x}<br>entstandener Schaden (in US$)=%{marker.size}<extra></extra>",
         "hovertext": [
          "Pandora Papers"
         ],
         "legendgroup": "Pandora Papers",
         "marker": {
          "color": "#00cc96",
          "size": [
           11900000
          ],
          "sizemode": "area",
          "sizeref": 70000,
          "symbol": "circle"
         },
         "mode": "markers",
         "name": "Pandora Papers",
         "orientation": "v",
         "showlegend": true,
         "text": [
          "Pandora Papers"
         ],
         "textposition": "top center",
         "type": "scatter",
         "x": [
          "2021-10-01T00:00:00"
         ],
         "xaxis": "x",
         "y": [
          11900000
         ],
         "yaxis": "y"
        },
        {
         "hovertemplate": "<b>%{hovertext}</b><br><br>organisation=%{text}<br>Monat Jahr=%{x}<br>entstandener Schaden (in US$)=%{marker.size}<extra></extra>",
         "hovertext": [
          "Neiman Marcus"
         ],
         "legendgroup": "Neiman Marcus",
         "marker": {
          "color": "#ab63fa",
          "size": [
           4600000
          ],
          "sizemode": "area",
          "sizeref": 70000,
          "symbol": "circle"
         },
         "mode": "markers",
         "name": "Neiman Marcus",
         "orientation": "v",
         "showlegend": true,
         "text": [
          "Neiman Marcus"
         ],
         "textposition": "top center",
         "type": "scatter",
         "x": [
          "2021-09-01T00:00:00"
         ],
         "xaxis": "x",
         "y": [
          4600000
         ],
         "yaxis": "y"
        },
        {
         "hovertemplate": "<b>%{hovertext}</b><br><br>organisation=%{text}<br>Monat Jahr=%{x}<br>entstandener Schaden (in US$)=%{marker.size}<extra></extra>",
         "hovertext": [
          "Epik"
         ],
         "legendgroup": "Epik",
         "marker": {
          "color": "#FFA15A",
          "size": [
           15000000
          ],
          "sizemode": "area",
          "sizeref": 70000,
          "symbol": "circle"
         },
         "mode": "markers",
         "name": "Epik",
         "orientation": "v",
         "showlegend": true,
         "text": [
          "Epik"
         ],
         "textposition": "top center",
         "type": "scatter",
         "x": [
          "2021-09-01T00:00:00"
         ],
         "xaxis": "x",
         "y": [
          15000000
         ],
         "yaxis": "y"
        },
        {
         "hovertemplate": "<b>%{hovertext}</b><br><br>organisation=%{text}<br>Monat Jahr=%{x}<br>entstandener Schaden (in US$)=%{marker.size}<extra></extra>",
         "hovertext": [
          "Thailand visitors"
         ],
         "legendgroup": "Thailand visitors",
         "marker": {
          "color": "#19d3f3",
          "size": [
           100000000
          ],
          "sizemode": "area",
          "sizeref": 70000,
          "symbol": "circle"
         },
         "mode": "markers",
         "name": "Thailand visitors",
         "orientation": "v",
         "showlegend": true,
         "text": [
          "Thailand visitors"
         ],
         "textposition": "top center",
         "type": "scatter",
         "x": [
          "2021-09-01T00:00:00"
         ],
         "xaxis": "x",
         "y": [
          100000000
         ],
         "yaxis": "y"
        },
        {
         "hovertemplate": "<b>%{hovertext}</b><br><br>organisation=%{text}<br>Monat Jahr=%{x}<br>entstandener Schaden (in US$)=%{marker.size}<extra></extra>",
         "hovertext": [
          "T-Mobile "
         ],
         "legendgroup": "T-Mobile ",
         "marker": {
          "color": "#FF6692",
          "size": [
           40000000
          ],
          "sizemode": "area",
          "sizeref": 70000,
          "symbol": "circle"
         },
         "mode": "markers",
         "name": "T-Mobile ",
         "orientation": "v",
         "showlegend": true,
         "text": [
          "T-Mobile "
         ],
         "textposition": "top center",
         "type": "scatter",
         "x": [
          "2021-08-01T00:00:00"
         ],
         "xaxis": "x",
         "y": [
          40000000
         ],
         "yaxis": "y"
        },
        {
         "hovertemplate": "<b>%{hovertext}</b><br><br>organisation=%{text}<br>Monat Jahr=%{x}<br>entstandener Schaden (in US$)=%{marker.size}<extra></extra>",
         "hovertext": [
          "Contact tracing data"
         ],
         "legendgroup": "Contact tracing data",
         "marker": {
          "color": "#B6E880",
          "size": [
           38000000
          ],
          "sizemode": "area",
          "sizeref": 70000,
          "symbol": "circle"
         },
         "mode": "markers",
         "name": "Contact tracing data",
         "orientation": "v",
         "showlegend": true,
         "text": [
          "Contact tracing data"
         ],
         "textposition": "top center",
         "type": "scatter",
         "x": [
          "2021-08-01T00:00:00"
         ],
         "xaxis": "x",
         "y": [
          38000000
         ],
         "yaxis": "y"
        },
        {
         "hovertemplate": "<b>%{hovertext}</b><br><br>organisation=%{text}<br>Monat Jahr=%{x}<br>entstandener Schaden (in US$)=%{marker.size}<extra></extra>",
         "hovertext": [
          "Estonian gov"
         ],
         "legendgroup": "Estonian gov",
         "marker": {
          "color": "#FF97FF",
          "size": [
           280000
          ],
          "sizemode": "area",
          "sizeref": 70000,
          "symbol": "circle"
         },
         "mode": "markers",
         "name": "Estonian gov",
         "orientation": "v",
         "showlegend": true,
         "text": [
          "Estonian gov"
         ],
         "textposition": "top center",
         "type": "scatter",
         "x": [
          "2021-07-01T00:00:00"
         ],
         "xaxis": "x",
         "y": [
          280000
         ],
         "yaxis": "y"
        },
        {
         "hovertemplate": "<b>%{hovertext}</b><br><br>organisation=%{text}<br>Monat Jahr=%{x}<br>entstandener Schaden (in US$)=%{marker.size}<extra></extra>",
         "hovertext": [
          "Guntrader"
         ],
         "legendgroup": "Guntrader",
         "marker": {
          "color": "#FECB52",
          "size": [
           111000
          ],
          "sizemode": "area",
          "sizeref": 70000,
          "symbol": "circle"
         },
         "mode": "markers",
         "name": "Guntrader",
         "orientation": "v",
         "showlegend": true,
         "text": [
          "Guntrader"
         ],
         "textposition": "top center",
         "type": "scatter",
         "x": [
          "2021-07-01T00:00:00"
         ],
         "xaxis": "x",
         "y": [
          111000
         ],
         "yaxis": "y"
        },
        {
         "hovertemplate": "<b>%{hovertext}</b><br><br>organisation=%{text}<br>Monat Jahr=%{x}<br>entstandener Schaden (in US$)=%{marker.size}<extra></extra>",
         "hovertext": [
          "Linkedin"
         ],
         "legendgroup": "Linkedin",
         "marker": {
          "color": "#636efa",
          "size": [
           700000000
          ],
          "sizemode": "area",
          "sizeref": 70000,
          "symbol": "circle"
         },
         "mode": "markers",
         "name": "Linkedin",
         "orientation": "v",
         "showlegend": true,
         "text": [
          "Linkedin"
         ],
         "textposition": "top center",
         "type": "scatter",
         "x": [
          "2021-07-01T00:00:00"
         ],
         "xaxis": "x",
         "y": [
          700000000
         ],
         "yaxis": "y"
        },
        {
         "hovertemplate": "<b>%{hovertext}</b><br><br>organisation=%{text}<br>Monat Jahr=%{x}<br>entstandener Schaden (in US$)=%{marker.size}<extra></extra>",
         "hovertext": [
          "VW"
         ],
         "legendgroup": "VW",
         "marker": {
          "color": "#EF553B",
          "size": [
           3300000
          ],
          "sizemode": "area",
          "sizeref": 70000,
          "symbol": "circle"
         },
         "mode": "markers",
         "name": "VW",
         "orientation": "v",
         "showlegend": true,
         "text": [
          "VW"
         ],
         "textposition": "top center",
         "type": "scatter",
         "x": [
          "2021-06-01T00:00:00"
         ],
         "xaxis": "x",
         "y": [
          3300000
         ],
         "yaxis": "y"
        },
        {
         "hovertemplate": "<b>%{hovertext}</b><br><br>organisation=%{text}<br>Monat Jahr=%{x}<br>entstandener Schaden (in US$)=%{marker.size}<extra></extra>",
         "hovertext": [
          "MacDonalds"
         ],
         "legendgroup": "MacDonalds",
         "marker": {
          "color": "#00cc96",
          "size": [
           10000000
          ],
          "sizemode": "area",
          "sizeref": 70000,
          "symbol": "circle"
         },
         "mode": "markers",
         "name": "MacDonalds",
         "orientation": "v",
         "showlegend": true,
         "text": [
          "MacDonalds"
         ],
         "textposition": "top center",
         "type": "scatter",
         "x": [
          "2021-06-01T00:00:00"
         ],
         "xaxis": "x",
         "y": [
          10000000
         ],
         "yaxis": "y"
        },
        {
         "hovertemplate": "<b>%{hovertext}</b><br><br>organisation=%{text}<br>Monat Jahr=%{x}<br>entstandener Schaden (in US$)=%{marker.size}<extra></extra>",
         "hovertext": [
          "Air India"
         ],
         "legendgroup": "Air India",
         "marker": {
          "color": "#ab63fa",
          "size": [
           4500000
          ],
          "sizemode": "area",
          "sizeref": 70000,
          "symbol": "circle"
         },
         "mode": "markers",
         "name": "Air India",
         "orientation": "v",
         "showlegend": true,
         "text": [
          "Air India"
         ],
         "textposition": "top center",
         "type": "scatter",
         "x": [
          "2021-05-01T00:00:00"
         ],
         "xaxis": "x",
         "y": [
          4500000
         ],
         "yaxis": "y"
        },
        {
         "hovertemplate": "<b>%{hovertext}</b><br><br>organisation=%{text}<br>Monat Jahr=%{x}<br>entstandener Schaden (in US$)=%{marker.size}<extra></extra>",
         "hovertext": [
          "Omiai dating app"
         ],
         "legendgroup": "Omiai dating app",
         "marker": {
          "color": "#FFA15A",
          "size": [
           1710000
          ],
          "sizemode": "area",
          "sizeref": 70000,
          "symbol": "circle"
         },
         "mode": "markers",
         "name": "Omiai dating app",
         "orientation": "v",
         "showlegend": true,
         "text": [
          "Omiai dating app"
         ],
         "textposition": "top center",
         "type": "scatter",
         "x": [
          "2021-05-01T00:00:00"
         ],
         "xaxis": "x",
         "y": [
          1710000
         ],
         "yaxis": "y"
        },
        {
         "hovertemplate": "<b>%{hovertext}</b><br><br>organisation=%{text}<br>Monat Jahr=%{x}<br>entstandener Schaden (in US$)=%{marker.size}<extra></extra>",
         "hovertext": [
          "Amazon Reviews"
         ],
         "legendgroup": "Amazon Reviews",
         "marker": {
          "color": "#19d3f3",
          "size": [
           13124962
          ],
          "sizemode": "area",
          "sizeref": 70000,
          "symbol": "circle"
         },
         "mode": "markers",
         "name": "Amazon Reviews",
         "orientation": "v",
         "showlegend": true,
         "text": [
          "Amazon Reviews"
         ],
         "textposition": "top center",
         "type": "scatter",
         "x": [
          "2021-05-01T00:00:00"
         ],
         "xaxis": "x",
         "y": [
          13124962
         ],
         "yaxis": "y"
        },
        {
         "hovertemplate": "<b>%{hovertext}</b><br><br>organisation=%{text}<br>Monat Jahr=%{x}<br>entstandener Schaden (in US$)=%{marker.size}<extra></extra>",
         "hovertext": [
          "Peloton"
         ],
         "legendgroup": "Peloton",
         "marker": {
          "color": "#FF6692",
          "size": [
           3000000
          ],
          "sizemode": "area",
          "sizeref": 70000,
          "symbol": "circle"
         },
         "mode": "markers",
         "name": "Peloton",
         "orientation": "v",
         "showlegend": true,
         "text": [
          "Peloton"
         ],
         "textposition": "top center",
         "type": "scatter",
         "x": [
          "2021-05-01T00:00:00"
         ],
         "xaxis": "x",
         "y": [
          3000000
         ],
         "yaxis": "y"
        },
        {
         "hovertemplate": "<b>%{hovertext}</b><br><br>organisation=%{text}<br>Monat Jahr=%{x}<br>entstandener Schaden (in US$)=%{marker.size}<extra></extra>",
         "hovertext": [
          "Digital Ocean"
         ],
         "legendgroup": "Digital Ocean",
         "marker": {
          "color": "#B6E880",
          "size": [
           10000000
          ],
          "sizemode": "area",
          "sizeref": 70000,
          "symbol": "circle"
         },
         "mode": "markers",
         "name": "Digital Ocean",
         "orientation": "v",
         "showlegend": true,
         "text": [
          "Digital Ocean"
         ],
         "textposition": "top center",
         "type": "scatter",
         "x": [
          "2021-04-01T00:00:00"
         ],
         "xaxis": "x",
         "y": [
          10000000
         ],
         "yaxis": "y"
        },
        {
         "hovertemplate": "<b>%{hovertext}</b><br><br>organisation=%{text}<br>Monat Jahr=%{x}<br>entstandener Schaden (in US$)=%{marker.size}<extra></extra>",
         "hovertext": [
          "Park Mobile"
         ],
         "legendgroup": "Park Mobile",
         "marker": {
          "color": "#FF97FF",
          "size": [
           21000000
          ],
          "sizemode": "area",
          "sizeref": 70000,
          "symbol": "circle"
         },
         "mode": "markers",
         "name": "Park Mobile",
         "orientation": "v",
         "showlegend": true,
         "text": [
          "Park Mobile"
         ],
         "textposition": "top center",
         "type": "scatter",
         "x": [
          "2021-04-01T00:00:00"
         ],
         "xaxis": "x",
         "y": [
          21000000
         ],
         "yaxis": "y"
        },
        {
         "hovertemplate": "<b>%{hovertext}</b><br><br>organisation=%{text}<br>Monat Jahr=%{x}<br>entstandener Schaden (in US$)=%{marker.size}<extra></extra>",
         "hovertext": [
          "Ubiquiti"
         ],
         "legendgroup": "Ubiquiti",
         "marker": {
          "color": "#FECB52",
          "size": [
           16000000
          ],
          "sizemode": "area",
          "sizeref": 70000,
          "symbol": "circle"
         },
         "mode": "markers",
         "name": "Ubiquiti",
         "orientation": "v",
         "showlegend": true,
         "text": [
          "Ubiquiti"
         ],
         "textposition": "top center",
         "type": "scatter",
         "x": [
          "2021-02-01T00:00:00"
         ],
         "xaxis": "x",
         "y": [
          16000000
         ],
         "yaxis": "y"
        },
        {
         "hovertemplate": "<b>%{hovertext}</b><br><br>organisation=%{text}<br>Monat Jahr=%{x}<br>entstandener Schaden (in US$)=%{marker.size}<extra></extra>",
         "hovertext": [
          "Meet Mindful"
         ],
         "legendgroup": "Meet Mindful",
         "marker": {
          "color": "#636efa",
          "size": [
           2240000
          ],
          "sizemode": "area",
          "sizeref": 70000,
          "symbol": "circle"
         },
         "mode": "markers",
         "name": "Meet Mindful",
         "orientation": "v",
         "showlegend": true,
         "text": [
          "Meet Mindful"
         ],
         "textposition": "top center",
         "type": "scatter",
         "x": [
          "2021-02-01T00:00:00"
         ],
         "xaxis": "x",
         "y": [
          2240000
         ],
         "yaxis": "y"
        },
        {
         "hovertemplate": "<b>%{hovertext}</b><br><br>organisation=%{text}<br>Monat Jahr=%{x}<br>entstandener Schaden (in US$)=%{marker.size}<extra></extra>",
         "hovertext": [
          "Experian Brazil"
         ],
         "legendgroup": "Experian Brazil",
         "marker": {
          "color": "#EF553B",
          "size": [
           220000000
          ],
          "sizemode": "area",
          "sizeref": 70000,
          "symbol": "circle"
         },
         "mode": "markers",
         "name": "Experian Brazil",
         "orientation": "v",
         "showlegend": true,
         "text": [
          "Experian Brazil"
         ],
         "textposition": "top center",
         "type": "scatter",
         "x": [
          "2021-02-01T00:00:00"
         ],
         "xaxis": "x",
         "y": [
          220000000
         ],
         "yaxis": "y"
        },
        {
         "hovertemplate": "<b>%{hovertext}</b><br><br>organisation=%{text}<br>Monat Jahr=%{x}<br>entstandener Schaden (in US$)=%{marker.size}<extra></extra>",
         "hovertext": [
          "Gab"
         ],
         "legendgroup": "Gab",
         "marker": {
          "color": "#00cc96",
          "size": [
           4000000
          ],
          "sizemode": "area",
          "sizeref": 70000,
          "symbol": "circle"
         },
         "mode": "markers",
         "name": "Gab",
         "orientation": "v",
         "showlegend": true,
         "text": [
          "Gab"
         ],
         "textposition": "top center",
         "type": "scatter",
         "x": [
          "2021-03-01T00:00:00"
         ],
         "xaxis": "x",
         "y": [
          4000000
         ],
         "yaxis": "y"
        },
        {
         "hovertemplate": "<b>%{hovertext}</b><br><br>organisation=%{text}<br>Monat Jahr=%{x}<br>entstandener Schaden (in US$)=%{marker.size}<extra></extra>",
         "hovertext": [
          "Star Alliance"
         ],
         "legendgroup": "Star Alliance",
         "marker": {
          "color": "#ab63fa",
          "size": [
           16000000
          ],
          "sizemode": "area",
          "sizeref": 70000,
          "symbol": "circle"
         },
         "mode": "markers",
         "name": "Star Alliance",
         "orientation": "v",
         "showlegend": true,
         "text": [
          "Star Alliance"
         ],
         "textposition": "top center",
         "type": "scatter",
         "x": [
          "2021-03-01T00:00:00"
         ],
         "xaxis": "x",
         "y": [
          16000000
         ],
         "yaxis": "y"
        },
        {
         "hovertemplate": "<b>%{hovertext}</b><br><br>organisation=%{text}<br>Monat Jahr=%{x}<br>entstandener Schaden (in US$)=%{marker.size}<extra></extra>",
         "hovertext": [
          "Facebook"
         ],
         "legendgroup": "Facebook",
         "marker": {
          "color": "#FFA15A",
          "size": [
           533000000
          ],
          "sizemode": "area",
          "sizeref": 70000,
          "symbol": "circle"
         },
         "mode": "markers",
         "name": "Facebook",
         "orientation": "v",
         "showlegend": true,
         "text": [
          "Facebook"
         ],
         "textposition": "top center",
         "type": "scatter",
         "x": [
          "2021-03-01T00:00:00"
         ],
         "xaxis": "x",
         "y": [
          533000000
         ],
         "yaxis": "y"
        }
       ],
       "layout": {
        "legend": {
         "itemsizing": "constant",
         "title": {
          "text": "organisation"
         },
         "tracegroupgap": 0
        },
        "paper_bgcolor": "rgba(255,255,255,1)",
        "plot_bgcolor": "rgba(0,0,0,0)",
        "template": {
         "data": {
          "bar": [
           {
            "error_x": {
             "color": "#2a3f5f"
            },
            "error_y": {
             "color": "#2a3f5f"
            },
            "marker": {
             "line": {
              "color": "#E5ECF6",
              "width": 0.5
             },
             "pattern": {
              "fillmode": "overlay",
              "size": 10,
              "solidity": 0.2
             }
            },
            "type": "bar"
           }
          ],
          "barpolar": [
           {
            "marker": {
             "line": {
              "color": "#E5ECF6",
              "width": 0.5
             },
             "pattern": {
              "fillmode": "overlay",
              "size": 10,
              "solidity": 0.2
             }
            },
            "type": "barpolar"
           }
          ],
          "carpet": [
           {
            "aaxis": {
             "endlinecolor": "#2a3f5f",
             "gridcolor": "white",
             "linecolor": "white",
             "minorgridcolor": "white",
             "startlinecolor": "#2a3f5f"
            },
            "baxis": {
             "endlinecolor": "#2a3f5f",
             "gridcolor": "white",
             "linecolor": "white",
             "minorgridcolor": "white",
             "startlinecolor": "#2a3f5f"
            },
            "type": "carpet"
           }
          ],
          "choropleth": [
           {
            "colorbar": {
             "outlinewidth": 0,
             "ticks": ""
            },
            "type": "choropleth"
           }
          ],
          "contour": [
           {
            "colorbar": {
             "outlinewidth": 0,
             "ticks": ""
            },
            "colorscale": [
             [
              0,
              "#0d0887"
             ],
             [
              0.1111111111111111,
              "#46039f"
             ],
             [
              0.2222222222222222,
              "#7201a8"
             ],
             [
              0.3333333333333333,
              "#9c179e"
             ],
             [
              0.4444444444444444,
              "#bd3786"
             ],
             [
              0.5555555555555556,
              "#d8576b"
             ],
             [
              0.6666666666666666,
              "#ed7953"
             ],
             [
              0.7777777777777778,
              "#fb9f3a"
             ],
             [
              0.8888888888888888,
              "#fdca26"
             ],
             [
              1,
              "#f0f921"
             ]
            ],
            "type": "contour"
           }
          ],
          "contourcarpet": [
           {
            "colorbar": {
             "outlinewidth": 0,
             "ticks": ""
            },
            "type": "contourcarpet"
           }
          ],
          "heatmap": [
           {
            "colorbar": {
             "outlinewidth": 0,
             "ticks": ""
            },
            "colorscale": [
             [
              0,
              "#0d0887"
             ],
             [
              0.1111111111111111,
              "#46039f"
             ],
             [
              0.2222222222222222,
              "#7201a8"
             ],
             [
              0.3333333333333333,
              "#9c179e"
             ],
             [
              0.4444444444444444,
              "#bd3786"
             ],
             [
              0.5555555555555556,
              "#d8576b"
             ],
             [
              0.6666666666666666,
              "#ed7953"
             ],
             [
              0.7777777777777778,
              "#fb9f3a"
             ],
             [
              0.8888888888888888,
              "#fdca26"
             ],
             [
              1,
              "#f0f921"
             ]
            ],
            "type": "heatmap"
           }
          ],
          "heatmapgl": [
           {
            "colorbar": {
             "outlinewidth": 0,
             "ticks": ""
            },
            "colorscale": [
             [
              0,
              "#0d0887"
             ],
             [
              0.1111111111111111,
              "#46039f"
             ],
             [
              0.2222222222222222,
              "#7201a8"
             ],
             [
              0.3333333333333333,
              "#9c179e"
             ],
             [
              0.4444444444444444,
              "#bd3786"
             ],
             [
              0.5555555555555556,
              "#d8576b"
             ],
             [
              0.6666666666666666,
              "#ed7953"
             ],
             [
              0.7777777777777778,
              "#fb9f3a"
             ],
             [
              0.8888888888888888,
              "#fdca26"
             ],
             [
              1,
              "#f0f921"
             ]
            ],
            "type": "heatmapgl"
           }
          ],
          "histogram": [
           {
            "marker": {
             "pattern": {
              "fillmode": "overlay",
              "size": 10,
              "solidity": 0.2
             }
            },
            "type": "histogram"
           }
          ],
          "histogram2d": [
           {
            "colorbar": {
             "outlinewidth": 0,
             "ticks": ""
            },
            "colorscale": [
             [
              0,
              "#0d0887"
             ],
             [
              0.1111111111111111,
              "#46039f"
             ],
             [
              0.2222222222222222,
              "#7201a8"
             ],
             [
              0.3333333333333333,
              "#9c179e"
             ],
             [
              0.4444444444444444,
              "#bd3786"
             ],
             [
              0.5555555555555556,
              "#d8576b"
             ],
             [
              0.6666666666666666,
              "#ed7953"
             ],
             [
              0.7777777777777778,
              "#fb9f3a"
             ],
             [
              0.8888888888888888,
              "#fdca26"
             ],
             [
              1,
              "#f0f921"
             ]
            ],
            "type": "histogram2d"
           }
          ],
          "histogram2dcontour": [
           {
            "colorbar": {
             "outlinewidth": 0,
             "ticks": ""
            },
            "colorscale": [
             [
              0,
              "#0d0887"
             ],
             [
              0.1111111111111111,
              "#46039f"
             ],
             [
              0.2222222222222222,
              "#7201a8"
             ],
             [
              0.3333333333333333,
              "#9c179e"
             ],
             [
              0.4444444444444444,
              "#bd3786"
             ],
             [
              0.5555555555555556,
              "#d8576b"
             ],
             [
              0.6666666666666666,
              "#ed7953"
             ],
             [
              0.7777777777777778,
              "#fb9f3a"
             ],
             [
              0.8888888888888888,
              "#fdca26"
             ],
             [
              1,
              "#f0f921"
             ]
            ],
            "type": "histogram2dcontour"
           }
          ],
          "mesh3d": [
           {
            "colorbar": {
             "outlinewidth": 0,
             "ticks": ""
            },
            "type": "mesh3d"
           }
          ],
          "parcoords": [
           {
            "line": {
             "colorbar": {
              "outlinewidth": 0,
              "ticks": ""
             }
            },
            "type": "parcoords"
           }
          ],
          "pie": [
           {
            "automargin": true,
            "type": "pie"
           }
          ],
          "scatter": [
           {
            "marker": {
             "colorbar": {
              "outlinewidth": 0,
              "ticks": ""
             }
            },
            "type": "scatter"
           }
          ],
          "scatter3d": [
           {
            "line": {
             "colorbar": {
              "outlinewidth": 0,
              "ticks": ""
             }
            },
            "marker": {
             "colorbar": {
              "outlinewidth": 0,
              "ticks": ""
             }
            },
            "type": "scatter3d"
           }
          ],
          "scattercarpet": [
           {
            "marker": {
             "colorbar": {
              "outlinewidth": 0,
              "ticks": ""
             }
            },
            "type": "scattercarpet"
           }
          ],
          "scattergeo": [
           {
            "marker": {
             "colorbar": {
              "outlinewidth": 0,
              "ticks": ""
             }
            },
            "type": "scattergeo"
           }
          ],
          "scattergl": [
           {
            "marker": {
             "colorbar": {
              "outlinewidth": 0,
              "ticks": ""
             }
            },
            "type": "scattergl"
           }
          ],
          "scattermapbox": [
           {
            "marker": {
             "colorbar": {
              "outlinewidth": 0,
              "ticks": ""
             }
            },
            "type": "scattermapbox"
           }
          ],
          "scatterpolar": [
           {
            "marker": {
             "colorbar": {
              "outlinewidth": 0,
              "ticks": ""
             }
            },
            "type": "scatterpolar"
           }
          ],
          "scatterpolargl": [
           {
            "marker": {
             "colorbar": {
              "outlinewidth": 0,
              "ticks": ""
             }
            },
            "type": "scatterpolargl"
           }
          ],
          "scatterternary": [
           {
            "marker": {
             "colorbar": {
              "outlinewidth": 0,
              "ticks": ""
             }
            },
            "type": "scatterternary"
           }
          ],
          "surface": [
           {
            "colorbar": {
             "outlinewidth": 0,
             "ticks": ""
            },
            "colorscale": [
             [
              0,
              "#0d0887"
             ],
             [
              0.1111111111111111,
              "#46039f"
             ],
             [
              0.2222222222222222,
              "#7201a8"
             ],
             [
              0.3333333333333333,
              "#9c179e"
             ],
             [
              0.4444444444444444,
              "#bd3786"
             ],
             [
              0.5555555555555556,
              "#d8576b"
             ],
             [
              0.6666666666666666,
              "#ed7953"
             ],
             [
              0.7777777777777778,
              "#fb9f3a"
             ],
             [
              0.8888888888888888,
              "#fdca26"
             ],
             [
              1,
              "#f0f921"
             ]
            ],
            "type": "surface"
           }
          ],
          "table": [
           {
            "cells": {
             "fill": {
              "color": "#EBF0F8"
             },
             "line": {
              "color": "white"
             }
            },
            "header": {
             "fill": {
              "color": "#C8D4E3"
             },
             "line": {
              "color": "white"
             }
            },
            "type": "table"
           }
          ]
         },
         "layout": {
          "annotationdefaults": {
           "arrowcolor": "#2a3f5f",
           "arrowhead": 0,
           "arrowwidth": 1
          },
          "autotypenumbers": "strict",
          "coloraxis": {
           "colorbar": {
            "outlinewidth": 0,
            "ticks": ""
           }
          },
          "colorscale": {
           "diverging": [
            [
             0,
             "#8e0152"
            ],
            [
             0.1,
             "#c51b7d"
            ],
            [
             0.2,
             "#de77ae"
            ],
            [
             0.3,
             "#f1b6da"
            ],
            [
             0.4,
             "#fde0ef"
            ],
            [
             0.5,
             "#f7f7f7"
            ],
            [
             0.6,
             "#e6f5d0"
            ],
            [
             0.7,
             "#b8e186"
            ],
            [
             0.8,
             "#7fbc41"
            ],
            [
             0.9,
             "#4d9221"
            ],
            [
             1,
             "#276419"
            ]
           ],
           "sequential": [
            [
             0,
             "#0d0887"
            ],
            [
             0.1111111111111111,
             "#46039f"
            ],
            [
             0.2222222222222222,
             "#7201a8"
            ],
            [
             0.3333333333333333,
             "#9c179e"
            ],
            [
             0.4444444444444444,
             "#bd3786"
            ],
            [
             0.5555555555555556,
             "#d8576b"
            ],
            [
             0.6666666666666666,
             "#ed7953"
            ],
            [
             0.7777777777777778,
             "#fb9f3a"
            ],
            [
             0.8888888888888888,
             "#fdca26"
            ],
            [
             1,
             "#f0f921"
            ]
           ],
           "sequentialminus": [
            [
             0,
             "#0d0887"
            ],
            [
             0.1111111111111111,
             "#46039f"
            ],
            [
             0.2222222222222222,
             "#7201a8"
            ],
            [
             0.3333333333333333,
             "#9c179e"
            ],
            [
             0.4444444444444444,
             "#bd3786"
            ],
            [
             0.5555555555555556,
             "#d8576b"
            ],
            [
             0.6666666666666666,
             "#ed7953"
            ],
            [
             0.7777777777777778,
             "#fb9f3a"
            ],
            [
             0.8888888888888888,
             "#fdca26"
            ],
            [
             1,
             "#f0f921"
            ]
           ]
          },
          "colorway": [
           "#636efa",
           "#EF553B",
           "#00cc96",
           "#ab63fa",
           "#FFA15A",
           "#19d3f3",
           "#FF6692",
           "#B6E880",
           "#FF97FF",
           "#FECB52"
          ],
          "font": {
           "color": "#2a3f5f"
          },
          "geo": {
           "bgcolor": "white",
           "lakecolor": "white",
           "landcolor": "#E5ECF6",
           "showlakes": true,
           "showland": true,
           "subunitcolor": "white"
          },
          "hoverlabel": {
           "align": "left"
          },
          "hovermode": "closest",
          "mapbox": {
           "style": "light"
          },
          "paper_bgcolor": "white",
          "plot_bgcolor": "#E5ECF6",
          "polar": {
           "angularaxis": {
            "gridcolor": "white",
            "linecolor": "white",
            "ticks": ""
           },
           "bgcolor": "#E5ECF6",
           "radialaxis": {
            "gridcolor": "white",
            "linecolor": "white",
            "ticks": ""
           }
          },
          "scene": {
           "xaxis": {
            "backgroundcolor": "#E5ECF6",
            "gridcolor": "white",
            "gridwidth": 2,
            "linecolor": "white",
            "showbackground": true,
            "ticks": "",
            "zerolinecolor": "white"
           },
           "yaxis": {
            "backgroundcolor": "#E5ECF6",
            "gridcolor": "white",
            "gridwidth": 2,
            "linecolor": "white",
            "showbackground": true,
            "ticks": "",
            "zerolinecolor": "white"
           },
           "zaxis": {
            "backgroundcolor": "#E5ECF6",
            "gridcolor": "white",
            "gridwidth": 2,
            "linecolor": "white",
            "showbackground": true,
            "ticks": "",
            "zerolinecolor": "white"
           }
          },
          "shapedefaults": {
           "line": {
            "color": "#2a3f5f"
           }
          },
          "ternary": {
           "aaxis": {
            "gridcolor": "white",
            "linecolor": "white",
            "ticks": ""
           },
           "baxis": {
            "gridcolor": "white",
            "linecolor": "white",
            "ticks": ""
           },
           "bgcolor": "#E5ECF6",
           "caxis": {
            "gridcolor": "white",
            "linecolor": "white",
            "ticks": ""
           }
          },
          "title": {
           "x": 0.05
          },
          "xaxis": {
           "automargin": true,
           "gridcolor": "white",
           "linecolor": "white",
           "ticks": "",
           "title": {
            "standoff": 15
           },
           "zerolinecolor": "white",
           "zerolinewidth": 2
          },
          "yaxis": {
           "automargin": true,
           "gridcolor": "white",
           "linecolor": "white",
           "ticks": "",
           "title": {
            "standoff": 15
           },
           "zerolinecolor": "white",
           "zerolinewidth": 2
          }
         }
        },
        "title": {
         "text": "Plot Title",
         "x": 0,
         "xanchor": "left",
         "xref": "paper",
         "y": 0.87,
         "yanchor": "top"
        },
        "xaxis": {
         "anchor": "y",
         "domain": [
          0,
          1
         ],
         "linecolor": "black",
         "linewidth": 1,
         "showgrid": false,
         "showline": true,
         "tickcolor": "black",
         "tickfont": {
          "family": "Arial",
          "size": 14
         },
         "ticklen": 8,
         "ticks": "outside",
         "tickwidth": 1,
         "title": {
          "text": "Monat Jahr"
         }
        },
        "yaxis": {
         "anchor": "x",
         "domain": [
          0,
          1
         ],
         "linecolor": "black",
         "linewidth": 1,
         "range": [
          111000,
          1050000000
         ],
         "showgrid": false,
         "showline": true,
         "tick0": 699900000,
         "tickcolor": "black",
         "tickfont": {
          "family": "Arial",
          "size": 14
         },
         "tickformat": "%b\n%Y",
         "ticklabelmode": "period",
         "ticklen": 8,
         "ticks": "outside",
         "tickwidth": 1,
         "title": {
          "text": "entstandener Schaden (in US$)"
         }
        }
       }
      }
     },
     "metadata": {},
     "output_type": "display_data"
    },
    {
     "name": "stdout",
     "output_type": "stream",
     "text": [
      "2022-02-04\n",
      "2022\n",
      "111000.0\n",
      "700000000.0\n"
     ]
    }
   ],
   "source": [
    "date = datetime.date.today()\n",
    "actual_year = int(date.strftime(\"%Y\"))\n",
    "\n",
    "df_fig2 = pd.DataFrame(df[(df['year'] == 2021)])\n",
    "#print(df_fig2.head())\n",
    "\n",
    "\n",
    "\n",
    "\n",
    "fig2 = px.scatter(df_fig2, x=\"date\", y=\"records lost\", \n",
    "\t        size=\"records lost\", color=\"organisation\",\n",
    "                hover_name=\"organisation\", size_max=100, text=\"organisation\", \n",
    "                labels={\n",
    "                        \"date\": \"Monat Jahr\",\n",
    "                        \"records lost\": \"entstandener Schaden (in US$)\",\n",
    "                        },\n",
    "                        title='Testtitle')\n",
    "\n",
    "# fig.update_yaxes(showgrid=False, title_font_family=\"Arial\", title_font_color=\"black\", range=['100 K', '5 B'])\n",
    "\n",
    "\n",
    "fig2.update_layout(\n",
    "        title={\n",
    "        'text': \"Plot Title\",\n",
    "        'y':0.87,\n",
    "        'x':0.0,\n",
    "        'xref': \"paper\",\n",
    "        'xanchor': 'left',\n",
    "        'yanchor': 'top'},\n",
    "        plot_bgcolor = \"rgba(0,0,0,0)\",\n",
    "        paper_bgcolor = \"rgba(255,255,255,1)\",\n",
    "        #uniformtext_minsize = 12 ,\n",
    "        #uniformtext_mode = 'hide',\n",
    "        \n",
    "xaxis= dict(\n",
    "        #tickformat=\"%b\\n%Y\",\n",
    "        #ticklabelmode=\"period\"\n",
    "        # dtick= 500000,\n",
    "        ticks = \"outside\",\n",
    "        tickwidth = 1,\n",
    "        tickcolor = \"black\",\n",
    "        ticklen = 8,\n",
    "        tickfont = dict(family = 'Arial', size = 14),\n",
    "        showline = True,\n",
    "        linewidth = 1,\n",
    "        linecolor = 'black',\n",
    "        showgrid = False,\n",
    "        \n",
    "        \n",
    "\n",
    "        \n",
    "        ),\n",
    "yaxis = dict(\n",
    "        range=[df_fig2['records lost'].min(), df_fig2['records lost'].max()+(df_fig2['records lost'].max()/2)],\n",
    "        tickformat=\"%b\\n%Y\",\n",
    "        ticklabelmode=\"period\",\n",
    "        tick0 = df_fig2['records lost'].max()-100000,\n",
    "        #dtick= 1000000,\n",
    "        ticks = \"outside\",\n",
    "        tickwidth = 1,\n",
    "        tickcolor = \"black\",\n",
    "        ticklen = 8,\n",
    "        tickfont = dict(family = 'Arial', size = 14),\n",
    "        showline = True,\n",
    "        linewidth = 1,\n",
    "        linecolor = 'black',\n",
    "        #zeroline = True,\n",
    "        showgrid = False,\n",
    "        \n",
    ")\n",
    ")\n",
    "\n",
    "#fig.update_layout ( uniformtext_minsize = 4 ,  uniformtext_mode = 'hide' )\n",
    "fig2.update_traces ( mode = \"markers\" )\n",
    "fig2.update_traces(textposition='top center')\n",
    "\n",
    "\n",
    "\n",
    "fig2.show()\n",
    "print(date)\n",
    "print(actual_year)\n",
    "print(df_fig2['records lost'].min())\n",
    "print(df_fig2['records lost'].max())\n"
   ]
  },
  {
   "cell_type": "code",
   "execution_count": 86,
   "metadata": {},
   "outputs": [
    {
     "data": {
      "text/html": [
       "<div>\n",
       "<style scoped>\n",
       "    .dataframe tbody tr th:only-of-type {\n",
       "        vertical-align: middle;\n",
       "    }\n",
       "\n",
       "    .dataframe tbody tr th {\n",
       "        vertical-align: top;\n",
       "    }\n",
       "\n",
       "    .dataframe thead th {\n",
       "        text-align: right;\n",
       "    }\n",
       "</style>\n",
       "<table border=\"1\" class=\"dataframe\">\n",
       "  <thead>\n",
       "    <tr style=\"text-align: right;\">\n",
       "      <th></th>\n",
       "      <th>organisation</th>\n",
       "      <th>alternative name</th>\n",
       "      <th>records lost</th>\n",
       "      <th>year</th>\n",
       "      <th>date</th>\n",
       "      <th>story</th>\n",
       "      <th>sector</th>\n",
       "      <th>method</th>\n",
       "      <th>interesting story</th>\n",
       "      <th>data sensitivity</th>\n",
       "      <th>displayed records</th>\n",
       "      <th>Unnamed: 11</th>\n",
       "      <th>source name</th>\n",
       "      <th>1st source link</th>\n",
       "      <th>2nd source link</th>\n",
       "      <th>ID</th>\n",
       "    </tr>\n",
       "  </thead>\n",
       "  <tbody>\n",
       "    <tr>\n",
       "      <th>1</th>\n",
       "      <td>Twitch</td>\n",
       "      <td>NaN</td>\n",
       "      <td>10000000.0</td>\n",
       "      <td>2021</td>\n",
       "      <td>2021-10-01</td>\n",
       "      <td>Full source code breach of the streaming gamin...</td>\n",
       "      <td>gaming</td>\n",
       "      <td>hacked</td>\n",
       "      <td>y</td>\n",
       "      <td>4.0</td>\n",
       "      <td>unknown</td>\n",
       "      <td>NaN</td>\n",
       "      <td>BBC</td>\n",
       "      <td>https://www.bbc.co.uk/news/technology-58817658</td>\n",
       "      <td>NaN</td>\n",
       "      <td>395.0</td>\n",
       "    </tr>\n",
       "    <tr>\n",
       "      <th>2</th>\n",
       "      <td>Syniverse</td>\n",
       "      <td>NaN</td>\n",
       "      <td>500000000.0</td>\n",
       "      <td>2021</td>\n",
       "      <td>2021-09-01</td>\n",
       "      <td>\"A company that is a critical part of the glob...</td>\n",
       "      <td>telecoms</td>\n",
       "      <td>hacked</td>\n",
       "      <td>NaN</td>\n",
       "      <td>4.0</td>\n",
       "      <td>unknown</td>\n",
       "      <td>NaN</td>\n",
       "      <td>Vice</td>\n",
       "      <td>https://www.vice.com/en/article/z3xpm8/company...</td>\n",
       "      <td>NaN</td>\n",
       "      <td>394.0</td>\n",
       "    </tr>\n",
       "    <tr>\n",
       "      <th>3</th>\n",
       "      <td>Pandora Papers</td>\n",
       "      <td>NaN</td>\n",
       "      <td>11900000.0</td>\n",
       "      <td>2021</td>\n",
       "      <td>2021-10-01</td>\n",
       "      <td>Millions of documents reveal offshore deals an...</td>\n",
       "      <td>government</td>\n",
       "      <td>hacked</td>\n",
       "      <td>y</td>\n",
       "      <td>4.0</td>\n",
       "      <td>NaN</td>\n",
       "      <td>NaN</td>\n",
       "      <td>Guardian</td>\n",
       "      <td>https://www.theguardian.com/news/2021/oct/03/p...</td>\n",
       "      <td>NaN</td>\n",
       "      <td>393.0</td>\n",
       "    </tr>\n",
       "    <tr>\n",
       "      <th>4</th>\n",
       "      <td>Neiman Marcus</td>\n",
       "      <td>NaN</td>\n",
       "      <td>4600000.0</td>\n",
       "      <td>2021</td>\n",
       "      <td>2021-09-01</td>\n",
       "      <td>Occurred sometime in May 2020 after \"an unauth...</td>\n",
       "      <td>retail</td>\n",
       "      <td>hacked</td>\n",
       "      <td>NaN</td>\n",
       "      <td>3.0</td>\n",
       "      <td>NaN</td>\n",
       "      <td>NaN</td>\n",
       "      <td>Ars Technica</td>\n",
       "      <td>https://arstechnica.com/information-technology...</td>\n",
       "      <td>NaN</td>\n",
       "      <td>392.0</td>\n",
       "    </tr>\n",
       "    <tr>\n",
       "      <th>5</th>\n",
       "      <td>Epik</td>\n",
       "      <td>NaN</td>\n",
       "      <td>15000000.0</td>\n",
       "      <td>2021</td>\n",
       "      <td>2021-09-01</td>\n",
       "      <td>An Internet-services company for concealing on...</td>\n",
       "      <td>retail</td>\n",
       "      <td>hacked</td>\n",
       "      <td>y</td>\n",
       "      <td>5.0</td>\n",
       "      <td>NaN</td>\n",
       "      <td>NaN</td>\n",
       "      <td>Ars Technica</td>\n",
       "      <td>https://arstechnica.com/information-technology...</td>\n",
       "      <td>NaN</td>\n",
       "      <td>391.0</td>\n",
       "    </tr>\n",
       "    <tr>\n",
       "      <th>...</th>\n",
       "      <td>...</td>\n",
       "      <td>...</td>\n",
       "      <td>...</td>\n",
       "      <td>...</td>\n",
       "      <td>...</td>\n",
       "      <td>...</td>\n",
       "      <td>...</td>\n",
       "      <td>...</td>\n",
       "      <td>...</td>\n",
       "      <td>...</td>\n",
       "      <td>...</td>\n",
       "      <td>...</td>\n",
       "      <td>...</td>\n",
       "      <td>...</td>\n",
       "      <td>...</td>\n",
       "      <td>...</td>\n",
       "    </tr>\n",
       "    <tr>\n",
       "      <th>388</th>\n",
       "      <td>Hewlett Packard</td>\n",
       "      <td>NaN</td>\n",
       "      <td>200000.0</td>\n",
       "      <td>2006</td>\n",
       "      <td>2006-03-01</td>\n",
       "      <td>A laptop containing employee data was either l...</td>\n",
       "      <td>tech, retail</td>\n",
       "      <td>lost device</td>\n",
       "      <td>y</td>\n",
       "      <td>2.0</td>\n",
       "      <td>NaN</td>\n",
       "      <td>NaN</td>\n",
       "      <td>Computer Weekly</td>\n",
       "      <td>https://www.computerweekly.com/news/2240076956...</td>\n",
       "      <td>NaN</td>\n",
       "      <td>6.0</td>\n",
       "    </tr>\n",
       "    <tr>\n",
       "      <th>389</th>\n",
       "      <td>Ameritrade Inc.</td>\n",
       "      <td>online broker</td>\n",
       "      <td>200000.0</td>\n",
       "      <td>2005</td>\n",
       "      <td>2005-04-01</td>\n",
       "      <td>A computer backup tape containing the personal...</td>\n",
       "      <td>finance</td>\n",
       "      <td>lost device</td>\n",
       "      <td>NaN</td>\n",
       "      <td>2.0</td>\n",
       "      <td>NaN</td>\n",
       "      <td>NaN</td>\n",
       "      <td>NBC</td>\n",
       "      <td>http://www.nbcnews.com/id/7561268/</td>\n",
       "      <td>NaN</td>\n",
       "      <td>5.0</td>\n",
       "    </tr>\n",
       "    <tr>\n",
       "      <th>390</th>\n",
       "      <td>Citigroup</td>\n",
       "      <td>NaN</td>\n",
       "      <td>3900000.0</td>\n",
       "      <td>2005</td>\n",
       "      <td>2005-06-01</td>\n",
       "      <td>A box of computer tapes containing information...</td>\n",
       "      <td>finance</td>\n",
       "      <td>lost device</td>\n",
       "      <td>y</td>\n",
       "      <td>3.0</td>\n",
       "      <td>NaN</td>\n",
       "      <td>NaN</td>\n",
       "      <td>NY Times</td>\n",
       "      <td>http://www.nytimes.com/2005/06/07/business/07d...</td>\n",
       "      <td>NaN</td>\n",
       "      <td>4.0</td>\n",
       "    </tr>\n",
       "    <tr>\n",
       "      <th>391</th>\n",
       "      <td>Cardsystems Solutions Inc.</td>\n",
       "      <td>Third-party payment processor for Visa, Master...</td>\n",
       "      <td>40000000.0</td>\n",
       "      <td>2005</td>\n",
       "      <td>2005-06-01</td>\n",
       "      <td>An unauthorized entity enabled access to cusom...</td>\n",
       "      <td>finance</td>\n",
       "      <td>hacked</td>\n",
       "      <td>y</td>\n",
       "      <td>3.0</td>\n",
       "      <td>NaN</td>\n",
       "      <td>NaN</td>\n",
       "      <td>Wired</td>\n",
       "      <td>https://www.wired.com/2005/06/cardsystems-data...</td>\n",
       "      <td>NaN</td>\n",
       "      <td>3.0</td>\n",
       "    </tr>\n",
       "    <tr>\n",
       "      <th>392</th>\n",
       "      <td>AOL</td>\n",
       "      <td>American Online</td>\n",
       "      <td>92000000.0</td>\n",
       "      <td>2004</td>\n",
       "      <td>2004-06-01</td>\n",
       "      <td>A former America Online software engineer stol...</td>\n",
       "      <td>web</td>\n",
       "      <td>inside job</td>\n",
       "      <td>NaN</td>\n",
       "      <td>1.0</td>\n",
       "      <td>92000000.0</td>\n",
       "      <td>NaN</td>\n",
       "      <td>CNN</td>\n",
       "      <td>http://money.cnn.com/2004/06/23/technology/aol...</td>\n",
       "      <td>NaN</td>\n",
       "      <td>2.0</td>\n",
       "    </tr>\n",
       "  </tbody>\n",
       "</table>\n",
       "<p>392 rows × 16 columns</p>\n",
       "</div>"
      ],
      "text/plain": [
       "                    organisation  \\\n",
       "1                         Twitch   \n",
       "2                      Syniverse   \n",
       "3                 Pandora Papers   \n",
       "4                  Neiman Marcus   \n",
       "5                           Epik   \n",
       "..                           ...   \n",
       "388              Hewlett Packard   \n",
       "389              Ameritrade Inc.   \n",
       "390                    Citigroup   \n",
       "391  Cardsystems Solutions Inc.    \n",
       "392                          AOL   \n",
       "\n",
       "                                      alternative name  records lost  year  \\\n",
       "1                                                  NaN    10000000.0  2021   \n",
       "2                                                  NaN   500000000.0  2021   \n",
       "3                                                  NaN    11900000.0  2021   \n",
       "4                                                  NaN     4600000.0  2021   \n",
       "5                                                  NaN    15000000.0  2021   \n",
       "..                                                 ...           ...   ...   \n",
       "388                                                NaN      200000.0  2006   \n",
       "389                                      online broker      200000.0  2005   \n",
       "390                                                NaN     3900000.0  2005   \n",
       "391  Third-party payment processor for Visa, Master...    40000000.0  2005   \n",
       "392                                    American Online    92000000.0  2004   \n",
       "\n",
       "          date                                              story  \\\n",
       "1   2021-10-01  Full source code breach of the streaming gamin...   \n",
       "2   2021-09-01  \"A company that is a critical part of the glob...   \n",
       "3   2021-10-01  Millions of documents reveal offshore deals an...   \n",
       "4   2021-09-01  Occurred sometime in May 2020 after \"an unauth...   \n",
       "5   2021-09-01  An Internet-services company for concealing on...   \n",
       "..         ...                                                ...   \n",
       "388 2006-03-01  A laptop containing employee data was either l...   \n",
       "389 2005-04-01  A computer backup tape containing the personal...   \n",
       "390 2005-06-01  A box of computer tapes containing information...   \n",
       "391 2005-06-01  An unauthorized entity enabled access to cusom...   \n",
       "392 2004-06-01  A former America Online software engineer stol...   \n",
       "\n",
       "           sector        method interesting story data sensitivity  \\\n",
       "1          gaming        hacked                 y              4.0   \n",
       "2        telecoms        hacked               NaN              4.0   \n",
       "3      government        hacked                 y              4.0   \n",
       "4          retail        hacked               NaN              3.0   \n",
       "5          retail        hacked                 y              5.0   \n",
       "..            ...           ...               ...              ...   \n",
       "388  tech, retail  lost device                  y              2.0   \n",
       "389       finance  lost device                NaN              2.0   \n",
       "390       finance  lost device                  y              3.0   \n",
       "391       finance        hacked                 y              3.0   \n",
       "392           web    inside job               NaN              1.0   \n",
       "\n",
       "    displayed records  Unnamed: 11      source name  \\\n",
       "1             unknown          NaN              BBC   \n",
       "2             unknown          NaN             Vice   \n",
       "3                 NaN          NaN         Guardian   \n",
       "4                 NaN          NaN     Ars Technica   \n",
       "5                 NaN          NaN     Ars Technica   \n",
       "..                ...          ...              ...   \n",
       "388               NaN          NaN  Computer Weekly   \n",
       "389               NaN          NaN              NBC   \n",
       "390               NaN          NaN         NY Times   \n",
       "391               NaN          NaN            Wired   \n",
       "392        92000000.0          NaN              CNN   \n",
       "\n",
       "                                       1st source link 2nd source link     ID  \n",
       "1       https://www.bbc.co.uk/news/technology-58817658             NaN  395.0  \n",
       "2    https://www.vice.com/en/article/z3xpm8/company...             NaN  394.0  \n",
       "3    https://www.theguardian.com/news/2021/oct/03/p...             NaN  393.0  \n",
       "4    https://arstechnica.com/information-technology...             NaN  392.0  \n",
       "5    https://arstechnica.com/information-technology...             NaN  391.0  \n",
       "..                                                 ...             ...    ...  \n",
       "388  https://www.computerweekly.com/news/2240076956...             NaN    6.0  \n",
       "389                 http://www.nbcnews.com/id/7561268/             NaN    5.0  \n",
       "390  http://www.nytimes.com/2005/06/07/business/07d...             NaN    4.0  \n",
       "391  https://www.wired.com/2005/06/cardsystems-data...             NaN    3.0  \n",
       "392  http://money.cnn.com/2004/06/23/technology/aol...             NaN    2.0  \n",
       "\n",
       "[392 rows x 16 columns]"
      ]
     },
     "execution_count": 86,
     "metadata": {},
     "output_type": "execute_result"
    }
   ],
   "source": [
    "df"
   ]
  },
  {
   "cell_type": "code",
   "execution_count": 137,
   "metadata": {},
   "outputs": [
    {
     "name": "stdout",
     "output_type": "stream",
     "text": [
      "    Jahr                         Unternehmen  Schaden in US$\n",
      "0   2004                                 AOL      92000000.0\n",
      "1   2005         Cardsystems Solutions Inc.       40000000.0\n",
      "2   2006              US Dept of Vet Affairs      26500000.0\n",
      "3   2007                        TK / TJ Maxx      94000000.0\n",
      "4   2008                       Auction.co.kr      18000000.0\n",
      "5   2009                           Heartland     130000000.0\n",
      "6   2010  Educational Credit Management Corp       3300000.0\n",
      "7   2011                            Sony PSN      77000000.0\n",
      "8   2012                             Dropbox      68700000.0\n",
      "9   2013                               Yahoo     550000000.0\n",
      "10  2014                                Ebay     145000000.0\n",
      "11  2015                 Deep Root Analytics     198000000.0\n",
      "12  2016                               Yahoo     500000000.0\n",
      "13  2017                             Spambot     520000000.0\n",
      "14  2018                             Aadhaar     550000000.0\n",
      "15  2019                            Facebook     419000000.0\n",
      "16  2020                           Microsoft     250000000.0\n",
      "17  2021                            Linkedin     700000000.0\n"
     ]
    },
    {
     "data": {
      "application/vnd.plotly.v1+json": {
       "config": {
        "plotlyServerURL": "https://plot.ly"
       },
       "data": [
        {
         "cells": {
          "align": "left",
          "fill": {
           "color": "lavender"
          },
          "values": [
           [
            2004,
            2005,
            2006,
            2007,
            2008,
            2009,
            2010,
            2011,
            2012,
            2013,
            2014,
            2015,
            2016,
            2017,
            2018,
            2019,
            2020,
            2021
           ],
           [
            "AOL",
            "Cardsystems Solutions Inc. ",
            "US Dept of Vet Affairs",
            "TK / TJ Maxx",
            "Auction.co.kr",
            "Heartland",
            "Educational Credit Management Corp",
            "Sony PSN",
            "Dropbox",
            "Yahoo",
            "Ebay",
            "Deep Root Analytics",
            "Yahoo",
            "Spambot",
            "Aadhaar",
            "Facebook",
            "Microsoft",
            "Linkedin"
           ],
           [
            92000000,
            40000000,
            26500000,
            94000000,
            18000000,
            130000000,
            3300000,
            77000000,
            68700000,
            550000000,
            145000000,
            198000000,
            500000000,
            520000000,
            550000000,
            419000000,
            250000000,
            700000000
           ]
          ]
         },
         "header": {
          "align": "left",
          "fill": {
           "color": "paleturquoise"
          },
          "values": [
           "Jahr",
           "Unternehmen",
           "Schaden in US$"
          ]
         },
         "type": "table"
        }
       ],
       "layout": {
        "template": {
         "data": {
          "bar": [
           {
            "error_x": {
             "color": "#2a3f5f"
            },
            "error_y": {
             "color": "#2a3f5f"
            },
            "marker": {
             "line": {
              "color": "#E5ECF6",
              "width": 0.5
             },
             "pattern": {
              "fillmode": "overlay",
              "size": 10,
              "solidity": 0.2
             }
            },
            "type": "bar"
           }
          ],
          "barpolar": [
           {
            "marker": {
             "line": {
              "color": "#E5ECF6",
              "width": 0.5
             },
             "pattern": {
              "fillmode": "overlay",
              "size": 10,
              "solidity": 0.2
             }
            },
            "type": "barpolar"
           }
          ],
          "carpet": [
           {
            "aaxis": {
             "endlinecolor": "#2a3f5f",
             "gridcolor": "white",
             "linecolor": "white",
             "minorgridcolor": "white",
             "startlinecolor": "#2a3f5f"
            },
            "baxis": {
             "endlinecolor": "#2a3f5f",
             "gridcolor": "white",
             "linecolor": "white",
             "minorgridcolor": "white",
             "startlinecolor": "#2a3f5f"
            },
            "type": "carpet"
           }
          ],
          "choropleth": [
           {
            "colorbar": {
             "outlinewidth": 0,
             "ticks": ""
            },
            "type": "choropleth"
           }
          ],
          "contour": [
           {
            "colorbar": {
             "outlinewidth": 0,
             "ticks": ""
            },
            "colorscale": [
             [
              0,
              "#0d0887"
             ],
             [
              0.1111111111111111,
              "#46039f"
             ],
             [
              0.2222222222222222,
              "#7201a8"
             ],
             [
              0.3333333333333333,
              "#9c179e"
             ],
             [
              0.4444444444444444,
              "#bd3786"
             ],
             [
              0.5555555555555556,
              "#d8576b"
             ],
             [
              0.6666666666666666,
              "#ed7953"
             ],
             [
              0.7777777777777778,
              "#fb9f3a"
             ],
             [
              0.8888888888888888,
              "#fdca26"
             ],
             [
              1,
              "#f0f921"
             ]
            ],
            "type": "contour"
           }
          ],
          "contourcarpet": [
           {
            "colorbar": {
             "outlinewidth": 0,
             "ticks": ""
            },
            "type": "contourcarpet"
           }
          ],
          "heatmap": [
           {
            "colorbar": {
             "outlinewidth": 0,
             "ticks": ""
            },
            "colorscale": [
             [
              0,
              "#0d0887"
             ],
             [
              0.1111111111111111,
              "#46039f"
             ],
             [
              0.2222222222222222,
              "#7201a8"
             ],
             [
              0.3333333333333333,
              "#9c179e"
             ],
             [
              0.4444444444444444,
              "#bd3786"
             ],
             [
              0.5555555555555556,
              "#d8576b"
             ],
             [
              0.6666666666666666,
              "#ed7953"
             ],
             [
              0.7777777777777778,
              "#fb9f3a"
             ],
             [
              0.8888888888888888,
              "#fdca26"
             ],
             [
              1,
              "#f0f921"
             ]
            ],
            "type": "heatmap"
           }
          ],
          "heatmapgl": [
           {
            "colorbar": {
             "outlinewidth": 0,
             "ticks": ""
            },
            "colorscale": [
             [
              0,
              "#0d0887"
             ],
             [
              0.1111111111111111,
              "#46039f"
             ],
             [
              0.2222222222222222,
              "#7201a8"
             ],
             [
              0.3333333333333333,
              "#9c179e"
             ],
             [
              0.4444444444444444,
              "#bd3786"
             ],
             [
              0.5555555555555556,
              "#d8576b"
             ],
             [
              0.6666666666666666,
              "#ed7953"
             ],
             [
              0.7777777777777778,
              "#fb9f3a"
             ],
             [
              0.8888888888888888,
              "#fdca26"
             ],
             [
              1,
              "#f0f921"
             ]
            ],
            "type": "heatmapgl"
           }
          ],
          "histogram": [
           {
            "marker": {
             "pattern": {
              "fillmode": "overlay",
              "size": 10,
              "solidity": 0.2
             }
            },
            "type": "histogram"
           }
          ],
          "histogram2d": [
           {
            "colorbar": {
             "outlinewidth": 0,
             "ticks": ""
            },
            "colorscale": [
             [
              0,
              "#0d0887"
             ],
             [
              0.1111111111111111,
              "#46039f"
             ],
             [
              0.2222222222222222,
              "#7201a8"
             ],
             [
              0.3333333333333333,
              "#9c179e"
             ],
             [
              0.4444444444444444,
              "#bd3786"
             ],
             [
              0.5555555555555556,
              "#d8576b"
             ],
             [
              0.6666666666666666,
              "#ed7953"
             ],
             [
              0.7777777777777778,
              "#fb9f3a"
             ],
             [
              0.8888888888888888,
              "#fdca26"
             ],
             [
              1,
              "#f0f921"
             ]
            ],
            "type": "histogram2d"
           }
          ],
          "histogram2dcontour": [
           {
            "colorbar": {
             "outlinewidth": 0,
             "ticks": ""
            },
            "colorscale": [
             [
              0,
              "#0d0887"
             ],
             [
              0.1111111111111111,
              "#46039f"
             ],
             [
              0.2222222222222222,
              "#7201a8"
             ],
             [
              0.3333333333333333,
              "#9c179e"
             ],
             [
              0.4444444444444444,
              "#bd3786"
             ],
             [
              0.5555555555555556,
              "#d8576b"
             ],
             [
              0.6666666666666666,
              "#ed7953"
             ],
             [
              0.7777777777777778,
              "#fb9f3a"
             ],
             [
              0.8888888888888888,
              "#fdca26"
             ],
             [
              1,
              "#f0f921"
             ]
            ],
            "type": "histogram2dcontour"
           }
          ],
          "mesh3d": [
           {
            "colorbar": {
             "outlinewidth": 0,
             "ticks": ""
            },
            "type": "mesh3d"
           }
          ],
          "parcoords": [
           {
            "line": {
             "colorbar": {
              "outlinewidth": 0,
              "ticks": ""
             }
            },
            "type": "parcoords"
           }
          ],
          "pie": [
           {
            "automargin": true,
            "type": "pie"
           }
          ],
          "scatter": [
           {
            "marker": {
             "colorbar": {
              "outlinewidth": 0,
              "ticks": ""
             }
            },
            "type": "scatter"
           }
          ],
          "scatter3d": [
           {
            "line": {
             "colorbar": {
              "outlinewidth": 0,
              "ticks": ""
             }
            },
            "marker": {
             "colorbar": {
              "outlinewidth": 0,
              "ticks": ""
             }
            },
            "type": "scatter3d"
           }
          ],
          "scattercarpet": [
           {
            "marker": {
             "colorbar": {
              "outlinewidth": 0,
              "ticks": ""
             }
            },
            "type": "scattercarpet"
           }
          ],
          "scattergeo": [
           {
            "marker": {
             "colorbar": {
              "outlinewidth": 0,
              "ticks": ""
             }
            },
            "type": "scattergeo"
           }
          ],
          "scattergl": [
           {
            "marker": {
             "colorbar": {
              "outlinewidth": 0,
              "ticks": ""
             }
            },
            "type": "scattergl"
           }
          ],
          "scattermapbox": [
           {
            "marker": {
             "colorbar": {
              "outlinewidth": 0,
              "ticks": ""
             }
            },
            "type": "scattermapbox"
           }
          ],
          "scatterpolar": [
           {
            "marker": {
             "colorbar": {
              "outlinewidth": 0,
              "ticks": ""
             }
            },
            "type": "scatterpolar"
           }
          ],
          "scatterpolargl": [
           {
            "marker": {
             "colorbar": {
              "outlinewidth": 0,
              "ticks": ""
             }
            },
            "type": "scatterpolargl"
           }
          ],
          "scatterternary": [
           {
            "marker": {
             "colorbar": {
              "outlinewidth": 0,
              "ticks": ""
             }
            },
            "type": "scatterternary"
           }
          ],
          "surface": [
           {
            "colorbar": {
             "outlinewidth": 0,
             "ticks": ""
            },
            "colorscale": [
             [
              0,
              "#0d0887"
             ],
             [
              0.1111111111111111,
              "#46039f"
             ],
             [
              0.2222222222222222,
              "#7201a8"
             ],
             [
              0.3333333333333333,
              "#9c179e"
             ],
             [
              0.4444444444444444,
              "#bd3786"
             ],
             [
              0.5555555555555556,
              "#d8576b"
             ],
             [
              0.6666666666666666,
              "#ed7953"
             ],
             [
              0.7777777777777778,
              "#fb9f3a"
             ],
             [
              0.8888888888888888,
              "#fdca26"
             ],
             [
              1,
              "#f0f921"
             ]
            ],
            "type": "surface"
           }
          ],
          "table": [
           {
            "cells": {
             "fill": {
              "color": "#EBF0F8"
             },
             "line": {
              "color": "white"
             }
            },
            "header": {
             "fill": {
              "color": "#C8D4E3"
             },
             "line": {
              "color": "white"
             }
            },
            "type": "table"
           }
          ]
         },
         "layout": {
          "annotationdefaults": {
           "arrowcolor": "#2a3f5f",
           "arrowhead": 0,
           "arrowwidth": 1
          },
          "autotypenumbers": "strict",
          "coloraxis": {
           "colorbar": {
            "outlinewidth": 0,
            "ticks": ""
           }
          },
          "colorscale": {
           "diverging": [
            [
             0,
             "#8e0152"
            ],
            [
             0.1,
             "#c51b7d"
            ],
            [
             0.2,
             "#de77ae"
            ],
            [
             0.3,
             "#f1b6da"
            ],
            [
             0.4,
             "#fde0ef"
            ],
            [
             0.5,
             "#f7f7f7"
            ],
            [
             0.6,
             "#e6f5d0"
            ],
            [
             0.7,
             "#b8e186"
            ],
            [
             0.8,
             "#7fbc41"
            ],
            [
             0.9,
             "#4d9221"
            ],
            [
             1,
             "#276419"
            ]
           ],
           "sequential": [
            [
             0,
             "#0d0887"
            ],
            [
             0.1111111111111111,
             "#46039f"
            ],
            [
             0.2222222222222222,
             "#7201a8"
            ],
            [
             0.3333333333333333,
             "#9c179e"
            ],
            [
             0.4444444444444444,
             "#bd3786"
            ],
            [
             0.5555555555555556,
             "#d8576b"
            ],
            [
             0.6666666666666666,
             "#ed7953"
            ],
            [
             0.7777777777777778,
             "#fb9f3a"
            ],
            [
             0.8888888888888888,
             "#fdca26"
            ],
            [
             1,
             "#f0f921"
            ]
           ],
           "sequentialminus": [
            [
             0,
             "#0d0887"
            ],
            [
             0.1111111111111111,
             "#46039f"
            ],
            [
             0.2222222222222222,
             "#7201a8"
            ],
            [
             0.3333333333333333,
             "#9c179e"
            ],
            [
             0.4444444444444444,
             "#bd3786"
            ],
            [
             0.5555555555555556,
             "#d8576b"
            ],
            [
             0.6666666666666666,
             "#ed7953"
            ],
            [
             0.7777777777777778,
             "#fb9f3a"
            ],
            [
             0.8888888888888888,
             "#fdca26"
            ],
            [
             1,
             "#f0f921"
            ]
           ]
          },
          "colorway": [
           "#636efa",
           "#EF553B",
           "#00cc96",
           "#ab63fa",
           "#FFA15A",
           "#19d3f3",
           "#FF6692",
           "#B6E880",
           "#FF97FF",
           "#FECB52"
          ],
          "font": {
           "color": "#2a3f5f"
          },
          "geo": {
           "bgcolor": "white",
           "lakecolor": "white",
           "landcolor": "#E5ECF6",
           "showlakes": true,
           "showland": true,
           "subunitcolor": "white"
          },
          "hoverlabel": {
           "align": "left"
          },
          "hovermode": "closest",
          "mapbox": {
           "style": "light"
          },
          "paper_bgcolor": "white",
          "plot_bgcolor": "#E5ECF6",
          "polar": {
           "angularaxis": {
            "gridcolor": "white",
            "linecolor": "white",
            "ticks": ""
           },
           "bgcolor": "#E5ECF6",
           "radialaxis": {
            "gridcolor": "white",
            "linecolor": "white",
            "ticks": ""
           }
          },
          "scene": {
           "xaxis": {
            "backgroundcolor": "#E5ECF6",
            "gridcolor": "white",
            "gridwidth": 2,
            "linecolor": "white",
            "showbackground": true,
            "ticks": "",
            "zerolinecolor": "white"
           },
           "yaxis": {
            "backgroundcolor": "#E5ECF6",
            "gridcolor": "white",
            "gridwidth": 2,
            "linecolor": "white",
            "showbackground": true,
            "ticks": "",
            "zerolinecolor": "white"
           },
           "zaxis": {
            "backgroundcolor": "#E5ECF6",
            "gridcolor": "white",
            "gridwidth": 2,
            "linecolor": "white",
            "showbackground": true,
            "ticks": "",
            "zerolinecolor": "white"
           }
          },
          "shapedefaults": {
           "line": {
            "color": "#2a3f5f"
           }
          },
          "ternary": {
           "aaxis": {
            "gridcolor": "white",
            "linecolor": "white",
            "ticks": ""
           },
           "baxis": {
            "gridcolor": "white",
            "linecolor": "white",
            "ticks": ""
           },
           "bgcolor": "#E5ECF6",
           "caxis": {
            "gridcolor": "white",
            "linecolor": "white",
            "ticks": ""
           }
          },
          "title": {
           "x": 0.05
          },
          "xaxis": {
           "automargin": true,
           "gridcolor": "white",
           "linecolor": "white",
           "ticks": "",
           "title": {
            "standoff": 15
           },
           "zerolinecolor": "white",
           "zerolinewidth": 2
          },
          "yaxis": {
           "automargin": true,
           "gridcolor": "white",
           "linecolor": "white",
           "ticks": "",
           "title": {
            "standoff": 15
           },
           "zerolinecolor": "white",
           "zerolinewidth": 2
          }
         }
        }
       }
      }
     },
     "metadata": {},
     "output_type": "display_data"
    }
   ],
   "source": [
    "\n",
    "\n",
    " \n",
    "from plotly.colors import n_colors\n",
    "colors = n_colors('rgb(255, 200, 200)', 'rgb(200, 0, 0)', 9, colortype='rgb')\n",
    "\n",
    "\n",
    "df_fig_table = df.groupby('year')['records lost'].max().reset_index()\n",
    "\n",
    "\n",
    "names = []\n",
    "for index, row in df_fig_table.iterrows():\n",
    "  filterd_row =df[(df['year'] == row['year']) & (df['records lost'] == row['records lost'])]\n",
    "  names.append(filterd_row.iloc[0]['organisation'])\n",
    "\n",
    "df_fig_table['organisation'] = names\n",
    "df_fig_table = df_fig_table[['year', 'organisation', 'records lost']]\n",
    "\n",
    "df_fig_table.rename(columns={'year': 'Jahr',\n",
    "                              'organisation': 'Unternehmen',\n",
    "                              'records lost': 'Schaden in US$'}, inplace = True)\n",
    "df_fig_table\n",
    "\n",
    "\n",
    "\n",
    "print(pd.DataFrame(df_fig_table))\n",
    "\n",
    "fig = go.Figure(data=[go.Table(\n",
    "    header=dict(values=list(df_fig_table.columns),\n",
    "                fill_color='paleturquoise',\n",
    "                align='left'),\n",
    "    cells=dict(values=[df_fig_table.Jahr, df_fig_table.Unternehmen, df_fig_table['Schaden in US$']],\n",
    "               fill_color='lavender',\n",
    "               align='left'))\n",
    "])\n",
    "\n",
    "fig.show()"
   ]
  },
  {
   "cell_type": "code",
   "execution_count": 176,
   "metadata": {},
   "outputs": [
    {
     "data": {
      "application/vnd.plotly.v1+json": {
       "config": {
        "plotlyServerURL": "https://plot.ly"
       },
       "data": [
        {
         "cells": {
          "align": "right",
          "fill": {
           "color": [
            "rgb(211, 246, 248)",
            "rgb(211, 246, 248)",
            [
             "rgb(211, 246, 248)",
             "rgb(211, 246, 248)",
             "rgb(211, 246, 248)",
             "rgb(211, 246, 248)",
             "rgb(211, 246, 248)",
             "rgb(211, 246, 248)",
             "rgb(211, 246, 248)",
             "rgb(31, 188, 197)"
            ],
            "rgb(211, 246, 248)"
           ]
          },
          "values": [
           [
            2014,
            2015,
            2016,
            2017,
            2018,
            2019,
            2020,
            2021
           ],
           [
            "Ebay",
            "Deep Root Analytics",
            "Yahoo",
            "Spambot",
            "Aadhaar",
            "Facebook",
            "Microsoft",
            "Linkedin"
           ],
           [
            145,
            198,
            500,
            520,
            550,
            419,
            250,
            700
           ],
           [
            4,
            3.9,
            7,
            3,
            14,
            14.8,
            2.4,
            11.9
           ]
          ]
         },
         "header": {
          "align": "left",
          "fill": {
           "color": "rgb(77, 219, 227)"
          },
          "font": {
           "color": []
          },
          "values": [
           "Jahr",
           "Unternehmen",
           "Schaden in Mio. US$",
           "Median in Mio. US$"
          ]
         },
         "type": "table"
        }
       ],
       "layout": {
        "template": {
         "data": {
          "bar": [
           {
            "error_x": {
             "color": "#2a3f5f"
            },
            "error_y": {
             "color": "#2a3f5f"
            },
            "marker": {
             "line": {
              "color": "#E5ECF6",
              "width": 0.5
             },
             "pattern": {
              "fillmode": "overlay",
              "size": 10,
              "solidity": 0.2
             }
            },
            "type": "bar"
           }
          ],
          "barpolar": [
           {
            "marker": {
             "line": {
              "color": "#E5ECF6",
              "width": 0.5
             },
             "pattern": {
              "fillmode": "overlay",
              "size": 10,
              "solidity": 0.2
             }
            },
            "type": "barpolar"
           }
          ],
          "carpet": [
           {
            "aaxis": {
             "endlinecolor": "#2a3f5f",
             "gridcolor": "white",
             "linecolor": "white",
             "minorgridcolor": "white",
             "startlinecolor": "#2a3f5f"
            },
            "baxis": {
             "endlinecolor": "#2a3f5f",
             "gridcolor": "white",
             "linecolor": "white",
             "minorgridcolor": "white",
             "startlinecolor": "#2a3f5f"
            },
            "type": "carpet"
           }
          ],
          "choropleth": [
           {
            "colorbar": {
             "outlinewidth": 0,
             "ticks": ""
            },
            "type": "choropleth"
           }
          ],
          "contour": [
           {
            "colorbar": {
             "outlinewidth": 0,
             "ticks": ""
            },
            "colorscale": [
             [
              0,
              "#0d0887"
             ],
             [
              0.1111111111111111,
              "#46039f"
             ],
             [
              0.2222222222222222,
              "#7201a8"
             ],
             [
              0.3333333333333333,
              "#9c179e"
             ],
             [
              0.4444444444444444,
              "#bd3786"
             ],
             [
              0.5555555555555556,
              "#d8576b"
             ],
             [
              0.6666666666666666,
              "#ed7953"
             ],
             [
              0.7777777777777778,
              "#fb9f3a"
             ],
             [
              0.8888888888888888,
              "#fdca26"
             ],
             [
              1,
              "#f0f921"
             ]
            ],
            "type": "contour"
           }
          ],
          "contourcarpet": [
           {
            "colorbar": {
             "outlinewidth": 0,
             "ticks": ""
            },
            "type": "contourcarpet"
           }
          ],
          "heatmap": [
           {
            "colorbar": {
             "outlinewidth": 0,
             "ticks": ""
            },
            "colorscale": [
             [
              0,
              "#0d0887"
             ],
             [
              0.1111111111111111,
              "#46039f"
             ],
             [
              0.2222222222222222,
              "#7201a8"
             ],
             [
              0.3333333333333333,
              "#9c179e"
             ],
             [
              0.4444444444444444,
              "#bd3786"
             ],
             [
              0.5555555555555556,
              "#d8576b"
             ],
             [
              0.6666666666666666,
              "#ed7953"
             ],
             [
              0.7777777777777778,
              "#fb9f3a"
             ],
             [
              0.8888888888888888,
              "#fdca26"
             ],
             [
              1,
              "#f0f921"
             ]
            ],
            "type": "heatmap"
           }
          ],
          "heatmapgl": [
           {
            "colorbar": {
             "outlinewidth": 0,
             "ticks": ""
            },
            "colorscale": [
             [
              0,
              "#0d0887"
             ],
             [
              0.1111111111111111,
              "#46039f"
             ],
             [
              0.2222222222222222,
              "#7201a8"
             ],
             [
              0.3333333333333333,
              "#9c179e"
             ],
             [
              0.4444444444444444,
              "#bd3786"
             ],
             [
              0.5555555555555556,
              "#d8576b"
             ],
             [
              0.6666666666666666,
              "#ed7953"
             ],
             [
              0.7777777777777778,
              "#fb9f3a"
             ],
             [
              0.8888888888888888,
              "#fdca26"
             ],
             [
              1,
              "#f0f921"
             ]
            ],
            "type": "heatmapgl"
           }
          ],
          "histogram": [
           {
            "marker": {
             "pattern": {
              "fillmode": "overlay",
              "size": 10,
              "solidity": 0.2
             }
            },
            "type": "histogram"
           }
          ],
          "histogram2d": [
           {
            "colorbar": {
             "outlinewidth": 0,
             "ticks": ""
            },
            "colorscale": [
             [
              0,
              "#0d0887"
             ],
             [
              0.1111111111111111,
              "#46039f"
             ],
             [
              0.2222222222222222,
              "#7201a8"
             ],
             [
              0.3333333333333333,
              "#9c179e"
             ],
             [
              0.4444444444444444,
              "#bd3786"
             ],
             [
              0.5555555555555556,
              "#d8576b"
             ],
             [
              0.6666666666666666,
              "#ed7953"
             ],
             [
              0.7777777777777778,
              "#fb9f3a"
             ],
             [
              0.8888888888888888,
              "#fdca26"
             ],
             [
              1,
              "#f0f921"
             ]
            ],
            "type": "histogram2d"
           }
          ],
          "histogram2dcontour": [
           {
            "colorbar": {
             "outlinewidth": 0,
             "ticks": ""
            },
            "colorscale": [
             [
              0,
              "#0d0887"
             ],
             [
              0.1111111111111111,
              "#46039f"
             ],
             [
              0.2222222222222222,
              "#7201a8"
             ],
             [
              0.3333333333333333,
              "#9c179e"
             ],
             [
              0.4444444444444444,
              "#bd3786"
             ],
             [
              0.5555555555555556,
              "#d8576b"
             ],
             [
              0.6666666666666666,
              "#ed7953"
             ],
             [
              0.7777777777777778,
              "#fb9f3a"
             ],
             [
              0.8888888888888888,
              "#fdca26"
             ],
             [
              1,
              "#f0f921"
             ]
            ],
            "type": "histogram2dcontour"
           }
          ],
          "mesh3d": [
           {
            "colorbar": {
             "outlinewidth": 0,
             "ticks": ""
            },
            "type": "mesh3d"
           }
          ],
          "parcoords": [
           {
            "line": {
             "colorbar": {
              "outlinewidth": 0,
              "ticks": ""
             }
            },
            "type": "parcoords"
           }
          ],
          "pie": [
           {
            "automargin": true,
            "type": "pie"
           }
          ],
          "scatter": [
           {
            "marker": {
             "colorbar": {
              "outlinewidth": 0,
              "ticks": ""
             }
            },
            "type": "scatter"
           }
          ],
          "scatter3d": [
           {
            "line": {
             "colorbar": {
              "outlinewidth": 0,
              "ticks": ""
             }
            },
            "marker": {
             "colorbar": {
              "outlinewidth": 0,
              "ticks": ""
             }
            },
            "type": "scatter3d"
           }
          ],
          "scattercarpet": [
           {
            "marker": {
             "colorbar": {
              "outlinewidth": 0,
              "ticks": ""
             }
            },
            "type": "scattercarpet"
           }
          ],
          "scattergeo": [
           {
            "marker": {
             "colorbar": {
              "outlinewidth": 0,
              "ticks": ""
             }
            },
            "type": "scattergeo"
           }
          ],
          "scattergl": [
           {
            "marker": {
             "colorbar": {
              "outlinewidth": 0,
              "ticks": ""
             }
            },
            "type": "scattergl"
           }
          ],
          "scattermapbox": [
           {
            "marker": {
             "colorbar": {
              "outlinewidth": 0,
              "ticks": ""
             }
            },
            "type": "scattermapbox"
           }
          ],
          "scatterpolar": [
           {
            "marker": {
             "colorbar": {
              "outlinewidth": 0,
              "ticks": ""
             }
            },
            "type": "scatterpolar"
           }
          ],
          "scatterpolargl": [
           {
            "marker": {
             "colorbar": {
              "outlinewidth": 0,
              "ticks": ""
             }
            },
            "type": "scatterpolargl"
           }
          ],
          "scatterternary": [
           {
            "marker": {
             "colorbar": {
              "outlinewidth": 0,
              "ticks": ""
             }
            },
            "type": "scatterternary"
           }
          ],
          "surface": [
           {
            "colorbar": {
             "outlinewidth": 0,
             "ticks": ""
            },
            "colorscale": [
             [
              0,
              "#0d0887"
             ],
             [
              0.1111111111111111,
              "#46039f"
             ],
             [
              0.2222222222222222,
              "#7201a8"
             ],
             [
              0.3333333333333333,
              "#9c179e"
             ],
             [
              0.4444444444444444,
              "#bd3786"
             ],
             [
              0.5555555555555556,
              "#d8576b"
             ],
             [
              0.6666666666666666,
              "#ed7953"
             ],
             [
              0.7777777777777778,
              "#fb9f3a"
             ],
             [
              0.8888888888888888,
              "#fdca26"
             ],
             [
              1,
              "#f0f921"
             ]
            ],
            "type": "surface"
           }
          ],
          "table": [
           {
            "cells": {
             "fill": {
              "color": "#EBF0F8"
             },
             "line": {
              "color": "white"
             }
            },
            "header": {
             "fill": {
              "color": "#C8D4E3"
             },
             "line": {
              "color": "white"
             }
            },
            "type": "table"
           }
          ]
         },
         "layout": {
          "annotationdefaults": {
           "arrowcolor": "#2a3f5f",
           "arrowhead": 0,
           "arrowwidth": 1
          },
          "autotypenumbers": "strict",
          "coloraxis": {
           "colorbar": {
            "outlinewidth": 0,
            "ticks": ""
           }
          },
          "colorscale": {
           "diverging": [
            [
             0,
             "#8e0152"
            ],
            [
             0.1,
             "#c51b7d"
            ],
            [
             0.2,
             "#de77ae"
            ],
            [
             0.3,
             "#f1b6da"
            ],
            [
             0.4,
             "#fde0ef"
            ],
            [
             0.5,
             "#f7f7f7"
            ],
            [
             0.6,
             "#e6f5d0"
            ],
            [
             0.7,
             "#b8e186"
            ],
            [
             0.8,
             "#7fbc41"
            ],
            [
             0.9,
             "#4d9221"
            ],
            [
             1,
             "#276419"
            ]
           ],
           "sequential": [
            [
             0,
             "#0d0887"
            ],
            [
             0.1111111111111111,
             "#46039f"
            ],
            [
             0.2222222222222222,
             "#7201a8"
            ],
            [
             0.3333333333333333,
             "#9c179e"
            ],
            [
             0.4444444444444444,
             "#bd3786"
            ],
            [
             0.5555555555555556,
             "#d8576b"
            ],
            [
             0.6666666666666666,
             "#ed7953"
            ],
            [
             0.7777777777777778,
             "#fb9f3a"
            ],
            [
             0.8888888888888888,
             "#fdca26"
            ],
            [
             1,
             "#f0f921"
            ]
           ],
           "sequentialminus": [
            [
             0,
             "#0d0887"
            ],
            [
             0.1111111111111111,
             "#46039f"
            ],
            [
             0.2222222222222222,
             "#7201a8"
            ],
            [
             0.3333333333333333,
             "#9c179e"
            ],
            [
             0.4444444444444444,
             "#bd3786"
            ],
            [
             0.5555555555555556,
             "#d8576b"
            ],
            [
             0.6666666666666666,
             "#ed7953"
            ],
            [
             0.7777777777777778,
             "#fb9f3a"
            ],
            [
             0.8888888888888888,
             "#fdca26"
            ],
            [
             1,
             "#f0f921"
            ]
           ]
          },
          "colorway": [
           "#636efa",
           "#EF553B",
           "#00cc96",
           "#ab63fa",
           "#FFA15A",
           "#19d3f3",
           "#FF6692",
           "#B6E880",
           "#FF97FF",
           "#FECB52"
          ],
          "font": {
           "color": "#2a3f5f"
          },
          "geo": {
           "bgcolor": "white",
           "lakecolor": "white",
           "landcolor": "#E5ECF6",
           "showlakes": true,
           "showland": true,
           "subunitcolor": "white"
          },
          "hoverlabel": {
           "align": "left"
          },
          "hovermode": "closest",
          "mapbox": {
           "style": "light"
          },
          "paper_bgcolor": "white",
          "plot_bgcolor": "#E5ECF6",
          "polar": {
           "angularaxis": {
            "gridcolor": "white",
            "linecolor": "white",
            "ticks": ""
           },
           "bgcolor": "#E5ECF6",
           "radialaxis": {
            "gridcolor": "white",
            "linecolor": "white",
            "ticks": ""
           }
          },
          "scene": {
           "xaxis": {
            "backgroundcolor": "#E5ECF6",
            "gridcolor": "white",
            "gridwidth": 2,
            "linecolor": "white",
            "showbackground": true,
            "ticks": "",
            "zerolinecolor": "white"
           },
           "yaxis": {
            "backgroundcolor": "#E5ECF6",
            "gridcolor": "white",
            "gridwidth": 2,
            "linecolor": "white",
            "showbackground": true,
            "ticks": "",
            "zerolinecolor": "white"
           },
           "zaxis": {
            "backgroundcolor": "#E5ECF6",
            "gridcolor": "white",
            "gridwidth": 2,
            "linecolor": "white",
            "showbackground": true,
            "ticks": "",
            "zerolinecolor": "white"
           }
          },
          "shapedefaults": {
           "line": {
            "color": "#2a3f5f"
           }
          },
          "ternary": {
           "aaxis": {
            "gridcolor": "white",
            "linecolor": "white",
            "ticks": ""
           },
           "baxis": {
            "gridcolor": "white",
            "linecolor": "white",
            "ticks": ""
           },
           "bgcolor": "#E5ECF6",
           "caxis": {
            "gridcolor": "white",
            "linecolor": "white",
            "ticks": ""
           }
          },
          "title": {
           "x": 0.05
          },
          "xaxis": {
           "automargin": true,
           "gridcolor": "white",
           "linecolor": "white",
           "ticks": "",
           "title": {
            "standoff": 15
           },
           "zerolinecolor": "white",
           "zerolinewidth": 2
          },
          "yaxis": {
           "automargin": true,
           "gridcolor": "white",
           "linecolor": "white",
           "ticks": "",
           "title": {
            "standoff": 15
           },
           "zerolinecolor": "white",
           "zerolinewidth": 2
          }
         }
        }
       }
      }
     },
     "metadata": {},
     "output_type": "display_data"
    }
   ],
   "source": [
    "from plotly.colors import n_colors\n",
    "df_fig_median = df.groupby('year')['records lost'].median().reset_index()\n",
    "df_fig_median.rename(columns={'year': 'Jahr',\n",
    "                              'records lost': 'Median in US$'}, inplace = True)\n",
    "\n",
    "# Median Tabelle in erste einfügen\n",
    "df_fig_all = pd.merge(df_fig_table, df_fig_median, how='inner', on='Jahr')\n",
    "df_fig_all\n",
    "\n",
    "# Schaden Zahlen abkürzen\n",
    "df_fig_all['Schaden in Mio. US$'] = df_fig_all['Schaden in US$'] / 1000000\n",
    "df_fig_all['Median in Mio. US$'] = df_fig_all['Median in US$'] / 1000000\n",
    "del df_fig_all['Schaden in US$']\n",
    "del df_fig_all['Median in US$']\n",
    "\n",
    "#Zeilen löschen nur die letzten acht Jahre anzeigen\n",
    "max_Jahre = df_fig_all['Jahr'].max()\n",
    "# min_Jahre = df_fig_all['Jahr'].min()\n",
    "# for z in range( min_Jahre, max_Jahre - 8):\n",
    "df_fig_all.drop(df_fig_all[df_fig_all['Jahr'] < max_Jahre - 7].index, inplace=True)\n",
    "\n",
    "max_Schaden=df_fig_all['Schaden in Mio. US$'].max()\n",
    "colors = n_colors('rgb(255, 200, 200)', 'rgb(200, 0, 0)', 9, colortype='rgb')\n",
    "color_blue = n_colors('rgb(7,37,66)', 'rgb(7,37,66)', 0, colortype='rgb' )\n",
    "fig = go.Figure(data=[go.Table(\n",
    "    header=dict(values=list(df_fig_all.columns),\n",
    "                fill_color='rgb(77, 219, 227)',\n",
    "                align='left',\n",
    "                font=dict(color=color_blue)),\n",
    "    cells=dict(values=[df_fig_all['Jahr'], df_fig_all['Unternehmen'], df_fig_all['Schaden in Mio. US$'], df_fig_all['Median in Mio. US$']],\n",
    "               fill_color=['rgb(211, 246, 248)','rgb(211, 246, 248)', ['rgb(31, 188, 197)' if x == max_Schaden else 'rgb(211, 246, 248)' for x in list(df_fig_all['Schaden in Mio. US$'])], 'rgb(211, 246, 248)'],\n",
    "               align='right'))\n",
    "])\n",
    "\n",
    "fig.show()"
   ]
  },
  {
   "cell_type": "code",
   "execution_count": null,
   "metadata": {},
   "outputs": [],
   "source": []
  },
  {
   "cell_type": "code",
   "execution_count": 162,
   "metadata": {},
   "outputs": [
    {
     "data": {
      "text/html": [
       "<div>\n",
       "<style scoped>\n",
       "    .dataframe tbody tr th:only-of-type {\n",
       "        vertical-align: middle;\n",
       "    }\n",
       "\n",
       "    .dataframe tbody tr th {\n",
       "        vertical-align: top;\n",
       "    }\n",
       "\n",
       "    .dataframe thead th {\n",
       "        text-align: right;\n",
       "    }\n",
       "</style>\n",
       "<table border=\"1\" class=\"dataframe\">\n",
       "  <thead>\n",
       "    <tr style=\"text-align: right;\">\n",
       "      <th></th>\n",
       "      <th>Jahr</th>\n",
       "      <th>Unternehmen</th>\n",
       "      <th>Schaden in Mio. US$</th>\n",
       "      <th>Median in Mio. US$</th>\n",
       "    </tr>\n",
       "  </thead>\n",
       "  <tbody>\n",
       "    <tr>\n",
       "      <th>0</th>\n",
       "      <td>2004</td>\n",
       "      <td>AOL</td>\n",
       "      <td>92.0</td>\n",
       "      <td>92.000</td>\n",
       "    </tr>\n",
       "    <tr>\n",
       "      <th>1</th>\n",
       "      <td>2005</td>\n",
       "      <td>Cardsystems Solutions Inc.</td>\n",
       "      <td>40.0</td>\n",
       "      <td>3.900</td>\n",
       "    </tr>\n",
       "    <tr>\n",
       "      <th>2</th>\n",
       "      <td>2006</td>\n",
       "      <td>US Dept of Vet Affairs</td>\n",
       "      <td>26.5</td>\n",
       "      <td>4.000</td>\n",
       "    </tr>\n",
       "    <tr>\n",
       "      <th>3</th>\n",
       "      <td>2007</td>\n",
       "      <td>TK / TJ Maxx</td>\n",
       "      <td>94.0</td>\n",
       "      <td>4.650</td>\n",
       "    </tr>\n",
       "    <tr>\n",
       "      <th>4</th>\n",
       "      <td>2008</td>\n",
       "      <td>Auction.co.kr</td>\n",
       "      <td>18.0</td>\n",
       "      <td>2.100</td>\n",
       "    </tr>\n",
       "    <tr>\n",
       "      <th>5</th>\n",
       "      <td>2009</td>\n",
       "      <td>Heartland</td>\n",
       "      <td>130.0</td>\n",
       "      <td>1.500</td>\n",
       "    </tr>\n",
       "    <tr>\n",
       "      <th>6</th>\n",
       "      <td>2010</td>\n",
       "      <td>Educational Credit Management Corp</td>\n",
       "      <td>3.3</td>\n",
       "      <td>0.398</td>\n",
       "    </tr>\n",
       "    <tr>\n",
       "      <th>7</th>\n",
       "      <td>2011</td>\n",
       "      <td>Sony PSN</td>\n",
       "      <td>77.0</td>\n",
       "      <td>0.935</td>\n",
       "    </tr>\n",
       "    <tr>\n",
       "      <th>8</th>\n",
       "      <td>2012</td>\n",
       "      <td>Dropbox</td>\n",
       "      <td>68.7</td>\n",
       "      <td>3.600</td>\n",
       "    </tr>\n",
       "    <tr>\n",
       "      <th>9</th>\n",
       "      <td>2013</td>\n",
       "      <td>Yahoo</td>\n",
       "      <td>550.0</td>\n",
       "      <td>1.500</td>\n",
       "    </tr>\n",
       "    <tr>\n",
       "      <th>10</th>\n",
       "      <td>2014</td>\n",
       "      <td>Ebay</td>\n",
       "      <td>145.0</td>\n",
       "      <td>4.000</td>\n",
       "    </tr>\n",
       "    <tr>\n",
       "      <th>11</th>\n",
       "      <td>2015</td>\n",
       "      <td>Deep Root Analytics</td>\n",
       "      <td>198.0</td>\n",
       "      <td>3.900</td>\n",
       "    </tr>\n",
       "    <tr>\n",
       "      <th>12</th>\n",
       "      <td>2016</td>\n",
       "      <td>Yahoo</td>\n",
       "      <td>500.0</td>\n",
       "      <td>7.000</td>\n",
       "    </tr>\n",
       "    <tr>\n",
       "      <th>13</th>\n",
       "      <td>2017</td>\n",
       "      <td>Spambot</td>\n",
       "      <td>520.0</td>\n",
       "      <td>3.000</td>\n",
       "    </tr>\n",
       "    <tr>\n",
       "      <th>14</th>\n",
       "      <td>2018</td>\n",
       "      <td>Aadhaar</td>\n",
       "      <td>550.0</td>\n",
       "      <td>14.000</td>\n",
       "    </tr>\n",
       "    <tr>\n",
       "      <th>15</th>\n",
       "      <td>2019</td>\n",
       "      <td>Facebook</td>\n",
       "      <td>419.0</td>\n",
       "      <td>14.800</td>\n",
       "    </tr>\n",
       "    <tr>\n",
       "      <th>16</th>\n",
       "      <td>2020</td>\n",
       "      <td>Microsoft</td>\n",
       "      <td>250.0</td>\n",
       "      <td>2.400</td>\n",
       "    </tr>\n",
       "    <tr>\n",
       "      <th>17</th>\n",
       "      <td>2021</td>\n",
       "      <td>Linkedin</td>\n",
       "      <td>700.0</td>\n",
       "      <td>11.900</td>\n",
       "    </tr>\n",
       "  </tbody>\n",
       "</table>\n",
       "</div>"
      ],
      "text/plain": [
       "    Jahr                         Unternehmen  Schaden in Mio. US$  \\\n",
       "0   2004                                 AOL                 92.0   \n",
       "1   2005         Cardsystems Solutions Inc.                  40.0   \n",
       "2   2006              US Dept of Vet Affairs                 26.5   \n",
       "3   2007                        TK / TJ Maxx                 94.0   \n",
       "4   2008                       Auction.co.kr                 18.0   \n",
       "5   2009                           Heartland                130.0   \n",
       "6   2010  Educational Credit Management Corp                  3.3   \n",
       "7   2011                            Sony PSN                 77.0   \n",
       "8   2012                             Dropbox                 68.7   \n",
       "9   2013                               Yahoo                550.0   \n",
       "10  2014                                Ebay                145.0   \n",
       "11  2015                 Deep Root Analytics                198.0   \n",
       "12  2016                               Yahoo                500.0   \n",
       "13  2017                             Spambot                520.0   \n",
       "14  2018                             Aadhaar                550.0   \n",
       "15  2019                            Facebook                419.0   \n",
       "16  2020                           Microsoft                250.0   \n",
       "17  2021                            Linkedin                700.0   \n",
       "\n",
       "    Median in Mio. US$  \n",
       "0               92.000  \n",
       "1                3.900  \n",
       "2                4.000  \n",
       "3                4.650  \n",
       "4                2.100  \n",
       "5                1.500  \n",
       "6                0.398  \n",
       "7                0.935  \n",
       "8                3.600  \n",
       "9                1.500  \n",
       "10               4.000  \n",
       "11               3.900  \n",
       "12               7.000  \n",
       "13               3.000  \n",
       "14              14.000  \n",
       "15              14.800  \n",
       "16               2.400  \n",
       "17              11.900  "
      ]
     },
     "execution_count": 162,
     "metadata": {},
     "output_type": "execute_result"
    }
   ],
   "source": [
    "df_fig_all"
   ]
  },
  {
   "cell_type": "code",
   "execution_count": null,
   "metadata": {},
   "outputs": [
    {
     "data": {
      "text/html": [
       "<div>\n",
       "<style scoped>\n",
       "    .dataframe tbody tr th:only-of-type {\n",
       "        vertical-align: middle;\n",
       "    }\n",
       "\n",
       "    .dataframe tbody tr th {\n",
       "        vertical-align: top;\n",
       "    }\n",
       "\n",
       "    .dataframe thead th {\n",
       "        text-align: right;\n",
       "    }\n",
       "</style>\n",
       "<table border=\"1\" class=\"dataframe\">\n",
       "  <thead>\n",
       "    <tr style=\"text-align: right;\">\n",
       "      <th></th>\n",
       "      <th>organisation</th>\n",
       "      <th>alternative name</th>\n",
       "      <th>records lost</th>\n",
       "      <th>year</th>\n",
       "      <th>date</th>\n",
       "      <th>story</th>\n",
       "      <th>sector</th>\n",
       "      <th>method</th>\n",
       "      <th>interesting story</th>\n",
       "      <th>data sensitivity</th>\n",
       "      <th>displayed records</th>\n",
       "      <th>Unnamed: 11</th>\n",
       "      <th>source name</th>\n",
       "      <th>1st source link</th>\n",
       "      <th>2nd source link</th>\n",
       "      <th>ID</th>\n",
       "    </tr>\n",
       "  </thead>\n",
       "  <tbody>\n",
       "    <tr>\n",
       "      <th>389</th>\n",
       "      <td>Ameritrade Inc.</td>\n",
       "      <td>online broker</td>\n",
       "      <td>200000.0</td>\n",
       "      <td>2005</td>\n",
       "      <td>2005-04-01</td>\n",
       "      <td>A computer backup tape containing the personal...</td>\n",
       "      <td>finance</td>\n",
       "      <td>lost device</td>\n",
       "      <td>NaN</td>\n",
       "      <td>2.0</td>\n",
       "      <td>NaN</td>\n",
       "      <td>NaN</td>\n",
       "      <td>NBC</td>\n",
       "      <td>http://www.nbcnews.com/id/7561268/</td>\n",
       "      <td>NaN</td>\n",
       "      <td>5.0</td>\n",
       "    </tr>\n",
       "    <tr>\n",
       "      <th>390</th>\n",
       "      <td>Citigroup</td>\n",
       "      <td>NaN</td>\n",
       "      <td>3900000.0</td>\n",
       "      <td>2005</td>\n",
       "      <td>2005-06-01</td>\n",
       "      <td>A box of computer tapes containing information...</td>\n",
       "      <td>finance</td>\n",
       "      <td>lost device</td>\n",
       "      <td>y</td>\n",
       "      <td>3.0</td>\n",
       "      <td>NaN</td>\n",
       "      <td>NaN</td>\n",
       "      <td>NY Times</td>\n",
       "      <td>http://www.nytimes.com/2005/06/07/business/07d...</td>\n",
       "      <td>NaN</td>\n",
       "      <td>4.0</td>\n",
       "    </tr>\n",
       "    <tr>\n",
       "      <th>391</th>\n",
       "      <td>Cardsystems Solutions Inc.</td>\n",
       "      <td>Third-party payment processor for Visa, Master...</td>\n",
       "      <td>40000000.0</td>\n",
       "      <td>2005</td>\n",
       "      <td>2005-06-01</td>\n",
       "      <td>An unauthorized entity enabled access to cusom...</td>\n",
       "      <td>finance</td>\n",
       "      <td>hacked</td>\n",
       "      <td>y</td>\n",
       "      <td>3.0</td>\n",
       "      <td>NaN</td>\n",
       "      <td>NaN</td>\n",
       "      <td>Wired</td>\n",
       "      <td>https://www.wired.com/2005/06/cardsystems-data...</td>\n",
       "      <td>NaN</td>\n",
       "      <td>3.0</td>\n",
       "    </tr>\n",
       "  </tbody>\n",
       "</table>\n",
       "</div>"
      ],
      "text/plain": [
       "                    organisation  \\\n",
       "389              Ameritrade Inc.   \n",
       "390                    Citigroup   \n",
       "391  Cardsystems Solutions Inc.    \n",
       "\n",
       "                                      alternative name  records lost  year  \\\n",
       "389                                      online broker      200000.0  2005   \n",
       "390                                                NaN     3900000.0  2005   \n",
       "391  Third-party payment processor for Visa, Master...    40000000.0  2005   \n",
       "\n",
       "          date                                              story   sector  \\\n",
       "389 2005-04-01  A computer backup tape containing the personal...  finance   \n",
       "390 2005-06-01  A box of computer tapes containing information...  finance   \n",
       "391 2005-06-01  An unauthorized entity enabled access to cusom...  finance   \n",
       "\n",
       "           method interesting story data sensitivity displayed records  \\\n",
       "389  lost device                NaN              2.0               NaN   \n",
       "390  lost device                  y              3.0               NaN   \n",
       "391        hacked                 y              3.0               NaN   \n",
       "\n",
       "     Unnamed: 11 source name  \\\n",
       "389          NaN         NBC   \n",
       "390          NaN    NY Times   \n",
       "391          NaN       Wired   \n",
       "\n",
       "                                       1st source link 2nd source link   ID  \n",
       "389                 http://www.nbcnews.com/id/7561268/             NaN  5.0  \n",
       "390  http://www.nytimes.com/2005/06/07/business/07d...             NaN  4.0  \n",
       "391  https://www.wired.com/2005/06/cardsystems-data...             NaN  3.0  "
      ]
     },
     "execution_count": 11,
     "metadata": {},
     "output_type": "execute_result"
    }
   ],
   "source": [
    "#df['organisation_name'] = np.where((df['year'] == 2005) & (df['records lost'] >= df['records lost'].max()*0.005), df['organisation'], '')\n",
    "'''df['organisation_name'] = np.where((df['year'] == 2006) & (df['records lost'] >= df['records lost'].max()*0.005), df['organisation'], '')\n",
    "df['organisation_name'] = np.where((df['year'] == 2007) & (df['records lost'] >= df['records lost'].max()*0.005), df['organisation'], '')\n",
    "df['organisation_name'] = np.where((df['year'] == 2008) & (df['records lost'] >= df['records lost'].max()*0.005), df['organisation'], '')\n",
    "df['organisation_name'] = np.where((df['year'] == 2009) & (df['records lost'] >= df['records lost'].max()*0.005), df['organisation'], '')\n",
    "df['organisation_name'] = np.where((df['year'] == 2010) & (df['records lost'] >= df['records lost'].max()*0.005), df['organisation'], '')\n",
    "df['organisation_name'] = np.where((df['year'] == 2011) & (df['records lost'] >= df['records lost'].max()*0.005), df['organisation'], '')\n",
    "df['organisation_name'] = np.where((df['year'] == 2012) & (df['records lost'] >= df['records lost'].max()*0.005), df['organisation'], '')\n",
    "df['organisation_name'] = np.where((df['year'] == 2013) & (df['records lost'] >= df['records lost'].max()*0.005), df['organisation'], '')\n",
    "df['organisation_name'] = np.where((df['year'] == 2014) & (df['records lost'] >= df['records lost'].max()*0.005), df['organisation'], '')\n",
    "df['organisation_name'] = np.where((df['year'] == 2015) & (df['records lost'] >= df['records lost'].max()*0.005), df['organisation'], '')\n",
    "df['organisation_name'] = np.where((df['year'] == 2016) & (df['records lost'] >= df['records lost'].max()*0.005), df['organisation'], '')\n",
    "df['organisation_name'] = np.where((df['year'] == 2017) & (df['records lost'] >= df['records lost'].max()*0.005), df['organisation'], '')\n",
    "df['organisation_name'] = np.where((df['year'] == 2018) & (df['records lost'] >= df['records lost'].max()*0.005), df['organisation'], '')\n",
    "df['organisation_name'] = np.where((df['year'] == 2019) & (df['records lost'] >= df['records lost'].max()*0.005), df['organisation'], '')\n",
    "df['organisation_name'] = np.where((df['year'] == 2020) & (df['records lost'] >= df['records lost'].max()*0.005), df['organisation'], '')\n",
    "df['organisation_name'] = np.where((df['year'] == 2021) & (df['records lost'] >= df['records lost'].max()*0.005), df['organisation'], '')\n",
    "\n",
    "\n",
    "\n",
    "\n",
    "'''\n",
    "#df[:30:10]\n",
    "df.loc[df['year']==2005]\n"
   ]
  },
  {
   "cell_type": "code",
   "execution_count": null,
   "metadata": {},
   "outputs": [
    {
     "name": "stdout",
     "output_type": "stream",
     "text": [
      "2004 92000000.0\n",
      "2005 92000000.0\n",
      "2006 92000000.0\n",
      "2007 92000000.0\n",
      "2008 92000000.0\n",
      "2009 92000000.0\n",
      "2010 92000000.0\n",
      "2011 92000000.0\n",
      "2012 92000000.0\n",
      "2013 92000000.0\n",
      "2014 92000000.0\n",
      "2015 92000000.0\n",
      "2016 92000000.0\n",
      "2017 92000000.0\n",
      "2018 92000000.0\n",
      "2019 92000000.0\n",
      "2020 92000000.0\n",
      "2021 92000000.0\n"
     ]
    },
    {
     "data": {
      "text/html": [
       "<div>\n",
       "<style scoped>\n",
       "    .dataframe tbody tr th:only-of-type {\n",
       "        vertical-align: middle;\n",
       "    }\n",
       "\n",
       "    .dataframe tbody tr th {\n",
       "        vertical-align: top;\n",
       "    }\n",
       "\n",
       "    .dataframe thead th {\n",
       "        text-align: right;\n",
       "    }\n",
       "</style>\n",
       "<table border=\"1\" class=\"dataframe\">\n",
       "  <thead>\n",
       "    <tr style=\"text-align: right;\">\n",
       "      <th></th>\n",
       "      <th>organisation</th>\n",
       "      <th>alternative name</th>\n",
       "      <th>records lost</th>\n",
       "      <th>year</th>\n",
       "      <th>date</th>\n",
       "      <th>story</th>\n",
       "      <th>sector</th>\n",
       "      <th>method</th>\n",
       "      <th>interesting story</th>\n",
       "      <th>data sensitivity</th>\n",
       "      <th>displayed records</th>\n",
       "      <th>Unnamed: 11</th>\n",
       "      <th>source name</th>\n",
       "      <th>1st source link</th>\n",
       "      <th>2nd source link</th>\n",
       "      <th>ID</th>\n",
       "      <th>organisation_name</th>\n",
       "    </tr>\n",
       "  </thead>\n",
       "  <tbody>\n",
       "    <tr>\n",
       "      <th>1</th>\n",
       "      <td>Twitch</td>\n",
       "      <td>NaN</td>\n",
       "      <td>10000000.0</td>\n",
       "      <td>2021</td>\n",
       "      <td>2021-10-01</td>\n",
       "      <td>Full source code breach of the streaming gamin...</td>\n",
       "      <td>gaming</td>\n",
       "      <td>hacked</td>\n",
       "      <td>y</td>\n",
       "      <td>4.0</td>\n",
       "      <td>unknown</td>\n",
       "      <td>NaN</td>\n",
       "      <td>BBC</td>\n",
       "      <td>https://www.bbc.co.uk/news/technology-58817658</td>\n",
       "      <td>NaN</td>\n",
       "      <td>395.0</td>\n",
       "      <td>Twitch</td>\n",
       "    </tr>\n",
       "    <tr>\n",
       "      <th>2</th>\n",
       "      <td>Syniverse</td>\n",
       "      <td>NaN</td>\n",
       "      <td>500000000.0</td>\n",
       "      <td>2021</td>\n",
       "      <td>2021-09-01</td>\n",
       "      <td>\"A company that is a critical part of the glob...</td>\n",
       "      <td>telecoms</td>\n",
       "      <td>hacked</td>\n",
       "      <td>NaN</td>\n",
       "      <td>4.0</td>\n",
       "      <td>unknown</td>\n",
       "      <td>NaN</td>\n",
       "      <td>Vice</td>\n",
       "      <td>https://www.vice.com/en/article/z3xpm8/company...</td>\n",
       "      <td>NaN</td>\n",
       "      <td>394.0</td>\n",
       "      <td>Syniverse</td>\n",
       "    </tr>\n",
       "    <tr>\n",
       "      <th>3</th>\n",
       "      <td>Pandora Papers</td>\n",
       "      <td>NaN</td>\n",
       "      <td>11900000.0</td>\n",
       "      <td>2021</td>\n",
       "      <td>2021-10-01</td>\n",
       "      <td>Millions of documents reveal offshore deals an...</td>\n",
       "      <td>government</td>\n",
       "      <td>hacked</td>\n",
       "      <td>y</td>\n",
       "      <td>4.0</td>\n",
       "      <td>NaN</td>\n",
       "      <td>NaN</td>\n",
       "      <td>Guardian</td>\n",
       "      <td>https://www.theguardian.com/news/2021/oct/03/p...</td>\n",
       "      <td>NaN</td>\n",
       "      <td>393.0</td>\n",
       "      <td>Pandora Papers</td>\n",
       "    </tr>\n",
       "    <tr>\n",
       "      <th>4</th>\n",
       "      <td>Neiman Marcus</td>\n",
       "      <td>NaN</td>\n",
       "      <td>4600000.0</td>\n",
       "      <td>2021</td>\n",
       "      <td>2021-09-01</td>\n",
       "      <td>Occurred sometime in May 2020 after \"an unauth...</td>\n",
       "      <td>retail</td>\n",
       "      <td>hacked</td>\n",
       "      <td>NaN</td>\n",
       "      <td>3.0</td>\n",
       "      <td>NaN</td>\n",
       "      <td>NaN</td>\n",
       "      <td>Ars Technica</td>\n",
       "      <td>https://arstechnica.com/information-technology...</td>\n",
       "      <td>NaN</td>\n",
       "      <td>392.0</td>\n",
       "      <td>Neiman Marcus</td>\n",
       "    </tr>\n",
       "    <tr>\n",
       "      <th>5</th>\n",
       "      <td>Epik</td>\n",
       "      <td>NaN</td>\n",
       "      <td>15000000.0</td>\n",
       "      <td>2021</td>\n",
       "      <td>2021-09-01</td>\n",
       "      <td>An Internet-services company for concealing on...</td>\n",
       "      <td>retail</td>\n",
       "      <td>hacked</td>\n",
       "      <td>y</td>\n",
       "      <td>5.0</td>\n",
       "      <td>NaN</td>\n",
       "      <td>NaN</td>\n",
       "      <td>Ars Technica</td>\n",
       "      <td>https://arstechnica.com/information-technology...</td>\n",
       "      <td>NaN</td>\n",
       "      <td>391.0</td>\n",
       "      <td>Epik</td>\n",
       "    </tr>\n",
       "    <tr>\n",
       "      <th>...</th>\n",
       "      <td>...</td>\n",
       "      <td>...</td>\n",
       "      <td>...</td>\n",
       "      <td>...</td>\n",
       "      <td>...</td>\n",
       "      <td>...</td>\n",
       "      <td>...</td>\n",
       "      <td>...</td>\n",
       "      <td>...</td>\n",
       "      <td>...</td>\n",
       "      <td>...</td>\n",
       "      <td>...</td>\n",
       "      <td>...</td>\n",
       "      <td>...</td>\n",
       "      <td>...</td>\n",
       "      <td>...</td>\n",
       "      <td>...</td>\n",
       "    </tr>\n",
       "    <tr>\n",
       "      <th>388</th>\n",
       "      <td>Hewlett Packard</td>\n",
       "      <td>NaN</td>\n",
       "      <td>200000.0</td>\n",
       "      <td>2006</td>\n",
       "      <td>2006-03-01</td>\n",
       "      <td>A laptop containing employee data was either l...</td>\n",
       "      <td>tech, retail</td>\n",
       "      <td>lost device</td>\n",
       "      <td>y</td>\n",
       "      <td>2.0</td>\n",
       "      <td>NaN</td>\n",
       "      <td>NaN</td>\n",
       "      <td>Computer Weekly</td>\n",
       "      <td>https://www.computerweekly.com/news/2240076956...</td>\n",
       "      <td>NaN</td>\n",
       "      <td>6.0</td>\n",
       "      <td></td>\n",
       "    </tr>\n",
       "    <tr>\n",
       "      <th>389</th>\n",
       "      <td>Ameritrade Inc.</td>\n",
       "      <td>online broker</td>\n",
       "      <td>200000.0</td>\n",
       "      <td>2005</td>\n",
       "      <td>2005-04-01</td>\n",
       "      <td>A computer backup tape containing the personal...</td>\n",
       "      <td>finance</td>\n",
       "      <td>lost device</td>\n",
       "      <td>NaN</td>\n",
       "      <td>2.0</td>\n",
       "      <td>NaN</td>\n",
       "      <td>NaN</td>\n",
       "      <td>NBC</td>\n",
       "      <td>http://www.nbcnews.com/id/7561268/</td>\n",
       "      <td>NaN</td>\n",
       "      <td>5.0</td>\n",
       "      <td></td>\n",
       "    </tr>\n",
       "    <tr>\n",
       "      <th>390</th>\n",
       "      <td>Citigroup</td>\n",
       "      <td>NaN</td>\n",
       "      <td>3900000.0</td>\n",
       "      <td>2005</td>\n",
       "      <td>2005-06-01</td>\n",
       "      <td>A box of computer tapes containing information...</td>\n",
       "      <td>finance</td>\n",
       "      <td>lost device</td>\n",
       "      <td>y</td>\n",
       "      <td>3.0</td>\n",
       "      <td>NaN</td>\n",
       "      <td>NaN</td>\n",
       "      <td>NY Times</td>\n",
       "      <td>http://www.nytimes.com/2005/06/07/business/07d...</td>\n",
       "      <td>NaN</td>\n",
       "      <td>4.0</td>\n",
       "      <td>Citigroup</td>\n",
       "    </tr>\n",
       "    <tr>\n",
       "      <th>391</th>\n",
       "      <td>Cardsystems Solutions Inc.</td>\n",
       "      <td>Third-party payment processor for Visa, Master...</td>\n",
       "      <td>40000000.0</td>\n",
       "      <td>2005</td>\n",
       "      <td>2005-06-01</td>\n",
       "      <td>An unauthorized entity enabled access to cusom...</td>\n",
       "      <td>finance</td>\n",
       "      <td>hacked</td>\n",
       "      <td>y</td>\n",
       "      <td>3.0</td>\n",
       "      <td>NaN</td>\n",
       "      <td>NaN</td>\n",
       "      <td>Wired</td>\n",
       "      <td>https://www.wired.com/2005/06/cardsystems-data...</td>\n",
       "      <td>NaN</td>\n",
       "      <td>3.0</td>\n",
       "      <td>Cardsystems Solutions Inc.</td>\n",
       "    </tr>\n",
       "    <tr>\n",
       "      <th>392</th>\n",
       "      <td>AOL</td>\n",
       "      <td>American Online</td>\n",
       "      <td>92000000.0</td>\n",
       "      <td>2004</td>\n",
       "      <td>2004-06-01</td>\n",
       "      <td>A former America Online software engineer stol...</td>\n",
       "      <td>web</td>\n",
       "      <td>inside job</td>\n",
       "      <td>NaN</td>\n",
       "      <td>1.0</td>\n",
       "      <td>92000000.0</td>\n",
       "      <td>NaN</td>\n",
       "      <td>CNN</td>\n",
       "      <td>http://money.cnn.com/2004/06/23/technology/aol...</td>\n",
       "      <td>NaN</td>\n",
       "      <td>2.0</td>\n",
       "      <td>AOL</td>\n",
       "    </tr>\n",
       "  </tbody>\n",
       "</table>\n",
       "<p>392 rows × 17 columns</p>\n",
       "</div>"
      ],
      "text/plain": [
       "                    organisation  \\\n",
       "1                         Twitch   \n",
       "2                      Syniverse   \n",
       "3                 Pandora Papers   \n",
       "4                  Neiman Marcus   \n",
       "5                           Epik   \n",
       "..                           ...   \n",
       "388              Hewlett Packard   \n",
       "389              Ameritrade Inc.   \n",
       "390                    Citigroup   \n",
       "391  Cardsystems Solutions Inc.    \n",
       "392                          AOL   \n",
       "\n",
       "                                      alternative name  records lost  year  \\\n",
       "1                                                  NaN    10000000.0  2021   \n",
       "2                                                  NaN   500000000.0  2021   \n",
       "3                                                  NaN    11900000.0  2021   \n",
       "4                                                  NaN     4600000.0  2021   \n",
       "5                                                  NaN    15000000.0  2021   \n",
       "..                                                 ...           ...   ...   \n",
       "388                                                NaN      200000.0  2006   \n",
       "389                                      online broker      200000.0  2005   \n",
       "390                                                NaN     3900000.0  2005   \n",
       "391  Third-party payment processor for Visa, Master...    40000000.0  2005   \n",
       "392                                    American Online    92000000.0  2004   \n",
       "\n",
       "          date                                              story  \\\n",
       "1   2021-10-01  Full source code breach of the streaming gamin...   \n",
       "2   2021-09-01  \"A company that is a critical part of the glob...   \n",
       "3   2021-10-01  Millions of documents reveal offshore deals an...   \n",
       "4   2021-09-01  Occurred sometime in May 2020 after \"an unauth...   \n",
       "5   2021-09-01  An Internet-services company for concealing on...   \n",
       "..         ...                                                ...   \n",
       "388 2006-03-01  A laptop containing employee data was either l...   \n",
       "389 2005-04-01  A computer backup tape containing the personal...   \n",
       "390 2005-06-01  A box of computer tapes containing information...   \n",
       "391 2005-06-01  An unauthorized entity enabled access to cusom...   \n",
       "392 2004-06-01  A former America Online software engineer stol...   \n",
       "\n",
       "           sector        method interesting story data sensitivity  \\\n",
       "1          gaming        hacked                 y              4.0   \n",
       "2        telecoms        hacked               NaN              4.0   \n",
       "3      government        hacked                 y              4.0   \n",
       "4          retail        hacked               NaN              3.0   \n",
       "5          retail        hacked                 y              5.0   \n",
       "..            ...           ...               ...              ...   \n",
       "388  tech, retail  lost device                  y              2.0   \n",
       "389       finance  lost device                NaN              2.0   \n",
       "390       finance  lost device                  y              3.0   \n",
       "391       finance        hacked                 y              3.0   \n",
       "392           web    inside job               NaN              1.0   \n",
       "\n",
       "    displayed records  Unnamed: 11      source name  \\\n",
       "1             unknown          NaN              BBC   \n",
       "2             unknown          NaN             Vice   \n",
       "3                 NaN          NaN         Guardian   \n",
       "4                 NaN          NaN     Ars Technica   \n",
       "5                 NaN          NaN     Ars Technica   \n",
       "..                ...          ...              ...   \n",
       "388               NaN          NaN  Computer Weekly   \n",
       "389               NaN          NaN              NBC   \n",
       "390               NaN          NaN         NY Times   \n",
       "391               NaN          NaN            Wired   \n",
       "392        92000000.0          NaN              CNN   \n",
       "\n",
       "                                       1st source link 2nd source link     ID  \\\n",
       "1       https://www.bbc.co.uk/news/technology-58817658             NaN  395.0   \n",
       "2    https://www.vice.com/en/article/z3xpm8/company...             NaN  394.0   \n",
       "3    https://www.theguardian.com/news/2021/oct/03/p...             NaN  393.0   \n",
       "4    https://arstechnica.com/information-technology...             NaN  392.0   \n",
       "5    https://arstechnica.com/information-technology...             NaN  391.0   \n",
       "..                                                 ...             ...    ...   \n",
       "388  https://www.computerweekly.com/news/2240076956...             NaN    6.0   \n",
       "389                 http://www.nbcnews.com/id/7561268/             NaN    5.0   \n",
       "390  http://www.nytimes.com/2005/06/07/business/07d...             NaN    4.0   \n",
       "391  https://www.wired.com/2005/06/cardsystems-data...             NaN    3.0   \n",
       "392  http://money.cnn.com/2004/06/23/technology/aol...             NaN    2.0   \n",
       "\n",
       "               organisation_name  \n",
       "1                         Twitch  \n",
       "2                      Syniverse  \n",
       "3                 Pandora Papers  \n",
       "4                  Neiman Marcus  \n",
       "5                           Epik  \n",
       "..                           ...  \n",
       "388                               \n",
       "389                               \n",
       "390                    Citigroup  \n",
       "391  Cardsystems Solutions Inc.   \n",
       "392                          AOL  \n",
       "\n",
       "[392 rows x 17 columns]"
      ]
     },
     "execution_count": 64,
     "metadata": {},
     "output_type": "execute_result"
    }
   ],
   "source": [
    "df['organisation_name'] = ''\n",
    "for x in range( 2004, 2022):\n",
    "    #max = df.loc[df['year']== x, 'records lost'].max()\n",
    "    #df.loc[df['year']== x, 'record lost'].max()\n",
    "    print(x, max)\n",
    "    df['organisation_name'] = np.where((df['year'] == x) & (df['records lost'] >= df['records lost'].max()*0.005), df['organisation'], df['organisation_name'])\n",
    "\n",
    "df"
   ]
  },
  {
   "cell_type": "code",
   "execution_count": null,
   "metadata": {},
   "outputs": [
    {
     "data": {
      "text/plain": [
       "2019-02-01    23\n",
       "2011-06-01     9\n",
       "2012-04-01     8\n",
       "2013-07-01     8\n",
       "2018-11-01     8\n",
       "              ..\n",
       "2012-10-01     1\n",
       "2011-02-01     1\n",
       "2011-03-01     1\n",
       "2011-10-01     1\n",
       "2004-06-01     1\n",
       "Name: date, Length: 150, dtype: int64"
      ]
     },
     "execution_count": 13,
     "metadata": {},
     "output_type": "execute_result"
    }
   ],
   "source": [
    "freq = df['date'].value_counts() \n",
    "freq "
   ]
  },
  {
   "cell_type": "code",
   "execution_count": null,
   "metadata": {},
   "outputs": [
    {
     "data": {
      "text/html": [
       "<div>\n",
       "<style scoped>\n",
       "    .dataframe tbody tr th:only-of-type {\n",
       "        vertical-align: middle;\n",
       "    }\n",
       "\n",
       "    .dataframe tbody tr th {\n",
       "        vertical-align: top;\n",
       "    }\n",
       "\n",
       "    .dataframe thead th {\n",
       "        text-align: right;\n",
       "    }\n",
       "</style>\n",
       "<table border=\"1\" class=\"dataframe\">\n",
       "  <thead>\n",
       "    <tr style=\"text-align: right;\">\n",
       "      <th></th>\n",
       "      <th>organisation</th>\n",
       "      <th>alternative name</th>\n",
       "      <th>records lost</th>\n",
       "      <th>year</th>\n",
       "      <th>story</th>\n",
       "      <th>sector</th>\n",
       "      <th>method</th>\n",
       "      <th>interesting story</th>\n",
       "      <th>data sensitivity</th>\n",
       "      <th>displayed records</th>\n",
       "      <th>Unnamed: 11</th>\n",
       "      <th>source name</th>\n",
       "      <th>1st source link</th>\n",
       "      <th>2nd source link</th>\n",
       "      <th>ID</th>\n",
       "      <th>organisation_name</th>\n",
       "    </tr>\n",
       "    <tr>\n",
       "      <th>date</th>\n",
       "      <th></th>\n",
       "      <th></th>\n",
       "      <th></th>\n",
       "      <th></th>\n",
       "      <th></th>\n",
       "      <th></th>\n",
       "      <th></th>\n",
       "      <th></th>\n",
       "      <th></th>\n",
       "      <th></th>\n",
       "      <th></th>\n",
       "      <th></th>\n",
       "      <th></th>\n",
       "      <th></th>\n",
       "      <th></th>\n",
       "      <th></th>\n",
       "    </tr>\n",
       "  </thead>\n",
       "  <tbody>\n",
       "    <tr>\n",
       "      <th>2004-06-01</th>\n",
       "      <td>1</td>\n",
       "      <td>1</td>\n",
       "      <td>1</td>\n",
       "      <td>1</td>\n",
       "      <td>1</td>\n",
       "      <td>1</td>\n",
       "      <td>1</td>\n",
       "      <td>0</td>\n",
       "      <td>1</td>\n",
       "      <td>1</td>\n",
       "      <td>0</td>\n",
       "      <td>1</td>\n",
       "      <td>1</td>\n",
       "      <td>0</td>\n",
       "      <td>1</td>\n",
       "      <td>1</td>\n",
       "    </tr>\n",
       "    <tr>\n",
       "      <th>2005-04-01</th>\n",
       "      <td>1</td>\n",
       "      <td>1</td>\n",
       "      <td>1</td>\n",
       "      <td>1</td>\n",
       "      <td>1</td>\n",
       "      <td>1</td>\n",
       "      <td>1</td>\n",
       "      <td>0</td>\n",
       "      <td>1</td>\n",
       "      <td>0</td>\n",
       "      <td>0</td>\n",
       "      <td>1</td>\n",
       "      <td>1</td>\n",
       "      <td>0</td>\n",
       "      <td>1</td>\n",
       "      <td>1</td>\n",
       "    </tr>\n",
       "    <tr>\n",
       "      <th>2005-06-01</th>\n",
       "      <td>2</td>\n",
       "      <td>1</td>\n",
       "      <td>2</td>\n",
       "      <td>2</td>\n",
       "      <td>2</td>\n",
       "      <td>2</td>\n",
       "      <td>2</td>\n",
       "      <td>2</td>\n",
       "      <td>2</td>\n",
       "      <td>0</td>\n",
       "      <td>0</td>\n",
       "      <td>2</td>\n",
       "      <td>2</td>\n",
       "      <td>0</td>\n",
       "      <td>2</td>\n",
       "      <td>2</td>\n",
       "    </tr>\n",
       "    <tr>\n",
       "      <th>2006-03-01</th>\n",
       "      <td>1</td>\n",
       "      <td>0</td>\n",
       "      <td>1</td>\n",
       "      <td>1</td>\n",
       "      <td>1</td>\n",
       "      <td>1</td>\n",
       "      <td>1</td>\n",
       "      <td>1</td>\n",
       "      <td>1</td>\n",
       "      <td>0</td>\n",
       "      <td>0</td>\n",
       "      <td>1</td>\n",
       "      <td>1</td>\n",
       "      <td>0</td>\n",
       "      <td>1</td>\n",
       "      <td>1</td>\n",
       "    </tr>\n",
       "    <tr>\n",
       "      <th>2006-06-01</th>\n",
       "      <td>1</td>\n",
       "      <td>1</td>\n",
       "      <td>1</td>\n",
       "      <td>1</td>\n",
       "      <td>1</td>\n",
       "      <td>1</td>\n",
       "      <td>1</td>\n",
       "      <td>1</td>\n",
       "      <td>1</td>\n",
       "      <td>0</td>\n",
       "      <td>0</td>\n",
       "      <td>1</td>\n",
       "      <td>1</td>\n",
       "      <td>0</td>\n",
       "      <td>1</td>\n",
       "      <td>1</td>\n",
       "    </tr>\n",
       "    <tr>\n",
       "      <th>...</th>\n",
       "      <td>...</td>\n",
       "      <td>...</td>\n",
       "      <td>...</td>\n",
       "      <td>...</td>\n",
       "      <td>...</td>\n",
       "      <td>...</td>\n",
       "      <td>...</td>\n",
       "      <td>...</td>\n",
       "      <td>...</td>\n",
       "      <td>...</td>\n",
       "      <td>...</td>\n",
       "      <td>...</td>\n",
       "      <td>...</td>\n",
       "      <td>...</td>\n",
       "      <td>...</td>\n",
       "      <td>...</td>\n",
       "    </tr>\n",
       "    <tr>\n",
       "      <th>2021-06-01</th>\n",
       "      <td>2</td>\n",
       "      <td>0</td>\n",
       "      <td>2</td>\n",
       "      <td>2</td>\n",
       "      <td>2</td>\n",
       "      <td>2</td>\n",
       "      <td>2</td>\n",
       "      <td>0</td>\n",
       "      <td>2</td>\n",
       "      <td>1</td>\n",
       "      <td>0</td>\n",
       "      <td>2</td>\n",
       "      <td>2</td>\n",
       "      <td>0</td>\n",
       "      <td>2</td>\n",
       "      <td>2</td>\n",
       "    </tr>\n",
       "    <tr>\n",
       "      <th>2021-07-01</th>\n",
       "      <td>3</td>\n",
       "      <td>1</td>\n",
       "      <td>3</td>\n",
       "      <td>3</td>\n",
       "      <td>3</td>\n",
       "      <td>3</td>\n",
       "      <td>3</td>\n",
       "      <td>0</td>\n",
       "      <td>3</td>\n",
       "      <td>1</td>\n",
       "      <td>0</td>\n",
       "      <td>3</td>\n",
       "      <td>3</td>\n",
       "      <td>0</td>\n",
       "      <td>3</td>\n",
       "      <td>3</td>\n",
       "    </tr>\n",
       "    <tr>\n",
       "      <th>2021-08-01</th>\n",
       "      <td>2</td>\n",
       "      <td>0</td>\n",
       "      <td>2</td>\n",
       "      <td>2</td>\n",
       "      <td>2</td>\n",
       "      <td>2</td>\n",
       "      <td>2</td>\n",
       "      <td>0</td>\n",
       "      <td>2</td>\n",
       "      <td>1</td>\n",
       "      <td>0</td>\n",
       "      <td>2</td>\n",
       "      <td>2</td>\n",
       "      <td>0</td>\n",
       "      <td>2</td>\n",
       "      <td>2</td>\n",
       "    </tr>\n",
       "    <tr>\n",
       "      <th>2021-09-01</th>\n",
       "      <td>4</td>\n",
       "      <td>0</td>\n",
       "      <td>4</td>\n",
       "      <td>4</td>\n",
       "      <td>4</td>\n",
       "      <td>4</td>\n",
       "      <td>4</td>\n",
       "      <td>1</td>\n",
       "      <td>4</td>\n",
       "      <td>2</td>\n",
       "      <td>0</td>\n",
       "      <td>4</td>\n",
       "      <td>4</td>\n",
       "      <td>0</td>\n",
       "      <td>4</td>\n",
       "      <td>4</td>\n",
       "    </tr>\n",
       "    <tr>\n",
       "      <th>2021-10-01</th>\n",
       "      <td>2</td>\n",
       "      <td>0</td>\n",
       "      <td>2</td>\n",
       "      <td>2</td>\n",
       "      <td>2</td>\n",
       "      <td>2</td>\n",
       "      <td>2</td>\n",
       "      <td>2</td>\n",
       "      <td>2</td>\n",
       "      <td>1</td>\n",
       "      <td>0</td>\n",
       "      <td>2</td>\n",
       "      <td>2</td>\n",
       "      <td>0</td>\n",
       "      <td>2</td>\n",
       "      <td>2</td>\n",
       "    </tr>\n",
       "  </tbody>\n",
       "</table>\n",
       "<p>150 rows × 16 columns</p>\n",
       "</div>"
      ],
      "text/plain": [
       "            organisation  alternative name  records lost  year  story  sector  \\\n",
       "date                                                                            \n",
       "2004-06-01             1                 1             1     1      1       1   \n",
       "2005-04-01             1                 1             1     1      1       1   \n",
       "2005-06-01             2                 1             2     2      2       2   \n",
       "2006-03-01             1                 0             1     1      1       1   \n",
       "2006-06-01             1                 1             1     1      1       1   \n",
       "...                  ...               ...           ...   ...    ...     ...   \n",
       "2021-06-01             2                 0             2     2      2       2   \n",
       "2021-07-01             3                 1             3     3      3       3   \n",
       "2021-08-01             2                 0             2     2      2       2   \n",
       "2021-09-01             4                 0             4     4      4       4   \n",
       "2021-10-01             2                 0             2     2      2       2   \n",
       "\n",
       "            method  interesting story  data sensitivity  displayed records  \\\n",
       "date                                                                         \n",
       "2004-06-01       1                  0                 1                  1   \n",
       "2005-04-01       1                  0                 1                  0   \n",
       "2005-06-01       2                  2                 2                  0   \n",
       "2006-03-01       1                  1                 1                  0   \n",
       "2006-06-01       1                  1                 1                  0   \n",
       "...            ...                ...               ...                ...   \n",
       "2021-06-01       2                  0                 2                  1   \n",
       "2021-07-01       3                  0                 3                  1   \n",
       "2021-08-01       2                  0                 2                  1   \n",
       "2021-09-01       4                  1                 4                  2   \n",
       "2021-10-01       2                  2                 2                  1   \n",
       "\n",
       "            Unnamed: 11  source name  1st source link  2nd source link  ID  \\\n",
       "date                                                                         \n",
       "2004-06-01            0            1                1                0   1   \n",
       "2005-04-01            0            1                1                0   1   \n",
       "2005-06-01            0            2                2                0   2   \n",
       "2006-03-01            0            1                1                0   1   \n",
       "2006-06-01            0            1                1                0   1   \n",
       "...                 ...          ...              ...              ...  ..   \n",
       "2021-06-01            0            2                2                0   2   \n",
       "2021-07-01            0            3                3                0   3   \n",
       "2021-08-01            0            2                2                0   2   \n",
       "2021-09-01            0            4                4                0   4   \n",
       "2021-10-01            0            2                2                0   2   \n",
       "\n",
       "            organisation_name  \n",
       "date                           \n",
       "2004-06-01                  1  \n",
       "2005-04-01                  1  \n",
       "2005-06-01                  2  \n",
       "2006-03-01                  1  \n",
       "2006-06-01                  1  \n",
       "...                       ...  \n",
       "2021-06-01                  2  \n",
       "2021-07-01                  3  \n",
       "2021-08-01                  2  \n",
       "2021-09-01                  4  \n",
       "2021-10-01                  2  \n",
       "\n",
       "[150 rows x 16 columns]"
      ]
     },
     "execution_count": 14,
     "metadata": {},
     "output_type": "execute_result"
    }
   ],
   "source": [
    "df_n= df.groupby(['date']).count()\n",
    "df_n\n",
    "#df_n['organisation']\n",
    "#df_n.shape[0]\n",
    "\n",
    "#df.merge(right=df_n, left_index=True, right_on='date')\n"
   ]
  },
  {
   "cell_type": "code",
   "execution_count": null,
   "metadata": {},
   "outputs": [],
   "source": []
  },
  {
   "cell_type": "code",
   "execution_count": null,
   "metadata": {},
   "outputs": [
    {
     "data": {
      "text/html": [
       "<div>\n",
       "<style scoped>\n",
       "    .dataframe tbody tr th:only-of-type {\n",
       "        vertical-align: middle;\n",
       "    }\n",
       "\n",
       "    .dataframe tbody tr th {\n",
       "        vertical-align: top;\n",
       "    }\n",
       "\n",
       "    .dataframe thead th {\n",
       "        text-align: right;\n",
       "    }\n",
       "</style>\n",
       "<table border=\"1\" class=\"dataframe\">\n",
       "  <thead>\n",
       "    <tr style=\"text-align: right;\">\n",
       "      <th></th>\n",
       "      <th>organisation</th>\n",
       "      <th>alternative name</th>\n",
       "      <th>records lost</th>\n",
       "      <th>year</th>\n",
       "      <th>date</th>\n",
       "      <th>story</th>\n",
       "      <th>sector</th>\n",
       "      <th>method</th>\n",
       "      <th>interesting story</th>\n",
       "      <th>data sensitivity</th>\n",
       "      <th>displayed records</th>\n",
       "      <th>Unnamed: 11</th>\n",
       "      <th>source name</th>\n",
       "      <th>1st source link</th>\n",
       "      <th>2nd source link</th>\n",
       "      <th>ID</th>\n",
       "      <th>organisation_name</th>\n",
       "    </tr>\n",
       "  </thead>\n",
       "  <tbody>\n",
       "    <tr>\n",
       "      <th>194</th>\n",
       "      <td>Carefirst</td>\n",
       "      <td>Blue Cross, Blue Shield US medical insurer</td>\n",
       "      <td>1100000.0</td>\n",
       "      <td>2015</td>\n",
       "      <td>2015-05-01</td>\n",
       "      <td>Hackers gained access to a database belonging ...</td>\n",
       "      <td>health</td>\n",
       "      <td>hacked</td>\n",
       "      <td>NaN</td>\n",
       "      <td>1.0</td>\n",
       "      <td>NaN</td>\n",
       "      <td>NaN</td>\n",
       "      <td>Krebs on Security</td>\n",
       "      <td>https://krebsonsecurity.com/2015/05/carefirst-...</td>\n",
       "      <td>NaN</td>\n",
       "      <td>200.0</td>\n",
       "      <td>Twitch</td>\n",
       "    </tr>\n",
       "    <tr>\n",
       "      <th>195</th>\n",
       "      <td>Twitch</td>\n",
       "      <td>Gaming site</td>\n",
       "      <td>10000000.0</td>\n",
       "      <td>2015</td>\n",
       "      <td>2015-03-01</td>\n",
       "      <td>All users were forced to reset their passwords...</td>\n",
       "      <td>health</td>\n",
       "      <td>hacked</td>\n",
       "      <td>NaN</td>\n",
       "      <td>1.0</td>\n",
       "      <td>NaN</td>\n",
       "      <td>NaN</td>\n",
       "      <td>Twitch</td>\n",
       "      <td>http://blog.twitch.tv/2015/03/important-notice...</td>\n",
       "      <td>NaN</td>\n",
       "      <td>199.0</td>\n",
       "      <td>Twitch</td>\n",
       "    </tr>\n",
       "    <tr>\n",
       "      <th>196</th>\n",
       "      <td>Premera</td>\n",
       "      <td>US healthcare provider</td>\n",
       "      <td>11000000.0</td>\n",
       "      <td>2015</td>\n",
       "      <td>2015-03-01</td>\n",
       "      <td>The health insurance firm revealed that its IT...</td>\n",
       "      <td>health</td>\n",
       "      <td>hacked</td>\n",
       "      <td>NaN</td>\n",
       "      <td>5.0</td>\n",
       "      <td>NaN</td>\n",
       "      <td>NaN</td>\n",
       "      <td>Computer Weekly</td>\n",
       "      <td>https://www.computerweekly.com/news/2240242508...</td>\n",
       "      <td>NaN</td>\n",
       "      <td>198.0</td>\n",
       "      <td>Twitch</td>\n",
       "    </tr>\n",
       "    <tr>\n",
       "      <th>197</th>\n",
       "      <td>Uber</td>\n",
       "      <td>NaN</td>\n",
       "      <td>50000.0</td>\n",
       "      <td>2015</td>\n",
       "      <td>2015-02-01</td>\n",
       "      <td>The breach, which occurred in Sep 2014, reveal...</td>\n",
       "      <td>tech, app</td>\n",
       "      <td>poor security</td>\n",
       "      <td>NaN</td>\n",
       "      <td>1.0</td>\n",
       "      <td>NaN</td>\n",
       "      <td>NaN</td>\n",
       "      <td>TechCrunch</td>\n",
       "      <td>https://techcrunch.com/2015/02/27/uber-databas...</td>\n",
       "      <td>NaN</td>\n",
       "      <td>197.0</td>\n",
       "      <td>Twitch</td>\n",
       "    </tr>\n",
       "    <tr>\n",
       "      <th>198</th>\n",
       "      <td>Deep Root Analytics</td>\n",
       "      <td>NaN</td>\n",
       "      <td>198000000.0</td>\n",
       "      <td>2015</td>\n",
       "      <td>2015-12-01</td>\n",
       "      <td>A insecure database containing US voter inform...</td>\n",
       "      <td>web</td>\n",
       "      <td>poor security</td>\n",
       "      <td>NaN</td>\n",
       "      <td>2.0</td>\n",
       "      <td>198000000.0</td>\n",
       "      <td>NaN</td>\n",
       "      <td>Reuters, UpGuard</td>\n",
       "      <td>http://uk.reuters.com/article/us-usa-voters-br...</td>\n",
       "      <td>https://www.upguard.com/breaches/the-rnc-files</td>\n",
       "      <td>196.0</td>\n",
       "      <td>Twitch</td>\n",
       "    </tr>\n",
       "    <tr>\n",
       "      <th>199</th>\n",
       "      <td>Kromtech</td>\n",
       "      <td>MacKeeper software</td>\n",
       "      <td>13000000.0</td>\n",
       "      <td>2015</td>\n",
       "      <td>2015-12-01</td>\n",
       "      <td>A security researcher stumbled on an insecure ...</td>\n",
       "      <td>web</td>\n",
       "      <td>hacked</td>\n",
       "      <td>NaN</td>\n",
       "      <td>1.0</td>\n",
       "      <td>NaN</td>\n",
       "      <td>NaN</td>\n",
       "      <td>BBC</td>\n",
       "      <td>https://www.bbc.co.uk/news/technology-35100330</td>\n",
       "      <td>https://www.reddit.com/r/apple/comments/3wq9fc...</td>\n",
       "      <td>195.0</td>\n",
       "      <td>Twitch</td>\n",
       "    </tr>\n",
       "    <tr>\n",
       "      <th>200</th>\n",
       "      <td>Invest Bank</td>\n",
       "      <td>United Arab Emirates bank</td>\n",
       "      <td>40000.0</td>\n",
       "      <td>2015</td>\n",
       "      <td>2015-12-01</td>\n",
       "      <td>A hacker breached the systems of a UAE bank. T...</td>\n",
       "      <td>finance</td>\n",
       "      <td>hacked</td>\n",
       "      <td>NaN</td>\n",
       "      <td>4.0</td>\n",
       "      <td>NaN</td>\n",
       "      <td>NaN</td>\n",
       "      <td>Daily Dot</td>\n",
       "      <td>https://www.dailydot.com/debug/invest-bank-hac...</td>\n",
       "      <td>NaN</td>\n",
       "      <td>194.0</td>\n",
       "      <td>Twitch</td>\n",
       "    </tr>\n",
       "    <tr>\n",
       "      <th>201</th>\n",
       "      <td>Sanrio</td>\n",
       "      <td>Hello Kitty and other franchises</td>\n",
       "      <td>3300000.0</td>\n",
       "      <td>2015</td>\n",
       "      <td>2015-12-01</td>\n",
       "      <td>A researcher accessed a database containing lo...</td>\n",
       "      <td>web</td>\n",
       "      <td>poor security</td>\n",
       "      <td>NaN</td>\n",
       "      <td>2.0</td>\n",
       "      <td>NaN</td>\n",
       "      <td>NaN</td>\n",
       "      <td>CSO Online</td>\n",
       "      <td>https://www.csoonline.com/article/3017171/data...</td>\n",
       "      <td>NaN</td>\n",
       "      <td>193.0</td>\n",
       "      <td>Twitch</td>\n",
       "    </tr>\n",
       "    <tr>\n",
       "      <th>202</th>\n",
       "      <td>VTech</td>\n",
       "      <td>Toymaker company</td>\n",
       "      <td>6400000.0</td>\n",
       "      <td>2015</td>\n",
       "      <td>2015-12-01</td>\n",
       "      <td>The toy maker was targeted by a hacker who sto...</td>\n",
       "      <td>web</td>\n",
       "      <td>hacked</td>\n",
       "      <td>NaN</td>\n",
       "      <td>5.0</td>\n",
       "      <td>NaN</td>\n",
       "      <td>NaN</td>\n",
       "      <td>The Guardian</td>\n",
       "      <td>http://www.theguardian.com/technology/2015/dec...</td>\n",
       "      <td>http://www.troyhunt.com/2015/11/when-children-...</td>\n",
       "      <td>192.0</td>\n",
       "      <td>Twitch</td>\n",
       "    </tr>\n",
       "    <tr>\n",
       "      <th>203</th>\n",
       "      <td>Hacking Team</td>\n",
       "      <td>NaN</td>\n",
       "      <td>500000.0</td>\n",
       "      <td>2015</td>\n",
       "      <td>2015-07-01</td>\n",
       "      <td>An Italian hacking firm which sells digital su...</td>\n",
       "      <td>web</td>\n",
       "      <td>hacked</td>\n",
       "      <td>y</td>\n",
       "      <td>5.0</td>\n",
       "      <td>NaN</td>\n",
       "      <td>NaN</td>\n",
       "      <td>The Guardian</td>\n",
       "      <td>http://www.theguardian.com/technology/2015/jul...</td>\n",
       "      <td>NaN</td>\n",
       "      <td>191.0</td>\n",
       "      <td>Twitch</td>\n",
       "    </tr>\n",
       "    <tr>\n",
       "      <th>204</th>\n",
       "      <td>AshleyMadison.com</td>\n",
       "      <td>US ex-marital affairs site</td>\n",
       "      <td>37000000.0</td>\n",
       "      <td>2015</td>\n",
       "      <td>2015-07-01</td>\n",
       "      <td>The online hookup site for extra-marital affai...</td>\n",
       "      <td>web</td>\n",
       "      <td>hacked</td>\n",
       "      <td>NaN</td>\n",
       "      <td>1.0</td>\n",
       "      <td>NaN</td>\n",
       "      <td>NaN</td>\n",
       "      <td>Krebs on Security</td>\n",
       "      <td>http://krebsonsecurity.com/2015/07/online-chea...</td>\n",
       "      <td>NaN</td>\n",
       "      <td>190.0</td>\n",
       "      <td>Twitch</td>\n",
       "    </tr>\n",
       "    <tr>\n",
       "      <th>205</th>\n",
       "      <td>US Office of Personnel Management (2nd Breach)</td>\n",
       "      <td>NaN</td>\n",
       "      <td>21500000.0</td>\n",
       "      <td>2015</td>\n",
       "      <td>2015-07-01</td>\n",
       "      <td>Hackers with suspected links to China accessed...</td>\n",
       "      <td>government</td>\n",
       "      <td>hacked</td>\n",
       "      <td>NaN</td>\n",
       "      <td>5.0</td>\n",
       "      <td>NaN</td>\n",
       "      <td>NaN</td>\n",
       "      <td>BBC News</td>\n",
       "      <td>http://www.bbc.co.uk/news/world-us-canada-3312...</td>\n",
       "      <td>http://www.reuters.com/article/2015/07/09/us-c...</td>\n",
       "      <td>189.0</td>\n",
       "      <td>Twitch</td>\n",
       "    </tr>\n",
       "    <tr>\n",
       "      <th>206</th>\n",
       "      <td>US Office of Personnel Management</td>\n",
       "      <td>NaN</td>\n",
       "      <td>4000000.0</td>\n",
       "      <td>2015</td>\n",
       "      <td>2015-06-01</td>\n",
       "      <td>Hackers gained access to federal employees’ So...</td>\n",
       "      <td>government</td>\n",
       "      <td>hacked</td>\n",
       "      <td>NaN</td>\n",
       "      <td>2.0</td>\n",
       "      <td>NaN</td>\n",
       "      <td>NaN</td>\n",
       "      <td>Washington Post</td>\n",
       "      <td>http://www.washingtonpost.com/world/national-s...</td>\n",
       "      <td>NaN</td>\n",
       "      <td>188.0</td>\n",
       "      <td>Twitch</td>\n",
       "    </tr>\n",
       "    <tr>\n",
       "      <th>207</th>\n",
       "      <td>Australian Immigration Department</td>\n",
       "      <td>NaN</td>\n",
       "      <td>30.0</td>\n",
       "      <td>2015</td>\n",
       "      <td>2015-03-01</td>\n",
       "      <td>An agency employee inadvertently sent the pass...</td>\n",
       "      <td>government</td>\n",
       "      <td>oops!</td>\n",
       "      <td>y</td>\n",
       "      <td>4.0</td>\n",
       "      <td>NaN</td>\n",
       "      <td>NaN</td>\n",
       "      <td>The Guardian</td>\n",
       "      <td>http://www.theguardian.com/world/2015/mar/30/p...</td>\n",
       "      <td>NaN</td>\n",
       "      <td>187.0</td>\n",
       "      <td>Twitch</td>\n",
       "    </tr>\n",
       "    <tr>\n",
       "      <th>208</th>\n",
       "      <td>IRS</td>\n",
       "      <td>US Tax service</td>\n",
       "      <td>100000.0</td>\n",
       "      <td>2015</td>\n",
       "      <td>2015-05-01</td>\n",
       "      <td>An organized crime syndicate used the IRS webs...</td>\n",
       "      <td>government</td>\n",
       "      <td>hacked</td>\n",
       "      <td>NaN</td>\n",
       "      <td>1.0</td>\n",
       "      <td>NaN</td>\n",
       "      <td>NaN</td>\n",
       "      <td>CNN</td>\n",
       "      <td>http://money.cnn.com/2015/05/26/pf/taxes/irs-w...</td>\n",
       "      <td>NaN</td>\n",
       "      <td>186.0</td>\n",
       "      <td>Twitch</td>\n",
       "    </tr>\n",
       "    <tr>\n",
       "      <th>209</th>\n",
       "      <td>MSpy</td>\n",
       "      <td>kid &amp; partner tracking service</td>\n",
       "      <td>400000.0</td>\n",
       "      <td>2015</td>\n",
       "      <td>2015-05-01</td>\n",
       "      <td>A service that claims to help people spy on mo...</td>\n",
       "      <td>app</td>\n",
       "      <td>hacked</td>\n",
       "      <td>NaN</td>\n",
       "      <td>2.0</td>\n",
       "      <td>NaN</td>\n",
       "      <td>NaN</td>\n",
       "      <td>Krebs on Security</td>\n",
       "      <td>http://krebsonsecurity.com/2015/05/mobile-spy-...</td>\n",
       "      <td>NaN</td>\n",
       "      <td>185.0</td>\n",
       "      <td>Twitch</td>\n",
       "    </tr>\n",
       "    <tr>\n",
       "      <th>210</th>\n",
       "      <td>Adult Friend Finder</td>\n",
       "      <td>Internet dating &amp; hookup site</td>\n",
       "      <td>3900000.0</td>\n",
       "      <td>2015</td>\n",
       "      <td>2015-05-01</td>\n",
       "      <td>Data found on the dark web included sexual pre...</td>\n",
       "      <td>web</td>\n",
       "      <td>hacked</td>\n",
       "      <td>NaN</td>\n",
       "      <td>1.0</td>\n",
       "      <td>NaN</td>\n",
       "      <td>NaN</td>\n",
       "      <td>Channel 4</td>\n",
       "      <td>http://www.channel4.com/news/adult-friendfinde...</td>\n",
       "      <td>NaN</td>\n",
       "      <td>184.0</td>\n",
       "      <td>Twitch</td>\n",
       "    </tr>\n",
       "    <tr>\n",
       "      <th>211</th>\n",
       "      <td>Securus Technologies</td>\n",
       "      <td>Prison phone service provider</td>\n",
       "      <td>70000000.0</td>\n",
       "      <td>2015</td>\n",
       "      <td>2015-11-01</td>\n",
       "      <td>An anonymous hacker leaked records of over 70m...</td>\n",
       "      <td>web</td>\n",
       "      <td>hacked</td>\n",
       "      <td>y</td>\n",
       "      <td>5.0</td>\n",
       "      <td>70000000.0</td>\n",
       "      <td>NaN</td>\n",
       "      <td>The Intercept</td>\n",
       "      <td>https://theintercept.com/2015/11/11/securus-ha...</td>\n",
       "      <td>NaN</td>\n",
       "      <td>183.0</td>\n",
       "      <td>Twitch</td>\n",
       "    </tr>\n",
       "    <tr>\n",
       "      <th>212</th>\n",
       "      <td>TalkTalk</td>\n",
       "      <td>Telecoms provider</td>\n",
       "      <td>157000.0</td>\n",
       "      <td>2015</td>\n",
       "      <td>2015-11-01</td>\n",
       "      <td>Shares in the telecoms firm plunged by a third...</td>\n",
       "      <td>telecoms</td>\n",
       "      <td>hacked</td>\n",
       "      <td>NaN</td>\n",
       "      <td>2.0</td>\n",
       "      <td>NaN</td>\n",
       "      <td>NaN</td>\n",
       "      <td>BBC News</td>\n",
       "      <td>https://www.bbc.co.uk/news/business-34743185</td>\n",
       "      <td>http://www.bbc.co.uk/news/uk-34611857</td>\n",
       "      <td>182.0</td>\n",
       "      <td>Twitch</td>\n",
       "    </tr>\n",
       "    <tr>\n",
       "      <th>213</th>\n",
       "      <td>Experian / T-mobile</td>\n",
       "      <td>NaN</td>\n",
       "      <td>15000000.0</td>\n",
       "      <td>2015</td>\n",
       "      <td>2015-10-01</td>\n",
       "      <td>The world's biggest data monitoring firm discl...</td>\n",
       "      <td>telecoms</td>\n",
       "      <td>hacked</td>\n",
       "      <td>NaN</td>\n",
       "      <td>3.0</td>\n",
       "      <td>NaN</td>\n",
       "      <td>NaN</td>\n",
       "      <td>Reuters</td>\n",
       "      <td>http://www.reuters.com/article/2015/10/02/us-t...</td>\n",
       "      <td>NaN</td>\n",
       "      <td>181.0</td>\n",
       "      <td>Twitch</td>\n",
       "    </tr>\n",
       "    <tr>\n",
       "      <th>214</th>\n",
       "      <td>Slack</td>\n",
       "      <td>software for remote working</td>\n",
       "      <td>500000.0</td>\n",
       "      <td>2015</td>\n",
       "      <td>2015-03-01</td>\n",
       "      <td>Sometime in February 2015, hackers were able t...</td>\n",
       "      <td>app</td>\n",
       "      <td>hacked</td>\n",
       "      <td>NaN</td>\n",
       "      <td>1.0</td>\n",
       "      <td>NaN</td>\n",
       "      <td>NaN</td>\n",
       "      <td>Tech Crunch</td>\n",
       "      <td>http://techcrunch.com/2015/03/27/slack-got-hac...</td>\n",
       "      <td>NaN</td>\n",
       "      <td>180.0</td>\n",
       "      <td>Twitch</td>\n",
       "    </tr>\n",
       "    <tr>\n",
       "      <th>215</th>\n",
       "      <td>CarPhone Warehouse</td>\n",
       "      <td>UK mobile phone supplier</td>\n",
       "      <td>2400000.0</td>\n",
       "      <td>2015</td>\n",
       "      <td>2015-08-01</td>\n",
       "      <td>The breach exposed names, addresses, birth dat...</td>\n",
       "      <td>telecoms</td>\n",
       "      <td>hacked</td>\n",
       "      <td>NaN</td>\n",
       "      <td>5.0</td>\n",
       "      <td>NaN</td>\n",
       "      <td>NaN</td>\n",
       "      <td>The Guardian</td>\n",
       "      <td>http://www.theguardian.com/technology/2015/aug...</td>\n",
       "      <td>NaN</td>\n",
       "      <td>179.0</td>\n",
       "      <td>Twitch</td>\n",
       "    </tr>\n",
       "    <tr>\n",
       "      <th>216</th>\n",
       "      <td>British Airways</td>\n",
       "      <td>Frequent flyer accounts</td>\n",
       "      <td>10000.0</td>\n",
       "      <td>2015</td>\n",
       "      <td>2015-03-01</td>\n",
       "      <td>Hackers accessed tens of thousands of British ...</td>\n",
       "      <td>transport</td>\n",
       "      <td>hacked</td>\n",
       "      <td>NaN</td>\n",
       "      <td>1.0</td>\n",
       "      <td>NaN</td>\n",
       "      <td>NaN</td>\n",
       "      <td>The Guardian</td>\n",
       "      <td>http://www.theguardian.com/business/2015/mar/2...</td>\n",
       "      <td>NaN</td>\n",
       "      <td>178.0</td>\n",
       "      <td>Twitch</td>\n",
       "    </tr>\n",
       "    <tr>\n",
       "      <th>217</th>\n",
       "      <td>Anthem</td>\n",
       "      <td>Second-largest health insurer in the US</td>\n",
       "      <td>80000000.0</td>\n",
       "      <td>2015</td>\n",
       "      <td>2015-02-01</td>\n",
       "      <td>A \"sophisticated cyberattack\" on one of the US...</td>\n",
       "      <td>health</td>\n",
       "      <td>hacked</td>\n",
       "      <td>y</td>\n",
       "      <td>2.0</td>\n",
       "      <td>80000000.0</td>\n",
       "      <td>NaN</td>\n",
       "      <td>NYTimes</td>\n",
       "      <td>https://www.nytimes.com/2015/02/05/business/ha...</td>\n",
       "      <td>NaN</td>\n",
       "      <td>177.0</td>\n",
       "      <td>Twitch</td>\n",
       "    </tr>\n",
       "    <tr>\n",
       "      <th>218</th>\n",
       "      <td>UCLA Health</td>\n",
       "      <td>NaN</td>\n",
       "      <td>4500000.0</td>\n",
       "      <td>2015</td>\n",
       "      <td>2015-05-01</td>\n",
       "      <td>Patient information was exposed in a hack on t...</td>\n",
       "      <td>health</td>\n",
       "      <td>hacked</td>\n",
       "      <td>NaN</td>\n",
       "      <td>4.0</td>\n",
       "      <td>4500000.0</td>\n",
       "      <td>NaN</td>\n",
       "      <td>Health IT Security</td>\n",
       "      <td>https://healthitsecurity.com/news/ucla-health-...</td>\n",
       "      <td>NaN</td>\n",
       "      <td>176.0</td>\n",
       "      <td>Twitch</td>\n",
       "    </tr>\n",
       "  </tbody>\n",
       "</table>\n",
       "</div>"
      ],
      "text/plain": [
       "                                       organisation  \\\n",
       "194                                       Carefirst   \n",
       "195                                          Twitch   \n",
       "196                                         Premera   \n",
       "197                                            Uber   \n",
       "198                             Deep Root Analytics   \n",
       "199                                        Kromtech   \n",
       "200                                     Invest Bank   \n",
       "201                                          Sanrio   \n",
       "202                                           VTech   \n",
       "203                                    Hacking Team   \n",
       "204                               AshleyMadison.com   \n",
       "205  US Office of Personnel Management (2nd Breach)   \n",
       "206               US Office of Personnel Management   \n",
       "207               Australian Immigration Department   \n",
       "208                                             IRS   \n",
       "209                                            MSpy   \n",
       "210                             Adult Friend Finder   \n",
       "211                            Securus Technologies   \n",
       "212                                        TalkTalk   \n",
       "213                             Experian / T-mobile   \n",
       "214                                           Slack   \n",
       "215                              CarPhone Warehouse   \n",
       "216                                 British Airways   \n",
       "217                                         Anthem    \n",
       "218                                     UCLA Health   \n",
       "\n",
       "                               alternative name  records lost  year  \\\n",
       "194  Blue Cross, Blue Shield US medical insurer     1100000.0  2015   \n",
       "195                                 Gaming site    10000000.0  2015   \n",
       "196                      US healthcare provider    11000000.0  2015   \n",
       "197                                         NaN       50000.0  2015   \n",
       "198                                         NaN   198000000.0  2015   \n",
       "199                          MacKeeper software    13000000.0  2015   \n",
       "200                   United Arab Emirates bank       40000.0  2015   \n",
       "201            Hello Kitty and other franchises     3300000.0  2015   \n",
       "202                            Toymaker company     6400000.0  2015   \n",
       "203                                         NaN      500000.0  2015   \n",
       "204                  US ex-marital affairs site    37000000.0  2015   \n",
       "205                                         NaN    21500000.0  2015   \n",
       "206                                         NaN     4000000.0  2015   \n",
       "207                                         NaN          30.0  2015   \n",
       "208                              US Tax service      100000.0  2015   \n",
       "209              kid & partner tracking service      400000.0  2015   \n",
       "210               Internet dating & hookup site     3900000.0  2015   \n",
       "211               Prison phone service provider    70000000.0  2015   \n",
       "212                           Telecoms provider      157000.0  2015   \n",
       "213                                         NaN    15000000.0  2015   \n",
       "214                 software for remote working      500000.0  2015   \n",
       "215                    UK mobile phone supplier     2400000.0  2015   \n",
       "216                     Frequent flyer accounts       10000.0  2015   \n",
       "217     Second-largest health insurer in the US    80000000.0  2015   \n",
       "218                                         NaN     4500000.0  2015   \n",
       "\n",
       "          date                                              story      sector  \\\n",
       "194 2015-05-01  Hackers gained access to a database belonging ...     health    \n",
       "195 2015-03-01  All users were forced to reset their passwords...     health    \n",
       "196 2015-03-01  The health insurance firm revealed that its IT...     health    \n",
       "197 2015-02-01  The breach, which occurred in Sep 2014, reveal...   tech, app   \n",
       "198 2015-12-01  A insecure database containing US voter inform...         web   \n",
       "199 2015-12-01  A security researcher stumbled on an insecure ...         web   \n",
       "200 2015-12-01  A hacker breached the systems of a UAE bank. T...     finance   \n",
       "201 2015-12-01  A researcher accessed a database containing lo...         web   \n",
       "202 2015-12-01  The toy maker was targeted by a hacker who sto...         web   \n",
       "203 2015-07-01  An Italian hacking firm which sells digital su...         web   \n",
       "204 2015-07-01  The online hookup site for extra-marital affai...         web   \n",
       "205 2015-07-01  Hackers with suspected links to China accessed...  government   \n",
       "206 2015-06-01  Hackers gained access to federal employees’ So...  government   \n",
       "207 2015-03-01  An agency employee inadvertently sent the pass...  government   \n",
       "208 2015-05-01  An organized crime syndicate used the IRS webs...  government   \n",
       "209 2015-05-01  A service that claims to help people spy on mo...         app   \n",
       "210 2015-05-01  Data found on the dark web included sexual pre...         web   \n",
       "211 2015-11-01  An anonymous hacker leaked records of over 70m...         web   \n",
       "212 2015-11-01  Shares in the telecoms firm plunged by a third...    telecoms   \n",
       "213 2015-10-01  The world's biggest data monitoring firm discl...    telecoms   \n",
       "214 2015-03-01  Sometime in February 2015, hackers were able t...         app   \n",
       "215 2015-08-01  The breach exposed names, addresses, birth dat...    telecoms   \n",
       "216 2015-03-01  Hackers accessed tens of thousands of British ...   transport   \n",
       "217 2015-02-01  A \"sophisticated cyberattack\" on one of the US...     health    \n",
       "218 2015-05-01  Patient information was exposed in a hack on t...     health    \n",
       "\n",
       "            method interesting story data sensitivity displayed records  \\\n",
       "194         hacked               NaN              1.0               NaN   \n",
       "195         hacked               NaN              1.0               NaN   \n",
       "196         hacked               NaN              5.0               NaN   \n",
       "197  poor security               NaN              1.0               NaN   \n",
       "198  poor security               NaN              2.0       198000000.0   \n",
       "199         hacked               NaN              1.0               NaN   \n",
       "200         hacked               NaN              4.0               NaN   \n",
       "201  poor security               NaN              2.0               NaN   \n",
       "202         hacked               NaN              5.0               NaN   \n",
       "203         hacked                 y              5.0               NaN   \n",
       "204         hacked               NaN              1.0               NaN   \n",
       "205         hacked               NaN              5.0               NaN   \n",
       "206         hacked               NaN              2.0               NaN   \n",
       "207          oops!                 y              4.0               NaN   \n",
       "208         hacked               NaN              1.0               NaN   \n",
       "209         hacked               NaN              2.0               NaN   \n",
       "210         hacked               NaN              1.0               NaN   \n",
       "211         hacked                 y              5.0        70000000.0   \n",
       "212         hacked               NaN              2.0               NaN   \n",
       "213         hacked               NaN              3.0               NaN   \n",
       "214         hacked               NaN              1.0               NaN   \n",
       "215         hacked               NaN              5.0               NaN   \n",
       "216         hacked               NaN              1.0               NaN   \n",
       "217         hacked                 y              2.0        80000000.0   \n",
       "218         hacked               NaN              4.0         4500000.0   \n",
       "\n",
       "     Unnamed: 11         source name  \\\n",
       "194          NaN   Krebs on Security   \n",
       "195          NaN              Twitch   \n",
       "196          NaN     Computer Weekly   \n",
       "197          NaN          TechCrunch   \n",
       "198          NaN    Reuters, UpGuard   \n",
       "199          NaN                 BBC   \n",
       "200          NaN          Daily Dot    \n",
       "201          NaN          CSO Online   \n",
       "202          NaN        The Guardian   \n",
       "203          NaN        The Guardian   \n",
       "204          NaN   Krebs on Security   \n",
       "205          NaN            BBC News   \n",
       "206          NaN     Washington Post   \n",
       "207          NaN        The Guardian   \n",
       "208          NaN                 CNN   \n",
       "209          NaN   Krebs on Security   \n",
       "210          NaN           Channel 4   \n",
       "211          NaN       The Intercept   \n",
       "212          NaN            BBC News   \n",
       "213          NaN             Reuters   \n",
       "214          NaN         Tech Crunch   \n",
       "215          NaN        The Guardian   \n",
       "216          NaN        The Guardian   \n",
       "217          NaN             NYTimes   \n",
       "218          NaN  Health IT Security   \n",
       "\n",
       "                                       1st source link  \\\n",
       "194  https://krebsonsecurity.com/2015/05/carefirst-...   \n",
       "195  http://blog.twitch.tv/2015/03/important-notice...   \n",
       "196  https://www.computerweekly.com/news/2240242508...   \n",
       "197  https://techcrunch.com/2015/02/27/uber-databas...   \n",
       "198  http://uk.reuters.com/article/us-usa-voters-br...   \n",
       "199     https://www.bbc.co.uk/news/technology-35100330   \n",
       "200  https://www.dailydot.com/debug/invest-bank-hac...   \n",
       "201  https://www.csoonline.com/article/3017171/data...   \n",
       "202  http://www.theguardian.com/technology/2015/dec...   \n",
       "203  http://www.theguardian.com/technology/2015/jul...   \n",
       "204  http://krebsonsecurity.com/2015/07/online-chea...   \n",
       "205  http://www.bbc.co.uk/news/world-us-canada-3312...   \n",
       "206  http://www.washingtonpost.com/world/national-s...   \n",
       "207  http://www.theguardian.com/world/2015/mar/30/p...   \n",
       "208  http://money.cnn.com/2015/05/26/pf/taxes/irs-w...   \n",
       "209  http://krebsonsecurity.com/2015/05/mobile-spy-...   \n",
       "210  http://www.channel4.com/news/adult-friendfinde...   \n",
       "211  https://theintercept.com/2015/11/11/securus-ha...   \n",
       "212       https://www.bbc.co.uk/news/business-34743185   \n",
       "213  http://www.reuters.com/article/2015/10/02/us-t...   \n",
       "214  http://techcrunch.com/2015/03/27/slack-got-hac...   \n",
       "215  http://www.theguardian.com/technology/2015/aug...   \n",
       "216  http://www.theguardian.com/business/2015/mar/2...   \n",
       "217  https://www.nytimes.com/2015/02/05/business/ha...   \n",
       "218  https://healthitsecurity.com/news/ucla-health-...   \n",
       "\n",
       "                                       2nd source link     ID  \\\n",
       "194                                                NaN  200.0   \n",
       "195                                                NaN  199.0   \n",
       "196                                                NaN  198.0   \n",
       "197                                                NaN  197.0   \n",
       "198     https://www.upguard.com/breaches/the-rnc-files  196.0   \n",
       "199  https://www.reddit.com/r/apple/comments/3wq9fc...  195.0   \n",
       "200                                                NaN  194.0   \n",
       "201                                                NaN  193.0   \n",
       "202  http://www.troyhunt.com/2015/11/when-children-...  192.0   \n",
       "203                                                NaN  191.0   \n",
       "204                                                NaN  190.0   \n",
       "205  http://www.reuters.com/article/2015/07/09/us-c...  189.0   \n",
       "206                                                NaN  188.0   \n",
       "207                                                NaN  187.0   \n",
       "208                                                NaN  186.0   \n",
       "209                                                NaN  185.0   \n",
       "210                                                NaN  184.0   \n",
       "211                                                NaN  183.0   \n",
       "212              http://www.bbc.co.uk/news/uk-34611857  182.0   \n",
       "213                                                NaN  181.0   \n",
       "214                                                NaN  180.0   \n",
       "215                                                NaN  179.0   \n",
       "216                                                NaN  178.0   \n",
       "217                                                NaN  177.0   \n",
       "218                                                NaN  176.0   \n",
       "\n",
       "    organisation_name  \n",
       "194            Twitch  \n",
       "195            Twitch  \n",
       "196            Twitch  \n",
       "197            Twitch  \n",
       "198            Twitch  \n",
       "199            Twitch  \n",
       "200            Twitch  \n",
       "201            Twitch  \n",
       "202            Twitch  \n",
       "203            Twitch  \n",
       "204            Twitch  \n",
       "205            Twitch  \n",
       "206            Twitch  \n",
       "207            Twitch  \n",
       "208            Twitch  \n",
       "209            Twitch  \n",
       "210            Twitch  \n",
       "211            Twitch  \n",
       "212            Twitch  \n",
       "213            Twitch  \n",
       "214            Twitch  \n",
       "215            Twitch  \n",
       "216            Twitch  \n",
       "217            Twitch  \n",
       "218            Twitch  "
      ]
     },
     "execution_count": 15,
     "metadata": {},
     "output_type": "execute_result"
    }
   ],
   "source": [
    "\n",
    "\n",
    "\n",
    "df['organisation_name'] = np.where((df['year'] == 2005) & (df['records lost'] >= df['records lost'].max()*0.005), df['organisation'], '')\n",
    "for x in range( 2006, 2022):\n",
    "    df['organisation_name'] = np.where((df['year'] == x) & (df['records lost'] >= df['records lost'].max()*0.005), df['organisation'], \n",
    "    (['' if (i == '') else df['organisation'] for i in df['organisation']]))\n",
    "\n",
    "#df[255:261]\n",
    "#df[::50]\n",
    "\n",
    "\n",
    "df.loc[df['year']==2015]\n",
    "#np.where(df['organisation_name'] == ''), '', df['organisation']\n",
    "#df['Verbleibende Lebenserwartung'] = [79 - row['Alter'] if (row['Geschlecht'] == 'M') else 84 - row['Alter'] for index, row in df.iterrows()]\n"
   ]
  },
  {
   "cell_type": "code",
   "execution_count": null,
   "metadata": {},
   "outputs": [],
   "source": [
    "df['organisation_name'] = np.where((df['year'] == 2005) & (df['records lost'] >= df['records lost'].max()*0.005), df['organisation'], '')\n",
    "for x in range( 2006, 2022):\n",
    "    df['organisation_name'] = np.where((df['year'] == x) & (df['records lost'] >= df['records lost'].max()*0.005), df['organisation'], \n",
    "    (['' if (i == '') else df['organisation'] for i in df['organisation']]))"
   ]
  },
  {
   "cell_type": "code",
   "execution_count": null,
   "metadata": {},
   "outputs": [
    {
     "data": {
      "text/html": [
       "<div>\n",
       "<style scoped>\n",
       "    .dataframe tbody tr th:only-of-type {\n",
       "        vertical-align: middle;\n",
       "    }\n",
       "\n",
       "    .dataframe tbody tr th {\n",
       "        vertical-align: top;\n",
       "    }\n",
       "\n",
       "    .dataframe thead th {\n",
       "        text-align: right;\n",
       "    }\n",
       "</style>\n",
       "<table border=\"1\" class=\"dataframe\">\n",
       "  <thead>\n",
       "    <tr style=\"text-align: right;\">\n",
       "      <th></th>\n",
       "      <th>Name</th>\n",
       "      <th>Geschlecht</th>\n",
       "      <th>Alter</th>\n",
       "      <th>Nationalität</th>\n",
       "      <th>Gehalt</th>\n",
       "    </tr>\n",
       "  </thead>\n",
       "  <tbody>\n",
       "    <tr>\n",
       "      <th>ID-123</th>\n",
       "      <td>Peter</td>\n",
       "      <td>M</td>\n",
       "      <td>34</td>\n",
       "      <td>deutsch</td>\n",
       "      <td>3400.0</td>\n",
       "    </tr>\n",
       "    <tr>\n",
       "      <th>ID-462</th>\n",
       "      <td>Karla</td>\n",
       "      <td>W</td>\n",
       "      <td>53</td>\n",
       "      <td>schweizerisch</td>\n",
       "      <td>4000.0</td>\n",
       "    </tr>\n",
       "    <tr>\n",
       "      <th>ID-111</th>\n",
       "      <td>Anne</td>\n",
       "      <td>W</td>\n",
       "      <td>16</td>\n",
       "      <td>deutsch</td>\n",
       "      <td>0.0</td>\n",
       "    </tr>\n",
       "    <tr>\n",
       "      <th>ID-997</th>\n",
       "      <td>Nino</td>\n",
       "      <td>M</td>\n",
       "      <td>22</td>\n",
       "      <td>italienisch</td>\n",
       "      <td>NaN</td>\n",
       "    </tr>\n",
       "    <tr>\n",
       "      <th>ID-707</th>\n",
       "      <td>Andrzej</td>\n",
       "      <td>M</td>\n",
       "      <td>61</td>\n",
       "      <td>polnisch</td>\n",
       "      <td>2300.0</td>\n",
       "    </tr>\n",
       "  </tbody>\n",
       "</table>\n",
       "</div>"
      ],
      "text/plain": [
       "           Name Geschlecht  Alter   Nationalität  Gehalt\n",
       "ID-123    Peter          M     34        deutsch  3400.0\n",
       "ID-462    Karla          W     53  schweizerisch  4000.0\n",
       "ID-111     Anne          W     16        deutsch     0.0\n",
       "ID-997     Nino          M     22    italienisch     NaN\n",
       "ID-707  Andrzej          M     61       polnisch  2300.0"
      ]
     },
     "execution_count": 17,
     "metadata": {},
     "output_type": "execute_result"
    }
   ],
   "source": [
    "df = pd.DataFrame({'Name' : [\"Peter\", \"Karla\", \"Anne\", \"Nino\", \"Andrzej\"],\n",
    "                   'Geschlecht': ['M','W','W','M','M'],\n",
    "                   'Alter': [34, 53, 16, 22, 61],\n",
    "                   'Nationalität': [\"deutsch\", \"schweizerisch\", \"deutsch\", \"italienisch\", \"polnisch\"],\n",
    "                   'Gehalt': [3400, 4000, 0, np.NaN, 2300]}, \n",
    "                  index = ['ID-123', 'ID-462', 'ID-111', 'ID-997', 'ID-707'])\n",
    "\n",
    "df"
   ]
  },
  {
   "cell_type": "code",
   "execution_count": null,
   "metadata": {},
   "outputs": [
    {
     "data": {
      "text/html": [
       "<div>\n",
       "<style scoped>\n",
       "    .dataframe tbody tr th:only-of-type {\n",
       "        vertical-align: middle;\n",
       "    }\n",
       "\n",
       "    .dataframe tbody tr th {\n",
       "        vertical-align: top;\n",
       "    }\n",
       "\n",
       "    .dataframe thead th {\n",
       "        text-align: right;\n",
       "    }\n",
       "</style>\n",
       "<table border=\"1\" class=\"dataframe\">\n",
       "  <thead>\n",
       "    <tr style=\"text-align: right;\">\n",
       "      <th></th>\n",
       "      <th>Name</th>\n",
       "      <th>Geschlecht</th>\n",
       "      <th>Alter</th>\n",
       "      <th>Nationalität</th>\n",
       "      <th>Gehalt</th>\n",
       "      <th>Nettogehalt</th>\n",
       "    </tr>\n",
       "  </thead>\n",
       "  <tbody>\n",
       "    <tr>\n",
       "      <th>ID-123</th>\n",
       "      <td>Peter</td>\n",
       "      <td>M</td>\n",
       "      <td>34</td>\n",
       "      <td>deutsch</td>\n",
       "      <td>3400.0</td>\n",
       "      <td>2108.0</td>\n",
       "    </tr>\n",
       "    <tr>\n",
       "      <th>ID-462</th>\n",
       "      <td>Karla</td>\n",
       "      <td>W</td>\n",
       "      <td>53</td>\n",
       "      <td>schweizerisch</td>\n",
       "      <td>4000.0</td>\n",
       "      <td>2800.0</td>\n",
       "    </tr>\n",
       "    <tr>\n",
       "      <th>ID-111</th>\n",
       "      <td>Anne</td>\n",
       "      <td>W</td>\n",
       "      <td>16</td>\n",
       "      <td>deutsch</td>\n",
       "      <td>0.0</td>\n",
       "      <td>0.0</td>\n",
       "    </tr>\n",
       "    <tr>\n",
       "      <th>ID-997</th>\n",
       "      <td>Nino</td>\n",
       "      <td>M</td>\n",
       "      <td>22</td>\n",
       "      <td>italienisch</td>\n",
       "      <td>NaN</td>\n",
       "      <td>NaN</td>\n",
       "    </tr>\n",
       "    <tr>\n",
       "      <th>ID-707</th>\n",
       "      <td>Andrzej</td>\n",
       "      <td>M</td>\n",
       "      <td>61</td>\n",
       "      <td>polnisch</td>\n",
       "      <td>2300.0</td>\n",
       "      <td>1380.0</td>\n",
       "    </tr>\n",
       "  </tbody>\n",
       "</table>\n",
       "</div>"
      ],
      "text/plain": [
       "           Name Geschlecht  Alter   Nationalität  Gehalt  Nettogehalt\n",
       "ID-123    Peter          M     34        deutsch  3400.0       2108.0\n",
       "ID-462    Karla          W     53  schweizerisch  4000.0       2800.0\n",
       "ID-111     Anne          W     16        deutsch     0.0          0.0\n",
       "ID-997     Nino          M     22    italienisch     NaN          NaN\n",
       "ID-707  Andrzej          M     61       polnisch  2300.0       1380.0"
      ]
     },
     "execution_count": 18,
     "metadata": {},
     "output_type": "execute_result"
    }
   ],
   "source": [
    "df['Nettogehalt'] = np.where(df['Nationalität'] == 'deutsch', \n",
    "                             df['Gehalt'] * 0.62,\n",
    "                             np.nan)\n",
    "df['Nettogehalt'] = np.where(df['Nationalität'] == 'schweizerisch', \n",
    "                             df['Gehalt'] * 0.7,\n",
    "                             df['Nettogehalt'])\n",
    "df['Nettogehalt'] = np.where(df['Nationalität'] == 'italienisch', \n",
    "                             df['Gehalt'] * 0.58,\n",
    "                             df['Nettogehalt'])\n",
    "df['Nettogehalt'] = np.where(df['Nationalität'] == 'polnisch', \n",
    "                             df['Gehalt'] * 0.6,\n",
    "                             df['Nettogehalt'])\n",
    "\n",
    "df"
   ]
  }
 ],
 "metadata": {
  "interpreter": {
   "hash": "781744b4409b9da5085f09423be4e3ce07b6e38dfe730dc00e0a5fe5b6bf53c2"
  },
  "kernelspec": {
   "display_name": "Python 3.8.11 64-bit ('dash_py3.8': conda)",
   "language": "python",
   "name": "python3"
  },
  "language_info": {
   "codemirror_mode": {
    "name": "ipython",
    "version": 3
   },
   "file_extension": ".py",
   "mimetype": "text/x-python",
   "name": "python",
   "nbconvert_exporter": "python",
   "pygments_lexer": "ipython3",
   "version": "3.8.11"
  },
  "orig_nbformat": 4
 },
 "nbformat": 4,
 "nbformat_minor": 2
}

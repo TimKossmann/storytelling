{
 "cells": [
  {
   "cell_type": "code",
   "execution_count": 2,
   "metadata": {},
   "outputs": [
    {
     "name": "stdout",
     "output_type": "stream",
     "text": [
      "                    organisation\n",
      "0                            NaN\n",
      "1                         Twitch\n",
      "2                      Syniverse\n",
      "3                 Pandora Papers\n",
      "4                  Neiman Marcus\n",
      "..                           ...\n",
      "388              Hewlett Packard\n",
      "389              Ameritrade Inc.\n",
      "390                    Citigroup\n",
      "391  Cardsystems Solutions Inc. \n",
      "392                          AOL\n",
      "\n",
      "[393 rows x 1 columns]\n",
      "     organisation alternative name  \\\n",
      "0             NaN              NaN   \n",
      "1          Twitch              NaN   \n",
      "2       Syniverse              NaN   \n",
      "3  Pandora Papers              NaN   \n",
      "4   Neiman Marcus              NaN   \n",
      "\n",
      "                                        records lost           year     \\\n",
      "0  (use 3m, 4m, 5m or 10m to approximate unknown ...  year story broke   \n",
      "1                                         10000000.0            2021.0   \n",
      "2                                        500000000.0            2021.0   \n",
      "3                                         11900000.0            2021.0   \n",
      "4                                          4600000.0            2021.0   \n",
      "\n",
      "        date                                              story  \\\n",
      "0        NaT                                                NaN   \n",
      "1 2021-10-01  Full source code breach of the streaming gamin...   \n",
      "2 2021-09-01  \"A company that is a critical part of the glob...   \n",
      "3 2021-10-01  Millions of documents reveal offshore deals an...   \n",
      "4 2021-09-01  Occurred sometime in May 2020 after \"an unauth...   \n",
      "\n",
      "                                              sector  \\\n",
      "0  web\\nhealthcare\\napp\\nretail\\ngaming\\ntranspor...   \n",
      "1                                             gaming   \n",
      "2                                           telecoms   \n",
      "3                                         government   \n",
      "4                                             retail   \n",
      "\n",
      "                                              method interesting story  \\\n",
      "0  poor security\\nhacked\\noops!\\nlost device \\nin...               NaN   \n",
      "1                                             hacked                 y   \n",
      "2                                             hacked               NaN   \n",
      "3                                             hacked                 y   \n",
      "4                                             hacked               NaN   \n",
      "\n",
      "                                    data sensitivity       displayed records  \\\n",
      "0  1. Just email address/Online information \\n2 S...  =IF(C3>100000000,C3,\")   \n",
      "1                                                4.0                 unknown   \n",
      "2                                                4.0                 unknown   \n",
      "3                                                4.0                     NaN   \n",
      "4                                                3.0                     NaN   \n",
      "\n",
      "   Unnamed: 11   source name  \\\n",
      "0          NaN           NaN   \n",
      "1          NaN           BBC   \n",
      "2          NaN          Vice   \n",
      "3          NaN      Guardian   \n",
      "4          NaN  Ars Technica   \n",
      "\n",
      "                                     1st source link 2nd source link     ID  \n",
      "0                                                NaN             NaN    NaN  \n",
      "1     https://www.bbc.co.uk/news/technology-58817658             NaN  395.0  \n",
      "2  https://www.vice.com/en/article/z3xpm8/company...             NaN  394.0  \n",
      "3  https://www.theguardian.com/news/2021/oct/03/p...             NaN  393.0  \n",
      "4  https://arstechnica.com/information-technology...             NaN  392.0  \n"
     ]
    }
   ],
   "source": [
    "import plotly.express as px\n",
    "import plotly.graph_objects as go\n",
    "import dash\n",
    "import pandas as pd \n",
    "import numpy as np\n",
    "import random\n",
    "import datetime\n",
    "\n",
    "df = pd.read_excel(\"./datasets/DataBreaches.xlsx\")\n",
    "\n",
    "def front(self, n):\n",
    "    return self.iloc[:, :n]\n",
    "\n",
    "pd.DataFrame.front=front\n",
    "print(df.front(1))\n",
    "print(df.head())"
   ]
  },
  {
   "cell_type": "code",
   "execution_count": 3,
   "metadata": {},
   "outputs": [
    {
     "name": "stdout",
     "output_type": "stream",
     "text": [
      "                    organisation\n",
      "1                         Twitch\n",
      "2                      Syniverse\n",
      "3                 Pandora Papers\n",
      "4                  Neiman Marcus\n",
      "5                           Epik\n",
      "..                           ...\n",
      "388              Hewlett Packard\n",
      "389              Ameritrade Inc.\n",
      "390                    Citigroup\n",
      "391  Cardsystems Solutions Inc. \n",
      "392                          AOL\n",
      "\n",
      "[392 rows x 1 columns]\n"
     ]
    }
   ],
   "source": [
    "# Löschen der ersten Zeile\n",
    "df = df.drop(df.index[[0]])\n",
    "print(df.front(1))"
   ]
  },
  {
   "cell_type": "code",
   "execution_count": 4,
   "metadata": {},
   "outputs": [],
   "source": [
    "df.dtypes\n",
    "# Spalte year umbennene (aufgrund von Leerzeichen nach \"year\")\n",
    "df = df.rename(columns= {'year   ':'year'})\n"
   ]
  },
  {
   "cell_type": "code",
   "execution_count": 5,
   "metadata": {},
   "outputs": [
    {
     "data": {
      "text/plain": [
       "organisation                 object\n",
       "alternative name             object\n",
       "records lost                float64\n",
       "year                         object\n",
       "date                 datetime64[ns]\n",
       "story                        object\n",
       "sector                       object\n",
       "method                       object\n",
       "interesting story            object\n",
       "data sensitivity             object\n",
       "displayed records            object\n",
       "Unnamed: 11                 float64\n",
       "source name                  object\n",
       "1st source link              object\n",
       "2nd source link              object\n",
       "ID                          float64\n",
       "dtype: object"
      ]
     },
     "execution_count": 5,
     "metadata": {},
     "output_type": "execute_result"
    }
   ],
   "source": [
    "# Umwandlung des Datentyps von records lost von Object in numeric\n",
    "df[\"records lost\"] = pd.to_numeric(df[\"records lost\"])\n",
    "df.dtypes"
   ]
  },
  {
   "cell_type": "code",
   "execution_count": 6,
   "metadata": {},
   "outputs": [
    {
     "data": {
      "text/plain": [
       "organisation                 string\n",
       "alternative name             object\n",
       "records lost                float64\n",
       "year                         object\n",
       "date                 datetime64[ns]\n",
       "story                        object\n",
       "sector                       object\n",
       "method                       object\n",
       "interesting story            object\n",
       "data sensitivity             object\n",
       "displayed records            object\n",
       "Unnamed: 11                 float64\n",
       "source name                  object\n",
       "1st source link              object\n",
       "2nd source link              object\n",
       "ID                          float64\n",
       "dtype: object"
      ]
     },
     "execution_count": 6,
     "metadata": {},
     "output_type": "execute_result"
    }
   ],
   "source": [
    "# Umwandlung des Datentyps von Organisation von Object in string\n",
    "df[\"organisation\"] = df[\"organisation\"].astype(\"string\")\n",
    "df.dtypes"
   ]
  },
  {
   "cell_type": "code",
   "execution_count": 7,
   "metadata": {},
   "outputs": [
    {
     "data": {
      "text/plain": [
       "organisation                 string\n",
       "alternative name             object\n",
       "records lost                float64\n",
       "year                          int64\n",
       "date                 datetime64[ns]\n",
       "story                        object\n",
       "sector                       object\n",
       "method                       object\n",
       "interesting story            object\n",
       "data sensitivity             object\n",
       "displayed records            object\n",
       "Unnamed: 11                 float64\n",
       "source name                  object\n",
       "1st source link              object\n",
       "2nd source link              object\n",
       "ID                          float64\n",
       "dtype: object"
      ]
     },
     "execution_count": 7,
     "metadata": {},
     "output_type": "execute_result"
    }
   ],
   "source": [
    "# Umwandlung des Datentyps von Year von Object in Integer\n",
    "df[\"year\"] = df[\"year\"].astype(\"int\")\n",
    "df.dtypes\n"
   ]
  },
  {
   "cell_type": "code",
   "execution_count": 8,
   "metadata": {},
   "outputs": [
    {
     "data": {
      "application/vnd.plotly.v1+json": {
       "config": {
        "plotlyServerURL": "https://plot.ly"
       },
       "data": [
        {
         "alignmentgroup": "True",
         "hovertemplate": "sector=gaming<br>year=%{x}<br>records lost=%{y}<extra></extra>",
         "legendgroup": "gaming",
         "marker": {
          "color": "#636efa",
          "pattern": {
           "shape": ""
          }
         },
         "name": "gaming",
         "offsetgroup": "gaming",
         "orientation": "v",
         "showlegend": true,
         "textposition": "auto",
         "type": "bar",
         "x": [
          2021,
          2020,
          2020,
          2019,
          2019,
          2019,
          2019,
          2016,
          2013,
          2013,
          2012,
          2011,
          2011,
          2011,
          2011
         ],
         "xaxis": "x",
         "y": [
          10000000,
          500000,
          300000,
          11000000,
          4000000,
          5000000,
          7600000,
          7000000,
          58000000,
          4000000,
          14000000,
          77000000,
          200000,
          1290755,
          24600000
         ],
         "yaxis": "y"
        },
        {
         "alignmentgroup": "True",
         "hovertemplate": "sector=telecoms<br>year=%{x}<br>records lost=%{y}<extra></extra>",
         "legendgroup": "telecoms",
         "marker": {
          "color": "#EF553B",
          "pattern": {
           "shape": ""
          }
         },
         "name": "telecoms",
         "offsetgroup": "telecoms",
         "orientation": "v",
         "showlegend": true,
         "textposition": "auto",
         "type": "bar",
         "x": [
          2021,
          2021,
          2021,
          2020,
          2020,
          2020,
          2018,
          2018,
          2018,
          2017,
          2017,
          2016,
          2015,
          2015,
          2015,
          2013,
          2013,
          2012,
          2010,
          2008,
          2008,
          2006
         ],
         "xaxis": "x",
         "y": [
          500000000,
          40000000,
          38000000,
          200000,
          2500000,
          115000000,
          10000000,
          2000000,
          32000000,
          1900000,
          46200000,
          130000,
          157000,
          15000000,
          2400000,
          170000,
          2000000,
          8700000,
          114000,
          113000,
          17000000,
          4000000
         ],
         "yaxis": "y"
        },
        {
         "alignmentgroup": "True",
         "hovertemplate": "sector=government<br>year=%{x}<br>records lost=%{y}<extra></extra>",
         "legendgroup": "government",
         "marker": {
          "color": "#00cc96",
          "pattern": {
           "shape": ""
          }
         },
         "name": "government",
         "offsetgroup": "government",
         "orientation": "v",
         "showlegend": true,
         "textposition": "auto",
         "type": "bar",
         "x": [
          2021,
          2021,
          2021,
          2020,
          2020,
          2020,
          2019,
          2019,
          2018,
          2017,
          2017,
          2016,
          2016,
          2016,
          2016,
          2015,
          2015,
          2015,
          2015,
          2014,
          2013,
          2013,
          2013,
          2012,
          2012,
          2012,
          2012,
          2011,
          2011,
          2011,
          2011,
          2011,
          2010,
          2008,
          2008,
          2008,
          2008,
          2008,
          2008,
          2007,
          2007,
          2007
         ],
         "xaxis": "x",
         "y": [
          11900000,
          100000000,
          280000,
          387000,
          6900000,
          6500000,
          100000,
          5000000,
          550000000,
          3000000,
          3700000,
          55000000,
          274477,
          49611709,
          5000000,
          21500000,
          4000000,
          30,
          100000,
          5190396,
          100000,
          1500000,
          160000,
          800000,
          6500000,
          9000000,
          3600000,
          3500000,
          123461,
          180000,
          210000,
          1000000,
          392000,
          84000,
          6000000,
          89000,
          1700000,
          3950000,
          50500,
          3000000,
          160000,
          25000000
         ],
         "yaxis": "y"
        },
        {
         "alignmentgroup": "True",
         "hovertemplate": "sector=retail<br>year=%{x}<br>records lost=%{y}<extra></extra>",
         "legendgroup": "retail",
         "marker": {
          "color": "#ab63fa",
          "pattern": {
           "shape": ""
          }
         },
         "name": "retail",
         "offsetgroup": "retail",
         "orientation": "v",
         "showlegend": true,
         "textposition": "auto",
         "type": "bar",
         "x": [
          2021,
          2021,
          2021,
          2021,
          2020,
          2020,
          2020,
          2020,
          2020,
          2019,
          2019,
          2019,
          2019,
          2018,
          2018,
          2018,
          2018,
          2018,
          2018,
          2018,
          2017,
          2016,
          2014,
          2014,
          2014,
          2014,
          2014,
          2013,
          2011,
          2011,
          2008,
          2008,
          2007,
          2007,
          2007
         ],
         "xaxis": "x",
         "y": [
          4600000,
          15000000,
          111000,
          10000000,
          900000,
          150000,
          600000,
          5200000,
          10600000,
          30000000,
          28000000,
          57000000,
          1000000,
          383000000,
          37000000,
          5000000,
          1300000,
          5000000,
          16300,
          45000000,
          2000000,
          1025,
          1100000,
          4000000,
          1160000,
          56000000,
          600000,
          70000000,
          283000,
          200000,
          4200000,
          97000,
          800000,
          8637405,
          94000000
         ],
         "yaxis": "y"
        },
        {
         "alignmentgroup": "True",
         "hovertemplate": "sector=web <br>year=%{x}<br>records lost=%{y}<extra></extra>",
         "legendgroup": "web ",
         "marker": {
          "color": "#FFA15A",
          "pattern": {
           "shape": ""
          }
         },
         "name": "web ",
         "offsetgroup": "web ",
         "orientation": "v",
         "showlegend": true,
         "textposition": "auto",
         "type": "bar",
         "x": [
          2021,
          2019
         ],
         "xaxis": "x",
         "y": [
          700000000,
          162000000
         ],
         "yaxis": "y"
        },
        {
         "alignmentgroup": "True",
         "hovertemplate": "sector=transport<br>year=%{x}<br>records lost=%{y}<extra></extra>",
         "legendgroup": "transport",
         "marker": {
          "color": "#19d3f3",
          "pattern": {
           "shape": ""
          }
         },
         "name": "transport",
         "offsetgroup": "transport",
         "orientation": "v",
         "showlegend": true,
         "textposition": "auto",
         "type": "bar",
         "x": [
          2021,
          2021,
          2021,
          2021,
          2020,
          2020,
          2019,
          2019,
          2019,
          2018,
          2018,
          2018,
          2018,
          2015,
          2014,
          2014
         ],
         "xaxis": "x",
         "y": [
          3300000,
          4500000,
          21000000,
          16000000,
          9000000,
          5000000,
          3100000,
          18000000,
          4900000,
          94000000,
          700000,
          380000,
          934000,
          10000,
          52000,
          750000
         ],
         "yaxis": "y"
        },
        {
         "alignmentgroup": "True",
         "hovertemplate": "sector=app<br>year=%{x}<br>records lost=%{y}<extra></extra>",
         "legendgroup": "app",
         "marker": {
          "color": "#FF6692",
          "pattern": {
           "shape": ""
          }
         },
         "name": "app",
         "offsetgroup": "app",
         "orientation": "v",
         "showlegend": true,
         "textposition": "auto",
         "type": "bar",
         "x": [
          2021,
          2020,
          2020,
          2020,
          2020,
          2019,
          2018,
          2018,
          2018,
          2018,
          2018,
          2018,
          2017,
          2017,
          2017,
          2017,
          2017,
          2017,
          2016,
          2015,
          2015
         ],
         "xaxis": "x",
         "y": [
          1710000,
          50000000,
          500000,
          2400000,
          500000,
          2000000,
          14000000,
          150000000,
          120000000,
          100000000,
          3000000,
          309000,
          57000000,
          1700000,
          31000000,
          1000000,
          1700000,
          540000,
          15000000,
          400000,
          500000
         ],
         "yaxis": "y"
        },
        {
         "alignmentgroup": "True",
         "hovertemplate": "sector=web<br>year=%{x}<br>records lost=%{y}<extra></extra>",
         "legendgroup": "web",
         "marker": {
          "color": "#B6E880",
          "pattern": {
           "shape": ""
          }
         },
         "name": "web",
         "offsetgroup": "web",
         "orientation": "v",
         "showlegend": true,
         "textposition": "auto",
         "type": "bar",
         "x": [
          2021,
          2020,
          2020,
          2019,
          2019,
          2019,
          2019,
          2019,
          2019,
          2019,
          2019,
          2019,
          2019,
          2019,
          2019,
          2019,
          2019,
          2019,
          2019,
          2019,
          2019,
          2018,
          2018,
          2018,
          2018,
          2018,
          2018,
          2018,
          2018,
          2018,
          2018,
          2018,
          2018,
          2017,
          2017,
          2017,
          2017,
          2017,
          2017,
          2017,
          2017,
          2017,
          2016,
          2016,
          2016,
          2016,
          2016,
          2016,
          2016,
          2016,
          2016,
          2016,
          2016,
          2016,
          2016,
          2016,
          2016,
          2016,
          2016,
          2016,
          2015,
          2015,
          2015,
          2015,
          2015,
          2015,
          2015,
          2015,
          2014,
          2014,
          2014,
          2014,
          2013,
          2013,
          2013,
          2013,
          2013,
          2013,
          2013,
          2013,
          2013,
          2013,
          2013,
          2012,
          2012,
          2012,
          2012,
          2012,
          2012,
          2012,
          2011,
          2011,
          2011,
          2011,
          2011,
          2011,
          2011,
          2010,
          2009,
          2008,
          2007,
          2006,
          2004
         ],
         "xaxis": "x",
         "y": [
          13124962,
          22000000,
          250000000,
          139000000,
          1800000,
          41000000,
          25000000,
          22000000,
          20000000,
          18000000,
          16000000,
          8000000,
          6000000,
          1000000,
          700000,
          40000000,
          1800000,
          14800000,
          275265298,
          419000000,
          26000000,
          202000000,
          52500000,
          100000000,
          50000000,
          92283889,
          14800000,
          40000,
          880000,
          48000000,
          27000000,
          411000,
          29000000,
          17500000,
          300000,
          32000000,
          520000000,
          340000000,
          700000,
          17000000,
          6000000,
          3000000,
          117000000,
          65000000,
          500000000,
          25000000,
          300000,
          9500000,
          2000000,
          35000,
          171000000,
          1500000,
          40000000,
          164000000,
          85200000,
          43000000,
          10000000,
          412000000,
          790724,
          6600000,
          198000000,
          13000000,
          3300000,
          6400000,
          500000,
          37000000,
          3900000,
          70000000,
          2400000,
          145000000,
          5000000,
          76000,
          40000000,
          500000,
          50000000,
          550000000,
          250000,
          200000,
          6000000,
          50000000,
          1000000,
          860000,
          4000000,
          6000000,
          24000000,
          420000,
          43500000,
          8000000,
          8000000,
          68700000,
          2300000,
          3000000,
          10000000,
          62000,
          1000000,
          35000000,
          13200000,
          1500000,
          573000,
          18000000,
          1600000,
          20000000,
          92000000
         ],
         "yaxis": "y"
        },
        {
         "alignmentgroup": "True",
         "hovertemplate": "sector=tech<br>year=%{x}<br>records lost=%{y}<extra></extra>",
         "legendgroup": "tech",
         "marker": {
          "color": "#FF97FF",
          "pattern": {
           "shape": ""
          }
         },
         "name": "tech",
         "offsetgroup": "tech",
         "orientation": "v",
         "showlegend": true,
         "textposition": "auto",
         "type": "bar",
         "x": [
          2021,
          2021,
          2021,
          2021,
          2021,
          2021,
          2019,
          2019,
          2019,
          2018,
          2018,
          2018,
          2017,
          2013,
          2013
         ],
         "xaxis": "x",
         "y": [
          3000000,
          10000000,
          16000000,
          2240000,
          4000000,
          533000000,
          2400000,
          27800000,
          380000000,
          330000000,
          100000,
          200000000,
          3000000,
          38000000,
          1000000
         ],
         "yaxis": "y"
        },
        {
         "alignmentgroup": "True",
         "hovertemplate": "sector=finance<br>year=%{x}<br>records lost=%{y}<extra></extra>",
         "legendgroup": "finance",
         "marker": {
          "color": "#FECB52",
          "pattern": {
           "shape": ""
          }
         },
         "name": "finance",
         "offsetgroup": "finance",
         "orientation": "v",
         "showlegend": true,
         "textposition": "auto",
         "type": "bar",
         "x": [
          2021,
          2020,
          2019,
          2019,
          2019,
          2018,
          2018,
          2016,
          2017,
          2017,
          2017,
          2015,
          2014,
          2014,
          2014,
          2014,
          2013,
          2013,
          2013,
          2013,
          2012,
          2012,
          2011,
          2011,
          2010,
          2010,
          2009,
          2009,
          2008,
          2008,
          2008,
          2008,
          2007,
          2007,
          2007,
          2006,
          2005,
          2005,
          2005
         ],
         "xaxis": "x",
         "y": [
          220000000,
          270000,
          4200000,
          450000,
          100000000,
          300000,
          14000000,
          1100,
          270000,
          1600000,
          143000000,
          40000,
          4000000,
          76000000,
          2700000,
          20000000,
          160000000,
          150000,
          500000,
          200000000,
          1500000,
          3000000,
          34000,
          210000,
          3300000,
          400000,
          130000000,
          5000000,
          1000000,
          4500000,
          2500000,
          1500000,
          8500000,
          2600000,
          6300000,
          125000,
          200000,
          3900000,
          40000000
         ],
         "yaxis": "y"
        },
        {
         "alignmentgroup": "True",
         "hovertemplate": "sector=health <br>year=%{x}<br>records lost=%{y}<extra></extra>",
         "legendgroup": "health ",
         "marker": {
          "color": "#636efa",
          "pattern": {
           "shape": ""
          }
         },
         "name": "health ",
         "offsetgroup": "health ",
         "orientation": "v",
         "showlegend": true,
         "textposition": "auto",
         "type": "bar",
         "x": [
          2020,
          2019,
          2019,
          2018,
          2018,
          2018,
          2017,
          2016,
          2016,
          2016,
          2016,
          2015,
          2015,
          2015,
          2015,
          2015,
          2014,
          2013,
          2013,
          2013,
          2012,
          2012,
          2012,
          2011,
          2011,
          2011,
          2011,
          2011,
          2011,
          2011,
          2011,
          2011,
          2011,
          2011,
          2011,
          2010,
          2010,
          2010,
          2010,
          2010,
          2010,
          2009,
          2009
         ],
         "xaxis": "x",
         "y": [
          1000000,
          20000000,
          2700000,
          1500000,
          3000000,
          93689,
          81309,
          3700000,
          112000,
          550000,
          34000,
          1100000,
          10000000,
          11000000,
          80000000,
          4500000,
          4500000,
          344579,
          100000,
          4000000,
          228000,
          315000,
          102153,
          1700000,
          231400,
          800000,
          156000,
          300000,
          175350,
          1900000,
          514330,
          400000,
          8600000,
          1600000,
          4243434,
          1220000,
          1023209,
          398000,
          180111,
          105470,
          130495,
          531400,
          1500000
         ],
         "yaxis": "y"
        },
        {
         "alignmentgroup": "True",
         "hovertemplate": "sector=misc, health<br>year=%{x}<br>records lost=%{y}<extra></extra>",
         "legendgroup": "misc, health",
         "marker": {
          "color": "#EF553B",
          "pattern": {
           "shape": ""
          }
         },
         "name": "misc, health",
         "offsetgroup": "misc, health",
         "orientation": "v",
         "showlegend": true,
         "textposition": "auto",
         "type": "bar",
         "x": [
          2020
         ],
         "xaxis": "x",
         "y": [
          1400000
         ],
         "yaxis": "y"
        },
        {
         "alignmentgroup": "True",
         "hovertemplate": "sector=misc<br>year=%{x}<br>records lost=%{y}<extra></extra>",
         "legendgroup": "misc",
         "marker": {
          "color": "#00cc96",
          "pattern": {
           "shape": ""
          }
         },
         "name": "misc",
         "offsetgroup": "misc",
         "orientation": "v",
         "showlegend": true,
         "textposition": "auto",
         "type": "bar",
         "x": [
          2020,
          2019,
          2016,
          2016,
          2014,
          2013,
          2012,
          2011,
          2008
         ],
         "xaxis": "x",
         "y": [
          2400000,
          49000000,
          11500000,
          2200000,
          10000000,
          110000,
          1800000,
          1270000,
          11100000
         ],
         "yaxis": "y"
        },
        {
         "alignmentgroup": "True",
         "hovertemplate": "sector=tech, health<br>year=%{x}<br>records lost=%{y}<extra></extra>",
         "legendgroup": "tech, health",
         "marker": {
          "color": "#ab63fa",
          "pattern": {
           "shape": ""
          }
         },
         "name": "tech, health",
         "offsetgroup": "tech, health",
         "orientation": "v",
         "showlegend": true,
         "textposition": "auto",
         "type": "bar",
         "x": [
          2020
         ],
         "xaxis": "x",
         "y": [
          2500000
         ],
         "yaxis": "y"
        },
        {
         "alignmentgroup": "True",
         "hovertemplate": "sector=academic<br>year=%{x}<br>records lost=%{y}<extra></extra>",
         "legendgroup": "academic",
         "marker": {
          "color": "#FFA15A",
          "pattern": {
           "shape": ""
          }
         },
         "name": "academic",
         "offsetgroup": "academic",
         "orientation": "v",
         "showlegend": true,
         "textposition": "auto",
         "type": "bar",
         "x": [
          2019,
          2014,
          2013,
          2013,
          2011,
          2011,
          2010,
          2009,
          2008,
          2008,
          2008
         ],
         "xaxis": "x",
         "y": [
          200000,
          146000,
          74000,
          125000,
          43000,
          73000,
          760000,
          160000,
          2100000,
          72000,
          2200000
         ],
         "yaxis": "y"
        },
        {
         "alignmentgroup": "True",
         "hovertemplate": "sector=tech, app<br>year=%{x}<br>records lost=%{y}<extra></extra>",
         "legendgroup": "tech, app",
         "marker": {
          "color": "#19d3f3",
          "pattern": {
           "shape": ""
          }
         },
         "name": "tech, app",
         "offsetgroup": "tech, app",
         "orientation": "v",
         "showlegend": true,
         "textposition": "auto",
         "type": "bar",
         "x": [
          2015
         ],
         "xaxis": "x",
         "y": [
          50000
         ],
         "yaxis": "y"
        },
        {
         "alignmentgroup": "True",
         "hovertemplate": "sector=web, tech<br>year=%{x}<br>records lost=%{y}<extra></extra>",
         "legendgroup": "web, tech",
         "marker": {
          "color": "#FF6692",
          "pattern": {
           "shape": ""
          }
         },
         "name": "web, tech",
         "offsetgroup": "web, tech",
         "orientation": "v",
         "showlegend": true,
         "textposition": "auto",
         "type": "bar",
         "x": [
          2013
         ],
         "xaxis": "x",
         "y": [
          4600000
         ],
         "yaxis": "y"
        },
        {
         "alignmentgroup": "True",
         "hovertemplate": "sector=tech, web<br>year=%{x}<br>records lost=%{y}<extra></extra>",
         "legendgroup": "tech, web",
         "marker": {
          "color": "#B6E880",
          "pattern": {
           "shape": ""
          }
         },
         "name": "tech, web",
         "offsetgroup": "tech, web",
         "orientation": "v",
         "showlegend": true,
         "textposition": "auto",
         "type": "bar",
         "x": [
          2013,
          2013,
          2013,
          2012
         ],
         "xaxis": "x",
         "y": [
          275000,
          2000000,
          22000000,
          450000
         ],
         "yaxis": "y"
        },
        {
         "alignmentgroup": "True",
         "hovertemplate": "sector=government, health<br>year=%{x}<br>records lost=%{y}<extra></extra>",
         "legendgroup": "government, health",
         "marker": {
          "color": "#FF97FF",
          "pattern": {
           "shape": ""
          }
         },
         "name": "government, health",
         "offsetgroup": "government, health",
         "orientation": "v",
         "showlegend": true,
         "textposition": "auto",
         "type": "bar",
         "x": [
          2012
         ],
         "xaxis": "x",
         "y": [
          780000
         ],
         "yaxis": "y"
        },
        {
         "alignmentgroup": "True",
         "hovertemplate": "sector=web, military<br>year=%{x}<br>records lost=%{y}<extra></extra>",
         "legendgroup": "web, military",
         "marker": {
          "color": "#FECB52",
          "pattern": {
           "shape": ""
          }
         },
         "name": "web, military",
         "offsetgroup": "web, military",
         "orientation": "v",
         "showlegend": true,
         "textposition": "auto",
         "type": "bar",
         "x": [
          2012
         ],
         "xaxis": "x",
         "y": [
          163792
         ],
         "yaxis": "y"
        },
        {
         "alignmentgroup": "True",
         "hovertemplate": "sector=tech, retail<br>year=%{x}<br>records lost=%{y}<extra></extra>",
         "legendgroup": "tech, retail",
         "marker": {
          "color": "#636efa",
          "pattern": {
           "shape": ""
          }
         },
         "name": "tech, retail",
         "offsetgroup": "tech, retail",
         "orientation": "v",
         "showlegend": true,
         "textposition": "auto",
         "type": "bar",
         "x": [
          2012,
          2006
         ],
         "xaxis": "x",
         "y": [
          12367232,
          200000
         ],
         "yaxis": "y"
        },
        {
         "alignmentgroup": "True",
         "hovertemplate": "sector=military<br>year=%{x}<br>records lost=%{y}<extra></extra>",
         "legendgroup": "military",
         "marker": {
          "color": "#EF553B",
          "pattern": {
           "shape": ""
          }
         },
         "name": "military",
         "offsetgroup": "military",
         "orientation": "v",
         "showlegend": true,
         "textposition": "auto",
         "type": "bar",
         "x": [
          2011,
          2010,
          2009,
          2009
         ],
         "xaxis": "x",
         "y": [
          935000,
          260000,
          131000,
          76000000
         ],
         "yaxis": "y"
        },
        {
         "alignmentgroup": "True",
         "hovertemplate": "sector=military, health<br>year=%{x}<br>records lost=%{y}<extra></extra>",
         "legendgroup": "military, health",
         "marker": {
          "color": "#00cc96",
          "pattern": {
           "shape": ""
          }
         },
         "name": "military, health",
         "offsetgroup": "military, health",
         "orientation": "v",
         "showlegend": true,
         "textposition": "auto",
         "type": "bar",
         "x": [
          2011
         ],
         "xaxis": "x",
         "y": [
          4901432
         ],
         "yaxis": "y"
        },
        {
         "alignmentgroup": "True",
         "hovertemplate": "sector=web, gaming<br>year=%{x}<br>records lost=%{y}<extra></extra>",
         "legendgroup": "web, gaming",
         "marker": {
          "color": "#ab63fa",
          "pattern": {
           "shape": ""
          }
         },
         "name": "web, gaming",
         "offsetgroup": "web, gaming",
         "orientation": "v",
         "showlegend": true,
         "textposition": "auto",
         "type": "bar",
         "x": [
          2009
         ],
         "xaxis": "x",
         "y": [
          32000000
         ],
         "yaxis": "y"
        },
        {
         "alignmentgroup": "True",
         "hovertemplate": "sector=government, military<br>year=%{x}<br>records lost=%{y}<extra></extra>",
         "legendgroup": "government, military",
         "marker": {
          "color": "#FFA15A",
          "pattern": {
           "shape": ""
          }
         },
         "name": "government, military",
         "offsetgroup": "government, military",
         "orientation": "v",
         "showlegend": true,
         "textposition": "auto",
         "type": "bar",
         "x": [
          2006
         ],
         "xaxis": "x",
         "y": [
          26500000
         ],
         "yaxis": "y"
        }
       ],
       "layout": {
        "barmode": "relative",
        "legend": {
         "title": {
          "text": "sector"
         },
         "tracegroupgap": 0
        },
        "margin": {
         "t": 60
        },
        "template": {
         "data": {
          "bar": [
           {
            "error_x": {
             "color": "#2a3f5f"
            },
            "error_y": {
             "color": "#2a3f5f"
            },
            "marker": {
             "line": {
              "color": "#E5ECF6",
              "width": 0.5
             },
             "pattern": {
              "fillmode": "overlay",
              "size": 10,
              "solidity": 0.2
             }
            },
            "type": "bar"
           }
          ],
          "barpolar": [
           {
            "marker": {
             "line": {
              "color": "#E5ECF6",
              "width": 0.5
             },
             "pattern": {
              "fillmode": "overlay",
              "size": 10,
              "solidity": 0.2
             }
            },
            "type": "barpolar"
           }
          ],
          "carpet": [
           {
            "aaxis": {
             "endlinecolor": "#2a3f5f",
             "gridcolor": "white",
             "linecolor": "white",
             "minorgridcolor": "white",
             "startlinecolor": "#2a3f5f"
            },
            "baxis": {
             "endlinecolor": "#2a3f5f",
             "gridcolor": "white",
             "linecolor": "white",
             "minorgridcolor": "white",
             "startlinecolor": "#2a3f5f"
            },
            "type": "carpet"
           }
          ],
          "choropleth": [
           {
            "colorbar": {
             "outlinewidth": 0,
             "ticks": ""
            },
            "type": "choropleth"
           }
          ],
          "contour": [
           {
            "colorbar": {
             "outlinewidth": 0,
             "ticks": ""
            },
            "colorscale": [
             [
              0,
              "#0d0887"
             ],
             [
              0.1111111111111111,
              "#46039f"
             ],
             [
              0.2222222222222222,
              "#7201a8"
             ],
             [
              0.3333333333333333,
              "#9c179e"
             ],
             [
              0.4444444444444444,
              "#bd3786"
             ],
             [
              0.5555555555555556,
              "#d8576b"
             ],
             [
              0.6666666666666666,
              "#ed7953"
             ],
             [
              0.7777777777777778,
              "#fb9f3a"
             ],
             [
              0.8888888888888888,
              "#fdca26"
             ],
             [
              1,
              "#f0f921"
             ]
            ],
            "type": "contour"
           }
          ],
          "contourcarpet": [
           {
            "colorbar": {
             "outlinewidth": 0,
             "ticks": ""
            },
            "type": "contourcarpet"
           }
          ],
          "heatmap": [
           {
            "colorbar": {
             "outlinewidth": 0,
             "ticks": ""
            },
            "colorscale": [
             [
              0,
              "#0d0887"
             ],
             [
              0.1111111111111111,
              "#46039f"
             ],
             [
              0.2222222222222222,
              "#7201a8"
             ],
             [
              0.3333333333333333,
              "#9c179e"
             ],
             [
              0.4444444444444444,
              "#bd3786"
             ],
             [
              0.5555555555555556,
              "#d8576b"
             ],
             [
              0.6666666666666666,
              "#ed7953"
             ],
             [
              0.7777777777777778,
              "#fb9f3a"
             ],
             [
              0.8888888888888888,
              "#fdca26"
             ],
             [
              1,
              "#f0f921"
             ]
            ],
            "type": "heatmap"
           }
          ],
          "heatmapgl": [
           {
            "colorbar": {
             "outlinewidth": 0,
             "ticks": ""
            },
            "colorscale": [
             [
              0,
              "#0d0887"
             ],
             [
              0.1111111111111111,
              "#46039f"
             ],
             [
              0.2222222222222222,
              "#7201a8"
             ],
             [
              0.3333333333333333,
              "#9c179e"
             ],
             [
              0.4444444444444444,
              "#bd3786"
             ],
             [
              0.5555555555555556,
              "#d8576b"
             ],
             [
              0.6666666666666666,
              "#ed7953"
             ],
             [
              0.7777777777777778,
              "#fb9f3a"
             ],
             [
              0.8888888888888888,
              "#fdca26"
             ],
             [
              1,
              "#f0f921"
             ]
            ],
            "type": "heatmapgl"
           }
          ],
          "histogram": [
           {
            "marker": {
             "pattern": {
              "fillmode": "overlay",
              "size": 10,
              "solidity": 0.2
             }
            },
            "type": "histogram"
           }
          ],
          "histogram2d": [
           {
            "colorbar": {
             "outlinewidth": 0,
             "ticks": ""
            },
            "colorscale": [
             [
              0,
              "#0d0887"
             ],
             [
              0.1111111111111111,
              "#46039f"
             ],
             [
              0.2222222222222222,
              "#7201a8"
             ],
             [
              0.3333333333333333,
              "#9c179e"
             ],
             [
              0.4444444444444444,
              "#bd3786"
             ],
             [
              0.5555555555555556,
              "#d8576b"
             ],
             [
              0.6666666666666666,
              "#ed7953"
             ],
             [
              0.7777777777777778,
              "#fb9f3a"
             ],
             [
              0.8888888888888888,
              "#fdca26"
             ],
             [
              1,
              "#f0f921"
             ]
            ],
            "type": "histogram2d"
           }
          ],
          "histogram2dcontour": [
           {
            "colorbar": {
             "outlinewidth": 0,
             "ticks": ""
            },
            "colorscale": [
             [
              0,
              "#0d0887"
             ],
             [
              0.1111111111111111,
              "#46039f"
             ],
             [
              0.2222222222222222,
              "#7201a8"
             ],
             [
              0.3333333333333333,
              "#9c179e"
             ],
             [
              0.4444444444444444,
              "#bd3786"
             ],
             [
              0.5555555555555556,
              "#d8576b"
             ],
             [
              0.6666666666666666,
              "#ed7953"
             ],
             [
              0.7777777777777778,
              "#fb9f3a"
             ],
             [
              0.8888888888888888,
              "#fdca26"
             ],
             [
              1,
              "#f0f921"
             ]
            ],
            "type": "histogram2dcontour"
           }
          ],
          "mesh3d": [
           {
            "colorbar": {
             "outlinewidth": 0,
             "ticks": ""
            },
            "type": "mesh3d"
           }
          ],
          "parcoords": [
           {
            "line": {
             "colorbar": {
              "outlinewidth": 0,
              "ticks": ""
             }
            },
            "type": "parcoords"
           }
          ],
          "pie": [
           {
            "automargin": true,
            "type": "pie"
           }
          ],
          "scatter": [
           {
            "marker": {
             "colorbar": {
              "outlinewidth": 0,
              "ticks": ""
             }
            },
            "type": "scatter"
           }
          ],
          "scatter3d": [
           {
            "line": {
             "colorbar": {
              "outlinewidth": 0,
              "ticks": ""
             }
            },
            "marker": {
             "colorbar": {
              "outlinewidth": 0,
              "ticks": ""
             }
            },
            "type": "scatter3d"
           }
          ],
          "scattercarpet": [
           {
            "marker": {
             "colorbar": {
              "outlinewidth": 0,
              "ticks": ""
             }
            },
            "type": "scattercarpet"
           }
          ],
          "scattergeo": [
           {
            "marker": {
             "colorbar": {
              "outlinewidth": 0,
              "ticks": ""
             }
            },
            "type": "scattergeo"
           }
          ],
          "scattergl": [
           {
            "marker": {
             "colorbar": {
              "outlinewidth": 0,
              "ticks": ""
             }
            },
            "type": "scattergl"
           }
          ],
          "scattermapbox": [
           {
            "marker": {
             "colorbar": {
              "outlinewidth": 0,
              "ticks": ""
             }
            },
            "type": "scattermapbox"
           }
          ],
          "scatterpolar": [
           {
            "marker": {
             "colorbar": {
              "outlinewidth": 0,
              "ticks": ""
             }
            },
            "type": "scatterpolar"
           }
          ],
          "scatterpolargl": [
           {
            "marker": {
             "colorbar": {
              "outlinewidth": 0,
              "ticks": ""
             }
            },
            "type": "scatterpolargl"
           }
          ],
          "scatterternary": [
           {
            "marker": {
             "colorbar": {
              "outlinewidth": 0,
              "ticks": ""
             }
            },
            "type": "scatterternary"
           }
          ],
          "surface": [
           {
            "colorbar": {
             "outlinewidth": 0,
             "ticks": ""
            },
            "colorscale": [
             [
              0,
              "#0d0887"
             ],
             [
              0.1111111111111111,
              "#46039f"
             ],
             [
              0.2222222222222222,
              "#7201a8"
             ],
             [
              0.3333333333333333,
              "#9c179e"
             ],
             [
              0.4444444444444444,
              "#bd3786"
             ],
             [
              0.5555555555555556,
              "#d8576b"
             ],
             [
              0.6666666666666666,
              "#ed7953"
             ],
             [
              0.7777777777777778,
              "#fb9f3a"
             ],
             [
              0.8888888888888888,
              "#fdca26"
             ],
             [
              1,
              "#f0f921"
             ]
            ],
            "type": "surface"
           }
          ],
          "table": [
           {
            "cells": {
             "fill": {
              "color": "#EBF0F8"
             },
             "line": {
              "color": "white"
             }
            },
            "header": {
             "fill": {
              "color": "#C8D4E3"
             },
             "line": {
              "color": "white"
             }
            },
            "type": "table"
           }
          ]
         },
         "layout": {
          "annotationdefaults": {
           "arrowcolor": "#2a3f5f",
           "arrowhead": 0,
           "arrowwidth": 1
          },
          "autotypenumbers": "strict",
          "coloraxis": {
           "colorbar": {
            "outlinewidth": 0,
            "ticks": ""
           }
          },
          "colorscale": {
           "diverging": [
            [
             0,
             "#8e0152"
            ],
            [
             0.1,
             "#c51b7d"
            ],
            [
             0.2,
             "#de77ae"
            ],
            [
             0.3,
             "#f1b6da"
            ],
            [
             0.4,
             "#fde0ef"
            ],
            [
             0.5,
             "#f7f7f7"
            ],
            [
             0.6,
             "#e6f5d0"
            ],
            [
             0.7,
             "#b8e186"
            ],
            [
             0.8,
             "#7fbc41"
            ],
            [
             0.9,
             "#4d9221"
            ],
            [
             1,
             "#276419"
            ]
           ],
           "sequential": [
            [
             0,
             "#0d0887"
            ],
            [
             0.1111111111111111,
             "#46039f"
            ],
            [
             0.2222222222222222,
             "#7201a8"
            ],
            [
             0.3333333333333333,
             "#9c179e"
            ],
            [
             0.4444444444444444,
             "#bd3786"
            ],
            [
             0.5555555555555556,
             "#d8576b"
            ],
            [
             0.6666666666666666,
             "#ed7953"
            ],
            [
             0.7777777777777778,
             "#fb9f3a"
            ],
            [
             0.8888888888888888,
             "#fdca26"
            ],
            [
             1,
             "#f0f921"
            ]
           ],
           "sequentialminus": [
            [
             0,
             "#0d0887"
            ],
            [
             0.1111111111111111,
             "#46039f"
            ],
            [
             0.2222222222222222,
             "#7201a8"
            ],
            [
             0.3333333333333333,
             "#9c179e"
            ],
            [
             0.4444444444444444,
             "#bd3786"
            ],
            [
             0.5555555555555556,
             "#d8576b"
            ],
            [
             0.6666666666666666,
             "#ed7953"
            ],
            [
             0.7777777777777778,
             "#fb9f3a"
            ],
            [
             0.8888888888888888,
             "#fdca26"
            ],
            [
             1,
             "#f0f921"
            ]
           ]
          },
          "colorway": [
           "#636efa",
           "#EF553B",
           "#00cc96",
           "#ab63fa",
           "#FFA15A",
           "#19d3f3",
           "#FF6692",
           "#B6E880",
           "#FF97FF",
           "#FECB52"
          ],
          "font": {
           "color": "#2a3f5f"
          },
          "geo": {
           "bgcolor": "white",
           "lakecolor": "white",
           "landcolor": "#E5ECF6",
           "showlakes": true,
           "showland": true,
           "subunitcolor": "white"
          },
          "hoverlabel": {
           "align": "left"
          },
          "hovermode": "closest",
          "mapbox": {
           "style": "light"
          },
          "paper_bgcolor": "white",
          "plot_bgcolor": "#E5ECF6",
          "polar": {
           "angularaxis": {
            "gridcolor": "white",
            "linecolor": "white",
            "ticks": ""
           },
           "bgcolor": "#E5ECF6",
           "radialaxis": {
            "gridcolor": "white",
            "linecolor": "white",
            "ticks": ""
           }
          },
          "scene": {
           "xaxis": {
            "backgroundcolor": "#E5ECF6",
            "gridcolor": "white",
            "gridwidth": 2,
            "linecolor": "white",
            "showbackground": true,
            "ticks": "",
            "zerolinecolor": "white"
           },
           "yaxis": {
            "backgroundcolor": "#E5ECF6",
            "gridcolor": "white",
            "gridwidth": 2,
            "linecolor": "white",
            "showbackground": true,
            "ticks": "",
            "zerolinecolor": "white"
           },
           "zaxis": {
            "backgroundcolor": "#E5ECF6",
            "gridcolor": "white",
            "gridwidth": 2,
            "linecolor": "white",
            "showbackground": true,
            "ticks": "",
            "zerolinecolor": "white"
           }
          },
          "shapedefaults": {
           "line": {
            "color": "#2a3f5f"
           }
          },
          "ternary": {
           "aaxis": {
            "gridcolor": "white",
            "linecolor": "white",
            "ticks": ""
           },
           "baxis": {
            "gridcolor": "white",
            "linecolor": "white",
            "ticks": ""
           },
           "bgcolor": "#E5ECF6",
           "caxis": {
            "gridcolor": "white",
            "linecolor": "white",
            "ticks": ""
           }
          },
          "title": {
           "x": 0.05
          },
          "xaxis": {
           "automargin": true,
           "gridcolor": "white",
           "linecolor": "white",
           "ticks": "",
           "title": {
            "standoff": 15
           },
           "zerolinecolor": "white",
           "zerolinewidth": 2
          },
          "yaxis": {
           "automargin": true,
           "gridcolor": "white",
           "linecolor": "white",
           "ticks": "",
           "title": {
            "standoff": 15
           },
           "zerolinecolor": "white",
           "zerolinewidth": 2
          }
         }
        },
        "xaxis": {
         "anchor": "y",
         "domain": [
          0,
          1
         ],
         "title": {
          "text": "year"
         }
        },
        "yaxis": {
         "anchor": "x",
         "domain": [
          0,
          1
         ],
         "title": {
          "text": "records lost"
         }
        }
       }
      }
     },
     "metadata": {},
     "output_type": "display_data"
    }
   ],
   "source": [
    "fig = px.bar(df, x=\"year\", y='records lost', color='sector')\n",
    "fig.show()"
   ]
  },
  {
   "cell_type": "code",
   "execution_count": 82,
   "metadata": {},
   "outputs": [
    {
     "name": "stdout",
     "output_type": "stream",
     "text": [
      "   year  records lost\n",
      "8  2012   221926177.0\n"
     ]
    },
    {
     "data": {
      "application/vnd.plotly.v1+json": {
       "config": {
        "plotlyServerURL": "https://plot.ly"
       },
       "data": [
        {
         "hovertemplate": "Jahre=%{x}<br>=%{y}<extra></extra>",
         "legendgroup": "",
         "line": {
          "color": "LightSkyBlue",
          "dash": "solid",
          "width": 2
         },
         "marker": {
          "color": "LightSkyBlue",
          "opacity": 0.8,
          "size": 10,
          "symbol": "circle"
         },
         "mode": "markers+lines",
         "name": "",
         "orientation": "v",
         "showlegend": false,
         "type": "scatter",
         "x": [
          2004,
          2005,
          2006,
          2007,
          2008,
          2009,
          2010,
          2011,
          2012,
          2013,
          2014,
          2015,
          2016,
          2017,
          2018,
          2019,
          2020,
          2021
         ],
         "xaxis": "x",
         "y": [
          92000000,
          44100000,
          50825000,
          150597405,
          76255500,
          245895400,
          9783285,
          201236162,
          221926177,
          1272018579,
          338674396,
          482857030,
          1803040035,
          1234191309,
          2719547878,
          2000815298,
          496707000,
          2277765962
         ],
         "yaxis": "y"
        },
        {
         "hovertemplate": "year=%{x}<br>records lost=%{y}<extra></extra>",
         "legendgroup": "",
         "marker": {
          "color": "pink",
          "opacity": 0.5,
          "size": 15,
          "symbol": "circle"
         },
         "mode": "markers",
         "name": "",
         "orientation": "v",
         "showlegend": false,
         "type": "scatter",
         "x": [
          2012
         ],
         "xaxis": "x",
         "y": [
          221926177
         ],
         "yaxis": "y"
        }
       ],
       "layout": {
        "annotations": [
         {
          "showarrow": false,
          "text": "entstandener Schaden (in US$)",
          "valign": "top",
          "x": 0,
          "xref": "paper",
          "y": 1.1,
          "yref": "y domain"
         }
        ],
        "legend": {
         "tracegroupgap": 0
        },
        "paper_bgcolor": "rgba(255,255,255,1)",
        "plot_bgcolor": "rgba(0,0,0,0)",
        "template": {
         "data": {
          "bar": [
           {
            "error_x": {
             "color": "#2a3f5f"
            },
            "error_y": {
             "color": "#2a3f5f"
            },
            "marker": {
             "line": {
              "color": "#E5ECF6",
              "width": 0.5
             },
             "pattern": {
              "fillmode": "overlay",
              "size": 10,
              "solidity": 0.2
             }
            },
            "type": "bar"
           }
          ],
          "barpolar": [
           {
            "marker": {
             "line": {
              "color": "#E5ECF6",
              "width": 0.5
             },
             "pattern": {
              "fillmode": "overlay",
              "size": 10,
              "solidity": 0.2
             }
            },
            "type": "barpolar"
           }
          ],
          "carpet": [
           {
            "aaxis": {
             "endlinecolor": "#2a3f5f",
             "gridcolor": "white",
             "linecolor": "white",
             "minorgridcolor": "white",
             "startlinecolor": "#2a3f5f"
            },
            "baxis": {
             "endlinecolor": "#2a3f5f",
             "gridcolor": "white",
             "linecolor": "white",
             "minorgridcolor": "white",
             "startlinecolor": "#2a3f5f"
            },
            "type": "carpet"
           }
          ],
          "choropleth": [
           {
            "colorbar": {
             "outlinewidth": 0,
             "ticks": ""
            },
            "type": "choropleth"
           }
          ],
          "contour": [
           {
            "colorbar": {
             "outlinewidth": 0,
             "ticks": ""
            },
            "colorscale": [
             [
              0,
              "#0d0887"
             ],
             [
              0.1111111111111111,
              "#46039f"
             ],
             [
              0.2222222222222222,
              "#7201a8"
             ],
             [
              0.3333333333333333,
              "#9c179e"
             ],
             [
              0.4444444444444444,
              "#bd3786"
             ],
             [
              0.5555555555555556,
              "#d8576b"
             ],
             [
              0.6666666666666666,
              "#ed7953"
             ],
             [
              0.7777777777777778,
              "#fb9f3a"
             ],
             [
              0.8888888888888888,
              "#fdca26"
             ],
             [
              1,
              "#f0f921"
             ]
            ],
            "type": "contour"
           }
          ],
          "contourcarpet": [
           {
            "colorbar": {
             "outlinewidth": 0,
             "ticks": ""
            },
            "type": "contourcarpet"
           }
          ],
          "heatmap": [
           {
            "colorbar": {
             "outlinewidth": 0,
             "ticks": ""
            },
            "colorscale": [
             [
              0,
              "#0d0887"
             ],
             [
              0.1111111111111111,
              "#46039f"
             ],
             [
              0.2222222222222222,
              "#7201a8"
             ],
             [
              0.3333333333333333,
              "#9c179e"
             ],
             [
              0.4444444444444444,
              "#bd3786"
             ],
             [
              0.5555555555555556,
              "#d8576b"
             ],
             [
              0.6666666666666666,
              "#ed7953"
             ],
             [
              0.7777777777777778,
              "#fb9f3a"
             ],
             [
              0.8888888888888888,
              "#fdca26"
             ],
             [
              1,
              "#f0f921"
             ]
            ],
            "type": "heatmap"
           }
          ],
          "heatmapgl": [
           {
            "colorbar": {
             "outlinewidth": 0,
             "ticks": ""
            },
            "colorscale": [
             [
              0,
              "#0d0887"
             ],
             [
              0.1111111111111111,
              "#46039f"
             ],
             [
              0.2222222222222222,
              "#7201a8"
             ],
             [
              0.3333333333333333,
              "#9c179e"
             ],
             [
              0.4444444444444444,
              "#bd3786"
             ],
             [
              0.5555555555555556,
              "#d8576b"
             ],
             [
              0.6666666666666666,
              "#ed7953"
             ],
             [
              0.7777777777777778,
              "#fb9f3a"
             ],
             [
              0.8888888888888888,
              "#fdca26"
             ],
             [
              1,
              "#f0f921"
             ]
            ],
            "type": "heatmapgl"
           }
          ],
          "histogram": [
           {
            "marker": {
             "pattern": {
              "fillmode": "overlay",
              "size": 10,
              "solidity": 0.2
             }
            },
            "type": "histogram"
           }
          ],
          "histogram2d": [
           {
            "colorbar": {
             "outlinewidth": 0,
             "ticks": ""
            },
            "colorscale": [
             [
              0,
              "#0d0887"
             ],
             [
              0.1111111111111111,
              "#46039f"
             ],
             [
              0.2222222222222222,
              "#7201a8"
             ],
             [
              0.3333333333333333,
              "#9c179e"
             ],
             [
              0.4444444444444444,
              "#bd3786"
             ],
             [
              0.5555555555555556,
              "#d8576b"
             ],
             [
              0.6666666666666666,
              "#ed7953"
             ],
             [
              0.7777777777777778,
              "#fb9f3a"
             ],
             [
              0.8888888888888888,
              "#fdca26"
             ],
             [
              1,
              "#f0f921"
             ]
            ],
            "type": "histogram2d"
           }
          ],
          "histogram2dcontour": [
           {
            "colorbar": {
             "outlinewidth": 0,
             "ticks": ""
            },
            "colorscale": [
             [
              0,
              "#0d0887"
             ],
             [
              0.1111111111111111,
              "#46039f"
             ],
             [
              0.2222222222222222,
              "#7201a8"
             ],
             [
              0.3333333333333333,
              "#9c179e"
             ],
             [
              0.4444444444444444,
              "#bd3786"
             ],
             [
              0.5555555555555556,
              "#d8576b"
             ],
             [
              0.6666666666666666,
              "#ed7953"
             ],
             [
              0.7777777777777778,
              "#fb9f3a"
             ],
             [
              0.8888888888888888,
              "#fdca26"
             ],
             [
              1,
              "#f0f921"
             ]
            ],
            "type": "histogram2dcontour"
           }
          ],
          "mesh3d": [
           {
            "colorbar": {
             "outlinewidth": 0,
             "ticks": ""
            },
            "type": "mesh3d"
           }
          ],
          "parcoords": [
           {
            "line": {
             "colorbar": {
              "outlinewidth": 0,
              "ticks": ""
             }
            },
            "type": "parcoords"
           }
          ],
          "pie": [
           {
            "automargin": true,
            "type": "pie"
           }
          ],
          "scatter": [
           {
            "marker": {
             "colorbar": {
              "outlinewidth": 0,
              "ticks": ""
             }
            },
            "type": "scatter"
           }
          ],
          "scatter3d": [
           {
            "line": {
             "colorbar": {
              "outlinewidth": 0,
              "ticks": ""
             }
            },
            "marker": {
             "colorbar": {
              "outlinewidth": 0,
              "ticks": ""
             }
            },
            "type": "scatter3d"
           }
          ],
          "scattercarpet": [
           {
            "marker": {
             "colorbar": {
              "outlinewidth": 0,
              "ticks": ""
             }
            },
            "type": "scattercarpet"
           }
          ],
          "scattergeo": [
           {
            "marker": {
             "colorbar": {
              "outlinewidth": 0,
              "ticks": ""
             }
            },
            "type": "scattergeo"
           }
          ],
          "scattergl": [
           {
            "marker": {
             "colorbar": {
              "outlinewidth": 0,
              "ticks": ""
             }
            },
            "type": "scattergl"
           }
          ],
          "scattermapbox": [
           {
            "marker": {
             "colorbar": {
              "outlinewidth": 0,
              "ticks": ""
             }
            },
            "type": "scattermapbox"
           }
          ],
          "scatterpolar": [
           {
            "marker": {
             "colorbar": {
              "outlinewidth": 0,
              "ticks": ""
             }
            },
            "type": "scatterpolar"
           }
          ],
          "scatterpolargl": [
           {
            "marker": {
             "colorbar": {
              "outlinewidth": 0,
              "ticks": ""
             }
            },
            "type": "scatterpolargl"
           }
          ],
          "scatterternary": [
           {
            "marker": {
             "colorbar": {
              "outlinewidth": 0,
              "ticks": ""
             }
            },
            "type": "scatterternary"
           }
          ],
          "surface": [
           {
            "colorbar": {
             "outlinewidth": 0,
             "ticks": ""
            },
            "colorscale": [
             [
              0,
              "#0d0887"
             ],
             [
              0.1111111111111111,
              "#46039f"
             ],
             [
              0.2222222222222222,
              "#7201a8"
             ],
             [
              0.3333333333333333,
              "#9c179e"
             ],
             [
              0.4444444444444444,
              "#bd3786"
             ],
             [
              0.5555555555555556,
              "#d8576b"
             ],
             [
              0.6666666666666666,
              "#ed7953"
             ],
             [
              0.7777777777777778,
              "#fb9f3a"
             ],
             [
              0.8888888888888888,
              "#fdca26"
             ],
             [
              1,
              "#f0f921"
             ]
            ],
            "type": "surface"
           }
          ],
          "table": [
           {
            "cells": {
             "fill": {
              "color": "#EBF0F8"
             },
             "line": {
              "color": "white"
             }
            },
            "header": {
             "fill": {
              "color": "#C8D4E3"
             },
             "line": {
              "color": "white"
             }
            },
            "type": "table"
           }
          ]
         },
         "layout": {
          "annotationdefaults": {
           "arrowcolor": "#2a3f5f",
           "arrowhead": 0,
           "arrowwidth": 1
          },
          "autotypenumbers": "strict",
          "coloraxis": {
           "colorbar": {
            "outlinewidth": 0,
            "ticks": ""
           }
          },
          "colorscale": {
           "diverging": [
            [
             0,
             "#8e0152"
            ],
            [
             0.1,
             "#c51b7d"
            ],
            [
             0.2,
             "#de77ae"
            ],
            [
             0.3,
             "#f1b6da"
            ],
            [
             0.4,
             "#fde0ef"
            ],
            [
             0.5,
             "#f7f7f7"
            ],
            [
             0.6,
             "#e6f5d0"
            ],
            [
             0.7,
             "#b8e186"
            ],
            [
             0.8,
             "#7fbc41"
            ],
            [
             0.9,
             "#4d9221"
            ],
            [
             1,
             "#276419"
            ]
           ],
           "sequential": [
            [
             0,
             "#0d0887"
            ],
            [
             0.1111111111111111,
             "#46039f"
            ],
            [
             0.2222222222222222,
             "#7201a8"
            ],
            [
             0.3333333333333333,
             "#9c179e"
            ],
            [
             0.4444444444444444,
             "#bd3786"
            ],
            [
             0.5555555555555556,
             "#d8576b"
            ],
            [
             0.6666666666666666,
             "#ed7953"
            ],
            [
             0.7777777777777778,
             "#fb9f3a"
            ],
            [
             0.8888888888888888,
             "#fdca26"
            ],
            [
             1,
             "#f0f921"
            ]
           ],
           "sequentialminus": [
            [
             0,
             "#0d0887"
            ],
            [
             0.1111111111111111,
             "#46039f"
            ],
            [
             0.2222222222222222,
             "#7201a8"
            ],
            [
             0.3333333333333333,
             "#9c179e"
            ],
            [
             0.4444444444444444,
             "#bd3786"
            ],
            [
             0.5555555555555556,
             "#d8576b"
            ],
            [
             0.6666666666666666,
             "#ed7953"
            ],
            [
             0.7777777777777778,
             "#fb9f3a"
            ],
            [
             0.8888888888888888,
             "#fdca26"
            ],
            [
             1,
             "#f0f921"
            ]
           ]
          },
          "colorway": [
           "#636efa",
           "#EF553B",
           "#00cc96",
           "#ab63fa",
           "#FFA15A",
           "#19d3f3",
           "#FF6692",
           "#B6E880",
           "#FF97FF",
           "#FECB52"
          ],
          "font": {
           "color": "#2a3f5f"
          },
          "geo": {
           "bgcolor": "white",
           "lakecolor": "white",
           "landcolor": "#E5ECF6",
           "showlakes": true,
           "showland": true,
           "subunitcolor": "white"
          },
          "hoverlabel": {
           "align": "left"
          },
          "hovermode": "closest",
          "mapbox": {
           "style": "light"
          },
          "paper_bgcolor": "white",
          "plot_bgcolor": "#E5ECF6",
          "polar": {
           "angularaxis": {
            "gridcolor": "white",
            "linecolor": "white",
            "ticks": ""
           },
           "bgcolor": "#E5ECF6",
           "radialaxis": {
            "gridcolor": "white",
            "linecolor": "white",
            "ticks": ""
           }
          },
          "scene": {
           "xaxis": {
            "backgroundcolor": "#E5ECF6",
            "gridcolor": "white",
            "gridwidth": 2,
            "linecolor": "white",
            "showbackground": true,
            "ticks": "",
            "zerolinecolor": "white"
           },
           "yaxis": {
            "backgroundcolor": "#E5ECF6",
            "gridcolor": "white",
            "gridwidth": 2,
            "linecolor": "white",
            "showbackground": true,
            "ticks": "",
            "zerolinecolor": "white"
           },
           "zaxis": {
            "backgroundcolor": "#E5ECF6",
            "gridcolor": "white",
            "gridwidth": 2,
            "linecolor": "white",
            "showbackground": true,
            "ticks": "",
            "zerolinecolor": "white"
           }
          },
          "shapedefaults": {
           "line": {
            "color": "#2a3f5f"
           }
          },
          "ternary": {
           "aaxis": {
            "gridcolor": "white",
            "linecolor": "white",
            "ticks": ""
           },
           "baxis": {
            "gridcolor": "white",
            "linecolor": "white",
            "ticks": ""
           },
           "bgcolor": "#E5ECF6",
           "caxis": {
            "gridcolor": "white",
            "linecolor": "white",
            "ticks": ""
           }
          },
          "title": {
           "x": 0.05
          },
          "xaxis": {
           "automargin": true,
           "gridcolor": "white",
           "linecolor": "white",
           "ticks": "",
           "title": {
            "standoff": 15
           },
           "zerolinecolor": "white",
           "zerolinewidth": 2
          },
          "yaxis": {
           "automargin": true,
           "gridcolor": "white",
           "linecolor": "white",
           "ticks": "",
           "title": {
            "standoff": 15
           },
           "zerolinecolor": "white",
           "zerolinewidth": 2
          }
         }
        },
        "title": {
         "text": "Plot Title",
         "x": 0,
         "xanchor": "left",
         "xref": "paper",
         "y": 0.87,
         "yanchor": "top"
        },
        "xaxis": {
         "anchor": "y",
         "domain": [
          0,
          1
         ],
         "dtick": 1,
         "linecolor": "black",
         "linewidth": 1,
         "range": [
          2005.5,
          2021.5
         ],
         "showline": true,
         "tickcolor": "black",
         "tickfont": {
          "family": "Arial",
          "size": 14
         },
         "ticklen": 8,
         "ticks": "outside",
         "tickwidth": 1,
         "title": {
          "text": "Jahre"
         }
        },
        "yaxis": {
         "anchor": "x",
         "domain": [
          0,
          1
         ],
         "linecolor": "black",
         "linewidth": 1,
         "range": [
          0,
          3263457453.6
         ],
         "showgrid": false,
         "showline": true,
         "tickcolor": "black",
         "ticklabelposition": "outside",
         "ticklen": 8,
         "ticks": "outside",
         "tickwidth": 1,
         "title": {
          "font": {
           "color": "black",
           "family": "Arial"
          },
          "text": ""
         }
        }
       }
      }
     },
     "metadata": {},
     "output_type": "display_data"
    }
   ],
   "source": [
    "\n",
    "df_fig1 = pd.DataFrame(df.groupby(by=['year'])['records lost'].sum().reset_index())\n",
    "# print(df_fig1.head())\n",
    "fig = px.line(df_fig1, x=\"year\", y=\"records lost\", \n",
    "                        labels={\n",
    "                        \"year\": \"Jahre\",\n",
    "                        \"records lost\": \"\",\n",
    "\n",
    "                        },\n",
    "                        \n",
    "\n",
    "                        title='Testtitle', markers=True)\n",
    "\n",
    "fig.update_xaxes(showgrid=False, title_font_family=\"Arial\", title_font_color=\"black\", col =10)\n",
    "fig.update_yaxes(showgrid=False, title_font_family=\"Arial\", title_font_color=\"black\")\n",
    "fig.update_layout(\n",
    "    title={\n",
    "        'text': \"Plot Title\",\n",
    "        'y':0.87,\n",
    "        'x':0.0,\n",
    "        'xref': \"paper\",\n",
    "        'xanchor': 'left',\n",
    "        'yanchor': 'top'},\n",
    "    plot_bgcolor = \"rgba(0,0,0,0)\",\n",
    "    paper_bgcolor = \"rgba(255,255,255,1)\",\n",
    " \n",
    "    xaxis= dict(\n",
    "        range=[df['year'].max() - 15 - 0.5, df['year'].max() + 0.5],\n",
    "        dtick= 1,\n",
    "        ticks = \"outside\",\n",
    "        tickwidth = 1,\n",
    "        tickcolor = \"black\",\n",
    "        ticklen = 8,\n",
    "        tickfont = dict(family = 'Arial', size = 14),\n",
    "        showline = True,\n",
    "        linewidth = 1,\n",
    "        linecolor = 'black',\n",
    "        \n",
    "        \n",
    "\n",
    "        \n",
    "        ),\n",
    "    yaxis = dict(\n",
    "        range=[0, df_fig1['records lost'].max()*1.2],\n",
    "        ticks = \"outside\",\n",
    "        tickwidth = 1,\n",
    "        tickcolor = \"black\",\n",
    "        ticklen = 8,\n",
    "        ticklabelposition=\"outside\",\n",
    "        showline = True,\n",
    "        linewidth = 1,\n",
    "        linecolor = 'black',\n",
    "        \n",
    "        ),\n",
    "    )\n",
    "\n",
    "fig.update_traces(\n",
    "    marker = dict(\n",
    "        color = 'LightSkyBlue',\n",
    "        size = 10,\n",
    "        opacity = 0.8,\n",
    "    ),\n",
    "    line = dict(\n",
    "        color = 'LightSkyBlue',\n",
    "        width = 2\n",
    "    ),\n",
    ")\n",
    "\n",
    "fig.add_annotation(x=0,y=1.1,\n",
    "\n",
    "                   text=\"entstandener Schaden (in US$)\", #textangle=-90,\n",
    "                    xref=\"paper\",\n",
    "                    valign=\"top\",\n",
    "    yref=\"y domain\", showarrow=False)\n",
    "\n",
    "\n",
    "\n",
    "fig2 = px.scatter(df_fig1.iloc[[8]], x=\"year\", y=\"records lost\")\n",
    "\n",
    "\n",
    "fig2.update_traces(\n",
    "    marker = dict(\n",
    "        color = 'pink',\n",
    "        size = 15,\n",
    "        opacity = 0.5,\n",
    "        \n",
    "\n",
    "    ),\n",
    ")\n",
    "\n",
    "fig.add_trace(fig2.data[0])\n",
    "\n",
    "\n",
    "print(df_fig1.iloc[[8]])    \n",
    "\n",
    "\n",
    "\n",
    "        \n",
    "fig.show()\n",
    "\n",
    "\n"
   ]
  },
  {
   "cell_type": "code",
   "execution_count": 10,
   "metadata": {},
   "outputs": [
    {
     "data": {
      "application/vnd.plotly.v1+json": {
       "config": {
        "plotlyServerURL": "https://plot.ly"
       },
       "data": [
        {
         "hovertemplate": "<b>%{hovertext}</b><br><br>organisation=Twitch<br>Monat Jahr=%{x}<br>entstandener Schaden (in US$)=%{marker.size}<extra></extra>",
         "hovertext": [
          "Twitch"
         ],
         "legendgroup": "Twitch",
         "marker": {
          "color": "#636efa",
          "size": [
           10000000
          ],
          "sizemode": "area",
          "sizeref": 194444.44444444444,
          "symbol": "circle"
         },
         "mode": "markers",
         "name": "Twitch",
         "orientation": "v",
         "showlegend": true,
         "type": "scatter",
         "x": [
          "2021-10-01T00:00:00"
         ],
         "xaxis": "x",
         "y": [
          10000000
         ],
         "yaxis": "y"
        },
        {
         "hovertemplate": "<b>%{hovertext}</b><br><br>organisation=Syniverse<br>Monat Jahr=%{x}<br>entstandener Schaden (in US$)=%{marker.size}<extra></extra>",
         "hovertext": [
          "Syniverse"
         ],
         "legendgroup": "Syniverse",
         "marker": {
          "color": "#EF553B",
          "size": [
           500000000
          ],
          "sizemode": "area",
          "sizeref": 194444.44444444444,
          "symbol": "circle"
         },
         "mode": "markers",
         "name": "Syniverse",
         "orientation": "v",
         "showlegend": true,
         "type": "scatter",
         "x": [
          "2021-09-01T00:00:00"
         ],
         "xaxis": "x",
         "y": [
          500000000
         ],
         "yaxis": "y"
        },
        {
         "hovertemplate": "<b>%{hovertext}</b><br><br>organisation=Pandora Papers<br>Monat Jahr=%{x}<br>entstandener Schaden (in US$)=%{marker.size}<extra></extra>",
         "hovertext": [
          "Pandora Papers"
         ],
         "legendgroup": "Pandora Papers",
         "marker": {
          "color": "#00cc96",
          "size": [
           11900000
          ],
          "sizemode": "area",
          "sizeref": 194444.44444444444,
          "symbol": "circle"
         },
         "mode": "markers",
         "name": "Pandora Papers",
         "orientation": "v",
         "showlegend": true,
         "type": "scatter",
         "x": [
          "2021-10-01T00:00:00"
         ],
         "xaxis": "x",
         "y": [
          11900000
         ],
         "yaxis": "y"
        },
        {
         "hovertemplate": "<b>%{hovertext}</b><br><br>organisation=Neiman Marcus<br>Monat Jahr=%{x}<br>entstandener Schaden (in US$)=%{marker.size}<extra></extra>",
         "hovertext": [
          "Neiman Marcus"
         ],
         "legendgroup": "Neiman Marcus",
         "marker": {
          "color": "#ab63fa",
          "size": [
           4600000
          ],
          "sizemode": "area",
          "sizeref": 194444.44444444444,
          "symbol": "circle"
         },
         "mode": "markers",
         "name": "Neiman Marcus",
         "orientation": "v",
         "showlegend": true,
         "type": "scatter",
         "x": [
          "2021-09-01T00:00:00"
         ],
         "xaxis": "x",
         "y": [
          4600000
         ],
         "yaxis": "y"
        },
        {
         "hovertemplate": "<b>%{hovertext}</b><br><br>organisation=Epik<br>Monat Jahr=%{x}<br>entstandener Schaden (in US$)=%{marker.size}<extra></extra>",
         "hovertext": [
          "Epik"
         ],
         "legendgroup": "Epik",
         "marker": {
          "color": "#FFA15A",
          "size": [
           15000000
          ],
          "sizemode": "area",
          "sizeref": 194444.44444444444,
          "symbol": "circle"
         },
         "mode": "markers",
         "name": "Epik",
         "orientation": "v",
         "showlegend": true,
         "type": "scatter",
         "x": [
          "2021-09-01T00:00:00"
         ],
         "xaxis": "x",
         "y": [
          15000000
         ],
         "yaxis": "y"
        },
        {
         "hovertemplate": "<b>%{hovertext}</b><br><br>organisation=Thailand visitors<br>Monat Jahr=%{x}<br>entstandener Schaden (in US$)=%{marker.size}<extra></extra>",
         "hovertext": [
          "Thailand visitors"
         ],
         "legendgroup": "Thailand visitors",
         "marker": {
          "color": "#19d3f3",
          "size": [
           100000000
          ],
          "sizemode": "area",
          "sizeref": 194444.44444444444,
          "symbol": "circle"
         },
         "mode": "markers",
         "name": "Thailand visitors",
         "orientation": "v",
         "showlegend": true,
         "type": "scatter",
         "x": [
          "2021-09-01T00:00:00"
         ],
         "xaxis": "x",
         "y": [
          100000000
         ],
         "yaxis": "y"
        },
        {
         "hovertemplate": "<b>%{hovertext}</b><br><br>organisation=T-Mobile <br>Monat Jahr=%{x}<br>entstandener Schaden (in US$)=%{marker.size}<extra></extra>",
         "hovertext": [
          "T-Mobile "
         ],
         "legendgroup": "T-Mobile ",
         "marker": {
          "color": "#FF6692",
          "size": [
           40000000
          ],
          "sizemode": "area",
          "sizeref": 194444.44444444444,
          "symbol": "circle"
         },
         "mode": "markers",
         "name": "T-Mobile ",
         "orientation": "v",
         "showlegend": true,
         "type": "scatter",
         "x": [
          "2021-08-01T00:00:00"
         ],
         "xaxis": "x",
         "y": [
          40000000
         ],
         "yaxis": "y"
        },
        {
         "hovertemplate": "<b>%{hovertext}</b><br><br>organisation=Contact tracing data<br>Monat Jahr=%{x}<br>entstandener Schaden (in US$)=%{marker.size}<extra></extra>",
         "hovertext": [
          "Contact tracing data"
         ],
         "legendgroup": "Contact tracing data",
         "marker": {
          "color": "#B6E880",
          "size": [
           38000000
          ],
          "sizemode": "area",
          "sizeref": 194444.44444444444,
          "symbol": "circle"
         },
         "mode": "markers",
         "name": "Contact tracing data",
         "orientation": "v",
         "showlegend": true,
         "type": "scatter",
         "x": [
          "2021-08-01T00:00:00"
         ],
         "xaxis": "x",
         "y": [
          38000000
         ],
         "yaxis": "y"
        },
        {
         "hovertemplate": "<b>%{hovertext}</b><br><br>organisation=Estonian gov<br>Monat Jahr=%{x}<br>entstandener Schaden (in US$)=%{marker.size}<extra></extra>",
         "hovertext": [
          "Estonian gov"
         ],
         "legendgroup": "Estonian gov",
         "marker": {
          "color": "#FF97FF",
          "size": [
           280000
          ],
          "sizemode": "area",
          "sizeref": 194444.44444444444,
          "symbol": "circle"
         },
         "mode": "markers",
         "name": "Estonian gov",
         "orientation": "v",
         "showlegend": true,
         "type": "scatter",
         "x": [
          "2021-07-01T00:00:00"
         ],
         "xaxis": "x",
         "y": [
          280000
         ],
         "yaxis": "y"
        },
        {
         "hovertemplate": "<b>%{hovertext}</b><br><br>organisation=Guntrader<br>Monat Jahr=%{x}<br>entstandener Schaden (in US$)=%{marker.size}<extra></extra>",
         "hovertext": [
          "Guntrader"
         ],
         "legendgroup": "Guntrader",
         "marker": {
          "color": "#FECB52",
          "size": [
           111000
          ],
          "sizemode": "area",
          "sizeref": 194444.44444444444,
          "symbol": "circle"
         },
         "mode": "markers",
         "name": "Guntrader",
         "orientation": "v",
         "showlegend": true,
         "type": "scatter",
         "x": [
          "2021-07-01T00:00:00"
         ],
         "xaxis": "x",
         "y": [
          111000
         ],
         "yaxis": "y"
        },
        {
         "hovertemplate": "<b>%{hovertext}</b><br><br>organisation=Linkedin<br>Monat Jahr=%{x}<br>entstandener Schaden (in US$)=%{marker.size}<extra></extra>",
         "hovertext": [
          "Linkedin"
         ],
         "legendgroup": "Linkedin",
         "marker": {
          "color": "#636efa",
          "size": [
           700000000
          ],
          "sizemode": "area",
          "sizeref": 194444.44444444444,
          "symbol": "circle"
         },
         "mode": "markers",
         "name": "Linkedin",
         "orientation": "v",
         "showlegend": true,
         "type": "scatter",
         "x": [
          "2021-07-01T00:00:00"
         ],
         "xaxis": "x",
         "y": [
          700000000
         ],
         "yaxis": "y"
        },
        {
         "hovertemplate": "<b>%{hovertext}</b><br><br>organisation=VW<br>Monat Jahr=%{x}<br>entstandener Schaden (in US$)=%{marker.size}<extra></extra>",
         "hovertext": [
          "VW"
         ],
         "legendgroup": "VW",
         "marker": {
          "color": "#EF553B",
          "size": [
           3300000
          ],
          "sizemode": "area",
          "sizeref": 194444.44444444444,
          "symbol": "circle"
         },
         "mode": "markers",
         "name": "VW",
         "orientation": "v",
         "showlegend": true,
         "type": "scatter",
         "x": [
          "2021-06-01T00:00:00"
         ],
         "xaxis": "x",
         "y": [
          3300000
         ],
         "yaxis": "y"
        },
        {
         "hovertemplate": "<b>%{hovertext}</b><br><br>organisation=MacDonalds<br>Monat Jahr=%{x}<br>entstandener Schaden (in US$)=%{marker.size}<extra></extra>",
         "hovertext": [
          "MacDonalds"
         ],
         "legendgroup": "MacDonalds",
         "marker": {
          "color": "#00cc96",
          "size": [
           10000000
          ],
          "sizemode": "area",
          "sizeref": 194444.44444444444,
          "symbol": "circle"
         },
         "mode": "markers",
         "name": "MacDonalds",
         "orientation": "v",
         "showlegend": true,
         "type": "scatter",
         "x": [
          "2021-06-01T00:00:00"
         ],
         "xaxis": "x",
         "y": [
          10000000
         ],
         "yaxis": "y"
        },
        {
         "hovertemplate": "<b>%{hovertext}</b><br><br>organisation=Air India<br>Monat Jahr=%{x}<br>entstandener Schaden (in US$)=%{marker.size}<extra></extra>",
         "hovertext": [
          "Air India"
         ],
         "legendgroup": "Air India",
         "marker": {
          "color": "#ab63fa",
          "size": [
           4500000
          ],
          "sizemode": "area",
          "sizeref": 194444.44444444444,
          "symbol": "circle"
         },
         "mode": "markers",
         "name": "Air India",
         "orientation": "v",
         "showlegend": true,
         "type": "scatter",
         "x": [
          "2021-05-01T00:00:00"
         ],
         "xaxis": "x",
         "y": [
          4500000
         ],
         "yaxis": "y"
        },
        {
         "hovertemplate": "<b>%{hovertext}</b><br><br>organisation=Omiai dating app<br>Monat Jahr=%{x}<br>entstandener Schaden (in US$)=%{marker.size}<extra></extra>",
         "hovertext": [
          "Omiai dating app"
         ],
         "legendgroup": "Omiai dating app",
         "marker": {
          "color": "#FFA15A",
          "size": [
           1710000
          ],
          "sizemode": "area",
          "sizeref": 194444.44444444444,
          "symbol": "circle"
         },
         "mode": "markers",
         "name": "Omiai dating app",
         "orientation": "v",
         "showlegend": true,
         "type": "scatter",
         "x": [
          "2021-05-01T00:00:00"
         ],
         "xaxis": "x",
         "y": [
          1710000
         ],
         "yaxis": "y"
        },
        {
         "hovertemplate": "<b>%{hovertext}</b><br><br>organisation=Amazon Reviews<br>Monat Jahr=%{x}<br>entstandener Schaden (in US$)=%{marker.size}<extra></extra>",
         "hovertext": [
          "Amazon Reviews"
         ],
         "legendgroup": "Amazon Reviews",
         "marker": {
          "color": "#19d3f3",
          "size": [
           13124962
          ],
          "sizemode": "area",
          "sizeref": 194444.44444444444,
          "symbol": "circle"
         },
         "mode": "markers",
         "name": "Amazon Reviews",
         "orientation": "v",
         "showlegend": true,
         "type": "scatter",
         "x": [
          "2021-05-01T00:00:00"
         ],
         "xaxis": "x",
         "y": [
          13124962
         ],
         "yaxis": "y"
        },
        {
         "hovertemplate": "<b>%{hovertext}</b><br><br>organisation=Peloton<br>Monat Jahr=%{x}<br>entstandener Schaden (in US$)=%{marker.size}<extra></extra>",
         "hovertext": [
          "Peloton"
         ],
         "legendgroup": "Peloton",
         "marker": {
          "color": "#FF6692",
          "size": [
           3000000
          ],
          "sizemode": "area",
          "sizeref": 194444.44444444444,
          "symbol": "circle"
         },
         "mode": "markers",
         "name": "Peloton",
         "orientation": "v",
         "showlegend": true,
         "type": "scatter",
         "x": [
          "2021-05-01T00:00:00"
         ],
         "xaxis": "x",
         "y": [
          3000000
         ],
         "yaxis": "y"
        },
        {
         "hovertemplate": "<b>%{hovertext}</b><br><br>organisation=Digital Ocean<br>Monat Jahr=%{x}<br>entstandener Schaden (in US$)=%{marker.size}<extra></extra>",
         "hovertext": [
          "Digital Ocean"
         ],
         "legendgroup": "Digital Ocean",
         "marker": {
          "color": "#B6E880",
          "size": [
           10000000
          ],
          "sizemode": "area",
          "sizeref": 194444.44444444444,
          "symbol": "circle"
         },
         "mode": "markers",
         "name": "Digital Ocean",
         "orientation": "v",
         "showlegend": true,
         "type": "scatter",
         "x": [
          "2021-04-01T00:00:00"
         ],
         "xaxis": "x",
         "y": [
          10000000
         ],
         "yaxis": "y"
        },
        {
         "hovertemplate": "<b>%{hovertext}</b><br><br>organisation=Park Mobile<br>Monat Jahr=%{x}<br>entstandener Schaden (in US$)=%{marker.size}<extra></extra>",
         "hovertext": [
          "Park Mobile"
         ],
         "legendgroup": "Park Mobile",
         "marker": {
          "color": "#FF97FF",
          "size": [
           21000000
          ],
          "sizemode": "area",
          "sizeref": 194444.44444444444,
          "symbol": "circle"
         },
         "mode": "markers",
         "name": "Park Mobile",
         "orientation": "v",
         "showlegend": true,
         "type": "scatter",
         "x": [
          "2021-04-01T00:00:00"
         ],
         "xaxis": "x",
         "y": [
          21000000
         ],
         "yaxis": "y"
        },
        {
         "hovertemplate": "<b>%{hovertext}</b><br><br>organisation=Ubiquiti<br>Monat Jahr=%{x}<br>entstandener Schaden (in US$)=%{marker.size}<extra></extra>",
         "hovertext": [
          "Ubiquiti"
         ],
         "legendgroup": "Ubiquiti",
         "marker": {
          "color": "#FECB52",
          "size": [
           16000000
          ],
          "sizemode": "area",
          "sizeref": 194444.44444444444,
          "symbol": "circle"
         },
         "mode": "markers",
         "name": "Ubiquiti",
         "orientation": "v",
         "showlegend": true,
         "type": "scatter",
         "x": [
          "2021-02-01T00:00:00"
         ],
         "xaxis": "x",
         "y": [
          16000000
         ],
         "yaxis": "y"
        },
        {
         "hovertemplate": "<b>%{hovertext}</b><br><br>organisation=Meet Mindful<br>Monat Jahr=%{x}<br>entstandener Schaden (in US$)=%{marker.size}<extra></extra>",
         "hovertext": [
          "Meet Mindful"
         ],
         "legendgroup": "Meet Mindful",
         "marker": {
          "color": "#636efa",
          "size": [
           2240000
          ],
          "sizemode": "area",
          "sizeref": 194444.44444444444,
          "symbol": "circle"
         },
         "mode": "markers",
         "name": "Meet Mindful",
         "orientation": "v",
         "showlegend": true,
         "type": "scatter",
         "x": [
          "2021-02-01T00:00:00"
         ],
         "xaxis": "x",
         "y": [
          2240000
         ],
         "yaxis": "y"
        },
        {
         "hovertemplate": "<b>%{hovertext}</b><br><br>organisation=Experian Brazil<br>Monat Jahr=%{x}<br>entstandener Schaden (in US$)=%{marker.size}<extra></extra>",
         "hovertext": [
          "Experian Brazil"
         ],
         "legendgroup": "Experian Brazil",
         "marker": {
          "color": "#EF553B",
          "size": [
           220000000
          ],
          "sizemode": "area",
          "sizeref": 194444.44444444444,
          "symbol": "circle"
         },
         "mode": "markers",
         "name": "Experian Brazil",
         "orientation": "v",
         "showlegend": true,
         "type": "scatter",
         "x": [
          "2021-02-01T00:00:00"
         ],
         "xaxis": "x",
         "y": [
          220000000
         ],
         "yaxis": "y"
        },
        {
         "hovertemplate": "<b>%{hovertext}</b><br><br>organisation=Gab<br>Monat Jahr=%{x}<br>entstandener Schaden (in US$)=%{marker.size}<extra></extra>",
         "hovertext": [
          "Gab"
         ],
         "legendgroup": "Gab",
         "marker": {
          "color": "#00cc96",
          "size": [
           4000000
          ],
          "sizemode": "area",
          "sizeref": 194444.44444444444,
          "symbol": "circle"
         },
         "mode": "markers",
         "name": "Gab",
         "orientation": "v",
         "showlegend": true,
         "type": "scatter",
         "x": [
          "2021-03-01T00:00:00"
         ],
         "xaxis": "x",
         "y": [
          4000000
         ],
         "yaxis": "y"
        },
        {
         "hovertemplate": "<b>%{hovertext}</b><br><br>organisation=Star Alliance<br>Monat Jahr=%{x}<br>entstandener Schaden (in US$)=%{marker.size}<extra></extra>",
         "hovertext": [
          "Star Alliance"
         ],
         "legendgroup": "Star Alliance",
         "marker": {
          "color": "#ab63fa",
          "size": [
           16000000
          ],
          "sizemode": "area",
          "sizeref": 194444.44444444444,
          "symbol": "circle"
         },
         "mode": "markers",
         "name": "Star Alliance",
         "orientation": "v",
         "showlegend": true,
         "type": "scatter",
         "x": [
          "2021-03-01T00:00:00"
         ],
         "xaxis": "x",
         "y": [
          16000000
         ],
         "yaxis": "y"
        },
        {
         "hovertemplate": "<b>%{hovertext}</b><br><br>organisation=Facebook<br>Monat Jahr=%{x}<br>entstandener Schaden (in US$)=%{marker.size}<extra></extra>",
         "hovertext": [
          "Facebook"
         ],
         "legendgroup": "Facebook",
         "marker": {
          "color": "#FFA15A",
          "size": [
           533000000
          ],
          "sizemode": "area",
          "sizeref": 194444.44444444444,
          "symbol": "circle"
         },
         "mode": "markers",
         "name": "Facebook",
         "orientation": "v",
         "showlegend": true,
         "type": "scatter",
         "x": [
          "2021-03-01T00:00:00"
         ],
         "xaxis": "x",
         "y": [
          533000000
         ],
         "yaxis": "y"
        }
       ],
       "layout": {
        "legend": {
         "itemsizing": "constant",
         "title": {
          "text": "organisation"
         },
         "tracegroupgap": 0
        },
        "template": {
         "data": {
          "bar": [
           {
            "error_x": {
             "color": "#2a3f5f"
            },
            "error_y": {
             "color": "#2a3f5f"
            },
            "marker": {
             "line": {
              "color": "#E5ECF6",
              "width": 0.5
             },
             "pattern": {
              "fillmode": "overlay",
              "size": 10,
              "solidity": 0.2
             }
            },
            "type": "bar"
           }
          ],
          "barpolar": [
           {
            "marker": {
             "line": {
              "color": "#E5ECF6",
              "width": 0.5
             },
             "pattern": {
              "fillmode": "overlay",
              "size": 10,
              "solidity": 0.2
             }
            },
            "type": "barpolar"
           }
          ],
          "carpet": [
           {
            "aaxis": {
             "endlinecolor": "#2a3f5f",
             "gridcolor": "white",
             "linecolor": "white",
             "minorgridcolor": "white",
             "startlinecolor": "#2a3f5f"
            },
            "baxis": {
             "endlinecolor": "#2a3f5f",
             "gridcolor": "white",
             "linecolor": "white",
             "minorgridcolor": "white",
             "startlinecolor": "#2a3f5f"
            },
            "type": "carpet"
           }
          ],
          "choropleth": [
           {
            "colorbar": {
             "outlinewidth": 0,
             "ticks": ""
            },
            "type": "choropleth"
           }
          ],
          "contour": [
           {
            "colorbar": {
             "outlinewidth": 0,
             "ticks": ""
            },
            "colorscale": [
             [
              0,
              "#0d0887"
             ],
             [
              0.1111111111111111,
              "#46039f"
             ],
             [
              0.2222222222222222,
              "#7201a8"
             ],
             [
              0.3333333333333333,
              "#9c179e"
             ],
             [
              0.4444444444444444,
              "#bd3786"
             ],
             [
              0.5555555555555556,
              "#d8576b"
             ],
             [
              0.6666666666666666,
              "#ed7953"
             ],
             [
              0.7777777777777778,
              "#fb9f3a"
             ],
             [
              0.8888888888888888,
              "#fdca26"
             ],
             [
              1,
              "#f0f921"
             ]
            ],
            "type": "contour"
           }
          ],
          "contourcarpet": [
           {
            "colorbar": {
             "outlinewidth": 0,
             "ticks": ""
            },
            "type": "contourcarpet"
           }
          ],
          "heatmap": [
           {
            "colorbar": {
             "outlinewidth": 0,
             "ticks": ""
            },
            "colorscale": [
             [
              0,
              "#0d0887"
             ],
             [
              0.1111111111111111,
              "#46039f"
             ],
             [
              0.2222222222222222,
              "#7201a8"
             ],
             [
              0.3333333333333333,
              "#9c179e"
             ],
             [
              0.4444444444444444,
              "#bd3786"
             ],
             [
              0.5555555555555556,
              "#d8576b"
             ],
             [
              0.6666666666666666,
              "#ed7953"
             ],
             [
              0.7777777777777778,
              "#fb9f3a"
             ],
             [
              0.8888888888888888,
              "#fdca26"
             ],
             [
              1,
              "#f0f921"
             ]
            ],
            "type": "heatmap"
           }
          ],
          "heatmapgl": [
           {
            "colorbar": {
             "outlinewidth": 0,
             "ticks": ""
            },
            "colorscale": [
             [
              0,
              "#0d0887"
             ],
             [
              0.1111111111111111,
              "#46039f"
             ],
             [
              0.2222222222222222,
              "#7201a8"
             ],
             [
              0.3333333333333333,
              "#9c179e"
             ],
             [
              0.4444444444444444,
              "#bd3786"
             ],
             [
              0.5555555555555556,
              "#d8576b"
             ],
             [
              0.6666666666666666,
              "#ed7953"
             ],
             [
              0.7777777777777778,
              "#fb9f3a"
             ],
             [
              0.8888888888888888,
              "#fdca26"
             ],
             [
              1,
              "#f0f921"
             ]
            ],
            "type": "heatmapgl"
           }
          ],
          "histogram": [
           {
            "marker": {
             "pattern": {
              "fillmode": "overlay",
              "size": 10,
              "solidity": 0.2
             }
            },
            "type": "histogram"
           }
          ],
          "histogram2d": [
           {
            "colorbar": {
             "outlinewidth": 0,
             "ticks": ""
            },
            "colorscale": [
             [
              0,
              "#0d0887"
             ],
             [
              0.1111111111111111,
              "#46039f"
             ],
             [
              0.2222222222222222,
              "#7201a8"
             ],
             [
              0.3333333333333333,
              "#9c179e"
             ],
             [
              0.4444444444444444,
              "#bd3786"
             ],
             [
              0.5555555555555556,
              "#d8576b"
             ],
             [
              0.6666666666666666,
              "#ed7953"
             ],
             [
              0.7777777777777778,
              "#fb9f3a"
             ],
             [
              0.8888888888888888,
              "#fdca26"
             ],
             [
              1,
              "#f0f921"
             ]
            ],
            "type": "histogram2d"
           }
          ],
          "histogram2dcontour": [
           {
            "colorbar": {
             "outlinewidth": 0,
             "ticks": ""
            },
            "colorscale": [
             [
              0,
              "#0d0887"
             ],
             [
              0.1111111111111111,
              "#46039f"
             ],
             [
              0.2222222222222222,
              "#7201a8"
             ],
             [
              0.3333333333333333,
              "#9c179e"
             ],
             [
              0.4444444444444444,
              "#bd3786"
             ],
             [
              0.5555555555555556,
              "#d8576b"
             ],
             [
              0.6666666666666666,
              "#ed7953"
             ],
             [
              0.7777777777777778,
              "#fb9f3a"
             ],
             [
              0.8888888888888888,
              "#fdca26"
             ],
             [
              1,
              "#f0f921"
             ]
            ],
            "type": "histogram2dcontour"
           }
          ],
          "mesh3d": [
           {
            "colorbar": {
             "outlinewidth": 0,
             "ticks": ""
            },
            "type": "mesh3d"
           }
          ],
          "parcoords": [
           {
            "line": {
             "colorbar": {
              "outlinewidth": 0,
              "ticks": ""
             }
            },
            "type": "parcoords"
           }
          ],
          "pie": [
           {
            "automargin": true,
            "type": "pie"
           }
          ],
          "scatter": [
           {
            "marker": {
             "colorbar": {
              "outlinewidth": 0,
              "ticks": ""
             }
            },
            "type": "scatter"
           }
          ],
          "scatter3d": [
           {
            "line": {
             "colorbar": {
              "outlinewidth": 0,
              "ticks": ""
             }
            },
            "marker": {
             "colorbar": {
              "outlinewidth": 0,
              "ticks": ""
             }
            },
            "type": "scatter3d"
           }
          ],
          "scattercarpet": [
           {
            "marker": {
             "colorbar": {
              "outlinewidth": 0,
              "ticks": ""
             }
            },
            "type": "scattercarpet"
           }
          ],
          "scattergeo": [
           {
            "marker": {
             "colorbar": {
              "outlinewidth": 0,
              "ticks": ""
             }
            },
            "type": "scattergeo"
           }
          ],
          "scattergl": [
           {
            "marker": {
             "colorbar": {
              "outlinewidth": 0,
              "ticks": ""
             }
            },
            "type": "scattergl"
           }
          ],
          "scattermapbox": [
           {
            "marker": {
             "colorbar": {
              "outlinewidth": 0,
              "ticks": ""
             }
            },
            "type": "scattermapbox"
           }
          ],
          "scatterpolar": [
           {
            "marker": {
             "colorbar": {
              "outlinewidth": 0,
              "ticks": ""
             }
            },
            "type": "scatterpolar"
           }
          ],
          "scatterpolargl": [
           {
            "marker": {
             "colorbar": {
              "outlinewidth": 0,
              "ticks": ""
             }
            },
            "type": "scatterpolargl"
           }
          ],
          "scatterternary": [
           {
            "marker": {
             "colorbar": {
              "outlinewidth": 0,
              "ticks": ""
             }
            },
            "type": "scatterternary"
           }
          ],
          "surface": [
           {
            "colorbar": {
             "outlinewidth": 0,
             "ticks": ""
            },
            "colorscale": [
             [
              0,
              "#0d0887"
             ],
             [
              0.1111111111111111,
              "#46039f"
             ],
             [
              0.2222222222222222,
              "#7201a8"
             ],
             [
              0.3333333333333333,
              "#9c179e"
             ],
             [
              0.4444444444444444,
              "#bd3786"
             ],
             [
              0.5555555555555556,
              "#d8576b"
             ],
             [
              0.6666666666666666,
              "#ed7953"
             ],
             [
              0.7777777777777778,
              "#fb9f3a"
             ],
             [
              0.8888888888888888,
              "#fdca26"
             ],
             [
              1,
              "#f0f921"
             ]
            ],
            "type": "surface"
           }
          ],
          "table": [
           {
            "cells": {
             "fill": {
              "color": "#EBF0F8"
             },
             "line": {
              "color": "white"
             }
            },
            "header": {
             "fill": {
              "color": "#C8D4E3"
             },
             "line": {
              "color": "white"
             }
            },
            "type": "table"
           }
          ]
         },
         "layout": {
          "annotationdefaults": {
           "arrowcolor": "#2a3f5f",
           "arrowhead": 0,
           "arrowwidth": 1
          },
          "autotypenumbers": "strict",
          "coloraxis": {
           "colorbar": {
            "outlinewidth": 0,
            "ticks": ""
           }
          },
          "colorscale": {
           "diverging": [
            [
             0,
             "#8e0152"
            ],
            [
             0.1,
             "#c51b7d"
            ],
            [
             0.2,
             "#de77ae"
            ],
            [
             0.3,
             "#f1b6da"
            ],
            [
             0.4,
             "#fde0ef"
            ],
            [
             0.5,
             "#f7f7f7"
            ],
            [
             0.6,
             "#e6f5d0"
            ],
            [
             0.7,
             "#b8e186"
            ],
            [
             0.8,
             "#7fbc41"
            ],
            [
             0.9,
             "#4d9221"
            ],
            [
             1,
             "#276419"
            ]
           ],
           "sequential": [
            [
             0,
             "#0d0887"
            ],
            [
             0.1111111111111111,
             "#46039f"
            ],
            [
             0.2222222222222222,
             "#7201a8"
            ],
            [
             0.3333333333333333,
             "#9c179e"
            ],
            [
             0.4444444444444444,
             "#bd3786"
            ],
            [
             0.5555555555555556,
             "#d8576b"
            ],
            [
             0.6666666666666666,
             "#ed7953"
            ],
            [
             0.7777777777777778,
             "#fb9f3a"
            ],
            [
             0.8888888888888888,
             "#fdca26"
            ],
            [
             1,
             "#f0f921"
            ]
           ],
           "sequentialminus": [
            [
             0,
             "#0d0887"
            ],
            [
             0.1111111111111111,
             "#46039f"
            ],
            [
             0.2222222222222222,
             "#7201a8"
            ],
            [
             0.3333333333333333,
             "#9c179e"
            ],
            [
             0.4444444444444444,
             "#bd3786"
            ],
            [
             0.5555555555555556,
             "#d8576b"
            ],
            [
             0.6666666666666666,
             "#ed7953"
            ],
            [
             0.7777777777777778,
             "#fb9f3a"
            ],
            [
             0.8888888888888888,
             "#fdca26"
            ],
            [
             1,
             "#f0f921"
            ]
           ]
          },
          "colorway": [
           "#636efa",
           "#EF553B",
           "#00cc96",
           "#ab63fa",
           "#FFA15A",
           "#19d3f3",
           "#FF6692",
           "#B6E880",
           "#FF97FF",
           "#FECB52"
          ],
          "font": {
           "color": "#2a3f5f"
          },
          "geo": {
           "bgcolor": "white",
           "lakecolor": "white",
           "landcolor": "#E5ECF6",
           "showlakes": true,
           "showland": true,
           "subunitcolor": "white"
          },
          "hoverlabel": {
           "align": "left"
          },
          "hovermode": "closest",
          "mapbox": {
           "style": "light"
          },
          "paper_bgcolor": "white",
          "plot_bgcolor": "#E5ECF6",
          "polar": {
           "angularaxis": {
            "gridcolor": "white",
            "linecolor": "white",
            "ticks": ""
           },
           "bgcolor": "#E5ECF6",
           "radialaxis": {
            "gridcolor": "white",
            "linecolor": "white",
            "ticks": ""
           }
          },
          "scene": {
           "xaxis": {
            "backgroundcolor": "#E5ECF6",
            "gridcolor": "white",
            "gridwidth": 2,
            "linecolor": "white",
            "showbackground": true,
            "ticks": "",
            "zerolinecolor": "white"
           },
           "yaxis": {
            "backgroundcolor": "#E5ECF6",
            "gridcolor": "white",
            "gridwidth": 2,
            "linecolor": "white",
            "showbackground": true,
            "ticks": "",
            "zerolinecolor": "white"
           },
           "zaxis": {
            "backgroundcolor": "#E5ECF6",
            "gridcolor": "white",
            "gridwidth": 2,
            "linecolor": "white",
            "showbackground": true,
            "ticks": "",
            "zerolinecolor": "white"
           }
          },
          "shapedefaults": {
           "line": {
            "color": "#2a3f5f"
           }
          },
          "ternary": {
           "aaxis": {
            "gridcolor": "white",
            "linecolor": "white",
            "ticks": ""
           },
           "baxis": {
            "gridcolor": "white",
            "linecolor": "white",
            "ticks": ""
           },
           "bgcolor": "#E5ECF6",
           "caxis": {
            "gridcolor": "white",
            "linecolor": "white",
            "ticks": ""
           }
          },
          "title": {
           "x": 0.05
          },
          "xaxis": {
           "automargin": true,
           "gridcolor": "white",
           "linecolor": "white",
           "ticks": "",
           "title": {
            "standoff": 15
           },
           "zerolinecolor": "white",
           "zerolinewidth": 2
          },
          "yaxis": {
           "automargin": true,
           "gridcolor": "white",
           "linecolor": "white",
           "ticks": "",
           "title": {
            "standoff": 15
           },
           "zerolinecolor": "white",
           "zerolinewidth": 2
          }
         }
        },
        "title": {
         "text": "Testtitle"
        },
        "xaxis": {
         "anchor": "y",
         "domain": [
          0,
          1
         ],
         "range": [
          111000,
          700000000
         ],
         "title": {
          "text": "Monat Jahr"
         }
        },
        "yaxis": {
         "anchor": "x",
         "domain": [
          0,
          1
         ],
         "tickformat": "%b\n%Y",
         "ticklabelmode": "period",
         "title": {
          "text": "entstandener Schaden (in US$)"
         },
         "type": "log"
        }
       }
      }
     },
     "metadata": {},
     "output_type": "display_data"
    },
    {
     "name": "stdout",
     "output_type": "stream",
     "text": [
      "2021\n"
     ]
    }
   ],
   "source": [
    "date = datetime.date.today()\n",
    "actual_year = int(date.strftime(\"%Y\"))\n",
    "\n",
    "df_fig2 = pd.DataFrame(df[(df['year'] == actual_year)])\n",
    "#print(df_fig2.head())\n",
    "\n",
    "\n",
    "\n",
    "\n",
    "fig = px.scatter(df_fig2, x=\"date\", y=\"records lost\", \n",
    "\t        size=\"records lost\", color=\"organisation\",\n",
    "                hover_name=\"organisation\", log_y=True, size_max=60,\n",
    "                labels={\n",
    "                        \"date\": \"Monat Jahr\",\n",
    "                        \"records lost\": \"entstandener Schaden (in US$)\",\n",
    "                        },\n",
    "                        title='Testtitle')\n",
    "\n",
    "# fig.update_yaxes(showgrid=False, title_font_family=\"Arial\", title_font_color=\"black\", range=['100 K', '5 B'])\n",
    "\n",
    "fig.update_layout(\n",
    "xaxis= dict(\n",
    "        range=[df_fig2['records lost'].min(), df_fig2['records lost'].max()],\n",
    "        # dtick= 500000,\n",
    "        #ticks = \"outside\",\n",
    "        #tickwidth = 1,\n",
    "        #tickcolor = \"black\",\n",
    "        #ticklen = 8,\n",
    "        #tickfont = dict(family = 'Arial', size = 14),\n",
    "        #showline = True,\n",
    "        #linewidth = 1,\n",
    "        #linecolor = 'black',\n",
    "        \n",
    "        \n",
    "\n",
    "        \n",
    "        ),\n",
    "yaxis = dict(\n",
    "        tickformat=\"%b\\n%Y\",\n",
    "        ticklabelmode=\"period\"\n",
    ")\n",
    ")\n",
    "\n",
    "\n",
    "\n",
    "fig.show()\n",
    "print(actual_year)\n"
   ]
  },
  {
   "cell_type": "code",
   "execution_count": null,
   "metadata": {},
   "outputs": [],
   "source": []
  },
  {
   "cell_type": "code",
   "execution_count": 11,
   "metadata": {},
   "outputs": [
    {
     "data": {
      "application/vnd.plotly.v1+json": {
       "config": {
        "plotlyServerURL": "https://plot.ly"
       },
       "data": [
        {
         "hovertemplate": "organisation=Twitch<br>date=%{x}<br>records lost=%{marker.size}<extra></extra>",
         "legendgroup": "Twitch",
         "marker": {
          "color": "#636efa",
          "size": [
           10000000
          ],
          "sizemode": "area",
          "sizeref": 1750000,
          "symbol": "circle"
         },
         "mode": "markers",
         "name": "Twitch",
         "orientation": "v",
         "showlegend": true,
         "type": "scatter",
         "x": [
          "2021-10-01T00:00:00"
         ],
         "xaxis": "x",
         "y": [
          10000000
         ],
         "yaxis": "y"
        },
        {
         "hovertemplate": "organisation=Syniverse<br>date=%{x}<br>records lost=%{marker.size}<extra></extra>",
         "legendgroup": "Syniverse",
         "marker": {
          "color": "#EF553B",
          "size": [
           500000000
          ],
          "sizemode": "area",
          "sizeref": 1750000,
          "symbol": "circle"
         },
         "mode": "markers",
         "name": "Syniverse",
         "orientation": "v",
         "showlegend": true,
         "type": "scatter",
         "x": [
          "2021-09-01T00:00:00"
         ],
         "xaxis": "x",
         "y": [
          500000000
         ],
         "yaxis": "y"
        },
        {
         "hovertemplate": "organisation=Pandora Papers<br>date=%{x}<br>records lost=%{marker.size}<extra></extra>",
         "legendgroup": "Pandora Papers",
         "marker": {
          "color": "#00cc96",
          "size": [
           11900000
          ],
          "sizemode": "area",
          "sizeref": 1750000,
          "symbol": "circle"
         },
         "mode": "markers",
         "name": "Pandora Papers",
         "orientation": "v",
         "showlegend": true,
         "type": "scatter",
         "x": [
          "2021-10-01T00:00:00"
         ],
         "xaxis": "x",
         "y": [
          11900000
         ],
         "yaxis": "y"
        },
        {
         "hovertemplate": "organisation=Neiman Marcus<br>date=%{x}<br>records lost=%{marker.size}<extra></extra>",
         "legendgroup": "Neiman Marcus",
         "marker": {
          "color": "#ab63fa",
          "size": [
           4600000
          ],
          "sizemode": "area",
          "sizeref": 1750000,
          "symbol": "circle"
         },
         "mode": "markers",
         "name": "Neiman Marcus",
         "orientation": "v",
         "showlegend": true,
         "type": "scatter",
         "x": [
          "2021-09-01T00:00:00"
         ],
         "xaxis": "x",
         "y": [
          4600000
         ],
         "yaxis": "y"
        },
        {
         "hovertemplate": "organisation=Epik<br>date=%{x}<br>records lost=%{marker.size}<extra></extra>",
         "legendgroup": "Epik",
         "marker": {
          "color": "#FFA15A",
          "size": [
           15000000
          ],
          "sizemode": "area",
          "sizeref": 1750000,
          "symbol": "circle"
         },
         "mode": "markers",
         "name": "Epik",
         "orientation": "v",
         "showlegend": true,
         "type": "scatter",
         "x": [
          "2021-09-01T00:00:00"
         ],
         "xaxis": "x",
         "y": [
          15000000
         ],
         "yaxis": "y"
        },
        {
         "hovertemplate": "organisation=Thailand visitors<br>date=%{x}<br>records lost=%{marker.size}<extra></extra>",
         "legendgroup": "Thailand visitors",
         "marker": {
          "color": "#19d3f3",
          "size": [
           100000000
          ],
          "sizemode": "area",
          "sizeref": 1750000,
          "symbol": "circle"
         },
         "mode": "markers",
         "name": "Thailand visitors",
         "orientation": "v",
         "showlegend": true,
         "type": "scatter",
         "x": [
          "2021-09-01T00:00:00"
         ],
         "xaxis": "x",
         "y": [
          100000000
         ],
         "yaxis": "y"
        },
        {
         "hovertemplate": "organisation=T-Mobile <br>date=%{x}<br>records lost=%{marker.size}<extra></extra>",
         "legendgroup": "T-Mobile ",
         "marker": {
          "color": "#FF6692",
          "size": [
           40000000
          ],
          "sizemode": "area",
          "sizeref": 1750000,
          "symbol": "circle"
         },
         "mode": "markers",
         "name": "T-Mobile ",
         "orientation": "v",
         "showlegend": true,
         "type": "scatter",
         "x": [
          "2021-08-01T00:00:00"
         ],
         "xaxis": "x",
         "y": [
          40000000
         ],
         "yaxis": "y"
        },
        {
         "hovertemplate": "organisation=Contact tracing data<br>date=%{x}<br>records lost=%{marker.size}<extra></extra>",
         "legendgroup": "Contact tracing data",
         "marker": {
          "color": "#B6E880",
          "size": [
           38000000
          ],
          "sizemode": "area",
          "sizeref": 1750000,
          "symbol": "circle"
         },
         "mode": "markers",
         "name": "Contact tracing data",
         "orientation": "v",
         "showlegend": true,
         "type": "scatter",
         "x": [
          "2021-08-01T00:00:00"
         ],
         "xaxis": "x",
         "y": [
          38000000
         ],
         "yaxis": "y"
        },
        {
         "hovertemplate": "organisation=Estonian gov<br>date=%{x}<br>records lost=%{marker.size}<extra></extra>",
         "legendgroup": "Estonian gov",
         "marker": {
          "color": "#FF97FF",
          "size": [
           280000
          ],
          "sizemode": "area",
          "sizeref": 1750000,
          "symbol": "circle"
         },
         "mode": "markers",
         "name": "Estonian gov",
         "orientation": "v",
         "showlegend": true,
         "type": "scatter",
         "x": [
          "2021-07-01T00:00:00"
         ],
         "xaxis": "x",
         "y": [
          280000
         ],
         "yaxis": "y"
        },
        {
         "hovertemplate": "organisation=Guntrader<br>date=%{x}<br>records lost=%{marker.size}<extra></extra>",
         "legendgroup": "Guntrader",
         "marker": {
          "color": "#FECB52",
          "size": [
           111000
          ],
          "sizemode": "area",
          "sizeref": 1750000,
          "symbol": "circle"
         },
         "mode": "markers",
         "name": "Guntrader",
         "orientation": "v",
         "showlegend": true,
         "type": "scatter",
         "x": [
          "2021-07-01T00:00:00"
         ],
         "xaxis": "x",
         "y": [
          111000
         ],
         "yaxis": "y"
        },
        {
         "hovertemplate": "organisation=Linkedin<br>date=%{x}<br>records lost=%{marker.size}<extra></extra>",
         "legendgroup": "Linkedin",
         "marker": {
          "color": "#636efa",
          "size": [
           700000000
          ],
          "sizemode": "area",
          "sizeref": 1750000,
          "symbol": "circle"
         },
         "mode": "markers",
         "name": "Linkedin",
         "orientation": "v",
         "showlegend": true,
         "type": "scatter",
         "x": [
          "2021-07-01T00:00:00"
         ],
         "xaxis": "x",
         "y": [
          700000000
         ],
         "yaxis": "y"
        },
        {
         "hovertemplate": "organisation=VW<br>date=%{x}<br>records lost=%{marker.size}<extra></extra>",
         "legendgroup": "VW",
         "marker": {
          "color": "#EF553B",
          "size": [
           3300000
          ],
          "sizemode": "area",
          "sizeref": 1750000,
          "symbol": "circle"
         },
         "mode": "markers",
         "name": "VW",
         "orientation": "v",
         "showlegend": true,
         "type": "scatter",
         "x": [
          "2021-06-01T00:00:00"
         ],
         "xaxis": "x",
         "y": [
          3300000
         ],
         "yaxis": "y"
        },
        {
         "hovertemplate": "organisation=MacDonalds<br>date=%{x}<br>records lost=%{marker.size}<extra></extra>",
         "legendgroup": "MacDonalds",
         "marker": {
          "color": "#00cc96",
          "size": [
           10000000
          ],
          "sizemode": "area",
          "sizeref": 1750000,
          "symbol": "circle"
         },
         "mode": "markers",
         "name": "MacDonalds",
         "orientation": "v",
         "showlegend": true,
         "type": "scatter",
         "x": [
          "2021-06-01T00:00:00"
         ],
         "xaxis": "x",
         "y": [
          10000000
         ],
         "yaxis": "y"
        },
        {
         "hovertemplate": "organisation=Air India<br>date=%{x}<br>records lost=%{marker.size}<extra></extra>",
         "legendgroup": "Air India",
         "marker": {
          "color": "#ab63fa",
          "size": [
           4500000
          ],
          "sizemode": "area",
          "sizeref": 1750000,
          "symbol": "circle"
         },
         "mode": "markers",
         "name": "Air India",
         "orientation": "v",
         "showlegend": true,
         "type": "scatter",
         "x": [
          "2021-05-01T00:00:00"
         ],
         "xaxis": "x",
         "y": [
          4500000
         ],
         "yaxis": "y"
        },
        {
         "hovertemplate": "organisation=Omiai dating app<br>date=%{x}<br>records lost=%{marker.size}<extra></extra>",
         "legendgroup": "Omiai dating app",
         "marker": {
          "color": "#FFA15A",
          "size": [
           1710000
          ],
          "sizemode": "area",
          "sizeref": 1750000,
          "symbol": "circle"
         },
         "mode": "markers",
         "name": "Omiai dating app",
         "orientation": "v",
         "showlegend": true,
         "type": "scatter",
         "x": [
          "2021-05-01T00:00:00"
         ],
         "xaxis": "x",
         "y": [
          1710000
         ],
         "yaxis": "y"
        },
        {
         "hovertemplate": "organisation=Amazon Reviews<br>date=%{x}<br>records lost=%{marker.size}<extra></extra>",
         "legendgroup": "Amazon Reviews",
         "marker": {
          "color": "#19d3f3",
          "size": [
           13124962
          ],
          "sizemode": "area",
          "sizeref": 1750000,
          "symbol": "circle"
         },
         "mode": "markers",
         "name": "Amazon Reviews",
         "orientation": "v",
         "showlegend": true,
         "type": "scatter",
         "x": [
          "2021-05-01T00:00:00"
         ],
         "xaxis": "x",
         "y": [
          13124962
         ],
         "yaxis": "y"
        },
        {
         "hovertemplate": "organisation=Peloton<br>date=%{x}<br>records lost=%{marker.size}<extra></extra>",
         "legendgroup": "Peloton",
         "marker": {
          "color": "#FF6692",
          "size": [
           3000000
          ],
          "sizemode": "area",
          "sizeref": 1750000,
          "symbol": "circle"
         },
         "mode": "markers",
         "name": "Peloton",
         "orientation": "v",
         "showlegend": true,
         "type": "scatter",
         "x": [
          "2021-05-01T00:00:00"
         ],
         "xaxis": "x",
         "y": [
          3000000
         ],
         "yaxis": "y"
        },
        {
         "hovertemplate": "organisation=Digital Ocean<br>date=%{x}<br>records lost=%{marker.size}<extra></extra>",
         "legendgroup": "Digital Ocean",
         "marker": {
          "color": "#B6E880",
          "size": [
           10000000
          ],
          "sizemode": "area",
          "sizeref": 1750000,
          "symbol": "circle"
         },
         "mode": "markers",
         "name": "Digital Ocean",
         "orientation": "v",
         "showlegend": true,
         "type": "scatter",
         "x": [
          "2021-04-01T00:00:00"
         ],
         "xaxis": "x",
         "y": [
          10000000
         ],
         "yaxis": "y"
        },
        {
         "hovertemplate": "organisation=Park Mobile<br>date=%{x}<br>records lost=%{marker.size}<extra></extra>",
         "legendgroup": "Park Mobile",
         "marker": {
          "color": "#FF97FF",
          "size": [
           21000000
          ],
          "sizemode": "area",
          "sizeref": 1750000,
          "symbol": "circle"
         },
         "mode": "markers",
         "name": "Park Mobile",
         "orientation": "v",
         "showlegend": true,
         "type": "scatter",
         "x": [
          "2021-04-01T00:00:00"
         ],
         "xaxis": "x",
         "y": [
          21000000
         ],
         "yaxis": "y"
        },
        {
         "hovertemplate": "organisation=Ubiquiti<br>date=%{x}<br>records lost=%{marker.size}<extra></extra>",
         "legendgroup": "Ubiquiti",
         "marker": {
          "color": "#FECB52",
          "size": [
           16000000
          ],
          "sizemode": "area",
          "sizeref": 1750000,
          "symbol": "circle"
         },
         "mode": "markers",
         "name": "Ubiquiti",
         "orientation": "v",
         "showlegend": true,
         "type": "scatter",
         "x": [
          "2021-02-01T00:00:00"
         ],
         "xaxis": "x",
         "y": [
          16000000
         ],
         "yaxis": "y"
        },
        {
         "hovertemplate": "organisation=Meet Mindful<br>date=%{x}<br>records lost=%{marker.size}<extra></extra>",
         "legendgroup": "Meet Mindful",
         "marker": {
          "color": "#636efa",
          "size": [
           2240000
          ],
          "sizemode": "area",
          "sizeref": 1750000,
          "symbol": "circle"
         },
         "mode": "markers",
         "name": "Meet Mindful",
         "orientation": "v",
         "showlegend": true,
         "type": "scatter",
         "x": [
          "2021-02-01T00:00:00"
         ],
         "xaxis": "x",
         "y": [
          2240000
         ],
         "yaxis": "y"
        },
        {
         "hovertemplate": "organisation=Experian Brazil<br>date=%{x}<br>records lost=%{marker.size}<extra></extra>",
         "legendgroup": "Experian Brazil",
         "marker": {
          "color": "#EF553B",
          "size": [
           220000000
          ],
          "sizemode": "area",
          "sizeref": 1750000,
          "symbol": "circle"
         },
         "mode": "markers",
         "name": "Experian Brazil",
         "orientation": "v",
         "showlegend": true,
         "type": "scatter",
         "x": [
          "2021-02-01T00:00:00"
         ],
         "xaxis": "x",
         "y": [
          220000000
         ],
         "yaxis": "y"
        },
        {
         "hovertemplate": "organisation=Gab<br>date=%{x}<br>records lost=%{marker.size}<extra></extra>",
         "legendgroup": "Gab",
         "marker": {
          "color": "#00cc96",
          "size": [
           4000000
          ],
          "sizemode": "area",
          "sizeref": 1750000,
          "symbol": "circle"
         },
         "mode": "markers",
         "name": "Gab",
         "orientation": "v",
         "showlegend": true,
         "type": "scatter",
         "x": [
          "2021-03-01T00:00:00"
         ],
         "xaxis": "x",
         "y": [
          4000000
         ],
         "yaxis": "y"
        },
        {
         "hovertemplate": "organisation=Star Alliance<br>date=%{x}<br>records lost=%{marker.size}<extra></extra>",
         "legendgroup": "Star Alliance",
         "marker": {
          "color": "#ab63fa",
          "size": [
           16000000
          ],
          "sizemode": "area",
          "sizeref": 1750000,
          "symbol": "circle"
         },
         "mode": "markers",
         "name": "Star Alliance",
         "orientation": "v",
         "showlegend": true,
         "type": "scatter",
         "x": [
          "2021-03-01T00:00:00"
         ],
         "xaxis": "x",
         "y": [
          16000000
         ],
         "yaxis": "y"
        },
        {
         "hovertemplate": "organisation=Facebook<br>date=%{x}<br>records lost=%{marker.size}<extra></extra>",
         "legendgroup": "Facebook",
         "marker": {
          "color": "#FFA15A",
          "size": [
           533000000
          ],
          "sizemode": "area",
          "sizeref": 1750000,
          "symbol": "circle"
         },
         "mode": "markers",
         "name": "Facebook",
         "orientation": "v",
         "showlegend": true,
         "type": "scatter",
         "x": [
          "2021-03-01T00:00:00"
         ],
         "xaxis": "x",
         "y": [
          533000000
         ],
         "yaxis": "y"
        }
       ],
       "layout": {
        "legend": {
         "itemsizing": "constant",
         "title": {
          "text": "organisation"
         },
         "tracegroupgap": 0
        },
        "margin": {
         "t": 60
        },
        "template": {
         "data": {
          "bar": [
           {
            "error_x": {
             "color": "#2a3f5f"
            },
            "error_y": {
             "color": "#2a3f5f"
            },
            "marker": {
             "line": {
              "color": "#E5ECF6",
              "width": 0.5
             },
             "pattern": {
              "fillmode": "overlay",
              "size": 10,
              "solidity": 0.2
             }
            },
            "type": "bar"
           }
          ],
          "barpolar": [
           {
            "marker": {
             "line": {
              "color": "#E5ECF6",
              "width": 0.5
             },
             "pattern": {
              "fillmode": "overlay",
              "size": 10,
              "solidity": 0.2
             }
            },
            "type": "barpolar"
           }
          ],
          "carpet": [
           {
            "aaxis": {
             "endlinecolor": "#2a3f5f",
             "gridcolor": "white",
             "linecolor": "white",
             "minorgridcolor": "white",
             "startlinecolor": "#2a3f5f"
            },
            "baxis": {
             "endlinecolor": "#2a3f5f",
             "gridcolor": "white",
             "linecolor": "white",
             "minorgridcolor": "white",
             "startlinecolor": "#2a3f5f"
            },
            "type": "carpet"
           }
          ],
          "choropleth": [
           {
            "colorbar": {
             "outlinewidth": 0,
             "ticks": ""
            },
            "type": "choropleth"
           }
          ],
          "contour": [
           {
            "colorbar": {
             "outlinewidth": 0,
             "ticks": ""
            },
            "colorscale": [
             [
              0,
              "#0d0887"
             ],
             [
              0.1111111111111111,
              "#46039f"
             ],
             [
              0.2222222222222222,
              "#7201a8"
             ],
             [
              0.3333333333333333,
              "#9c179e"
             ],
             [
              0.4444444444444444,
              "#bd3786"
             ],
             [
              0.5555555555555556,
              "#d8576b"
             ],
             [
              0.6666666666666666,
              "#ed7953"
             ],
             [
              0.7777777777777778,
              "#fb9f3a"
             ],
             [
              0.8888888888888888,
              "#fdca26"
             ],
             [
              1,
              "#f0f921"
             ]
            ],
            "type": "contour"
           }
          ],
          "contourcarpet": [
           {
            "colorbar": {
             "outlinewidth": 0,
             "ticks": ""
            },
            "type": "contourcarpet"
           }
          ],
          "heatmap": [
           {
            "colorbar": {
             "outlinewidth": 0,
             "ticks": ""
            },
            "colorscale": [
             [
              0,
              "#0d0887"
             ],
             [
              0.1111111111111111,
              "#46039f"
             ],
             [
              0.2222222222222222,
              "#7201a8"
             ],
             [
              0.3333333333333333,
              "#9c179e"
             ],
             [
              0.4444444444444444,
              "#bd3786"
             ],
             [
              0.5555555555555556,
              "#d8576b"
             ],
             [
              0.6666666666666666,
              "#ed7953"
             ],
             [
              0.7777777777777778,
              "#fb9f3a"
             ],
             [
              0.8888888888888888,
              "#fdca26"
             ],
             [
              1,
              "#f0f921"
             ]
            ],
            "type": "heatmap"
           }
          ],
          "heatmapgl": [
           {
            "colorbar": {
             "outlinewidth": 0,
             "ticks": ""
            },
            "colorscale": [
             [
              0,
              "#0d0887"
             ],
             [
              0.1111111111111111,
              "#46039f"
             ],
             [
              0.2222222222222222,
              "#7201a8"
             ],
             [
              0.3333333333333333,
              "#9c179e"
             ],
             [
              0.4444444444444444,
              "#bd3786"
             ],
             [
              0.5555555555555556,
              "#d8576b"
             ],
             [
              0.6666666666666666,
              "#ed7953"
             ],
             [
              0.7777777777777778,
              "#fb9f3a"
             ],
             [
              0.8888888888888888,
              "#fdca26"
             ],
             [
              1,
              "#f0f921"
             ]
            ],
            "type": "heatmapgl"
           }
          ],
          "histogram": [
           {
            "marker": {
             "pattern": {
              "fillmode": "overlay",
              "size": 10,
              "solidity": 0.2
             }
            },
            "type": "histogram"
           }
          ],
          "histogram2d": [
           {
            "colorbar": {
             "outlinewidth": 0,
             "ticks": ""
            },
            "colorscale": [
             [
              0,
              "#0d0887"
             ],
             [
              0.1111111111111111,
              "#46039f"
             ],
             [
              0.2222222222222222,
              "#7201a8"
             ],
             [
              0.3333333333333333,
              "#9c179e"
             ],
             [
              0.4444444444444444,
              "#bd3786"
             ],
             [
              0.5555555555555556,
              "#d8576b"
             ],
             [
              0.6666666666666666,
              "#ed7953"
             ],
             [
              0.7777777777777778,
              "#fb9f3a"
             ],
             [
              0.8888888888888888,
              "#fdca26"
             ],
             [
              1,
              "#f0f921"
             ]
            ],
            "type": "histogram2d"
           }
          ],
          "histogram2dcontour": [
           {
            "colorbar": {
             "outlinewidth": 0,
             "ticks": ""
            },
            "colorscale": [
             [
              0,
              "#0d0887"
             ],
             [
              0.1111111111111111,
              "#46039f"
             ],
             [
              0.2222222222222222,
              "#7201a8"
             ],
             [
              0.3333333333333333,
              "#9c179e"
             ],
             [
              0.4444444444444444,
              "#bd3786"
             ],
             [
              0.5555555555555556,
              "#d8576b"
             ],
             [
              0.6666666666666666,
              "#ed7953"
             ],
             [
              0.7777777777777778,
              "#fb9f3a"
             ],
             [
              0.8888888888888888,
              "#fdca26"
             ],
             [
              1,
              "#f0f921"
             ]
            ],
            "type": "histogram2dcontour"
           }
          ],
          "mesh3d": [
           {
            "colorbar": {
             "outlinewidth": 0,
             "ticks": ""
            },
            "type": "mesh3d"
           }
          ],
          "parcoords": [
           {
            "line": {
             "colorbar": {
              "outlinewidth": 0,
              "ticks": ""
             }
            },
            "type": "parcoords"
           }
          ],
          "pie": [
           {
            "automargin": true,
            "type": "pie"
           }
          ],
          "scatter": [
           {
            "marker": {
             "colorbar": {
              "outlinewidth": 0,
              "ticks": ""
             }
            },
            "type": "scatter"
           }
          ],
          "scatter3d": [
           {
            "line": {
             "colorbar": {
              "outlinewidth": 0,
              "ticks": ""
             }
            },
            "marker": {
             "colorbar": {
              "outlinewidth": 0,
              "ticks": ""
             }
            },
            "type": "scatter3d"
           }
          ],
          "scattercarpet": [
           {
            "marker": {
             "colorbar": {
              "outlinewidth": 0,
              "ticks": ""
             }
            },
            "type": "scattercarpet"
           }
          ],
          "scattergeo": [
           {
            "marker": {
             "colorbar": {
              "outlinewidth": 0,
              "ticks": ""
             }
            },
            "type": "scattergeo"
           }
          ],
          "scattergl": [
           {
            "marker": {
             "colorbar": {
              "outlinewidth": 0,
              "ticks": ""
             }
            },
            "type": "scattergl"
           }
          ],
          "scattermapbox": [
           {
            "marker": {
             "colorbar": {
              "outlinewidth": 0,
              "ticks": ""
             }
            },
            "type": "scattermapbox"
           }
          ],
          "scatterpolar": [
           {
            "marker": {
             "colorbar": {
              "outlinewidth": 0,
              "ticks": ""
             }
            },
            "type": "scatterpolar"
           }
          ],
          "scatterpolargl": [
           {
            "marker": {
             "colorbar": {
              "outlinewidth": 0,
              "ticks": ""
             }
            },
            "type": "scatterpolargl"
           }
          ],
          "scatterternary": [
           {
            "marker": {
             "colorbar": {
              "outlinewidth": 0,
              "ticks": ""
             }
            },
            "type": "scatterternary"
           }
          ],
          "surface": [
           {
            "colorbar": {
             "outlinewidth": 0,
             "ticks": ""
            },
            "colorscale": [
             [
              0,
              "#0d0887"
             ],
             [
              0.1111111111111111,
              "#46039f"
             ],
             [
              0.2222222222222222,
              "#7201a8"
             ],
             [
              0.3333333333333333,
              "#9c179e"
             ],
             [
              0.4444444444444444,
              "#bd3786"
             ],
             [
              0.5555555555555556,
              "#d8576b"
             ],
             [
              0.6666666666666666,
              "#ed7953"
             ],
             [
              0.7777777777777778,
              "#fb9f3a"
             ],
             [
              0.8888888888888888,
              "#fdca26"
             ],
             [
              1,
              "#f0f921"
             ]
            ],
            "type": "surface"
           }
          ],
          "table": [
           {
            "cells": {
             "fill": {
              "color": "#EBF0F8"
             },
             "line": {
              "color": "white"
             }
            },
            "header": {
             "fill": {
              "color": "#C8D4E3"
             },
             "line": {
              "color": "white"
             }
            },
            "type": "table"
           }
          ]
         },
         "layout": {
          "annotationdefaults": {
           "arrowcolor": "#2a3f5f",
           "arrowhead": 0,
           "arrowwidth": 1
          },
          "autotypenumbers": "strict",
          "coloraxis": {
           "colorbar": {
            "outlinewidth": 0,
            "ticks": ""
           }
          },
          "colorscale": {
           "diverging": [
            [
             0,
             "#8e0152"
            ],
            [
             0.1,
             "#c51b7d"
            ],
            [
             0.2,
             "#de77ae"
            ],
            [
             0.3,
             "#f1b6da"
            ],
            [
             0.4,
             "#fde0ef"
            ],
            [
             0.5,
             "#f7f7f7"
            ],
            [
             0.6,
             "#e6f5d0"
            ],
            [
             0.7,
             "#b8e186"
            ],
            [
             0.8,
             "#7fbc41"
            ],
            [
             0.9,
             "#4d9221"
            ],
            [
             1,
             "#276419"
            ]
           ],
           "sequential": [
            [
             0,
             "#0d0887"
            ],
            [
             0.1111111111111111,
             "#46039f"
            ],
            [
             0.2222222222222222,
             "#7201a8"
            ],
            [
             0.3333333333333333,
             "#9c179e"
            ],
            [
             0.4444444444444444,
             "#bd3786"
            ],
            [
             0.5555555555555556,
             "#d8576b"
            ],
            [
             0.6666666666666666,
             "#ed7953"
            ],
            [
             0.7777777777777778,
             "#fb9f3a"
            ],
            [
             0.8888888888888888,
             "#fdca26"
            ],
            [
             1,
             "#f0f921"
            ]
           ],
           "sequentialminus": [
            [
             0,
             "#0d0887"
            ],
            [
             0.1111111111111111,
             "#46039f"
            ],
            [
             0.2222222222222222,
             "#7201a8"
            ],
            [
             0.3333333333333333,
             "#9c179e"
            ],
            [
             0.4444444444444444,
             "#bd3786"
            ],
            [
             0.5555555555555556,
             "#d8576b"
            ],
            [
             0.6666666666666666,
             "#ed7953"
            ],
            [
             0.7777777777777778,
             "#fb9f3a"
            ],
            [
             0.8888888888888888,
             "#fdca26"
            ],
            [
             1,
             "#f0f921"
            ]
           ]
          },
          "colorway": [
           "#636efa",
           "#EF553B",
           "#00cc96",
           "#ab63fa",
           "#FFA15A",
           "#19d3f3",
           "#FF6692",
           "#B6E880",
           "#FF97FF",
           "#FECB52"
          ],
          "font": {
           "color": "#2a3f5f"
          },
          "geo": {
           "bgcolor": "white",
           "lakecolor": "white",
           "landcolor": "#E5ECF6",
           "showlakes": true,
           "showland": true,
           "subunitcolor": "white"
          },
          "hoverlabel": {
           "align": "left"
          },
          "hovermode": "closest",
          "mapbox": {
           "style": "light"
          },
          "paper_bgcolor": "white",
          "plot_bgcolor": "#E5ECF6",
          "polar": {
           "angularaxis": {
            "gridcolor": "white",
            "linecolor": "white",
            "ticks": ""
           },
           "bgcolor": "#E5ECF6",
           "radialaxis": {
            "gridcolor": "white",
            "linecolor": "white",
            "ticks": ""
           }
          },
          "scene": {
           "xaxis": {
            "backgroundcolor": "#E5ECF6",
            "gridcolor": "white",
            "gridwidth": 2,
            "linecolor": "white",
            "showbackground": true,
            "ticks": "",
            "zerolinecolor": "white"
           },
           "yaxis": {
            "backgroundcolor": "#E5ECF6",
            "gridcolor": "white",
            "gridwidth": 2,
            "linecolor": "white",
            "showbackground": true,
            "ticks": "",
            "zerolinecolor": "white"
           },
           "zaxis": {
            "backgroundcolor": "#E5ECF6",
            "gridcolor": "white",
            "gridwidth": 2,
            "linecolor": "white",
            "showbackground": true,
            "ticks": "",
            "zerolinecolor": "white"
           }
          },
          "shapedefaults": {
           "line": {
            "color": "#2a3f5f"
           }
          },
          "ternary": {
           "aaxis": {
            "gridcolor": "white",
            "linecolor": "white",
            "ticks": ""
           },
           "baxis": {
            "gridcolor": "white",
            "linecolor": "white",
            "ticks": ""
           },
           "bgcolor": "#E5ECF6",
           "caxis": {
            "gridcolor": "white",
            "linecolor": "white",
            "ticks": ""
           }
          },
          "title": {
           "x": 0.05
          },
          "xaxis": {
           "automargin": true,
           "gridcolor": "white",
           "linecolor": "white",
           "ticks": "",
           "title": {
            "standoff": 15
           },
           "zerolinecolor": "white",
           "zerolinewidth": 2
          },
          "yaxis": {
           "automargin": true,
           "gridcolor": "white",
           "linecolor": "white",
           "ticks": "",
           "title": {
            "standoff": 15
           },
           "zerolinecolor": "white",
           "zerolinewidth": 2
          }
         }
        },
        "xaxis": {
         "anchor": "y",
         "domain": [
          0,
          1
         ],
         "title": {
          "text": "date"
         }
        },
        "yaxis": {
         "anchor": "x",
         "domain": [
          0,
          1
         ],
         "title": {
          "text": "records lost"
         },
         "type": "log"
        }
       }
      }
     },
     "metadata": {},
     "output_type": "display_data"
    }
   ],
   "source": [
    "fig = px.scatter(df[(df['year'] == actual_year)], x='date', y='records lost', \n",
    "size=\"records lost\", color=\"organisation\",log_y=True,)\n",
    "\n",
    "\"\"\"fig.update_layout(\n",
    "yaxis= dict(\n",
    "        #range=[df['records lost'].min(), df['records lost'].max()],\n",
    "        #dtick= 1,\n",
    "        #ticks = \"outside\",\n",
    "        #tickwidth = 1,\n",
    "        #tickcolor = \"black\",\n",
    "        #ticklen = 8,\n",
    "        #tickfont = dict(family = 'Arial', size = 14),\n",
    "        #showline = True,\n",
    "        #linewidth = 1,\n",
    "        #linecolor = 'black',\n",
    "        \n",
    "        \n",
    "\n",
    "        \n",
    "        ),\n",
    "xaxis = dict(\n",
    "        tickformat=\"%b\\n%Y\",\n",
    "        ticklabelmode=\"period\"\n",
    ")\n",
    ")\"\"\"\n",
    "\n",
    "fig.show()"
   ]
  }
 ],
 "metadata": {
  "interpreter": {
   "hash": "781744b4409b9da5085f09423be4e3ce07b6e38dfe730dc00e0a5fe5b6bf53c2"
  },
  "kernelspec": {
   "display_name": "Python 3.8.11 64-bit ('dash_py3.8': conda)",
   "language": "python",
   "name": "python3"
  },
  "language_info": {
   "codemirror_mode": {
    "name": "ipython",
    "version": 3
   },
   "file_extension": ".py",
   "mimetype": "text/x-python",
   "name": "python",
   "nbconvert_exporter": "python",
   "pygments_lexer": "ipython3",
   "version": "3.7.11"
  },
  "orig_nbformat": 4
 },
 "nbformat": 4,
 "nbformat_minor": 2
}

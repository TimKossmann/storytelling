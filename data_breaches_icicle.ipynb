{
 "cells": [
  {
   "cell_type": "code",
   "execution_count": 43,
   "metadata": {},
   "outputs": [
    {
     "name": "stdout",
     "output_type": "stream",
     "text": [
      "                    organisation\n",
      "0                            NaN\n",
      "1                         Twitch\n",
      "2                      Syniverse\n",
      "3                 Pandora Papers\n",
      "4                  Neiman Marcus\n",
      "..                           ...\n",
      "388              Hewlett Packard\n",
      "389              Ameritrade Inc.\n",
      "390                    Citigroup\n",
      "391  Cardsystems Solutions Inc. \n",
      "392                          AOL\n",
      "\n",
      "[393 rows x 1 columns]\n"
     ]
    }
   ],
   "source": [
    "import plotly.express as px\n",
    "import dash\n",
    "import pandas as pd \n",
    "import numpy as np\n",
    "import random\n",
    "import datetime\n",
    "\n",
    "df = pd.read_excel(\"./datasets/DataBreaches.xlsx\")\n",
    "\n",
    "def front(self, n):\n",
    "    return self.iloc[:, :n]\n",
    "\n",
    "pd.DataFrame.front=front\n",
    "print(df.front(1))"
   ]
  },
  {
   "cell_type": "code",
   "execution_count": 44,
   "metadata": {},
   "outputs": [
    {
     "name": "stdout",
     "output_type": "stream",
     "text": [
      "                    organisation\n",
      "1                         Twitch\n",
      "2                      Syniverse\n",
      "3                 Pandora Papers\n",
      "4                  Neiman Marcus\n",
      "5                           Epik\n",
      "..                           ...\n",
      "388              Hewlett Packard\n",
      "389              Ameritrade Inc.\n",
      "390                    Citigroup\n",
      "391  Cardsystems Solutions Inc. \n",
      "392                          AOL\n",
      "\n",
      "[392 rows x 1 columns]\n"
     ]
    }
   ],
   "source": [
    "# Löschen der ersten Zeile\n",
    "df = df.drop(df.index[[0]])\n",
    "print(df.front(1))"
   ]
  },
  {
   "cell_type": "code",
   "execution_count": 45,
   "metadata": {},
   "outputs": [],
   "source": [
    "df.dtypes\n",
    "# Spalte year umbennene (aufgrund von Leerzeichen nach \"year\")\n",
    "df = df.rename(columns= {'year   ':'year'})"
   ]
  },
  {
   "cell_type": "code",
   "execution_count": 46,
   "metadata": {},
   "outputs": [
    {
     "data": {
      "text/plain": [
       "organisation                 object\n",
       "alternative name             object\n",
       "records lost                float64\n",
       "year                         object\n",
       "date                 datetime64[ns]\n",
       "story                        object\n",
       "sector                       object\n",
       "method                       object\n",
       "interesting story            object\n",
       "data sensitivity             object\n",
       "displayed records            object\n",
       "Unnamed: 11                 float64\n",
       "source name                  object\n",
       "1st source link              object\n",
       "2nd source link              object\n",
       "ID                          float64\n",
       "dtype: object"
      ]
     },
     "execution_count": 46,
     "metadata": {},
     "output_type": "execute_result"
    }
   ],
   "source": [
    "# Umwandlung des Datentyps von records lost von Object in numeric\n",
    "df[\"records lost\"] = pd.to_numeric(df[\"records lost\"])\n",
    "df.dtypes"
   ]
  },
  {
   "cell_type": "code",
   "execution_count": 47,
   "metadata": {},
   "outputs": [
    {
     "data": {
      "text/plain": [
       "organisation                 string\n",
       "alternative name             object\n",
       "records lost                float64\n",
       "year                         object\n",
       "date                 datetime64[ns]\n",
       "story                        object\n",
       "sector                       object\n",
       "method                       object\n",
       "interesting story            object\n",
       "data sensitivity             object\n",
       "displayed records            object\n",
       "Unnamed: 11                 float64\n",
       "source name                  object\n",
       "1st source link              object\n",
       "2nd source link              object\n",
       "ID                          float64\n",
       "dtype: object"
      ]
     },
     "execution_count": 47,
     "metadata": {},
     "output_type": "execute_result"
    }
   ],
   "source": [
    "# Umwandlung des Datentyps von Organisation von Object in string\n",
    "df[\"organisation\"] = df[\"organisation\"].astype(\"string\")\n",
    "df.dtypes"
   ]
  },
  {
   "cell_type": "code",
   "execution_count": 48,
   "metadata": {},
   "outputs": [
    {
     "data": {
      "text/plain": [
       "organisation                 string\n",
       "alternative name             object\n",
       "records lost                float64\n",
       "year                          int32\n",
       "date                 datetime64[ns]\n",
       "story                        object\n",
       "sector                       object\n",
       "method                       object\n",
       "interesting story            object\n",
       "data sensitivity             object\n",
       "displayed records            object\n",
       "Unnamed: 11                 float64\n",
       "source name                  object\n",
       "1st source link              object\n",
       "2nd source link              object\n",
       "ID                          float64\n",
       "dtype: object"
      ]
     },
     "execution_count": 48,
     "metadata": {},
     "output_type": "execute_result"
    }
   ],
   "source": [
    "# Umwandlung des Datentyps von Year von Object in Integer\n",
    "df[\"year\"] = df[\"year\"].astype(\"int\")\n",
    "df.dtypes\n"
   ]
  },
  {
   "cell_type": "code",
   "execution_count": 49,
   "metadata": {},
   "outputs": [
    {
     "data": {
      "application/vnd.plotly.v1+json": {
       "config": {
        "plotlyServerURL": "https://plot.ly"
       },
       "data": [
        {
         "alignmentgroup": "True",
         "hovertemplate": "sector=gaming<br>year=%{x}<br>records lost=%{y}<extra></extra>",
         "legendgroup": "gaming",
         "marker": {
          "color": "#636efa",
          "pattern": {
           "shape": ""
          }
         },
         "name": "gaming",
         "offsetgroup": "gaming",
         "orientation": "v",
         "showlegend": true,
         "textposition": "auto",
         "type": "bar",
         "x": [
          2021,
          2020,
          2020,
          2019,
          2019,
          2019,
          2019,
          2016,
          2013,
          2013,
          2012,
          2011,
          2011,
          2011,
          2011
         ],
         "xaxis": "x",
         "y": [
          10000000,
          500000,
          300000,
          11000000,
          4000000,
          5000000,
          7600000,
          7000000,
          58000000,
          4000000,
          14000000,
          77000000,
          200000,
          1290755,
          24600000
         ],
         "yaxis": "y"
        },
        {
         "alignmentgroup": "True",
         "hovertemplate": "sector=telecoms<br>year=%{x}<br>records lost=%{y}<extra></extra>",
         "legendgroup": "telecoms",
         "marker": {
          "color": "#EF553B",
          "pattern": {
           "shape": ""
          }
         },
         "name": "telecoms",
         "offsetgroup": "telecoms",
         "orientation": "v",
         "showlegend": true,
         "textposition": "auto",
         "type": "bar",
         "x": [
          2021,
          2021,
          2021,
          2020,
          2020,
          2020,
          2018,
          2018,
          2018,
          2017,
          2017,
          2016,
          2015,
          2015,
          2015,
          2013,
          2013,
          2012,
          2010,
          2008,
          2008,
          2006
         ],
         "xaxis": "x",
         "y": [
          500000000,
          40000000,
          38000000,
          200000,
          2500000,
          115000000,
          10000000,
          2000000,
          32000000,
          1900000,
          46200000,
          130000,
          157000,
          15000000,
          2400000,
          170000,
          2000000,
          8700000,
          114000,
          113000,
          17000000,
          4000000
         ],
         "yaxis": "y"
        },
        {
         "alignmentgroup": "True",
         "hovertemplate": "sector=government<br>year=%{x}<br>records lost=%{y}<extra></extra>",
         "legendgroup": "government",
         "marker": {
          "color": "#00cc96",
          "pattern": {
           "shape": ""
          }
         },
         "name": "government",
         "offsetgroup": "government",
         "orientation": "v",
         "showlegend": true,
         "textposition": "auto",
         "type": "bar",
         "x": [
          2021,
          2021,
          2021,
          2020,
          2020,
          2020,
          2019,
          2019,
          2018,
          2017,
          2017,
          2016,
          2016,
          2016,
          2016,
          2015,
          2015,
          2015,
          2015,
          2014,
          2013,
          2013,
          2013,
          2012,
          2012,
          2012,
          2012,
          2011,
          2011,
          2011,
          2011,
          2011,
          2010,
          2008,
          2008,
          2008,
          2008,
          2008,
          2008,
          2007,
          2007,
          2007
         ],
         "xaxis": "x",
         "y": [
          11900000,
          100000000,
          280000,
          387000,
          6900000,
          6500000,
          100000,
          5000000,
          550000000,
          3000000,
          3700000,
          55000000,
          274477,
          49611709,
          5000000,
          21500000,
          4000000,
          30,
          100000,
          5190396,
          100000,
          1500000,
          160000,
          800000,
          6500000,
          9000000,
          3600000,
          3500000,
          123461,
          180000,
          210000,
          1000000,
          392000,
          84000,
          6000000,
          89000,
          1700000,
          3950000,
          50500,
          3000000,
          160000,
          25000000
         ],
         "yaxis": "y"
        },
        {
         "alignmentgroup": "True",
         "hovertemplate": "sector=retail<br>year=%{x}<br>records lost=%{y}<extra></extra>",
         "legendgroup": "retail",
         "marker": {
          "color": "#ab63fa",
          "pattern": {
           "shape": ""
          }
         },
         "name": "retail",
         "offsetgroup": "retail",
         "orientation": "v",
         "showlegend": true,
         "textposition": "auto",
         "type": "bar",
         "x": [
          2021,
          2021,
          2021,
          2021,
          2020,
          2020,
          2020,
          2020,
          2020,
          2019,
          2019,
          2019,
          2019,
          2018,
          2018,
          2018,
          2018,
          2018,
          2018,
          2018,
          2017,
          2016,
          2014,
          2014,
          2014,
          2014,
          2014,
          2013,
          2011,
          2011,
          2008,
          2008,
          2007,
          2007,
          2007
         ],
         "xaxis": "x",
         "y": [
          4600000,
          15000000,
          111000,
          10000000,
          900000,
          150000,
          600000,
          5200000,
          10600000,
          30000000,
          28000000,
          57000000,
          1000000,
          383000000,
          37000000,
          5000000,
          1300000,
          5000000,
          16300,
          45000000,
          2000000,
          1025,
          1100000,
          4000000,
          1160000,
          56000000,
          600000,
          70000000,
          283000,
          200000,
          4200000,
          97000,
          800000,
          8637405,
          94000000
         ],
         "yaxis": "y"
        },
        {
         "alignmentgroup": "True",
         "hovertemplate": "sector=web <br>year=%{x}<br>records lost=%{y}<extra></extra>",
         "legendgroup": "web ",
         "marker": {
          "color": "#FFA15A",
          "pattern": {
           "shape": ""
          }
         },
         "name": "web ",
         "offsetgroup": "web ",
         "orientation": "v",
         "showlegend": true,
         "textposition": "auto",
         "type": "bar",
         "x": [
          2021,
          2019
         ],
         "xaxis": "x",
         "y": [
          700000000,
          162000000
         ],
         "yaxis": "y"
        },
        {
         "alignmentgroup": "True",
         "hovertemplate": "sector=transport<br>year=%{x}<br>records lost=%{y}<extra></extra>",
         "legendgroup": "transport",
         "marker": {
          "color": "#19d3f3",
          "pattern": {
           "shape": ""
          }
         },
         "name": "transport",
         "offsetgroup": "transport",
         "orientation": "v",
         "showlegend": true,
         "textposition": "auto",
         "type": "bar",
         "x": [
          2021,
          2021,
          2021,
          2021,
          2020,
          2020,
          2019,
          2019,
          2019,
          2018,
          2018,
          2018,
          2018,
          2015,
          2014,
          2014
         ],
         "xaxis": "x",
         "y": [
          3300000,
          4500000,
          21000000,
          16000000,
          9000000,
          5000000,
          3100000,
          18000000,
          4900000,
          94000000,
          700000,
          380000,
          934000,
          10000,
          52000,
          750000
         ],
         "yaxis": "y"
        },
        {
         "alignmentgroup": "True",
         "hovertemplate": "sector=app<br>year=%{x}<br>records lost=%{y}<extra></extra>",
         "legendgroup": "app",
         "marker": {
          "color": "#FF6692",
          "pattern": {
           "shape": ""
          }
         },
         "name": "app",
         "offsetgroup": "app",
         "orientation": "v",
         "showlegend": true,
         "textposition": "auto",
         "type": "bar",
         "x": [
          2021,
          2020,
          2020,
          2020,
          2020,
          2019,
          2018,
          2018,
          2018,
          2018,
          2018,
          2018,
          2017,
          2017,
          2017,
          2017,
          2017,
          2017,
          2016,
          2015,
          2015
         ],
         "xaxis": "x",
         "y": [
          1710000,
          50000000,
          500000,
          2400000,
          500000,
          2000000,
          14000000,
          150000000,
          120000000,
          100000000,
          3000000,
          309000,
          57000000,
          1700000,
          31000000,
          1000000,
          1700000,
          540000,
          15000000,
          400000,
          500000
         ],
         "yaxis": "y"
        },
        {
         "alignmentgroup": "True",
         "hovertemplate": "sector=web<br>year=%{x}<br>records lost=%{y}<extra></extra>",
         "legendgroup": "web",
         "marker": {
          "color": "#B6E880",
          "pattern": {
           "shape": ""
          }
         },
         "name": "web",
         "offsetgroup": "web",
         "orientation": "v",
         "showlegend": true,
         "textposition": "auto",
         "type": "bar",
         "x": [
          2021,
          2020,
          2020,
          2019,
          2019,
          2019,
          2019,
          2019,
          2019,
          2019,
          2019,
          2019,
          2019,
          2019,
          2019,
          2019,
          2019,
          2019,
          2019,
          2019,
          2019,
          2018,
          2018,
          2018,
          2018,
          2018,
          2018,
          2018,
          2018,
          2018,
          2018,
          2018,
          2018,
          2017,
          2017,
          2017,
          2017,
          2017,
          2017,
          2017,
          2017,
          2017,
          2016,
          2016,
          2016,
          2016,
          2016,
          2016,
          2016,
          2016,
          2016,
          2016,
          2016,
          2016,
          2016,
          2016,
          2016,
          2016,
          2016,
          2016,
          2015,
          2015,
          2015,
          2015,
          2015,
          2015,
          2015,
          2015,
          2014,
          2014,
          2014,
          2014,
          2013,
          2013,
          2013,
          2013,
          2013,
          2013,
          2013,
          2013,
          2013,
          2013,
          2013,
          2012,
          2012,
          2012,
          2012,
          2012,
          2012,
          2012,
          2011,
          2011,
          2011,
          2011,
          2011,
          2011,
          2011,
          2010,
          2009,
          2008,
          2007,
          2006,
          2004
         ],
         "xaxis": "x",
         "y": [
          13124962,
          22000000,
          250000000,
          139000000,
          1800000,
          41000000,
          25000000,
          22000000,
          20000000,
          18000000,
          16000000,
          8000000,
          6000000,
          1000000,
          700000,
          40000000,
          1800000,
          14800000,
          275265298,
          419000000,
          26000000,
          202000000,
          52500000,
          100000000,
          50000000,
          92283889,
          14800000,
          40000,
          880000,
          48000000,
          27000000,
          411000,
          29000000,
          17500000,
          300000,
          32000000,
          520000000,
          340000000,
          700000,
          17000000,
          6000000,
          3000000,
          117000000,
          65000000,
          500000000,
          25000000,
          300000,
          9500000,
          2000000,
          35000,
          171000000,
          1500000,
          40000000,
          164000000,
          85200000,
          43000000,
          10000000,
          412000000,
          790724,
          6600000,
          198000000,
          13000000,
          3300000,
          6400000,
          500000,
          37000000,
          3900000,
          70000000,
          2400000,
          145000000,
          5000000,
          76000,
          40000000,
          500000,
          50000000,
          550000000,
          250000,
          200000,
          6000000,
          50000000,
          1000000,
          860000,
          4000000,
          6000000,
          24000000,
          420000,
          43500000,
          8000000,
          8000000,
          68700000,
          2300000,
          3000000,
          10000000,
          62000,
          1000000,
          35000000,
          13200000,
          1500000,
          573000,
          18000000,
          1600000,
          20000000,
          92000000
         ],
         "yaxis": "y"
        },
        {
         "alignmentgroup": "True",
         "hovertemplate": "sector=tech<br>year=%{x}<br>records lost=%{y}<extra></extra>",
         "legendgroup": "tech",
         "marker": {
          "color": "#FF97FF",
          "pattern": {
           "shape": ""
          }
         },
         "name": "tech",
         "offsetgroup": "tech",
         "orientation": "v",
         "showlegend": true,
         "textposition": "auto",
         "type": "bar",
         "x": [
          2021,
          2021,
          2021,
          2021,
          2021,
          2021,
          2019,
          2019,
          2019,
          2018,
          2018,
          2018,
          2017,
          2013,
          2013
         ],
         "xaxis": "x",
         "y": [
          3000000,
          10000000,
          16000000,
          2240000,
          4000000,
          533000000,
          2400000,
          27800000,
          380000000,
          330000000,
          100000,
          200000000,
          3000000,
          38000000,
          1000000
         ],
         "yaxis": "y"
        },
        {
         "alignmentgroup": "True",
         "hovertemplate": "sector=finance<br>year=%{x}<br>records lost=%{y}<extra></extra>",
         "legendgroup": "finance",
         "marker": {
          "color": "#FECB52",
          "pattern": {
           "shape": ""
          }
         },
         "name": "finance",
         "offsetgroup": "finance",
         "orientation": "v",
         "showlegend": true,
         "textposition": "auto",
         "type": "bar",
         "x": [
          2021,
          2020,
          2019,
          2019,
          2019,
          2018,
          2018,
          2016,
          2017,
          2017,
          2017,
          2015,
          2014,
          2014,
          2014,
          2014,
          2013,
          2013,
          2013,
          2013,
          2012,
          2012,
          2011,
          2011,
          2010,
          2010,
          2009,
          2009,
          2008,
          2008,
          2008,
          2008,
          2007,
          2007,
          2007,
          2006,
          2005,
          2005,
          2005
         ],
         "xaxis": "x",
         "y": [
          220000000,
          270000,
          4200000,
          450000,
          100000000,
          300000,
          14000000,
          1100,
          270000,
          1600000,
          143000000,
          40000,
          4000000,
          76000000,
          2700000,
          20000000,
          160000000,
          150000,
          500000,
          200000000,
          1500000,
          3000000,
          34000,
          210000,
          3300000,
          400000,
          130000000,
          5000000,
          1000000,
          4500000,
          2500000,
          1500000,
          8500000,
          2600000,
          6300000,
          125000,
          200000,
          3900000,
          40000000
         ],
         "yaxis": "y"
        },
        {
         "alignmentgroup": "True",
         "hovertemplate": "sector=health <br>year=%{x}<br>records lost=%{y}<extra></extra>",
         "legendgroup": "health ",
         "marker": {
          "color": "#636efa",
          "pattern": {
           "shape": ""
          }
         },
         "name": "health ",
         "offsetgroup": "health ",
         "orientation": "v",
         "showlegend": true,
         "textposition": "auto",
         "type": "bar",
         "x": [
          2020,
          2019,
          2019,
          2018,
          2018,
          2018,
          2017,
          2016,
          2016,
          2016,
          2016,
          2015,
          2015,
          2015,
          2015,
          2015,
          2014,
          2013,
          2013,
          2013,
          2012,
          2012,
          2012,
          2011,
          2011,
          2011,
          2011,
          2011,
          2011,
          2011,
          2011,
          2011,
          2011,
          2011,
          2011,
          2010,
          2010,
          2010,
          2010,
          2010,
          2010,
          2009,
          2009
         ],
         "xaxis": "x",
         "y": [
          1000000,
          20000000,
          2700000,
          1500000,
          3000000,
          93689,
          81309,
          3700000,
          112000,
          550000,
          34000,
          1100000,
          10000000,
          11000000,
          80000000,
          4500000,
          4500000,
          344579,
          100000,
          4000000,
          228000,
          315000,
          102153,
          1700000,
          231400,
          800000,
          156000,
          300000,
          175350,
          1900000,
          514330,
          400000,
          8600000,
          1600000,
          4243434,
          1220000,
          1023209,
          398000,
          180111,
          105470,
          130495,
          531400,
          1500000
         ],
         "yaxis": "y"
        },
        {
         "alignmentgroup": "True",
         "hovertemplate": "sector=misc, health<br>year=%{x}<br>records lost=%{y}<extra></extra>",
         "legendgroup": "misc, health",
         "marker": {
          "color": "#EF553B",
          "pattern": {
           "shape": ""
          }
         },
         "name": "misc, health",
         "offsetgroup": "misc, health",
         "orientation": "v",
         "showlegend": true,
         "textposition": "auto",
         "type": "bar",
         "x": [
          2020
         ],
         "xaxis": "x",
         "y": [
          1400000
         ],
         "yaxis": "y"
        },
        {
         "alignmentgroup": "True",
         "hovertemplate": "sector=misc<br>year=%{x}<br>records lost=%{y}<extra></extra>",
         "legendgroup": "misc",
         "marker": {
          "color": "#00cc96",
          "pattern": {
           "shape": ""
          }
         },
         "name": "misc",
         "offsetgroup": "misc",
         "orientation": "v",
         "showlegend": true,
         "textposition": "auto",
         "type": "bar",
         "x": [
          2020,
          2019,
          2016,
          2016,
          2014,
          2013,
          2012,
          2011,
          2008
         ],
         "xaxis": "x",
         "y": [
          2400000,
          49000000,
          11500000,
          2200000,
          10000000,
          110000,
          1800000,
          1270000,
          11100000
         ],
         "yaxis": "y"
        },
        {
         "alignmentgroup": "True",
         "hovertemplate": "sector=tech, health<br>year=%{x}<br>records lost=%{y}<extra></extra>",
         "legendgroup": "tech, health",
         "marker": {
          "color": "#ab63fa",
          "pattern": {
           "shape": ""
          }
         },
         "name": "tech, health",
         "offsetgroup": "tech, health",
         "orientation": "v",
         "showlegend": true,
         "textposition": "auto",
         "type": "bar",
         "x": [
          2020
         ],
         "xaxis": "x",
         "y": [
          2500000
         ],
         "yaxis": "y"
        },
        {
         "alignmentgroup": "True",
         "hovertemplate": "sector=academic<br>year=%{x}<br>records lost=%{y}<extra></extra>",
         "legendgroup": "academic",
         "marker": {
          "color": "#FFA15A",
          "pattern": {
           "shape": ""
          }
         },
         "name": "academic",
         "offsetgroup": "academic",
         "orientation": "v",
         "showlegend": true,
         "textposition": "auto",
         "type": "bar",
         "x": [
          2019,
          2014,
          2013,
          2013,
          2011,
          2011,
          2010,
          2009,
          2008,
          2008,
          2008
         ],
         "xaxis": "x",
         "y": [
          200000,
          146000,
          74000,
          125000,
          43000,
          73000,
          760000,
          160000,
          2100000,
          72000,
          2200000
         ],
         "yaxis": "y"
        },
        {
         "alignmentgroup": "True",
         "hovertemplate": "sector=tech, app<br>year=%{x}<br>records lost=%{y}<extra></extra>",
         "legendgroup": "tech, app",
         "marker": {
          "color": "#19d3f3",
          "pattern": {
           "shape": ""
          }
         },
         "name": "tech, app",
         "offsetgroup": "tech, app",
         "orientation": "v",
         "showlegend": true,
         "textposition": "auto",
         "type": "bar",
         "x": [
          2015
         ],
         "xaxis": "x",
         "y": [
          50000
         ],
         "yaxis": "y"
        },
        {
         "alignmentgroup": "True",
         "hovertemplate": "sector=web, tech<br>year=%{x}<br>records lost=%{y}<extra></extra>",
         "legendgroup": "web, tech",
         "marker": {
          "color": "#FF6692",
          "pattern": {
           "shape": ""
          }
         },
         "name": "web, tech",
         "offsetgroup": "web, tech",
         "orientation": "v",
         "showlegend": true,
         "textposition": "auto",
         "type": "bar",
         "x": [
          2013
         ],
         "xaxis": "x",
         "y": [
          4600000
         ],
         "yaxis": "y"
        },
        {
         "alignmentgroup": "True",
         "hovertemplate": "sector=tech, web<br>year=%{x}<br>records lost=%{y}<extra></extra>",
         "legendgroup": "tech, web",
         "marker": {
          "color": "#B6E880",
          "pattern": {
           "shape": ""
          }
         },
         "name": "tech, web",
         "offsetgroup": "tech, web",
         "orientation": "v",
         "showlegend": true,
         "textposition": "auto",
         "type": "bar",
         "x": [
          2013,
          2013,
          2013,
          2012
         ],
         "xaxis": "x",
         "y": [
          275000,
          2000000,
          22000000,
          450000
         ],
         "yaxis": "y"
        },
        {
         "alignmentgroup": "True",
         "hovertemplate": "sector=government, health<br>year=%{x}<br>records lost=%{y}<extra></extra>",
         "legendgroup": "government, health",
         "marker": {
          "color": "#FF97FF",
          "pattern": {
           "shape": ""
          }
         },
         "name": "government, health",
         "offsetgroup": "government, health",
         "orientation": "v",
         "showlegend": true,
         "textposition": "auto",
         "type": "bar",
         "x": [
          2012
         ],
         "xaxis": "x",
         "y": [
          780000
         ],
         "yaxis": "y"
        },
        {
         "alignmentgroup": "True",
         "hovertemplate": "sector=web, military<br>year=%{x}<br>records lost=%{y}<extra></extra>",
         "legendgroup": "web, military",
         "marker": {
          "color": "#FECB52",
          "pattern": {
           "shape": ""
          }
         },
         "name": "web, military",
         "offsetgroup": "web, military",
         "orientation": "v",
         "showlegend": true,
         "textposition": "auto",
         "type": "bar",
         "x": [
          2012
         ],
         "xaxis": "x",
         "y": [
          163792
         ],
         "yaxis": "y"
        },
        {
         "alignmentgroup": "True",
         "hovertemplate": "sector=tech, retail<br>year=%{x}<br>records lost=%{y}<extra></extra>",
         "legendgroup": "tech, retail",
         "marker": {
          "color": "#636efa",
          "pattern": {
           "shape": ""
          }
         },
         "name": "tech, retail",
         "offsetgroup": "tech, retail",
         "orientation": "v",
         "showlegend": true,
         "textposition": "auto",
         "type": "bar",
         "x": [
          2012,
          2006
         ],
         "xaxis": "x",
         "y": [
          12367232,
          200000
         ],
         "yaxis": "y"
        },
        {
         "alignmentgroup": "True",
         "hovertemplate": "sector=military<br>year=%{x}<br>records lost=%{y}<extra></extra>",
         "legendgroup": "military",
         "marker": {
          "color": "#EF553B",
          "pattern": {
           "shape": ""
          }
         },
         "name": "military",
         "offsetgroup": "military",
         "orientation": "v",
         "showlegend": true,
         "textposition": "auto",
         "type": "bar",
         "x": [
          2011,
          2010,
          2009,
          2009
         ],
         "xaxis": "x",
         "y": [
          935000,
          260000,
          131000,
          76000000
         ],
         "yaxis": "y"
        },
        {
         "alignmentgroup": "True",
         "hovertemplate": "sector=military, health<br>year=%{x}<br>records lost=%{y}<extra></extra>",
         "legendgroup": "military, health",
         "marker": {
          "color": "#00cc96",
          "pattern": {
           "shape": ""
          }
         },
         "name": "military, health",
         "offsetgroup": "military, health",
         "orientation": "v",
         "showlegend": true,
         "textposition": "auto",
         "type": "bar",
         "x": [
          2011
         ],
         "xaxis": "x",
         "y": [
          4901432
         ],
         "yaxis": "y"
        },
        {
         "alignmentgroup": "True",
         "hovertemplate": "sector=web, gaming<br>year=%{x}<br>records lost=%{y}<extra></extra>",
         "legendgroup": "web, gaming",
         "marker": {
          "color": "#ab63fa",
          "pattern": {
           "shape": ""
          }
         },
         "name": "web, gaming",
         "offsetgroup": "web, gaming",
         "orientation": "v",
         "showlegend": true,
         "textposition": "auto",
         "type": "bar",
         "x": [
          2009
         ],
         "xaxis": "x",
         "y": [
          32000000
         ],
         "yaxis": "y"
        },
        {
         "alignmentgroup": "True",
         "hovertemplate": "sector=government, military<br>year=%{x}<br>records lost=%{y}<extra></extra>",
         "legendgroup": "government, military",
         "marker": {
          "color": "#FFA15A",
          "pattern": {
           "shape": ""
          }
         },
         "name": "government, military",
         "offsetgroup": "government, military",
         "orientation": "v",
         "showlegend": true,
         "textposition": "auto",
         "type": "bar",
         "x": [
          2006
         ],
         "xaxis": "x",
         "y": [
          26500000
         ],
         "yaxis": "y"
        }
       ],
       "layout": {
        "barmode": "relative",
        "legend": {
         "title": {
          "text": "sector"
         },
         "tracegroupgap": 0
        },
        "margin": {
         "t": 60
        },
        "template": {
         "data": {
          "bar": [
           {
            "error_x": {
             "color": "#2a3f5f"
            },
            "error_y": {
             "color": "#2a3f5f"
            },
            "marker": {
             "line": {
              "color": "#E5ECF6",
              "width": 0.5
             },
             "pattern": {
              "fillmode": "overlay",
              "size": 10,
              "solidity": 0.2
             }
            },
            "type": "bar"
           }
          ],
          "barpolar": [
           {
            "marker": {
             "line": {
              "color": "#E5ECF6",
              "width": 0.5
             },
             "pattern": {
              "fillmode": "overlay",
              "size": 10,
              "solidity": 0.2
             }
            },
            "type": "barpolar"
           }
          ],
          "carpet": [
           {
            "aaxis": {
             "endlinecolor": "#2a3f5f",
             "gridcolor": "white",
             "linecolor": "white",
             "minorgridcolor": "white",
             "startlinecolor": "#2a3f5f"
            },
            "baxis": {
             "endlinecolor": "#2a3f5f",
             "gridcolor": "white",
             "linecolor": "white",
             "minorgridcolor": "white",
             "startlinecolor": "#2a3f5f"
            },
            "type": "carpet"
           }
          ],
          "choropleth": [
           {
            "colorbar": {
             "outlinewidth": 0,
             "ticks": ""
            },
            "type": "choropleth"
           }
          ],
          "contour": [
           {
            "colorbar": {
             "outlinewidth": 0,
             "ticks": ""
            },
            "colorscale": [
             [
              0,
              "#0d0887"
             ],
             [
              0.1111111111111111,
              "#46039f"
             ],
             [
              0.2222222222222222,
              "#7201a8"
             ],
             [
              0.3333333333333333,
              "#9c179e"
             ],
             [
              0.4444444444444444,
              "#bd3786"
             ],
             [
              0.5555555555555556,
              "#d8576b"
             ],
             [
              0.6666666666666666,
              "#ed7953"
             ],
             [
              0.7777777777777778,
              "#fb9f3a"
             ],
             [
              0.8888888888888888,
              "#fdca26"
             ],
             [
              1,
              "#f0f921"
             ]
            ],
            "type": "contour"
           }
          ],
          "contourcarpet": [
           {
            "colorbar": {
             "outlinewidth": 0,
             "ticks": ""
            },
            "type": "contourcarpet"
           }
          ],
          "heatmap": [
           {
            "colorbar": {
             "outlinewidth": 0,
             "ticks": ""
            },
            "colorscale": [
             [
              0,
              "#0d0887"
             ],
             [
              0.1111111111111111,
              "#46039f"
             ],
             [
              0.2222222222222222,
              "#7201a8"
             ],
             [
              0.3333333333333333,
              "#9c179e"
             ],
             [
              0.4444444444444444,
              "#bd3786"
             ],
             [
              0.5555555555555556,
              "#d8576b"
             ],
             [
              0.6666666666666666,
              "#ed7953"
             ],
             [
              0.7777777777777778,
              "#fb9f3a"
             ],
             [
              0.8888888888888888,
              "#fdca26"
             ],
             [
              1,
              "#f0f921"
             ]
            ],
            "type": "heatmap"
           }
          ],
          "heatmapgl": [
           {
            "colorbar": {
             "outlinewidth": 0,
             "ticks": ""
            },
            "colorscale": [
             [
              0,
              "#0d0887"
             ],
             [
              0.1111111111111111,
              "#46039f"
             ],
             [
              0.2222222222222222,
              "#7201a8"
             ],
             [
              0.3333333333333333,
              "#9c179e"
             ],
             [
              0.4444444444444444,
              "#bd3786"
             ],
             [
              0.5555555555555556,
              "#d8576b"
             ],
             [
              0.6666666666666666,
              "#ed7953"
             ],
             [
              0.7777777777777778,
              "#fb9f3a"
             ],
             [
              0.8888888888888888,
              "#fdca26"
             ],
             [
              1,
              "#f0f921"
             ]
            ],
            "type": "heatmapgl"
           }
          ],
          "histogram": [
           {
            "marker": {
             "pattern": {
              "fillmode": "overlay",
              "size": 10,
              "solidity": 0.2
             }
            },
            "type": "histogram"
           }
          ],
          "histogram2d": [
           {
            "colorbar": {
             "outlinewidth": 0,
             "ticks": ""
            },
            "colorscale": [
             [
              0,
              "#0d0887"
             ],
             [
              0.1111111111111111,
              "#46039f"
             ],
             [
              0.2222222222222222,
              "#7201a8"
             ],
             [
              0.3333333333333333,
              "#9c179e"
             ],
             [
              0.4444444444444444,
              "#bd3786"
             ],
             [
              0.5555555555555556,
              "#d8576b"
             ],
             [
              0.6666666666666666,
              "#ed7953"
             ],
             [
              0.7777777777777778,
              "#fb9f3a"
             ],
             [
              0.8888888888888888,
              "#fdca26"
             ],
             [
              1,
              "#f0f921"
             ]
            ],
            "type": "histogram2d"
           }
          ],
          "histogram2dcontour": [
           {
            "colorbar": {
             "outlinewidth": 0,
             "ticks": ""
            },
            "colorscale": [
             [
              0,
              "#0d0887"
             ],
             [
              0.1111111111111111,
              "#46039f"
             ],
             [
              0.2222222222222222,
              "#7201a8"
             ],
             [
              0.3333333333333333,
              "#9c179e"
             ],
             [
              0.4444444444444444,
              "#bd3786"
             ],
             [
              0.5555555555555556,
              "#d8576b"
             ],
             [
              0.6666666666666666,
              "#ed7953"
             ],
             [
              0.7777777777777778,
              "#fb9f3a"
             ],
             [
              0.8888888888888888,
              "#fdca26"
             ],
             [
              1,
              "#f0f921"
             ]
            ],
            "type": "histogram2dcontour"
           }
          ],
          "mesh3d": [
           {
            "colorbar": {
             "outlinewidth": 0,
             "ticks": ""
            },
            "type": "mesh3d"
           }
          ],
          "parcoords": [
           {
            "line": {
             "colorbar": {
              "outlinewidth": 0,
              "ticks": ""
             }
            },
            "type": "parcoords"
           }
          ],
          "pie": [
           {
            "automargin": true,
            "type": "pie"
           }
          ],
          "scatter": [
           {
            "marker": {
             "colorbar": {
              "outlinewidth": 0,
              "ticks": ""
             }
            },
            "type": "scatter"
           }
          ],
          "scatter3d": [
           {
            "line": {
             "colorbar": {
              "outlinewidth": 0,
              "ticks": ""
             }
            },
            "marker": {
             "colorbar": {
              "outlinewidth": 0,
              "ticks": ""
             }
            },
            "type": "scatter3d"
           }
          ],
          "scattercarpet": [
           {
            "marker": {
             "colorbar": {
              "outlinewidth": 0,
              "ticks": ""
             }
            },
            "type": "scattercarpet"
           }
          ],
          "scattergeo": [
           {
            "marker": {
             "colorbar": {
              "outlinewidth": 0,
              "ticks": ""
             }
            },
            "type": "scattergeo"
           }
          ],
          "scattergl": [
           {
            "marker": {
             "colorbar": {
              "outlinewidth": 0,
              "ticks": ""
             }
            },
            "type": "scattergl"
           }
          ],
          "scattermapbox": [
           {
            "marker": {
             "colorbar": {
              "outlinewidth": 0,
              "ticks": ""
             }
            },
            "type": "scattermapbox"
           }
          ],
          "scatterpolar": [
           {
            "marker": {
             "colorbar": {
              "outlinewidth": 0,
              "ticks": ""
             }
            },
            "type": "scatterpolar"
           }
          ],
          "scatterpolargl": [
           {
            "marker": {
             "colorbar": {
              "outlinewidth": 0,
              "ticks": ""
             }
            },
            "type": "scatterpolargl"
           }
          ],
          "scatterternary": [
           {
            "marker": {
             "colorbar": {
              "outlinewidth": 0,
              "ticks": ""
             }
            },
            "type": "scatterternary"
           }
          ],
          "surface": [
           {
            "colorbar": {
             "outlinewidth": 0,
             "ticks": ""
            },
            "colorscale": [
             [
              0,
              "#0d0887"
             ],
             [
              0.1111111111111111,
              "#46039f"
             ],
             [
              0.2222222222222222,
              "#7201a8"
             ],
             [
              0.3333333333333333,
              "#9c179e"
             ],
             [
              0.4444444444444444,
              "#bd3786"
             ],
             [
              0.5555555555555556,
              "#d8576b"
             ],
             [
              0.6666666666666666,
              "#ed7953"
             ],
             [
              0.7777777777777778,
              "#fb9f3a"
             ],
             [
              0.8888888888888888,
              "#fdca26"
             ],
             [
              1,
              "#f0f921"
             ]
            ],
            "type": "surface"
           }
          ],
          "table": [
           {
            "cells": {
             "fill": {
              "color": "#EBF0F8"
             },
             "line": {
              "color": "white"
             }
            },
            "header": {
             "fill": {
              "color": "#C8D4E3"
             },
             "line": {
              "color": "white"
             }
            },
            "type": "table"
           }
          ]
         },
         "layout": {
          "annotationdefaults": {
           "arrowcolor": "#2a3f5f",
           "arrowhead": 0,
           "arrowwidth": 1
          },
          "autotypenumbers": "strict",
          "coloraxis": {
           "colorbar": {
            "outlinewidth": 0,
            "ticks": ""
           }
          },
          "colorscale": {
           "diverging": [
            [
             0,
             "#8e0152"
            ],
            [
             0.1,
             "#c51b7d"
            ],
            [
             0.2,
             "#de77ae"
            ],
            [
             0.3,
             "#f1b6da"
            ],
            [
             0.4,
             "#fde0ef"
            ],
            [
             0.5,
             "#f7f7f7"
            ],
            [
             0.6,
             "#e6f5d0"
            ],
            [
             0.7,
             "#b8e186"
            ],
            [
             0.8,
             "#7fbc41"
            ],
            [
             0.9,
             "#4d9221"
            ],
            [
             1,
             "#276419"
            ]
           ],
           "sequential": [
            [
             0,
             "#0d0887"
            ],
            [
             0.1111111111111111,
             "#46039f"
            ],
            [
             0.2222222222222222,
             "#7201a8"
            ],
            [
             0.3333333333333333,
             "#9c179e"
            ],
            [
             0.4444444444444444,
             "#bd3786"
            ],
            [
             0.5555555555555556,
             "#d8576b"
            ],
            [
             0.6666666666666666,
             "#ed7953"
            ],
            [
             0.7777777777777778,
             "#fb9f3a"
            ],
            [
             0.8888888888888888,
             "#fdca26"
            ],
            [
             1,
             "#f0f921"
            ]
           ],
           "sequentialminus": [
            [
             0,
             "#0d0887"
            ],
            [
             0.1111111111111111,
             "#46039f"
            ],
            [
             0.2222222222222222,
             "#7201a8"
            ],
            [
             0.3333333333333333,
             "#9c179e"
            ],
            [
             0.4444444444444444,
             "#bd3786"
            ],
            [
             0.5555555555555556,
             "#d8576b"
            ],
            [
             0.6666666666666666,
             "#ed7953"
            ],
            [
             0.7777777777777778,
             "#fb9f3a"
            ],
            [
             0.8888888888888888,
             "#fdca26"
            ],
            [
             1,
             "#f0f921"
            ]
           ]
          },
          "colorway": [
           "#636efa",
           "#EF553B",
           "#00cc96",
           "#ab63fa",
           "#FFA15A",
           "#19d3f3",
           "#FF6692",
           "#B6E880",
           "#FF97FF",
           "#FECB52"
          ],
          "font": {
           "color": "#2a3f5f"
          },
          "geo": {
           "bgcolor": "white",
           "lakecolor": "white",
           "landcolor": "#E5ECF6",
           "showlakes": true,
           "showland": true,
           "subunitcolor": "white"
          },
          "hoverlabel": {
           "align": "left"
          },
          "hovermode": "closest",
          "mapbox": {
           "style": "light"
          },
          "paper_bgcolor": "white",
          "plot_bgcolor": "#E5ECF6",
          "polar": {
           "angularaxis": {
            "gridcolor": "white",
            "linecolor": "white",
            "ticks": ""
           },
           "bgcolor": "#E5ECF6",
           "radialaxis": {
            "gridcolor": "white",
            "linecolor": "white",
            "ticks": ""
           }
          },
          "scene": {
           "xaxis": {
            "backgroundcolor": "#E5ECF6",
            "gridcolor": "white",
            "gridwidth": 2,
            "linecolor": "white",
            "showbackground": true,
            "ticks": "",
            "zerolinecolor": "white"
           },
           "yaxis": {
            "backgroundcolor": "#E5ECF6",
            "gridcolor": "white",
            "gridwidth": 2,
            "linecolor": "white",
            "showbackground": true,
            "ticks": "",
            "zerolinecolor": "white"
           },
           "zaxis": {
            "backgroundcolor": "#E5ECF6",
            "gridcolor": "white",
            "gridwidth": 2,
            "linecolor": "white",
            "showbackground": true,
            "ticks": "",
            "zerolinecolor": "white"
           }
          },
          "shapedefaults": {
           "line": {
            "color": "#2a3f5f"
           }
          },
          "ternary": {
           "aaxis": {
            "gridcolor": "white",
            "linecolor": "white",
            "ticks": ""
           },
           "baxis": {
            "gridcolor": "white",
            "linecolor": "white",
            "ticks": ""
           },
           "bgcolor": "#E5ECF6",
           "caxis": {
            "gridcolor": "white",
            "linecolor": "white",
            "ticks": ""
           }
          },
          "title": {
           "x": 0.05
          },
          "xaxis": {
           "automargin": true,
           "gridcolor": "white",
           "linecolor": "white",
           "ticks": "",
           "title": {
            "standoff": 15
           },
           "zerolinecolor": "white",
           "zerolinewidth": 2
          },
          "yaxis": {
           "automargin": true,
           "gridcolor": "white",
           "linecolor": "white",
           "ticks": "",
           "title": {
            "standoff": 15
           },
           "zerolinecolor": "white",
           "zerolinewidth": 2
          }
         }
        },
        "xaxis": {
         "anchor": "y",
         "domain": [
          0,
          1
         ],
         "title": {
          "text": "year"
         }
        },
        "yaxis": {
         "anchor": "x",
         "domain": [
          0,
          1
         ],
         "title": {
          "text": "records lost"
         }
        }
       }
      }
     },
     "metadata": {},
     "output_type": "display_data"
    }
   ],
   "source": [
    "fig = px.bar(df, x=\"year\", y='records lost', color='sector')\n",
    "fig.show()"
   ]
  },
  {
   "cell_type": "code",
   "execution_count": 52,
   "metadata": {},
   "outputs": [
    {
     "data": {
      "application/vnd.plotly.v1+json": {
       "config": {
        "plotlyServerURL": "https://plot.ly"
       },
       "data": [
        {
         "hovertemplate": "<b>%{hovertext}</b><br><br>organisation=Twitch<br>records lost=%{marker.size}<br>date=%{y}<extra></extra>",
         "hovertext": [
          "Twitch"
         ],
         "legendgroup": "Twitch",
         "marker": {
          "color": "#636efa",
          "size": [
           10000000
          ],
          "sizemode": "area",
          "sizeref": 194444.44444444444,
          "symbol": "circle"
         },
         "mode": "markers",
         "name": "Twitch",
         "orientation": "h",
         "showlegend": true,
         "type": "scatter",
         "x": [
          10000000
         ],
         "xaxis": "x",
         "y": [
          "2021-10-01T00:00:00"
         ],
         "yaxis": "y"
        },
        {
         "hovertemplate": "<b>%{hovertext}</b><br><br>organisation=Syniverse<br>records lost=%{marker.size}<br>date=%{y}<extra></extra>",
         "hovertext": [
          "Syniverse"
         ],
         "legendgroup": "Syniverse",
         "marker": {
          "color": "#EF553B",
          "size": [
           500000000
          ],
          "sizemode": "area",
          "sizeref": 194444.44444444444,
          "symbol": "circle"
         },
         "mode": "markers",
         "name": "Syniverse",
         "orientation": "h",
         "showlegend": true,
         "type": "scatter",
         "x": [
          500000000
         ],
         "xaxis": "x",
         "y": [
          "2021-09-01T00:00:00"
         ],
         "yaxis": "y"
        },
        {
         "hovertemplate": "<b>%{hovertext}</b><br><br>organisation=Pandora Papers<br>records lost=%{marker.size}<br>date=%{y}<extra></extra>",
         "hovertext": [
          "Pandora Papers"
         ],
         "legendgroup": "Pandora Papers",
         "marker": {
          "color": "#00cc96",
          "size": [
           11900000
          ],
          "sizemode": "area",
          "sizeref": 194444.44444444444,
          "symbol": "circle"
         },
         "mode": "markers",
         "name": "Pandora Papers",
         "orientation": "h",
         "showlegend": true,
         "type": "scatter",
         "x": [
          11900000
         ],
         "xaxis": "x",
         "y": [
          "2021-10-01T00:00:00"
         ],
         "yaxis": "y"
        },
        {
         "hovertemplate": "<b>%{hovertext}</b><br><br>organisation=Neiman Marcus<br>records lost=%{marker.size}<br>date=%{y}<extra></extra>",
         "hovertext": [
          "Neiman Marcus"
         ],
         "legendgroup": "Neiman Marcus",
         "marker": {
          "color": "#ab63fa",
          "size": [
           4600000
          ],
          "sizemode": "area",
          "sizeref": 194444.44444444444,
          "symbol": "circle"
         },
         "mode": "markers",
         "name": "Neiman Marcus",
         "orientation": "h",
         "showlegend": true,
         "type": "scatter",
         "x": [
          4600000
         ],
         "xaxis": "x",
         "y": [
          "2021-09-01T00:00:00"
         ],
         "yaxis": "y"
        },
        {
         "hovertemplate": "<b>%{hovertext}</b><br><br>organisation=Epik<br>records lost=%{marker.size}<br>date=%{y}<extra></extra>",
         "hovertext": [
          "Epik"
         ],
         "legendgroup": "Epik",
         "marker": {
          "color": "#FFA15A",
          "size": [
           15000000
          ],
          "sizemode": "area",
          "sizeref": 194444.44444444444,
          "symbol": "circle"
         },
         "mode": "markers",
         "name": "Epik",
         "orientation": "h",
         "showlegend": true,
         "type": "scatter",
         "x": [
          15000000
         ],
         "xaxis": "x",
         "y": [
          "2021-09-01T00:00:00"
         ],
         "yaxis": "y"
        },
        {
         "hovertemplate": "<b>%{hovertext}</b><br><br>organisation=Thailand visitors<br>records lost=%{marker.size}<br>date=%{y}<extra></extra>",
         "hovertext": [
          "Thailand visitors"
         ],
         "legendgroup": "Thailand visitors",
         "marker": {
          "color": "#19d3f3",
          "size": [
           100000000
          ],
          "sizemode": "area",
          "sizeref": 194444.44444444444,
          "symbol": "circle"
         },
         "mode": "markers",
         "name": "Thailand visitors",
         "orientation": "h",
         "showlegend": true,
         "type": "scatter",
         "x": [
          100000000
         ],
         "xaxis": "x",
         "y": [
          "2021-09-01T00:00:00"
         ],
         "yaxis": "y"
        },
        {
         "hovertemplate": "<b>%{hovertext}</b><br><br>organisation=T-Mobile <br>records lost=%{marker.size}<br>date=%{y}<extra></extra>",
         "hovertext": [
          "T-Mobile "
         ],
         "legendgroup": "T-Mobile ",
         "marker": {
          "color": "#FF6692",
          "size": [
           40000000
          ],
          "sizemode": "area",
          "sizeref": 194444.44444444444,
          "symbol": "circle"
         },
         "mode": "markers",
         "name": "T-Mobile ",
         "orientation": "h",
         "showlegend": true,
         "type": "scatter",
         "x": [
          40000000
         ],
         "xaxis": "x",
         "y": [
          "2021-08-01T00:00:00"
         ],
         "yaxis": "y"
        },
        {
         "hovertemplate": "<b>%{hovertext}</b><br><br>organisation=Contact tracing data<br>records lost=%{marker.size}<br>date=%{y}<extra></extra>",
         "hovertext": [
          "Contact tracing data"
         ],
         "legendgroup": "Contact tracing data",
         "marker": {
          "color": "#B6E880",
          "size": [
           38000000
          ],
          "sizemode": "area",
          "sizeref": 194444.44444444444,
          "symbol": "circle"
         },
         "mode": "markers",
         "name": "Contact tracing data",
         "orientation": "h",
         "showlegend": true,
         "type": "scatter",
         "x": [
          38000000
         ],
         "xaxis": "x",
         "y": [
          "2021-08-01T00:00:00"
         ],
         "yaxis": "y"
        },
        {
         "hovertemplate": "<b>%{hovertext}</b><br><br>organisation=Estonian gov<br>records lost=%{marker.size}<br>date=%{y}<extra></extra>",
         "hovertext": [
          "Estonian gov"
         ],
         "legendgroup": "Estonian gov",
         "marker": {
          "color": "#FF97FF",
          "size": [
           280000
          ],
          "sizemode": "area",
          "sizeref": 194444.44444444444,
          "symbol": "circle"
         },
         "mode": "markers",
         "name": "Estonian gov",
         "orientation": "h",
         "showlegend": true,
         "type": "scatter",
         "x": [
          280000
         ],
         "xaxis": "x",
         "y": [
          "2021-07-01T00:00:00"
         ],
         "yaxis": "y"
        },
        {
         "hovertemplate": "<b>%{hovertext}</b><br><br>organisation=Guntrader<br>records lost=%{marker.size}<br>date=%{y}<extra></extra>",
         "hovertext": [
          "Guntrader"
         ],
         "legendgroup": "Guntrader",
         "marker": {
          "color": "#FECB52",
          "size": [
           111000
          ],
          "sizemode": "area",
          "sizeref": 194444.44444444444,
          "symbol": "circle"
         },
         "mode": "markers",
         "name": "Guntrader",
         "orientation": "h",
         "showlegend": true,
         "type": "scatter",
         "x": [
          111000
         ],
         "xaxis": "x",
         "y": [
          "2021-07-01T00:00:00"
         ],
         "yaxis": "y"
        },
        {
         "hovertemplate": "<b>%{hovertext}</b><br><br>organisation=Linkedin<br>records lost=%{marker.size}<br>date=%{y}<extra></extra>",
         "hovertext": [
          "Linkedin"
         ],
         "legendgroup": "Linkedin",
         "marker": {
          "color": "#636efa",
          "size": [
           700000000
          ],
          "sizemode": "area",
          "sizeref": 194444.44444444444,
          "symbol": "circle"
         },
         "mode": "markers",
         "name": "Linkedin",
         "orientation": "h",
         "showlegend": true,
         "type": "scatter",
         "x": [
          700000000
         ],
         "xaxis": "x",
         "y": [
          "2021-07-01T00:00:00"
         ],
         "yaxis": "y"
        },
        {
         "hovertemplate": "<b>%{hovertext}</b><br><br>organisation=VW<br>records lost=%{marker.size}<br>date=%{y}<extra></extra>",
         "hovertext": [
          "VW"
         ],
         "legendgroup": "VW",
         "marker": {
          "color": "#EF553B",
          "size": [
           3300000
          ],
          "sizemode": "area",
          "sizeref": 194444.44444444444,
          "symbol": "circle"
         },
         "mode": "markers",
         "name": "VW",
         "orientation": "h",
         "showlegend": true,
         "type": "scatter",
         "x": [
          3300000
         ],
         "xaxis": "x",
         "y": [
          "2021-06-01T00:00:00"
         ],
         "yaxis": "y"
        },
        {
         "hovertemplate": "<b>%{hovertext}</b><br><br>organisation=MacDonalds<br>records lost=%{marker.size}<br>date=%{y}<extra></extra>",
         "hovertext": [
          "MacDonalds"
         ],
         "legendgroup": "MacDonalds",
         "marker": {
          "color": "#00cc96",
          "size": [
           10000000
          ],
          "sizemode": "area",
          "sizeref": 194444.44444444444,
          "symbol": "circle"
         },
         "mode": "markers",
         "name": "MacDonalds",
         "orientation": "h",
         "showlegend": true,
         "type": "scatter",
         "x": [
          10000000
         ],
         "xaxis": "x",
         "y": [
          "2021-06-01T00:00:00"
         ],
         "yaxis": "y"
        },
        {
         "hovertemplate": "<b>%{hovertext}</b><br><br>organisation=Air India<br>records lost=%{marker.size}<br>date=%{y}<extra></extra>",
         "hovertext": [
          "Air India"
         ],
         "legendgroup": "Air India",
         "marker": {
          "color": "#ab63fa",
          "size": [
           4500000
          ],
          "sizemode": "area",
          "sizeref": 194444.44444444444,
          "symbol": "circle"
         },
         "mode": "markers",
         "name": "Air India",
         "orientation": "h",
         "showlegend": true,
         "type": "scatter",
         "x": [
          4500000
         ],
         "xaxis": "x",
         "y": [
          "2021-05-01T00:00:00"
         ],
         "yaxis": "y"
        },
        {
         "hovertemplate": "<b>%{hovertext}</b><br><br>organisation=Omiai dating app<br>records lost=%{marker.size}<br>date=%{y}<extra></extra>",
         "hovertext": [
          "Omiai dating app"
         ],
         "legendgroup": "Omiai dating app",
         "marker": {
          "color": "#FFA15A",
          "size": [
           1710000
          ],
          "sizemode": "area",
          "sizeref": 194444.44444444444,
          "symbol": "circle"
         },
         "mode": "markers",
         "name": "Omiai dating app",
         "orientation": "h",
         "showlegend": true,
         "type": "scatter",
         "x": [
          1710000
         ],
         "xaxis": "x",
         "y": [
          "2021-05-01T00:00:00"
         ],
         "yaxis": "y"
        },
        {
         "hovertemplate": "<b>%{hovertext}</b><br><br>organisation=Amazon Reviews<br>records lost=%{marker.size}<br>date=%{y}<extra></extra>",
         "hovertext": [
          "Amazon Reviews"
         ],
         "legendgroup": "Amazon Reviews",
         "marker": {
          "color": "#19d3f3",
          "size": [
           13124962
          ],
          "sizemode": "area",
          "sizeref": 194444.44444444444,
          "symbol": "circle"
         },
         "mode": "markers",
         "name": "Amazon Reviews",
         "orientation": "h",
         "showlegend": true,
         "type": "scatter",
         "x": [
          13124962
         ],
         "xaxis": "x",
         "y": [
          "2021-05-01T00:00:00"
         ],
         "yaxis": "y"
        },
        {
         "hovertemplate": "<b>%{hovertext}</b><br><br>organisation=Peloton<br>records lost=%{marker.size}<br>date=%{y}<extra></extra>",
         "hovertext": [
          "Peloton"
         ],
         "legendgroup": "Peloton",
         "marker": {
          "color": "#FF6692",
          "size": [
           3000000
          ],
          "sizemode": "area",
          "sizeref": 194444.44444444444,
          "symbol": "circle"
         },
         "mode": "markers",
         "name": "Peloton",
         "orientation": "h",
         "showlegend": true,
         "type": "scatter",
         "x": [
          3000000
         ],
         "xaxis": "x",
         "y": [
          "2021-05-01T00:00:00"
         ],
         "yaxis": "y"
        },
        {
         "hovertemplate": "<b>%{hovertext}</b><br><br>organisation=Digital Ocean<br>records lost=%{marker.size}<br>date=%{y}<extra></extra>",
         "hovertext": [
          "Digital Ocean"
         ],
         "legendgroup": "Digital Ocean",
         "marker": {
          "color": "#B6E880",
          "size": [
           10000000
          ],
          "sizemode": "area",
          "sizeref": 194444.44444444444,
          "symbol": "circle"
         },
         "mode": "markers",
         "name": "Digital Ocean",
         "orientation": "h",
         "showlegend": true,
         "type": "scatter",
         "x": [
          10000000
         ],
         "xaxis": "x",
         "y": [
          "2021-04-01T00:00:00"
         ],
         "yaxis": "y"
        },
        {
         "hovertemplate": "<b>%{hovertext}</b><br><br>organisation=Park Mobile<br>records lost=%{marker.size}<br>date=%{y}<extra></extra>",
         "hovertext": [
          "Park Mobile"
         ],
         "legendgroup": "Park Mobile",
         "marker": {
          "color": "#FF97FF",
          "size": [
           21000000
          ],
          "sizemode": "area",
          "sizeref": 194444.44444444444,
          "symbol": "circle"
         },
         "mode": "markers",
         "name": "Park Mobile",
         "orientation": "h",
         "showlegend": true,
         "type": "scatter",
         "x": [
          21000000
         ],
         "xaxis": "x",
         "y": [
          "2021-04-01T00:00:00"
         ],
         "yaxis": "y"
        },
        {
         "hovertemplate": "<b>%{hovertext}</b><br><br>organisation=Ubiquiti<br>records lost=%{marker.size}<br>date=%{y}<extra></extra>",
         "hovertext": [
          "Ubiquiti"
         ],
         "legendgroup": "Ubiquiti",
         "marker": {
          "color": "#FECB52",
          "size": [
           16000000
          ],
          "sizemode": "area",
          "sizeref": 194444.44444444444,
          "symbol": "circle"
         },
         "mode": "markers",
         "name": "Ubiquiti",
         "orientation": "h",
         "showlegend": true,
         "type": "scatter",
         "x": [
          16000000
         ],
         "xaxis": "x",
         "y": [
          "2021-02-01T00:00:00"
         ],
         "yaxis": "y"
        },
        {
         "hovertemplate": "<b>%{hovertext}</b><br><br>organisation=Meet Mindful<br>records lost=%{marker.size}<br>date=%{y}<extra></extra>",
         "hovertext": [
          "Meet Mindful"
         ],
         "legendgroup": "Meet Mindful",
         "marker": {
          "color": "#636efa",
          "size": [
           2240000
          ],
          "sizemode": "area",
          "sizeref": 194444.44444444444,
          "symbol": "circle"
         },
         "mode": "markers",
         "name": "Meet Mindful",
         "orientation": "h",
         "showlegend": true,
         "type": "scatter",
         "x": [
          2240000
         ],
         "xaxis": "x",
         "y": [
          "2021-02-01T00:00:00"
         ],
         "yaxis": "y"
        },
        {
         "hovertemplate": "<b>%{hovertext}</b><br><br>organisation=Experian Brazil<br>records lost=%{marker.size}<br>date=%{y}<extra></extra>",
         "hovertext": [
          "Experian Brazil"
         ],
         "legendgroup": "Experian Brazil",
         "marker": {
          "color": "#EF553B",
          "size": [
           220000000
          ],
          "sizemode": "area",
          "sizeref": 194444.44444444444,
          "symbol": "circle"
         },
         "mode": "markers",
         "name": "Experian Brazil",
         "orientation": "h",
         "showlegend": true,
         "type": "scatter",
         "x": [
          220000000
         ],
         "xaxis": "x",
         "y": [
          "2021-02-01T00:00:00"
         ],
         "yaxis": "y"
        },
        {
         "hovertemplate": "<b>%{hovertext}</b><br><br>organisation=Gab<br>records lost=%{marker.size}<br>date=%{y}<extra></extra>",
         "hovertext": [
          "Gab"
         ],
         "legendgroup": "Gab",
         "marker": {
          "color": "#00cc96",
          "size": [
           4000000
          ],
          "sizemode": "area",
          "sizeref": 194444.44444444444,
          "symbol": "circle"
         },
         "mode": "markers",
         "name": "Gab",
         "orientation": "h",
         "showlegend": true,
         "type": "scatter",
         "x": [
          4000000
         ],
         "xaxis": "x",
         "y": [
          "2021-03-01T00:00:00"
         ],
         "yaxis": "y"
        },
        {
         "hovertemplate": "<b>%{hovertext}</b><br><br>organisation=Star Alliance<br>records lost=%{marker.size}<br>date=%{y}<extra></extra>",
         "hovertext": [
          "Star Alliance"
         ],
         "legendgroup": "Star Alliance",
         "marker": {
          "color": "#ab63fa",
          "size": [
           16000000
          ],
          "sizemode": "area",
          "sizeref": 194444.44444444444,
          "symbol": "circle"
         },
         "mode": "markers",
         "name": "Star Alliance",
         "orientation": "h",
         "showlegend": true,
         "type": "scatter",
         "x": [
          16000000
         ],
         "xaxis": "x",
         "y": [
          "2021-03-01T00:00:00"
         ],
         "yaxis": "y"
        },
        {
         "hovertemplate": "<b>%{hovertext}</b><br><br>organisation=Facebook<br>records lost=%{marker.size}<br>date=%{y}<extra></extra>",
         "hovertext": [
          "Facebook"
         ],
         "legendgroup": "Facebook",
         "marker": {
          "color": "#FFA15A",
          "size": [
           533000000
          ],
          "sizemode": "area",
          "sizeref": 194444.44444444444,
          "symbol": "circle"
         },
         "mode": "markers",
         "name": "Facebook",
         "orientation": "h",
         "showlegend": true,
         "type": "scatter",
         "x": [
          533000000
         ],
         "xaxis": "x",
         "y": [
          "2021-03-01T00:00:00"
         ],
         "yaxis": "y"
        }
       ],
       "layout": {
        "legend": {
         "itemsizing": "constant",
         "title": {
          "text": "organisation"
         },
         "tracegroupgap": 0
        },
        "margin": {
         "t": 60
        },
        "template": {
         "data": {
          "bar": [
           {
            "error_x": {
             "color": "#2a3f5f"
            },
            "error_y": {
             "color": "#2a3f5f"
            },
            "marker": {
             "line": {
              "color": "#E5ECF6",
              "width": 0.5
             },
             "pattern": {
              "fillmode": "overlay",
              "size": 10,
              "solidity": 0.2
             }
            },
            "type": "bar"
           }
          ],
          "barpolar": [
           {
            "marker": {
             "line": {
              "color": "#E5ECF6",
              "width": 0.5
             },
             "pattern": {
              "fillmode": "overlay",
              "size": 10,
              "solidity": 0.2
             }
            },
            "type": "barpolar"
           }
          ],
          "carpet": [
           {
            "aaxis": {
             "endlinecolor": "#2a3f5f",
             "gridcolor": "white",
             "linecolor": "white",
             "minorgridcolor": "white",
             "startlinecolor": "#2a3f5f"
            },
            "baxis": {
             "endlinecolor": "#2a3f5f",
             "gridcolor": "white",
             "linecolor": "white",
             "minorgridcolor": "white",
             "startlinecolor": "#2a3f5f"
            },
            "type": "carpet"
           }
          ],
          "choropleth": [
           {
            "colorbar": {
             "outlinewidth": 0,
             "ticks": ""
            },
            "type": "choropleth"
           }
          ],
          "contour": [
           {
            "colorbar": {
             "outlinewidth": 0,
             "ticks": ""
            },
            "colorscale": [
             [
              0,
              "#0d0887"
             ],
             [
              0.1111111111111111,
              "#46039f"
             ],
             [
              0.2222222222222222,
              "#7201a8"
             ],
             [
              0.3333333333333333,
              "#9c179e"
             ],
             [
              0.4444444444444444,
              "#bd3786"
             ],
             [
              0.5555555555555556,
              "#d8576b"
             ],
             [
              0.6666666666666666,
              "#ed7953"
             ],
             [
              0.7777777777777778,
              "#fb9f3a"
             ],
             [
              0.8888888888888888,
              "#fdca26"
             ],
             [
              1,
              "#f0f921"
             ]
            ],
            "type": "contour"
           }
          ],
          "contourcarpet": [
           {
            "colorbar": {
             "outlinewidth": 0,
             "ticks": ""
            },
            "type": "contourcarpet"
           }
          ],
          "heatmap": [
           {
            "colorbar": {
             "outlinewidth": 0,
             "ticks": ""
            },
            "colorscale": [
             [
              0,
              "#0d0887"
             ],
             [
              0.1111111111111111,
              "#46039f"
             ],
             [
              0.2222222222222222,
              "#7201a8"
             ],
             [
              0.3333333333333333,
              "#9c179e"
             ],
             [
              0.4444444444444444,
              "#bd3786"
             ],
             [
              0.5555555555555556,
              "#d8576b"
             ],
             [
              0.6666666666666666,
              "#ed7953"
             ],
             [
              0.7777777777777778,
              "#fb9f3a"
             ],
             [
              0.8888888888888888,
              "#fdca26"
             ],
             [
              1,
              "#f0f921"
             ]
            ],
            "type": "heatmap"
           }
          ],
          "heatmapgl": [
           {
            "colorbar": {
             "outlinewidth": 0,
             "ticks": ""
            },
            "colorscale": [
             [
              0,
              "#0d0887"
             ],
             [
              0.1111111111111111,
              "#46039f"
             ],
             [
              0.2222222222222222,
              "#7201a8"
             ],
             [
              0.3333333333333333,
              "#9c179e"
             ],
             [
              0.4444444444444444,
              "#bd3786"
             ],
             [
              0.5555555555555556,
              "#d8576b"
             ],
             [
              0.6666666666666666,
              "#ed7953"
             ],
             [
              0.7777777777777778,
              "#fb9f3a"
             ],
             [
              0.8888888888888888,
              "#fdca26"
             ],
             [
              1,
              "#f0f921"
             ]
            ],
            "type": "heatmapgl"
           }
          ],
          "histogram": [
           {
            "marker": {
             "pattern": {
              "fillmode": "overlay",
              "size": 10,
              "solidity": 0.2
             }
            },
            "type": "histogram"
           }
          ],
          "histogram2d": [
           {
            "colorbar": {
             "outlinewidth": 0,
             "ticks": ""
            },
            "colorscale": [
             [
              0,
              "#0d0887"
             ],
             [
              0.1111111111111111,
              "#46039f"
             ],
             [
              0.2222222222222222,
              "#7201a8"
             ],
             [
              0.3333333333333333,
              "#9c179e"
             ],
             [
              0.4444444444444444,
              "#bd3786"
             ],
             [
              0.5555555555555556,
              "#d8576b"
             ],
             [
              0.6666666666666666,
              "#ed7953"
             ],
             [
              0.7777777777777778,
              "#fb9f3a"
             ],
             [
              0.8888888888888888,
              "#fdca26"
             ],
             [
              1,
              "#f0f921"
             ]
            ],
            "type": "histogram2d"
           }
          ],
          "histogram2dcontour": [
           {
            "colorbar": {
             "outlinewidth": 0,
             "ticks": ""
            },
            "colorscale": [
             [
              0,
              "#0d0887"
             ],
             [
              0.1111111111111111,
              "#46039f"
             ],
             [
              0.2222222222222222,
              "#7201a8"
             ],
             [
              0.3333333333333333,
              "#9c179e"
             ],
             [
              0.4444444444444444,
              "#bd3786"
             ],
             [
              0.5555555555555556,
              "#d8576b"
             ],
             [
              0.6666666666666666,
              "#ed7953"
             ],
             [
              0.7777777777777778,
              "#fb9f3a"
             ],
             [
              0.8888888888888888,
              "#fdca26"
             ],
             [
              1,
              "#f0f921"
             ]
            ],
            "type": "histogram2dcontour"
           }
          ],
          "mesh3d": [
           {
            "colorbar": {
             "outlinewidth": 0,
             "ticks": ""
            },
            "type": "mesh3d"
           }
          ],
          "parcoords": [
           {
            "line": {
             "colorbar": {
              "outlinewidth": 0,
              "ticks": ""
             }
            },
            "type": "parcoords"
           }
          ],
          "pie": [
           {
            "automargin": true,
            "type": "pie"
           }
          ],
          "scatter": [
           {
            "marker": {
             "colorbar": {
              "outlinewidth": 0,
              "ticks": ""
             }
            },
            "type": "scatter"
           }
          ],
          "scatter3d": [
           {
            "line": {
             "colorbar": {
              "outlinewidth": 0,
              "ticks": ""
             }
            },
            "marker": {
             "colorbar": {
              "outlinewidth": 0,
              "ticks": ""
             }
            },
            "type": "scatter3d"
           }
          ],
          "scattercarpet": [
           {
            "marker": {
             "colorbar": {
              "outlinewidth": 0,
              "ticks": ""
             }
            },
            "type": "scattercarpet"
           }
          ],
          "scattergeo": [
           {
            "marker": {
             "colorbar": {
              "outlinewidth": 0,
              "ticks": ""
             }
            },
            "type": "scattergeo"
           }
          ],
          "scattergl": [
           {
            "marker": {
             "colorbar": {
              "outlinewidth": 0,
              "ticks": ""
             }
            },
            "type": "scattergl"
           }
          ],
          "scattermapbox": [
           {
            "marker": {
             "colorbar": {
              "outlinewidth": 0,
              "ticks": ""
             }
            },
            "type": "scattermapbox"
           }
          ],
          "scatterpolar": [
           {
            "marker": {
             "colorbar": {
              "outlinewidth": 0,
              "ticks": ""
             }
            },
            "type": "scatterpolar"
           }
          ],
          "scatterpolargl": [
           {
            "marker": {
             "colorbar": {
              "outlinewidth": 0,
              "ticks": ""
             }
            },
            "type": "scatterpolargl"
           }
          ],
          "scatterternary": [
           {
            "marker": {
             "colorbar": {
              "outlinewidth": 0,
              "ticks": ""
             }
            },
            "type": "scatterternary"
           }
          ],
          "surface": [
           {
            "colorbar": {
             "outlinewidth": 0,
             "ticks": ""
            },
            "colorscale": [
             [
              0,
              "#0d0887"
             ],
             [
              0.1111111111111111,
              "#46039f"
             ],
             [
              0.2222222222222222,
              "#7201a8"
             ],
             [
              0.3333333333333333,
              "#9c179e"
             ],
             [
              0.4444444444444444,
              "#bd3786"
             ],
             [
              0.5555555555555556,
              "#d8576b"
             ],
             [
              0.6666666666666666,
              "#ed7953"
             ],
             [
              0.7777777777777778,
              "#fb9f3a"
             ],
             [
              0.8888888888888888,
              "#fdca26"
             ],
             [
              1,
              "#f0f921"
             ]
            ],
            "type": "surface"
           }
          ],
          "table": [
           {
            "cells": {
             "fill": {
              "color": "#EBF0F8"
             },
             "line": {
              "color": "white"
             }
            },
            "header": {
             "fill": {
              "color": "#C8D4E3"
             },
             "line": {
              "color": "white"
             }
            },
            "type": "table"
           }
          ]
         },
         "layout": {
          "annotationdefaults": {
           "arrowcolor": "#2a3f5f",
           "arrowhead": 0,
           "arrowwidth": 1
          },
          "autotypenumbers": "strict",
          "coloraxis": {
           "colorbar": {
            "outlinewidth": 0,
            "ticks": ""
           }
          },
          "colorscale": {
           "diverging": [
            [
             0,
             "#8e0152"
            ],
            [
             0.1,
             "#c51b7d"
            ],
            [
             0.2,
             "#de77ae"
            ],
            [
             0.3,
             "#f1b6da"
            ],
            [
             0.4,
             "#fde0ef"
            ],
            [
             0.5,
             "#f7f7f7"
            ],
            [
             0.6,
             "#e6f5d0"
            ],
            [
             0.7,
             "#b8e186"
            ],
            [
             0.8,
             "#7fbc41"
            ],
            [
             0.9,
             "#4d9221"
            ],
            [
             1,
             "#276419"
            ]
           ],
           "sequential": [
            [
             0,
             "#0d0887"
            ],
            [
             0.1111111111111111,
             "#46039f"
            ],
            [
             0.2222222222222222,
             "#7201a8"
            ],
            [
             0.3333333333333333,
             "#9c179e"
            ],
            [
             0.4444444444444444,
             "#bd3786"
            ],
            [
             0.5555555555555556,
             "#d8576b"
            ],
            [
             0.6666666666666666,
             "#ed7953"
            ],
            [
             0.7777777777777778,
             "#fb9f3a"
            ],
            [
             0.8888888888888888,
             "#fdca26"
            ],
            [
             1,
             "#f0f921"
            ]
           ],
           "sequentialminus": [
            [
             0,
             "#0d0887"
            ],
            [
             0.1111111111111111,
             "#46039f"
            ],
            [
             0.2222222222222222,
             "#7201a8"
            ],
            [
             0.3333333333333333,
             "#9c179e"
            ],
            [
             0.4444444444444444,
             "#bd3786"
            ],
            [
             0.5555555555555556,
             "#d8576b"
            ],
            [
             0.6666666666666666,
             "#ed7953"
            ],
            [
             0.7777777777777778,
             "#fb9f3a"
            ],
            [
             0.8888888888888888,
             "#fdca26"
            ],
            [
             1,
             "#f0f921"
            ]
           ]
          },
          "colorway": [
           "#636efa",
           "#EF553B",
           "#00cc96",
           "#ab63fa",
           "#FFA15A",
           "#19d3f3",
           "#FF6692",
           "#B6E880",
           "#FF97FF",
           "#FECB52"
          ],
          "font": {
           "color": "#2a3f5f"
          },
          "geo": {
           "bgcolor": "white",
           "lakecolor": "white",
           "landcolor": "#E5ECF6",
           "showlakes": true,
           "showland": true,
           "subunitcolor": "white"
          },
          "hoverlabel": {
           "align": "left"
          },
          "hovermode": "closest",
          "mapbox": {
           "style": "light"
          },
          "paper_bgcolor": "white",
          "plot_bgcolor": "#E5ECF6",
          "polar": {
           "angularaxis": {
            "gridcolor": "white",
            "linecolor": "white",
            "ticks": ""
           },
           "bgcolor": "#E5ECF6",
           "radialaxis": {
            "gridcolor": "white",
            "linecolor": "white",
            "ticks": ""
           }
          },
          "scene": {
           "xaxis": {
            "backgroundcolor": "#E5ECF6",
            "gridcolor": "white",
            "gridwidth": 2,
            "linecolor": "white",
            "showbackground": true,
            "ticks": "",
            "zerolinecolor": "white"
           },
           "yaxis": {
            "backgroundcolor": "#E5ECF6",
            "gridcolor": "white",
            "gridwidth": 2,
            "linecolor": "white",
            "showbackground": true,
            "ticks": "",
            "zerolinecolor": "white"
           },
           "zaxis": {
            "backgroundcolor": "#E5ECF6",
            "gridcolor": "white",
            "gridwidth": 2,
            "linecolor": "white",
            "showbackground": true,
            "ticks": "",
            "zerolinecolor": "white"
           }
          },
          "shapedefaults": {
           "line": {
            "color": "#2a3f5f"
           }
          },
          "ternary": {
           "aaxis": {
            "gridcolor": "white",
            "linecolor": "white",
            "ticks": ""
           },
           "baxis": {
            "gridcolor": "white",
            "linecolor": "white",
            "ticks": ""
           },
           "bgcolor": "#E5ECF6",
           "caxis": {
            "gridcolor": "white",
            "linecolor": "white",
            "ticks": ""
           }
          },
          "title": {
           "x": 0.05
          },
          "xaxis": {
           "automargin": true,
           "gridcolor": "white",
           "linecolor": "white",
           "ticks": "",
           "title": {
            "standoff": 15
           },
           "zerolinecolor": "white",
           "zerolinewidth": 2
          },
          "yaxis": {
           "automargin": true,
           "gridcolor": "white",
           "linecolor": "white",
           "ticks": "",
           "title": {
            "standoff": 15
           },
           "zerolinecolor": "white",
           "zerolinewidth": 2
          }
         }
        },
        "xaxis": {
         "anchor": "y",
         "domain": [
          0,
          1
         ],
         "title": {
          "text": "records lost"
         },
         "type": "log"
        },
        "yaxis": {
         "anchor": "x",
         "domain": [
          0,
          1
         ],
         "title": {
          "text": "date"
         }
        }
       }
      }
     },
     "metadata": {},
     "output_type": "display_data"
    },
    {
     "name": "stdout",
     "output_type": "stream",
     "text": [
      "2021\n"
     ]
    }
   ],
   "source": [
    "date = datetime.date.today()\n",
    "actual_year = int(date.strftime(\"%Y\"))\n",
    "\n",
    "\n",
    "fig = px.scatter(df[(df['year'] == actual_year)], x=\"records lost\", y=\"date\", \n",
    "\t         size=\"records lost\", color=\"organisation\",\n",
    "                 hover_name=\"organisation\", log_x=True, size_max=60)\n",
    "\n",
    "fig.show()\n",
    "print(actual_year)"
   ]
  }
 ],
 "metadata": {
  "interpreter": {
   "hash": "781744b4409b9da5085f09423be4e3ce07b6e38dfe730dc00e0a5fe5b6bf53c2"
  },
  "kernelspec": {
   "display_name": "Python 3.8.11 64-bit ('dash_py3.8': conda)",
   "language": "python",
   "name": "python3"
  },
  "language_info": {
   "codemirror_mode": {
    "name": "ipython",
    "version": 3
   },
   "file_extension": ".py",
   "mimetype": "text/x-python",
   "name": "python",
   "nbconvert_exporter": "python",
   "pygments_lexer": "ipython3",
   "version": "3.8.11"
  },
  "orig_nbformat": 4
 },
 "nbformat": 4,
 "nbformat_minor": 2
}
